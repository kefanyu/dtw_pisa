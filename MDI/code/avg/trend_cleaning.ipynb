{
 "cells": [
  {
   "cell_type": "code",
   "execution_count": 2,
   "metadata": {},
   "outputs": [],
   "source": [
    "import pandas as pd\n",
    "import numpy as np\n",
    "import xlrd"
   ]
  },
  {
   "cell_type": "code",
   "execution_count": 3,
   "metadata": {},
   "outputs": [
    {
     "data": {
      "text/html": [
       "<div>\n",
       "<style scoped>\n",
       "    .dataframe tbody tr th:only-of-type {\n",
       "        vertical-align: middle;\n",
       "    }\n",
       "\n",
       "    .dataframe tbody tr th {\n",
       "        vertical-align: top;\n",
       "    }\n",
       "\n",
       "    .dataframe thead th {\n",
       "        text-align: right;\n",
       "    }\n",
       "</style>\n",
       "<table border=\"1\" class=\"dataframe\">\n",
       "  <thead>\n",
       "    <tr style=\"text-align: right;\">\n",
       "      <th></th>\n",
       "      <th>Countries</th>\n",
       "      <th>2000</th>\n",
       "      <th>se_2000</th>\n",
       "    </tr>\n",
       "  </thead>\n",
       "  <tbody>\n",
       "    <tr>\n",
       "      <th>0</th>\n",
       "      <td>Australia</td>\n",
       "      <td>528.278505</td>\n",
       "      <td>3.522548</td>\n",
       "    </tr>\n",
       "    <tr>\n",
       "      <th>1</th>\n",
       "      <td>Austria</td>\n",
       "      <td>492.056007</td>\n",
       "      <td>2.692012</td>\n",
       "    </tr>\n",
       "    <tr>\n",
       "      <th>2</th>\n",
       "      <td>Belgium</td>\n",
       "      <td>507.12589</td>\n",
       "      <td>3.557848</td>\n",
       "    </tr>\n",
       "    <tr>\n",
       "      <th>3</th>\n",
       "      <td>Canada</td>\n",
       "      <td>534.312719</td>\n",
       "      <td>1.558731</td>\n",
       "    </tr>\n",
       "    <tr>\n",
       "      <th>4</th>\n",
       "      <td>Chile</td>\n",
       "      <td>409.556782</td>\n",
       "      <td>3.58574</td>\n",
       "    </tr>\n",
       "    <tr>\n",
       "      <th>...</th>\n",
       "      <td>...</td>\n",
       "      <td>...</td>\n",
       "      <td>...</td>\n",
       "    </tr>\n",
       "    <tr>\n",
       "      <th>82</th>\n",
       "      <td>Tunisia</td>\n",
       "      <td>—</td>\n",
       "      <td>†</td>\n",
       "    </tr>\n",
       "    <tr>\n",
       "      <th>83</th>\n",
       "      <td>Ukraine</td>\n",
       "      <td>—</td>\n",
       "      <td>†</td>\n",
       "    </tr>\n",
       "    <tr>\n",
       "      <th>84</th>\n",
       "      <td>United Arab Emirates</td>\n",
       "      <td>—</td>\n",
       "      <td>†</td>\n",
       "    </tr>\n",
       "    <tr>\n",
       "      <th>85</th>\n",
       "      <td>Uruguay</td>\n",
       "      <td>—</td>\n",
       "      <td>†</td>\n",
       "    </tr>\n",
       "    <tr>\n",
       "      <th>86</th>\n",
       "      <td>Viet Nam</td>\n",
       "      <td>—</td>\n",
       "      <td>†</td>\n",
       "    </tr>\n",
       "  </tbody>\n",
       "</table>\n",
       "<p>87 rows × 3 columns</p>\n",
       "</div>"
      ],
      "text/plain": [
       "               Countries        2000   se_2000\n",
       "0              Australia  528.278505  3.522548\n",
       "1                Austria  492.056007  2.692012\n",
       "2                Belgium   507.12589  3.557848\n",
       "3                 Canada  534.312719  1.558731\n",
       "4                  Chile  409.556782   3.58574\n",
       "..                   ...         ...       ...\n",
       "82               Tunisia           —         †\n",
       "83               Ukraine           —         †\n",
       "84  United Arab Emirates           —         †\n",
       "85               Uruguay           —         †\n",
       "86              Viet Nam           —         †\n",
       "\n",
       "[87 rows x 3 columns]"
      ]
     },
     "execution_count": 3,
     "metadata": {},
     "output_type": "execute_result"
    }
   ],
   "source": [
    "reading2000 = pd.read_excel(\"../data_all/reading/reading2000.xls\",sheet_name='Report 1- Table',skiprows=[1,2,3,4,5,6,7,8,9,10,11,100,101,102,103,104])\n",
    "reading2000.drop(['Unnamed: 0', 'Unnamed: 1'], axis=1, inplace=True)\n",
    "reading2000.rename({'Unnamed: 2': 'Countries', 'Unnamed: 3': '2000', 'Unnamed: 4': 'se_2000'}, axis=1, inplace=True)\n",
    "reading2000 = reading2000.drop(index=[87])\n",
    "reading2000"
   ]
  },
  {
   "cell_type": "code",
   "execution_count": 4,
   "metadata": {},
   "outputs": [
    {
     "data": {
      "text/html": [
       "<div>\n",
       "<style scoped>\n",
       "    .dataframe tbody tr th:only-of-type {\n",
       "        vertical-align: middle;\n",
       "    }\n",
       "\n",
       "    .dataframe tbody tr th {\n",
       "        vertical-align: top;\n",
       "    }\n",
       "\n",
       "    .dataframe thead th {\n",
       "        text-align: right;\n",
       "    }\n",
       "</style>\n",
       "<table border=\"1\" class=\"dataframe\">\n",
       "  <thead>\n",
       "    <tr style=\"text-align: right;\">\n",
       "      <th></th>\n",
       "      <th>Countries</th>\n",
       "      <th>2003</th>\n",
       "      <th>se_2003</th>\n",
       "    </tr>\n",
       "  </thead>\n",
       "  <tbody>\n",
       "    <tr>\n",
       "      <th>0</th>\n",
       "      <td>Australia</td>\n",
       "      <td>525.427007</td>\n",
       "      <td>2.126437</td>\n",
       "    </tr>\n",
       "    <tr>\n",
       "      <th>1</th>\n",
       "      <td>Austria</td>\n",
       "      <td>490.69324</td>\n",
       "      <td>3.758353</td>\n",
       "    </tr>\n",
       "    <tr>\n",
       "      <th>2</th>\n",
       "      <td>Belgium</td>\n",
       "      <td>506.987332</td>\n",
       "      <td>2.581749</td>\n",
       "    </tr>\n",
       "    <tr>\n",
       "      <th>3</th>\n",
       "      <td>Canada</td>\n",
       "      <td>527.913612</td>\n",
       "      <td>1.746668</td>\n",
       "    </tr>\n",
       "    <tr>\n",
       "      <th>4</th>\n",
       "      <td>Chile</td>\n",
       "      <td>—</td>\n",
       "      <td>†</td>\n",
       "    </tr>\n",
       "    <tr>\n",
       "      <th>...</th>\n",
       "      <td>...</td>\n",
       "      <td>...</td>\n",
       "      <td>...</td>\n",
       "    </tr>\n",
       "    <tr>\n",
       "      <th>82</th>\n",
       "      <td>Tunisia</td>\n",
       "      <td>374.622404</td>\n",
       "      <td>2.807848</td>\n",
       "    </tr>\n",
       "    <tr>\n",
       "      <th>83</th>\n",
       "      <td>Ukraine</td>\n",
       "      <td>—</td>\n",
       "      <td>†</td>\n",
       "    </tr>\n",
       "    <tr>\n",
       "      <th>84</th>\n",
       "      <td>United Arab Emirates</td>\n",
       "      <td>—</td>\n",
       "      <td>†</td>\n",
       "    </tr>\n",
       "    <tr>\n",
       "      <th>85</th>\n",
       "      <td>Uruguay</td>\n",
       "      <td>434.149758</td>\n",
       "      <td>3.432597</td>\n",
       "    </tr>\n",
       "    <tr>\n",
       "      <th>86</th>\n",
       "      <td>Viet Nam</td>\n",
       "      <td>—</td>\n",
       "      <td>†</td>\n",
       "    </tr>\n",
       "  </tbody>\n",
       "</table>\n",
       "<p>87 rows × 3 columns</p>\n",
       "</div>"
      ],
      "text/plain": [
       "               Countries        2003   se_2003\n",
       "0              Australia  525.427007  2.126437\n",
       "1                Austria   490.69324  3.758353\n",
       "2                Belgium  506.987332  2.581749\n",
       "3                 Canada  527.913612  1.746668\n",
       "4                  Chile           —         †\n",
       "..                   ...         ...       ...\n",
       "82               Tunisia  374.622404  2.807848\n",
       "83               Ukraine           —         †\n",
       "84  United Arab Emirates           —         †\n",
       "85               Uruguay  434.149758  3.432597\n",
       "86              Viet Nam           —         †\n",
       "\n",
       "[87 rows x 3 columns]"
      ]
     },
     "execution_count": 4,
     "metadata": {},
     "output_type": "execute_result"
    }
   ],
   "source": [
    "reading2003 = pd.read_excel(\"../data_all/reading/reading2003.xls\",sheet_name='Report 1- Table',skiprows=[1,2,3,4,5,6,7,8,9,10,11,100,101,102,103,104])\n",
    "reading2003.drop(['Unnamed: 0', 'Unnamed: 1'], axis=1, inplace=True)\n",
    "reading2003.rename({'Unnamed: 2': 'Countries', 'Unnamed: 3': '2003', 'Unnamed: 4': 'se_2003'}, axis=1, inplace=True)\n",
    "reading2003 = reading2003.drop(index=[87])\n",
    "reading2003"
   ]
  },
  {
   "cell_type": "code",
   "execution_count": 5,
   "metadata": {},
   "outputs": [
    {
     "data": {
      "text/html": [
       "<div>\n",
       "<style scoped>\n",
       "    .dataframe tbody tr th:only-of-type {\n",
       "        vertical-align: middle;\n",
       "    }\n",
       "\n",
       "    .dataframe tbody tr th {\n",
       "        vertical-align: top;\n",
       "    }\n",
       "\n",
       "    .dataframe thead th {\n",
       "        text-align: right;\n",
       "    }\n",
       "</style>\n",
       "<table border=\"1\" class=\"dataframe\">\n",
       "  <thead>\n",
       "    <tr style=\"text-align: right;\">\n",
       "      <th></th>\n",
       "      <th>Countries</th>\n",
       "      <th>2006</th>\n",
       "      <th>se_2006</th>\n",
       "    </tr>\n",
       "  </thead>\n",
       "  <tbody>\n",
       "    <tr>\n",
       "      <th>0</th>\n",
       "      <td>Australia</td>\n",
       "      <td>512.893292</td>\n",
       "      <td>2.062032</td>\n",
       "    </tr>\n",
       "    <tr>\n",
       "      <th>1</th>\n",
       "      <td>Austria</td>\n",
       "      <td>490.193977</td>\n",
       "      <td>4.080006</td>\n",
       "    </tr>\n",
       "    <tr>\n",
       "      <th>2</th>\n",
       "      <td>Belgium</td>\n",
       "      <td>500.900595</td>\n",
       "      <td>3.041255</td>\n",
       "    </tr>\n",
       "    <tr>\n",
       "      <th>3</th>\n",
       "      <td>Canada</td>\n",
       "      <td>527.011296</td>\n",
       "      <td>2.438691</td>\n",
       "    </tr>\n",
       "    <tr>\n",
       "      <th>4</th>\n",
       "      <td>Chile</td>\n",
       "      <td>442.091346</td>\n",
       "      <td>4.99265</td>\n",
       "    </tr>\n",
       "    <tr>\n",
       "      <th>...</th>\n",
       "      <td>...</td>\n",
       "      <td>...</td>\n",
       "      <td>...</td>\n",
       "    </tr>\n",
       "    <tr>\n",
       "      <th>82</th>\n",
       "      <td>Tunisia</td>\n",
       "      <td>380.33683</td>\n",
       "      <td>4.020545</td>\n",
       "    </tr>\n",
       "    <tr>\n",
       "      <th>83</th>\n",
       "      <td>Ukraine</td>\n",
       "      <td>—</td>\n",
       "      <td>†</td>\n",
       "    </tr>\n",
       "    <tr>\n",
       "      <th>84</th>\n",
       "      <td>United Arab Emirates</td>\n",
       "      <td>—</td>\n",
       "      <td>†</td>\n",
       "    </tr>\n",
       "    <tr>\n",
       "      <th>85</th>\n",
       "      <td>Uruguay</td>\n",
       "      <td>412.516733</td>\n",
       "      <td>3.434069</td>\n",
       "    </tr>\n",
       "    <tr>\n",
       "      <th>86</th>\n",
       "      <td>Viet Nam</td>\n",
       "      <td>—</td>\n",
       "      <td>†</td>\n",
       "    </tr>\n",
       "  </tbody>\n",
       "</table>\n",
       "<p>87 rows × 3 columns</p>\n",
       "</div>"
      ],
      "text/plain": [
       "               Countries        2006   se_2006\n",
       "0              Australia  512.893292  2.062032\n",
       "1                Austria  490.193977  4.080006\n",
       "2                Belgium  500.900595  3.041255\n",
       "3                 Canada  527.011296  2.438691\n",
       "4                  Chile  442.091346   4.99265\n",
       "..                   ...         ...       ...\n",
       "82               Tunisia   380.33683  4.020545\n",
       "83               Ukraine           —         †\n",
       "84  United Arab Emirates           —         †\n",
       "85               Uruguay  412.516733  3.434069\n",
       "86              Viet Nam           —         †\n",
       "\n",
       "[87 rows x 3 columns]"
      ]
     },
     "execution_count": 5,
     "metadata": {},
     "output_type": "execute_result"
    }
   ],
   "source": [
    "reading2006 = pd.read_excel(\"../data_all/reading/reading2006.xls\",sheet_name='Report 1- Table',skiprows=[1,2,3,4,5,6,7,8,9,10,11,100,101,102,103,104])\n",
    "reading2006.drop(['Unnamed: 0', 'Unnamed: 1'], axis=1, inplace=True)\n",
    "reading2006.rename({'Unnamed: 2': 'Countries', 'Unnamed: 3': '2006', 'Unnamed: 4': 'se_2006'}, axis=1, inplace=True)\n",
    "reading2006 = reading2006.drop(index=[87])\n",
    "reading2006"
   ]
  },
  {
   "cell_type": "code",
   "execution_count": 6,
   "metadata": {},
   "outputs": [
    {
     "data": {
      "text/html": [
       "<div>\n",
       "<style scoped>\n",
       "    .dataframe tbody tr th:only-of-type {\n",
       "        vertical-align: middle;\n",
       "    }\n",
       "\n",
       "    .dataframe tbody tr th {\n",
       "        vertical-align: top;\n",
       "    }\n",
       "\n",
       "    .dataframe thead th {\n",
       "        text-align: right;\n",
       "    }\n",
       "</style>\n",
       "<table border=\"1\" class=\"dataframe\">\n",
       "  <thead>\n",
       "    <tr style=\"text-align: right;\">\n",
       "      <th></th>\n",
       "      <th>Countries</th>\n",
       "      <th>2009</th>\n",
       "      <th>se_2009</th>\n",
       "    </tr>\n",
       "  </thead>\n",
       "  <tbody>\n",
       "    <tr>\n",
       "      <th>0</th>\n",
       "      <td>Australia</td>\n",
       "      <td>514.900655</td>\n",
       "      <td>2.337421</td>\n",
       "    </tr>\n",
       "    <tr>\n",
       "      <th>1</th>\n",
       "      <td>Austria</td>\n",
       "      <td>470.283632</td>\n",
       "      <td>2.948082</td>\n",
       "    </tr>\n",
       "    <tr>\n",
       "      <th>2</th>\n",
       "      <td>Belgium</td>\n",
       "      <td>505.945796</td>\n",
       "      <td>2.34976</td>\n",
       "    </tr>\n",
       "    <tr>\n",
       "      <th>3</th>\n",
       "      <td>Canada</td>\n",
       "      <td>524.241833</td>\n",
       "      <td>1.483177</td>\n",
       "    </tr>\n",
       "    <tr>\n",
       "      <th>4</th>\n",
       "      <td>Chile</td>\n",
       "      <td>449.369607</td>\n",
       "      <td>3.125474</td>\n",
       "    </tr>\n",
       "    <tr>\n",
       "      <th>...</th>\n",
       "      <td>...</td>\n",
       "      <td>...</td>\n",
       "      <td>...</td>\n",
       "    </tr>\n",
       "    <tr>\n",
       "      <th>82</th>\n",
       "      <td>Tunisia</td>\n",
       "      <td>403.632656</td>\n",
       "      <td>2.879896</td>\n",
       "    </tr>\n",
       "    <tr>\n",
       "      <th>83</th>\n",
       "      <td>Ukraine</td>\n",
       "      <td>—</td>\n",
       "      <td>†</td>\n",
       "    </tr>\n",
       "    <tr>\n",
       "      <th>84</th>\n",
       "      <td>United Arab Emirates</td>\n",
       "      <td>—</td>\n",
       "      <td>†</td>\n",
       "    </tr>\n",
       "    <tr>\n",
       "      <th>85</th>\n",
       "      <td>Uruguay</td>\n",
       "      <td>425.813359</td>\n",
       "      <td>2.604443</td>\n",
       "    </tr>\n",
       "    <tr>\n",
       "      <th>86</th>\n",
       "      <td>Viet Nam</td>\n",
       "      <td>—</td>\n",
       "      <td>†</td>\n",
       "    </tr>\n",
       "  </tbody>\n",
       "</table>\n",
       "<p>87 rows × 3 columns</p>\n",
       "</div>"
      ],
      "text/plain": [
       "               Countries        2009   se_2009\n",
       "0              Australia  514.900655  2.337421\n",
       "1                Austria  470.283632  2.948082\n",
       "2                Belgium  505.945796   2.34976\n",
       "3                 Canada  524.241833  1.483177\n",
       "4                  Chile  449.369607  3.125474\n",
       "..                   ...         ...       ...\n",
       "82               Tunisia  403.632656  2.879896\n",
       "83               Ukraine           —         †\n",
       "84  United Arab Emirates           —         †\n",
       "85               Uruguay  425.813359  2.604443\n",
       "86              Viet Nam           —         †\n",
       "\n",
       "[87 rows x 3 columns]"
      ]
     },
     "execution_count": 6,
     "metadata": {},
     "output_type": "execute_result"
    }
   ],
   "source": [
    "reading2009 = pd.read_excel(\"../data_all/reading/reading2009.xls\",sheet_name='Report 1- Table',skiprows=[1,2,3,4,5,6,7,8,9,10,11,100,101,102,103,104])\n",
    "reading2009.drop(['Unnamed: 0', 'Unnamed: 1'], axis=1, inplace=True)\n",
    "reading2009.rename({'Unnamed: 2': 'Countries', 'Unnamed: 3': '2009', 'Unnamed: 4': 'se_2009'}, axis=1, inplace=True)\n",
    "reading2009 = reading2009.drop(index=[87])\n",
    "reading2009"
   ]
  },
  {
   "cell_type": "code",
   "execution_count": 7,
   "metadata": {},
   "outputs": [
    {
     "data": {
      "text/html": [
       "<div>\n",
       "<style scoped>\n",
       "    .dataframe tbody tr th:only-of-type {\n",
       "        vertical-align: middle;\n",
       "    }\n",
       "\n",
       "    .dataframe tbody tr th {\n",
       "        vertical-align: top;\n",
       "    }\n",
       "\n",
       "    .dataframe thead th {\n",
       "        text-align: right;\n",
       "    }\n",
       "</style>\n",
       "<table border=\"1\" class=\"dataframe\">\n",
       "  <thead>\n",
       "    <tr style=\"text-align: right;\">\n",
       "      <th></th>\n",
       "      <th>Countries</th>\n",
       "      <th>2012</th>\n",
       "      <th>se_2012</th>\n",
       "    </tr>\n",
       "  </thead>\n",
       "  <tbody>\n",
       "    <tr>\n",
       "      <th>0</th>\n",
       "      <td>Australia</td>\n",
       "      <td>511.803998</td>\n",
       "      <td>1.576799</td>\n",
       "    </tr>\n",
       "    <tr>\n",
       "      <th>1</th>\n",
       "      <td>Austria</td>\n",
       "      <td>489.609335</td>\n",
       "      <td>2.761191</td>\n",
       "    </tr>\n",
       "    <tr>\n",
       "      <th>2</th>\n",
       "      <td>Belgium</td>\n",
       "      <td>508.617877</td>\n",
       "      <td>2.254063</td>\n",
       "    </tr>\n",
       "    <tr>\n",
       "      <th>3</th>\n",
       "      <td>Canada</td>\n",
       "      <td>523.124003</td>\n",
       "      <td>1.926378</td>\n",
       "    </tr>\n",
       "    <tr>\n",
       "      <th>4</th>\n",
       "      <td>Chile</td>\n",
       "      <td>441.398164</td>\n",
       "      <td>2.902103</td>\n",
       "    </tr>\n",
       "    <tr>\n",
       "      <th>...</th>\n",
       "      <td>...</td>\n",
       "      <td>...</td>\n",
       "      <td>...</td>\n",
       "    </tr>\n",
       "    <tr>\n",
       "      <th>82</th>\n",
       "      <td>Tunisia</td>\n",
       "      <td>404.078467</td>\n",
       "      <td>4.508586</td>\n",
       "    </tr>\n",
       "    <tr>\n",
       "      <th>83</th>\n",
       "      <td>Ukraine</td>\n",
       "      <td>—</td>\n",
       "      <td>†</td>\n",
       "    </tr>\n",
       "    <tr>\n",
       "      <th>84</th>\n",
       "      <td>United Arab Emirates</td>\n",
       "      <td>441.703736</td>\n",
       "      <td>2.496226</td>\n",
       "    </tr>\n",
       "    <tr>\n",
       "      <th>85</th>\n",
       "      <td>Uruguay</td>\n",
       "      <td>411.348919</td>\n",
       "      <td>3.155122</td>\n",
       "    </tr>\n",
       "    <tr>\n",
       "      <th>86</th>\n",
       "      <td>Viet Nam</td>\n",
       "      <td>508.218991</td>\n",
       "      <td>4.396818</td>\n",
       "    </tr>\n",
       "  </tbody>\n",
       "</table>\n",
       "<p>87 rows × 3 columns</p>\n",
       "</div>"
      ],
      "text/plain": [
       "               Countries        2012   se_2012\n",
       "0              Australia  511.803998  1.576799\n",
       "1                Austria  489.609335  2.761191\n",
       "2                Belgium  508.617877  2.254063\n",
       "3                 Canada  523.124003  1.926378\n",
       "4                  Chile  441.398164  2.902103\n",
       "..                   ...         ...       ...\n",
       "82               Tunisia  404.078467  4.508586\n",
       "83               Ukraine           —         †\n",
       "84  United Arab Emirates  441.703736  2.496226\n",
       "85               Uruguay  411.348919  3.155122\n",
       "86              Viet Nam  508.218991  4.396818\n",
       "\n",
       "[87 rows x 3 columns]"
      ]
     },
     "execution_count": 7,
     "metadata": {},
     "output_type": "execute_result"
    }
   ],
   "source": [
    "reading2012 = pd.read_excel(\"../data_all/reading/reading2012.xls\",sheet_name='Report 1- Table',skiprows=[1,2,3,4,5,6,7,8,9,10,11,100,101,102,103,104])\n",
    "reading2012.drop(['Unnamed: 0', 'Unnamed: 1'], axis=1, inplace=True)\n",
    "reading2012.rename({'Unnamed: 2': 'Countries', 'Unnamed: 3': '2012', 'Unnamed: 4': 'se_2012'}, axis=1, inplace=True)\n",
    "reading2012 = reading2012.drop(index=[87])\n",
    "reading2012"
   ]
  },
  {
   "cell_type": "code",
   "execution_count": 8,
   "metadata": {},
   "outputs": [
    {
     "data": {
      "text/html": [
       "<div>\n",
       "<style scoped>\n",
       "    .dataframe tbody tr th:only-of-type {\n",
       "        vertical-align: middle;\n",
       "    }\n",
       "\n",
       "    .dataframe tbody tr th {\n",
       "        vertical-align: top;\n",
       "    }\n",
       "\n",
       "    .dataframe thead th {\n",
       "        text-align: right;\n",
       "    }\n",
       "</style>\n",
       "<table border=\"1\" class=\"dataframe\">\n",
       "  <thead>\n",
       "    <tr style=\"text-align: right;\">\n",
       "      <th></th>\n",
       "      <th>Countries</th>\n",
       "      <th>2015</th>\n",
       "      <th>se_2015</th>\n",
       "    </tr>\n",
       "  </thead>\n",
       "  <tbody>\n",
       "    <tr>\n",
       "      <th>0</th>\n",
       "      <td>Australia</td>\n",
       "      <td>502.90056</td>\n",
       "      <td>1.690892</td>\n",
       "    </tr>\n",
       "    <tr>\n",
       "      <th>1</th>\n",
       "      <td>Austria</td>\n",
       "      <td>484.865597</td>\n",
       "      <td>2.835278</td>\n",
       "    </tr>\n",
       "    <tr>\n",
       "      <th>2</th>\n",
       "      <td>Belgium</td>\n",
       "      <td>498.524189</td>\n",
       "      <td>2.415706</td>\n",
       "    </tr>\n",
       "    <tr>\n",
       "      <th>3</th>\n",
       "      <td>Canada</td>\n",
       "      <td>526.667805</td>\n",
       "      <td>2.30094</td>\n",
       "    </tr>\n",
       "    <tr>\n",
       "      <th>4</th>\n",
       "      <td>Chile</td>\n",
       "      <td>458.570876</td>\n",
       "      <td>2.584878</td>\n",
       "    </tr>\n",
       "    <tr>\n",
       "      <th>...</th>\n",
       "      <td>...</td>\n",
       "      <td>...</td>\n",
       "      <td>...</td>\n",
       "    </tr>\n",
       "    <tr>\n",
       "      <th>82</th>\n",
       "      <td>Tunisia</td>\n",
       "      <td>361.055509</td>\n",
       "      <td>3.064966</td>\n",
       "    </tr>\n",
       "    <tr>\n",
       "      <th>83</th>\n",
       "      <td>Ukraine</td>\n",
       "      <td>—</td>\n",
       "      <td>†</td>\n",
       "    </tr>\n",
       "    <tr>\n",
       "      <th>84</th>\n",
       "      <td>United Arab Emirates</td>\n",
       "      <td>433.54229</td>\n",
       "      <td>2.870551</td>\n",
       "    </tr>\n",
       "    <tr>\n",
       "      <th>85</th>\n",
       "      <td>Uruguay</td>\n",
       "      <td>436.572131</td>\n",
       "      <td>2.549862</td>\n",
       "    </tr>\n",
       "    <tr>\n",
       "      <th>86</th>\n",
       "      <td>Viet Nam</td>\n",
       "      <td>486.773764</td>\n",
       "      <td>3.730789</td>\n",
       "    </tr>\n",
       "  </tbody>\n",
       "</table>\n",
       "<p>87 rows × 3 columns</p>\n",
       "</div>"
      ],
      "text/plain": [
       "               Countries        2015   se_2015\n",
       "0              Australia   502.90056  1.690892\n",
       "1                Austria  484.865597  2.835278\n",
       "2                Belgium  498.524189  2.415706\n",
       "3                 Canada  526.667805   2.30094\n",
       "4                  Chile  458.570876  2.584878\n",
       "..                   ...         ...       ...\n",
       "82               Tunisia  361.055509  3.064966\n",
       "83               Ukraine           —         †\n",
       "84  United Arab Emirates   433.54229  2.870551\n",
       "85               Uruguay  436.572131  2.549862\n",
       "86              Viet Nam  486.773764  3.730789\n",
       "\n",
       "[87 rows x 3 columns]"
      ]
     },
     "execution_count": 8,
     "metadata": {},
     "output_type": "execute_result"
    }
   ],
   "source": [
    "reading2015 = pd.read_excel(\"../data_all/reading/reading2015.xls\",sheet_name='Report 1- Table',skiprows=[1,2,3,4,5,6,7,8,9,10,11,100,101,102,103,104])\n",
    "reading2015.drop(['Unnamed: 0', 'Unnamed: 1'], axis=1, inplace=True)\n",
    "reading2015.rename({'Unnamed: 2': 'Countries', 'Unnamed: 3': '2015', 'Unnamed: 4': 'se_2015'}, axis=1, inplace=True)\n",
    "reading2015 = reading2015.drop(index=[87])\n",
    "reading2015"
   ]
  },
  {
   "cell_type": "code",
   "execution_count": 9,
   "metadata": {},
   "outputs": [
    {
     "data": {
      "text/html": [
       "<div>\n",
       "<style scoped>\n",
       "    .dataframe tbody tr th:only-of-type {\n",
       "        vertical-align: middle;\n",
       "    }\n",
       "\n",
       "    .dataframe tbody tr th {\n",
       "        vertical-align: top;\n",
       "    }\n",
       "\n",
       "    .dataframe thead th {\n",
       "        text-align: right;\n",
       "    }\n",
       "</style>\n",
       "<table border=\"1\" class=\"dataframe\">\n",
       "  <thead>\n",
       "    <tr style=\"text-align: right;\">\n",
       "      <th></th>\n",
       "      <th>Countries</th>\n",
       "      <th>2018</th>\n",
       "      <th>se_2018</th>\n",
       "    </tr>\n",
       "  </thead>\n",
       "  <tbody>\n",
       "    <tr>\n",
       "      <th>0</th>\n",
       "      <td>Australia</td>\n",
       "      <td>502.631724</td>\n",
       "      <td>1.634343</td>\n",
       "    </tr>\n",
       "    <tr>\n",
       "      <th>1</th>\n",
       "      <td>Austria</td>\n",
       "      <td>484.392568</td>\n",
       "      <td>2.697472</td>\n",
       "    </tr>\n",
       "    <tr>\n",
       "      <th>2</th>\n",
       "      <td>Belgium</td>\n",
       "      <td>492.864439</td>\n",
       "      <td>2.321973</td>\n",
       "    </tr>\n",
       "    <tr>\n",
       "      <th>3</th>\n",
       "      <td>Canada</td>\n",
       "      <td>520.085521</td>\n",
       "      <td>1.799716</td>\n",
       "    </tr>\n",
       "    <tr>\n",
       "      <th>4</th>\n",
       "      <td>Chile</td>\n",
       "      <td>452.272554</td>\n",
       "      <td>2.643766</td>\n",
       "    </tr>\n",
       "    <tr>\n",
       "      <th>...</th>\n",
       "      <td>...</td>\n",
       "      <td>...</td>\n",
       "      <td>...</td>\n",
       "    </tr>\n",
       "    <tr>\n",
       "      <th>82</th>\n",
       "      <td>Tunisia</td>\n",
       "      <td>—</td>\n",
       "      <td>†</td>\n",
       "    </tr>\n",
       "    <tr>\n",
       "      <th>83</th>\n",
       "      <td>Ukraine</td>\n",
       "      <td>465.950148</td>\n",
       "      <td>3.499125</td>\n",
       "    </tr>\n",
       "    <tr>\n",
       "      <th>84</th>\n",
       "      <td>United Arab Emirates</td>\n",
       "      <td>431.781769</td>\n",
       "      <td>2.302204</td>\n",
       "    </tr>\n",
       "    <tr>\n",
       "      <th>85</th>\n",
       "      <td>Uruguay</td>\n",
       "      <td>427.117618</td>\n",
       "      <td>2.761991</td>\n",
       "    </tr>\n",
       "    <tr>\n",
       "      <th>86</th>\n",
       "      <td>Viet Nam</td>\n",
       "      <td>—</td>\n",
       "      <td>†</td>\n",
       "    </tr>\n",
       "  </tbody>\n",
       "</table>\n",
       "<p>87 rows × 3 columns</p>\n",
       "</div>"
      ],
      "text/plain": [
       "               Countries        2018   se_2018\n",
       "0              Australia  502.631724  1.634343\n",
       "1                Austria  484.392568  2.697472\n",
       "2                Belgium  492.864439  2.321973\n",
       "3                 Canada  520.085521  1.799716\n",
       "4                  Chile  452.272554  2.643766\n",
       "..                   ...         ...       ...\n",
       "82               Tunisia           —         †\n",
       "83               Ukraine  465.950148  3.499125\n",
       "84  United Arab Emirates  431.781769  2.302204\n",
       "85               Uruguay  427.117618  2.761991\n",
       "86              Viet Nam           —         †\n",
       "\n",
       "[87 rows x 3 columns]"
      ]
     },
     "execution_count": 9,
     "metadata": {},
     "output_type": "execute_result"
    }
   ],
   "source": [
    "reading2018 = pd.read_excel(\"../data_all/reading/reading2018.xls\",sheet_name='Report 1- Table',skiprows=[1,2,3,4,5,6,7,8,9,10,11,100,101,102,103,104])\n",
    "reading2018.drop(['Unnamed: 0', 'Unnamed: 1'], axis=1, inplace=True)\n",
    "reading2018.rename({'Unnamed: 2': 'Countries', 'Unnamed: 3': '2018', 'Unnamed: 4': 'se_2018'}, axis=1, inplace=True)\n",
    "reading2018 = reading2018.drop(index=[87])\n",
    "reading2018"
   ]
  },
  {
   "cell_type": "code",
   "execution_count": 10,
   "metadata": {},
   "outputs": [
    {
     "data": {
      "text/html": [
       "<div>\n",
       "<style scoped>\n",
       "    .dataframe tbody tr th:only-of-type {\n",
       "        vertical-align: middle;\n",
       "    }\n",
       "\n",
       "    .dataframe tbody tr th {\n",
       "        vertical-align: top;\n",
       "    }\n",
       "\n",
       "    .dataframe thead th {\n",
       "        text-align: right;\n",
       "    }\n",
       "</style>\n",
       "<table border=\"1\" class=\"dataframe\">\n",
       "  <thead>\n",
       "    <tr style=\"text-align: right;\">\n",
       "      <th></th>\n",
       "      <th>Countries</th>\n",
       "      <th>2000</th>\n",
       "      <th>se_2000</th>\n",
       "      <th>2003</th>\n",
       "      <th>se_2003</th>\n",
       "      <th>2006</th>\n",
       "      <th>se_2006</th>\n",
       "      <th>2009</th>\n",
       "      <th>se_2009</th>\n",
       "      <th>2012</th>\n",
       "      <th>se_2012</th>\n",
       "      <th>2015</th>\n",
       "      <th>se_2015</th>\n",
       "      <th>2018</th>\n",
       "      <th>se_2018</th>\n",
       "    </tr>\n",
       "  </thead>\n",
       "  <tbody>\n",
       "    <tr>\n",
       "      <th>0</th>\n",
       "      <td>Australia</td>\n",
       "      <td>528.278505</td>\n",
       "      <td>3.522548</td>\n",
       "      <td>525.427007</td>\n",
       "      <td>2.126437</td>\n",
       "      <td>512.893292</td>\n",
       "      <td>2.062032</td>\n",
       "      <td>514.900655</td>\n",
       "      <td>2.337421</td>\n",
       "      <td>511.803998</td>\n",
       "      <td>1.576799</td>\n",
       "      <td>502.90056</td>\n",
       "      <td>1.690892</td>\n",
       "      <td>502.631724</td>\n",
       "      <td>1.634343</td>\n",
       "    </tr>\n",
       "    <tr>\n",
       "      <th>1</th>\n",
       "      <td>Austria</td>\n",
       "      <td>492.056007</td>\n",
       "      <td>2.692012</td>\n",
       "      <td>490.69324</td>\n",
       "      <td>3.758353</td>\n",
       "      <td>490.193977</td>\n",
       "      <td>4.080006</td>\n",
       "      <td>470.283632</td>\n",
       "      <td>2.948082</td>\n",
       "      <td>489.609335</td>\n",
       "      <td>2.761191</td>\n",
       "      <td>484.865597</td>\n",
       "      <td>2.835278</td>\n",
       "      <td>484.392568</td>\n",
       "      <td>2.697472</td>\n",
       "    </tr>\n",
       "    <tr>\n",
       "      <th>2</th>\n",
       "      <td>Belgium</td>\n",
       "      <td>507.12589</td>\n",
       "      <td>3.557848</td>\n",
       "      <td>506.987332</td>\n",
       "      <td>2.581749</td>\n",
       "      <td>500.900595</td>\n",
       "      <td>3.041255</td>\n",
       "      <td>505.945796</td>\n",
       "      <td>2.34976</td>\n",
       "      <td>508.617877</td>\n",
       "      <td>2.254063</td>\n",
       "      <td>498.524189</td>\n",
       "      <td>2.415706</td>\n",
       "      <td>492.864439</td>\n",
       "      <td>2.321973</td>\n",
       "    </tr>\n",
       "    <tr>\n",
       "      <th>3</th>\n",
       "      <td>Canada</td>\n",
       "      <td>534.312719</td>\n",
       "      <td>1.558731</td>\n",
       "      <td>527.913612</td>\n",
       "      <td>1.746668</td>\n",
       "      <td>527.011296</td>\n",
       "      <td>2.438691</td>\n",
       "      <td>524.241833</td>\n",
       "      <td>1.483177</td>\n",
       "      <td>523.124003</td>\n",
       "      <td>1.926378</td>\n",
       "      <td>526.667805</td>\n",
       "      <td>2.30094</td>\n",
       "      <td>520.085521</td>\n",
       "      <td>1.799716</td>\n",
       "    </tr>\n",
       "    <tr>\n",
       "      <th>4</th>\n",
       "      <td>Chile</td>\n",
       "      <td>409.556782</td>\n",
       "      <td>3.58574</td>\n",
       "      <td>—</td>\n",
       "      <td>†</td>\n",
       "      <td>442.091346</td>\n",
       "      <td>4.99265</td>\n",
       "      <td>449.369607</td>\n",
       "      <td>3.125474</td>\n",
       "      <td>441.398164</td>\n",
       "      <td>2.902103</td>\n",
       "      <td>458.570876</td>\n",
       "      <td>2.584878</td>\n",
       "      <td>452.272554</td>\n",
       "      <td>2.643766</td>\n",
       "    </tr>\n",
       "    <tr>\n",
       "      <th>...</th>\n",
       "      <td>...</td>\n",
       "      <td>...</td>\n",
       "      <td>...</td>\n",
       "      <td>...</td>\n",
       "      <td>...</td>\n",
       "      <td>...</td>\n",
       "      <td>...</td>\n",
       "      <td>...</td>\n",
       "      <td>...</td>\n",
       "      <td>...</td>\n",
       "      <td>...</td>\n",
       "      <td>...</td>\n",
       "      <td>...</td>\n",
       "      <td>...</td>\n",
       "      <td>...</td>\n",
       "    </tr>\n",
       "    <tr>\n",
       "      <th>82</th>\n",
       "      <td>Tunisia</td>\n",
       "      <td>—</td>\n",
       "      <td>†</td>\n",
       "      <td>374.622404</td>\n",
       "      <td>2.807848</td>\n",
       "      <td>380.33683</td>\n",
       "      <td>4.020545</td>\n",
       "      <td>403.632656</td>\n",
       "      <td>2.879896</td>\n",
       "      <td>404.078467</td>\n",
       "      <td>4.508586</td>\n",
       "      <td>361.055509</td>\n",
       "      <td>3.064966</td>\n",
       "      <td>—</td>\n",
       "      <td>†</td>\n",
       "    </tr>\n",
       "    <tr>\n",
       "      <th>83</th>\n",
       "      <td>Ukraine</td>\n",
       "      <td>—</td>\n",
       "      <td>†</td>\n",
       "      <td>—</td>\n",
       "      <td>†</td>\n",
       "      <td>—</td>\n",
       "      <td>†</td>\n",
       "      <td>—</td>\n",
       "      <td>†</td>\n",
       "      <td>—</td>\n",
       "      <td>†</td>\n",
       "      <td>—</td>\n",
       "      <td>†</td>\n",
       "      <td>465.950148</td>\n",
       "      <td>3.499125</td>\n",
       "    </tr>\n",
       "    <tr>\n",
       "      <th>84</th>\n",
       "      <td>United Arab Emirates</td>\n",
       "      <td>—</td>\n",
       "      <td>†</td>\n",
       "      <td>—</td>\n",
       "      <td>†</td>\n",
       "      <td>—</td>\n",
       "      <td>†</td>\n",
       "      <td>—</td>\n",
       "      <td>†</td>\n",
       "      <td>441.703736</td>\n",
       "      <td>2.496226</td>\n",
       "      <td>433.54229</td>\n",
       "      <td>2.870551</td>\n",
       "      <td>431.781769</td>\n",
       "      <td>2.302204</td>\n",
       "    </tr>\n",
       "    <tr>\n",
       "      <th>85</th>\n",
       "      <td>Uruguay</td>\n",
       "      <td>—</td>\n",
       "      <td>†</td>\n",
       "      <td>434.149758</td>\n",
       "      <td>3.432597</td>\n",
       "      <td>412.516733</td>\n",
       "      <td>3.434069</td>\n",
       "      <td>425.813359</td>\n",
       "      <td>2.604443</td>\n",
       "      <td>411.348919</td>\n",
       "      <td>3.155122</td>\n",
       "      <td>436.572131</td>\n",
       "      <td>2.549862</td>\n",
       "      <td>427.117618</td>\n",
       "      <td>2.761991</td>\n",
       "    </tr>\n",
       "    <tr>\n",
       "      <th>86</th>\n",
       "      <td>Viet Nam</td>\n",
       "      <td>—</td>\n",
       "      <td>†</td>\n",
       "      <td>—</td>\n",
       "      <td>†</td>\n",
       "      <td>—</td>\n",
       "      <td>†</td>\n",
       "      <td>—</td>\n",
       "      <td>†</td>\n",
       "      <td>508.218991</td>\n",
       "      <td>4.396818</td>\n",
       "      <td>486.773764</td>\n",
       "      <td>3.730789</td>\n",
       "      <td>—</td>\n",
       "      <td>†</td>\n",
       "    </tr>\n",
       "  </tbody>\n",
       "</table>\n",
       "<p>87 rows × 15 columns</p>\n",
       "</div>"
      ],
      "text/plain": [
       "               Countries        2000   se_2000        2003   se_2003  \\\n",
       "0              Australia  528.278505  3.522548  525.427007  2.126437   \n",
       "1                Austria  492.056007  2.692012   490.69324  3.758353   \n",
       "2                Belgium   507.12589  3.557848  506.987332  2.581749   \n",
       "3                 Canada  534.312719  1.558731  527.913612  1.746668   \n",
       "4                  Chile  409.556782   3.58574           —         †   \n",
       "..                   ...         ...       ...         ...       ...   \n",
       "82               Tunisia           —         †  374.622404  2.807848   \n",
       "83               Ukraine           —         †           —         †   \n",
       "84  United Arab Emirates           —         †           —         †   \n",
       "85               Uruguay           —         †  434.149758  3.432597   \n",
       "86              Viet Nam           —         †           —         †   \n",
       "\n",
       "          2006   se_2006        2009   se_2009        2012   se_2012  \\\n",
       "0   512.893292  2.062032  514.900655  2.337421  511.803998  1.576799   \n",
       "1   490.193977  4.080006  470.283632  2.948082  489.609335  2.761191   \n",
       "2   500.900595  3.041255  505.945796   2.34976  508.617877  2.254063   \n",
       "3   527.011296  2.438691  524.241833  1.483177  523.124003  1.926378   \n",
       "4   442.091346   4.99265  449.369607  3.125474  441.398164  2.902103   \n",
       "..         ...       ...         ...       ...         ...       ...   \n",
       "82   380.33683  4.020545  403.632656  2.879896  404.078467  4.508586   \n",
       "83           —         †           —         †           —         †   \n",
       "84           —         †           —         †  441.703736  2.496226   \n",
       "85  412.516733  3.434069  425.813359  2.604443  411.348919  3.155122   \n",
       "86           —         †           —         †  508.218991  4.396818   \n",
       "\n",
       "          2015   se_2015        2018   se_2018  \n",
       "0    502.90056  1.690892  502.631724  1.634343  \n",
       "1   484.865597  2.835278  484.392568  2.697472  \n",
       "2   498.524189  2.415706  492.864439  2.321973  \n",
       "3   526.667805   2.30094  520.085521  1.799716  \n",
       "4   458.570876  2.584878  452.272554  2.643766  \n",
       "..         ...       ...         ...       ...  \n",
       "82  361.055509  3.064966           —         †  \n",
       "83           —         †  465.950148  3.499125  \n",
       "84   433.54229  2.870551  431.781769  2.302204  \n",
       "85  436.572131  2.549862  427.117618  2.761991  \n",
       "86  486.773764  3.730789           —         †  \n",
       "\n",
       "[87 rows x 15 columns]"
      ]
     },
     "execution_count": 10,
     "metadata": {},
     "output_type": "execute_result"
    }
   ],
   "source": [
    "reading = pd.merge(pd.merge(pd.merge(pd.merge(pd.merge(pd.merge(reading2000,reading2003,on='Countries'), reading2006, on='Countries'), reading2009, on='Countries'), reading2012, on='Countries'), reading2015, on='Countries'), reading2018, on='Countries')\n",
    "reading"
   ]
  },
  {
   "cell_type": "code",
   "execution_count": 11,
   "metadata": {},
   "outputs": [
    {
     "data": {
      "text/html": [
       "<div>\n",
       "<style scoped>\n",
       "    .dataframe tbody tr th:only-of-type {\n",
       "        vertical-align: middle;\n",
       "    }\n",
       "\n",
       "    .dataframe tbody tr th {\n",
       "        vertical-align: top;\n",
       "    }\n",
       "\n",
       "    .dataframe thead th {\n",
       "        text-align: right;\n",
       "    }\n",
       "</style>\n",
       "<table border=\"1\" class=\"dataframe\">\n",
       "  <thead>\n",
       "    <tr style=\"text-align: right;\">\n",
       "      <th></th>\n",
       "      <th>Countries</th>\n",
       "      <th>2000</th>\n",
       "      <th>se_2000</th>\n",
       "      <th>2003</th>\n",
       "      <th>se_2003</th>\n",
       "      <th>2006</th>\n",
       "      <th>se_2006</th>\n",
       "      <th>2009</th>\n",
       "      <th>se_2009</th>\n",
       "      <th>2012</th>\n",
       "      <th>se_2012</th>\n",
       "      <th>2015</th>\n",
       "      <th>se_2015</th>\n",
       "      <th>2018</th>\n",
       "      <th>se_2018</th>\n",
       "    </tr>\n",
       "  </thead>\n",
       "  <tbody>\n",
       "    <tr>\n",
       "      <th>0</th>\n",
       "      <td>Australia</td>\n",
       "      <td>528.278505</td>\n",
       "      <td>3.522548</td>\n",
       "      <td>525.427007</td>\n",
       "      <td>2.126437</td>\n",
       "      <td>512.893292</td>\n",
       "      <td>2.062032</td>\n",
       "      <td>514.900655</td>\n",
       "      <td>2.337421</td>\n",
       "      <td>511.803998</td>\n",
       "      <td>1.576799</td>\n",
       "      <td>502.900560</td>\n",
       "      <td>1.690892</td>\n",
       "      <td>502.631724</td>\n",
       "      <td>1.634343</td>\n",
       "    </tr>\n",
       "    <tr>\n",
       "      <th>1</th>\n",
       "      <td>Austria</td>\n",
       "      <td>492.056007</td>\n",
       "      <td>2.692012</td>\n",
       "      <td>490.693240</td>\n",
       "      <td>3.758353</td>\n",
       "      <td>490.193977</td>\n",
       "      <td>4.080006</td>\n",
       "      <td>470.283632</td>\n",
       "      <td>2.948082</td>\n",
       "      <td>489.609335</td>\n",
       "      <td>2.761191</td>\n",
       "      <td>484.865597</td>\n",
       "      <td>2.835278</td>\n",
       "      <td>484.392568</td>\n",
       "      <td>2.697472</td>\n",
       "    </tr>\n",
       "    <tr>\n",
       "      <th>2</th>\n",
       "      <td>Belgium</td>\n",
       "      <td>507.125890</td>\n",
       "      <td>3.557848</td>\n",
       "      <td>506.987332</td>\n",
       "      <td>2.581749</td>\n",
       "      <td>500.900595</td>\n",
       "      <td>3.041255</td>\n",
       "      <td>505.945796</td>\n",
       "      <td>2.349760</td>\n",
       "      <td>508.617877</td>\n",
       "      <td>2.254063</td>\n",
       "      <td>498.524189</td>\n",
       "      <td>2.415706</td>\n",
       "      <td>492.864439</td>\n",
       "      <td>2.321973</td>\n",
       "    </tr>\n",
       "    <tr>\n",
       "      <th>3</th>\n",
       "      <td>Canada</td>\n",
       "      <td>534.312719</td>\n",
       "      <td>1.558731</td>\n",
       "      <td>527.913612</td>\n",
       "      <td>1.746668</td>\n",
       "      <td>527.011296</td>\n",
       "      <td>2.438691</td>\n",
       "      <td>524.241833</td>\n",
       "      <td>1.483177</td>\n",
       "      <td>523.124003</td>\n",
       "      <td>1.926378</td>\n",
       "      <td>526.667805</td>\n",
       "      <td>2.300940</td>\n",
       "      <td>520.085521</td>\n",
       "      <td>1.799716</td>\n",
       "    </tr>\n",
       "    <tr>\n",
       "      <th>4</th>\n",
       "      <td>Chile</td>\n",
       "      <td>409.556782</td>\n",
       "      <td>3.585740</td>\n",
       "      <td>NaN</td>\n",
       "      <td>NaN</td>\n",
       "      <td>442.091346</td>\n",
       "      <td>4.992650</td>\n",
       "      <td>449.369607</td>\n",
       "      <td>3.125474</td>\n",
       "      <td>441.398164</td>\n",
       "      <td>2.902103</td>\n",
       "      <td>458.570876</td>\n",
       "      <td>2.584878</td>\n",
       "      <td>452.272554</td>\n",
       "      <td>2.643766</td>\n",
       "    </tr>\n",
       "    <tr>\n",
       "      <th>...</th>\n",
       "      <td>...</td>\n",
       "      <td>...</td>\n",
       "      <td>...</td>\n",
       "      <td>...</td>\n",
       "      <td>...</td>\n",
       "      <td>...</td>\n",
       "      <td>...</td>\n",
       "      <td>...</td>\n",
       "      <td>...</td>\n",
       "      <td>...</td>\n",
       "      <td>...</td>\n",
       "      <td>...</td>\n",
       "      <td>...</td>\n",
       "      <td>...</td>\n",
       "      <td>...</td>\n",
       "    </tr>\n",
       "    <tr>\n",
       "      <th>82</th>\n",
       "      <td>Tunisia</td>\n",
       "      <td>NaN</td>\n",
       "      <td>NaN</td>\n",
       "      <td>374.622404</td>\n",
       "      <td>2.807848</td>\n",
       "      <td>380.336830</td>\n",
       "      <td>4.020545</td>\n",
       "      <td>403.632656</td>\n",
       "      <td>2.879896</td>\n",
       "      <td>404.078467</td>\n",
       "      <td>4.508586</td>\n",
       "      <td>361.055509</td>\n",
       "      <td>3.064966</td>\n",
       "      <td>NaN</td>\n",
       "      <td>NaN</td>\n",
       "    </tr>\n",
       "    <tr>\n",
       "      <th>83</th>\n",
       "      <td>Ukraine</td>\n",
       "      <td>NaN</td>\n",
       "      <td>NaN</td>\n",
       "      <td>NaN</td>\n",
       "      <td>NaN</td>\n",
       "      <td>NaN</td>\n",
       "      <td>NaN</td>\n",
       "      <td>NaN</td>\n",
       "      <td>NaN</td>\n",
       "      <td>NaN</td>\n",
       "      <td>NaN</td>\n",
       "      <td>NaN</td>\n",
       "      <td>NaN</td>\n",
       "      <td>465.950148</td>\n",
       "      <td>3.499125</td>\n",
       "    </tr>\n",
       "    <tr>\n",
       "      <th>84</th>\n",
       "      <td>United Arab Emirates</td>\n",
       "      <td>NaN</td>\n",
       "      <td>NaN</td>\n",
       "      <td>NaN</td>\n",
       "      <td>NaN</td>\n",
       "      <td>NaN</td>\n",
       "      <td>NaN</td>\n",
       "      <td>NaN</td>\n",
       "      <td>NaN</td>\n",
       "      <td>441.703736</td>\n",
       "      <td>2.496226</td>\n",
       "      <td>433.542290</td>\n",
       "      <td>2.870551</td>\n",
       "      <td>431.781769</td>\n",
       "      <td>2.302204</td>\n",
       "    </tr>\n",
       "    <tr>\n",
       "      <th>85</th>\n",
       "      <td>Uruguay</td>\n",
       "      <td>NaN</td>\n",
       "      <td>NaN</td>\n",
       "      <td>434.149758</td>\n",
       "      <td>3.432597</td>\n",
       "      <td>412.516733</td>\n",
       "      <td>3.434069</td>\n",
       "      <td>425.813359</td>\n",
       "      <td>2.604443</td>\n",
       "      <td>411.348919</td>\n",
       "      <td>3.155122</td>\n",
       "      <td>436.572131</td>\n",
       "      <td>2.549862</td>\n",
       "      <td>427.117618</td>\n",
       "      <td>2.761991</td>\n",
       "    </tr>\n",
       "    <tr>\n",
       "      <th>86</th>\n",
       "      <td>Viet Nam</td>\n",
       "      <td>NaN</td>\n",
       "      <td>NaN</td>\n",
       "      <td>NaN</td>\n",
       "      <td>NaN</td>\n",
       "      <td>NaN</td>\n",
       "      <td>NaN</td>\n",
       "      <td>NaN</td>\n",
       "      <td>NaN</td>\n",
       "      <td>508.218991</td>\n",
       "      <td>4.396818</td>\n",
       "      <td>486.773764</td>\n",
       "      <td>3.730789</td>\n",
       "      <td>NaN</td>\n",
       "      <td>NaN</td>\n",
       "    </tr>\n",
       "  </tbody>\n",
       "</table>\n",
       "<p>87 rows × 15 columns</p>\n",
       "</div>"
      ],
      "text/plain": [
       "               Countries        2000   se_2000        2003   se_2003  \\\n",
       "0              Australia  528.278505  3.522548  525.427007  2.126437   \n",
       "1                Austria  492.056007  2.692012  490.693240  3.758353   \n",
       "2                Belgium  507.125890  3.557848  506.987332  2.581749   \n",
       "3                 Canada  534.312719  1.558731  527.913612  1.746668   \n",
       "4                  Chile  409.556782  3.585740         NaN       NaN   \n",
       "..                   ...         ...       ...         ...       ...   \n",
       "82               Tunisia         NaN       NaN  374.622404  2.807848   \n",
       "83               Ukraine         NaN       NaN         NaN       NaN   \n",
       "84  United Arab Emirates         NaN       NaN         NaN       NaN   \n",
       "85               Uruguay         NaN       NaN  434.149758  3.432597   \n",
       "86              Viet Nam         NaN       NaN         NaN       NaN   \n",
       "\n",
       "          2006   se_2006        2009   se_2009        2012   se_2012  \\\n",
       "0   512.893292  2.062032  514.900655  2.337421  511.803998  1.576799   \n",
       "1   490.193977  4.080006  470.283632  2.948082  489.609335  2.761191   \n",
       "2   500.900595  3.041255  505.945796  2.349760  508.617877  2.254063   \n",
       "3   527.011296  2.438691  524.241833  1.483177  523.124003  1.926378   \n",
       "4   442.091346  4.992650  449.369607  3.125474  441.398164  2.902103   \n",
       "..         ...       ...         ...       ...         ...       ...   \n",
       "82  380.336830  4.020545  403.632656  2.879896  404.078467  4.508586   \n",
       "83         NaN       NaN         NaN       NaN         NaN       NaN   \n",
       "84         NaN       NaN         NaN       NaN  441.703736  2.496226   \n",
       "85  412.516733  3.434069  425.813359  2.604443  411.348919  3.155122   \n",
       "86         NaN       NaN         NaN       NaN  508.218991  4.396818   \n",
       "\n",
       "          2015   se_2015        2018   se_2018  \n",
       "0   502.900560  1.690892  502.631724  1.634343  \n",
       "1   484.865597  2.835278  484.392568  2.697472  \n",
       "2   498.524189  2.415706  492.864439  2.321973  \n",
       "3   526.667805  2.300940  520.085521  1.799716  \n",
       "4   458.570876  2.584878  452.272554  2.643766  \n",
       "..         ...       ...         ...       ...  \n",
       "82  361.055509  3.064966         NaN       NaN  \n",
       "83         NaN       NaN  465.950148  3.499125  \n",
       "84  433.542290  2.870551  431.781769  2.302204  \n",
       "85  436.572131  2.549862  427.117618  2.761991  \n",
       "86  486.773764  3.730789         NaN       NaN  \n",
       "\n",
       "[87 rows x 15 columns]"
      ]
     },
     "execution_count": 11,
     "metadata": {},
     "output_type": "execute_result"
    }
   ],
   "source": [
    "readings = reading.replace('—',np.nan,regex = True)\n",
    "readings = readings.replace('†',np.nan,regex = True)\n",
    "readings = readings.replace('‡',np.nan,regex = True)\n",
    "readings"
   ]
  },
  {
   "cell_type": "code",
   "execution_count": 12,
   "metadata": {},
   "outputs": [
    {
     "data": {
      "text/html": [
       "<div>\n",
       "<style scoped>\n",
       "    .dataframe tbody tr th:only-of-type {\n",
       "        vertical-align: middle;\n",
       "    }\n",
       "\n",
       "    .dataframe tbody tr th {\n",
       "        vertical-align: top;\n",
       "    }\n",
       "\n",
       "    .dataframe thead th {\n",
       "        text-align: right;\n",
       "    }\n",
       "</style>\n",
       "<table border=\"1\" class=\"dataframe\">\n",
       "  <thead>\n",
       "    <tr style=\"text-align: right;\">\n",
       "      <th></th>\n",
       "      <th>Countries</th>\n",
       "      <th>rank_2000</th>\n",
       "      <th>rank_2003</th>\n",
       "      <th>rank_2006</th>\n",
       "      <th>rank_2009</th>\n",
       "      <th>rank_2012</th>\n",
       "      <th>rank_2015</th>\n",
       "      <th>rank_2018</th>\n",
       "    </tr>\n",
       "  </thead>\n",
       "  <tbody>\n",
       "    <tr>\n",
       "      <th>0</th>\n",
       "      <td>Australia</td>\n",
       "      <td>38.0</td>\n",
       "      <td>36.0</td>\n",
       "      <td>46.0</td>\n",
       "      <td>51.0</td>\n",
       "      <td>51.0</td>\n",
       "      <td>57.0</td>\n",
       "      <td>62.0</td>\n",
       "    </tr>\n",
       "    <tr>\n",
       "      <th>1</th>\n",
       "      <td>Austria</td>\n",
       "      <td>23.0</td>\n",
       "      <td>18.0</td>\n",
       "      <td>32.0</td>\n",
       "      <td>22.0</td>\n",
       "      <td>37.0</td>\n",
       "      <td>40.0</td>\n",
       "      <td>51.0</td>\n",
       "    </tr>\n",
       "    <tr>\n",
       "      <th>2</th>\n",
       "      <td>Belgium</td>\n",
       "      <td>31.0</td>\n",
       "      <td>29.0</td>\n",
       "      <td>42.0</td>\n",
       "      <td>49.0</td>\n",
       "      <td>47.0</td>\n",
       "      <td>53.0</td>\n",
       "      <td>56.0</td>\n",
       "    </tr>\n",
       "    <tr>\n",
       "      <th>3</th>\n",
       "      <td>Canada</td>\n",
       "      <td>40.0</td>\n",
       "      <td>37.0</td>\n",
       "      <td>49.0</td>\n",
       "      <td>54.0</td>\n",
       "      <td>56.0</td>\n",
       "      <td>70.0</td>\n",
       "      <td>72.0</td>\n",
       "    </tr>\n",
       "    <tr>\n",
       "      <th>4</th>\n",
       "      <td>Chile</td>\n",
       "      <td>6.0</td>\n",
       "      <td>NaN</td>\n",
       "      <td>16.0</td>\n",
       "      <td>18.0</td>\n",
       "      <td>19.0</td>\n",
       "      <td>32.0</td>\n",
       "      <td>35.0</td>\n",
       "    </tr>\n",
       "    <tr>\n",
       "      <th>...</th>\n",
       "      <td>...</td>\n",
       "      <td>...</td>\n",
       "      <td>...</td>\n",
       "      <td>...</td>\n",
       "      <td>...</td>\n",
       "      <td>...</td>\n",
       "      <td>...</td>\n",
       "      <td>...</td>\n",
       "    </tr>\n",
       "    <tr>\n",
       "      <th>82</th>\n",
       "      <td>Tunisia</td>\n",
       "      <td>NaN</td>\n",
       "      <td>1.0</td>\n",
       "      <td>3.0</td>\n",
       "      <td>7.0</td>\n",
       "      <td>10.0</td>\n",
       "      <td>6.0</td>\n",
       "      <td>NaN</td>\n",
       "    </tr>\n",
       "    <tr>\n",
       "      <th>83</th>\n",
       "      <td>Ukraine</td>\n",
       "      <td>NaN</td>\n",
       "      <td>NaN</td>\n",
       "      <td>NaN</td>\n",
       "      <td>NaN</td>\n",
       "      <td>NaN</td>\n",
       "      <td>NaN</td>\n",
       "      <td>39.0</td>\n",
       "    </tr>\n",
       "    <tr>\n",
       "      <th>84</th>\n",
       "      <td>United Arab Emirates</td>\n",
       "      <td>NaN</td>\n",
       "      <td>NaN</td>\n",
       "      <td>NaN</td>\n",
       "      <td>NaN</td>\n",
       "      <td>20.0</td>\n",
       "      <td>26.0</td>\n",
       "      <td>32.0</td>\n",
       "    </tr>\n",
       "    <tr>\n",
       "      <th>85</th>\n",
       "      <td>Uruguay</td>\n",
       "      <td>NaN</td>\n",
       "      <td>6.0</td>\n",
       "      <td>12.0</td>\n",
       "      <td>16.0</td>\n",
       "      <td>12.0</td>\n",
       "      <td>28.0</td>\n",
       "      <td>30.0</td>\n",
       "    </tr>\n",
       "    <tr>\n",
       "      <th>86</th>\n",
       "      <td>Viet Nam</td>\n",
       "      <td>NaN</td>\n",
       "      <td>NaN</td>\n",
       "      <td>NaN</td>\n",
       "      <td>NaN</td>\n",
       "      <td>46.0</td>\n",
       "      <td>41.0</td>\n",
       "      <td>NaN</td>\n",
       "    </tr>\n",
       "  </tbody>\n",
       "</table>\n",
       "<p>87 rows × 8 columns</p>\n",
       "</div>"
      ],
      "text/plain": [
       "               Countries  rank_2000  rank_2003  rank_2006  rank_2009  \\\n",
       "0              Australia       38.0       36.0       46.0       51.0   \n",
       "1                Austria       23.0       18.0       32.0       22.0   \n",
       "2                Belgium       31.0       29.0       42.0       49.0   \n",
       "3                 Canada       40.0       37.0       49.0       54.0   \n",
       "4                  Chile        6.0        NaN       16.0       18.0   \n",
       "..                   ...        ...        ...        ...        ...   \n",
       "82               Tunisia        NaN        1.0        3.0        7.0   \n",
       "83               Ukraine        NaN        NaN        NaN        NaN   \n",
       "84  United Arab Emirates        NaN        NaN        NaN        NaN   \n",
       "85               Uruguay        NaN        6.0       12.0       16.0   \n",
       "86              Viet Nam        NaN        NaN        NaN        NaN   \n",
       "\n",
       "    rank_2012  rank_2015  rank_2018  \n",
       "0        51.0       57.0       62.0  \n",
       "1        37.0       40.0       51.0  \n",
       "2        47.0       53.0       56.0  \n",
       "3        56.0       70.0       72.0  \n",
       "4        19.0       32.0       35.0  \n",
       "..        ...        ...        ...  \n",
       "82       10.0        6.0        NaN  \n",
       "83        NaN        NaN       39.0  \n",
       "84       20.0       26.0       32.0  \n",
       "85       12.0       28.0       30.0  \n",
       "86       46.0       41.0        NaN  \n",
       "\n",
       "[87 rows x 8 columns]"
      ]
     },
     "execution_count": 12,
     "metadata": {},
     "output_type": "execute_result"
    }
   ],
   "source": [
    "readings_rank = pd.DataFrame()\n",
    "readings_rank['Countries'] = readings['Countries']\n",
    "readings_rank['rank_2000'] = readings['2000'].rank(method='max')\n",
    "readings_rank['rank_2003'] = readings['2003'].rank(method='max')\n",
    "readings_rank['rank_2006'] = readings['2006'].rank(method='max')\n",
    "readings_rank['rank_2009'] = readings['2009'].rank(method='max')\n",
    "readings_rank['rank_2012'] = readings['2012'].rank(method='max')\n",
    "readings_rank['rank_2015'] = readings['2015'].rank(method='max')\n",
    "readings_rank['rank_2018'] = readings['2018'].rank(method='max')\n",
    "readings_rank"
   ]
  },
  {
   "cell_type": "code",
   "execution_count": 13,
   "metadata": {},
   "outputs": [],
   "source": [
    "import openpyxl"
   ]
  },
  {
   "cell_type": "code",
   "execution_count": 14,
   "metadata": {},
   "outputs": [],
   "source": [
    "readings.to_excel('new_trend.xlsx', sheet_name='Reading')\n",
    "readings_rank.to_excel('new_trend_rank.xlsx', sheet_name='Reading')"
   ]
  },
  {
   "cell_type": "code",
   "execution_count": 15,
   "metadata": {},
   "outputs": [
    {
     "data": {
      "text/html": [
       "<div>\n",
       "<style scoped>\n",
       "    .dataframe tbody tr th:only-of-type {\n",
       "        vertical-align: middle;\n",
       "    }\n",
       "\n",
       "    .dataframe tbody tr th {\n",
       "        vertical-align: top;\n",
       "    }\n",
       "\n",
       "    .dataframe thead th {\n",
       "        text-align: right;\n",
       "    }\n",
       "</style>\n",
       "<table border=\"1\" class=\"dataframe\">\n",
       "  <thead>\n",
       "    <tr style=\"text-align: right;\">\n",
       "      <th></th>\n",
       "      <th>Countries</th>\n",
       "      <th>2000</th>\n",
       "      <th>se_2000</th>\n",
       "    </tr>\n",
       "  </thead>\n",
       "  <tbody>\n",
       "    <tr>\n",
       "      <th>0</th>\n",
       "      <td>Australia</td>\n",
       "      <td>—</td>\n",
       "      <td>†</td>\n",
       "    </tr>\n",
       "    <tr>\n",
       "      <th>1</th>\n",
       "      <td>Austria</td>\n",
       "      <td>—</td>\n",
       "      <td>†</td>\n",
       "    </tr>\n",
       "    <tr>\n",
       "      <th>2</th>\n",
       "      <td>Belgium</td>\n",
       "      <td>—</td>\n",
       "      <td>†</td>\n",
       "    </tr>\n",
       "    <tr>\n",
       "      <th>3</th>\n",
       "      <td>Canada</td>\n",
       "      <td>—</td>\n",
       "      <td>†</td>\n",
       "    </tr>\n",
       "    <tr>\n",
       "      <th>4</th>\n",
       "      <td>Chile</td>\n",
       "      <td>—</td>\n",
       "      <td>†</td>\n",
       "    </tr>\n",
       "    <tr>\n",
       "      <th>...</th>\n",
       "      <td>...</td>\n",
       "      <td>...</td>\n",
       "      <td>...</td>\n",
       "    </tr>\n",
       "    <tr>\n",
       "      <th>82</th>\n",
       "      <td>Tunisia</td>\n",
       "      <td>—</td>\n",
       "      <td>†</td>\n",
       "    </tr>\n",
       "    <tr>\n",
       "      <th>83</th>\n",
       "      <td>Ukraine</td>\n",
       "      <td>—</td>\n",
       "      <td>†</td>\n",
       "    </tr>\n",
       "    <tr>\n",
       "      <th>84</th>\n",
       "      <td>United Arab Emirates</td>\n",
       "      <td>—</td>\n",
       "      <td>†</td>\n",
       "    </tr>\n",
       "    <tr>\n",
       "      <th>85</th>\n",
       "      <td>Uruguay</td>\n",
       "      <td>—</td>\n",
       "      <td>†</td>\n",
       "    </tr>\n",
       "    <tr>\n",
       "      <th>86</th>\n",
       "      <td>Viet Nam</td>\n",
       "      <td>—</td>\n",
       "      <td>†</td>\n",
       "    </tr>\n",
       "  </tbody>\n",
       "</table>\n",
       "<p>87 rows × 3 columns</p>\n",
       "</div>"
      ],
      "text/plain": [
       "               Countries 2000 se_2000\n",
       "0              Australia    —       †\n",
       "1                Austria    —       †\n",
       "2                Belgium    —       †\n",
       "3                 Canada    —       †\n",
       "4                  Chile    —       †\n",
       "..                   ...  ...     ...\n",
       "82               Tunisia    —       †\n",
       "83               Ukraine    —       †\n",
       "84  United Arab Emirates    —       †\n",
       "85               Uruguay    —       †\n",
       "86              Viet Nam    —       †\n",
       "\n",
       "[87 rows x 3 columns]"
      ]
     },
     "execution_count": 15,
     "metadata": {},
     "output_type": "execute_result"
    }
   ],
   "source": [
    "math2000 = pd.read_excel(\"../data_all/math/math2000.xls\",sheet_name='Report 1- Table',skiprows=[1,2,3,4,5,6,7,8,9,10,11,100,101,102,103,104])\n",
    "math2000.drop(['Unnamed: 0', 'Unnamed: 1'], axis=1, inplace=True)\n",
    "math2000.rename({'Unnamed: 2': 'Countries', 'Unnamed: 3': '2000', 'Unnamed: 4': 'se_2000'}, axis=1, inplace=True)\n",
    "math2000 = math2000.drop(index=[87])\n",
    "math2000"
   ]
  },
  {
   "cell_type": "code",
   "execution_count": 16,
   "metadata": {},
   "outputs": [
    {
     "data": {
      "text/html": [
       "<div>\n",
       "<style scoped>\n",
       "    .dataframe tbody tr th:only-of-type {\n",
       "        vertical-align: middle;\n",
       "    }\n",
       "\n",
       "    .dataframe tbody tr th {\n",
       "        vertical-align: top;\n",
       "    }\n",
       "\n",
       "    .dataframe thead th {\n",
       "        text-align: right;\n",
       "    }\n",
       "</style>\n",
       "<table border=\"1\" class=\"dataframe\">\n",
       "  <thead>\n",
       "    <tr style=\"text-align: right;\">\n",
       "      <th></th>\n",
       "      <th>Countries</th>\n",
       "      <th>2003</th>\n",
       "      <th>se_2003</th>\n",
       "    </tr>\n",
       "  </thead>\n",
       "  <tbody>\n",
       "    <tr>\n",
       "      <th>0</th>\n",
       "      <td>Australia</td>\n",
       "      <td>524.266004</td>\n",
       "      <td>2.148447</td>\n",
       "    </tr>\n",
       "    <tr>\n",
       "      <th>1</th>\n",
       "      <td>Austria</td>\n",
       "      <td>505.610984</td>\n",
       "      <td>3.266191</td>\n",
       "    </tr>\n",
       "    <tr>\n",
       "      <th>2</th>\n",
       "      <td>Belgium</td>\n",
       "      <td>529.286415</td>\n",
       "      <td>2.286061</td>\n",
       "    </tr>\n",
       "    <tr>\n",
       "      <th>3</th>\n",
       "      <td>Canada</td>\n",
       "      <td>532.486736</td>\n",
       "      <td>1.817917</td>\n",
       "    </tr>\n",
       "    <tr>\n",
       "      <th>4</th>\n",
       "      <td>Chile</td>\n",
       "      <td>—</td>\n",
       "      <td>†</td>\n",
       "    </tr>\n",
       "    <tr>\n",
       "      <th>...</th>\n",
       "      <td>...</td>\n",
       "      <td>...</td>\n",
       "      <td>...</td>\n",
       "    </tr>\n",
       "    <tr>\n",
       "      <th>82</th>\n",
       "      <td>Tunisia</td>\n",
       "      <td>358.733222</td>\n",
       "      <td>2.535955</td>\n",
       "    </tr>\n",
       "    <tr>\n",
       "      <th>83</th>\n",
       "      <td>Ukraine</td>\n",
       "      <td>—</td>\n",
       "      <td>†</td>\n",
       "    </tr>\n",
       "    <tr>\n",
       "      <th>84</th>\n",
       "      <td>United Arab Emirates</td>\n",
       "      <td>—</td>\n",
       "      <td>†</td>\n",
       "    </tr>\n",
       "    <tr>\n",
       "      <th>85</th>\n",
       "      <td>Uruguay</td>\n",
       "      <td>422.19988</td>\n",
       "      <td>3.285424</td>\n",
       "    </tr>\n",
       "    <tr>\n",
       "      <th>86</th>\n",
       "      <td>Viet Nam</td>\n",
       "      <td>—</td>\n",
       "      <td>†</td>\n",
       "    </tr>\n",
       "  </tbody>\n",
       "</table>\n",
       "<p>87 rows × 3 columns</p>\n",
       "</div>"
      ],
      "text/plain": [
       "               Countries        2003   se_2003\n",
       "0              Australia  524.266004  2.148447\n",
       "1                Austria  505.610984  3.266191\n",
       "2                Belgium  529.286415  2.286061\n",
       "3                 Canada  532.486736  1.817917\n",
       "4                  Chile           —         †\n",
       "..                   ...         ...       ...\n",
       "82               Tunisia  358.733222  2.535955\n",
       "83               Ukraine           —         †\n",
       "84  United Arab Emirates           —         †\n",
       "85               Uruguay   422.19988  3.285424\n",
       "86              Viet Nam           —         †\n",
       "\n",
       "[87 rows x 3 columns]"
      ]
     },
     "execution_count": 16,
     "metadata": {},
     "output_type": "execute_result"
    }
   ],
   "source": [
    "math2003 = pd.read_excel(\"../data_all/math/math2003.xls\",sheet_name='Report 1- Table',skiprows=[1,2,3,4,5,6,7,8,9,10,11,100,101,102,103,104])\n",
    "math2003.drop(['Unnamed: 0', 'Unnamed: 1'], axis=1, inplace=True)\n",
    "math2003.rename({'Unnamed: 2': 'Countries', 'Unnamed: 3': '2003', 'Unnamed: 4': 'se_2003'}, axis=1, inplace=True)\n",
    "math2003 = math2003.drop(index=[87])\n",
    "math2003"
   ]
  },
  {
   "cell_type": "code",
   "execution_count": 17,
   "metadata": {},
   "outputs": [
    {
     "data": {
      "text/html": [
       "<div>\n",
       "<style scoped>\n",
       "    .dataframe tbody tr th:only-of-type {\n",
       "        vertical-align: middle;\n",
       "    }\n",
       "\n",
       "    .dataframe tbody tr th {\n",
       "        vertical-align: top;\n",
       "    }\n",
       "\n",
       "    .dataframe thead th {\n",
       "        text-align: right;\n",
       "    }\n",
       "</style>\n",
       "<table border=\"1\" class=\"dataframe\">\n",
       "  <thead>\n",
       "    <tr style=\"text-align: right;\">\n",
       "      <th></th>\n",
       "      <th>Countries</th>\n",
       "      <th>2006</th>\n",
       "      <th>se_2006</th>\n",
       "    </tr>\n",
       "  </thead>\n",
       "  <tbody>\n",
       "    <tr>\n",
       "      <th>0</th>\n",
       "      <td>Australia</td>\n",
       "      <td>519.907749</td>\n",
       "      <td>2.240618</td>\n",
       "    </tr>\n",
       "    <tr>\n",
       "      <th>1</th>\n",
       "      <td>Austria</td>\n",
       "      <td>505.483598</td>\n",
       "      <td>3.737765</td>\n",
       "    </tr>\n",
       "    <tr>\n",
       "      <th>2</th>\n",
       "      <td>Belgium</td>\n",
       "      <td>520.348973</td>\n",
       "      <td>2.954633</td>\n",
       "    </tr>\n",
       "    <tr>\n",
       "      <th>3</th>\n",
       "      <td>Canada</td>\n",
       "      <td>527.007179</td>\n",
       "      <td>1.966896</td>\n",
       "    </tr>\n",
       "    <tr>\n",
       "      <th>4</th>\n",
       "      <td>Chile</td>\n",
       "      <td>411.350339</td>\n",
       "      <td>4.58136</td>\n",
       "    </tr>\n",
       "    <tr>\n",
       "      <th>...</th>\n",
       "      <td>...</td>\n",
       "      <td>...</td>\n",
       "      <td>...</td>\n",
       "    </tr>\n",
       "    <tr>\n",
       "      <th>82</th>\n",
       "      <td>Tunisia</td>\n",
       "      <td>365.479375</td>\n",
       "      <td>3.958579</td>\n",
       "    </tr>\n",
       "    <tr>\n",
       "      <th>83</th>\n",
       "      <td>Ukraine</td>\n",
       "      <td>—</td>\n",
       "      <td>†</td>\n",
       "    </tr>\n",
       "    <tr>\n",
       "      <th>84</th>\n",
       "      <td>United Arab Emirates</td>\n",
       "      <td>—</td>\n",
       "      <td>†</td>\n",
       "    </tr>\n",
       "    <tr>\n",
       "      <th>85</th>\n",
       "      <td>Uruguay</td>\n",
       "      <td>426.799041</td>\n",
       "      <td>2.605098</td>\n",
       "    </tr>\n",
       "    <tr>\n",
       "      <th>86</th>\n",
       "      <td>Viet Nam</td>\n",
       "      <td>—</td>\n",
       "      <td>†</td>\n",
       "    </tr>\n",
       "  </tbody>\n",
       "</table>\n",
       "<p>87 rows × 3 columns</p>\n",
       "</div>"
      ],
      "text/plain": [
       "               Countries        2006   se_2006\n",
       "0              Australia  519.907749  2.240618\n",
       "1                Austria  505.483598  3.737765\n",
       "2                Belgium  520.348973  2.954633\n",
       "3                 Canada  527.007179  1.966896\n",
       "4                  Chile  411.350339   4.58136\n",
       "..                   ...         ...       ...\n",
       "82               Tunisia  365.479375  3.958579\n",
       "83               Ukraine           —         †\n",
       "84  United Arab Emirates           —         †\n",
       "85               Uruguay  426.799041  2.605098\n",
       "86              Viet Nam           —         †\n",
       "\n",
       "[87 rows x 3 columns]"
      ]
     },
     "execution_count": 17,
     "metadata": {},
     "output_type": "execute_result"
    }
   ],
   "source": [
    "math2006 = pd.read_excel(\"../data_all/math/math2006.xls\",sheet_name='Report 1- Table',skiprows=[1,2,3,4,5,6,7,8,9,10,11,100,101,102,103,104])\n",
    "math2006.drop(['Unnamed: 0', 'Unnamed: 1'], axis=1, inplace=True)\n",
    "math2006.rename({'Unnamed: 2': 'Countries', 'Unnamed: 3': '2006', 'Unnamed: 4': 'se_2006'}, axis=1, inplace=True)\n",
    "math2006 = math2006.drop(index=[87])\n",
    "math2006"
   ]
  },
  {
   "cell_type": "code",
   "execution_count": 18,
   "metadata": {},
   "outputs": [
    {
     "data": {
      "text/html": [
       "<div>\n",
       "<style scoped>\n",
       "    .dataframe tbody tr th:only-of-type {\n",
       "        vertical-align: middle;\n",
       "    }\n",
       "\n",
       "    .dataframe tbody tr th {\n",
       "        vertical-align: top;\n",
       "    }\n",
       "\n",
       "    .dataframe thead th {\n",
       "        text-align: right;\n",
       "    }\n",
       "</style>\n",
       "<table border=\"1\" class=\"dataframe\">\n",
       "  <thead>\n",
       "    <tr style=\"text-align: right;\">\n",
       "      <th></th>\n",
       "      <th>Countries</th>\n",
       "      <th>2009</th>\n",
       "      <th>se_2009</th>\n",
       "    </tr>\n",
       "  </thead>\n",
       "  <tbody>\n",
       "    <tr>\n",
       "      <th>0</th>\n",
       "      <td>Australia</td>\n",
       "      <td>514.340462</td>\n",
       "      <td>2.528262</td>\n",
       "    </tr>\n",
       "    <tr>\n",
       "      <th>1</th>\n",
       "      <td>Austria</td>\n",
       "      <td>495.908655</td>\n",
       "      <td>2.657693</td>\n",
       "    </tr>\n",
       "    <tr>\n",
       "      <th>2</th>\n",
       "      <td>Belgium</td>\n",
       "      <td>515.272277</td>\n",
       "      <td>2.254316</td>\n",
       "    </tr>\n",
       "    <tr>\n",
       "      <th>3</th>\n",
       "      <td>Canada</td>\n",
       "      <td>526.805153</td>\n",
       "      <td>1.61357</td>\n",
       "    </tr>\n",
       "    <tr>\n",
       "      <th>4</th>\n",
       "      <td>Chile</td>\n",
       "      <td>421.060473</td>\n",
       "      <td>3.059392</td>\n",
       "    </tr>\n",
       "    <tr>\n",
       "      <th>...</th>\n",
       "      <td>...</td>\n",
       "      <td>...</td>\n",
       "      <td>...</td>\n",
       "    </tr>\n",
       "    <tr>\n",
       "      <th>82</th>\n",
       "      <td>Tunisia</td>\n",
       "      <td>371.483503</td>\n",
       "      <td>2.983752</td>\n",
       "    </tr>\n",
       "    <tr>\n",
       "      <th>83</th>\n",
       "      <td>Ukraine</td>\n",
       "      <td>—</td>\n",
       "      <td>†</td>\n",
       "    </tr>\n",
       "    <tr>\n",
       "      <th>84</th>\n",
       "      <td>United Arab Emirates</td>\n",
       "      <td>—</td>\n",
       "      <td>†</td>\n",
       "    </tr>\n",
       "    <tr>\n",
       "      <th>85</th>\n",
       "      <td>Uruguay</td>\n",
       "      <td>426.723773</td>\n",
       "      <td>2.587525</td>\n",
       "    </tr>\n",
       "    <tr>\n",
       "      <th>86</th>\n",
       "      <td>Viet Nam</td>\n",
       "      <td>—</td>\n",
       "      <td>†</td>\n",
       "    </tr>\n",
       "  </tbody>\n",
       "</table>\n",
       "<p>87 rows × 3 columns</p>\n",
       "</div>"
      ],
      "text/plain": [
       "               Countries        2009   se_2009\n",
       "0              Australia  514.340462  2.528262\n",
       "1                Austria  495.908655  2.657693\n",
       "2                Belgium  515.272277  2.254316\n",
       "3                 Canada  526.805153   1.61357\n",
       "4                  Chile  421.060473  3.059392\n",
       "..                   ...         ...       ...\n",
       "82               Tunisia  371.483503  2.983752\n",
       "83               Ukraine           —         †\n",
       "84  United Arab Emirates           —         †\n",
       "85               Uruguay  426.723773  2.587525\n",
       "86              Viet Nam           —         †\n",
       "\n",
       "[87 rows x 3 columns]"
      ]
     },
     "execution_count": 18,
     "metadata": {},
     "output_type": "execute_result"
    }
   ],
   "source": [
    "math2009 = pd.read_excel(\"../data_all/math/math2009.xls\",sheet_name='Report 1- Table',skiprows=[1,2,3,4,5,6,7,8,9,10,11,100,101,102,103,104])\n",
    "math2009.drop(['Unnamed: 0', 'Unnamed: 1'], axis=1, inplace=True)\n",
    "math2009.rename({'Unnamed: 2': 'Countries', 'Unnamed: 3': '2009', 'Unnamed: 4': 'se_2009'}, axis=1, inplace=True)\n",
    "math2009 = math2009.drop(index=[87])\n",
    "math2009"
   ]
  },
  {
   "cell_type": "code",
   "execution_count": 19,
   "metadata": {},
   "outputs": [
    {
     "data": {
      "text/html": [
       "<div>\n",
       "<style scoped>\n",
       "    .dataframe tbody tr th:only-of-type {\n",
       "        vertical-align: middle;\n",
       "    }\n",
       "\n",
       "    .dataframe tbody tr th {\n",
       "        vertical-align: top;\n",
       "    }\n",
       "\n",
       "    .dataframe thead th {\n",
       "        text-align: right;\n",
       "    }\n",
       "</style>\n",
       "<table border=\"1\" class=\"dataframe\">\n",
       "  <thead>\n",
       "    <tr style=\"text-align: right;\">\n",
       "      <th></th>\n",
       "      <th>Countries</th>\n",
       "      <th>2012</th>\n",
       "      <th>se_2012</th>\n",
       "    </tr>\n",
       "  </thead>\n",
       "  <tbody>\n",
       "    <tr>\n",
       "      <th>0</th>\n",
       "      <td>Australia</td>\n",
       "      <td>504.150766</td>\n",
       "      <td>1.643078</td>\n",
       "    </tr>\n",
       "    <tr>\n",
       "      <th>1</th>\n",
       "      <td>Austria</td>\n",
       "      <td>505.540743</td>\n",
       "      <td>2.668064</td>\n",
       "    </tr>\n",
       "    <tr>\n",
       "      <th>2</th>\n",
       "      <td>Belgium</td>\n",
       "      <td>514.529245</td>\n",
       "      <td>2.144891</td>\n",
       "    </tr>\n",
       "    <tr>\n",
       "      <th>3</th>\n",
       "      <td>Canada</td>\n",
       "      <td>518.0704</td>\n",
       "      <td>1.841355</td>\n",
       "    </tr>\n",
       "    <tr>\n",
       "      <th>4</th>\n",
       "      <td>Chile</td>\n",
       "      <td>422.632356</td>\n",
       "      <td>3.067258</td>\n",
       "    </tr>\n",
       "    <tr>\n",
       "      <th>...</th>\n",
       "      <td>...</td>\n",
       "      <td>...</td>\n",
       "      <td>...</td>\n",
       "    </tr>\n",
       "    <tr>\n",
       "      <th>82</th>\n",
       "      <td>Tunisia</td>\n",
       "      <td>387.82463</td>\n",
       "      <td>3.914504</td>\n",
       "    </tr>\n",
       "    <tr>\n",
       "      <th>83</th>\n",
       "      <td>Ukraine</td>\n",
       "      <td>—</td>\n",
       "      <td>†</td>\n",
       "    </tr>\n",
       "    <tr>\n",
       "      <th>84</th>\n",
       "      <td>United Arab Emirates</td>\n",
       "      <td>434.007165</td>\n",
       "      <td>2.425599</td>\n",
       "    </tr>\n",
       "    <tr>\n",
       "      <th>85</th>\n",
       "      <td>Uruguay</td>\n",
       "      <td>409.291568</td>\n",
       "      <td>2.763756</td>\n",
       "    </tr>\n",
       "    <tr>\n",
       "      <th>86</th>\n",
       "      <td>Viet Nam</td>\n",
       "      <td>511.338207</td>\n",
       "      <td>4.84018</td>\n",
       "    </tr>\n",
       "  </tbody>\n",
       "</table>\n",
       "<p>87 rows × 3 columns</p>\n",
       "</div>"
      ],
      "text/plain": [
       "               Countries        2012   se_2012\n",
       "0              Australia  504.150766  1.643078\n",
       "1                Austria  505.540743  2.668064\n",
       "2                Belgium  514.529245  2.144891\n",
       "3                 Canada    518.0704  1.841355\n",
       "4                  Chile  422.632356  3.067258\n",
       "..                   ...         ...       ...\n",
       "82               Tunisia   387.82463  3.914504\n",
       "83               Ukraine           —         †\n",
       "84  United Arab Emirates  434.007165  2.425599\n",
       "85               Uruguay  409.291568  2.763756\n",
       "86              Viet Nam  511.338207   4.84018\n",
       "\n",
       "[87 rows x 3 columns]"
      ]
     },
     "execution_count": 19,
     "metadata": {},
     "output_type": "execute_result"
    }
   ],
   "source": [
    "math2012 = pd.read_excel(\"../data_all/math/math2012.xls\",sheet_name='Report 1- Table',skiprows=[1,2,3,4,5,6,7,8,9,10,11,100,101,102,103,104])\n",
    "math2012.drop(['Unnamed: 0', 'Unnamed: 1'], axis=1, inplace=True)\n",
    "math2012.rename({'Unnamed: 2': 'Countries', 'Unnamed: 3': '2012', 'Unnamed: 4': 'se_2012'}, axis=1, inplace=True)\n",
    "math2012 = math2012.drop(index=[87])\n",
    "math2012"
   ]
  },
  {
   "cell_type": "code",
   "execution_count": 20,
   "metadata": {},
   "outputs": [
    {
     "data": {
      "text/html": [
       "<div>\n",
       "<style scoped>\n",
       "    .dataframe tbody tr th:only-of-type {\n",
       "        vertical-align: middle;\n",
       "    }\n",
       "\n",
       "    .dataframe tbody tr th {\n",
       "        vertical-align: top;\n",
       "    }\n",
       "\n",
       "    .dataframe thead th {\n",
       "        text-align: right;\n",
       "    }\n",
       "</style>\n",
       "<table border=\"1\" class=\"dataframe\">\n",
       "  <thead>\n",
       "    <tr style=\"text-align: right;\">\n",
       "      <th></th>\n",
       "      <th>Countries</th>\n",
       "      <th>2015</th>\n",
       "      <th>se_2015</th>\n",
       "    </tr>\n",
       "  </thead>\n",
       "  <tbody>\n",
       "    <tr>\n",
       "      <th>0</th>\n",
       "      <td>Australia</td>\n",
       "      <td>493.896231</td>\n",
       "      <td>1.605352</td>\n",
       "    </tr>\n",
       "    <tr>\n",
       "      <th>1</th>\n",
       "      <td>Austria</td>\n",
       "      <td>496.742274</td>\n",
       "      <td>2.860861</td>\n",
       "    </tr>\n",
       "    <tr>\n",
       "      <th>2</th>\n",
       "      <td>Belgium</td>\n",
       "      <td>506.984362</td>\n",
       "      <td>2.350343</td>\n",
       "    </tr>\n",
       "    <tr>\n",
       "      <th>3</th>\n",
       "      <td>Canada</td>\n",
       "      <td>515.647428</td>\n",
       "      <td>2.313085</td>\n",
       "    </tr>\n",
       "    <tr>\n",
       "      <th>4</th>\n",
       "      <td>Chile</td>\n",
       "      <td>422.671358</td>\n",
       "      <td>2.539463</td>\n",
       "    </tr>\n",
       "    <tr>\n",
       "      <th>...</th>\n",
       "      <td>...</td>\n",
       "      <td>...</td>\n",
       "      <td>...</td>\n",
       "    </tr>\n",
       "    <tr>\n",
       "      <th>82</th>\n",
       "      <td>Tunisia</td>\n",
       "      <td>366.817985</td>\n",
       "      <td>2.951566</td>\n",
       "    </tr>\n",
       "    <tr>\n",
       "      <th>83</th>\n",
       "      <td>Ukraine</td>\n",
       "      <td>—</td>\n",
       "      <td>†</td>\n",
       "    </tr>\n",
       "    <tr>\n",
       "      <th>84</th>\n",
       "      <td>United Arab Emirates</td>\n",
       "      <td>427.482739</td>\n",
       "      <td>2.407671</td>\n",
       "    </tr>\n",
       "    <tr>\n",
       "      <th>85</th>\n",
       "      <td>Uruguay</td>\n",
       "      <td>417.991883</td>\n",
       "      <td>2.495968</td>\n",
       "    </tr>\n",
       "    <tr>\n",
       "      <th>86</th>\n",
       "      <td>Viet Nam</td>\n",
       "      <td>494.518311</td>\n",
       "      <td>4.457713</td>\n",
       "    </tr>\n",
       "  </tbody>\n",
       "</table>\n",
       "<p>87 rows × 3 columns</p>\n",
       "</div>"
      ],
      "text/plain": [
       "               Countries        2015   se_2015\n",
       "0              Australia  493.896231  1.605352\n",
       "1                Austria  496.742274  2.860861\n",
       "2                Belgium  506.984362  2.350343\n",
       "3                 Canada  515.647428  2.313085\n",
       "4                  Chile  422.671358  2.539463\n",
       "..                   ...         ...       ...\n",
       "82               Tunisia  366.817985  2.951566\n",
       "83               Ukraine           —         †\n",
       "84  United Arab Emirates  427.482739  2.407671\n",
       "85               Uruguay  417.991883  2.495968\n",
       "86              Viet Nam  494.518311  4.457713\n",
       "\n",
       "[87 rows x 3 columns]"
      ]
     },
     "execution_count": 20,
     "metadata": {},
     "output_type": "execute_result"
    }
   ],
   "source": [
    "math2015 = pd.read_excel(\"../data_all/math/math2015.xls\",sheet_name='Report 1- Table',skiprows=[1,2,3,4,5,6,7,8,9,10,11,100,101,102,103,104])\n",
    "math2015.drop(['Unnamed: 0', 'Unnamed: 1'], axis=1, inplace=True)\n",
    "math2015.rename({'Unnamed: 2': 'Countries', 'Unnamed: 3': '2015', 'Unnamed: 4': 'se_2015'}, axis=1, inplace=True)\n",
    "math2015 = math2015.drop(index=[87])\n",
    "math2015"
   ]
  },
  {
   "cell_type": "code",
   "execution_count": 21,
   "metadata": {},
   "outputs": [
    {
     "data": {
      "text/html": [
       "<div>\n",
       "<style scoped>\n",
       "    .dataframe tbody tr th:only-of-type {\n",
       "        vertical-align: middle;\n",
       "    }\n",
       "\n",
       "    .dataframe tbody tr th {\n",
       "        vertical-align: top;\n",
       "    }\n",
       "\n",
       "    .dataframe thead th {\n",
       "        text-align: right;\n",
       "    }\n",
       "</style>\n",
       "<table border=\"1\" class=\"dataframe\">\n",
       "  <thead>\n",
       "    <tr style=\"text-align: right;\">\n",
       "      <th></th>\n",
       "      <th>Countries</th>\n",
       "      <th>2018</th>\n",
       "      <th>se_2018</th>\n",
       "    </tr>\n",
       "  </thead>\n",
       "  <tbody>\n",
       "    <tr>\n",
       "      <th>0</th>\n",
       "      <td>Australia</td>\n",
       "      <td>491.360025</td>\n",
       "      <td>1.939833</td>\n",
       "    </tr>\n",
       "    <tr>\n",
       "      <th>1</th>\n",
       "      <td>Austria</td>\n",
       "      <td>498.942314</td>\n",
       "      <td>2.970999</td>\n",
       "    </tr>\n",
       "    <tr>\n",
       "      <th>2</th>\n",
       "      <td>Belgium</td>\n",
       "      <td>508.070306</td>\n",
       "      <td>2.262662</td>\n",
       "    </tr>\n",
       "    <tr>\n",
       "      <th>3</th>\n",
       "      <td>Canada</td>\n",
       "      <td>512.016943</td>\n",
       "      <td>2.357476</td>\n",
       "    </tr>\n",
       "    <tr>\n",
       "      <th>4</th>\n",
       "      <td>Chile</td>\n",
       "      <td>417.406556</td>\n",
       "      <td>2.415888</td>\n",
       "    </tr>\n",
       "    <tr>\n",
       "      <th>...</th>\n",
       "      <td>...</td>\n",
       "      <td>...</td>\n",
       "      <td>...</td>\n",
       "    </tr>\n",
       "    <tr>\n",
       "      <th>82</th>\n",
       "      <td>Tunisia</td>\n",
       "      <td>—</td>\n",
       "      <td>†</td>\n",
       "    </tr>\n",
       "    <tr>\n",
       "      <th>83</th>\n",
       "      <td>Ukraine</td>\n",
       "      <td>453.117499</td>\n",
       "      <td>3.645459</td>\n",
       "    </tr>\n",
       "    <tr>\n",
       "      <th>84</th>\n",
       "      <td>United Arab Emirates</td>\n",
       "      <td>434.947252</td>\n",
       "      <td>2.144375</td>\n",
       "    </tr>\n",
       "    <tr>\n",
       "      <th>85</th>\n",
       "      <td>Uruguay</td>\n",
       "      <td>417.661617</td>\n",
       "      <td>2.632388</td>\n",
       "    </tr>\n",
       "    <tr>\n",
       "      <th>86</th>\n",
       "      <td>Viet Nam</td>\n",
       "      <td>—</td>\n",
       "      <td>†</td>\n",
       "    </tr>\n",
       "  </tbody>\n",
       "</table>\n",
       "<p>87 rows × 3 columns</p>\n",
       "</div>"
      ],
      "text/plain": [
       "               Countries        2018   se_2018\n",
       "0              Australia  491.360025  1.939833\n",
       "1                Austria  498.942314  2.970999\n",
       "2                Belgium  508.070306  2.262662\n",
       "3                 Canada  512.016943  2.357476\n",
       "4                  Chile  417.406556  2.415888\n",
       "..                   ...         ...       ...\n",
       "82               Tunisia           —         †\n",
       "83               Ukraine  453.117499  3.645459\n",
       "84  United Arab Emirates  434.947252  2.144375\n",
       "85               Uruguay  417.661617  2.632388\n",
       "86              Viet Nam           —         †\n",
       "\n",
       "[87 rows x 3 columns]"
      ]
     },
     "execution_count": 21,
     "metadata": {},
     "output_type": "execute_result"
    }
   ],
   "source": [
    "math2018 = pd.read_excel(\"../data_all/math/math2018.xls\",sheet_name='Report 1- Table',skiprows=[1,2,3,4,5,6,7,8,9,10,11,100,101,102,103,104])\n",
    "math2018.drop(['Unnamed: 0', 'Unnamed: 1'], axis=1, inplace=True)\n",
    "math2018.rename({'Unnamed: 2': 'Countries', 'Unnamed: 3': '2018', 'Unnamed: 4': 'se_2018'}, axis=1, inplace=True)\n",
    "math2018 = math2018.drop(index=[87])\n",
    "math2018"
   ]
  },
  {
   "cell_type": "code",
   "execution_count": 22,
   "metadata": {},
   "outputs": [
    {
     "data": {
      "text/html": [
       "<div>\n",
       "<style scoped>\n",
       "    .dataframe tbody tr th:only-of-type {\n",
       "        vertical-align: middle;\n",
       "    }\n",
       "\n",
       "    .dataframe tbody tr th {\n",
       "        vertical-align: top;\n",
       "    }\n",
       "\n",
       "    .dataframe thead th {\n",
       "        text-align: right;\n",
       "    }\n",
       "</style>\n",
       "<table border=\"1\" class=\"dataframe\">\n",
       "  <thead>\n",
       "    <tr style=\"text-align: right;\">\n",
       "      <th></th>\n",
       "      <th>Countries</th>\n",
       "      <th>2000</th>\n",
       "      <th>se_2000</th>\n",
       "      <th>2003</th>\n",
       "      <th>se_2003</th>\n",
       "      <th>2006</th>\n",
       "      <th>se_2006</th>\n",
       "      <th>2009</th>\n",
       "      <th>se_2009</th>\n",
       "      <th>2012</th>\n",
       "      <th>se_2012</th>\n",
       "      <th>2015</th>\n",
       "      <th>se_2015</th>\n",
       "      <th>2018</th>\n",
       "      <th>se_2018</th>\n",
       "    </tr>\n",
       "  </thead>\n",
       "  <tbody>\n",
       "    <tr>\n",
       "      <th>0</th>\n",
       "      <td>Australia</td>\n",
       "      <td>—</td>\n",
       "      <td>†</td>\n",
       "      <td>524.266004</td>\n",
       "      <td>2.148447</td>\n",
       "      <td>519.907749</td>\n",
       "      <td>2.240618</td>\n",
       "      <td>514.340462</td>\n",
       "      <td>2.528262</td>\n",
       "      <td>504.150766</td>\n",
       "      <td>1.643078</td>\n",
       "      <td>493.896231</td>\n",
       "      <td>1.605352</td>\n",
       "      <td>491.360025</td>\n",
       "      <td>1.939833</td>\n",
       "    </tr>\n",
       "    <tr>\n",
       "      <th>1</th>\n",
       "      <td>Austria</td>\n",
       "      <td>—</td>\n",
       "      <td>†</td>\n",
       "      <td>505.610984</td>\n",
       "      <td>3.266191</td>\n",
       "      <td>505.483598</td>\n",
       "      <td>3.737765</td>\n",
       "      <td>495.908655</td>\n",
       "      <td>2.657693</td>\n",
       "      <td>505.540743</td>\n",
       "      <td>2.668064</td>\n",
       "      <td>496.742274</td>\n",
       "      <td>2.860861</td>\n",
       "      <td>498.942314</td>\n",
       "      <td>2.970999</td>\n",
       "    </tr>\n",
       "    <tr>\n",
       "      <th>2</th>\n",
       "      <td>Belgium</td>\n",
       "      <td>—</td>\n",
       "      <td>†</td>\n",
       "      <td>529.286415</td>\n",
       "      <td>2.286061</td>\n",
       "      <td>520.348973</td>\n",
       "      <td>2.954633</td>\n",
       "      <td>515.272277</td>\n",
       "      <td>2.254316</td>\n",
       "      <td>514.529245</td>\n",
       "      <td>2.144891</td>\n",
       "      <td>506.984362</td>\n",
       "      <td>2.350343</td>\n",
       "      <td>508.070306</td>\n",
       "      <td>2.262662</td>\n",
       "    </tr>\n",
       "    <tr>\n",
       "      <th>3</th>\n",
       "      <td>Canada</td>\n",
       "      <td>—</td>\n",
       "      <td>†</td>\n",
       "      <td>532.486736</td>\n",
       "      <td>1.817917</td>\n",
       "      <td>527.007179</td>\n",
       "      <td>1.966896</td>\n",
       "      <td>526.805153</td>\n",
       "      <td>1.61357</td>\n",
       "      <td>518.0704</td>\n",
       "      <td>1.841355</td>\n",
       "      <td>515.647428</td>\n",
       "      <td>2.313085</td>\n",
       "      <td>512.016943</td>\n",
       "      <td>2.357476</td>\n",
       "    </tr>\n",
       "    <tr>\n",
       "      <th>4</th>\n",
       "      <td>Chile</td>\n",
       "      <td>—</td>\n",
       "      <td>†</td>\n",
       "      <td>—</td>\n",
       "      <td>†</td>\n",
       "      <td>411.350339</td>\n",
       "      <td>4.58136</td>\n",
       "      <td>421.060473</td>\n",
       "      <td>3.059392</td>\n",
       "      <td>422.632356</td>\n",
       "      <td>3.067258</td>\n",
       "      <td>422.671358</td>\n",
       "      <td>2.539463</td>\n",
       "      <td>417.406556</td>\n",
       "      <td>2.415888</td>\n",
       "    </tr>\n",
       "    <tr>\n",
       "      <th>...</th>\n",
       "      <td>...</td>\n",
       "      <td>...</td>\n",
       "      <td>...</td>\n",
       "      <td>...</td>\n",
       "      <td>...</td>\n",
       "      <td>...</td>\n",
       "      <td>...</td>\n",
       "      <td>...</td>\n",
       "      <td>...</td>\n",
       "      <td>...</td>\n",
       "      <td>...</td>\n",
       "      <td>...</td>\n",
       "      <td>...</td>\n",
       "      <td>...</td>\n",
       "      <td>...</td>\n",
       "    </tr>\n",
       "    <tr>\n",
       "      <th>82</th>\n",
       "      <td>Tunisia</td>\n",
       "      <td>—</td>\n",
       "      <td>†</td>\n",
       "      <td>358.733222</td>\n",
       "      <td>2.535955</td>\n",
       "      <td>365.479375</td>\n",
       "      <td>3.958579</td>\n",
       "      <td>371.483503</td>\n",
       "      <td>2.983752</td>\n",
       "      <td>387.82463</td>\n",
       "      <td>3.914504</td>\n",
       "      <td>366.817985</td>\n",
       "      <td>2.951566</td>\n",
       "      <td>—</td>\n",
       "      <td>†</td>\n",
       "    </tr>\n",
       "    <tr>\n",
       "      <th>83</th>\n",
       "      <td>Ukraine</td>\n",
       "      <td>—</td>\n",
       "      <td>†</td>\n",
       "      <td>—</td>\n",
       "      <td>†</td>\n",
       "      <td>—</td>\n",
       "      <td>†</td>\n",
       "      <td>—</td>\n",
       "      <td>†</td>\n",
       "      <td>—</td>\n",
       "      <td>†</td>\n",
       "      <td>—</td>\n",
       "      <td>†</td>\n",
       "      <td>453.117499</td>\n",
       "      <td>3.645459</td>\n",
       "    </tr>\n",
       "    <tr>\n",
       "      <th>84</th>\n",
       "      <td>United Arab Emirates</td>\n",
       "      <td>—</td>\n",
       "      <td>†</td>\n",
       "      <td>—</td>\n",
       "      <td>†</td>\n",
       "      <td>—</td>\n",
       "      <td>†</td>\n",
       "      <td>—</td>\n",
       "      <td>†</td>\n",
       "      <td>434.007165</td>\n",
       "      <td>2.425599</td>\n",
       "      <td>427.482739</td>\n",
       "      <td>2.407671</td>\n",
       "      <td>434.947252</td>\n",
       "      <td>2.144375</td>\n",
       "    </tr>\n",
       "    <tr>\n",
       "      <th>85</th>\n",
       "      <td>Uruguay</td>\n",
       "      <td>—</td>\n",
       "      <td>†</td>\n",
       "      <td>422.19988</td>\n",
       "      <td>3.285424</td>\n",
       "      <td>426.799041</td>\n",
       "      <td>2.605098</td>\n",
       "      <td>426.723773</td>\n",
       "      <td>2.587525</td>\n",
       "      <td>409.291568</td>\n",
       "      <td>2.763756</td>\n",
       "      <td>417.991883</td>\n",
       "      <td>2.495968</td>\n",
       "      <td>417.661617</td>\n",
       "      <td>2.632388</td>\n",
       "    </tr>\n",
       "    <tr>\n",
       "      <th>86</th>\n",
       "      <td>Viet Nam</td>\n",
       "      <td>—</td>\n",
       "      <td>†</td>\n",
       "      <td>—</td>\n",
       "      <td>†</td>\n",
       "      <td>—</td>\n",
       "      <td>†</td>\n",
       "      <td>—</td>\n",
       "      <td>†</td>\n",
       "      <td>511.338207</td>\n",
       "      <td>4.84018</td>\n",
       "      <td>494.518311</td>\n",
       "      <td>4.457713</td>\n",
       "      <td>—</td>\n",
       "      <td>†</td>\n",
       "    </tr>\n",
       "  </tbody>\n",
       "</table>\n",
       "<p>87 rows × 15 columns</p>\n",
       "</div>"
      ],
      "text/plain": [
       "               Countries 2000 se_2000        2003   se_2003        2006  \\\n",
       "0              Australia    —       †  524.266004  2.148447  519.907749   \n",
       "1                Austria    —       †  505.610984  3.266191  505.483598   \n",
       "2                Belgium    —       †  529.286415  2.286061  520.348973   \n",
       "3                 Canada    —       †  532.486736  1.817917  527.007179   \n",
       "4                  Chile    —       †           —         †  411.350339   \n",
       "..                   ...  ...     ...         ...       ...         ...   \n",
       "82               Tunisia    —       †  358.733222  2.535955  365.479375   \n",
       "83               Ukraine    —       †           —         †           —   \n",
       "84  United Arab Emirates    —       †           —         †           —   \n",
       "85               Uruguay    —       †   422.19988  3.285424  426.799041   \n",
       "86              Viet Nam    —       †           —         †           —   \n",
       "\n",
       "     se_2006        2009   se_2009        2012   se_2012        2015  \\\n",
       "0   2.240618  514.340462  2.528262  504.150766  1.643078  493.896231   \n",
       "1   3.737765  495.908655  2.657693  505.540743  2.668064  496.742274   \n",
       "2   2.954633  515.272277  2.254316  514.529245  2.144891  506.984362   \n",
       "3   1.966896  526.805153   1.61357    518.0704  1.841355  515.647428   \n",
       "4    4.58136  421.060473  3.059392  422.632356  3.067258  422.671358   \n",
       "..       ...         ...       ...         ...       ...         ...   \n",
       "82  3.958579  371.483503  2.983752   387.82463  3.914504  366.817985   \n",
       "83         †           —         †           —         †           —   \n",
       "84         †           —         †  434.007165  2.425599  427.482739   \n",
       "85  2.605098  426.723773  2.587525  409.291568  2.763756  417.991883   \n",
       "86         †           —         †  511.338207   4.84018  494.518311   \n",
       "\n",
       "     se_2015        2018   se_2018  \n",
       "0   1.605352  491.360025  1.939833  \n",
       "1   2.860861  498.942314  2.970999  \n",
       "2   2.350343  508.070306  2.262662  \n",
       "3   2.313085  512.016943  2.357476  \n",
       "4   2.539463  417.406556  2.415888  \n",
       "..       ...         ...       ...  \n",
       "82  2.951566           —         †  \n",
       "83         †  453.117499  3.645459  \n",
       "84  2.407671  434.947252  2.144375  \n",
       "85  2.495968  417.661617  2.632388  \n",
       "86  4.457713           —         †  \n",
       "\n",
       "[87 rows x 15 columns]"
      ]
     },
     "execution_count": 22,
     "metadata": {},
     "output_type": "execute_result"
    }
   ],
   "source": [
    "math = pd.merge(pd.merge(pd.merge(pd.merge(pd.merge(pd.merge(math2000,math2003,on='Countries'), math2006, on='Countries'), math2009, on='Countries'), math2012, on='Countries'),math2015, on='Countries'), math2018, on='Countries')\n",
    "math"
   ]
  },
  {
   "cell_type": "code",
   "execution_count": 23,
   "metadata": {},
   "outputs": [
    {
     "data": {
      "text/html": [
       "<div>\n",
       "<style scoped>\n",
       "    .dataframe tbody tr th:only-of-type {\n",
       "        vertical-align: middle;\n",
       "    }\n",
       "\n",
       "    .dataframe tbody tr th {\n",
       "        vertical-align: top;\n",
       "    }\n",
       "\n",
       "    .dataframe thead th {\n",
       "        text-align: right;\n",
       "    }\n",
       "</style>\n",
       "<table border=\"1\" class=\"dataframe\">\n",
       "  <thead>\n",
       "    <tr style=\"text-align: right;\">\n",
       "      <th></th>\n",
       "      <th>Countries</th>\n",
       "      <th>2000</th>\n",
       "      <th>se_2000</th>\n",
       "      <th>2003</th>\n",
       "      <th>se_2003</th>\n",
       "      <th>2006</th>\n",
       "      <th>se_2006</th>\n",
       "      <th>2009</th>\n",
       "      <th>se_2009</th>\n",
       "      <th>2012</th>\n",
       "      <th>se_2012</th>\n",
       "      <th>2015</th>\n",
       "      <th>se_2015</th>\n",
       "      <th>2018</th>\n",
       "      <th>se_2018</th>\n",
       "    </tr>\n",
       "  </thead>\n",
       "  <tbody>\n",
       "    <tr>\n",
       "      <th>0</th>\n",
       "      <td>Australia</td>\n",
       "      <td>NaN</td>\n",
       "      <td>NaN</td>\n",
       "      <td>524.266004</td>\n",
       "      <td>2.148447</td>\n",
       "      <td>519.907749</td>\n",
       "      <td>2.240618</td>\n",
       "      <td>514.340462</td>\n",
       "      <td>2.528262</td>\n",
       "      <td>504.150766</td>\n",
       "      <td>1.643078</td>\n",
       "      <td>493.896231</td>\n",
       "      <td>1.605352</td>\n",
       "      <td>491.360025</td>\n",
       "      <td>1.939833</td>\n",
       "    </tr>\n",
       "    <tr>\n",
       "      <th>1</th>\n",
       "      <td>Austria</td>\n",
       "      <td>NaN</td>\n",
       "      <td>NaN</td>\n",
       "      <td>505.610984</td>\n",
       "      <td>3.266191</td>\n",
       "      <td>505.483598</td>\n",
       "      <td>3.737765</td>\n",
       "      <td>495.908655</td>\n",
       "      <td>2.657693</td>\n",
       "      <td>505.540743</td>\n",
       "      <td>2.668064</td>\n",
       "      <td>496.742274</td>\n",
       "      <td>2.860861</td>\n",
       "      <td>498.942314</td>\n",
       "      <td>2.970999</td>\n",
       "    </tr>\n",
       "    <tr>\n",
       "      <th>2</th>\n",
       "      <td>Belgium</td>\n",
       "      <td>NaN</td>\n",
       "      <td>NaN</td>\n",
       "      <td>529.286415</td>\n",
       "      <td>2.286061</td>\n",
       "      <td>520.348973</td>\n",
       "      <td>2.954633</td>\n",
       "      <td>515.272277</td>\n",
       "      <td>2.254316</td>\n",
       "      <td>514.529245</td>\n",
       "      <td>2.144891</td>\n",
       "      <td>506.984362</td>\n",
       "      <td>2.350343</td>\n",
       "      <td>508.070306</td>\n",
       "      <td>2.262662</td>\n",
       "    </tr>\n",
       "    <tr>\n",
       "      <th>3</th>\n",
       "      <td>Canada</td>\n",
       "      <td>NaN</td>\n",
       "      <td>NaN</td>\n",
       "      <td>532.486736</td>\n",
       "      <td>1.817917</td>\n",
       "      <td>527.007179</td>\n",
       "      <td>1.966896</td>\n",
       "      <td>526.805153</td>\n",
       "      <td>1.613570</td>\n",
       "      <td>518.070400</td>\n",
       "      <td>1.841355</td>\n",
       "      <td>515.647428</td>\n",
       "      <td>2.313085</td>\n",
       "      <td>512.016943</td>\n",
       "      <td>2.357476</td>\n",
       "    </tr>\n",
       "    <tr>\n",
       "      <th>4</th>\n",
       "      <td>Chile</td>\n",
       "      <td>NaN</td>\n",
       "      <td>NaN</td>\n",
       "      <td>NaN</td>\n",
       "      <td>NaN</td>\n",
       "      <td>411.350339</td>\n",
       "      <td>4.581360</td>\n",
       "      <td>421.060473</td>\n",
       "      <td>3.059392</td>\n",
       "      <td>422.632356</td>\n",
       "      <td>3.067258</td>\n",
       "      <td>422.671358</td>\n",
       "      <td>2.539463</td>\n",
       "      <td>417.406556</td>\n",
       "      <td>2.415888</td>\n",
       "    </tr>\n",
       "    <tr>\n",
       "      <th>...</th>\n",
       "      <td>...</td>\n",
       "      <td>...</td>\n",
       "      <td>...</td>\n",
       "      <td>...</td>\n",
       "      <td>...</td>\n",
       "      <td>...</td>\n",
       "      <td>...</td>\n",
       "      <td>...</td>\n",
       "      <td>...</td>\n",
       "      <td>...</td>\n",
       "      <td>...</td>\n",
       "      <td>...</td>\n",
       "      <td>...</td>\n",
       "      <td>...</td>\n",
       "      <td>...</td>\n",
       "    </tr>\n",
       "    <tr>\n",
       "      <th>82</th>\n",
       "      <td>Tunisia</td>\n",
       "      <td>NaN</td>\n",
       "      <td>NaN</td>\n",
       "      <td>358.733222</td>\n",
       "      <td>2.535955</td>\n",
       "      <td>365.479375</td>\n",
       "      <td>3.958579</td>\n",
       "      <td>371.483503</td>\n",
       "      <td>2.983752</td>\n",
       "      <td>387.824630</td>\n",
       "      <td>3.914504</td>\n",
       "      <td>366.817985</td>\n",
       "      <td>2.951566</td>\n",
       "      <td>NaN</td>\n",
       "      <td>NaN</td>\n",
       "    </tr>\n",
       "    <tr>\n",
       "      <th>83</th>\n",
       "      <td>Ukraine</td>\n",
       "      <td>NaN</td>\n",
       "      <td>NaN</td>\n",
       "      <td>NaN</td>\n",
       "      <td>NaN</td>\n",
       "      <td>NaN</td>\n",
       "      <td>NaN</td>\n",
       "      <td>NaN</td>\n",
       "      <td>NaN</td>\n",
       "      <td>NaN</td>\n",
       "      <td>NaN</td>\n",
       "      <td>NaN</td>\n",
       "      <td>NaN</td>\n",
       "      <td>453.117499</td>\n",
       "      <td>3.645459</td>\n",
       "    </tr>\n",
       "    <tr>\n",
       "      <th>84</th>\n",
       "      <td>United Arab Emirates</td>\n",
       "      <td>NaN</td>\n",
       "      <td>NaN</td>\n",
       "      <td>NaN</td>\n",
       "      <td>NaN</td>\n",
       "      <td>NaN</td>\n",
       "      <td>NaN</td>\n",
       "      <td>NaN</td>\n",
       "      <td>NaN</td>\n",
       "      <td>434.007165</td>\n",
       "      <td>2.425599</td>\n",
       "      <td>427.482739</td>\n",
       "      <td>2.407671</td>\n",
       "      <td>434.947252</td>\n",
       "      <td>2.144375</td>\n",
       "    </tr>\n",
       "    <tr>\n",
       "      <th>85</th>\n",
       "      <td>Uruguay</td>\n",
       "      <td>NaN</td>\n",
       "      <td>NaN</td>\n",
       "      <td>422.199880</td>\n",
       "      <td>3.285424</td>\n",
       "      <td>426.799041</td>\n",
       "      <td>2.605098</td>\n",
       "      <td>426.723773</td>\n",
       "      <td>2.587525</td>\n",
       "      <td>409.291568</td>\n",
       "      <td>2.763756</td>\n",
       "      <td>417.991883</td>\n",
       "      <td>2.495968</td>\n",
       "      <td>417.661617</td>\n",
       "      <td>2.632388</td>\n",
       "    </tr>\n",
       "    <tr>\n",
       "      <th>86</th>\n",
       "      <td>Viet Nam</td>\n",
       "      <td>NaN</td>\n",
       "      <td>NaN</td>\n",
       "      <td>NaN</td>\n",
       "      <td>NaN</td>\n",
       "      <td>NaN</td>\n",
       "      <td>NaN</td>\n",
       "      <td>NaN</td>\n",
       "      <td>NaN</td>\n",
       "      <td>511.338207</td>\n",
       "      <td>4.840180</td>\n",
       "      <td>494.518311</td>\n",
       "      <td>4.457713</td>\n",
       "      <td>NaN</td>\n",
       "      <td>NaN</td>\n",
       "    </tr>\n",
       "  </tbody>\n",
       "</table>\n",
       "<p>87 rows × 15 columns</p>\n",
       "</div>"
      ],
      "text/plain": [
       "               Countries  2000  se_2000        2003   se_2003        2006  \\\n",
       "0              Australia   NaN      NaN  524.266004  2.148447  519.907749   \n",
       "1                Austria   NaN      NaN  505.610984  3.266191  505.483598   \n",
       "2                Belgium   NaN      NaN  529.286415  2.286061  520.348973   \n",
       "3                 Canada   NaN      NaN  532.486736  1.817917  527.007179   \n",
       "4                  Chile   NaN      NaN         NaN       NaN  411.350339   \n",
       "..                   ...   ...      ...         ...       ...         ...   \n",
       "82               Tunisia   NaN      NaN  358.733222  2.535955  365.479375   \n",
       "83               Ukraine   NaN      NaN         NaN       NaN         NaN   \n",
       "84  United Arab Emirates   NaN      NaN         NaN       NaN         NaN   \n",
       "85               Uruguay   NaN      NaN  422.199880  3.285424  426.799041   \n",
       "86              Viet Nam   NaN      NaN         NaN       NaN         NaN   \n",
       "\n",
       "     se_2006        2009   se_2009        2012   se_2012        2015  \\\n",
       "0   2.240618  514.340462  2.528262  504.150766  1.643078  493.896231   \n",
       "1   3.737765  495.908655  2.657693  505.540743  2.668064  496.742274   \n",
       "2   2.954633  515.272277  2.254316  514.529245  2.144891  506.984362   \n",
       "3   1.966896  526.805153  1.613570  518.070400  1.841355  515.647428   \n",
       "4   4.581360  421.060473  3.059392  422.632356  3.067258  422.671358   \n",
       "..       ...         ...       ...         ...       ...         ...   \n",
       "82  3.958579  371.483503  2.983752  387.824630  3.914504  366.817985   \n",
       "83       NaN         NaN       NaN         NaN       NaN         NaN   \n",
       "84       NaN         NaN       NaN  434.007165  2.425599  427.482739   \n",
       "85  2.605098  426.723773  2.587525  409.291568  2.763756  417.991883   \n",
       "86       NaN         NaN       NaN  511.338207  4.840180  494.518311   \n",
       "\n",
       "     se_2015        2018   se_2018  \n",
       "0   1.605352  491.360025  1.939833  \n",
       "1   2.860861  498.942314  2.970999  \n",
       "2   2.350343  508.070306  2.262662  \n",
       "3   2.313085  512.016943  2.357476  \n",
       "4   2.539463  417.406556  2.415888  \n",
       "..       ...         ...       ...  \n",
       "82  2.951566         NaN       NaN  \n",
       "83       NaN  453.117499  3.645459  \n",
       "84  2.407671  434.947252  2.144375  \n",
       "85  2.495968  417.661617  2.632388  \n",
       "86  4.457713         NaN       NaN  \n",
       "\n",
       "[87 rows x 15 columns]"
      ]
     },
     "execution_count": 23,
     "metadata": {},
     "output_type": "execute_result"
    }
   ],
   "source": [
    "math = math.replace('—',np.nan,regex = True)\n",
    "math = math.replace('†',np.nan,regex = True)\n",
    "math = math.replace('‡',np.nan,regex = True)\n",
    "math"
   ]
  },
  {
   "cell_type": "code",
   "execution_count": 24,
   "metadata": {},
   "outputs": [
    {
     "data": {
      "text/html": [
       "<div>\n",
       "<style scoped>\n",
       "    .dataframe tbody tr th:only-of-type {\n",
       "        vertical-align: middle;\n",
       "    }\n",
       "\n",
       "    .dataframe tbody tr th {\n",
       "        vertical-align: top;\n",
       "    }\n",
       "\n",
       "    .dataframe thead th {\n",
       "        text-align: right;\n",
       "    }\n",
       "</style>\n",
       "<table border=\"1\" class=\"dataframe\">\n",
       "  <thead>\n",
       "    <tr style=\"text-align: right;\">\n",
       "      <th></th>\n",
       "      <th>Countries</th>\n",
       "      <th>2000</th>\n",
       "      <th>se_2000</th>\n",
       "    </tr>\n",
       "  </thead>\n",
       "  <tbody>\n",
       "    <tr>\n",
       "      <th>0</th>\n",
       "      <td>Australia</td>\n",
       "      <td>—</td>\n",
       "      <td>†</td>\n",
       "    </tr>\n",
       "    <tr>\n",
       "      <th>1</th>\n",
       "      <td>Austria</td>\n",
       "      <td>—</td>\n",
       "      <td>†</td>\n",
       "    </tr>\n",
       "    <tr>\n",
       "      <th>2</th>\n",
       "      <td>Belgium</td>\n",
       "      <td>—</td>\n",
       "      <td>†</td>\n",
       "    </tr>\n",
       "    <tr>\n",
       "      <th>3</th>\n",
       "      <td>Canada</td>\n",
       "      <td>—</td>\n",
       "      <td>†</td>\n",
       "    </tr>\n",
       "    <tr>\n",
       "      <th>4</th>\n",
       "      <td>Chile</td>\n",
       "      <td>—</td>\n",
       "      <td>†</td>\n",
       "    </tr>\n",
       "    <tr>\n",
       "      <th>...</th>\n",
       "      <td>...</td>\n",
       "      <td>...</td>\n",
       "      <td>...</td>\n",
       "    </tr>\n",
       "    <tr>\n",
       "      <th>82</th>\n",
       "      <td>Tunisia</td>\n",
       "      <td>—</td>\n",
       "      <td>†</td>\n",
       "    </tr>\n",
       "    <tr>\n",
       "      <th>83</th>\n",
       "      <td>Ukraine</td>\n",
       "      <td>—</td>\n",
       "      <td>†</td>\n",
       "    </tr>\n",
       "    <tr>\n",
       "      <th>84</th>\n",
       "      <td>United Arab Emirates</td>\n",
       "      <td>—</td>\n",
       "      <td>†</td>\n",
       "    </tr>\n",
       "    <tr>\n",
       "      <th>85</th>\n",
       "      <td>Uruguay</td>\n",
       "      <td>—</td>\n",
       "      <td>†</td>\n",
       "    </tr>\n",
       "    <tr>\n",
       "      <th>86</th>\n",
       "      <td>Viet Nam</td>\n",
       "      <td>—</td>\n",
       "      <td>†</td>\n",
       "    </tr>\n",
       "  </tbody>\n",
       "</table>\n",
       "<p>87 rows × 3 columns</p>\n",
       "</div>"
      ],
      "text/plain": [
       "               Countries 2000 se_2000\n",
       "0              Australia    —       †\n",
       "1                Austria    —       †\n",
       "2                Belgium    —       †\n",
       "3                 Canada    —       †\n",
       "4                  Chile    —       †\n",
       "..                   ...  ...     ...\n",
       "82               Tunisia    —       †\n",
       "83               Ukraine    —       †\n",
       "84  United Arab Emirates    —       †\n",
       "85               Uruguay    —       †\n",
       "86              Viet Nam    —       †\n",
       "\n",
       "[87 rows x 3 columns]"
      ]
     },
     "execution_count": 24,
     "metadata": {},
     "output_type": "execute_result"
    }
   ],
   "source": [
    "sci2000 = pd.read_excel(\"../data_all/sci/sci2000.xls\",sheet_name='Report 1- Table',skiprows=[1,2,3,4,5,6,7,8,9,10,11,100,101,102,103,104])\n",
    "sci2000.drop(['Unnamed: 0', 'Unnamed: 1'], axis=1, inplace=True)\n",
    "sci2000.rename({'Unnamed: 2': 'Countries', 'Unnamed: 3': '2000', 'Unnamed: 4': 'se_2000'}, axis=1, inplace=True)\n",
    "sci2000 = sci2000.drop(index=[87])\n",
    "sci2000"
   ]
  },
  {
   "cell_type": "code",
   "execution_count": 25,
   "metadata": {},
   "outputs": [
    {
     "data": {
      "text/html": [
       "<div>\n",
       "<style scoped>\n",
       "    .dataframe tbody tr th:only-of-type {\n",
       "        vertical-align: middle;\n",
       "    }\n",
       "\n",
       "    .dataframe tbody tr th {\n",
       "        vertical-align: top;\n",
       "    }\n",
       "\n",
       "    .dataframe thead th {\n",
       "        text-align: right;\n",
       "    }\n",
       "</style>\n",
       "<table border=\"1\" class=\"dataframe\">\n",
       "  <thead>\n",
       "    <tr style=\"text-align: right;\">\n",
       "      <th></th>\n",
       "      <th>Countries</th>\n",
       "      <th>2003</th>\n",
       "      <th>se_2003</th>\n",
       "    </tr>\n",
       "  </thead>\n",
       "  <tbody>\n",
       "    <tr>\n",
       "      <th>0</th>\n",
       "      <td>Australia</td>\n",
       "      <td>—</td>\n",
       "      <td>†</td>\n",
       "    </tr>\n",
       "    <tr>\n",
       "      <th>1</th>\n",
       "      <td>Austria</td>\n",
       "      <td>—</td>\n",
       "      <td>†</td>\n",
       "    </tr>\n",
       "    <tr>\n",
       "      <th>2</th>\n",
       "      <td>Belgium</td>\n",
       "      <td>—</td>\n",
       "      <td>†</td>\n",
       "    </tr>\n",
       "    <tr>\n",
       "      <th>3</th>\n",
       "      <td>Canada</td>\n",
       "      <td>—</td>\n",
       "      <td>†</td>\n",
       "    </tr>\n",
       "    <tr>\n",
       "      <th>4</th>\n",
       "      <td>Chile</td>\n",
       "      <td>—</td>\n",
       "      <td>†</td>\n",
       "    </tr>\n",
       "    <tr>\n",
       "      <th>...</th>\n",
       "      <td>...</td>\n",
       "      <td>...</td>\n",
       "      <td>...</td>\n",
       "    </tr>\n",
       "    <tr>\n",
       "      <th>82</th>\n",
       "      <td>Tunisia</td>\n",
       "      <td>—</td>\n",
       "      <td>†</td>\n",
       "    </tr>\n",
       "    <tr>\n",
       "      <th>83</th>\n",
       "      <td>Ukraine</td>\n",
       "      <td>—</td>\n",
       "      <td>†</td>\n",
       "    </tr>\n",
       "    <tr>\n",
       "      <th>84</th>\n",
       "      <td>United Arab Emirates</td>\n",
       "      <td>—</td>\n",
       "      <td>†</td>\n",
       "    </tr>\n",
       "    <tr>\n",
       "      <th>85</th>\n",
       "      <td>Uruguay</td>\n",
       "      <td>—</td>\n",
       "      <td>†</td>\n",
       "    </tr>\n",
       "    <tr>\n",
       "      <th>86</th>\n",
       "      <td>Viet Nam</td>\n",
       "      <td>—</td>\n",
       "      <td>†</td>\n",
       "    </tr>\n",
       "  </tbody>\n",
       "</table>\n",
       "<p>87 rows × 3 columns</p>\n",
       "</div>"
      ],
      "text/plain": [
       "               Countries 2003 se_2003\n",
       "0              Australia    —       †\n",
       "1                Austria    —       †\n",
       "2                Belgium    —       †\n",
       "3                 Canada    —       †\n",
       "4                  Chile    —       †\n",
       "..                   ...  ...     ...\n",
       "82               Tunisia    —       †\n",
       "83               Ukraine    —       †\n",
       "84  United Arab Emirates    —       †\n",
       "85               Uruguay    —       †\n",
       "86              Viet Nam    —       †\n",
       "\n",
       "[87 rows x 3 columns]"
      ]
     },
     "execution_count": 25,
     "metadata": {},
     "output_type": "execute_result"
    }
   ],
   "source": [
    "sci2003 = pd.read_excel(\"../data_all/sci/sci2003.xls\",sheet_name='Report 1- Table',skiprows=[1,2,3,4,5,6,7,8,9,10,11,100,101,102,103,104])\n",
    "sci2003.drop(['Unnamed: 0', 'Unnamed: 1'], axis=1, inplace=True)\n",
    "sci2003.rename({'Unnamed: 2': 'Countries', 'Unnamed: 3': '2003', 'Unnamed: 4': 'se_2003'}, axis=1, inplace=True)\n",
    "sci2003 = sci2003.drop(index=[87])\n",
    "sci2003"
   ]
  },
  {
   "cell_type": "code",
   "execution_count": 26,
   "metadata": {},
   "outputs": [
    {
     "data": {
      "text/html": [
       "<div>\n",
       "<style scoped>\n",
       "    .dataframe tbody tr th:only-of-type {\n",
       "        vertical-align: middle;\n",
       "    }\n",
       "\n",
       "    .dataframe tbody tr th {\n",
       "        vertical-align: top;\n",
       "    }\n",
       "\n",
       "    .dataframe thead th {\n",
       "        text-align: right;\n",
       "    }\n",
       "</style>\n",
       "<table border=\"1\" class=\"dataframe\">\n",
       "  <thead>\n",
       "    <tr style=\"text-align: right;\">\n",
       "      <th></th>\n",
       "      <th>Countries</th>\n",
       "      <th>2006</th>\n",
       "      <th>se_2006</th>\n",
       "    </tr>\n",
       "  </thead>\n",
       "  <tbody>\n",
       "    <tr>\n",
       "      <th>0</th>\n",
       "      <td>Australia</td>\n",
       "      <td>526.879589</td>\n",
       "      <td>2.26028</td>\n",
       "    </tr>\n",
       "    <tr>\n",
       "      <th>1</th>\n",
       "      <td>Austria</td>\n",
       "      <td>510.837155</td>\n",
       "      <td>3.924941</td>\n",
       "    </tr>\n",
       "    <tr>\n",
       "      <th>2</th>\n",
       "      <td>Belgium</td>\n",
       "      <td>510.363484</td>\n",
       "      <td>2.484698</td>\n",
       "    </tr>\n",
       "    <tr>\n",
       "      <th>3</th>\n",
       "      <td>Canada</td>\n",
       "      <td>534.469777</td>\n",
       "      <td>2.031759</td>\n",
       "    </tr>\n",
       "    <tr>\n",
       "      <th>4</th>\n",
       "      <td>Chile</td>\n",
       "      <td>438.177445</td>\n",
       "      <td>4.317691</td>\n",
       "    </tr>\n",
       "    <tr>\n",
       "      <th>...</th>\n",
       "      <td>...</td>\n",
       "      <td>...</td>\n",
       "      <td>...</td>\n",
       "    </tr>\n",
       "    <tr>\n",
       "      <th>82</th>\n",
       "      <td>Tunisia</td>\n",
       "      <td>385.506714</td>\n",
       "      <td>2.957476</td>\n",
       "    </tr>\n",
       "    <tr>\n",
       "      <th>83</th>\n",
       "      <td>Ukraine</td>\n",
       "      <td>—</td>\n",
       "      <td>†</td>\n",
       "    </tr>\n",
       "    <tr>\n",
       "      <th>84</th>\n",
       "      <td>United Arab Emirates</td>\n",
       "      <td>—</td>\n",
       "      <td>†</td>\n",
       "    </tr>\n",
       "    <tr>\n",
       "      <th>85</th>\n",
       "      <td>Uruguay</td>\n",
       "      <td>428.133885</td>\n",
       "      <td>2.748541</td>\n",
       "    </tr>\n",
       "    <tr>\n",
       "      <th>86</th>\n",
       "      <td>Viet Nam</td>\n",
       "      <td>—</td>\n",
       "      <td>†</td>\n",
       "    </tr>\n",
       "  </tbody>\n",
       "</table>\n",
       "<p>87 rows × 3 columns</p>\n",
       "</div>"
      ],
      "text/plain": [
       "               Countries        2006   se_2006\n",
       "0              Australia  526.879589   2.26028\n",
       "1                Austria  510.837155  3.924941\n",
       "2                Belgium  510.363484  2.484698\n",
       "3                 Canada  534.469777  2.031759\n",
       "4                  Chile  438.177445  4.317691\n",
       "..                   ...         ...       ...\n",
       "82               Tunisia  385.506714  2.957476\n",
       "83               Ukraine           —         †\n",
       "84  United Arab Emirates           —         †\n",
       "85               Uruguay  428.133885  2.748541\n",
       "86              Viet Nam           —         †\n",
       "\n",
       "[87 rows x 3 columns]"
      ]
     },
     "execution_count": 26,
     "metadata": {},
     "output_type": "execute_result"
    }
   ],
   "source": [
    "sci2006 = pd.read_excel(\"../data_all/sci/sci2006.xls\",sheet_name='Report 1- Table',skiprows=[1,2,3,4,5,6,7,8,9,10,11,100,101,102,103,104])\n",
    "sci2006.drop(['Unnamed: 0', 'Unnamed: 1'], axis=1, inplace=True)\n",
    "sci2006.rename({'Unnamed: 2': 'Countries', 'Unnamed: 3': '2006', 'Unnamed: 4': 'se_2006'}, axis=1, inplace=True)\n",
    "sci2006 = sci2006.drop(index=[87])\n",
    "sci2006"
   ]
  },
  {
   "cell_type": "code",
   "execution_count": 27,
   "metadata": {},
   "outputs": [
    {
     "data": {
      "text/html": [
       "<div>\n",
       "<style scoped>\n",
       "    .dataframe tbody tr th:only-of-type {\n",
       "        vertical-align: middle;\n",
       "    }\n",
       "\n",
       "    .dataframe tbody tr th {\n",
       "        vertical-align: top;\n",
       "    }\n",
       "\n",
       "    .dataframe thead th {\n",
       "        text-align: right;\n",
       "    }\n",
       "</style>\n",
       "<table border=\"1\" class=\"dataframe\">\n",
       "  <thead>\n",
       "    <tr style=\"text-align: right;\">\n",
       "      <th></th>\n",
       "      <th>Countries</th>\n",
       "      <th>2009</th>\n",
       "      <th>se_2009</th>\n",
       "    </tr>\n",
       "  </thead>\n",
       "  <tbody>\n",
       "    <tr>\n",
       "      <th>0</th>\n",
       "      <td>Australia</td>\n",
       "      <td>527.270534</td>\n",
       "      <td>2.531131</td>\n",
       "    </tr>\n",
       "    <tr>\n",
       "      <th>1</th>\n",
       "      <td>Austria</td>\n",
       "      <td>494.327673</td>\n",
       "      <td>3.24215</td>\n",
       "    </tr>\n",
       "    <tr>\n",
       "      <th>2</th>\n",
       "      <td>Belgium</td>\n",
       "      <td>506.575526</td>\n",
       "      <td>2.522207</td>\n",
       "    </tr>\n",
       "    <tr>\n",
       "      <th>3</th>\n",
       "      <td>Canada</td>\n",
       "      <td>528.704953</td>\n",
       "      <td>1.62134</td>\n",
       "    </tr>\n",
       "    <tr>\n",
       "      <th>4</th>\n",
       "      <td>Chile</td>\n",
       "      <td>447.46736</td>\n",
       "      <td>2.922763</td>\n",
       "    </tr>\n",
       "    <tr>\n",
       "      <th>...</th>\n",
       "      <td>...</td>\n",
       "      <td>...</td>\n",
       "      <td>...</td>\n",
       "    </tr>\n",
       "    <tr>\n",
       "      <th>82</th>\n",
       "      <td>Tunisia</td>\n",
       "      <td>400.661484</td>\n",
       "      <td>2.688612</td>\n",
       "    </tr>\n",
       "    <tr>\n",
       "      <th>83</th>\n",
       "      <td>Ukraine</td>\n",
       "      <td>—</td>\n",
       "      <td>†</td>\n",
       "    </tr>\n",
       "    <tr>\n",
       "      <th>84</th>\n",
       "      <td>United Arab Emirates</td>\n",
       "      <td>—</td>\n",
       "      <td>†</td>\n",
       "    </tr>\n",
       "    <tr>\n",
       "      <th>85</th>\n",
       "      <td>Uruguay</td>\n",
       "      <td>427.21425</td>\n",
       "      <td>2.574899</td>\n",
       "    </tr>\n",
       "    <tr>\n",
       "      <th>86</th>\n",
       "      <td>Viet Nam</td>\n",
       "      <td>—</td>\n",
       "      <td>†</td>\n",
       "    </tr>\n",
       "  </tbody>\n",
       "</table>\n",
       "<p>87 rows × 3 columns</p>\n",
       "</div>"
      ],
      "text/plain": [
       "               Countries        2009   se_2009\n",
       "0              Australia  527.270534  2.531131\n",
       "1                Austria  494.327673   3.24215\n",
       "2                Belgium  506.575526  2.522207\n",
       "3                 Canada  528.704953   1.62134\n",
       "4                  Chile   447.46736  2.922763\n",
       "..                   ...         ...       ...\n",
       "82               Tunisia  400.661484  2.688612\n",
       "83               Ukraine           —         †\n",
       "84  United Arab Emirates           —         †\n",
       "85               Uruguay   427.21425  2.574899\n",
       "86              Viet Nam           —         †\n",
       "\n",
       "[87 rows x 3 columns]"
      ]
     },
     "execution_count": 27,
     "metadata": {},
     "output_type": "execute_result"
    }
   ],
   "source": [
    "sci2009 = pd.read_excel(\"../data_all/sci/sci2009.xls\",sheet_name='Report 1- Table',skiprows=[1,2,3,4,5,6,7,8,9,10,11,100,101,102,103,104])\n",
    "sci2009.drop(['Unnamed: 0', 'Unnamed: 1'], axis=1, inplace=True)\n",
    "sci2009.rename({'Unnamed: 2': 'Countries', 'Unnamed: 3': '2009', 'Unnamed: 4': 'se_2009'}, axis=1, inplace=True)\n",
    "sci2009 = sci2009.drop(index=[87])\n",
    "sci2009"
   ]
  },
  {
   "cell_type": "code",
   "execution_count": 28,
   "metadata": {},
   "outputs": [
    {
     "data": {
      "text/html": [
       "<div>\n",
       "<style scoped>\n",
       "    .dataframe tbody tr th:only-of-type {\n",
       "        vertical-align: middle;\n",
       "    }\n",
       "\n",
       "    .dataframe tbody tr th {\n",
       "        vertical-align: top;\n",
       "    }\n",
       "\n",
       "    .dataframe thead th {\n",
       "        text-align: right;\n",
       "    }\n",
       "</style>\n",
       "<table border=\"1\" class=\"dataframe\">\n",
       "  <thead>\n",
       "    <tr style=\"text-align: right;\">\n",
       "      <th></th>\n",
       "      <th>Countries</th>\n",
       "      <th>2012</th>\n",
       "      <th>se_2012</th>\n",
       "    </tr>\n",
       "  </thead>\n",
       "  <tbody>\n",
       "    <tr>\n",
       "      <th>0</th>\n",
       "      <td>Australia</td>\n",
       "      <td>521.494747</td>\n",
       "      <td>1.757625</td>\n",
       "    </tr>\n",
       "    <tr>\n",
       "      <th>1</th>\n",
       "      <td>Austria</td>\n",
       "      <td>505.781248</td>\n",
       "      <td>2.70031</td>\n",
       "    </tr>\n",
       "    <tr>\n",
       "      <th>2</th>\n",
       "      <td>Belgium</td>\n",
       "      <td>504.867654</td>\n",
       "      <td>2.180299</td>\n",
       "    </tr>\n",
       "    <tr>\n",
       "      <th>3</th>\n",
       "      <td>Canada</td>\n",
       "      <td>525.441293</td>\n",
       "      <td>1.930456</td>\n",
       "    </tr>\n",
       "    <tr>\n",
       "      <th>4</th>\n",
       "      <td>Chile</td>\n",
       "      <td>444.933921</td>\n",
       "      <td>2.863276</td>\n",
       "    </tr>\n",
       "    <tr>\n",
       "      <th>...</th>\n",
       "      <td>...</td>\n",
       "      <td>...</td>\n",
       "      <td>...</td>\n",
       "    </tr>\n",
       "    <tr>\n",
       "      <th>82</th>\n",
       "      <td>Tunisia</td>\n",
       "      <td>398.046451</td>\n",
       "      <td>3.456062</td>\n",
       "    </tr>\n",
       "    <tr>\n",
       "      <th>83</th>\n",
       "      <td>Ukraine</td>\n",
       "      <td>—</td>\n",
       "      <td>†</td>\n",
       "    </tr>\n",
       "    <tr>\n",
       "      <th>84</th>\n",
       "      <td>United Arab Emirates</td>\n",
       "      <td>448.370297</td>\n",
       "      <td>2.808616</td>\n",
       "    </tr>\n",
       "    <tr>\n",
       "      <th>85</th>\n",
       "      <td>Uruguay</td>\n",
       "      <td>415.842936</td>\n",
       "      <td>2.767177</td>\n",
       "    </tr>\n",
       "    <tr>\n",
       "      <th>86</th>\n",
       "      <td>Viet Nam</td>\n",
       "      <td>528.423262</td>\n",
       "      <td>4.312393</td>\n",
       "    </tr>\n",
       "  </tbody>\n",
       "</table>\n",
       "<p>87 rows × 3 columns</p>\n",
       "</div>"
      ],
      "text/plain": [
       "               Countries        2012   se_2012\n",
       "0              Australia  521.494747  1.757625\n",
       "1                Austria  505.781248   2.70031\n",
       "2                Belgium  504.867654  2.180299\n",
       "3                 Canada  525.441293  1.930456\n",
       "4                  Chile  444.933921  2.863276\n",
       "..                   ...         ...       ...\n",
       "82               Tunisia  398.046451  3.456062\n",
       "83               Ukraine           —         †\n",
       "84  United Arab Emirates  448.370297  2.808616\n",
       "85               Uruguay  415.842936  2.767177\n",
       "86              Viet Nam  528.423262  4.312393\n",
       "\n",
       "[87 rows x 3 columns]"
      ]
     },
     "execution_count": 28,
     "metadata": {},
     "output_type": "execute_result"
    }
   ],
   "source": [
    "sci2012 = pd.read_excel(\"../data_all/sci/sci2012.xls\",sheet_name='Report 1- Table',skiprows=[1,2,3,4,5,6,7,8,9,10,11,100,101,102,103,104])\n",
    "sci2012.drop(['Unnamed: 0', 'Unnamed: 1'], axis=1, inplace=True)\n",
    "sci2012.rename({'Unnamed: 2': 'Countries', 'Unnamed: 3': '2012', 'Unnamed: 4': 'se_2012'}, axis=1, inplace=True)\n",
    "sci2012 = sci2012.drop(index=[87])\n",
    "sci2012"
   ]
  },
  {
   "cell_type": "code",
   "execution_count": 29,
   "metadata": {},
   "outputs": [
    {
     "data": {
      "text/html": [
       "<div>\n",
       "<style scoped>\n",
       "    .dataframe tbody tr th:only-of-type {\n",
       "        vertical-align: middle;\n",
       "    }\n",
       "\n",
       "    .dataframe tbody tr th {\n",
       "        vertical-align: top;\n",
       "    }\n",
       "\n",
       "    .dataframe thead th {\n",
       "        text-align: right;\n",
       "    }\n",
       "</style>\n",
       "<table border=\"1\" class=\"dataframe\">\n",
       "  <thead>\n",
       "    <tr style=\"text-align: right;\">\n",
       "      <th></th>\n",
       "      <th>Countries</th>\n",
       "      <th>2015</th>\n",
       "      <th>se_2015</th>\n",
       "    </tr>\n",
       "  </thead>\n",
       "  <tbody>\n",
       "    <tr>\n",
       "      <th>0</th>\n",
       "      <td>Australia</td>\n",
       "      <td>509.993854</td>\n",
       "      <td>1.535311</td>\n",
       "    </tr>\n",
       "    <tr>\n",
       "      <th>1</th>\n",
       "      <td>Austria</td>\n",
       "      <td>495.037486</td>\n",
       "      <td>2.439345</td>\n",
       "    </tr>\n",
       "    <tr>\n",
       "      <th>2</th>\n",
       "      <td>Belgium</td>\n",
       "      <td>501.999714</td>\n",
       "      <td>2.289589</td>\n",
       "    </tr>\n",
       "    <tr>\n",
       "      <th>3</th>\n",
       "      <td>Canada</td>\n",
       "      <td>527.704684</td>\n",
       "      <td>2.080262</td>\n",
       "    </tr>\n",
       "    <tr>\n",
       "      <th>4</th>\n",
       "      <td>Chile</td>\n",
       "      <td>446.956066</td>\n",
       "      <td>2.379287</td>\n",
       "    </tr>\n",
       "    <tr>\n",
       "      <th>...</th>\n",
       "      <td>...</td>\n",
       "      <td>...</td>\n",
       "      <td>...</td>\n",
       "    </tr>\n",
       "    <tr>\n",
       "      <th>82</th>\n",
       "      <td>Tunisia</td>\n",
       "      <td>386.403367</td>\n",
       "      <td>2.104368</td>\n",
       "    </tr>\n",
       "    <tr>\n",
       "      <th>83</th>\n",
       "      <td>Ukraine</td>\n",
       "      <td>—</td>\n",
       "      <td>†</td>\n",
       "    </tr>\n",
       "    <tr>\n",
       "      <th>84</th>\n",
       "      <td>United Arab Emirates</td>\n",
       "      <td>436.731148</td>\n",
       "      <td>2.42265</td>\n",
       "    </tr>\n",
       "    <tr>\n",
       "      <th>85</th>\n",
       "      <td>Uruguay</td>\n",
       "      <td>435.362956</td>\n",
       "      <td>2.200876</td>\n",
       "    </tr>\n",
       "    <tr>\n",
       "      <th>86</th>\n",
       "      <td>Viet Nam</td>\n",
       "      <td>524.644519</td>\n",
       "      <td>3.910068</td>\n",
       "    </tr>\n",
       "  </tbody>\n",
       "</table>\n",
       "<p>87 rows × 3 columns</p>\n",
       "</div>"
      ],
      "text/plain": [
       "               Countries        2015   se_2015\n",
       "0              Australia  509.993854  1.535311\n",
       "1                Austria  495.037486  2.439345\n",
       "2                Belgium  501.999714  2.289589\n",
       "3                 Canada  527.704684  2.080262\n",
       "4                  Chile  446.956066  2.379287\n",
       "..                   ...         ...       ...\n",
       "82               Tunisia  386.403367  2.104368\n",
       "83               Ukraine           —         †\n",
       "84  United Arab Emirates  436.731148   2.42265\n",
       "85               Uruguay  435.362956  2.200876\n",
       "86              Viet Nam  524.644519  3.910068\n",
       "\n",
       "[87 rows x 3 columns]"
      ]
     },
     "execution_count": 29,
     "metadata": {},
     "output_type": "execute_result"
    }
   ],
   "source": [
    "sci2015 = pd.read_excel(\"../data_all/sci/sci2015.xls\",sheet_name='Report 1- Table',skiprows=[1,2,3,4,5,6,7,8,9,10,11,100,101,102,103,104])\n",
    "sci2015.drop(['Unnamed: 0', 'Unnamed: 1'], axis=1, inplace=True)\n",
    "sci2015.rename({'Unnamed: 2': 'Countries', 'Unnamed: 3': '2015', 'Unnamed: 4': 'se_2015'}, axis=1, inplace=True)\n",
    "sci2015 = sci2015.drop(index=[87])\n",
    "sci2015"
   ]
  },
  {
   "cell_type": "code",
   "execution_count": 30,
   "metadata": {},
   "outputs": [
    {
     "data": {
      "text/html": [
       "<div>\n",
       "<style scoped>\n",
       "    .dataframe tbody tr th:only-of-type {\n",
       "        vertical-align: middle;\n",
       "    }\n",
       "\n",
       "    .dataframe tbody tr th {\n",
       "        vertical-align: top;\n",
       "    }\n",
       "\n",
       "    .dataframe thead th {\n",
       "        text-align: right;\n",
       "    }\n",
       "</style>\n",
       "<table border=\"1\" class=\"dataframe\">\n",
       "  <thead>\n",
       "    <tr style=\"text-align: right;\">\n",
       "      <th></th>\n",
       "      <th>Countries</th>\n",
       "      <th>2018</th>\n",
       "      <th>se_2018</th>\n",
       "    </tr>\n",
       "  </thead>\n",
       "  <tbody>\n",
       "    <tr>\n",
       "      <th>0</th>\n",
       "      <td>Australia</td>\n",
       "      <td>502.964563</td>\n",
       "      <td>1.795398</td>\n",
       "    </tr>\n",
       "    <tr>\n",
       "      <th>1</th>\n",
       "      <td>Austria</td>\n",
       "      <td>489.780439</td>\n",
       "      <td>2.777395</td>\n",
       "    </tr>\n",
       "    <tr>\n",
       "      <th>2</th>\n",
       "      <td>Belgium</td>\n",
       "      <td>498.773127</td>\n",
       "      <td>2.22924</td>\n",
       "    </tr>\n",
       "    <tr>\n",
       "      <th>3</th>\n",
       "      <td>Canada</td>\n",
       "      <td>517.997661</td>\n",
       "      <td>2.153651</td>\n",
       "    </tr>\n",
       "    <tr>\n",
       "      <th>4</th>\n",
       "      <td>Chile</td>\n",
       "      <td>443.582563</td>\n",
       "      <td>2.41528</td>\n",
       "    </tr>\n",
       "    <tr>\n",
       "      <th>...</th>\n",
       "      <td>...</td>\n",
       "      <td>...</td>\n",
       "      <td>...</td>\n",
       "    </tr>\n",
       "    <tr>\n",
       "      <th>82</th>\n",
       "      <td>Tunisia</td>\n",
       "      <td>—</td>\n",
       "      <td>†</td>\n",
       "    </tr>\n",
       "    <tr>\n",
       "      <th>83</th>\n",
       "      <td>Ukraine</td>\n",
       "      <td>468.987743</td>\n",
       "      <td>3.297542</td>\n",
       "    </tr>\n",
       "    <tr>\n",
       "      <th>84</th>\n",
       "      <td>United Arab Emirates</td>\n",
       "      <td>433.636803</td>\n",
       "      <td>2.007659</td>\n",
       "    </tr>\n",
       "    <tr>\n",
       "      <th>85</th>\n",
       "      <td>Uruguay</td>\n",
       "      <td>425.812677</td>\n",
       "      <td>2.471928</td>\n",
       "    </tr>\n",
       "    <tr>\n",
       "      <th>86</th>\n",
       "      <td>Viet Nam</td>\n",
       "      <td>—</td>\n",
       "      <td>†</td>\n",
       "    </tr>\n",
       "  </tbody>\n",
       "</table>\n",
       "<p>87 rows × 3 columns</p>\n",
       "</div>"
      ],
      "text/plain": [
       "               Countries        2018   se_2018\n",
       "0              Australia  502.964563  1.795398\n",
       "1                Austria  489.780439  2.777395\n",
       "2                Belgium  498.773127   2.22924\n",
       "3                 Canada  517.997661  2.153651\n",
       "4                  Chile  443.582563   2.41528\n",
       "..                   ...         ...       ...\n",
       "82               Tunisia           —         †\n",
       "83               Ukraine  468.987743  3.297542\n",
       "84  United Arab Emirates  433.636803  2.007659\n",
       "85               Uruguay  425.812677  2.471928\n",
       "86              Viet Nam           —         †\n",
       "\n",
       "[87 rows x 3 columns]"
      ]
     },
     "execution_count": 30,
     "metadata": {},
     "output_type": "execute_result"
    }
   ],
   "source": [
    "sci2018 = pd.read_excel(\"../data_all/sci/sci2018.xls\",sheet_name='Report 1- Table',skiprows=[1,2,3,4,5,6,7,8,9,10,11,100,101,102,103,104])\n",
    "sci2018.drop(['Unnamed: 0', 'Unnamed: 1'], axis=1, inplace=True)\n",
    "sci2018.rename({'Unnamed: 2': 'Countries', 'Unnamed: 3': '2018', 'Unnamed: 4': 'se_2018'}, axis=1, inplace=True)\n",
    "sci2018 = sci2018.drop(index=[87])\n",
    "sci2018"
   ]
  },
  {
   "cell_type": "code",
   "execution_count": 31,
   "metadata": {},
   "outputs": [
    {
     "data": {
      "text/html": [
       "<div>\n",
       "<style scoped>\n",
       "    .dataframe tbody tr th:only-of-type {\n",
       "        vertical-align: middle;\n",
       "    }\n",
       "\n",
       "    .dataframe tbody tr th {\n",
       "        vertical-align: top;\n",
       "    }\n",
       "\n",
       "    .dataframe thead th {\n",
       "        text-align: right;\n",
       "    }\n",
       "</style>\n",
       "<table border=\"1\" class=\"dataframe\">\n",
       "  <thead>\n",
       "    <tr style=\"text-align: right;\">\n",
       "      <th></th>\n",
       "      <th>Countries</th>\n",
       "      <th>2000</th>\n",
       "      <th>se_2000</th>\n",
       "      <th>2003</th>\n",
       "      <th>se_2003</th>\n",
       "      <th>2006</th>\n",
       "      <th>se_2006</th>\n",
       "      <th>2009</th>\n",
       "      <th>se_2009</th>\n",
       "      <th>2012</th>\n",
       "      <th>se_2012</th>\n",
       "      <th>2015</th>\n",
       "      <th>se_2015</th>\n",
       "      <th>2018</th>\n",
       "      <th>se_2018</th>\n",
       "    </tr>\n",
       "  </thead>\n",
       "  <tbody>\n",
       "    <tr>\n",
       "      <th>0</th>\n",
       "      <td>Australia</td>\n",
       "      <td>—</td>\n",
       "      <td>†</td>\n",
       "      <td>—</td>\n",
       "      <td>†</td>\n",
       "      <td>526.879589</td>\n",
       "      <td>2.26028</td>\n",
       "      <td>527.270534</td>\n",
       "      <td>2.531131</td>\n",
       "      <td>521.494747</td>\n",
       "      <td>1.757625</td>\n",
       "      <td>509.993854</td>\n",
       "      <td>1.535311</td>\n",
       "      <td>502.964563</td>\n",
       "      <td>1.795398</td>\n",
       "    </tr>\n",
       "    <tr>\n",
       "      <th>1</th>\n",
       "      <td>Austria</td>\n",
       "      <td>—</td>\n",
       "      <td>†</td>\n",
       "      <td>—</td>\n",
       "      <td>†</td>\n",
       "      <td>510.837155</td>\n",
       "      <td>3.924941</td>\n",
       "      <td>494.327673</td>\n",
       "      <td>3.24215</td>\n",
       "      <td>505.781248</td>\n",
       "      <td>2.70031</td>\n",
       "      <td>495.037486</td>\n",
       "      <td>2.439345</td>\n",
       "      <td>489.780439</td>\n",
       "      <td>2.777395</td>\n",
       "    </tr>\n",
       "    <tr>\n",
       "      <th>2</th>\n",
       "      <td>Belgium</td>\n",
       "      <td>—</td>\n",
       "      <td>†</td>\n",
       "      <td>—</td>\n",
       "      <td>†</td>\n",
       "      <td>510.363484</td>\n",
       "      <td>2.484698</td>\n",
       "      <td>506.575526</td>\n",
       "      <td>2.522207</td>\n",
       "      <td>504.867654</td>\n",
       "      <td>2.180299</td>\n",
       "      <td>501.999714</td>\n",
       "      <td>2.289589</td>\n",
       "      <td>498.773127</td>\n",
       "      <td>2.22924</td>\n",
       "    </tr>\n",
       "    <tr>\n",
       "      <th>3</th>\n",
       "      <td>Canada</td>\n",
       "      <td>—</td>\n",
       "      <td>†</td>\n",
       "      <td>—</td>\n",
       "      <td>†</td>\n",
       "      <td>534.469777</td>\n",
       "      <td>2.031759</td>\n",
       "      <td>528.704953</td>\n",
       "      <td>1.62134</td>\n",
       "      <td>525.441293</td>\n",
       "      <td>1.930456</td>\n",
       "      <td>527.704684</td>\n",
       "      <td>2.080262</td>\n",
       "      <td>517.997661</td>\n",
       "      <td>2.153651</td>\n",
       "    </tr>\n",
       "    <tr>\n",
       "      <th>4</th>\n",
       "      <td>Chile</td>\n",
       "      <td>—</td>\n",
       "      <td>†</td>\n",
       "      <td>—</td>\n",
       "      <td>†</td>\n",
       "      <td>438.177445</td>\n",
       "      <td>4.317691</td>\n",
       "      <td>447.46736</td>\n",
       "      <td>2.922763</td>\n",
       "      <td>444.933921</td>\n",
       "      <td>2.863276</td>\n",
       "      <td>446.956066</td>\n",
       "      <td>2.379287</td>\n",
       "      <td>443.582563</td>\n",
       "      <td>2.41528</td>\n",
       "    </tr>\n",
       "    <tr>\n",
       "      <th>...</th>\n",
       "      <td>...</td>\n",
       "      <td>...</td>\n",
       "      <td>...</td>\n",
       "      <td>...</td>\n",
       "      <td>...</td>\n",
       "      <td>...</td>\n",
       "      <td>...</td>\n",
       "      <td>...</td>\n",
       "      <td>...</td>\n",
       "      <td>...</td>\n",
       "      <td>...</td>\n",
       "      <td>...</td>\n",
       "      <td>...</td>\n",
       "      <td>...</td>\n",
       "      <td>...</td>\n",
       "    </tr>\n",
       "    <tr>\n",
       "      <th>82</th>\n",
       "      <td>Tunisia</td>\n",
       "      <td>—</td>\n",
       "      <td>†</td>\n",
       "      <td>—</td>\n",
       "      <td>†</td>\n",
       "      <td>385.506714</td>\n",
       "      <td>2.957476</td>\n",
       "      <td>400.661484</td>\n",
       "      <td>2.688612</td>\n",
       "      <td>398.046451</td>\n",
       "      <td>3.456062</td>\n",
       "      <td>386.403367</td>\n",
       "      <td>2.104368</td>\n",
       "      <td>—</td>\n",
       "      <td>†</td>\n",
       "    </tr>\n",
       "    <tr>\n",
       "      <th>83</th>\n",
       "      <td>Ukraine</td>\n",
       "      <td>—</td>\n",
       "      <td>†</td>\n",
       "      <td>—</td>\n",
       "      <td>†</td>\n",
       "      <td>—</td>\n",
       "      <td>†</td>\n",
       "      <td>—</td>\n",
       "      <td>†</td>\n",
       "      <td>—</td>\n",
       "      <td>†</td>\n",
       "      <td>—</td>\n",
       "      <td>†</td>\n",
       "      <td>468.987743</td>\n",
       "      <td>3.297542</td>\n",
       "    </tr>\n",
       "    <tr>\n",
       "      <th>84</th>\n",
       "      <td>United Arab Emirates</td>\n",
       "      <td>—</td>\n",
       "      <td>†</td>\n",
       "      <td>—</td>\n",
       "      <td>†</td>\n",
       "      <td>—</td>\n",
       "      <td>†</td>\n",
       "      <td>—</td>\n",
       "      <td>†</td>\n",
       "      <td>448.370297</td>\n",
       "      <td>2.808616</td>\n",
       "      <td>436.731148</td>\n",
       "      <td>2.42265</td>\n",
       "      <td>433.636803</td>\n",
       "      <td>2.007659</td>\n",
       "    </tr>\n",
       "    <tr>\n",
       "      <th>85</th>\n",
       "      <td>Uruguay</td>\n",
       "      <td>—</td>\n",
       "      <td>†</td>\n",
       "      <td>—</td>\n",
       "      <td>†</td>\n",
       "      <td>428.133885</td>\n",
       "      <td>2.748541</td>\n",
       "      <td>427.21425</td>\n",
       "      <td>2.574899</td>\n",
       "      <td>415.842936</td>\n",
       "      <td>2.767177</td>\n",
       "      <td>435.362956</td>\n",
       "      <td>2.200876</td>\n",
       "      <td>425.812677</td>\n",
       "      <td>2.471928</td>\n",
       "    </tr>\n",
       "    <tr>\n",
       "      <th>86</th>\n",
       "      <td>Viet Nam</td>\n",
       "      <td>—</td>\n",
       "      <td>†</td>\n",
       "      <td>—</td>\n",
       "      <td>†</td>\n",
       "      <td>—</td>\n",
       "      <td>†</td>\n",
       "      <td>—</td>\n",
       "      <td>†</td>\n",
       "      <td>528.423262</td>\n",
       "      <td>4.312393</td>\n",
       "      <td>524.644519</td>\n",
       "      <td>3.910068</td>\n",
       "      <td>—</td>\n",
       "      <td>†</td>\n",
       "    </tr>\n",
       "  </tbody>\n",
       "</table>\n",
       "<p>87 rows × 15 columns</p>\n",
       "</div>"
      ],
      "text/plain": [
       "               Countries 2000 se_2000 2003 se_2003        2006   se_2006  \\\n",
       "0              Australia    —       †    —       †  526.879589   2.26028   \n",
       "1                Austria    —       †    —       †  510.837155  3.924941   \n",
       "2                Belgium    —       †    —       †  510.363484  2.484698   \n",
       "3                 Canada    —       †    —       †  534.469777  2.031759   \n",
       "4                  Chile    —       †    —       †  438.177445  4.317691   \n",
       "..                   ...  ...     ...  ...     ...         ...       ...   \n",
       "82               Tunisia    —       †    —       †  385.506714  2.957476   \n",
       "83               Ukraine    —       †    —       †           —         †   \n",
       "84  United Arab Emirates    —       †    —       †           —         †   \n",
       "85               Uruguay    —       †    —       †  428.133885  2.748541   \n",
       "86              Viet Nam    —       †    —       †           —         †   \n",
       "\n",
       "          2009   se_2009        2012   se_2012        2015   se_2015  \\\n",
       "0   527.270534  2.531131  521.494747  1.757625  509.993854  1.535311   \n",
       "1   494.327673   3.24215  505.781248   2.70031  495.037486  2.439345   \n",
       "2   506.575526  2.522207  504.867654  2.180299  501.999714  2.289589   \n",
       "3   528.704953   1.62134  525.441293  1.930456  527.704684  2.080262   \n",
       "4    447.46736  2.922763  444.933921  2.863276  446.956066  2.379287   \n",
       "..         ...       ...         ...       ...         ...       ...   \n",
       "82  400.661484  2.688612  398.046451  3.456062  386.403367  2.104368   \n",
       "83           —         †           —         †           —         †   \n",
       "84           —         †  448.370297  2.808616  436.731148   2.42265   \n",
       "85   427.21425  2.574899  415.842936  2.767177  435.362956  2.200876   \n",
       "86           —         †  528.423262  4.312393  524.644519  3.910068   \n",
       "\n",
       "          2018   se_2018  \n",
       "0   502.964563  1.795398  \n",
       "1   489.780439  2.777395  \n",
       "2   498.773127   2.22924  \n",
       "3   517.997661  2.153651  \n",
       "4   443.582563   2.41528  \n",
       "..         ...       ...  \n",
       "82           —         †  \n",
       "83  468.987743  3.297542  \n",
       "84  433.636803  2.007659  \n",
       "85  425.812677  2.471928  \n",
       "86           —         †  \n",
       "\n",
       "[87 rows x 15 columns]"
      ]
     },
     "execution_count": 31,
     "metadata": {},
     "output_type": "execute_result"
    }
   ],
   "source": [
    "sci = pd.merge(pd.merge(pd.merge(pd.merge(pd.merge(pd.merge(sci2000,sci2003,on='Countries'), sci2006, on='Countries'), sci2009, on='Countries'), sci2012, on='Countries'),sci2015, on='Countries'), sci2018, on='Countries')\n",
    "sci"
   ]
  },
  {
   "cell_type": "code",
   "execution_count": 32,
   "metadata": {},
   "outputs": [
    {
     "data": {
      "text/html": [
       "<div>\n",
       "<style scoped>\n",
       "    .dataframe tbody tr th:only-of-type {\n",
       "        vertical-align: middle;\n",
       "    }\n",
       "\n",
       "    .dataframe tbody tr th {\n",
       "        vertical-align: top;\n",
       "    }\n",
       "\n",
       "    .dataframe thead th {\n",
       "        text-align: right;\n",
       "    }\n",
       "</style>\n",
       "<table border=\"1\" class=\"dataframe\">\n",
       "  <thead>\n",
       "    <tr style=\"text-align: right;\">\n",
       "      <th></th>\n",
       "      <th>Countries</th>\n",
       "      <th>2000</th>\n",
       "      <th>se_2000</th>\n",
       "      <th>2003</th>\n",
       "      <th>se_2003</th>\n",
       "      <th>2006</th>\n",
       "      <th>se_2006</th>\n",
       "      <th>2009</th>\n",
       "      <th>se_2009</th>\n",
       "      <th>2012</th>\n",
       "      <th>se_2012</th>\n",
       "      <th>2015</th>\n",
       "      <th>se_2015</th>\n",
       "      <th>2018</th>\n",
       "      <th>se_2018</th>\n",
       "    </tr>\n",
       "  </thead>\n",
       "  <tbody>\n",
       "    <tr>\n",
       "      <th>0</th>\n",
       "      <td>Australia</td>\n",
       "      <td>NaN</td>\n",
       "      <td>NaN</td>\n",
       "      <td>NaN</td>\n",
       "      <td>NaN</td>\n",
       "      <td>526.879589</td>\n",
       "      <td>2.260280</td>\n",
       "      <td>527.270534</td>\n",
       "      <td>2.531131</td>\n",
       "      <td>521.494747</td>\n",
       "      <td>1.757625</td>\n",
       "      <td>509.993854</td>\n",
       "      <td>1.535311</td>\n",
       "      <td>502.964563</td>\n",
       "      <td>1.795398</td>\n",
       "    </tr>\n",
       "    <tr>\n",
       "      <th>1</th>\n",
       "      <td>Austria</td>\n",
       "      <td>NaN</td>\n",
       "      <td>NaN</td>\n",
       "      <td>NaN</td>\n",
       "      <td>NaN</td>\n",
       "      <td>510.837155</td>\n",
       "      <td>3.924941</td>\n",
       "      <td>494.327673</td>\n",
       "      <td>3.242150</td>\n",
       "      <td>505.781248</td>\n",
       "      <td>2.700310</td>\n",
       "      <td>495.037486</td>\n",
       "      <td>2.439345</td>\n",
       "      <td>489.780439</td>\n",
       "      <td>2.777395</td>\n",
       "    </tr>\n",
       "    <tr>\n",
       "      <th>2</th>\n",
       "      <td>Belgium</td>\n",
       "      <td>NaN</td>\n",
       "      <td>NaN</td>\n",
       "      <td>NaN</td>\n",
       "      <td>NaN</td>\n",
       "      <td>510.363484</td>\n",
       "      <td>2.484698</td>\n",
       "      <td>506.575526</td>\n",
       "      <td>2.522207</td>\n",
       "      <td>504.867654</td>\n",
       "      <td>2.180299</td>\n",
       "      <td>501.999714</td>\n",
       "      <td>2.289589</td>\n",
       "      <td>498.773127</td>\n",
       "      <td>2.229240</td>\n",
       "    </tr>\n",
       "    <tr>\n",
       "      <th>3</th>\n",
       "      <td>Canada</td>\n",
       "      <td>NaN</td>\n",
       "      <td>NaN</td>\n",
       "      <td>NaN</td>\n",
       "      <td>NaN</td>\n",
       "      <td>534.469777</td>\n",
       "      <td>2.031759</td>\n",
       "      <td>528.704953</td>\n",
       "      <td>1.621340</td>\n",
       "      <td>525.441293</td>\n",
       "      <td>1.930456</td>\n",
       "      <td>527.704684</td>\n",
       "      <td>2.080262</td>\n",
       "      <td>517.997661</td>\n",
       "      <td>2.153651</td>\n",
       "    </tr>\n",
       "    <tr>\n",
       "      <th>4</th>\n",
       "      <td>Chile</td>\n",
       "      <td>NaN</td>\n",
       "      <td>NaN</td>\n",
       "      <td>NaN</td>\n",
       "      <td>NaN</td>\n",
       "      <td>438.177445</td>\n",
       "      <td>4.317691</td>\n",
       "      <td>447.467360</td>\n",
       "      <td>2.922763</td>\n",
       "      <td>444.933921</td>\n",
       "      <td>2.863276</td>\n",
       "      <td>446.956066</td>\n",
       "      <td>2.379287</td>\n",
       "      <td>443.582563</td>\n",
       "      <td>2.415280</td>\n",
       "    </tr>\n",
       "    <tr>\n",
       "      <th>...</th>\n",
       "      <td>...</td>\n",
       "      <td>...</td>\n",
       "      <td>...</td>\n",
       "      <td>...</td>\n",
       "      <td>...</td>\n",
       "      <td>...</td>\n",
       "      <td>...</td>\n",
       "      <td>...</td>\n",
       "      <td>...</td>\n",
       "      <td>...</td>\n",
       "      <td>...</td>\n",
       "      <td>...</td>\n",
       "      <td>...</td>\n",
       "      <td>...</td>\n",
       "      <td>...</td>\n",
       "    </tr>\n",
       "    <tr>\n",
       "      <th>82</th>\n",
       "      <td>Tunisia</td>\n",
       "      <td>NaN</td>\n",
       "      <td>NaN</td>\n",
       "      <td>NaN</td>\n",
       "      <td>NaN</td>\n",
       "      <td>385.506714</td>\n",
       "      <td>2.957476</td>\n",
       "      <td>400.661484</td>\n",
       "      <td>2.688612</td>\n",
       "      <td>398.046451</td>\n",
       "      <td>3.456062</td>\n",
       "      <td>386.403367</td>\n",
       "      <td>2.104368</td>\n",
       "      <td>NaN</td>\n",
       "      <td>NaN</td>\n",
       "    </tr>\n",
       "    <tr>\n",
       "      <th>83</th>\n",
       "      <td>Ukraine</td>\n",
       "      <td>NaN</td>\n",
       "      <td>NaN</td>\n",
       "      <td>NaN</td>\n",
       "      <td>NaN</td>\n",
       "      <td>NaN</td>\n",
       "      <td>NaN</td>\n",
       "      <td>NaN</td>\n",
       "      <td>NaN</td>\n",
       "      <td>NaN</td>\n",
       "      <td>NaN</td>\n",
       "      <td>NaN</td>\n",
       "      <td>NaN</td>\n",
       "      <td>468.987743</td>\n",
       "      <td>3.297542</td>\n",
       "    </tr>\n",
       "    <tr>\n",
       "      <th>84</th>\n",
       "      <td>United Arab Emirates</td>\n",
       "      <td>NaN</td>\n",
       "      <td>NaN</td>\n",
       "      <td>NaN</td>\n",
       "      <td>NaN</td>\n",
       "      <td>NaN</td>\n",
       "      <td>NaN</td>\n",
       "      <td>NaN</td>\n",
       "      <td>NaN</td>\n",
       "      <td>448.370297</td>\n",
       "      <td>2.808616</td>\n",
       "      <td>436.731148</td>\n",
       "      <td>2.422650</td>\n",
       "      <td>433.636803</td>\n",
       "      <td>2.007659</td>\n",
       "    </tr>\n",
       "    <tr>\n",
       "      <th>85</th>\n",
       "      <td>Uruguay</td>\n",
       "      <td>NaN</td>\n",
       "      <td>NaN</td>\n",
       "      <td>NaN</td>\n",
       "      <td>NaN</td>\n",
       "      <td>428.133885</td>\n",
       "      <td>2.748541</td>\n",
       "      <td>427.214250</td>\n",
       "      <td>2.574899</td>\n",
       "      <td>415.842936</td>\n",
       "      <td>2.767177</td>\n",
       "      <td>435.362956</td>\n",
       "      <td>2.200876</td>\n",
       "      <td>425.812677</td>\n",
       "      <td>2.471928</td>\n",
       "    </tr>\n",
       "    <tr>\n",
       "      <th>86</th>\n",
       "      <td>Viet Nam</td>\n",
       "      <td>NaN</td>\n",
       "      <td>NaN</td>\n",
       "      <td>NaN</td>\n",
       "      <td>NaN</td>\n",
       "      <td>NaN</td>\n",
       "      <td>NaN</td>\n",
       "      <td>NaN</td>\n",
       "      <td>NaN</td>\n",
       "      <td>528.423262</td>\n",
       "      <td>4.312393</td>\n",
       "      <td>524.644519</td>\n",
       "      <td>3.910068</td>\n",
       "      <td>NaN</td>\n",
       "      <td>NaN</td>\n",
       "    </tr>\n",
       "  </tbody>\n",
       "</table>\n",
       "<p>87 rows × 15 columns</p>\n",
       "</div>"
      ],
      "text/plain": [
       "               Countries  2000  se_2000  2003  se_2003        2006   se_2006  \\\n",
       "0              Australia   NaN      NaN   NaN      NaN  526.879589  2.260280   \n",
       "1                Austria   NaN      NaN   NaN      NaN  510.837155  3.924941   \n",
       "2                Belgium   NaN      NaN   NaN      NaN  510.363484  2.484698   \n",
       "3                 Canada   NaN      NaN   NaN      NaN  534.469777  2.031759   \n",
       "4                  Chile   NaN      NaN   NaN      NaN  438.177445  4.317691   \n",
       "..                   ...   ...      ...   ...      ...         ...       ...   \n",
       "82               Tunisia   NaN      NaN   NaN      NaN  385.506714  2.957476   \n",
       "83               Ukraine   NaN      NaN   NaN      NaN         NaN       NaN   \n",
       "84  United Arab Emirates   NaN      NaN   NaN      NaN         NaN       NaN   \n",
       "85               Uruguay   NaN      NaN   NaN      NaN  428.133885  2.748541   \n",
       "86              Viet Nam   NaN      NaN   NaN      NaN         NaN       NaN   \n",
       "\n",
       "          2009   se_2009        2012   se_2012        2015   se_2015  \\\n",
       "0   527.270534  2.531131  521.494747  1.757625  509.993854  1.535311   \n",
       "1   494.327673  3.242150  505.781248  2.700310  495.037486  2.439345   \n",
       "2   506.575526  2.522207  504.867654  2.180299  501.999714  2.289589   \n",
       "3   528.704953  1.621340  525.441293  1.930456  527.704684  2.080262   \n",
       "4   447.467360  2.922763  444.933921  2.863276  446.956066  2.379287   \n",
       "..         ...       ...         ...       ...         ...       ...   \n",
       "82  400.661484  2.688612  398.046451  3.456062  386.403367  2.104368   \n",
       "83         NaN       NaN         NaN       NaN         NaN       NaN   \n",
       "84         NaN       NaN  448.370297  2.808616  436.731148  2.422650   \n",
       "85  427.214250  2.574899  415.842936  2.767177  435.362956  2.200876   \n",
       "86         NaN       NaN  528.423262  4.312393  524.644519  3.910068   \n",
       "\n",
       "          2018   se_2018  \n",
       "0   502.964563  1.795398  \n",
       "1   489.780439  2.777395  \n",
       "2   498.773127  2.229240  \n",
       "3   517.997661  2.153651  \n",
       "4   443.582563  2.415280  \n",
       "..         ...       ...  \n",
       "82         NaN       NaN  \n",
       "83  468.987743  3.297542  \n",
       "84  433.636803  2.007659  \n",
       "85  425.812677  2.471928  \n",
       "86         NaN       NaN  \n",
       "\n",
       "[87 rows x 15 columns]"
      ]
     },
     "execution_count": 32,
     "metadata": {},
     "output_type": "execute_result"
    }
   ],
   "source": [
    "sci = sci.replace('—',np.nan,regex = True)\n",
    "sci = sci.replace('†',np.nan,regex = True)\n",
    "sci = sci.replace('‡',np.nan,regex = True)\n",
    "sci"
   ]
  },
  {
   "cell_type": "code",
   "execution_count": 33,
   "metadata": {},
   "outputs": [
    {
     "data": {
      "text/html": [
       "<div>\n",
       "<style scoped>\n",
       "    .dataframe tbody tr th:only-of-type {\n",
       "        vertical-align: middle;\n",
       "    }\n",
       "\n",
       "    .dataframe tbody tr th {\n",
       "        vertical-align: top;\n",
       "    }\n",
       "\n",
       "    .dataframe thead th {\n",
       "        text-align: right;\n",
       "    }\n",
       "</style>\n",
       "<table border=\"1\" class=\"dataframe\">\n",
       "  <thead>\n",
       "    <tr style=\"text-align: right;\">\n",
       "      <th></th>\n",
       "      <th>Countries</th>\n",
       "      <th>rank_2000</th>\n",
       "      <th>rank_2003</th>\n",
       "      <th>rank_2006</th>\n",
       "      <th>rank_2009</th>\n",
       "      <th>rank_2012</th>\n",
       "      <th>rank_2015</th>\n",
       "      <th>rank_2018</th>\n",
       "    </tr>\n",
       "  </thead>\n",
       "  <tbody>\n",
       "    <tr>\n",
       "      <th>0</th>\n",
       "      <td>Australia</td>\n",
       "      <td>NaN</td>\n",
       "      <td>30.0</td>\n",
       "      <td>42.0</td>\n",
       "      <td>46.0</td>\n",
       "      <td>46.0</td>\n",
       "      <td>48.0</td>\n",
       "      <td>50.0</td>\n",
       "    </tr>\n",
       "    <tr>\n",
       "      <th>1</th>\n",
       "      <td>Austria</td>\n",
       "      <td>NaN</td>\n",
       "      <td>22.0</td>\n",
       "      <td>37.0</td>\n",
       "      <td>37.0</td>\n",
       "      <td>47.0</td>\n",
       "      <td>53.0</td>\n",
       "      <td>56.0</td>\n",
       "    </tr>\n",
       "    <tr>\n",
       "      <th>2</th>\n",
       "      <td>Belgium</td>\n",
       "      <td>NaN</td>\n",
       "      <td>33.0</td>\n",
       "      <td>43.0</td>\n",
       "      <td>47.0</td>\n",
       "      <td>50.0</td>\n",
       "      <td>58.0</td>\n",
       "      <td>64.0</td>\n",
       "    </tr>\n",
       "    <tr>\n",
       "      <th>3</th>\n",
       "      <td>Canada</td>\n",
       "      <td>NaN</td>\n",
       "      <td>34.0</td>\n",
       "      <td>47.0</td>\n",
       "      <td>51.0</td>\n",
       "      <td>52.0</td>\n",
       "      <td>63.0</td>\n",
       "      <td>67.0</td>\n",
       "    </tr>\n",
       "    <tr>\n",
       "      <th>4</th>\n",
       "      <td>Chile</td>\n",
       "      <td>NaN</td>\n",
       "      <td>NaN</td>\n",
       "      <td>10.0</td>\n",
       "      <td>15.0</td>\n",
       "      <td>15.0</td>\n",
       "      <td>24.0</td>\n",
       "      <td>20.0</td>\n",
       "    </tr>\n",
       "    <tr>\n",
       "      <th>...</th>\n",
       "      <td>...</td>\n",
       "      <td>...</td>\n",
       "      <td>...</td>\n",
       "      <td>...</td>\n",
       "      <td>...</td>\n",
       "      <td>...</td>\n",
       "      <td>...</td>\n",
       "      <td>...</td>\n",
       "    </tr>\n",
       "    <tr>\n",
       "      <th>82</th>\n",
       "      <td>Tunisia</td>\n",
       "      <td>NaN</td>\n",
       "      <td>2.0</td>\n",
       "      <td>2.0</td>\n",
       "      <td>4.0</td>\n",
       "      <td>6.0</td>\n",
       "      <td>4.0</td>\n",
       "      <td>NaN</td>\n",
       "    </tr>\n",
       "    <tr>\n",
       "      <th>83</th>\n",
       "      <td>Ukraine</td>\n",
       "      <td>NaN</td>\n",
       "      <td>NaN</td>\n",
       "      <td>NaN</td>\n",
       "      <td>NaN</td>\n",
       "      <td>NaN</td>\n",
       "      <td>NaN</td>\n",
       "      <td>36.0</td>\n",
       "    </tr>\n",
       "    <tr>\n",
       "      <th>84</th>\n",
       "      <td>United Arab Emirates</td>\n",
       "      <td>NaN</td>\n",
       "      <td>NaN</td>\n",
       "      <td>NaN</td>\n",
       "      <td>NaN</td>\n",
       "      <td>18.0</td>\n",
       "      <td>25.0</td>\n",
       "      <td>29.0</td>\n",
       "    </tr>\n",
       "    <tr>\n",
       "      <th>85</th>\n",
       "      <td>Uruguay</td>\n",
       "      <td>NaN</td>\n",
       "      <td>6.0</td>\n",
       "      <td>15.0</td>\n",
       "      <td>16.0</td>\n",
       "      <td>11.0</td>\n",
       "      <td>21.0</td>\n",
       "      <td>21.0</td>\n",
       "    </tr>\n",
       "    <tr>\n",
       "      <th>86</th>\n",
       "      <td>Viet Nam</td>\n",
       "      <td>NaN</td>\n",
       "      <td>NaN</td>\n",
       "      <td>NaN</td>\n",
       "      <td>NaN</td>\n",
       "      <td>48.0</td>\n",
       "      <td>51.0</td>\n",
       "      <td>NaN</td>\n",
       "    </tr>\n",
       "  </tbody>\n",
       "</table>\n",
       "<p>87 rows × 8 columns</p>\n",
       "</div>"
      ],
      "text/plain": [
       "               Countries  rank_2000  rank_2003  rank_2006  rank_2009  \\\n",
       "0              Australia        NaN       30.0       42.0       46.0   \n",
       "1                Austria        NaN       22.0       37.0       37.0   \n",
       "2                Belgium        NaN       33.0       43.0       47.0   \n",
       "3                 Canada        NaN       34.0       47.0       51.0   \n",
       "4                  Chile        NaN        NaN       10.0       15.0   \n",
       "..                   ...        ...        ...        ...        ...   \n",
       "82               Tunisia        NaN        2.0        2.0        4.0   \n",
       "83               Ukraine        NaN        NaN        NaN        NaN   \n",
       "84  United Arab Emirates        NaN        NaN        NaN        NaN   \n",
       "85               Uruguay        NaN        6.0       15.0       16.0   \n",
       "86              Viet Nam        NaN        NaN        NaN        NaN   \n",
       "\n",
       "    rank_2012  rank_2015  rank_2018  \n",
       "0        46.0       48.0       50.0  \n",
       "1        47.0       53.0       56.0  \n",
       "2        50.0       58.0       64.0  \n",
       "3        52.0       63.0       67.0  \n",
       "4        15.0       24.0       20.0  \n",
       "..        ...        ...        ...  \n",
       "82        6.0        4.0        NaN  \n",
       "83        NaN        NaN       36.0  \n",
       "84       18.0       25.0       29.0  \n",
       "85       11.0       21.0       21.0  \n",
       "86       48.0       51.0        NaN  \n",
       "\n",
       "[87 rows x 8 columns]"
      ]
     },
     "execution_count": 33,
     "metadata": {},
     "output_type": "execute_result"
    }
   ],
   "source": [
    "math_rank = pd.DataFrame()\n",
    "math_rank['Countries'] = math['Countries']\n",
    "math_rank['rank_2000'] = math['2000'].rank(method='max')\n",
    "math_rank['rank_2003'] = math['2003'].rank(method='max')\n",
    "math_rank['rank_2006'] = math['2006'].rank(method='max')\n",
    "math_rank['rank_2009'] = math['2009'].rank(method='max')\n",
    "math_rank['rank_2012'] = math['2012'].rank(method='max')\n",
    "math_rank['rank_2015'] = math['2015'].rank(method='max')\n",
    "math_rank['rank_2018'] = math['2018'].rank(method='max')\n",
    "math_rank"
   ]
  },
  {
   "cell_type": "code",
   "execution_count": 34,
   "metadata": {},
   "outputs": [
    {
     "data": {
      "text/html": [
       "<div>\n",
       "<style scoped>\n",
       "    .dataframe tbody tr th:only-of-type {\n",
       "        vertical-align: middle;\n",
       "    }\n",
       "\n",
       "    .dataframe tbody tr th {\n",
       "        vertical-align: top;\n",
       "    }\n",
       "\n",
       "    .dataframe thead th {\n",
       "        text-align: right;\n",
       "    }\n",
       "</style>\n",
       "<table border=\"1\" class=\"dataframe\">\n",
       "  <thead>\n",
       "    <tr style=\"text-align: right;\">\n",
       "      <th></th>\n",
       "      <th>Countries</th>\n",
       "      <th>rank_2000</th>\n",
       "      <th>rank_2003</th>\n",
       "      <th>rank_2006</th>\n",
       "      <th>rank_2009</th>\n",
       "      <th>rank_2012</th>\n",
       "      <th>rank_2015</th>\n",
       "      <th>rank_2018</th>\n",
       "    </tr>\n",
       "  </thead>\n",
       "  <tbody>\n",
       "    <tr>\n",
       "      <th>0</th>\n",
       "      <td>Australia</td>\n",
       "      <td>NaN</td>\n",
       "      <td>NaN</td>\n",
       "      <td>46.0</td>\n",
       "      <td>50.0</td>\n",
       "      <td>49.0</td>\n",
       "      <td>59.0</td>\n",
       "      <td>62.0</td>\n",
       "    </tr>\n",
       "    <tr>\n",
       "      <th>1</th>\n",
       "      <td>Austria</td>\n",
       "      <td>NaN</td>\n",
       "      <td>NaN</td>\n",
       "      <td>37.0</td>\n",
       "      <td>31.0</td>\n",
       "      <td>42.0</td>\n",
       "      <td>47.0</td>\n",
       "      <td>51.0</td>\n",
       "    </tr>\n",
       "    <tr>\n",
       "      <th>2</th>\n",
       "      <td>Belgium</td>\n",
       "      <td>NaN</td>\n",
       "      <td>NaN</td>\n",
       "      <td>36.0</td>\n",
       "      <td>40.0</td>\n",
       "      <td>41.0</td>\n",
       "      <td>53.0</td>\n",
       "      <td>59.0</td>\n",
       "    </tr>\n",
       "    <tr>\n",
       "      <th>3</th>\n",
       "      <td>Canada</td>\n",
       "      <td>NaN</td>\n",
       "      <td>NaN</td>\n",
       "      <td>51.0</td>\n",
       "      <td>52.0</td>\n",
       "      <td>54.0</td>\n",
       "      <td>66.0</td>\n",
       "      <td>71.0</td>\n",
       "    </tr>\n",
       "    <tr>\n",
       "      <th>4</th>\n",
       "      <td>Chile</td>\n",
       "      <td>NaN</td>\n",
       "      <td>NaN</td>\n",
       "      <td>15.0</td>\n",
       "      <td>18.0</td>\n",
       "      <td>19.0</td>\n",
       "      <td>29.0</td>\n",
       "      <td>34.0</td>\n",
       "    </tr>\n",
       "    <tr>\n",
       "      <th>...</th>\n",
       "      <td>...</td>\n",
       "      <td>...</td>\n",
       "      <td>...</td>\n",
       "      <td>...</td>\n",
       "      <td>...</td>\n",
       "      <td>...</td>\n",
       "      <td>...</td>\n",
       "      <td>...</td>\n",
       "    </tr>\n",
       "    <tr>\n",
       "      <th>82</th>\n",
       "      <td>Tunisia</td>\n",
       "      <td>NaN</td>\n",
       "      <td>NaN</td>\n",
       "      <td>2.0</td>\n",
       "      <td>6.0</td>\n",
       "      <td>5.0</td>\n",
       "      <td>5.0</td>\n",
       "      <td>NaN</td>\n",
       "    </tr>\n",
       "    <tr>\n",
       "      <th>83</th>\n",
       "      <td>Ukraine</td>\n",
       "      <td>NaN</td>\n",
       "      <td>NaN</td>\n",
       "      <td>NaN</td>\n",
       "      <td>NaN</td>\n",
       "      <td>NaN</td>\n",
       "      <td>NaN</td>\n",
       "      <td>41.0</td>\n",
       "    </tr>\n",
       "    <tr>\n",
       "      <th>84</th>\n",
       "      <td>United Arab Emirates</td>\n",
       "      <td>NaN</td>\n",
       "      <td>NaN</td>\n",
       "      <td>NaN</td>\n",
       "      <td>NaN</td>\n",
       "      <td>21.0</td>\n",
       "      <td>26.0</td>\n",
       "      <td>30.0</td>\n",
       "    </tr>\n",
       "    <tr>\n",
       "      <th>85</th>\n",
       "      <td>Uruguay</td>\n",
       "      <td>NaN</td>\n",
       "      <td>NaN</td>\n",
       "      <td>13.0</td>\n",
       "      <td>15.0</td>\n",
       "      <td>12.0</td>\n",
       "      <td>25.0</td>\n",
       "      <td>25.0</td>\n",
       "    </tr>\n",
       "    <tr>\n",
       "      <th>86</th>\n",
       "      <td>Viet Nam</td>\n",
       "      <td>NaN</td>\n",
       "      <td>NaN</td>\n",
       "      <td>NaN</td>\n",
       "      <td>NaN</td>\n",
       "      <td>56.0</td>\n",
       "      <td>65.0</td>\n",
       "      <td>NaN</td>\n",
       "    </tr>\n",
       "  </tbody>\n",
       "</table>\n",
       "<p>87 rows × 8 columns</p>\n",
       "</div>"
      ],
      "text/plain": [
       "               Countries  rank_2000  rank_2003  rank_2006  rank_2009  \\\n",
       "0              Australia        NaN        NaN       46.0       50.0   \n",
       "1                Austria        NaN        NaN       37.0       31.0   \n",
       "2                Belgium        NaN        NaN       36.0       40.0   \n",
       "3                 Canada        NaN        NaN       51.0       52.0   \n",
       "4                  Chile        NaN        NaN       15.0       18.0   \n",
       "..                   ...        ...        ...        ...        ...   \n",
       "82               Tunisia        NaN        NaN        2.0        6.0   \n",
       "83               Ukraine        NaN        NaN        NaN        NaN   \n",
       "84  United Arab Emirates        NaN        NaN        NaN        NaN   \n",
       "85               Uruguay        NaN        NaN       13.0       15.0   \n",
       "86              Viet Nam        NaN        NaN        NaN        NaN   \n",
       "\n",
       "    rank_2012  rank_2015  rank_2018  \n",
       "0        49.0       59.0       62.0  \n",
       "1        42.0       47.0       51.0  \n",
       "2        41.0       53.0       59.0  \n",
       "3        54.0       66.0       71.0  \n",
       "4        19.0       29.0       34.0  \n",
       "..        ...        ...        ...  \n",
       "82        5.0        5.0        NaN  \n",
       "83        NaN        NaN       41.0  \n",
       "84       21.0       26.0       30.0  \n",
       "85       12.0       25.0       25.0  \n",
       "86       56.0       65.0        NaN  \n",
       "\n",
       "[87 rows x 8 columns]"
      ]
     },
     "execution_count": 34,
     "metadata": {},
     "output_type": "execute_result"
    }
   ],
   "source": [
    "sci_rank = pd.DataFrame()\n",
    "sci_rank['Countries'] = sci['Countries']\n",
    "sci_rank['rank_2000'] = sci['2000'].rank(method='max')\n",
    "sci_rank['rank_2003'] = sci['2003'].rank(method='max')\n",
    "sci_rank['rank_2006'] = sci['2006'].rank(method='max')\n",
    "sci_rank['rank_2009'] = sci['2009'].rank(method='max')\n",
    "sci_rank['rank_2012'] = sci['2012'].rank(method='max')\n",
    "sci_rank['rank_2015'] = sci['2015'].rank(method='max')\n",
    "sci_rank['rank_2018'] = sci['2018'].rank(method='max')\n",
    "sci_rank"
   ]
  },
  {
   "cell_type": "code",
   "execution_count": 35,
   "metadata": {},
   "outputs": [
    {
     "name": "stderr",
     "output_type": "stream",
     "text": [
      "/var/folders/hv/08dyyt957zq3n_n6kttfl_180000gn/T/ipykernel_28954/3294650560.py:7: FutureWarning: Setting the `book` attribute is not part of the public API, usage can give unexpected or corrupted results and will be removed in a future version\n",
      "  writer.book = ExcelWorkbook\n",
      "/var/folders/hv/08dyyt957zq3n_n6kttfl_180000gn/T/ipykernel_28954/3294650560.py:11: FutureWarning: save is not part of the public API, usage can give unexpected results and will be removed in a future version\n",
      "  writer.save()\n"
     ]
    }
   ],
   "source": [
    "from openpyxl import load_workbook\n",
    "\n",
    "ExcelWorkbook = load_workbook('../data_all/new_trend.xlsx')\n",
    "\n",
    "writer = pd.ExcelWriter('../data_all/new_trend.xlsx', engine = 'openpyxl')\n",
    "\n",
    "writer.book = ExcelWorkbook\n",
    "\n",
    "math.to_excel(writer, sheet_name = 'Math')\n",
    "sci.to_excel(writer, sheet_name = 'Science')\n",
    "writer.save()\n",
    "writer.close()"
   ]
  },
  {
   "cell_type": "code",
   "execution_count": 36,
   "metadata": {},
   "outputs": [
    {
     "name": "stderr",
     "output_type": "stream",
     "text": [
      "/var/folders/hv/08dyyt957zq3n_n6kttfl_180000gn/T/ipykernel_28954/3810557284.py:5: FutureWarning: Setting the `book` attribute is not part of the public API, usage can give unexpected or corrupted results and will be removed in a future version\n",
      "  writer.book = ExcelWorkbook\n",
      "/var/folders/hv/08dyyt957zq3n_n6kttfl_180000gn/T/ipykernel_28954/3810557284.py:9: FutureWarning: save is not part of the public API, usage can give unexpected results and will be removed in a future version\n",
      "  writer.save()\n"
     ]
    }
   ],
   "source": [
    "ExcelWorkbook = load_workbook('../data_all/new_trend_rank.xlsx')\n",
    "\n",
    "writer = pd.ExcelWriter('../data_all/new_trend_rank.xlsx', engine = 'openpyxl')\n",
    "\n",
    "writer.book = ExcelWorkbook\n",
    "\n",
    "math_rank.to_excel(writer, sheet_name = 'Math')\n",
    "sci_rank.to_excel(writer, sheet_name = 'Science')\n",
    "writer.save()\n",
    "writer.close()"
   ]
  },
  {
   "cell_type": "code",
   "execution_count": 37,
   "metadata": {},
   "outputs": [],
   "source": [
    "readings_avg = readings.drop(['se_2000', 'se_2003','se_2006','se_2009','se_2012','se_2015','se_2018'], axis=1)\n",
    "math_avg = math.drop(['se_2000', 'se_2003','se_2006','se_2009','se_2012','se_2015','se_2018'], axis=1)\n",
    "sci_avg = sci.drop(['se_2000', 'se_2003','se_2006','se_2009','se_2012','se_2015','se_2018'], axis=1)"
   ]
  },
  {
   "cell_type": "code",
   "execution_count": 38,
   "metadata": {},
   "outputs": [],
   "source": [
    "readings_avg2 = pd.melt(readings_avg, id_vars=['Countries'], value_vars=['2000','2003','2006', '2009','2012','2015','2018'],   var_name='Year', value_name='avg', ignore_index=False)\n",
    "math_avg2 = pd.melt(math_avg, id_vars=['Countries'], value_vars=['2000','2003','2006', '2009','2012','2015','2018'],   var_name='Year', value_name='avg', ignore_index=False)\n",
    "sci_avg2 = pd.melt(sci_avg, id_vars=['Countries'], value_vars=['2000','2003','2006', '2009','2012','2015','2018'],   var_name='Year', value_name='avg', ignore_index=False)"
   ]
  },
  {
   "cell_type": "code",
   "execution_count": 39,
   "metadata": {},
   "outputs": [
    {
     "data": {
      "text/html": [
       "<div>\n",
       "<style scoped>\n",
       "    .dataframe tbody tr th:only-of-type {\n",
       "        vertical-align: middle;\n",
       "    }\n",
       "\n",
       "    .dataframe tbody tr th {\n",
       "        vertical-align: top;\n",
       "    }\n",
       "\n",
       "    .dataframe thead th {\n",
       "        text-align: right;\n",
       "    }\n",
       "</style>\n",
       "<table border=\"1\" class=\"dataframe\">\n",
       "  <thead>\n",
       "    <tr style=\"text-align: right;\">\n",
       "      <th></th>\n",
       "      <th>Countries</th>\n",
       "      <th>Year</th>\n",
       "      <th>avg</th>\n",
       "    </tr>\n",
       "  </thead>\n",
       "  <tbody>\n",
       "    <tr>\n",
       "      <th>0</th>\n",
       "      <td>Australia</td>\n",
       "      <td>2000</td>\n",
       "      <td>528.278505</td>\n",
       "    </tr>\n",
       "    <tr>\n",
       "      <th>1</th>\n",
       "      <td>Austria</td>\n",
       "      <td>2000</td>\n",
       "      <td>492.056007</td>\n",
       "    </tr>\n",
       "    <tr>\n",
       "      <th>2</th>\n",
       "      <td>Belgium</td>\n",
       "      <td>2000</td>\n",
       "      <td>507.125890</td>\n",
       "    </tr>\n",
       "    <tr>\n",
       "      <th>3</th>\n",
       "      <td>Canada</td>\n",
       "      <td>2000</td>\n",
       "      <td>534.312719</td>\n",
       "    </tr>\n",
       "    <tr>\n",
       "      <th>4</th>\n",
       "      <td>Chile</td>\n",
       "      <td>2000</td>\n",
       "      <td>409.556782</td>\n",
       "    </tr>\n",
       "    <tr>\n",
       "      <th>...</th>\n",
       "      <td>...</td>\n",
       "      <td>...</td>\n",
       "      <td>...</td>\n",
       "    </tr>\n",
       "    <tr>\n",
       "      <th>82</th>\n",
       "      <td>Tunisia</td>\n",
       "      <td>2018</td>\n",
       "      <td>NaN</td>\n",
       "    </tr>\n",
       "    <tr>\n",
       "      <th>83</th>\n",
       "      <td>Ukraine</td>\n",
       "      <td>2018</td>\n",
       "      <td>465.950148</td>\n",
       "    </tr>\n",
       "    <tr>\n",
       "      <th>84</th>\n",
       "      <td>United Arab Emirates</td>\n",
       "      <td>2018</td>\n",
       "      <td>431.781769</td>\n",
       "    </tr>\n",
       "    <tr>\n",
       "      <th>85</th>\n",
       "      <td>Uruguay</td>\n",
       "      <td>2018</td>\n",
       "      <td>427.117618</td>\n",
       "    </tr>\n",
       "    <tr>\n",
       "      <th>86</th>\n",
       "      <td>Viet Nam</td>\n",
       "      <td>2018</td>\n",
       "      <td>NaN</td>\n",
       "    </tr>\n",
       "  </tbody>\n",
       "</table>\n",
       "<p>609 rows × 3 columns</p>\n",
       "</div>"
      ],
      "text/plain": [
       "               Countries  Year         avg\n",
       "0              Australia  2000  528.278505\n",
       "1                Austria  2000  492.056007\n",
       "2                Belgium  2000  507.125890\n",
       "3                 Canada  2000  534.312719\n",
       "4                  Chile  2000  409.556782\n",
       "..                   ...   ...         ...\n",
       "82               Tunisia  2018         NaN\n",
       "83               Ukraine  2018  465.950148\n",
       "84  United Arab Emirates  2018  431.781769\n",
       "85               Uruguay  2018  427.117618\n",
       "86              Viet Nam  2018         NaN\n",
       "\n",
       "[609 rows x 3 columns]"
      ]
     },
     "execution_count": 39,
     "metadata": {},
     "output_type": "execute_result"
    }
   ],
   "source": [
    "readings_avg2"
   ]
  },
  {
   "cell_type": "code",
   "execution_count": 40,
   "metadata": {},
   "outputs": [],
   "source": [
    "import plotly.graph_objects as go"
   ]
  },
  {
   "cell_type": "code",
   "execution_count": 41,
   "metadata": {},
   "outputs": [
    {
     "data": {
      "application/vnd.plotly.v1+json": {
       "config": {
        "plotlyServerURL": "https://plot.ly"
       },
       "data": [
        {
         "mode": "lines+markers",
         "name": "Australia",
         "type": "scatter",
         "x": [
          "2000",
          "2003",
          "2006",
          "2009",
          "2012",
          "2015",
          "2018"
         ],
         "y": [
          528.278504645557,
          525.427006799966,
          512.893291590888,
          514.900655282061,
          511.803997635699,
          502.900559808559,
          502.631724296467
         ]
        },
        {
         "mode": "lines+markers",
         "name": "Austria",
         "type": "scatter",
         "x": [
          "2000",
          "2003",
          "2006",
          "2009",
          "2012",
          "2015",
          "2018"
         ],
         "y": [
          492.056007172679,
          490.693240487858,
          490.193977381611,
          470.2836321014,
          489.609335165838,
          484.865597140278,
          484.392568467887
         ]
        },
        {
         "mode": "lines+markers",
         "name": "Belgium",
         "type": "scatter",
         "x": [
          "2000",
          "2003",
          "2006",
          "2009",
          "2012",
          "2015",
          "2018"
         ],
         "y": [
          507.125890411763,
          506.987332423245,
          500.900594681255,
          505.945796164121,
          508.617876502673,
          498.524189185728,
          492.864438651366
         ]
        },
        {
         "mode": "lines+markers",
         "name": "Canada",
         "type": "scatter",
         "x": [
          "2000",
          "2003",
          "2006",
          "2009",
          "2012",
          "2015",
          "2018"
         ],
         "y": [
          534.312719063578,
          527.913611854906,
          527.011295588426,
          524.241833323209,
          523.124003069067,
          526.667805420688,
          520.085520949744
         ]
        },
        {
         "mode": "lines+markers",
         "name": "Chile",
         "type": "scatter",
         "x": [
          "2000",
          "2003",
          "2006",
          "2009",
          "2012",
          "2015",
          "2018"
         ],
         "y": [
          409.556781981894,
          null,
          442.091345687437,
          449.36960714808,
          441.398163887605,
          458.570876114578,
          452.272554183497
         ]
        },
        {
         "mode": "lines+markers",
         "name": "Colombia",
         "type": "scatter",
         "x": [
          "2000",
          "2003",
          "2006",
          "2009",
          "2012",
          "2015",
          "2018"
         ],
         "y": [
          null,
          null,
          385.308038471021,
          413.18149910984,
          403.402534176932,
          424.905167016417,
          412.295084993445
         ]
        },
        {
         "mode": "lines+markers",
         "name": "Czech Republic",
         "type": "scatter",
         "x": [
          "2000",
          "2003",
          "2006",
          "2009",
          "2012",
          "2015",
          "2018"
         ],
         "y": [
          491.577032406532,
          488.542284443754,
          482.715162001183,
          478.18672044853,
          492.88973841498,
          487.250141265609,
          490.218814836455
         ]
        },
        {
         "mode": "lines+markers",
         "name": "Denmark",
         "type": "scatter",
         "x": [
          "2000",
          "2003",
          "2006",
          "2009",
          "2012",
          "2015",
          "2018"
         ],
         "y": [
          496.870966381032,
          492.323379532967,
          494.482981064487,
          494.916161678163,
          496.130881482586,
          499.814584102513,
          501.129933709977
         ]
        },
        {
         "mode": "lines+markers",
         "name": "Estonia",
         "type": "scatter",
         "x": [
          "2000",
          "2003",
          "2006",
          "2009",
          "2012",
          "2015",
          "2018"
         ],
         "y": [
          null,
          null,
          500.749761792935,
          500.961865446796,
          516.294184414524,
          519.142855000901,
          523.017018368238
         ]
        },
        {
         "mode": "lines+markers",
         "name": "Finland",
         "type": "scatter",
         "x": [
          "2000",
          "2003",
          "2006",
          "2009",
          "2012",
          "2015",
          "2018"
         ],
         "y": [
          546.469144556151,
          543.462543353077,
          546.868281322559,
          535.877984525269,
          524.021669776685,
          526.42474708612,
          520.078748191683
         ]
        },
        {
         "mode": "lines+markers",
         "name": "France",
         "type": "scatter",
         "x": [
          "2000",
          "2003",
          "2006",
          "2009",
          "2012",
          "2015",
          "2018"
         ],
         "y": [
          504.742388508183,
          496.188784897345,
          487.70624693394,
          495.616541463166,
          505.481483331388,
          499.306141902095,
          492.606479196793
         ]
        },
        {
         "mode": "lines+markers",
         "name": "Germany",
         "type": "scatter",
         "x": [
          "2000",
          "2003",
          "2006",
          "2009",
          "2012",
          "2015",
          "2018"
         ],
         "y": [
          483.990823680045,
          491.35799855496,
          494.94441793196,
          497.305058025125,
          507.676529642374,
          509.104138668807,
          498.279256946497
         ]
        },
        {
         "mode": "lines+markers",
         "name": "Greece",
         "type": "scatter",
         "x": [
          "2000",
          "2003",
          "2006",
          "2009",
          "2012",
          "2015",
          "2018"
         ],
         "y": [
          473.798851327142,
          472.266876727609,
          459.711184693045,
          482.776241797933,
          477.197176601273,
          467.03953791181,
          457.414394765687
         ]
        },
        {
         "mode": "lines+markers",
         "name": "Hungary",
         "type": "scatter",
         "x": [
          "2000",
          "2003",
          "2006",
          "2009",
          "2012",
          "2015",
          "2018"
         ],
         "y": [
          479.966777666878,
          481.869694544302,
          482.374517475303,
          494.178753252436,
          488.461333940555,
          469.523257871731,
          475.986672249044
         ]
        },
        {
         "mode": "lines+markers",
         "name": "Iceland",
         "type": "scatter",
         "x": [
          "2000",
          "2003",
          "2006",
          "2009",
          "2012",
          "2015",
          "2018"
         ],
         "y": [
          506.930461604785,
          491.74696036974,
          484.445271963619,
          500.28331929788,
          482.522440017489,
          481.525540993272,
          473.974316906601
         ]
        },
        {
         "mode": "lines+markers",
         "name": "Ireland",
         "type": "scatter",
         "x": [
          "2000",
          "2003",
          "2006",
          "2009",
          "2012",
          "2015",
          "2018"
         ],
         "y": [
          526.668649162393,
          515.480076976509,
          517.313238218936,
          495.639108608594,
          523.1732100969,
          520.814841252693,
          518.078459209218
         ]
        },
        {
         "mode": "lines+markers",
         "name": "Israel",
         "type": "scatter",
         "x": [
          "2000",
          "2003",
          "2006",
          "2009",
          "2012",
          "2015",
          "2018"
         ],
         "y": [
          452.172404346715,
          null,
          438.67227483925,
          473.989950561693,
          485.803212570563,
          478.960642660078,
          470.415177988484
         ]
        },
        {
         "mode": "lines+markers",
         "name": "Italy",
         "type": "scatter",
         "x": [
          "2000",
          "2003",
          "2006",
          "2009",
          "2012",
          "2015",
          "2018"
         ],
         "y": [
          487.469645195714,
          475.66158080913,
          468.523108727316,
          486.051098757996,
          489.754403343757,
          484.75799607622,
          476.284679290674
         ]
        },
        {
         "mode": "lines+markers",
         "name": "Japan",
         "type": "scatter",
         "x": [
          "2000",
          "2003",
          "2006",
          "2009",
          "2012",
          "2015",
          "2018"
         ],
         "y": [
          522.234928592326,
          498.105206240302,
          497.957068745132,
          519.857722356738,
          538.051484818413,
          515.958479907217,
          503.856040959644
         ]
        },
        {
         "mode": "lines+markers",
         "name": "Korea",
         "type": "scatter",
         "x": [
          "2000",
          "2003",
          "2006",
          "2009",
          "2012",
          "2015",
          "2018"
         ],
         "y": [
          524.754298699788,
          534.091264700261,
          556.021910257395,
          539.267483862756,
          535.790490108391,
          517.436709705064,
          514.052288243438
         ]
        },
        {
         "mode": "lines+markers",
         "name": "Latvia",
         "type": "scatter",
         "x": [
          "2000",
          "2003",
          "2006",
          "2009",
          "2012",
          "2015",
          "2018"
         ],
         "y": [
          458.071082015823,
          490.562533860568,
          479.491835432239,
          483.960145434814,
          488.694414080658,
          487.758098543551,
          478.69867415764
         ]
        },
        {
         "mode": "lines+markers",
         "name": "Lithuania",
         "type": "scatter",
         "x": [
          "2000",
          "2003",
          "2006",
          "2009",
          "2012",
          "2015",
          "2018"
         ],
         "y": [
          null,
          null,
          470.070755673212,
          468.442734468486,
          477.306611927541,
          472.406552219942,
          475.873479690047
         ]
        },
        {
         "mode": "lines+markers",
         "name": "Luxembourg",
         "type": "scatter",
         "x": [
          "2000",
          "2003",
          "2006",
          "2009",
          "2012",
          "2015",
          "2018"
         ],
         "y": [
          441.245822606181,
          479.422583529557,
          479.366541570181,
          472.173386685468,
          487.807042554257,
          481.439097299908,
          469.985389253798
         ]
        },
        {
         "mode": "lines+markers",
         "name": "Mexico",
         "type": "scatter",
         "x": [
          "2000",
          "2003",
          "2006",
          "2009",
          "2012",
          "2015",
          "2018"
         ],
         "y": [
          421.960630139902,
          399.721927515837,
          410.496454832805,
          425.265299259775,
          423.553761875741,
          423.276479218343,
          420.468892301231
         ]
        },
        {
         "mode": "lines+markers",
         "name": "Netherlands",
         "type": "scatter",
         "x": [
          "2000",
          "2003",
          "2006",
          "2009",
          "2012",
          "2015",
          "2018"
         ],
         "y": [
          null,
          513.118970544979,
          506.746970986672,
          508.403722914336,
          511.229965383948,
          502.959051173655,
          484.783725108727
         ]
        },
        {
         "mode": "lines+markers",
         "name": "New Zealand",
         "type": "scatter",
         "x": [
          "2000",
          "2003",
          "2006",
          "2009",
          "2012",
          "2015",
          "2018"
         ],
         "y": [
          528.799731990735,
          521.551510365608,
          521.032645066485,
          520.880008657556,
          512.186793259588,
          509.27071261803,
          505.727283416393
         ]
        },
        {
         "mode": "lines+markers",
         "name": "Norway",
         "type": "scatter",
         "x": [
          "2000",
          "2003",
          "2006",
          "2009",
          "2012",
          "2015",
          "2018"
         ],
         "y": [
          505.280988572437,
          499.740233872541,
          484.292563040373,
          503.230020395488,
          503.936685776949,
          513.191172837735,
          499.450956252606
         ]
        },
        {
         "mode": "lines+markers",
         "name": "Poland",
         "type": "scatter",
         "x": [
          "2000",
          "2003",
          "2006",
          "2009",
          "2012",
          "2015",
          "2018"
         ],
         "y": [
          479.12168786049,
          496.605266039651,
          507.639527251243,
          500.478482589019,
          518.186880680842,
          505.697070414596,
          511.855695389411
         ]
        },
        {
         "mode": "lines+markers",
         "name": "Portugal",
         "type": "scatter",
         "x": [
          "2000",
          "2003",
          "2006",
          "2009",
          "2012",
          "2015",
          "2018"
         ],
         "y": [
          470.154622154989,
          477.56864560801,
          472.304305043188,
          489.334923843155,
          487.757687346949,
          498.128905627169,
          491.800785148239
         ]
        },
        {
         "mode": "lines+markers",
         "name": "Slovak Republic",
         "type": "scatter",
         "x": [
          "2000",
          "2003",
          "2006",
          "2009",
          "2012",
          "2015",
          "2018"
         ],
         "y": [
          null,
          469.159033305465,
          466.349768837243,
          477.44335249992,
          462.767032630339,
          452.51433687694,
          457.983966991548
         ]
        },
        {
         "mode": "lines+markers",
         "name": "Slovenia",
         "type": "scatter",
         "x": [
          "2000",
          "2003",
          "2006",
          "2009",
          "2012",
          "2015",
          "2018"
         ],
         "y": [
          null,
          null,
          494.409036882631,
          483.082042159636,
          481.316283515312,
          505.215880573471,
          495.34561516069
         ]
        },
        {
         "mode": "lines+markers",
         "name": "Spain",
         "type": "scatter",
         "x": [
          "2000",
          "2003",
          "2006",
          "2009",
          "2012",
          "2015",
          "2018"
         ],
         "y": [
          492.552969076338,
          480.537990713701,
          460.830112071787,
          481.042325987875,
          487.939181585192,
          495.576435300579,
          null
         ]
        },
        {
         "mode": "lines+markers",
         "name": "Sweden",
         "type": "scatter",
         "x": [
          "2000",
          "2003",
          "2006",
          "2009",
          "2012",
          "2015",
          "2018"
         ],
         "y": [
          516.331185782007,
          514.2674126658,
          507.312880170987,
          497.449423337328,
          483.335005680295,
          500.155606596667,
          505.785220484632
         ]
        },
        {
         "mode": "lines+markers",
         "name": "Switzerland",
         "type": "scatter",
         "x": [
          "2000",
          "2003",
          "2006",
          "2009",
          "2012",
          "2015",
          "2018"
         ],
         "y": [
          494.371618875125,
          499.121399151987,
          499.277783798057,
          500.500211745811,
          509.040249712766,
          492.198228583899,
          483.929405173948
         ]
        },
        {
         "mode": "lines+markers",
         "name": "Turkey",
         "type": "scatter",
         "x": [
          "2000",
          "2003",
          "2006",
          "2009",
          "2012",
          "2015",
          "2018"
         ],
         "y": [
          null,
          440.970988801156,
          447.141132491269,
          464.194375321965,
          475.491466282333,
          428.335092574425,
          465.631665688195
         ]
        },
        {
         "mode": "lines+markers",
         "name": "United Kingdom",
         "type": "scatter",
         "x": [
          "2000",
          "2003",
          "2006",
          "2009",
          "2012",
          "2015",
          "2018"
         ],
         "y": [
          523.443303655088,
          507.012749023185,
          495.083509552515,
          494.182010034758,
          499.323115276828,
          497.971931138743,
          503.92810939578
         ]
        },
        {
         "mode": "lines+markers",
         "name": "United States",
         "type": "scatter",
         "x": [
          "2000",
          "2003",
          "2006",
          "2009",
          "2012",
          "2015",
          "2018"
         ],
         "y": [
          504.419691574893,
          495.185865174036,
          null,
          499.826821082486,
          497.581718043885,
          496.935097348993,
          505.35277052285
         ]
        },
        {
         "mode": "lines+markers",
         "name": "Albania",
         "type": "scatter",
         "x": [
          "2000",
          "2003",
          "2006",
          "2009",
          "2012",
          "2015",
          "2018"
         ],
         "y": [
          348.849512002526,
          null,
          null,
          384.816602383837,
          393.964251958639,
          null,
          405.429366265036
         ]
        },
        {
         "mode": "lines+markers",
         "name": "Albania (2015)",
         "type": "scatter",
         "x": [
          "2000",
          "2003",
          "2006",
          "2009",
          "2012",
          "2015",
          "2018"
         ],
         "y": [
          null,
          null,
          null,
          null,
          null,
          405.258760080247,
          null
         ]
        },
        {
         "mode": "lines+markers",
         "name": "Algeria",
         "type": "scatter",
         "x": [
          "2000",
          "2003",
          "2006",
          "2009",
          "2012",
          "2015",
          "2018"
         ],
         "y": [
          null,
          null,
          null,
          null,
          null,
          349.859252462198,
          null
         ]
        },
        {
         "mode": "lines+markers",
         "name": "Argentina",
         "type": "scatter",
         "x": [
          "2000",
          "2003",
          "2006",
          "2009",
          "2012",
          "2015",
          "2018"
         ],
         "y": [
          418.250700218666,
          null,
          373.723771478369,
          398.260879916509,
          395.979122756395,
          null,
          401.503108989067
         ]
        },
        {
         "mode": "lines+markers",
         "name": "Argentina (2015)",
         "type": "scatter",
         "x": [
          "2000",
          "2003",
          "2006",
          "2009",
          "2012",
          "2015",
          "2018"
         ],
         "y": [
          null,
          null,
          null,
          null,
          null,
          425.303119437686,
          null
         ]
        },
        {
         "mode": "lines+markers",
         "name": "Baku (Azerbaijan)",
         "type": "scatter",
         "x": [
          "2000",
          "2003",
          "2006",
          "2009",
          "2012",
          "2015",
          "2018"
         ],
         "y": [
          null,
          null,
          null,
          null,
          null,
          null,
          389.388333926109
         ]
        },
        {
         "mode": "lines+markers",
         "name": "Belarus",
         "type": "scatter",
         "x": [
          "2000",
          "2003",
          "2006",
          "2009",
          "2012",
          "2015",
          "2018"
         ],
         "y": [
          null,
          null,
          null,
          null,
          null,
          null,
          473.788447220801
         ]
        },
        {
         "mode": "lines+markers",
         "name": "Bosnia and Herzegovina",
         "type": "scatter",
         "x": [
          "2000",
          "2003",
          "2006",
          "2009",
          "2012",
          "2015",
          "2018"
         ],
         "y": [
          null,
          null,
          null,
          null,
          null,
          null,
          402.977821256095
         ]
        },
        {
         "mode": "lines+markers",
         "name": "Brazil",
         "type": "scatter",
         "x": [
          "2000",
          "2003",
          "2006",
          "2009",
          "2012",
          "2015",
          "2018"
         ],
         "y": [
          396.029083741416,
          402.796284149311,
          392.885112093013,
          411.754927390411,
          406.533157828888,
          407.348592265637,
          412.873316507874
         ]
        },
        {
         "mode": "lines+markers",
         "name": "Brunei Darussalam",
         "type": "scatter",
         "x": [
          "2000",
          "2003",
          "2006",
          "2009",
          "2012",
          "2015",
          "2018"
         ],
         "y": [
          null,
          null,
          null,
          null,
          null,
          null,
          408.069943872968
         ]
        },
        {
         "mode": "lines+markers",
         "name": "B-S-J-G (China)",
         "type": "scatter",
         "x": [
          "2000",
          "2003",
          "2006",
          "2009",
          "2012",
          "2015",
          "2018"
         ],
         "y": [
          null,
          null,
          null,
          null,
          null,
          493.941212281351,
          null
         ]
        },
        {
         "mode": "lines+markers",
         "name": "B-S-J-Z (China)",
         "type": "scatter",
         "x": [
          "2000",
          "2003",
          "2006",
          "2009",
          "2012",
          "2015",
          "2018"
         ],
         "y": [
          null,
          null,
          null,
          null,
          null,
          null,
          555.236243937684
         ]
        },
        {
         "mode": "lines+markers",
         "name": "Bulgaria",
         "type": "scatter",
         "x": [
          "2000",
          "2003",
          "2006",
          "2009",
          "2012",
          "2015",
          "2018"
         ],
         "y": [
          430.403432959136,
          null,
          401.934980015629,
          429.081087013673,
          436.125725414379,
          431.717532840855,
          419.844006057547
         ]
        },
        {
         "mode": "lines+markers",
         "name": "Chinese Taipei",
         "type": "scatter",
         "x": [
          "2000",
          "2003",
          "2006",
          "2009",
          "2012",
          "2015",
          "2018"
         ],
         "y": [
          null,
          null,
          496.235423019746,
          495.240465323958,
          523.118904016303,
          497.099091878095,
          502.601147134397
         ]
        },
        {
         "mode": "lines+markers",
         "name": "Costa Rica",
         "type": "scatter",
         "x": [
          "2000",
          "2003",
          "2006",
          "2009",
          "2012",
          "2015",
          "2018"
         ],
         "y": [
          null,
          null,
          null,
          null,
          440.547810736318,
          427.487548206914,
          426.498225009681
         ]
        },
        {
         "mode": "lines+markers",
         "name": "Croatia",
         "type": "scatter",
         "x": [
          "2000",
          "2003",
          "2006",
          "2009",
          "2012",
          "2015",
          "2018"
         ],
         "y": [
          null,
          null,
          477.364237968923,
          475.748886149044,
          484.565032209405,
          486.863186279383,
          478.989152347431
         ]
        },
        {
         "mode": "lines+markers",
         "name": "Cyprus",
         "type": "scatter",
         "x": [
          "2000",
          "2003",
          "2006",
          "2009",
          "2012",
          "2015",
          "2018"
         ],
         "y": [
          null,
          null,
          null,
          null,
          448.952978603654,
          442.831433208427,
          424.358247109201
         ]
        },
        {
         "mode": "lines+markers",
         "name": "Dominican Republic",
         "type": "scatter",
         "x": [
          "2000",
          "2003",
          "2006",
          "2009",
          "2012",
          "2015",
          "2018"
         ],
         "y": [
          null,
          null,
          null,
          null,
          null,
          357.73769635133,
          341.625620659642
         ]
        },
        {
         "mode": "lines+markers",
         "name": "Georgia",
         "type": "scatter",
         "x": [
          "2000",
          "2003",
          "2006",
          "2009",
          "2012",
          "2015",
          "2018"
         ],
         "y": [
          null,
          null,
          null,
          null,
          null,
          401.28813510148,
          379.75254063835
         ]
        },
        {
         "mode": "lines+markers",
         "name": "Hong Kong (China)",
         "type": "scatter",
         "x": [
          "2000",
          "2003",
          "2006",
          "2009",
          "2012",
          "2015",
          "2018"
         ],
         "y": [
          525.455904550595,
          509.535150538836,
          536.065566611509,
          533.151267611458,
          544.600086012685,
          526.675339980811,
          524.283117176088
         ]
        },
        {
         "mode": "lines+markers",
         "name": "Indonesia",
         "type": "scatter",
         "x": [
          "2000",
          "2003",
          "2006",
          "2009",
          "2012",
          "2015",
          "2018"
         ],
         "y": [
          370.61466390191,
          381.590362001891,
          392.932829906115,
          401.70519572394,
          396.120094523271,
          397.259494291457,
          370.965380789598
         ]
        },
        {
         "mode": "lines+markers",
         "name": "Jordan",
         "type": "scatter",
         "x": [
          "2000",
          "2003",
          "2006",
          "2009",
          "2012",
          "2015",
          "2018"
         ],
         "y": [
          null,
          null,
          400.581237663118,
          405.009317222847,
          399.034747069584,
          408.102197406134,
          419.063660820261
         ]
        },
        {
         "mode": "lines+markers",
         "name": "Kazakhstan",
         "type": "scatter",
         "x": [
          "2000",
          "2003",
          "2006",
          "2009",
          "2012",
          "2015",
          "2018"
         ],
         "y": [
          null,
          null,
          null,
          390.41007637389,
          392.736233260165,
          null,
          386.909274608434
         ]
        },
        {
         "mode": "lines+markers",
         "name": "Kazakhstan (2015)",
         "type": "scatter",
         "x": [
          "2000",
          "2003",
          "2006",
          "2009",
          "2012",
          "2015",
          "2018"
         ],
         "y": [
          null,
          null,
          null,
          null,
          null,
          427.141020345013,
          null
         ]
        },
        {
         "mode": "lines+markers",
         "name": "Kosovo",
         "type": "scatter",
         "x": [
          "2000",
          "2003",
          "2006",
          "2009",
          "2012",
          "2015",
          "2018"
         ],
         "y": [
          null,
          null,
          null,
          null,
          null,
          347.125902902881,
          353.065432502117
         ]
        },
        {
         "mode": "lines+markers",
         "name": "Lebanon",
         "type": "scatter",
         "x": [
          "2000",
          "2003",
          "2006",
          "2009",
          "2012",
          "2015",
          "2018"
         ],
         "y": [
          null,
          null,
          null,
          null,
          null,
          346.548976863112,
          353.355316564387
         ]
        },
        {
         "mode": "lines+markers",
         "name": "Macao (China)",
         "type": "scatter",
         "x": [
          "2000",
          "2003",
          "2006",
          "2009",
          "2012",
          "2015",
          "2018"
         ],
         "y": [
          null,
          497.640075823792,
          492.287814673976,
          486.635349272502,
          508.949255450657,
          508.69051853536,
          525.116168790305
         ]
        },
        {
         "mode": "lines+markers",
         "name": "Malaysia",
         "type": "scatter",
         "x": [
          "2000",
          "2003",
          "2006",
          "2009",
          "2012",
          "2015",
          "2018"
         ],
         "y": [
          null,
          null,
          null,
          null,
          398.196059905239,
          null,
          414.979514164134
         ]
        },
        {
         "mode": "lines+markers",
         "name": "Malaysia (2015)",
         "type": "scatter",
         "x": [
          "2000",
          "2003",
          "2006",
          "2009",
          "2012",
          "2015",
          "2018"
         ],
         "y": [
          null,
          null,
          null,
          null,
          null,
          430.578196329977,
          null
         ]
        },
        {
         "mode": "lines+markers",
         "name": "Malta",
         "type": "scatter",
         "x": [
          "2000",
          "2003",
          "2006",
          "2009",
          "2012",
          "2015",
          "2018"
         ],
         "y": [
          null,
          null,
          null,
          null,
          null,
          446.666142503734,
          448.234760371158
         ]
        },
        {
         "mode": "lines+markers",
         "name": "Moldova",
         "type": "scatter",
         "x": [
          "2000",
          "2003",
          "2006",
          "2009",
          "2012",
          "2015",
          "2018"
         ],
         "y": [
          null,
          null,
          null,
          null,
          null,
          416.229262257335,
          423.99296566039
         ]
        },
        {
         "mode": "lines+markers",
         "name": "Montenegro",
         "type": "scatter",
         "x": [
          "2000",
          "2003",
          "2006",
          "2009",
          "2012",
          "2015",
          "2018"
         ],
         "y": [
          null,
          null,
          391.975448215364,
          407.547769702901,
          422.111354172533,
          426.884477610023,
          421.057573414817
         ]
        },
        {
         "mode": "lines+markers",
         "name": "Morocco",
         "type": "scatter",
         "x": [
          "2000",
          "2003",
          "2006",
          "2009",
          "2012",
          "2015",
          "2018"
         ],
         "y": [
          null,
          null,
          null,
          null,
          null,
          null,
          359.387886131127
         ]
        },
        {
         "mode": "lines+markers",
         "name": "North Macedonia",
         "type": "scatter",
         "x": [
          "2000",
          "2003",
          "2006",
          "2009",
          "2012",
          "2015",
          "2018"
         ],
         "y": [
          372.509137902888,
          null,
          null,
          null,
          null,
          351.741548568668,
          392.667769514773
         ]
        },
        {
         "mode": "lines+markers",
         "name": "Panama",
         "type": "scatter",
         "x": [
          "2000",
          "2003",
          "2006",
          "2009",
          "2012",
          "2015",
          "2018"
         ],
         "y": [
          null,
          null,
          null,
          null,
          null,
          null,
          376.971316680597
         ]
        },
        {
         "mode": "lines+markers",
         "name": "Peru",
         "type": "scatter",
         "x": [
          "2000",
          "2003",
          "2006",
          "2009",
          "2012",
          "2015",
          "2018"
         ],
         "y": [
          327.084842840238,
          null,
          null,
          369.695760732583,
          384.151223468652,
          397.541439205898,
          400.513705414092
         ]
        },
        {
         "mode": "lines+markers",
         "name": "Philippines",
         "type": "scatter",
         "x": [
          "2000",
          "2003",
          "2006",
          "2009",
          "2012",
          "2015",
          "2018"
         ],
         "y": [
          null,
          null,
          null,
          null,
          null,
          null,
          339.691590532852
         ]
        },
        {
         "mode": "lines+markers",
         "name": "Qatar",
         "type": "scatter",
         "x": [
          "2000",
          "2003",
          "2006",
          "2009",
          "2012",
          "2015",
          "2018"
         ],
         "y": [
          null,
          null,
          312.213455760266,
          371.716030920156,
          387.50413025504,
          401.887331031922,
          407.091792265396
         ]
        },
        {
         "mode": "lines+markers",
         "name": "Romania",
         "type": "scatter",
         "x": [
          "2000",
          "2003",
          "2006",
          "2009",
          "2012",
          "2015",
          "2018"
         ],
         "y": [
          427.931505595312,
          null,
          395.93173698246,
          424.458328736183,
          437.599488235172,
          433.616598028163,
          427.703145831144
         ]
        },
        {
         "mode": "lines+markers",
         "name": "Russia",
         "type": "scatter",
         "x": [
          "2000",
          "2003",
          "2006",
          "2009",
          "2012",
          "2015",
          "2018"
         ],
         "y": [
          461.762032994313,
          442.19683013787,
          439.855743162199,
          459.39592932798803,
          475.149374016109,
          494.627832497879,
          478.50193409492
         ]
        },
        {
         "mode": "lines+markers",
         "name": "Saudi Arabia",
         "type": "scatter",
         "x": [
          "2000",
          "2003",
          "2006",
          "2009",
          "2012",
          "2015",
          "2018"
         ],
         "y": [
          null,
          null,
          null,
          null,
          null,
          null,
          399.151658203785
         ]
        },
        {
         "mode": "lines+markers",
         "name": "Serbia",
         "type": "scatter",
         "x": [
          "2000",
          "2003",
          "2006",
          "2009",
          "2012",
          "2015",
          "2018"
         ],
         "y": [
          null,
          null,
          null,
          null,
          null,
          null,
          439.466341432205
         ]
        },
        {
         "mode": "lines+markers",
         "name": "Singapore",
         "type": "scatter",
         "x": [
          "2000",
          "2003",
          "2006",
          "2009",
          "2012",
          "2015",
          "2018"
         ],
         "y": [
          null,
          null,
          null,
          525.896516683798,
          542.215834239239,
          535.10015402686,
          549.464707810135
         ]
        },
        {
         "mode": "lines+markers",
         "name": "Thailand",
         "type": "scatter",
         "x": [
          "2000",
          "2003",
          "2006",
          "2009",
          "2012",
          "2015",
          "2018"
         ],
         "y": [
          430.683873215767,
          419.914829139676,
          416.751764872395,
          421.374414277479,
          441.219934145045,
          409.130115386446,
          392.888640467105
         ]
        },
        {
         "mode": "lines+markers",
         "name": "Trinidad and Tobago",
         "type": "scatter",
         "x": [
          "2000",
          "2003",
          "2006",
          "2009",
          "2012",
          "2015",
          "2018"
         ],
         "y": [
          null,
          null,
          null,
          416.452331810188,
          null,
          427.273253045884,
          null
         ]
        },
        {
         "mode": "lines+markers",
         "name": "Tunisia",
         "type": "scatter",
         "x": [
          "2000",
          "2003",
          "2006",
          "2009",
          "2012",
          "2015",
          "2018"
         ],
         "y": [
          null,
          374.622404445913,
          380.336830023832,
          403.632655580959,
          404.078467410285,
          361.055509004685,
          null
         ]
        },
        {
         "mode": "lines+markers",
         "name": "Ukraine",
         "type": "scatter",
         "x": [
          "2000",
          "2003",
          "2006",
          "2009",
          "2012",
          "2015",
          "2018"
         ],
         "y": [
          null,
          null,
          null,
          null,
          null,
          null,
          465.950148126983
         ]
        },
        {
         "mode": "lines+markers",
         "name": "United Arab Emirates",
         "type": "scatter",
         "x": [
          "2000",
          "2003",
          "2006",
          "2009",
          "2012",
          "2015",
          "2018"
         ],
         "y": [
          null,
          null,
          null,
          null,
          441.703736209317,
          433.54229040648,
          431.78176948128
         ]
        },
        {
         "mode": "lines+markers",
         "name": "Uruguay",
         "type": "scatter",
         "x": [
          "2000",
          "2003",
          "2006",
          "2009",
          "2012",
          "2015",
          "2018"
         ],
         "y": [
          null,
          434.149758382339,
          412.516732704865,
          425.813358895412,
          411.348919222038,
          436.572131497653,
          427.117618163872
         ]
        },
        {
         "mode": "lines+markers",
         "name": "Viet Nam",
         "type": "scatter",
         "x": [
          "2000",
          "2003",
          "2006",
          "2009",
          "2012",
          "2015",
          "2018"
         ],
         "y": [
          null,
          null,
          null,
          null,
          508.218990525319,
          486.773764009064,
          null
         ]
        }
       ],
       "layout": {
        "template": {
         "data": {
          "bar": [
           {
            "error_x": {
             "color": "#2a3f5f"
            },
            "error_y": {
             "color": "#2a3f5f"
            },
            "marker": {
             "line": {
              "color": "#E5ECF6",
              "width": 0.5
             },
             "pattern": {
              "fillmode": "overlay",
              "size": 10,
              "solidity": 0.2
             }
            },
            "type": "bar"
           }
          ],
          "barpolar": [
           {
            "marker": {
             "line": {
              "color": "#E5ECF6",
              "width": 0.5
             },
             "pattern": {
              "fillmode": "overlay",
              "size": 10,
              "solidity": 0.2
             }
            },
            "type": "barpolar"
           }
          ],
          "carpet": [
           {
            "aaxis": {
             "endlinecolor": "#2a3f5f",
             "gridcolor": "white",
             "linecolor": "white",
             "minorgridcolor": "white",
             "startlinecolor": "#2a3f5f"
            },
            "baxis": {
             "endlinecolor": "#2a3f5f",
             "gridcolor": "white",
             "linecolor": "white",
             "minorgridcolor": "white",
             "startlinecolor": "#2a3f5f"
            },
            "type": "carpet"
           }
          ],
          "choropleth": [
           {
            "colorbar": {
             "outlinewidth": 0,
             "ticks": ""
            },
            "type": "choropleth"
           }
          ],
          "contour": [
           {
            "colorbar": {
             "outlinewidth": 0,
             "ticks": ""
            },
            "colorscale": [
             [
              0,
              "#0d0887"
             ],
             [
              0.1111111111111111,
              "#46039f"
             ],
             [
              0.2222222222222222,
              "#7201a8"
             ],
             [
              0.3333333333333333,
              "#9c179e"
             ],
             [
              0.4444444444444444,
              "#bd3786"
             ],
             [
              0.5555555555555556,
              "#d8576b"
             ],
             [
              0.6666666666666666,
              "#ed7953"
             ],
             [
              0.7777777777777778,
              "#fb9f3a"
             ],
             [
              0.8888888888888888,
              "#fdca26"
             ],
             [
              1,
              "#f0f921"
             ]
            ],
            "type": "contour"
           }
          ],
          "contourcarpet": [
           {
            "colorbar": {
             "outlinewidth": 0,
             "ticks": ""
            },
            "type": "contourcarpet"
           }
          ],
          "heatmap": [
           {
            "colorbar": {
             "outlinewidth": 0,
             "ticks": ""
            },
            "colorscale": [
             [
              0,
              "#0d0887"
             ],
             [
              0.1111111111111111,
              "#46039f"
             ],
             [
              0.2222222222222222,
              "#7201a8"
             ],
             [
              0.3333333333333333,
              "#9c179e"
             ],
             [
              0.4444444444444444,
              "#bd3786"
             ],
             [
              0.5555555555555556,
              "#d8576b"
             ],
             [
              0.6666666666666666,
              "#ed7953"
             ],
             [
              0.7777777777777778,
              "#fb9f3a"
             ],
             [
              0.8888888888888888,
              "#fdca26"
             ],
             [
              1,
              "#f0f921"
             ]
            ],
            "type": "heatmap"
           }
          ],
          "heatmapgl": [
           {
            "colorbar": {
             "outlinewidth": 0,
             "ticks": ""
            },
            "colorscale": [
             [
              0,
              "#0d0887"
             ],
             [
              0.1111111111111111,
              "#46039f"
             ],
             [
              0.2222222222222222,
              "#7201a8"
             ],
             [
              0.3333333333333333,
              "#9c179e"
             ],
             [
              0.4444444444444444,
              "#bd3786"
             ],
             [
              0.5555555555555556,
              "#d8576b"
             ],
             [
              0.6666666666666666,
              "#ed7953"
             ],
             [
              0.7777777777777778,
              "#fb9f3a"
             ],
             [
              0.8888888888888888,
              "#fdca26"
             ],
             [
              1,
              "#f0f921"
             ]
            ],
            "type": "heatmapgl"
           }
          ],
          "histogram": [
           {
            "marker": {
             "pattern": {
              "fillmode": "overlay",
              "size": 10,
              "solidity": 0.2
             }
            },
            "type": "histogram"
           }
          ],
          "histogram2d": [
           {
            "colorbar": {
             "outlinewidth": 0,
             "ticks": ""
            },
            "colorscale": [
             [
              0,
              "#0d0887"
             ],
             [
              0.1111111111111111,
              "#46039f"
             ],
             [
              0.2222222222222222,
              "#7201a8"
             ],
             [
              0.3333333333333333,
              "#9c179e"
             ],
             [
              0.4444444444444444,
              "#bd3786"
             ],
             [
              0.5555555555555556,
              "#d8576b"
             ],
             [
              0.6666666666666666,
              "#ed7953"
             ],
             [
              0.7777777777777778,
              "#fb9f3a"
             ],
             [
              0.8888888888888888,
              "#fdca26"
             ],
             [
              1,
              "#f0f921"
             ]
            ],
            "type": "histogram2d"
           }
          ],
          "histogram2dcontour": [
           {
            "colorbar": {
             "outlinewidth": 0,
             "ticks": ""
            },
            "colorscale": [
             [
              0,
              "#0d0887"
             ],
             [
              0.1111111111111111,
              "#46039f"
             ],
             [
              0.2222222222222222,
              "#7201a8"
             ],
             [
              0.3333333333333333,
              "#9c179e"
             ],
             [
              0.4444444444444444,
              "#bd3786"
             ],
             [
              0.5555555555555556,
              "#d8576b"
             ],
             [
              0.6666666666666666,
              "#ed7953"
             ],
             [
              0.7777777777777778,
              "#fb9f3a"
             ],
             [
              0.8888888888888888,
              "#fdca26"
             ],
             [
              1,
              "#f0f921"
             ]
            ],
            "type": "histogram2dcontour"
           }
          ],
          "mesh3d": [
           {
            "colorbar": {
             "outlinewidth": 0,
             "ticks": ""
            },
            "type": "mesh3d"
           }
          ],
          "parcoords": [
           {
            "line": {
             "colorbar": {
              "outlinewidth": 0,
              "ticks": ""
             }
            },
            "type": "parcoords"
           }
          ],
          "pie": [
           {
            "automargin": true,
            "type": "pie"
           }
          ],
          "scatter": [
           {
            "fillpattern": {
             "fillmode": "overlay",
             "size": 10,
             "solidity": 0.2
            },
            "type": "scatter"
           }
          ],
          "scatter3d": [
           {
            "line": {
             "colorbar": {
              "outlinewidth": 0,
              "ticks": ""
             }
            },
            "marker": {
             "colorbar": {
              "outlinewidth": 0,
              "ticks": ""
             }
            },
            "type": "scatter3d"
           }
          ],
          "scattercarpet": [
           {
            "marker": {
             "colorbar": {
              "outlinewidth": 0,
              "ticks": ""
             }
            },
            "type": "scattercarpet"
           }
          ],
          "scattergeo": [
           {
            "marker": {
             "colorbar": {
              "outlinewidth": 0,
              "ticks": ""
             }
            },
            "type": "scattergeo"
           }
          ],
          "scattergl": [
           {
            "marker": {
             "colorbar": {
              "outlinewidth": 0,
              "ticks": ""
             }
            },
            "type": "scattergl"
           }
          ],
          "scattermapbox": [
           {
            "marker": {
             "colorbar": {
              "outlinewidth": 0,
              "ticks": ""
             }
            },
            "type": "scattermapbox"
           }
          ],
          "scatterpolar": [
           {
            "marker": {
             "colorbar": {
              "outlinewidth": 0,
              "ticks": ""
             }
            },
            "type": "scatterpolar"
           }
          ],
          "scatterpolargl": [
           {
            "marker": {
             "colorbar": {
              "outlinewidth": 0,
              "ticks": ""
             }
            },
            "type": "scatterpolargl"
           }
          ],
          "scatterternary": [
           {
            "marker": {
             "colorbar": {
              "outlinewidth": 0,
              "ticks": ""
             }
            },
            "type": "scatterternary"
           }
          ],
          "surface": [
           {
            "colorbar": {
             "outlinewidth": 0,
             "ticks": ""
            },
            "colorscale": [
             [
              0,
              "#0d0887"
             ],
             [
              0.1111111111111111,
              "#46039f"
             ],
             [
              0.2222222222222222,
              "#7201a8"
             ],
             [
              0.3333333333333333,
              "#9c179e"
             ],
             [
              0.4444444444444444,
              "#bd3786"
             ],
             [
              0.5555555555555556,
              "#d8576b"
             ],
             [
              0.6666666666666666,
              "#ed7953"
             ],
             [
              0.7777777777777778,
              "#fb9f3a"
             ],
             [
              0.8888888888888888,
              "#fdca26"
             ],
             [
              1,
              "#f0f921"
             ]
            ],
            "type": "surface"
           }
          ],
          "table": [
           {
            "cells": {
             "fill": {
              "color": "#EBF0F8"
             },
             "line": {
              "color": "white"
             }
            },
            "header": {
             "fill": {
              "color": "#C8D4E3"
             },
             "line": {
              "color": "white"
             }
            },
            "type": "table"
           }
          ]
         },
         "layout": {
          "annotationdefaults": {
           "arrowcolor": "#2a3f5f",
           "arrowhead": 0,
           "arrowwidth": 1
          },
          "autotypenumbers": "strict",
          "coloraxis": {
           "colorbar": {
            "outlinewidth": 0,
            "ticks": ""
           }
          },
          "colorscale": {
           "diverging": [
            [
             0,
             "#8e0152"
            ],
            [
             0.1,
             "#c51b7d"
            ],
            [
             0.2,
             "#de77ae"
            ],
            [
             0.3,
             "#f1b6da"
            ],
            [
             0.4,
             "#fde0ef"
            ],
            [
             0.5,
             "#f7f7f7"
            ],
            [
             0.6,
             "#e6f5d0"
            ],
            [
             0.7,
             "#b8e186"
            ],
            [
             0.8,
             "#7fbc41"
            ],
            [
             0.9,
             "#4d9221"
            ],
            [
             1,
             "#276419"
            ]
           ],
           "sequential": [
            [
             0,
             "#0d0887"
            ],
            [
             0.1111111111111111,
             "#46039f"
            ],
            [
             0.2222222222222222,
             "#7201a8"
            ],
            [
             0.3333333333333333,
             "#9c179e"
            ],
            [
             0.4444444444444444,
             "#bd3786"
            ],
            [
             0.5555555555555556,
             "#d8576b"
            ],
            [
             0.6666666666666666,
             "#ed7953"
            ],
            [
             0.7777777777777778,
             "#fb9f3a"
            ],
            [
             0.8888888888888888,
             "#fdca26"
            ],
            [
             1,
             "#f0f921"
            ]
           ],
           "sequentialminus": [
            [
             0,
             "#0d0887"
            ],
            [
             0.1111111111111111,
             "#46039f"
            ],
            [
             0.2222222222222222,
             "#7201a8"
            ],
            [
             0.3333333333333333,
             "#9c179e"
            ],
            [
             0.4444444444444444,
             "#bd3786"
            ],
            [
             0.5555555555555556,
             "#d8576b"
            ],
            [
             0.6666666666666666,
             "#ed7953"
            ],
            [
             0.7777777777777778,
             "#fb9f3a"
            ],
            [
             0.8888888888888888,
             "#fdca26"
            ],
            [
             1,
             "#f0f921"
            ]
           ]
          },
          "colorway": [
           "#636efa",
           "#EF553B",
           "#00cc96",
           "#ab63fa",
           "#FFA15A",
           "#19d3f3",
           "#FF6692",
           "#B6E880",
           "#FF97FF",
           "#FECB52"
          ],
          "font": {
           "color": "#2a3f5f"
          },
          "geo": {
           "bgcolor": "white",
           "lakecolor": "white",
           "landcolor": "#E5ECF6",
           "showlakes": true,
           "showland": true,
           "subunitcolor": "white"
          },
          "hoverlabel": {
           "align": "left"
          },
          "hovermode": "closest",
          "mapbox": {
           "style": "light"
          },
          "paper_bgcolor": "white",
          "plot_bgcolor": "#E5ECF6",
          "polar": {
           "angularaxis": {
            "gridcolor": "white",
            "linecolor": "white",
            "ticks": ""
           },
           "bgcolor": "#E5ECF6",
           "radialaxis": {
            "gridcolor": "white",
            "linecolor": "white",
            "ticks": ""
           }
          },
          "scene": {
           "xaxis": {
            "backgroundcolor": "#E5ECF6",
            "gridcolor": "white",
            "gridwidth": 2,
            "linecolor": "white",
            "showbackground": true,
            "ticks": "",
            "zerolinecolor": "white"
           },
           "yaxis": {
            "backgroundcolor": "#E5ECF6",
            "gridcolor": "white",
            "gridwidth": 2,
            "linecolor": "white",
            "showbackground": true,
            "ticks": "",
            "zerolinecolor": "white"
           },
           "zaxis": {
            "backgroundcolor": "#E5ECF6",
            "gridcolor": "white",
            "gridwidth": 2,
            "linecolor": "white",
            "showbackground": true,
            "ticks": "",
            "zerolinecolor": "white"
           }
          },
          "shapedefaults": {
           "line": {
            "color": "#2a3f5f"
           }
          },
          "ternary": {
           "aaxis": {
            "gridcolor": "white",
            "linecolor": "white",
            "ticks": ""
           },
           "baxis": {
            "gridcolor": "white",
            "linecolor": "white",
            "ticks": ""
           },
           "bgcolor": "#E5ECF6",
           "caxis": {
            "gridcolor": "white",
            "linecolor": "white",
            "ticks": ""
           }
          },
          "title": {
           "x": 0.05
          },
          "xaxis": {
           "automargin": true,
           "gridcolor": "white",
           "linecolor": "white",
           "ticks": "",
           "title": {
            "standoff": 15
           },
           "zerolinecolor": "white",
           "zerolinewidth": 2
          },
          "yaxis": {
           "automargin": true,
           "gridcolor": "white",
           "linecolor": "white",
           "ticks": "",
           "title": {
            "standoff": 15
           },
           "zerolinecolor": "white",
           "zerolinewidth": 2
          }
         }
        },
        "title": {
         "text": "The Reading average scores for all countries from 2000 to 2018"
        },
        "xaxis": {
         "title": {
          "text": "Year"
         }
        },
        "yaxis": {
         "title": {
          "text": "Average Scores"
         }
        }
       }
      }
     },
     "metadata": {},
     "output_type": "display_data"
    }
   ],
   "source": [
    "con = readings_avg[\"Countries\"].unique().tolist()\n",
    "\n",
    "fig = go.Figure()\n",
    "for i in con:\n",
    "    fig.add_trace(go.Scatter(x=readings_avg2.loc[readings_avg2['Countries'] == i]['Year'].tolist(), y=readings_avg2.loc[readings_avg2['Countries'] == i]['avg'].tolist(),\n",
    "                    mode='lines+markers',\n",
    "                    name=f'{i}'))\n",
    "    \n",
    "fig.update_layout(title='The Reading average scores for all countries from 2000 to 2018',\n",
    "                   xaxis_title='Year',\n",
    "                   yaxis_title='Average Scores')    \n",
    "\n",
    "fig.show()\n",
    "\n",
    "fig.write_html(\"all_country_reading_trend.html\")"
   ]
  },
  {
   "cell_type": "code",
   "execution_count": 42,
   "metadata": {},
   "outputs": [
    {
     "data": {
      "application/vnd.plotly.v1+json": {
       "config": {
        "plotlyServerURL": "https://plot.ly"
       },
       "data": [
        {
         "mode": "lines+markers",
         "name": "Australia",
         "type": "scatter",
         "x": [
          "2000",
          "2003",
          "2006",
          "2009",
          "2012",
          "2015",
          "2018"
         ],
         "y": [
          null,
          524.266004324964,
          519.907748551867,
          514.340462493315,
          504.150766269474,
          493.896231275835,
          491.360025247324
         ]
        },
        {
         "mode": "lines+markers",
         "name": "Austria",
         "type": "scatter",
         "x": [
          "2000",
          "2003",
          "2006",
          "2009",
          "2012",
          "2015",
          "2018"
         ],
         "y": [
          null,
          505.610983619778,
          505.483598477487,
          495.908655251925,
          505.540743040188,
          496.742273947571,
          498.942313770185
         ]
        },
        {
         "mode": "lines+markers",
         "name": "Belgium",
         "type": "scatter",
         "x": [
          "2000",
          "2003",
          "2006",
          "2009",
          "2012",
          "2015",
          "2018"
         ],
         "y": [
          null,
          529.286414629863,
          520.348972896002,
          515.272276921134,
          514.52924489034,
          506.984362377966,
          508.070306302623
         ]
        },
        {
         "mode": "lines+markers",
         "name": "Canada",
         "type": "scatter",
         "x": [
          "2000",
          "2003",
          "2006",
          "2009",
          "2012",
          "2015",
          "2018"
         ],
         "y": [
          null,
          532.486736197024,
          527.00717882472,
          526.80515277157,
          518.070399654099,
          515.647427968622,
          512.016942926845
         ]
        },
        {
         "mode": "lines+markers",
         "name": "Chile",
         "type": "scatter",
         "x": [
          "2000",
          "2003",
          "2006",
          "2009",
          "2012",
          "2015",
          "2018"
         ],
         "y": [
          null,
          null,
          411.350338565367,
          421.060473175213,
          422.632355512398,
          422.671357892647,
          417.406556308579
         ]
        },
        {
         "mode": "lines+markers",
         "name": "Colombia",
         "type": "scatter",
         "x": [
          "2000",
          "2003",
          "2006",
          "2009",
          "2012",
          "2015",
          "2018"
         ],
         "y": [
          null,
          null,
          369.978513519926,
          380.848214879185,
          376.48860104617,
          389.643827849568,
          390.932273204875
         ]
        },
        {
         "mode": "lines+markers",
         "name": "Czech Republic",
         "type": "scatter",
         "x": [
          "2000",
          "2003",
          "2006",
          "2009",
          "2012",
          "2015",
          "2018"
         ],
         "y": [
          null,
          516.455000745028,
          509.859358944553,
          492.814094080371,
          498.957882463199,
          492.325438023637,
          499.467650822959
         ]
        },
        {
         "mode": "lines+markers",
         "name": "Denmark",
         "type": "scatter",
         "x": [
          "2000",
          "2003",
          "2006",
          "2009",
          "2012",
          "2015",
          "2018"
         ],
         "y": [
          null,
          514.287675108569,
          513.025950193346,
          503.278147362278,
          500.026756674282,
          511.087631834791,
          509.398374584275
         ]
        },
        {
         "mode": "lines+markers",
         "name": "Estonia",
         "type": "scatter",
         "x": [
          "2000",
          "2003",
          "2006",
          "2009",
          "2012",
          "2015",
          "2018"
         ],
         "y": [
          null,
          null,
          514.575461702332,
          512.104197393106,
          520.545521584124,
          519.52913230814,
          523.414580186709
         ]
        },
        {
         "mode": "lines+markers",
         "name": "Finland",
         "type": "scatter",
         "x": [
          "2000",
          "2003",
          "2006",
          "2009",
          "2012",
          "2015",
          "2018"
         ],
         "y": [
          null,
          544.289187006198,
          548.358395122749,
          540.504348172301,
          518.750335277442,
          511.076852960152,
          507.301361844418
         ]
        },
        {
         "mode": "lines+markers",
         "name": "France",
         "type": "scatter",
         "x": [
          "2000",
          "2003",
          "2006",
          "2009",
          "2012",
          "2015",
          "2018"
         ],
         "y": [
          null,
          510.799473485927,
          495.538332864436,
          496.782310316207,
          494.984674325778,
          492.92040179419,
          495.407579391347
         ]
        },
        {
         "mode": "lines+markers",
         "name": "Germany",
         "type": "scatter",
         "x": [
          "2000",
          "2003",
          "2006",
          "2009",
          "2012",
          "2015",
          "2018"
         ],
         "y": [
          null,
          502.985532699418,
          503.790858306251,
          512.777642537515,
          513.52505569194,
          505.971282413447,
          500.043780511653
         ]
        },
        {
         "mode": "lines+markers",
         "name": "Greece",
         "type": "scatter",
         "x": [
          "2000",
          "2003",
          "2006",
          "2009",
          "2012",
          "2015",
          "2018"
         ],
         "y": [
          null,
          444.911862704937,
          459.201986715969,
          466.096372661163,
          452.973426995912,
          453.629850695741,
          451.370343807911
         ]
        },
        {
         "mode": "lines+markers",
         "name": "Hungary",
         "type": "scatter",
         "x": [
          "2000",
          "2003",
          "2006",
          "2009",
          "2012",
          "2015",
          "2018"
         ],
         "y": [
          null,
          490.012392234689,
          490.937383003134,
          490.170027503728,
          477.044454869619,
          476.830880844202,
          481.082636358975
         ]
        },
        {
         "mode": "lines+markers",
         "name": "Iceland",
         "type": "scatter",
         "x": [
          "2000",
          "2003",
          "2006",
          "2009",
          "2012",
          "2015",
          "2018"
         ],
         "y": [
          null,
          515.108650286554,
          505.544828285265,
          506.669163687622,
          492.795697508307,
          488.033184375679,
          495.18737622182
         ]
        },
        {
         "mode": "lines+markers",
         "name": "Ireland",
         "type": "scatter",
         "x": [
          "2000",
          "2003",
          "2006",
          "2009",
          "2012",
          "2015",
          "2018"
         ],
         "y": [
          null,
          502.837319707831,
          501.471771117311,
          487.136375135939,
          501.497460190702,
          503.721997416289,
          499.632893967787
         ]
        },
        {
         "mode": "lines+markers",
         "name": "Israel",
         "type": "scatter",
         "x": [
          "2000",
          "2003",
          "2006",
          "2009",
          "2012",
          "2015",
          "2018"
         ],
         "y": [
          null,
          null,
          441.858727752461,
          446.863763939656,
          466.48143036732,
          469.66945406512,
          463.034548798405
         ]
        },
        {
         "mode": "lines+markers",
         "name": "Italy",
         "type": "scatter",
         "x": [
          "2000",
          "2003",
          "2006",
          "2009",
          "2012",
          "2015",
          "2018"
         ],
         "y": [
          null,
          465.66421007198,
          461.688720801908,
          482.908480395348,
          485.321181214056,
          489.728730841121,
          486.589857259292
         ]
        },
        {
         "mode": "lines+markers",
         "name": "Japan",
         "type": "scatter",
         "x": [
          "2000",
          "2003",
          "2006",
          "2009",
          "2012",
          "2015",
          "2018"
         ],
         "y": [
          null,
          534.136501636472,
          523.10251518708,
          528.993092875153,
          536.406918585376,
          532.439872216395,
          526.97325016916
         ]
        },
        {
         "mode": "lines+markers",
         "name": "Korea",
         "type": "scatter",
         "x": [
          "2000",
          "2003",
          "2006",
          "2009",
          "2012",
          "2015",
          "2018"
         ],
         "y": [
          null,
          542.227369643416,
          547.458478815152,
          546.228534209753,
          553.766658749828,
          524.106216349152,
          525.933002039616
         ]
        },
        {
         "mode": "lines+markers",
         "name": "Latvia",
         "type": "scatter",
         "x": [
          "2000",
          "2003",
          "2006",
          "2009",
          "2012",
          "2015",
          "2018"
         ],
         "y": [
          null,
          483.374948830849,
          486.166083464506,
          481.953822121265,
          490.571021834409,
          482.305071700274,
          496.126330622544
         ]
        },
        {
         "mode": "lines+markers",
         "name": "Lithuania",
         "type": "scatter",
         "x": [
          "2000",
          "2003",
          "2006",
          "2009",
          "2012",
          "2015",
          "2018"
         ],
         "y": [
          null,
          null,
          486.421334787376,
          476.602303064381,
          478.823277473646,
          478.383381816247,
          481.191188395501
         ]
        },
        {
         "mode": "lines+markers",
         "name": "Luxembourg",
         "type": "scatter",
         "x": [
          "2000",
          "2003",
          "2006",
          "2009",
          "2012",
          "2015",
          "2018"
         ],
         "y": [
          null,
          493.208556588694,
          490.001840360493,
          489.067263289906,
          489.845097687263,
          485.770628161505,
          483.421485007866
         ]
        },
        {
         "mode": "lines+markers",
         "name": "Mexico",
         "type": "scatter",
         "x": [
          "2000",
          "2003",
          "2006",
          "2009",
          "2012",
          "2015",
          "2018"
         ],
         "y": [
          null,
          385.218339344223,
          405.654639766968,
          418.509094568344,
          413.281466598847,
          408.023477641997,
          408.801473375315
         ]
        },
        {
         "mode": "lines+markers",
         "name": "Netherlands",
         "type": "scatter",
         "x": [
          "2000",
          "2003",
          "2006",
          "2009",
          "2012",
          "2015",
          "2018"
         ],
         "y": [
          null,
          537.82327629883,
          530.654046403508,
          525.83568837596,
          522.971758176618,
          512.252789849464,
          519.230982393017
         ]
        },
        {
         "mode": "lines+markers",
         "name": "New Zealand",
         "type": "scatter",
         "x": [
          "2000",
          "2003",
          "2006",
          "2009",
          "2012",
          "2015",
          "2018"
         ],
         "y": [
          null,
          523.486584874737,
          521.988848532371,
          519.300872255267,
          499.749902881932,
          495.22325640525,
          494.48967597553
         ]
        },
        {
         "mode": "lines+markers",
         "name": "Norway",
         "type": "scatter",
         "x": [
          "2000",
          "2003",
          "2006",
          "2009",
          "2012",
          "2015",
          "2018"
         ],
         "y": [
          null,
          495.185390278491,
          489.846353153488,
          497.955692982933,
          489.373070368064,
          501.729814944197,
          500.963788462762
         ]
        },
        {
         "mode": "lines+markers",
         "name": "Poland",
         "type": "scatter",
         "x": [
          "2000",
          "2003",
          "2006",
          "2009",
          "2012",
          "2015",
          "2018"
         ],
         "y": [
          null,
          490.238776169126,
          495.428496857271,
          494.802918331843,
          517.501096738681,
          504.469251373938,
          515.647874653798
         ]
        },
        {
         "mode": "lines+markers",
         "name": "Portugal",
         "type": "scatter",
         "x": [
          "2000",
          "2003",
          "2006",
          "2009",
          "2012",
          "2015",
          "2018"
         ],
         "y": [
          null,
          466.016694548823,
          466.160985698929,
          486.888305911757,
          487.063181119208,
          491.626967860438,
          492.487406151968
         ]
        },
        {
         "mode": "lines+markers",
         "name": "Slovak Republic",
         "type": "scatter",
         "x": [
          "2000",
          "2003",
          "2006",
          "2009",
          "2012",
          "2015",
          "2018"
         ],
         "y": [
          null,
          498.183456013749,
          492.106237906583,
          496.683420001406,
          481.644743898642,
          475.230105289991,
          486.164854221208
         ]
        },
        {
         "mode": "lines+markers",
         "name": "Slovenia",
         "type": "scatter",
         "x": [
          "2000",
          "2003",
          "2006",
          "2009",
          "2012",
          "2015",
          "2018"
         ],
         "y": [
          null,
          null,
          504.455963817407,
          501.472389333819,
          501.127422505933,
          509.919632114553,
          508.8975440691
         ]
        },
        {
         "mode": "lines+markers",
         "name": "Spain",
         "type": "scatter",
         "x": [
          "2000",
          "2003",
          "2006",
          "2009",
          "2012",
          "2015",
          "2018"
         ],
         "y": [
          null,
          485.108056486922,
          479.957506997495,
          483.493140177442,
          484.319297830375,
          485.843217330057,
          481.392612584418
         ]
        },
        {
         "mode": "lines+markers",
         "name": "Sweden",
         "type": "scatter",
         "x": [
          "2000",
          "2003",
          "2006",
          "2009",
          "2012",
          "2015",
          "2018"
         ],
         "y": [
          null,
          509.046449064095,
          502.356398206747,
          494.238175178004,
          478.260635852324,
          493.91812212913,
          502.387702154542
         ]
        },
        {
         "mode": "lines+markers",
         "name": "Switzerland",
         "type": "scatter",
         "x": [
          "2000",
          "2003",
          "2006",
          "2009",
          "2012",
          "2015",
          "2018"
         ],
         "y": [
          null,
          526.55314814434,
          529.656147274817,
          533.960644751785,
          530.931003856151,
          521.2505751832,
          515.314713109516
         ]
        },
        {
         "mode": "lines+markers",
         "name": "Turkey",
         "type": "scatter",
         "x": [
          "2000",
          "2003",
          "2006",
          "2009",
          "2012",
          "2015",
          "2018"
         ],
         "y": [
          null,
          423.41941009499,
          423.941190323101,
          445.451340058823,
          447.984415052099,
          420.453979471543,
          453.507777434992
         ]
        },
        {
         "mode": "lines+markers",
         "name": "United Kingdom",
         "type": "scatter",
         "x": [
          "2000",
          "2003",
          "2006",
          "2009",
          "2012",
          "2015",
          "2018"
         ],
         "y": [
          null,
          508.258081598303,
          495.444158476338,
          492.414078264908,
          493.934230967956,
          492.478530672512,
          501.769899185046
         ]
        },
        {
         "mode": "lines+markers",
         "name": "United States",
         "type": "scatter",
         "x": [
          "2000",
          "2003",
          "2006",
          "2009",
          "2012",
          "2015",
          "2018"
         ],
         "y": [
          null,
          482.882789475851,
          474.35215765384,
          487.396520506318,
          481.366786310301,
          469.628491817614,
          478.244717372643
         ]
        },
        {
         "mode": "lines+markers",
         "name": "Albania",
         "type": "scatter",
         "x": [
          "2000",
          "2003",
          "2006",
          "2009",
          "2012",
          "2015",
          "2018"
         ],
         "y": [
          null,
          null,
          null,
          377.461056419574,
          394.329333184424,
          null,
          437.221991267959
         ]
        },
        {
         "mode": "lines+markers",
         "name": "Albania (2015)",
         "type": "scatter",
         "x": [
          "2000",
          "2003",
          "2006",
          "2009",
          "2012",
          "2015",
          "2018"
         ],
         "y": [
          null,
          null,
          null,
          null,
          null,
          413.157021070361,
          null
         ]
        },
        {
         "mode": "lines+markers",
         "name": "Algeria",
         "type": "scatter",
         "x": [
          "2000",
          "2003",
          "2006",
          "2009",
          "2012",
          "2015",
          "2018"
         ],
         "y": [
          null,
          null,
          null,
          null,
          null,
          359.606217049405,
          null
         ]
        },
        {
         "mode": "lines+markers",
         "name": "Argentina",
         "type": "scatter",
         "x": [
          "2000",
          "2003",
          "2006",
          "2009",
          "2012",
          "2015",
          "2018"
         ],
         "y": [
          null,
          null,
          381.253911148702,
          388.068128331989,
          388.431709736779,
          null,
          379.453816903301
         ]
        },
        {
         "mode": "lines+markers",
         "name": "Argentina (2015)",
         "type": "scatter",
         "x": [
          "2000",
          "2003",
          "2006",
          "2009",
          "2012",
          "2015",
          "2018"
         ],
         "y": [
          null,
          null,
          null,
          null,
          null,
          409.033327758346,
          null
         ]
        },
        {
         "mode": "lines+markers",
         "name": "Baku (Azerbaijan)",
         "type": "scatter",
         "x": [
          "2000",
          "2003",
          "2006",
          "2009",
          "2012",
          "2015",
          "2018"
         ],
         "y": [
          null,
          null,
          null,
          null,
          null,
          null,
          419.643112834151
         ]
        },
        {
         "mode": "lines+markers",
         "name": "Belarus",
         "type": "scatter",
         "x": [
          "2000",
          "2003",
          "2006",
          "2009",
          "2012",
          "2015",
          "2018"
         ],
         "y": [
          null,
          null,
          null,
          null,
          null,
          null,
          471.865144515788
         ]
        },
        {
         "mode": "lines+markers",
         "name": "Bosnia and Herzegovina",
         "type": "scatter",
         "x": [
          "2000",
          "2003",
          "2006",
          "2009",
          "2012",
          "2015",
          "2018"
         ],
         "y": [
          null,
          null,
          null,
          null,
          null,
          null,
          406.384407904905
         ]
        },
        {
         "mode": "lines+markers",
         "name": "Brazil",
         "type": "scatter",
         "x": [
          "2000",
          "2003",
          "2006",
          "2009",
          "2012",
          "2015",
          "2018"
         ],
         "y": [
          null,
          356.015791087644,
          369.515046477085,
          385.814111796073,
          388.508963269403,
          377.069523421222,
          383.569124060271
         ]
        },
        {
         "mode": "lines+markers",
         "name": "Brunei Darussalam",
         "type": "scatter",
         "x": [
          "2000",
          "2003",
          "2006",
          "2009",
          "2012",
          "2015",
          "2018"
         ],
         "y": [
          null,
          null,
          null,
          null,
          null,
          null,
          430.11296217016
         ]
        },
        {
         "mode": "lines+markers",
         "name": "B-S-J-G (China)",
         "type": "scatter",
         "x": [
          "2000",
          "2003",
          "2006",
          "2009",
          "2012",
          "2015",
          "2018"
         ],
         "y": [
          null,
          null,
          null,
          null,
          null,
          531.296133018898,
          null
         ]
        },
        {
         "mode": "lines+markers",
         "name": "B-S-J-Z (China)",
         "type": "scatter",
         "x": [
          "2000",
          "2003",
          "2006",
          "2009",
          "2012",
          "2015",
          "2018"
         ],
         "y": [
          null,
          null,
          null,
          null,
          null,
          null,
          591.393597518059
         ]
        },
        {
         "mode": "lines+markers",
         "name": "Bulgaria",
         "type": "scatter",
         "x": [
          "2000",
          "2003",
          "2006",
          "2009",
          "2012",
          "2015",
          "2018"
         ],
         "y": [
          null,
          null,
          413.449171394559,
          428.06614290384,
          438.738259668812,
          441.189919352615,
          436.040571074175
         ]
        },
        {
         "mode": "lines+markers",
         "name": "Chinese Taipei",
         "type": "scatter",
         "x": [
          "2000",
          "2003",
          "2006",
          "2009",
          "2012",
          "2015",
          "2018"
         ],
         "y": [
          null,
          null,
          549.357265489055,
          543.182422746029,
          559.824796020719,
          542.321466737274,
          531.14353664218
         ]
        },
        {
         "mode": "lines+markers",
         "name": "Costa Rica",
         "type": "scatter",
         "x": [
          "2000",
          "2003",
          "2006",
          "2009",
          "2012",
          "2015",
          "2018"
         ],
         "y": [
          null,
          null,
          null,
          null,
          406.99986717469,
          400.25337289934,
          402.330558536023
         ]
        },
        {
         "mode": "lines+markers",
         "name": "Croatia",
         "type": "scatter",
         "x": [
          "2000",
          "2003",
          "2006",
          "2009",
          "2012",
          "2015",
          "2018"
         ],
         "y": [
          null,
          null,
          467.24671401615,
          459.93891768794,
          471.131460624613,
          464.040099247348,
          464.204272838865
         ]
        },
        {
         "mode": "lines+markers",
         "name": "Cyprus",
         "type": "scatter",
         "x": [
          "2000",
          "2003",
          "2006",
          "2009",
          "2012",
          "2015",
          "2018"
         ],
         "y": [
          null,
          null,
          null,
          null,
          439.696382648104,
          437.128523551686,
          450.68299409244
         ]
        },
        {
         "mode": "lines+markers",
         "name": "Dominican Republic",
         "type": "scatter",
         "x": [
          "2000",
          "2003",
          "2006",
          "2009",
          "2012",
          "2015",
          "2018"
         ],
         "y": [
          null,
          null,
          null,
          null,
          null,
          327.702025194469,
          325.100546551296
         ]
        },
        {
         "mode": "lines+markers",
         "name": "Georgia",
         "type": "scatter",
         "x": [
          "2000",
          "2003",
          "2006",
          "2009",
          "2012",
          "2015",
          "2018"
         ],
         "y": [
          null,
          null,
          null,
          null,
          null,
          403.833229454303,
          397.586355308025
         ]
        },
        {
         "mode": "lines+markers",
         "name": "Hong Kong (China)",
         "type": "scatter",
         "x": [
          "2000",
          "2003",
          "2006",
          "2009",
          "2012",
          "2015",
          "2018"
         ],
         "y": [
          null,
          550.383240588331,
          547.460679574837,
          554.527506247141,
          561.241096347419,
          547.931049423792,
          551.154274244197
         ]
        },
        {
         "mode": "lines+markers",
         "name": "Indonesia",
         "type": "scatter",
         "x": [
          "2000",
          "2003",
          "2006",
          "2009",
          "2012",
          "2015",
          "2018"
         ],
         "y": [
          null,
          360.158832165328,
          391.006808080867,
          371.300931004917,
          375.114451524122,
          386.10959153229,
          378.668131296323
         ]
        },
        {
         "mode": "lines+markers",
         "name": "Jordan",
         "type": "scatter",
         "x": [
          "2000",
          "2003",
          "2006",
          "2009",
          "2012",
          "2015",
          "2018"
         ],
         "y": [
          null,
          null,
          384.036052036306,
          386.663813753871,
          385.595556370133,
          380.259010417183,
          399.76190931094
         ]
        },
        {
         "mode": "lines+markers",
         "name": "Kazakhstan",
         "type": "scatter",
         "x": [
          "2000",
          "2003",
          "2006",
          "2009",
          "2012",
          "2015",
          "2018"
         ],
         "y": [
          null,
          null,
          null,
          404.884691917085,
          431.798408525889,
          null,
          423.146133040179
         ]
        },
        {
         "mode": "lines+markers",
         "name": "Kazakhstan (2015)",
         "type": "scatter",
         "x": [
          "2000",
          "2003",
          "2006",
          "2009",
          "2012",
          "2015",
          "2018"
         ],
         "y": [
          null,
          null,
          null,
          null,
          null,
          459.815994394847,
          null
         ]
        },
        {
         "mode": "lines+markers",
         "name": "Kosovo",
         "type": "scatter",
         "x": [
          "2000",
          "2003",
          "2006",
          "2009",
          "2012",
          "2015",
          "2018"
         ],
         "y": [
          null,
          null,
          null,
          null,
          null,
          361.53398062755,
          365.884946534458
         ]
        },
        {
         "mode": "lines+markers",
         "name": "Lebanon",
         "type": "scatter",
         "x": [
          "2000",
          "2003",
          "2006",
          "2009",
          "2012",
          "2015",
          "2018"
         ],
         "y": [
          null,
          null,
          null,
          null,
          null,
          396.249652539543,
          393.450054472395
         ]
        },
        {
         "mode": "lines+markers",
         "name": "Macao (China)",
         "type": "scatter",
         "x": [
          "2000",
          "2003",
          "2006",
          "2009",
          "2012",
          "2015",
          "2018"
         ],
         "y": [
          null,
          527.270281499519,
          525.002509286714,
          525.283022896302,
          538.13449475617,
          543.807775689021,
          557.670230253825
         ]
        },
        {
         "mode": "lines+markers",
         "name": "Malaysia",
         "type": "scatter",
         "x": [
          "2000",
          "2003",
          "2006",
          "2009",
          "2012",
          "2015",
          "2018"
         ],
         "y": [
          null,
          null,
          null,
          null,
          420.512967518403,
          null,
          440.20753655557
         ]
        },
        {
         "mode": "lines+markers",
         "name": "Malaysia (2015)",
         "type": "scatter",
         "x": [
          "2000",
          "2003",
          "2006",
          "2009",
          "2012",
          "2015",
          "2018"
         ],
         "y": [
          null,
          null,
          null,
          null,
          null,
          446.109777218572,
          null
         ]
        },
        {
         "mode": "lines+markers",
         "name": "Malta",
         "type": "scatter",
         "x": [
          "2000",
          "2003",
          "2006",
          "2009",
          "2012",
          "2015",
          "2018"
         ],
         "y": [
          null,
          null,
          null,
          null,
          null,
          478.644793714906,
          471.724415054469
         ]
        },
        {
         "mode": "lines+markers",
         "name": "Moldova",
         "type": "scatter",
         "x": [
          "2000",
          "2003",
          "2006",
          "2009",
          "2012",
          "2015",
          "2018"
         ],
         "y": [
          null,
          null,
          null,
          null,
          null,
          419.663521460392,
          420.603998904327
         ]
        },
        {
         "mode": "lines+markers",
         "name": "Montenegro",
         "type": "scatter",
         "x": [
          "2000",
          "2003",
          "2006",
          "2009",
          "2012",
          "2015",
          "2018"
         ],
         "y": [
          null,
          null,
          399.307688537886,
          402.515364134253,
          409.626613200096,
          417.934124683488,
          429.611542751891
         ]
        },
        {
         "mode": "lines+markers",
         "name": "Morocco",
         "type": "scatter",
         "x": [
          "2000",
          "2003",
          "2006",
          "2009",
          "2012",
          "2015",
          "2018"
         ],
         "y": [
          null,
          null,
          null,
          null,
          null,
          null,
          367.727352585382
         ]
        },
        {
         "mode": "lines+markers",
         "name": "North Macedonia",
         "type": "scatter",
         "x": [
          "2000",
          "2003",
          "2006",
          "2009",
          "2012",
          "2015",
          "2018"
         ],
         "y": [
          null,
          null,
          null,
          null,
          null,
          371.311428690251,
          394.446829937044
         ]
        },
        {
         "mode": "lines+markers",
         "name": "Panama",
         "type": "scatter",
         "x": [
          "2000",
          "2003",
          "2006",
          "2009",
          "2012",
          "2015",
          "2018"
         ],
         "y": [
          null,
          null,
          null,
          null,
          null,
          null,
          352.846255666292
         ]
        },
        {
         "mode": "lines+markers",
         "name": "Peru",
         "type": "scatter",
         "x": [
          "2000",
          "2003",
          "2006",
          "2009",
          "2012",
          "2015",
          "2018"
         ],
         "y": [
          null,
          null,
          null,
          365.107272348555,
          368.102546897398,
          386.560588036269,
          399.837674532082
         ]
        },
        {
         "mode": "lines+markers",
         "name": "Philippines",
         "type": "scatter",
         "x": [
          "2000",
          "2003",
          "2006",
          "2009",
          "2012",
          "2015",
          "2018"
         ],
         "y": [
          null,
          null,
          null,
          null,
          null,
          null,
          352.567067742318
         ]
        },
        {
         "mode": "lines+markers",
         "name": "Qatar",
         "type": "scatter",
         "x": [
          "2000",
          "2003",
          "2006",
          "2009",
          "2012",
          "2015",
          "2018"
         ],
         "y": [
          null,
          null,
          317.955652286622,
          368.112487761863,
          376.448397830979,
          402.400635014115,
          414.228717904732
         ]
        },
        {
         "mode": "lines+markers",
         "name": "Romania",
         "type": "scatter",
         "x": [
          "2000",
          "2003",
          "2006",
          "2009",
          "2012",
          "2015",
          "2018"
         ],
         "y": [
          null,
          null,
          414.7959504538,
          427.07917579221,
          444.554242644569,
          443.954315286879,
          429.916827024108
         ]
        },
        {
         "mode": "lines+markers",
         "name": "Russia",
         "type": "scatter",
         "x": [
          "2000",
          "2003",
          "2006",
          "2009",
          "2012",
          "2015",
          "2018"
         ],
         "y": [
          null,
          468.406654023418,
          475.679075148295,
          467.812209268743,
          482.169415849644,
          494.060030279362,
          487.786539122024
         ]
        },
        {
         "mode": "lines+markers",
         "name": "Saudi Arabia",
         "type": "scatter",
         "x": [
          "2000",
          "2003",
          "2006",
          "2009",
          "2012",
          "2015",
          "2018"
         ],
         "y": [
          null,
          null,
          null,
          null,
          null,
          null,
          373.238805633343
         ]
        },
        {
         "mode": "lines+markers",
         "name": "Serbia",
         "type": "scatter",
         "x": [
          "2000",
          "2003",
          "2006",
          "2009",
          "2012",
          "2015",
          "2018"
         ],
         "y": [
          null,
          null,
          null,
          null,
          null,
          null,
          448.283056328601
         ]
        },
        {
         "mode": "lines+markers",
         "name": "Singapore",
         "type": "scatter",
         "x": [
          "2000",
          "2003",
          "2006",
          "2009",
          "2012",
          "2015",
          "2018"
         ],
         "y": [
          null,
          null,
          null,
          562.018741039035,
          573.468314561447,
          564.189678152976,
          569.007779891067
         ]
        },
        {
         "mode": "lines+markers",
         "name": "Thailand",
         "type": "scatter",
         "x": [
          "2000",
          "2003",
          "2006",
          "2009",
          "2012",
          "2015",
          "2018"
         ],
         "y": [
          null,
          416.977960429349,
          417.072614011731,
          418.583935015112,
          426.737491174573,
          415.463799897801,
          418.555501483126
         ]
        },
        {
         "mode": "lines+markers",
         "name": "Trinidad and Tobago",
         "type": "scatter",
         "x": [
          "2000",
          "2003",
          "2006",
          "2009",
          "2012",
          "2015",
          "2018"
         ],
         "y": [
          null,
          null,
          null,
          414.044966353499,
          null,
          417.243395883193,
          null
         ]
        },
        {
         "mode": "lines+markers",
         "name": "Tunisia",
         "type": "scatter",
         "x": [
          "2000",
          "2003",
          "2006",
          "2009",
          "2012",
          "2015",
          "2018"
         ],
         "y": [
          null,
          358.73322220757,
          365.479374822148,
          371.483502869281,
          387.824629540816,
          366.817985469443,
          null
         ]
        },
        {
         "mode": "lines+markers",
         "name": "Ukraine",
         "type": "scatter",
         "x": [
          "2000",
          "2003",
          "2006",
          "2009",
          "2012",
          "2015",
          "2018"
         ],
         "y": [
          null,
          null,
          null,
          null,
          null,
          null,
          453.117498815689
         ]
        },
        {
         "mode": "lines+markers",
         "name": "United Arab Emirates",
         "type": "scatter",
         "x": [
          "2000",
          "2003",
          "2006",
          "2009",
          "2012",
          "2015",
          "2018"
         ],
         "y": [
          null,
          null,
          null,
          null,
          434.007164664006,
          427.482739051995,
          434.94725191298
         ]
        },
        {
         "mode": "lines+markers",
         "name": "Uruguay",
         "type": "scatter",
         "x": [
          "2000",
          "2003",
          "2006",
          "2009",
          "2012",
          "2015",
          "2018"
         ],
         "y": [
          null,
          422.199879534705,
          426.799040792705,
          426.723772720805,
          409.291567890237,
          417.99188294929,
          417.661617254228
         ]
        },
        {
         "mode": "lines+markers",
         "name": "Viet Nam",
         "type": "scatter",
         "x": [
          "2000",
          "2003",
          "2006",
          "2009",
          "2012",
          "2015",
          "2018"
         ],
         "y": [
          null,
          null,
          null,
          null,
          511.338207374629,
          494.518311405921,
          null
         ]
        }
       ],
       "layout": {
        "template": {
         "data": {
          "bar": [
           {
            "error_x": {
             "color": "#2a3f5f"
            },
            "error_y": {
             "color": "#2a3f5f"
            },
            "marker": {
             "line": {
              "color": "#E5ECF6",
              "width": 0.5
             },
             "pattern": {
              "fillmode": "overlay",
              "size": 10,
              "solidity": 0.2
             }
            },
            "type": "bar"
           }
          ],
          "barpolar": [
           {
            "marker": {
             "line": {
              "color": "#E5ECF6",
              "width": 0.5
             },
             "pattern": {
              "fillmode": "overlay",
              "size": 10,
              "solidity": 0.2
             }
            },
            "type": "barpolar"
           }
          ],
          "carpet": [
           {
            "aaxis": {
             "endlinecolor": "#2a3f5f",
             "gridcolor": "white",
             "linecolor": "white",
             "minorgridcolor": "white",
             "startlinecolor": "#2a3f5f"
            },
            "baxis": {
             "endlinecolor": "#2a3f5f",
             "gridcolor": "white",
             "linecolor": "white",
             "minorgridcolor": "white",
             "startlinecolor": "#2a3f5f"
            },
            "type": "carpet"
           }
          ],
          "choropleth": [
           {
            "colorbar": {
             "outlinewidth": 0,
             "ticks": ""
            },
            "type": "choropleth"
           }
          ],
          "contour": [
           {
            "colorbar": {
             "outlinewidth": 0,
             "ticks": ""
            },
            "colorscale": [
             [
              0,
              "#0d0887"
             ],
             [
              0.1111111111111111,
              "#46039f"
             ],
             [
              0.2222222222222222,
              "#7201a8"
             ],
             [
              0.3333333333333333,
              "#9c179e"
             ],
             [
              0.4444444444444444,
              "#bd3786"
             ],
             [
              0.5555555555555556,
              "#d8576b"
             ],
             [
              0.6666666666666666,
              "#ed7953"
             ],
             [
              0.7777777777777778,
              "#fb9f3a"
             ],
             [
              0.8888888888888888,
              "#fdca26"
             ],
             [
              1,
              "#f0f921"
             ]
            ],
            "type": "contour"
           }
          ],
          "contourcarpet": [
           {
            "colorbar": {
             "outlinewidth": 0,
             "ticks": ""
            },
            "type": "contourcarpet"
           }
          ],
          "heatmap": [
           {
            "colorbar": {
             "outlinewidth": 0,
             "ticks": ""
            },
            "colorscale": [
             [
              0,
              "#0d0887"
             ],
             [
              0.1111111111111111,
              "#46039f"
             ],
             [
              0.2222222222222222,
              "#7201a8"
             ],
             [
              0.3333333333333333,
              "#9c179e"
             ],
             [
              0.4444444444444444,
              "#bd3786"
             ],
             [
              0.5555555555555556,
              "#d8576b"
             ],
             [
              0.6666666666666666,
              "#ed7953"
             ],
             [
              0.7777777777777778,
              "#fb9f3a"
             ],
             [
              0.8888888888888888,
              "#fdca26"
             ],
             [
              1,
              "#f0f921"
             ]
            ],
            "type": "heatmap"
           }
          ],
          "heatmapgl": [
           {
            "colorbar": {
             "outlinewidth": 0,
             "ticks": ""
            },
            "colorscale": [
             [
              0,
              "#0d0887"
             ],
             [
              0.1111111111111111,
              "#46039f"
             ],
             [
              0.2222222222222222,
              "#7201a8"
             ],
             [
              0.3333333333333333,
              "#9c179e"
             ],
             [
              0.4444444444444444,
              "#bd3786"
             ],
             [
              0.5555555555555556,
              "#d8576b"
             ],
             [
              0.6666666666666666,
              "#ed7953"
             ],
             [
              0.7777777777777778,
              "#fb9f3a"
             ],
             [
              0.8888888888888888,
              "#fdca26"
             ],
             [
              1,
              "#f0f921"
             ]
            ],
            "type": "heatmapgl"
           }
          ],
          "histogram": [
           {
            "marker": {
             "pattern": {
              "fillmode": "overlay",
              "size": 10,
              "solidity": 0.2
             }
            },
            "type": "histogram"
           }
          ],
          "histogram2d": [
           {
            "colorbar": {
             "outlinewidth": 0,
             "ticks": ""
            },
            "colorscale": [
             [
              0,
              "#0d0887"
             ],
             [
              0.1111111111111111,
              "#46039f"
             ],
             [
              0.2222222222222222,
              "#7201a8"
             ],
             [
              0.3333333333333333,
              "#9c179e"
             ],
             [
              0.4444444444444444,
              "#bd3786"
             ],
             [
              0.5555555555555556,
              "#d8576b"
             ],
             [
              0.6666666666666666,
              "#ed7953"
             ],
             [
              0.7777777777777778,
              "#fb9f3a"
             ],
             [
              0.8888888888888888,
              "#fdca26"
             ],
             [
              1,
              "#f0f921"
             ]
            ],
            "type": "histogram2d"
           }
          ],
          "histogram2dcontour": [
           {
            "colorbar": {
             "outlinewidth": 0,
             "ticks": ""
            },
            "colorscale": [
             [
              0,
              "#0d0887"
             ],
             [
              0.1111111111111111,
              "#46039f"
             ],
             [
              0.2222222222222222,
              "#7201a8"
             ],
             [
              0.3333333333333333,
              "#9c179e"
             ],
             [
              0.4444444444444444,
              "#bd3786"
             ],
             [
              0.5555555555555556,
              "#d8576b"
             ],
             [
              0.6666666666666666,
              "#ed7953"
             ],
             [
              0.7777777777777778,
              "#fb9f3a"
             ],
             [
              0.8888888888888888,
              "#fdca26"
             ],
             [
              1,
              "#f0f921"
             ]
            ],
            "type": "histogram2dcontour"
           }
          ],
          "mesh3d": [
           {
            "colorbar": {
             "outlinewidth": 0,
             "ticks": ""
            },
            "type": "mesh3d"
           }
          ],
          "parcoords": [
           {
            "line": {
             "colorbar": {
              "outlinewidth": 0,
              "ticks": ""
             }
            },
            "type": "parcoords"
           }
          ],
          "pie": [
           {
            "automargin": true,
            "type": "pie"
           }
          ],
          "scatter": [
           {
            "fillpattern": {
             "fillmode": "overlay",
             "size": 10,
             "solidity": 0.2
            },
            "type": "scatter"
           }
          ],
          "scatter3d": [
           {
            "line": {
             "colorbar": {
              "outlinewidth": 0,
              "ticks": ""
             }
            },
            "marker": {
             "colorbar": {
              "outlinewidth": 0,
              "ticks": ""
             }
            },
            "type": "scatter3d"
           }
          ],
          "scattercarpet": [
           {
            "marker": {
             "colorbar": {
              "outlinewidth": 0,
              "ticks": ""
             }
            },
            "type": "scattercarpet"
           }
          ],
          "scattergeo": [
           {
            "marker": {
             "colorbar": {
              "outlinewidth": 0,
              "ticks": ""
             }
            },
            "type": "scattergeo"
           }
          ],
          "scattergl": [
           {
            "marker": {
             "colorbar": {
              "outlinewidth": 0,
              "ticks": ""
             }
            },
            "type": "scattergl"
           }
          ],
          "scattermapbox": [
           {
            "marker": {
             "colorbar": {
              "outlinewidth": 0,
              "ticks": ""
             }
            },
            "type": "scattermapbox"
           }
          ],
          "scatterpolar": [
           {
            "marker": {
             "colorbar": {
              "outlinewidth": 0,
              "ticks": ""
             }
            },
            "type": "scatterpolar"
           }
          ],
          "scatterpolargl": [
           {
            "marker": {
             "colorbar": {
              "outlinewidth": 0,
              "ticks": ""
             }
            },
            "type": "scatterpolargl"
           }
          ],
          "scatterternary": [
           {
            "marker": {
             "colorbar": {
              "outlinewidth": 0,
              "ticks": ""
             }
            },
            "type": "scatterternary"
           }
          ],
          "surface": [
           {
            "colorbar": {
             "outlinewidth": 0,
             "ticks": ""
            },
            "colorscale": [
             [
              0,
              "#0d0887"
             ],
             [
              0.1111111111111111,
              "#46039f"
             ],
             [
              0.2222222222222222,
              "#7201a8"
             ],
             [
              0.3333333333333333,
              "#9c179e"
             ],
             [
              0.4444444444444444,
              "#bd3786"
             ],
             [
              0.5555555555555556,
              "#d8576b"
             ],
             [
              0.6666666666666666,
              "#ed7953"
             ],
             [
              0.7777777777777778,
              "#fb9f3a"
             ],
             [
              0.8888888888888888,
              "#fdca26"
             ],
             [
              1,
              "#f0f921"
             ]
            ],
            "type": "surface"
           }
          ],
          "table": [
           {
            "cells": {
             "fill": {
              "color": "#EBF0F8"
             },
             "line": {
              "color": "white"
             }
            },
            "header": {
             "fill": {
              "color": "#C8D4E3"
             },
             "line": {
              "color": "white"
             }
            },
            "type": "table"
           }
          ]
         },
         "layout": {
          "annotationdefaults": {
           "arrowcolor": "#2a3f5f",
           "arrowhead": 0,
           "arrowwidth": 1
          },
          "autotypenumbers": "strict",
          "coloraxis": {
           "colorbar": {
            "outlinewidth": 0,
            "ticks": ""
           }
          },
          "colorscale": {
           "diverging": [
            [
             0,
             "#8e0152"
            ],
            [
             0.1,
             "#c51b7d"
            ],
            [
             0.2,
             "#de77ae"
            ],
            [
             0.3,
             "#f1b6da"
            ],
            [
             0.4,
             "#fde0ef"
            ],
            [
             0.5,
             "#f7f7f7"
            ],
            [
             0.6,
             "#e6f5d0"
            ],
            [
             0.7,
             "#b8e186"
            ],
            [
             0.8,
             "#7fbc41"
            ],
            [
             0.9,
             "#4d9221"
            ],
            [
             1,
             "#276419"
            ]
           ],
           "sequential": [
            [
             0,
             "#0d0887"
            ],
            [
             0.1111111111111111,
             "#46039f"
            ],
            [
             0.2222222222222222,
             "#7201a8"
            ],
            [
             0.3333333333333333,
             "#9c179e"
            ],
            [
             0.4444444444444444,
             "#bd3786"
            ],
            [
             0.5555555555555556,
             "#d8576b"
            ],
            [
             0.6666666666666666,
             "#ed7953"
            ],
            [
             0.7777777777777778,
             "#fb9f3a"
            ],
            [
             0.8888888888888888,
             "#fdca26"
            ],
            [
             1,
             "#f0f921"
            ]
           ],
           "sequentialminus": [
            [
             0,
             "#0d0887"
            ],
            [
             0.1111111111111111,
             "#46039f"
            ],
            [
             0.2222222222222222,
             "#7201a8"
            ],
            [
             0.3333333333333333,
             "#9c179e"
            ],
            [
             0.4444444444444444,
             "#bd3786"
            ],
            [
             0.5555555555555556,
             "#d8576b"
            ],
            [
             0.6666666666666666,
             "#ed7953"
            ],
            [
             0.7777777777777778,
             "#fb9f3a"
            ],
            [
             0.8888888888888888,
             "#fdca26"
            ],
            [
             1,
             "#f0f921"
            ]
           ]
          },
          "colorway": [
           "#636efa",
           "#EF553B",
           "#00cc96",
           "#ab63fa",
           "#FFA15A",
           "#19d3f3",
           "#FF6692",
           "#B6E880",
           "#FF97FF",
           "#FECB52"
          ],
          "font": {
           "color": "#2a3f5f"
          },
          "geo": {
           "bgcolor": "white",
           "lakecolor": "white",
           "landcolor": "#E5ECF6",
           "showlakes": true,
           "showland": true,
           "subunitcolor": "white"
          },
          "hoverlabel": {
           "align": "left"
          },
          "hovermode": "closest",
          "mapbox": {
           "style": "light"
          },
          "paper_bgcolor": "white",
          "plot_bgcolor": "#E5ECF6",
          "polar": {
           "angularaxis": {
            "gridcolor": "white",
            "linecolor": "white",
            "ticks": ""
           },
           "bgcolor": "#E5ECF6",
           "radialaxis": {
            "gridcolor": "white",
            "linecolor": "white",
            "ticks": ""
           }
          },
          "scene": {
           "xaxis": {
            "backgroundcolor": "#E5ECF6",
            "gridcolor": "white",
            "gridwidth": 2,
            "linecolor": "white",
            "showbackground": true,
            "ticks": "",
            "zerolinecolor": "white"
           },
           "yaxis": {
            "backgroundcolor": "#E5ECF6",
            "gridcolor": "white",
            "gridwidth": 2,
            "linecolor": "white",
            "showbackground": true,
            "ticks": "",
            "zerolinecolor": "white"
           },
           "zaxis": {
            "backgroundcolor": "#E5ECF6",
            "gridcolor": "white",
            "gridwidth": 2,
            "linecolor": "white",
            "showbackground": true,
            "ticks": "",
            "zerolinecolor": "white"
           }
          },
          "shapedefaults": {
           "line": {
            "color": "#2a3f5f"
           }
          },
          "ternary": {
           "aaxis": {
            "gridcolor": "white",
            "linecolor": "white",
            "ticks": ""
           },
           "baxis": {
            "gridcolor": "white",
            "linecolor": "white",
            "ticks": ""
           },
           "bgcolor": "#E5ECF6",
           "caxis": {
            "gridcolor": "white",
            "linecolor": "white",
            "ticks": ""
           }
          },
          "title": {
           "x": 0.05
          },
          "xaxis": {
           "automargin": true,
           "gridcolor": "white",
           "linecolor": "white",
           "ticks": "",
           "title": {
            "standoff": 15
           },
           "zerolinecolor": "white",
           "zerolinewidth": 2
          },
          "yaxis": {
           "automargin": true,
           "gridcolor": "white",
           "linecolor": "white",
           "ticks": "",
           "title": {
            "standoff": 15
           },
           "zerolinecolor": "white",
           "zerolinewidth": 2
          }
         }
        },
        "title": {
         "text": "The Math average scores for all countries from 2000 to 2018"
        },
        "xaxis": {
         "title": {
          "text": "Year"
         }
        },
        "yaxis": {
         "title": {
          "text": "Average Scores"
         }
        }
       }
      }
     },
     "metadata": {},
     "output_type": "display_data"
    }
   ],
   "source": [
    "con = math_avg[\"Countries\"].unique().tolist()\n",
    "\n",
    "fig = go.Figure()\n",
    "for i in con:\n",
    "    fig.add_trace(go.Scatter(x=math_avg2.loc[math_avg2['Countries'] == i]['Year'].tolist(), y=math_avg2.loc[readings_avg2['Countries'] == i]['avg'].tolist(),\n",
    "                    mode='lines+markers',\n",
    "                    name=f'{i}'))\n",
    "    \n",
    "fig.update_layout(title='The Math average scores for all countries from 2000 to 2018',\n",
    "                   xaxis_title='Year',\n",
    "                   yaxis_title='Average Scores')    \n",
    "\n",
    "fig.show()\n",
    "\n",
    "fig.write_html(\"all_country_math_trend.html\")"
   ]
  },
  {
   "cell_type": "code",
   "execution_count": 43,
   "metadata": {},
   "outputs": [
    {
     "data": {
      "application/vnd.plotly.v1+json": {
       "config": {
        "plotlyServerURL": "https://plot.ly"
       },
       "data": [
        {
         "mode": "lines+markers",
         "name": "Australia",
         "type": "scatter",
         "x": [
          "2000",
          "2003",
          "2006",
          "2009",
          "2012",
          "2015",
          "2018"
         ],
         "y": [
          null,
          null,
          526.879589046866,
          527.270533936847,
          521.494747179522,
          509.993854209251,
          502.964562811366
         ]
        },
        {
         "mode": "lines+markers",
         "name": "Austria",
         "type": "scatter",
         "x": [
          "2000",
          "2003",
          "2006",
          "2009",
          "2012",
          "2015",
          "2018"
         ],
         "y": [
          null,
          null,
          510.837154518225,
          494.327673154439,
          505.781247861711,
          495.037486379706,
          489.780439226835
         ]
        },
        {
         "mode": "lines+markers",
         "name": "Belgium",
         "type": "scatter",
         "x": [
          "2000",
          "2003",
          "2006",
          "2009",
          "2012",
          "2015",
          "2018"
         ],
         "y": [
          null,
          null,
          510.363484146053,
          506.575526139358,
          504.867654138898,
          501.999713681166,
          498.773127028532
         ]
        },
        {
         "mode": "lines+markers",
         "name": "Canada",
         "type": "scatter",
         "x": [
          "2000",
          "2003",
          "2006",
          "2009",
          "2012",
          "2015",
          "2018"
         ],
         "y": [
          null,
          null,
          534.469777403568,
          528.704952999302,
          525.441293246964,
          527.704684182833,
          517.99766085055
         ]
        },
        {
         "mode": "lines+markers",
         "name": "Chile",
         "type": "scatter",
         "x": [
          "2000",
          "2003",
          "2006",
          "2009",
          "2012",
          "2015",
          "2018"
         ],
         "y": [
          null,
          null,
          438.177445076439,
          447.467360176419,
          444.933920734436,
          446.956066364174,
          443.582563380227
         ]
        },
        {
         "mode": "lines+markers",
         "name": "Colombia",
         "type": "scatter",
         "x": [
          "2000",
          "2003",
          "2006",
          "2009",
          "2012",
          "2015",
          "2018"
         ],
         "y": [
          null,
          null,
          388.038271758836,
          401.750115046621,
          398.678631633915,
          415.728760576794,
          413.322992570509
         ]
        },
        {
         "mode": "lines+markers",
         "name": "Czech Republic",
         "type": "scatter",
         "x": [
          "2000",
          "2003",
          "2006",
          "2009",
          "2012",
          "2015",
          "2018"
         ],
         "y": [
          null,
          null,
          512.860745917908,
          500.497065941677,
          508.299080849578,
          492.830048328694,
          496.791310632009
         ]
        },
        {
         "mode": "lines+markers",
         "name": "Denmark",
         "type": "scatter",
         "x": [
          "2000",
          "2003",
          "2006",
          "2009",
          "2012",
          "2015",
          "2018"
         ],
         "y": [
          null,
          null,
          495.894310154394,
          499.336974687075,
          498.474202800223,
          501.936886977413,
          492.637033384381
         ]
        },
        {
         "mode": "lines+markers",
         "name": "Estonia",
         "type": "scatter",
         "x": [
          "2000",
          "2003",
          "2006",
          "2009",
          "2012",
          "2015",
          "2018"
         ],
         "y": [
          null,
          null,
          531.391804310835,
          527.83175605918,
          541.404757538085,
          534.193742077203,
          530.108004575418
         ]
        },
        {
         "mode": "lines+markers",
         "name": "Finland",
         "type": "scatter",
         "x": [
          "2000",
          "2003",
          "2006",
          "2009",
          "2012",
          "2015",
          "2018"
         ],
         "y": [
          null,
          null,
          563.322834538274,
          554.079509782423,
          545.441941092923,
          530.661158860946,
          521.884563001286
         ]
        },
        {
         "mode": "lines+markers",
         "name": "France",
         "type": "scatter",
         "x": [
          "2000",
          "2003",
          "2006",
          "2009",
          "2012",
          "2015",
          "2018"
         ],
         "y": [
          null,
          null,
          495.219838991881,
          498.226893935058,
          498.970895241648,
          494.977600372005,
          492.977073947315
         ]
        },
        {
         "mode": "lines+markers",
         "name": "Germany",
         "type": "scatter",
         "x": [
          "2000",
          "2003",
          "2006",
          "2009",
          "2012",
          "2015",
          "2018"
         ],
         "y": [
          null,
          null,
          515.649129875639,
          520.405349535201,
          524.120800352849,
          509.14064717478,
          502.988903303614
         ]
        },
        {
         "mode": "lines+markers",
         "name": "Greece",
         "type": "scatter",
         "x": [
          "2000",
          "2003",
          "2006",
          "2009",
          "2012",
          "2015",
          "2018"
         ],
         "y": [
          null,
          null,
          473.377963976493,
          470.115764233977,
          466.722030142801,
          454.828816594835,
          451.632741569971
         ]
        },
        {
         "mode": "lines+markers",
         "name": "Hungary",
         "type": "scatter",
         "x": [
          "2000",
          "2003",
          "2006",
          "2009",
          "2012",
          "2015",
          "2018"
         ],
         "y": [
          null,
          null,
          503.931728969483,
          502.642748252152,
          494.302352112894,
          476.747512404287,
          480.91169390704
         ]
        },
        {
         "mode": "lines+markers",
         "name": "Iceland",
         "type": "scatter",
         "x": [
          "2000",
          "2003",
          "2006",
          "2009",
          "2012",
          "2015",
          "2018"
         ],
         "y": [
          null,
          null,
          490.793774451156,
          495.598498613644,
          478.154597391297,
          473.230086197332,
          475.024106315381
         ]
        },
        {
         "mode": "lines+markers",
         "name": "Ireland",
         "type": "scatter",
         "x": [
          "2000",
          "2003",
          "2006",
          "2009",
          "2012",
          "2015",
          "2018"
         ],
         "y": [
          null,
          null,
          508.328929943436,
          507.984153789135,
          522.003960268129,
          502.575115488822,
          496.11356166765
         ]
        },
        {
         "mode": "lines+markers",
         "name": "Israel",
         "type": "scatter",
         "x": [
          "2000",
          "2003",
          "2006",
          "2009",
          "2012",
          "2015",
          "2018"
         ],
         "y": [
          null,
          null,
          453.903708086112,
          454.85096320008,
          470.072662819587,
          466.55281218923,
          462.196632784254
         ]
        },
        {
         "mode": "lines+markers",
         "name": "Italy",
         "type": "scatter",
         "x": [
          "2000",
          "2003",
          "2006",
          "2009",
          "2012",
          "2015",
          "2018"
         ],
         "y": [
          null,
          null,
          475.397220549359,
          488.83136268583,
          493.541482893961,
          480.546762410819,
          468.011727289133
         ]
        },
        {
         "mode": "lines+markers",
         "name": "Japan",
         "type": "scatter",
         "x": [
          "2000",
          "2003",
          "2006",
          "2009",
          "2012",
          "2015",
          "2018"
         ],
         "y": [
          null,
          null,
          531.388509051812,
          539.430993408373,
          546.735600624006,
          538.394751054492,
          529.135433383588
         ]
        },
        {
         "mode": "lines+markers",
         "name": "Korea",
         "type": "scatter",
         "x": [
          "2000",
          "2003",
          "2006",
          "2009",
          "2012",
          "2015",
          "2018"
         ],
         "y": [
          null,
          null,
          522.148141334817,
          537.986230069057,
          537.787622925751,
          515.809911526951,
          519.007254858207
         ]
        },
        {
         "mode": "lines+markers",
         "name": "Latvia",
         "type": "scatter",
         "x": [
          "2000",
          "2003",
          "2006",
          "2009",
          "2012",
          "2015",
          "2018"
         ],
         "y": [
          null,
          null,
          489.543778170624,
          493.878923904221,
          502.186193644918,
          490.22501836099,
          487.25058821937
         ]
        },
        {
         "mode": "lines+markers",
         "name": "Lithuania",
         "type": "scatter",
         "x": [
          "2000",
          "2003",
          "2006",
          "2009",
          "2012",
          "2015",
          "2018"
         ],
         "y": [
          null,
          null,
          487.956698255006,
          491.409790829657,
          495.700087663183,
          475.408946495768,
          482.067012707652
         ]
        },
        {
         "mode": "lines+markers",
         "name": "Luxembourg",
         "type": "scatter",
         "x": [
          "2000",
          "2003",
          "2006",
          "2009",
          "2012",
          "2015",
          "2018"
         ],
         "y": [
          null,
          null,
          486.324362966306,
          483.9284208448,
          491.21517621529,
          482.806383601509,
          476.769405915438
         ]
        },
        {
         "mode": "lines+markers",
         "name": "Mexico",
         "type": "scatter",
         "x": [
          "2000",
          "2003",
          "2006",
          "2009",
          "2012",
          "2015",
          "2018"
         ],
         "y": [
          null,
          null,
          409.651951634376,
          415.908672241096,
          414.920147876455,
          415.709882908356,
          419.20471927474
         ]
        },
        {
         "mode": "lines+markers",
         "name": "Netherlands",
         "type": "scatter",
         "x": [
          "2000",
          "2003",
          "2006",
          "2009",
          "2012",
          "2015",
          "2018"
         ],
         "y": [
          null,
          null,
          524.861506294011,
          522.218128302406,
          522.055822811447,
          508.574806071928,
          503.383819429651
         ]
        },
        {
         "mode": "lines+markers",
         "name": "New Zealand",
         "type": "scatter",
         "x": [
          "2000",
          "2003",
          "2006",
          "2009",
          "2012",
          "2015",
          "2018"
         ],
         "y": [
          null,
          null,
          530.384360761125,
          532.006901225863,
          515.636319342748,
          513.303512225244,
          508.490721438946
         ]
        },
        {
         "mode": "lines+markers",
         "name": "Norway",
         "type": "scatter",
         "x": [
          "2000",
          "2003",
          "2006",
          "2009",
          "2012",
          "2015",
          "2018"
         ],
         "y": [
          null,
          null,
          486.527957477272,
          499.875699836175,
          494.523935493638,
          498.481109086114,
          490.413149379895
         ]
        },
        {
         "mode": "lines+markers",
         "name": "Poland",
         "type": "scatter",
         "x": [
          "2000",
          "2003",
          "2006",
          "2009",
          "2012",
          "2015",
          "2018"
         ],
         "y": [
          null,
          null,
          497.806502274107,
          508.068297201966,
          525.816446818785,
          501.43533182058,
          511.035561929964
         ]
        },
        {
         "mode": "lines+markers",
         "name": "Portugal",
         "type": "scatter",
         "x": [
          "2000",
          "2003",
          "2006",
          "2009",
          "2012",
          "2015",
          "2018"
         ],
         "y": [
          null,
          null,
          474.305889157761,
          492.949967315629,
          489.274732961554,
          501.100062233805,
          491.677328499612
         ]
        },
        {
         "mode": "lines+markers",
         "name": "Slovak Republic",
         "type": "scatter",
         "x": [
          "2000",
          "2003",
          "2006",
          "2009",
          "2012",
          "2015",
          "2018"
         ],
         "y": [
          null,
          null,
          488.433398569752,
          490.26592193522,
          471.193177820336,
          460.774855826437,
          464.047578171596
         ]
        },
        {
         "mode": "lines+markers",
         "name": "Slovenia",
         "type": "scatter",
         "x": [
          "2000",
          "2003",
          "2006",
          "2009",
          "2012",
          "2015",
          "2018"
         ],
         "y": [
          null,
          null,
          518.815609802139,
          511.759473097305,
          514.142556003126,
          512.863578600409,
          507.006545899793
         ]
        },
        {
         "mode": "lines+markers",
         "name": "Spain",
         "type": "scatter",
         "x": [
          "2000",
          "2003",
          "2006",
          "2009",
          "2012",
          "2015",
          "2018"
         ],
         "y": [
          null,
          null,
          488.424522693567,
          488.254630231258,
          496.445823971494,
          492.786136115007,
          483.252042660834
         ]
        },
        {
         "mode": "lines+markers",
         "name": "Sweden",
         "type": "scatter",
         "x": [
          "2000",
          "2003",
          "2006",
          "2009",
          "2012",
          "2015",
          "2018"
         ],
         "y": [
          null,
          null,
          503.334005926549,
          495.105897711928,
          484.798966599085,
          493.42235622744,
          499.444690090783
         ]
        },
        {
         "mode": "lines+markers",
         "name": "Switzerland",
         "type": "scatter",
         "x": [
          "2000",
          "2003",
          "2006",
          "2009",
          "2012",
          "2015",
          "2018"
         ],
         "y": [
          null,
          null,
          511.523909485706,
          516.567510121675,
          515.297524406741,
          505.505815533037,
          495.276287907039
         ]
        },
        {
         "mode": "lines+markers",
         "name": "Turkey",
         "type": "scatter",
         "x": [
          "2000",
          "2003",
          "2006",
          "2009",
          "2012",
          "2015",
          "2018"
         ],
         "y": [
          null,
          null,
          423.832745220533,
          453.909718095559,
          463.412909825288,
          425.489508864937,
          468.299618007131
         ]
        },
        {
         "mode": "lines+markers",
         "name": "United Kingdom",
         "type": "scatter",
         "x": [
          "2000",
          "2003",
          "2006",
          "2009",
          "2012",
          "2015",
          "2018"
         ],
         "y": [
          null,
          null,
          514.773547941067,
          513.710239932962,
          514.12932195947,
          509.221502941919,
          504.667473644287
         ]
        },
        {
         "mode": "lines+markers",
         "name": "United States",
         "type": "scatter",
         "x": [
          "2000",
          "2003",
          "2006",
          "2009",
          "2012",
          "2015",
          "2018"
         ],
         "y": [
          null,
          null,
          488.906837319065,
          502.002264543982,
          497.409812370845,
          496.242434164887,
          502.380031938141
         ]
        },
        {
         "mode": "lines+markers",
         "name": "Albania",
         "type": "scatter",
         "x": [
          "2000",
          "2003",
          "2006",
          "2009",
          "2012",
          "2015",
          "2018"
         ],
         "y": [
          null,
          null,
          null,
          390.69574552442,
          397.373213588442,
          null,
          416.726257673674
         ]
        },
        {
         "mode": "lines+markers",
         "name": "Albania (2015)",
         "type": "scatter",
         "x": [
          "2000",
          "2003",
          "2006",
          "2009",
          "2012",
          "2015",
          "2018"
         ],
         "y": [
          null,
          null,
          null,
          null,
          null,
          427.224982731528,
          null
         ]
        },
        {
         "mode": "lines+markers",
         "name": "Algeria",
         "type": "scatter",
         "x": [
          "2000",
          "2003",
          "2006",
          "2009",
          "2012",
          "2015",
          "2018"
         ],
         "y": [
          null,
          null,
          null,
          null,
          null,
          375.745102082318,
          null
         ]
        },
        {
         "mode": "lines+markers",
         "name": "Argentina",
         "type": "scatter",
         "x": [
          "2000",
          "2003",
          "2006",
          "2009",
          "2012",
          "2015",
          "2018"
         ],
         "y": [
          null,
          null,
          391.243901925898,
          400.838520243204,
          405.632005164596,
          null,
          404.071444901331
         ]
        },
        {
         "mode": "lines+markers",
         "name": "Argentina (2015)",
         "type": "scatter",
         "x": [
          "2000",
          "2003",
          "2006",
          "2009",
          "2012",
          "2015",
          "2018"
         ],
         "y": [
          null,
          null,
          null,
          null,
          null,
          432.226248045147,
          null
         ]
        },
        {
         "mode": "lines+markers",
         "name": "Baku (Azerbaijan)",
         "type": "scatter",
         "x": [
          "2000",
          "2003",
          "2006",
          "2009",
          "2012",
          "2015",
          "2018"
         ],
         "y": [
          null,
          null,
          null,
          null,
          null,
          null,
          397.649581116172
         ]
        },
        {
         "mode": "lines+markers",
         "name": "Belarus",
         "type": "scatter",
         "x": [
          "2000",
          "2003",
          "2006",
          "2009",
          "2012",
          "2015",
          "2018"
         ],
         "y": [
          null,
          null,
          null,
          null,
          null,
          null,
          471.263680896404
         ]
        },
        {
         "mode": "lines+markers",
         "name": "Bosnia and Herzegovina",
         "type": "scatter",
         "x": [
          "2000",
          "2003",
          "2006",
          "2009",
          "2012",
          "2015",
          "2018"
         ],
         "y": [
          null,
          null,
          null,
          null,
          null,
          null,
          398.497662759779
         ]
        },
        {
         "mode": "lines+markers",
         "name": "Brazil",
         "type": "scatter",
         "x": [
          "2000",
          "2003",
          "2006",
          "2009",
          "2012",
          "2015",
          "2018"
         ],
         "y": [
          null,
          null,
          390.331570710963,
          405.403988680879,
          401.619684958651,
          400.682103068384,
          403.620941886862
         ]
        },
        {
         "mode": "lines+markers",
         "name": "Brunei Darussalam",
         "type": "scatter",
         "x": [
          "2000",
          "2003",
          "2006",
          "2009",
          "2012",
          "2015",
          "2018"
         ],
         "y": [
          null,
          null,
          null,
          null,
          null,
          null,
          430.98437659902
         ]
        },
        {
         "mode": "lines+markers",
         "name": "B-S-J-G (China)",
         "type": "scatter",
         "x": [
          "2000",
          "2003",
          "2006",
          "2009",
          "2012",
          "2015",
          "2018"
         ],
         "y": [
          null,
          null,
          null,
          null,
          null,
          517.779281114996,
          null
         ]
        },
        {
         "mode": "lines+markers",
         "name": "B-S-J-Z (China)",
         "type": "scatter",
         "x": [
          "2000",
          "2003",
          "2006",
          "2009",
          "2012",
          "2015",
          "2018"
         ],
         "y": [
          null,
          null,
          null,
          null,
          null,
          null,
          590.452640531693
         ]
        },
        {
         "mode": "lines+markers",
         "name": "Bulgaria",
         "type": "scatter",
         "x": [
          "2000",
          "2003",
          "2006",
          "2009",
          "2012",
          "2015",
          "2018"
         ],
         "y": [
          null,
          null,
          434.079770787898,
          439.294148812207,
          446.468710132905,
          445.771957916846,
          424.073582933774
         ]
        },
        {
         "mode": "lines+markers",
         "name": "Chinese Taipei",
         "type": "scatter",
         "x": [
          "2000",
          "2003",
          "2006",
          "2009",
          "2012",
          "2015",
          "2018"
         ],
         "y": [
          null,
          null,
          532.473546626481,
          520.419792379168,
          523.314905764246,
          532.347454418556,
          515.748027840003
         ]
        },
        {
         "mode": "lines+markers",
         "name": "Costa Rica",
         "type": "scatter",
         "x": [
          "2000",
          "2003",
          "2006",
          "2009",
          "2012",
          "2015",
          "2018"
         ],
         "y": [
          null,
          null,
          null,
          null,
          429.350967794937,
          419.608033064258,
          415.622462040591
         ]
        },
        {
         "mode": "lines+markers",
         "name": "Croatia",
         "type": "scatter",
         "x": [
          "2000",
          "2003",
          "2006",
          "2009",
          "2012",
          "2015",
          "2018"
         ],
         "y": [
          null,
          null,
          493.204392135972,
          486.363448475428,
          491.356583913561,
          475.391176687498,
          472.362619539633
         ]
        },
        {
         "mode": "lines+markers",
         "name": "Cyprus",
         "type": "scatter",
         "x": [
          "2000",
          "2003",
          "2006",
          "2009",
          "2012",
          "2015",
          "2018"
         ],
         "y": [
          null,
          null,
          null,
          null,
          437.676459943894,
          432.576765603434,
          439.008249677118
         ]
        },
        {
         "mode": "lines+markers",
         "name": "Dominican Republic",
         "type": "scatter",
         "x": [
          "2000",
          "2003",
          "2006",
          "2009",
          "2012",
          "2015",
          "2018"
         ],
         "y": [
          null,
          null,
          null,
          null,
          null,
          331.638827213739,
          335.629946565763
         ]
        },
        {
         "mode": "lines+markers",
         "name": "Georgia",
         "type": "scatter",
         "x": [
          "2000",
          "2003",
          "2006",
          "2009",
          "2012",
          "2015",
          "2018"
         ],
         "y": [
          null,
          null,
          null,
          null,
          null,
          411.131523912363,
          382.663606265958
         ]
        },
        {
         "mode": "lines+markers",
         "name": "Hong Kong (China)",
         "type": "scatter",
         "x": [
          "2000",
          "2003",
          "2006",
          "2009",
          "2012",
          "2015",
          "2018"
         ],
         "y": [
          null,
          null,
          542.211387715861,
          549.028706594867,
          554.937435651953,
          523.277447763458,
          516.686129558903
         ]
        },
        {
         "mode": "lines+markers",
         "name": "Indonesia",
         "type": "scatter",
         "x": [
          "2000",
          "2003",
          "2006",
          "2009",
          "2012",
          "2015",
          "2018"
         ],
         "y": [
          null,
          null,
          393.481018070464,
          382.569451697687,
          381.911484476433,
          403.09974538369,
          396.070053736032
         ]
        },
        {
         "mode": "lines+markers",
         "name": "Jordan",
         "type": "scatter",
         "x": [
          "2000",
          "2003",
          "2006",
          "2009",
          "2012",
          "2015",
          "2018"
         ],
         "y": [
          null,
          null,
          421.971824952518,
          415.387783408575,
          409.367214687925,
          408.669113259624,
          429.252073764784
         ]
        },
        {
         "mode": "lines+markers",
         "name": "Kazakhstan",
         "type": "scatter",
         "x": [
          "2000",
          "2003",
          "2006",
          "2009",
          "2012",
          "2015",
          "2018"
         ],
         "y": [
          null,
          null,
          null,
          400.376138721168,
          424.707523321618,
          null,
          397.104835180016
         ]
        },
        {
         "mode": "lines+markers",
         "name": "Kazakhstan (2015)",
         "type": "scatter",
         "x": [
          "2000",
          "2003",
          "2006",
          "2009",
          "2012",
          "2015",
          "2018"
         ],
         "y": [
          null,
          null,
          null,
          null,
          null,
          456.483575856715,
          null
         ]
        },
        {
         "mode": "lines+markers",
         "name": "Kosovo",
         "type": "scatter",
         "x": [
          "2000",
          "2003",
          "2006",
          "2009",
          "2012",
          "2015",
          "2018"
         ],
         "y": [
          null,
          null,
          null,
          null,
          null,
          378.442185110296,
          364.882407565544
         ]
        },
        {
         "mode": "lines+markers",
         "name": "Lebanon",
         "type": "scatter",
         "x": [
          "2000",
          "2003",
          "2006",
          "2009",
          "2012",
          "2015",
          "2018"
         ],
         "y": [
          null,
          null,
          null,
          null,
          null,
          386.485372317364,
          383.71699368918
         ]
        },
        {
         "mode": "lines+markers",
         "name": "Macao (China)",
         "type": "scatter",
         "x": [
          "2000",
          "2003",
          "2006",
          "2009",
          "2012",
          "2015",
          "2018"
         ],
         "y": [
          null,
          null,
          510.839722893818,
          511.069597719773,
          520.570876903927,
          528.549600196604,
          543.585733607688
         ]
        },
        {
         "mode": "lines+markers",
         "name": "Malaysia",
         "type": "scatter",
         "x": [
          "2000",
          "2003",
          "2006",
          "2009",
          "2012",
          "2015",
          "2018"
         ],
         "y": [
          null,
          null,
          null,
          null,
          419.502648551001,
          null,
          437.618073728241
         ]
        },
        {
         "mode": "lines+markers",
         "name": "Malaysia (2015)",
         "type": "scatter",
         "x": [
          "2000",
          "2003",
          "2006",
          "2009",
          "2012",
          "2015",
          "2018"
         ],
         "y": [
          null,
          null,
          null,
          null,
          null,
          442.94752089009,
          null
         ]
        },
        {
         "mode": "lines+markers",
         "name": "Malta",
         "type": "scatter",
         "x": [
          "2000",
          "2003",
          "2006",
          "2009",
          "2012",
          "2015",
          "2018"
         ],
         "y": [
          null,
          null,
          null,
          null,
          null,
          464.781964680804,
          456.590322763569
         ]
        },
        {
         "mode": "lines+markers",
         "name": "Moldova",
         "type": "scatter",
         "x": [
          "2000",
          "2003",
          "2006",
          "2009",
          "2012",
          "2015",
          "2018"
         ],
         "y": [
          null,
          null,
          null,
          null,
          null,
          427.997805693843,
          428.485266696765
         ]
        },
        {
         "mode": "lines+markers",
         "name": "Montenegro",
         "type": "scatter",
         "x": [
          "2000",
          "2003",
          "2006",
          "2009",
          "2012",
          "2015",
          "2018"
         ],
         "y": [
          null,
          null,
          411.788428367035,
          401.277470042536,
          410.097602389958,
          411.313648204872,
          415.172231371678
         ]
        },
        {
         "mode": "lines+markers",
         "name": "Morocco",
         "type": "scatter",
         "x": [
          "2000",
          "2003",
          "2006",
          "2009",
          "2012",
          "2015",
          "2018"
         ],
         "y": [
          null,
          null,
          null,
          null,
          null,
          null,
          376.596889189139
         ]
        },
        {
         "mode": "lines+markers",
         "name": "North Macedonia",
         "type": "scatter",
         "x": [
          "2000",
          "2003",
          "2006",
          "2009",
          "2012",
          "2015",
          "2018"
         ],
         "y": [
          null,
          null,
          null,
          null,
          null,
          383.682387562563,
          413.044673659219
         ]
        },
        {
         "mode": "lines+markers",
         "name": "Panama",
         "type": "scatter",
         "x": [
          "2000",
          "2003",
          "2006",
          "2009",
          "2012",
          "2015",
          "2018"
         ],
         "y": [
          null,
          null,
          null,
          null,
          null,
          null,
          364.623772441666
         ]
        },
        {
         "mode": "lines+markers",
         "name": "Peru",
         "type": "scatter",
         "x": [
          "2000",
          "2003",
          "2006",
          "2009",
          "2012",
          "2015",
          "2018"
         ],
         "y": [
          null,
          null,
          null,
          369.351771460774,
          373.113448089587,
          396.683648469985,
          404.215601005799
         ]
        },
        {
         "mode": "lines+markers",
         "name": "Philippines",
         "type": "scatter",
         "x": [
          "2000",
          "2003",
          "2006",
          "2009",
          "2012",
          "2015",
          "2018"
         ],
         "y": [
          null,
          null,
          null,
          null,
          null,
          null,
          356.933324187825
         ]
        },
        {
         "mode": "lines+markers",
         "name": "Qatar",
         "type": "scatter",
         "x": [
          "2000",
          "2003",
          "2006",
          "2009",
          "2012",
          "2015",
          "2018"
         ],
         "y": [
          null,
          null,
          349.313145150094,
          379.446948928397,
          383.642552433473,
          417.61112992733,
          419.127154934749
         ]
        },
        {
         "mode": "lines+markers",
         "name": "Romania",
         "type": "scatter",
         "x": [
          "2000",
          "2003",
          "2006",
          "2009",
          "2012",
          "2015",
          "2018"
         ],
         "y": [
          null,
          null,
          418.38637263597,
          428.178884938269,
          438.768057018932,
          434.88486177709,
          425.761227215861
         ]
        },
        {
         "mode": "lines+markers",
         "name": "Russia",
         "type": "scatter",
         "x": [
          "2000",
          "2003",
          "2006",
          "2009",
          "2012",
          "2015",
          "2018"
         ],
         "y": [
          null,
          null,
          479.470417318914,
          478.297529954917,
          486.295491055597,
          486.631040952501,
          477.717680043488
         ]
        },
        {
         "mode": "lines+markers",
         "name": "Saudi Arabia",
         "type": "scatter",
         "x": [
          "2000",
          "2003",
          "2006",
          "2009",
          "2012",
          "2015",
          "2018"
         ],
         "y": [
          null,
          null,
          null,
          null,
          null,
          null,
          386.246144905815
         ]
        },
        {
         "mode": "lines+markers",
         "name": "Serbia",
         "type": "scatter",
         "x": [
          "2000",
          "2003",
          "2006",
          "2009",
          "2012",
          "2015",
          "2018"
         ],
         "y": [
          null,
          null,
          null,
          null,
          null,
          null,
          439.873889636098
         ]
        },
        {
         "mode": "lines+markers",
         "name": "Singapore",
         "type": "scatter",
         "x": [
          "2000",
          "2003",
          "2006",
          "2009",
          "2012",
          "2015",
          "2018"
         ],
         "y": [
          null,
          null,
          null,
          541.695517866282,
          551.493157568047,
          555.574679598885,
          550.936900098574
         ]
        },
        {
         "mode": "lines+markers",
         "name": "Thailand",
         "type": "scatter",
         "x": [
          "2000",
          "2003",
          "2006",
          "2009",
          "2012",
          "2015",
          "2018"
         ],
         "y": [
          null,
          null,
          421.011469357545,
          425.296284905111,
          443.999935131877,
          421.337325952353,
          425.813449524845
         ]
        },
        {
         "mode": "lines+markers",
         "name": "Trinidad and Tobago",
         "type": "scatter",
         "x": [
          "2000",
          "2003",
          "2006",
          "2009",
          "2012",
          "2015",
          "2018"
         ],
         "y": [
          null,
          null,
          null,
          410.195617344221,
          null,
          424.59045455802,
          null
         ]
        },
        {
         "mode": "lines+markers",
         "name": "Tunisia",
         "type": "scatter",
         "x": [
          "2000",
          "2003",
          "2006",
          "2009",
          "2012",
          "2015",
          "2018"
         ],
         "y": [
          null,
          null,
          385.506713953447,
          400.661484077115,
          398.046450908057,
          386.403366649708,
          null
         ]
        },
        {
         "mode": "lines+markers",
         "name": "Ukraine",
         "type": "scatter",
         "x": [
          "2000",
          "2003",
          "2006",
          "2009",
          "2012",
          "2015",
          "2018"
         ],
         "y": [
          null,
          null,
          null,
          null,
          null,
          null,
          468.987742525377
         ]
        },
        {
         "mode": "lines+markers",
         "name": "United Arab Emirates",
         "type": "scatter",
         "x": [
          "2000",
          "2003",
          "2006",
          "2009",
          "2012",
          "2015",
          "2018"
         ],
         "y": [
          null,
          null,
          null,
          null,
          448.370296939891,
          436.73114798194,
          433.636802839959
         ]
        },
        {
         "mode": "lines+markers",
         "name": "Uruguay",
         "type": "scatter",
         "x": [
          "2000",
          "2003",
          "2006",
          "2009",
          "2012",
          "2015",
          "2018"
         ],
         "y": [
          null,
          null,
          428.133885042077,
          427.214249777703,
          415.842936126206,
          435.362956251627,
          425.812676583986
         ]
        },
        {
         "mode": "lines+markers",
         "name": "Viet Nam",
         "type": "scatter",
         "x": [
          "2000",
          "2003",
          "2006",
          "2009",
          "2012",
          "2015",
          "2018"
         ],
         "y": [
          null,
          null,
          null,
          null,
          528.423261950012,
          524.644519498469,
          null
         ]
        }
       ],
       "layout": {
        "template": {
         "data": {
          "bar": [
           {
            "error_x": {
             "color": "#2a3f5f"
            },
            "error_y": {
             "color": "#2a3f5f"
            },
            "marker": {
             "line": {
              "color": "#E5ECF6",
              "width": 0.5
             },
             "pattern": {
              "fillmode": "overlay",
              "size": 10,
              "solidity": 0.2
             }
            },
            "type": "bar"
           }
          ],
          "barpolar": [
           {
            "marker": {
             "line": {
              "color": "#E5ECF6",
              "width": 0.5
             },
             "pattern": {
              "fillmode": "overlay",
              "size": 10,
              "solidity": 0.2
             }
            },
            "type": "barpolar"
           }
          ],
          "carpet": [
           {
            "aaxis": {
             "endlinecolor": "#2a3f5f",
             "gridcolor": "white",
             "linecolor": "white",
             "minorgridcolor": "white",
             "startlinecolor": "#2a3f5f"
            },
            "baxis": {
             "endlinecolor": "#2a3f5f",
             "gridcolor": "white",
             "linecolor": "white",
             "minorgridcolor": "white",
             "startlinecolor": "#2a3f5f"
            },
            "type": "carpet"
           }
          ],
          "choropleth": [
           {
            "colorbar": {
             "outlinewidth": 0,
             "ticks": ""
            },
            "type": "choropleth"
           }
          ],
          "contour": [
           {
            "colorbar": {
             "outlinewidth": 0,
             "ticks": ""
            },
            "colorscale": [
             [
              0,
              "#0d0887"
             ],
             [
              0.1111111111111111,
              "#46039f"
             ],
             [
              0.2222222222222222,
              "#7201a8"
             ],
             [
              0.3333333333333333,
              "#9c179e"
             ],
             [
              0.4444444444444444,
              "#bd3786"
             ],
             [
              0.5555555555555556,
              "#d8576b"
             ],
             [
              0.6666666666666666,
              "#ed7953"
             ],
             [
              0.7777777777777778,
              "#fb9f3a"
             ],
             [
              0.8888888888888888,
              "#fdca26"
             ],
             [
              1,
              "#f0f921"
             ]
            ],
            "type": "contour"
           }
          ],
          "contourcarpet": [
           {
            "colorbar": {
             "outlinewidth": 0,
             "ticks": ""
            },
            "type": "contourcarpet"
           }
          ],
          "heatmap": [
           {
            "colorbar": {
             "outlinewidth": 0,
             "ticks": ""
            },
            "colorscale": [
             [
              0,
              "#0d0887"
             ],
             [
              0.1111111111111111,
              "#46039f"
             ],
             [
              0.2222222222222222,
              "#7201a8"
             ],
             [
              0.3333333333333333,
              "#9c179e"
             ],
             [
              0.4444444444444444,
              "#bd3786"
             ],
             [
              0.5555555555555556,
              "#d8576b"
             ],
             [
              0.6666666666666666,
              "#ed7953"
             ],
             [
              0.7777777777777778,
              "#fb9f3a"
             ],
             [
              0.8888888888888888,
              "#fdca26"
             ],
             [
              1,
              "#f0f921"
             ]
            ],
            "type": "heatmap"
           }
          ],
          "heatmapgl": [
           {
            "colorbar": {
             "outlinewidth": 0,
             "ticks": ""
            },
            "colorscale": [
             [
              0,
              "#0d0887"
             ],
             [
              0.1111111111111111,
              "#46039f"
             ],
             [
              0.2222222222222222,
              "#7201a8"
             ],
             [
              0.3333333333333333,
              "#9c179e"
             ],
             [
              0.4444444444444444,
              "#bd3786"
             ],
             [
              0.5555555555555556,
              "#d8576b"
             ],
             [
              0.6666666666666666,
              "#ed7953"
             ],
             [
              0.7777777777777778,
              "#fb9f3a"
             ],
             [
              0.8888888888888888,
              "#fdca26"
             ],
             [
              1,
              "#f0f921"
             ]
            ],
            "type": "heatmapgl"
           }
          ],
          "histogram": [
           {
            "marker": {
             "pattern": {
              "fillmode": "overlay",
              "size": 10,
              "solidity": 0.2
             }
            },
            "type": "histogram"
           }
          ],
          "histogram2d": [
           {
            "colorbar": {
             "outlinewidth": 0,
             "ticks": ""
            },
            "colorscale": [
             [
              0,
              "#0d0887"
             ],
             [
              0.1111111111111111,
              "#46039f"
             ],
             [
              0.2222222222222222,
              "#7201a8"
             ],
             [
              0.3333333333333333,
              "#9c179e"
             ],
             [
              0.4444444444444444,
              "#bd3786"
             ],
             [
              0.5555555555555556,
              "#d8576b"
             ],
             [
              0.6666666666666666,
              "#ed7953"
             ],
             [
              0.7777777777777778,
              "#fb9f3a"
             ],
             [
              0.8888888888888888,
              "#fdca26"
             ],
             [
              1,
              "#f0f921"
             ]
            ],
            "type": "histogram2d"
           }
          ],
          "histogram2dcontour": [
           {
            "colorbar": {
             "outlinewidth": 0,
             "ticks": ""
            },
            "colorscale": [
             [
              0,
              "#0d0887"
             ],
             [
              0.1111111111111111,
              "#46039f"
             ],
             [
              0.2222222222222222,
              "#7201a8"
             ],
             [
              0.3333333333333333,
              "#9c179e"
             ],
             [
              0.4444444444444444,
              "#bd3786"
             ],
             [
              0.5555555555555556,
              "#d8576b"
             ],
             [
              0.6666666666666666,
              "#ed7953"
             ],
             [
              0.7777777777777778,
              "#fb9f3a"
             ],
             [
              0.8888888888888888,
              "#fdca26"
             ],
             [
              1,
              "#f0f921"
             ]
            ],
            "type": "histogram2dcontour"
           }
          ],
          "mesh3d": [
           {
            "colorbar": {
             "outlinewidth": 0,
             "ticks": ""
            },
            "type": "mesh3d"
           }
          ],
          "parcoords": [
           {
            "line": {
             "colorbar": {
              "outlinewidth": 0,
              "ticks": ""
             }
            },
            "type": "parcoords"
           }
          ],
          "pie": [
           {
            "automargin": true,
            "type": "pie"
           }
          ],
          "scatter": [
           {
            "fillpattern": {
             "fillmode": "overlay",
             "size": 10,
             "solidity": 0.2
            },
            "type": "scatter"
           }
          ],
          "scatter3d": [
           {
            "line": {
             "colorbar": {
              "outlinewidth": 0,
              "ticks": ""
             }
            },
            "marker": {
             "colorbar": {
              "outlinewidth": 0,
              "ticks": ""
             }
            },
            "type": "scatter3d"
           }
          ],
          "scattercarpet": [
           {
            "marker": {
             "colorbar": {
              "outlinewidth": 0,
              "ticks": ""
             }
            },
            "type": "scattercarpet"
           }
          ],
          "scattergeo": [
           {
            "marker": {
             "colorbar": {
              "outlinewidth": 0,
              "ticks": ""
             }
            },
            "type": "scattergeo"
           }
          ],
          "scattergl": [
           {
            "marker": {
             "colorbar": {
              "outlinewidth": 0,
              "ticks": ""
             }
            },
            "type": "scattergl"
           }
          ],
          "scattermapbox": [
           {
            "marker": {
             "colorbar": {
              "outlinewidth": 0,
              "ticks": ""
             }
            },
            "type": "scattermapbox"
           }
          ],
          "scatterpolar": [
           {
            "marker": {
             "colorbar": {
              "outlinewidth": 0,
              "ticks": ""
             }
            },
            "type": "scatterpolar"
           }
          ],
          "scatterpolargl": [
           {
            "marker": {
             "colorbar": {
              "outlinewidth": 0,
              "ticks": ""
             }
            },
            "type": "scatterpolargl"
           }
          ],
          "scatterternary": [
           {
            "marker": {
             "colorbar": {
              "outlinewidth": 0,
              "ticks": ""
             }
            },
            "type": "scatterternary"
           }
          ],
          "surface": [
           {
            "colorbar": {
             "outlinewidth": 0,
             "ticks": ""
            },
            "colorscale": [
             [
              0,
              "#0d0887"
             ],
             [
              0.1111111111111111,
              "#46039f"
             ],
             [
              0.2222222222222222,
              "#7201a8"
             ],
             [
              0.3333333333333333,
              "#9c179e"
             ],
             [
              0.4444444444444444,
              "#bd3786"
             ],
             [
              0.5555555555555556,
              "#d8576b"
             ],
             [
              0.6666666666666666,
              "#ed7953"
             ],
             [
              0.7777777777777778,
              "#fb9f3a"
             ],
             [
              0.8888888888888888,
              "#fdca26"
             ],
             [
              1,
              "#f0f921"
             ]
            ],
            "type": "surface"
           }
          ],
          "table": [
           {
            "cells": {
             "fill": {
              "color": "#EBF0F8"
             },
             "line": {
              "color": "white"
             }
            },
            "header": {
             "fill": {
              "color": "#C8D4E3"
             },
             "line": {
              "color": "white"
             }
            },
            "type": "table"
           }
          ]
         },
         "layout": {
          "annotationdefaults": {
           "arrowcolor": "#2a3f5f",
           "arrowhead": 0,
           "arrowwidth": 1
          },
          "autotypenumbers": "strict",
          "coloraxis": {
           "colorbar": {
            "outlinewidth": 0,
            "ticks": ""
           }
          },
          "colorscale": {
           "diverging": [
            [
             0,
             "#8e0152"
            ],
            [
             0.1,
             "#c51b7d"
            ],
            [
             0.2,
             "#de77ae"
            ],
            [
             0.3,
             "#f1b6da"
            ],
            [
             0.4,
             "#fde0ef"
            ],
            [
             0.5,
             "#f7f7f7"
            ],
            [
             0.6,
             "#e6f5d0"
            ],
            [
             0.7,
             "#b8e186"
            ],
            [
             0.8,
             "#7fbc41"
            ],
            [
             0.9,
             "#4d9221"
            ],
            [
             1,
             "#276419"
            ]
           ],
           "sequential": [
            [
             0,
             "#0d0887"
            ],
            [
             0.1111111111111111,
             "#46039f"
            ],
            [
             0.2222222222222222,
             "#7201a8"
            ],
            [
             0.3333333333333333,
             "#9c179e"
            ],
            [
             0.4444444444444444,
             "#bd3786"
            ],
            [
             0.5555555555555556,
             "#d8576b"
            ],
            [
             0.6666666666666666,
             "#ed7953"
            ],
            [
             0.7777777777777778,
             "#fb9f3a"
            ],
            [
             0.8888888888888888,
             "#fdca26"
            ],
            [
             1,
             "#f0f921"
            ]
           ],
           "sequentialminus": [
            [
             0,
             "#0d0887"
            ],
            [
             0.1111111111111111,
             "#46039f"
            ],
            [
             0.2222222222222222,
             "#7201a8"
            ],
            [
             0.3333333333333333,
             "#9c179e"
            ],
            [
             0.4444444444444444,
             "#bd3786"
            ],
            [
             0.5555555555555556,
             "#d8576b"
            ],
            [
             0.6666666666666666,
             "#ed7953"
            ],
            [
             0.7777777777777778,
             "#fb9f3a"
            ],
            [
             0.8888888888888888,
             "#fdca26"
            ],
            [
             1,
             "#f0f921"
            ]
           ]
          },
          "colorway": [
           "#636efa",
           "#EF553B",
           "#00cc96",
           "#ab63fa",
           "#FFA15A",
           "#19d3f3",
           "#FF6692",
           "#B6E880",
           "#FF97FF",
           "#FECB52"
          ],
          "font": {
           "color": "#2a3f5f"
          },
          "geo": {
           "bgcolor": "white",
           "lakecolor": "white",
           "landcolor": "#E5ECF6",
           "showlakes": true,
           "showland": true,
           "subunitcolor": "white"
          },
          "hoverlabel": {
           "align": "left"
          },
          "hovermode": "closest",
          "mapbox": {
           "style": "light"
          },
          "paper_bgcolor": "white",
          "plot_bgcolor": "#E5ECF6",
          "polar": {
           "angularaxis": {
            "gridcolor": "white",
            "linecolor": "white",
            "ticks": ""
           },
           "bgcolor": "#E5ECF6",
           "radialaxis": {
            "gridcolor": "white",
            "linecolor": "white",
            "ticks": ""
           }
          },
          "scene": {
           "xaxis": {
            "backgroundcolor": "#E5ECF6",
            "gridcolor": "white",
            "gridwidth": 2,
            "linecolor": "white",
            "showbackground": true,
            "ticks": "",
            "zerolinecolor": "white"
           },
           "yaxis": {
            "backgroundcolor": "#E5ECF6",
            "gridcolor": "white",
            "gridwidth": 2,
            "linecolor": "white",
            "showbackground": true,
            "ticks": "",
            "zerolinecolor": "white"
           },
           "zaxis": {
            "backgroundcolor": "#E5ECF6",
            "gridcolor": "white",
            "gridwidth": 2,
            "linecolor": "white",
            "showbackground": true,
            "ticks": "",
            "zerolinecolor": "white"
           }
          },
          "shapedefaults": {
           "line": {
            "color": "#2a3f5f"
           }
          },
          "ternary": {
           "aaxis": {
            "gridcolor": "white",
            "linecolor": "white",
            "ticks": ""
           },
           "baxis": {
            "gridcolor": "white",
            "linecolor": "white",
            "ticks": ""
           },
           "bgcolor": "#E5ECF6",
           "caxis": {
            "gridcolor": "white",
            "linecolor": "white",
            "ticks": ""
           }
          },
          "title": {
           "x": 0.05
          },
          "xaxis": {
           "automargin": true,
           "gridcolor": "white",
           "linecolor": "white",
           "ticks": "",
           "title": {
            "standoff": 15
           },
           "zerolinecolor": "white",
           "zerolinewidth": 2
          },
          "yaxis": {
           "automargin": true,
           "gridcolor": "white",
           "linecolor": "white",
           "ticks": "",
           "title": {
            "standoff": 15
           },
           "zerolinecolor": "white",
           "zerolinewidth": 2
          }
         }
        },
        "title": {
         "text": "The Science average scores for all countries from 2000 to 2018"
        },
        "xaxis": {
         "title": {
          "text": "Year"
         }
        },
        "yaxis": {
         "title": {
          "text": "Average Scores"
         }
        }
       }
      }
     },
     "metadata": {},
     "output_type": "display_data"
    }
   ],
   "source": [
    "con = sci_avg[\"Countries\"].unique().tolist()\n",
    "\n",
    "fig = go.Figure()\n",
    "for i in con:\n",
    "    fig.add_trace(go.Scatter(x=sci_avg2.loc[sci_avg2['Countries'] == i]['Year'].tolist(), y=sci_avg2.loc[sci_avg2['Countries'] == i]['avg'].tolist(),\n",
    "                    mode='lines+markers',\n",
    "                    name=f'{i}'))\n",
    "    \n",
    "fig.update_layout(title='The Science average scores for all countries from 2000 to 2018',\n",
    "                   xaxis_title='Year',\n",
    "                   yaxis_title='Average Scores')    \n",
    "\n",
    "fig.show()\n",
    "fig.write_html(\"all_country_science_trend.html\")"
   ]
  },
  {
   "cell_type": "code",
   "execution_count": 44,
   "metadata": {},
   "outputs": [
    {
     "name": "stderr",
     "output_type": "stream",
     "text": [
      "/var/folders/hv/08dyyt957zq3n_n6kttfl_180000gn/T/ipykernel_28954/105335035.py:8: FutureWarning:\n",
      "\n",
      "The default value of numeric_only in DataFrameGroupBy.mean is deprecated. In a future version, numeric_only will default to False. Either specify numeric_only or select only columns which should be valid for the function.\n",
      "\n",
      "/var/folders/hv/08dyyt957zq3n_n6kttfl_180000gn/T/ipykernel_28954/105335035.py:9: FutureWarning:\n",
      "\n",
      "The default value of numeric_only in DataFrameGroupBy.mean is deprecated. In a future version, numeric_only will default to False. Either specify numeric_only or select only columns which should be valid for the function.\n",
      "\n",
      "/var/folders/hv/08dyyt957zq3n_n6kttfl_180000gn/T/ipykernel_28954/105335035.py:10: FutureWarning:\n",
      "\n",
      "The default value of numeric_only in DataFrameGroupBy.mean is deprecated. In a future version, numeric_only will default to False. Either specify numeric_only or select only columns which should be valid for the function.\n",
      "\n",
      "/var/folders/hv/08dyyt957zq3n_n6kttfl_180000gn/T/ipykernel_28954/105335035.py:8: FutureWarning:\n",
      "\n",
      "The default value of numeric_only in DataFrameGroupBy.mean is deprecated. In a future version, numeric_only will default to False. Either specify numeric_only or select only columns which should be valid for the function.\n",
      "\n",
      "/var/folders/hv/08dyyt957zq3n_n6kttfl_180000gn/T/ipykernel_28954/105335035.py:9: FutureWarning:\n",
      "\n",
      "The default value of numeric_only in DataFrameGroupBy.mean is deprecated. In a future version, numeric_only will default to False. Either specify numeric_only or select only columns which should be valid for the function.\n",
      "\n",
      "/var/folders/hv/08dyyt957zq3n_n6kttfl_180000gn/T/ipykernel_28954/105335035.py:10: FutureWarning:\n",
      "\n",
      "The default value of numeric_only in DataFrameGroupBy.mean is deprecated. In a future version, numeric_only will default to False. Either specify numeric_only or select only columns which should be valid for the function.\n",
      "\n",
      "/var/folders/hv/08dyyt957zq3n_n6kttfl_180000gn/T/ipykernel_28954/105335035.py:8: FutureWarning:\n",
      "\n",
      "The default value of numeric_only in DataFrameGroupBy.mean is deprecated. In a future version, numeric_only will default to False. Either specify numeric_only or select only columns which should be valid for the function.\n",
      "\n",
      "/var/folders/hv/08dyyt957zq3n_n6kttfl_180000gn/T/ipykernel_28954/105335035.py:9: FutureWarning:\n",
      "\n",
      "The default value of numeric_only in DataFrameGroupBy.mean is deprecated. In a future version, numeric_only will default to False. Either specify numeric_only or select only columns which should be valid for the function.\n",
      "\n",
      "/var/folders/hv/08dyyt957zq3n_n6kttfl_180000gn/T/ipykernel_28954/105335035.py:10: FutureWarning:\n",
      "\n",
      "The default value of numeric_only in DataFrameGroupBy.mean is deprecated. In a future version, numeric_only will default to False. Either specify numeric_only or select only columns which should be valid for the function.\n",
      "\n",
      "/var/folders/hv/08dyyt957zq3n_n6kttfl_180000gn/T/ipykernel_28954/105335035.py:8: FutureWarning:\n",
      "\n",
      "The default value of numeric_only in DataFrameGroupBy.mean is deprecated. In a future version, numeric_only will default to False. Either specify numeric_only or select only columns which should be valid for the function.\n",
      "\n",
      "/var/folders/hv/08dyyt957zq3n_n6kttfl_180000gn/T/ipykernel_28954/105335035.py:9: FutureWarning:\n",
      "\n",
      "The default value of numeric_only in DataFrameGroupBy.mean is deprecated. In a future version, numeric_only will default to False. Either specify numeric_only or select only columns which should be valid for the function.\n",
      "\n",
      "/var/folders/hv/08dyyt957zq3n_n6kttfl_180000gn/T/ipykernel_28954/105335035.py:10: FutureWarning:\n",
      "\n",
      "The default value of numeric_only in DataFrameGroupBy.mean is deprecated. In a future version, numeric_only will default to False. Either specify numeric_only or select only columns which should be valid for the function.\n",
      "\n",
      "/var/folders/hv/08dyyt957zq3n_n6kttfl_180000gn/T/ipykernel_28954/105335035.py:8: FutureWarning:\n",
      "\n",
      "The default value of numeric_only in DataFrameGroupBy.mean is deprecated. In a future version, numeric_only will default to False. Either specify numeric_only or select only columns which should be valid for the function.\n",
      "\n",
      "/var/folders/hv/08dyyt957zq3n_n6kttfl_180000gn/T/ipykernel_28954/105335035.py:9: FutureWarning:\n",
      "\n",
      "The default value of numeric_only in DataFrameGroupBy.mean is deprecated. In a future version, numeric_only will default to False. Either specify numeric_only or select only columns which should be valid for the function.\n",
      "\n",
      "/var/folders/hv/08dyyt957zq3n_n6kttfl_180000gn/T/ipykernel_28954/105335035.py:10: FutureWarning:\n",
      "\n",
      "The default value of numeric_only in DataFrameGroupBy.mean is deprecated. In a future version, numeric_only will default to False. Either specify numeric_only or select only columns which should be valid for the function.\n",
      "\n",
      "/var/folders/hv/08dyyt957zq3n_n6kttfl_180000gn/T/ipykernel_28954/105335035.py:8: FutureWarning:\n",
      "\n",
      "The default value of numeric_only in DataFrameGroupBy.mean is deprecated. In a future version, numeric_only will default to False. Either specify numeric_only or select only columns which should be valid for the function.\n",
      "\n",
      "/var/folders/hv/08dyyt957zq3n_n6kttfl_180000gn/T/ipykernel_28954/105335035.py:9: FutureWarning:\n",
      "\n",
      "The default value of numeric_only in DataFrameGroupBy.mean is deprecated. In a future version, numeric_only will default to False. Either specify numeric_only or select only columns which should be valid for the function.\n",
      "\n",
      "/var/folders/hv/08dyyt957zq3n_n6kttfl_180000gn/T/ipykernel_28954/105335035.py:10: FutureWarning:\n",
      "\n",
      "The default value of numeric_only in DataFrameGroupBy.mean is deprecated. In a future version, numeric_only will default to False. Either specify numeric_only or select only columns which should be valid for the function.\n",
      "\n",
      "/var/folders/hv/08dyyt957zq3n_n6kttfl_180000gn/T/ipykernel_28954/105335035.py:8: FutureWarning:\n",
      "\n",
      "The default value of numeric_only in DataFrameGroupBy.mean is deprecated. In a future version, numeric_only will default to False. Either specify numeric_only or select only columns which should be valid for the function.\n",
      "\n",
      "/var/folders/hv/08dyyt957zq3n_n6kttfl_180000gn/T/ipykernel_28954/105335035.py:9: FutureWarning:\n",
      "\n",
      "The default value of numeric_only in DataFrameGroupBy.mean is deprecated. In a future version, numeric_only will default to False. Either specify numeric_only or select only columns which should be valid for the function.\n",
      "\n",
      "/var/folders/hv/08dyyt957zq3n_n6kttfl_180000gn/T/ipykernel_28954/105335035.py:10: FutureWarning:\n",
      "\n",
      "The default value of numeric_only in DataFrameGroupBy.mean is deprecated. In a future version, numeric_only will default to False. Either specify numeric_only or select only columns which should be valid for the function.\n",
      "\n"
     ]
    },
    {
     "data": {
      "application/vnd.plotly.v1+json": {
       "config": {
        "plotlyServerURL": "https://plot.ly"
       },
       "data": [
        {
         "mode": "lines+markers",
         "name": "Reading",
         "type": "scatter",
         "x": [
          "2000",
          "2003",
          "2006",
          "2009",
          "2012",
          "2015",
          "2018"
         ],
         "y": [
          471.08059267390075,
          481.5156576284011,
          465.12158610039165,
          468.62961156343755,
          472.1513380041201,
          459.9169807523065,
          453.1018768374598
         ]
        },
        {
         "mode": "lines+markers",
         "name": "Math",
         "type": "scatter",
         "x": [
          "2000",
          "2003",
          "2006",
          "2009",
          "2012",
          "2015",
          "2018"
         ],
         "y": [
          null,
          485.73115726796243,
          471.51885024313236,
          469.69413151628896,
          470.43329537195285,
          460.720119747035,
          458.67167460722715
         ]
        },
        {
         "mode": "lines+markers",
         "name": "Science",
         "type": "scatter",
         "x": [
          "2000",
          "2003",
          "2006",
          "2009",
          "2012",
          "2015",
          "2018"
         ],
         "y": [
          null,
          null,
          477.5703681829341,
          475.49651663052157,
          476.7301829370856,
          465.15981406287494,
          457.91506529852194
         ]
        }
       ],
       "layout": {
        "template": {
         "data": {
          "bar": [
           {
            "error_x": {
             "color": "#2a3f5f"
            },
            "error_y": {
             "color": "#2a3f5f"
            },
            "marker": {
             "line": {
              "color": "#E5ECF6",
              "width": 0.5
             },
             "pattern": {
              "fillmode": "overlay",
              "size": 10,
              "solidity": 0.2
             }
            },
            "type": "bar"
           }
          ],
          "barpolar": [
           {
            "marker": {
             "line": {
              "color": "#E5ECF6",
              "width": 0.5
             },
             "pattern": {
              "fillmode": "overlay",
              "size": 10,
              "solidity": 0.2
             }
            },
            "type": "barpolar"
           }
          ],
          "carpet": [
           {
            "aaxis": {
             "endlinecolor": "#2a3f5f",
             "gridcolor": "white",
             "linecolor": "white",
             "minorgridcolor": "white",
             "startlinecolor": "#2a3f5f"
            },
            "baxis": {
             "endlinecolor": "#2a3f5f",
             "gridcolor": "white",
             "linecolor": "white",
             "minorgridcolor": "white",
             "startlinecolor": "#2a3f5f"
            },
            "type": "carpet"
           }
          ],
          "choropleth": [
           {
            "colorbar": {
             "outlinewidth": 0,
             "ticks": ""
            },
            "type": "choropleth"
           }
          ],
          "contour": [
           {
            "colorbar": {
             "outlinewidth": 0,
             "ticks": ""
            },
            "colorscale": [
             [
              0,
              "#0d0887"
             ],
             [
              0.1111111111111111,
              "#46039f"
             ],
             [
              0.2222222222222222,
              "#7201a8"
             ],
             [
              0.3333333333333333,
              "#9c179e"
             ],
             [
              0.4444444444444444,
              "#bd3786"
             ],
             [
              0.5555555555555556,
              "#d8576b"
             ],
             [
              0.6666666666666666,
              "#ed7953"
             ],
             [
              0.7777777777777778,
              "#fb9f3a"
             ],
             [
              0.8888888888888888,
              "#fdca26"
             ],
             [
              1,
              "#f0f921"
             ]
            ],
            "type": "contour"
           }
          ],
          "contourcarpet": [
           {
            "colorbar": {
             "outlinewidth": 0,
             "ticks": ""
            },
            "type": "contourcarpet"
           }
          ],
          "heatmap": [
           {
            "colorbar": {
             "outlinewidth": 0,
             "ticks": ""
            },
            "colorscale": [
             [
              0,
              "#0d0887"
             ],
             [
              0.1111111111111111,
              "#46039f"
             ],
             [
              0.2222222222222222,
              "#7201a8"
             ],
             [
              0.3333333333333333,
              "#9c179e"
             ],
             [
              0.4444444444444444,
              "#bd3786"
             ],
             [
              0.5555555555555556,
              "#d8576b"
             ],
             [
              0.6666666666666666,
              "#ed7953"
             ],
             [
              0.7777777777777778,
              "#fb9f3a"
             ],
             [
              0.8888888888888888,
              "#fdca26"
             ],
             [
              1,
              "#f0f921"
             ]
            ],
            "type": "heatmap"
           }
          ],
          "heatmapgl": [
           {
            "colorbar": {
             "outlinewidth": 0,
             "ticks": ""
            },
            "colorscale": [
             [
              0,
              "#0d0887"
             ],
             [
              0.1111111111111111,
              "#46039f"
             ],
             [
              0.2222222222222222,
              "#7201a8"
             ],
             [
              0.3333333333333333,
              "#9c179e"
             ],
             [
              0.4444444444444444,
              "#bd3786"
             ],
             [
              0.5555555555555556,
              "#d8576b"
             ],
             [
              0.6666666666666666,
              "#ed7953"
             ],
             [
              0.7777777777777778,
              "#fb9f3a"
             ],
             [
              0.8888888888888888,
              "#fdca26"
             ],
             [
              1,
              "#f0f921"
             ]
            ],
            "type": "heatmapgl"
           }
          ],
          "histogram": [
           {
            "marker": {
             "pattern": {
              "fillmode": "overlay",
              "size": 10,
              "solidity": 0.2
             }
            },
            "type": "histogram"
           }
          ],
          "histogram2d": [
           {
            "colorbar": {
             "outlinewidth": 0,
             "ticks": ""
            },
            "colorscale": [
             [
              0,
              "#0d0887"
             ],
             [
              0.1111111111111111,
              "#46039f"
             ],
             [
              0.2222222222222222,
              "#7201a8"
             ],
             [
              0.3333333333333333,
              "#9c179e"
             ],
             [
              0.4444444444444444,
              "#bd3786"
             ],
             [
              0.5555555555555556,
              "#d8576b"
             ],
             [
              0.6666666666666666,
              "#ed7953"
             ],
             [
              0.7777777777777778,
              "#fb9f3a"
             ],
             [
              0.8888888888888888,
              "#fdca26"
             ],
             [
              1,
              "#f0f921"
             ]
            ],
            "type": "histogram2d"
           }
          ],
          "histogram2dcontour": [
           {
            "colorbar": {
             "outlinewidth": 0,
             "ticks": ""
            },
            "colorscale": [
             [
              0,
              "#0d0887"
             ],
             [
              0.1111111111111111,
              "#46039f"
             ],
             [
              0.2222222222222222,
              "#7201a8"
             ],
             [
              0.3333333333333333,
              "#9c179e"
             ],
             [
              0.4444444444444444,
              "#bd3786"
             ],
             [
              0.5555555555555556,
              "#d8576b"
             ],
             [
              0.6666666666666666,
              "#ed7953"
             ],
             [
              0.7777777777777778,
              "#fb9f3a"
             ],
             [
              0.8888888888888888,
              "#fdca26"
             ],
             [
              1,
              "#f0f921"
             ]
            ],
            "type": "histogram2dcontour"
           }
          ],
          "mesh3d": [
           {
            "colorbar": {
             "outlinewidth": 0,
             "ticks": ""
            },
            "type": "mesh3d"
           }
          ],
          "parcoords": [
           {
            "line": {
             "colorbar": {
              "outlinewidth": 0,
              "ticks": ""
             }
            },
            "type": "parcoords"
           }
          ],
          "pie": [
           {
            "automargin": true,
            "type": "pie"
           }
          ],
          "scatter": [
           {
            "fillpattern": {
             "fillmode": "overlay",
             "size": 10,
             "solidity": 0.2
            },
            "type": "scatter"
           }
          ],
          "scatter3d": [
           {
            "line": {
             "colorbar": {
              "outlinewidth": 0,
              "ticks": ""
             }
            },
            "marker": {
             "colorbar": {
              "outlinewidth": 0,
              "ticks": ""
             }
            },
            "type": "scatter3d"
           }
          ],
          "scattercarpet": [
           {
            "marker": {
             "colorbar": {
              "outlinewidth": 0,
              "ticks": ""
             }
            },
            "type": "scattercarpet"
           }
          ],
          "scattergeo": [
           {
            "marker": {
             "colorbar": {
              "outlinewidth": 0,
              "ticks": ""
             }
            },
            "type": "scattergeo"
           }
          ],
          "scattergl": [
           {
            "marker": {
             "colorbar": {
              "outlinewidth": 0,
              "ticks": ""
             }
            },
            "type": "scattergl"
           }
          ],
          "scattermapbox": [
           {
            "marker": {
             "colorbar": {
              "outlinewidth": 0,
              "ticks": ""
             }
            },
            "type": "scattermapbox"
           }
          ],
          "scatterpolar": [
           {
            "marker": {
             "colorbar": {
              "outlinewidth": 0,
              "ticks": ""
             }
            },
            "type": "scatterpolar"
           }
          ],
          "scatterpolargl": [
           {
            "marker": {
             "colorbar": {
              "outlinewidth": 0,
              "ticks": ""
             }
            },
            "type": "scatterpolargl"
           }
          ],
          "scatterternary": [
           {
            "marker": {
             "colorbar": {
              "outlinewidth": 0,
              "ticks": ""
             }
            },
            "type": "scatterternary"
           }
          ],
          "surface": [
           {
            "colorbar": {
             "outlinewidth": 0,
             "ticks": ""
            },
            "colorscale": [
             [
              0,
              "#0d0887"
             ],
             [
              0.1111111111111111,
              "#46039f"
             ],
             [
              0.2222222222222222,
              "#7201a8"
             ],
             [
              0.3333333333333333,
              "#9c179e"
             ],
             [
              0.4444444444444444,
              "#bd3786"
             ],
             [
              0.5555555555555556,
              "#d8576b"
             ],
             [
              0.6666666666666666,
              "#ed7953"
             ],
             [
              0.7777777777777778,
              "#fb9f3a"
             ],
             [
              0.8888888888888888,
              "#fdca26"
             ],
             [
              1,
              "#f0f921"
             ]
            ],
            "type": "surface"
           }
          ],
          "table": [
           {
            "cells": {
             "fill": {
              "color": "#EBF0F8"
             },
             "line": {
              "color": "white"
             }
            },
            "header": {
             "fill": {
              "color": "#C8D4E3"
             },
             "line": {
              "color": "white"
             }
            },
            "type": "table"
           }
          ]
         },
         "layout": {
          "annotationdefaults": {
           "arrowcolor": "#2a3f5f",
           "arrowhead": 0,
           "arrowwidth": 1
          },
          "autotypenumbers": "strict",
          "coloraxis": {
           "colorbar": {
            "outlinewidth": 0,
            "ticks": ""
           }
          },
          "colorscale": {
           "diverging": [
            [
             0,
             "#8e0152"
            ],
            [
             0.1,
             "#c51b7d"
            ],
            [
             0.2,
             "#de77ae"
            ],
            [
             0.3,
             "#f1b6da"
            ],
            [
             0.4,
             "#fde0ef"
            ],
            [
             0.5,
             "#f7f7f7"
            ],
            [
             0.6,
             "#e6f5d0"
            ],
            [
             0.7,
             "#b8e186"
            ],
            [
             0.8,
             "#7fbc41"
            ],
            [
             0.9,
             "#4d9221"
            ],
            [
             1,
             "#276419"
            ]
           ],
           "sequential": [
            [
             0,
             "#0d0887"
            ],
            [
             0.1111111111111111,
             "#46039f"
            ],
            [
             0.2222222222222222,
             "#7201a8"
            ],
            [
             0.3333333333333333,
             "#9c179e"
            ],
            [
             0.4444444444444444,
             "#bd3786"
            ],
            [
             0.5555555555555556,
             "#d8576b"
            ],
            [
             0.6666666666666666,
             "#ed7953"
            ],
            [
             0.7777777777777778,
             "#fb9f3a"
            ],
            [
             0.8888888888888888,
             "#fdca26"
            ],
            [
             1,
             "#f0f921"
            ]
           ],
           "sequentialminus": [
            [
             0,
             "#0d0887"
            ],
            [
             0.1111111111111111,
             "#46039f"
            ],
            [
             0.2222222222222222,
             "#7201a8"
            ],
            [
             0.3333333333333333,
             "#9c179e"
            ],
            [
             0.4444444444444444,
             "#bd3786"
            ],
            [
             0.5555555555555556,
             "#d8576b"
            ],
            [
             0.6666666666666666,
             "#ed7953"
            ],
            [
             0.7777777777777778,
             "#fb9f3a"
            ],
            [
             0.8888888888888888,
             "#fdca26"
            ],
            [
             1,
             "#f0f921"
            ]
           ]
          },
          "colorway": [
           "#636efa",
           "#EF553B",
           "#00cc96",
           "#ab63fa",
           "#FFA15A",
           "#19d3f3",
           "#FF6692",
           "#B6E880",
           "#FF97FF",
           "#FECB52"
          ],
          "font": {
           "color": "#2a3f5f"
          },
          "geo": {
           "bgcolor": "white",
           "lakecolor": "white",
           "landcolor": "#E5ECF6",
           "showlakes": true,
           "showland": true,
           "subunitcolor": "white"
          },
          "hoverlabel": {
           "align": "left"
          },
          "hovermode": "closest",
          "mapbox": {
           "style": "light"
          },
          "paper_bgcolor": "white",
          "plot_bgcolor": "#E5ECF6",
          "polar": {
           "angularaxis": {
            "gridcolor": "white",
            "linecolor": "white",
            "ticks": ""
           },
           "bgcolor": "#E5ECF6",
           "radialaxis": {
            "gridcolor": "white",
            "linecolor": "white",
            "ticks": ""
           }
          },
          "scene": {
           "xaxis": {
            "backgroundcolor": "#E5ECF6",
            "gridcolor": "white",
            "gridwidth": 2,
            "linecolor": "white",
            "showbackground": true,
            "ticks": "",
            "zerolinecolor": "white"
           },
           "yaxis": {
            "backgroundcolor": "#E5ECF6",
            "gridcolor": "white",
            "gridwidth": 2,
            "linecolor": "white",
            "showbackground": true,
            "ticks": "",
            "zerolinecolor": "white"
           },
           "zaxis": {
            "backgroundcolor": "#E5ECF6",
            "gridcolor": "white",
            "gridwidth": 2,
            "linecolor": "white",
            "showbackground": true,
            "ticks": "",
            "zerolinecolor": "white"
           }
          },
          "shapedefaults": {
           "line": {
            "color": "#2a3f5f"
           }
          },
          "ternary": {
           "aaxis": {
            "gridcolor": "white",
            "linecolor": "white",
            "ticks": ""
           },
           "baxis": {
            "gridcolor": "white",
            "linecolor": "white",
            "ticks": ""
           },
           "bgcolor": "#E5ECF6",
           "caxis": {
            "gridcolor": "white",
            "linecolor": "white",
            "ticks": ""
           }
          },
          "title": {
           "x": 0.05
          },
          "xaxis": {
           "automargin": true,
           "gridcolor": "white",
           "linecolor": "white",
           "ticks": "",
           "title": {
            "standoff": 15
           },
           "zerolinecolor": "white",
           "zerolinewidth": 2
          },
          "yaxis": {
           "automargin": true,
           "gridcolor": "white",
           "linecolor": "white",
           "ticks": "",
           "title": {
            "standoff": 15
           },
           "zerolinecolor": "white",
           "zerolinewidth": 2
          }
         }
        },
        "title": {
         "text": "Countries average scores across all subjects from 2000 to 2018"
        },
        "xaxis": {
         "title": {
          "text": "Year"
         }
        },
        "yaxis": {
         "title": {
          "text": "Average Scores"
         }
        }
       }
      }
     },
     "metadata": {},
     "output_type": "display_data"
    }
   ],
   "source": [
    "avg_reading_year = []\n",
    "avg_math_year = []\n",
    "avg_sci_year = []\n",
    "\n",
    "#year_go = sci_avg2.loc['Year'].unique().tolist()\n",
    "\n",
    "for i in range(7):\n",
    "    avg_reading_year.append(readings_avg2.groupby('Year').mean()['avg'][i])\n",
    "    avg_math_year.append(math_avg2.groupby('Year').mean()['avg'][i])\n",
    "    avg_sci_year.append(sci_avg2.groupby('Year').mean()['avg'][i])\n",
    "\n",
    "\n",
    "fig = go.Figure()\n",
    "fig.add_trace(go.Scatter(x=sci_avg2['Year'].unique().tolist(), y=avg_reading_year,\n",
    "                mode='lines+markers',\n",
    "                name='Reading'))\n",
    "\n",
    "fig.add_trace(go.Scatter(x=sci_avg2['Year'].unique().tolist(), y=avg_math_year,\n",
    "                mode='lines+markers',\n",
    "                name='Math'))\n",
    "\n",
    "fig.add_trace(go.Scatter(x=sci_avg2['Year'].unique().tolist(), y=avg_sci_year,\n",
    "                mode='lines+markers',\n",
    "                name='Science'))\n",
    "\n",
    "fig.update_layout(title='Countries average scores across all subjects from 2000 to 2018',\n",
    "                   xaxis_title='Year',\n",
    "                   yaxis_title='Average Scores') \n",
    "\n",
    "fig.show()\n",
    "fig.write_html(\"all_country_avg_trend.html\")\n",
    "#print(readings_avg2.groupby('Year').mean()['avg'])"
   ]
  },
  {
   "cell_type": "code",
   "execution_count": 45,
   "metadata": {},
   "outputs": [
    {
     "name": "stderr",
     "output_type": "stream",
     "text": [
      "/var/folders/hv/08dyyt957zq3n_n6kttfl_180000gn/T/ipykernel_28954/763454432.py:8: FutureWarning:\n",
      "\n",
      "The default value of numeric_only in DataFrameGroupBy.median is deprecated. In a future version, numeric_only will default to False. Either specify numeric_only or select only columns which should be valid for the function.\n",
      "\n",
      "/var/folders/hv/08dyyt957zq3n_n6kttfl_180000gn/T/ipykernel_28954/763454432.py:9: FutureWarning:\n",
      "\n",
      "The default value of numeric_only in DataFrameGroupBy.median is deprecated. In a future version, numeric_only will default to False. Either specify numeric_only or select only columns which should be valid for the function.\n",
      "\n",
      "/var/folders/hv/08dyyt957zq3n_n6kttfl_180000gn/T/ipykernel_28954/763454432.py:10: FutureWarning:\n",
      "\n",
      "The default value of numeric_only in DataFrameGroupBy.median is deprecated. In a future version, numeric_only will default to False. Either specify numeric_only or select only columns which should be valid for the function.\n",
      "\n",
      "/var/folders/hv/08dyyt957zq3n_n6kttfl_180000gn/T/ipykernel_28954/763454432.py:8: FutureWarning:\n",
      "\n",
      "The default value of numeric_only in DataFrameGroupBy.median is deprecated. In a future version, numeric_only will default to False. Either specify numeric_only or select only columns which should be valid for the function.\n",
      "\n",
      "/var/folders/hv/08dyyt957zq3n_n6kttfl_180000gn/T/ipykernel_28954/763454432.py:9: FutureWarning:\n",
      "\n",
      "The default value of numeric_only in DataFrameGroupBy.median is deprecated. In a future version, numeric_only will default to False. Either specify numeric_only or select only columns which should be valid for the function.\n",
      "\n",
      "/var/folders/hv/08dyyt957zq3n_n6kttfl_180000gn/T/ipykernel_28954/763454432.py:10: FutureWarning:\n",
      "\n",
      "The default value of numeric_only in DataFrameGroupBy.median is deprecated. In a future version, numeric_only will default to False. Either specify numeric_only or select only columns which should be valid for the function.\n",
      "\n",
      "/var/folders/hv/08dyyt957zq3n_n6kttfl_180000gn/T/ipykernel_28954/763454432.py:8: FutureWarning:\n",
      "\n",
      "The default value of numeric_only in DataFrameGroupBy.median is deprecated. In a future version, numeric_only will default to False. Either specify numeric_only or select only columns which should be valid for the function.\n",
      "\n",
      "/var/folders/hv/08dyyt957zq3n_n6kttfl_180000gn/T/ipykernel_28954/763454432.py:9: FutureWarning:\n",
      "\n",
      "The default value of numeric_only in DataFrameGroupBy.median is deprecated. In a future version, numeric_only will default to False. Either specify numeric_only or select only columns which should be valid for the function.\n",
      "\n",
      "/var/folders/hv/08dyyt957zq3n_n6kttfl_180000gn/T/ipykernel_28954/763454432.py:10: FutureWarning:\n",
      "\n",
      "The default value of numeric_only in DataFrameGroupBy.median is deprecated. In a future version, numeric_only will default to False. Either specify numeric_only or select only columns which should be valid for the function.\n",
      "\n",
      "/var/folders/hv/08dyyt957zq3n_n6kttfl_180000gn/T/ipykernel_28954/763454432.py:8: FutureWarning:\n",
      "\n",
      "The default value of numeric_only in DataFrameGroupBy.median is deprecated. In a future version, numeric_only will default to False. Either specify numeric_only or select only columns which should be valid for the function.\n",
      "\n",
      "/var/folders/hv/08dyyt957zq3n_n6kttfl_180000gn/T/ipykernel_28954/763454432.py:9: FutureWarning:\n",
      "\n",
      "The default value of numeric_only in DataFrameGroupBy.median is deprecated. In a future version, numeric_only will default to False. Either specify numeric_only or select only columns which should be valid for the function.\n",
      "\n",
      "/var/folders/hv/08dyyt957zq3n_n6kttfl_180000gn/T/ipykernel_28954/763454432.py:10: FutureWarning:\n",
      "\n",
      "The default value of numeric_only in DataFrameGroupBy.median is deprecated. In a future version, numeric_only will default to False. Either specify numeric_only or select only columns which should be valid for the function.\n",
      "\n",
      "/var/folders/hv/08dyyt957zq3n_n6kttfl_180000gn/T/ipykernel_28954/763454432.py:8: FutureWarning:\n",
      "\n",
      "The default value of numeric_only in DataFrameGroupBy.median is deprecated. In a future version, numeric_only will default to False. Either specify numeric_only or select only columns which should be valid for the function.\n",
      "\n",
      "/var/folders/hv/08dyyt957zq3n_n6kttfl_180000gn/T/ipykernel_28954/763454432.py:9: FutureWarning:\n",
      "\n",
      "The default value of numeric_only in DataFrameGroupBy.median is deprecated. In a future version, numeric_only will default to False. Either specify numeric_only or select only columns which should be valid for the function.\n",
      "\n",
      "/var/folders/hv/08dyyt957zq3n_n6kttfl_180000gn/T/ipykernel_28954/763454432.py:10: FutureWarning:\n",
      "\n",
      "The default value of numeric_only in DataFrameGroupBy.median is deprecated. In a future version, numeric_only will default to False. Either specify numeric_only or select only columns which should be valid for the function.\n",
      "\n",
      "/var/folders/hv/08dyyt957zq3n_n6kttfl_180000gn/T/ipykernel_28954/763454432.py:8: FutureWarning:\n",
      "\n",
      "The default value of numeric_only in DataFrameGroupBy.median is deprecated. In a future version, numeric_only will default to False. Either specify numeric_only or select only columns which should be valid for the function.\n",
      "\n",
      "/var/folders/hv/08dyyt957zq3n_n6kttfl_180000gn/T/ipykernel_28954/763454432.py:9: FutureWarning:\n",
      "\n",
      "The default value of numeric_only in DataFrameGroupBy.median is deprecated. In a future version, numeric_only will default to False. Either specify numeric_only or select only columns which should be valid for the function.\n",
      "\n",
      "/var/folders/hv/08dyyt957zq3n_n6kttfl_180000gn/T/ipykernel_28954/763454432.py:10: FutureWarning:\n",
      "\n",
      "The default value of numeric_only in DataFrameGroupBy.median is deprecated. In a future version, numeric_only will default to False. Either specify numeric_only or select only columns which should be valid for the function.\n",
      "\n",
      "/var/folders/hv/08dyyt957zq3n_n6kttfl_180000gn/T/ipykernel_28954/763454432.py:8: FutureWarning:\n",
      "\n",
      "The default value of numeric_only in DataFrameGroupBy.median is deprecated. In a future version, numeric_only will default to False. Either specify numeric_only or select only columns which should be valid for the function.\n",
      "\n",
      "/var/folders/hv/08dyyt957zq3n_n6kttfl_180000gn/T/ipykernel_28954/763454432.py:9: FutureWarning:\n",
      "\n",
      "The default value of numeric_only in DataFrameGroupBy.median is deprecated. In a future version, numeric_only will default to False. Either specify numeric_only or select only columns which should be valid for the function.\n",
      "\n",
      "/var/folders/hv/08dyyt957zq3n_n6kttfl_180000gn/T/ipykernel_28954/763454432.py:10: FutureWarning:\n",
      "\n",
      "The default value of numeric_only in DataFrameGroupBy.median is deprecated. In a future version, numeric_only will default to False. Either specify numeric_only or select only columns which should be valid for the function.\n",
      "\n"
     ]
    },
    {
     "data": {
      "application/vnd.plotly.v1+json": {
       "config": {
        "plotlyServerURL": "https://plot.ly"
       },
       "data": [
        {
         "mode": "lines+markers",
         "name": "Reading",
         "type": "scatter",
         "x": [
          "2000",
          "2003",
          "2006",
          "2009",
          "2012",
          "2015",
          "2018"
         ],
         "y": [
          487.469645195714,
          491.74696036974,
          480.933176453771,
          482.9291419787845,
          486.780449958756,
          480.19986997999297,
          465.950148126983
         ]
        },
        {
         "mode": "lines+markers",
         "name": "Math",
         "type": "scatter",
         "x": [
          "2000",
          "2003",
          "2006",
          "2009",
          "2012",
          "2015",
          "2018"
         ],
         "y": [
          null,
          502.837319707831,
          490.001840360493,
          487.2664478211285,
          483.24435684000946,
          477.6071313302245,
          467.964343946667
         ]
        },
        {
         "mode": "lines+markers",
         "name": "Science",
         "type": "scatter",
         "x": [
          "2000",
          "2003",
          "2006",
          "2009",
          "2012",
          "2015",
          "2018"
         ],
         "y": [
          null,
          null,
          489.543778170624,
          493.414445609925,
          492.449033403761,
          475.400061591633,
          468.155672648132
         ]
        }
       ],
       "layout": {
        "template": {
         "data": {
          "bar": [
           {
            "error_x": {
             "color": "#2a3f5f"
            },
            "error_y": {
             "color": "#2a3f5f"
            },
            "marker": {
             "line": {
              "color": "#E5ECF6",
              "width": 0.5
             },
             "pattern": {
              "fillmode": "overlay",
              "size": 10,
              "solidity": 0.2
             }
            },
            "type": "bar"
           }
          ],
          "barpolar": [
           {
            "marker": {
             "line": {
              "color": "#E5ECF6",
              "width": 0.5
             },
             "pattern": {
              "fillmode": "overlay",
              "size": 10,
              "solidity": 0.2
             }
            },
            "type": "barpolar"
           }
          ],
          "carpet": [
           {
            "aaxis": {
             "endlinecolor": "#2a3f5f",
             "gridcolor": "white",
             "linecolor": "white",
             "minorgridcolor": "white",
             "startlinecolor": "#2a3f5f"
            },
            "baxis": {
             "endlinecolor": "#2a3f5f",
             "gridcolor": "white",
             "linecolor": "white",
             "minorgridcolor": "white",
             "startlinecolor": "#2a3f5f"
            },
            "type": "carpet"
           }
          ],
          "choropleth": [
           {
            "colorbar": {
             "outlinewidth": 0,
             "ticks": ""
            },
            "type": "choropleth"
           }
          ],
          "contour": [
           {
            "colorbar": {
             "outlinewidth": 0,
             "ticks": ""
            },
            "colorscale": [
             [
              0,
              "#0d0887"
             ],
             [
              0.1111111111111111,
              "#46039f"
             ],
             [
              0.2222222222222222,
              "#7201a8"
             ],
             [
              0.3333333333333333,
              "#9c179e"
             ],
             [
              0.4444444444444444,
              "#bd3786"
             ],
             [
              0.5555555555555556,
              "#d8576b"
             ],
             [
              0.6666666666666666,
              "#ed7953"
             ],
             [
              0.7777777777777778,
              "#fb9f3a"
             ],
             [
              0.8888888888888888,
              "#fdca26"
             ],
             [
              1,
              "#f0f921"
             ]
            ],
            "type": "contour"
           }
          ],
          "contourcarpet": [
           {
            "colorbar": {
             "outlinewidth": 0,
             "ticks": ""
            },
            "type": "contourcarpet"
           }
          ],
          "heatmap": [
           {
            "colorbar": {
             "outlinewidth": 0,
             "ticks": ""
            },
            "colorscale": [
             [
              0,
              "#0d0887"
             ],
             [
              0.1111111111111111,
              "#46039f"
             ],
             [
              0.2222222222222222,
              "#7201a8"
             ],
             [
              0.3333333333333333,
              "#9c179e"
             ],
             [
              0.4444444444444444,
              "#bd3786"
             ],
             [
              0.5555555555555556,
              "#d8576b"
             ],
             [
              0.6666666666666666,
              "#ed7953"
             ],
             [
              0.7777777777777778,
              "#fb9f3a"
             ],
             [
              0.8888888888888888,
              "#fdca26"
             ],
             [
              1,
              "#f0f921"
             ]
            ],
            "type": "heatmap"
           }
          ],
          "heatmapgl": [
           {
            "colorbar": {
             "outlinewidth": 0,
             "ticks": ""
            },
            "colorscale": [
             [
              0,
              "#0d0887"
             ],
             [
              0.1111111111111111,
              "#46039f"
             ],
             [
              0.2222222222222222,
              "#7201a8"
             ],
             [
              0.3333333333333333,
              "#9c179e"
             ],
             [
              0.4444444444444444,
              "#bd3786"
             ],
             [
              0.5555555555555556,
              "#d8576b"
             ],
             [
              0.6666666666666666,
              "#ed7953"
             ],
             [
              0.7777777777777778,
              "#fb9f3a"
             ],
             [
              0.8888888888888888,
              "#fdca26"
             ],
             [
              1,
              "#f0f921"
             ]
            ],
            "type": "heatmapgl"
           }
          ],
          "histogram": [
           {
            "marker": {
             "pattern": {
              "fillmode": "overlay",
              "size": 10,
              "solidity": 0.2
             }
            },
            "type": "histogram"
           }
          ],
          "histogram2d": [
           {
            "colorbar": {
             "outlinewidth": 0,
             "ticks": ""
            },
            "colorscale": [
             [
              0,
              "#0d0887"
             ],
             [
              0.1111111111111111,
              "#46039f"
             ],
             [
              0.2222222222222222,
              "#7201a8"
             ],
             [
              0.3333333333333333,
              "#9c179e"
             ],
             [
              0.4444444444444444,
              "#bd3786"
             ],
             [
              0.5555555555555556,
              "#d8576b"
             ],
             [
              0.6666666666666666,
              "#ed7953"
             ],
             [
              0.7777777777777778,
              "#fb9f3a"
             ],
             [
              0.8888888888888888,
              "#fdca26"
             ],
             [
              1,
              "#f0f921"
             ]
            ],
            "type": "histogram2d"
           }
          ],
          "histogram2dcontour": [
           {
            "colorbar": {
             "outlinewidth": 0,
             "ticks": ""
            },
            "colorscale": [
             [
              0,
              "#0d0887"
             ],
             [
              0.1111111111111111,
              "#46039f"
             ],
             [
              0.2222222222222222,
              "#7201a8"
             ],
             [
              0.3333333333333333,
              "#9c179e"
             ],
             [
              0.4444444444444444,
              "#bd3786"
             ],
             [
              0.5555555555555556,
              "#d8576b"
             ],
             [
              0.6666666666666666,
              "#ed7953"
             ],
             [
              0.7777777777777778,
              "#fb9f3a"
             ],
             [
              0.8888888888888888,
              "#fdca26"
             ],
             [
              1,
              "#f0f921"
             ]
            ],
            "type": "histogram2dcontour"
           }
          ],
          "mesh3d": [
           {
            "colorbar": {
             "outlinewidth": 0,
             "ticks": ""
            },
            "type": "mesh3d"
           }
          ],
          "parcoords": [
           {
            "line": {
             "colorbar": {
              "outlinewidth": 0,
              "ticks": ""
             }
            },
            "type": "parcoords"
           }
          ],
          "pie": [
           {
            "automargin": true,
            "type": "pie"
           }
          ],
          "scatter": [
           {
            "fillpattern": {
             "fillmode": "overlay",
             "size": 10,
             "solidity": 0.2
            },
            "type": "scatter"
           }
          ],
          "scatter3d": [
           {
            "line": {
             "colorbar": {
              "outlinewidth": 0,
              "ticks": ""
             }
            },
            "marker": {
             "colorbar": {
              "outlinewidth": 0,
              "ticks": ""
             }
            },
            "type": "scatter3d"
           }
          ],
          "scattercarpet": [
           {
            "marker": {
             "colorbar": {
              "outlinewidth": 0,
              "ticks": ""
             }
            },
            "type": "scattercarpet"
           }
          ],
          "scattergeo": [
           {
            "marker": {
             "colorbar": {
              "outlinewidth": 0,
              "ticks": ""
             }
            },
            "type": "scattergeo"
           }
          ],
          "scattergl": [
           {
            "marker": {
             "colorbar": {
              "outlinewidth": 0,
              "ticks": ""
             }
            },
            "type": "scattergl"
           }
          ],
          "scattermapbox": [
           {
            "marker": {
             "colorbar": {
              "outlinewidth": 0,
              "ticks": ""
             }
            },
            "type": "scattermapbox"
           }
          ],
          "scatterpolar": [
           {
            "marker": {
             "colorbar": {
              "outlinewidth": 0,
              "ticks": ""
             }
            },
            "type": "scatterpolar"
           }
          ],
          "scatterpolargl": [
           {
            "marker": {
             "colorbar": {
              "outlinewidth": 0,
              "ticks": ""
             }
            },
            "type": "scatterpolargl"
           }
          ],
          "scatterternary": [
           {
            "marker": {
             "colorbar": {
              "outlinewidth": 0,
              "ticks": ""
             }
            },
            "type": "scatterternary"
           }
          ],
          "surface": [
           {
            "colorbar": {
             "outlinewidth": 0,
             "ticks": ""
            },
            "colorscale": [
             [
              0,
              "#0d0887"
             ],
             [
              0.1111111111111111,
              "#46039f"
             ],
             [
              0.2222222222222222,
              "#7201a8"
             ],
             [
              0.3333333333333333,
              "#9c179e"
             ],
             [
              0.4444444444444444,
              "#bd3786"
             ],
             [
              0.5555555555555556,
              "#d8576b"
             ],
             [
              0.6666666666666666,
              "#ed7953"
             ],
             [
              0.7777777777777778,
              "#fb9f3a"
             ],
             [
              0.8888888888888888,
              "#fdca26"
             ],
             [
              1,
              "#f0f921"
             ]
            ],
            "type": "surface"
           }
          ],
          "table": [
           {
            "cells": {
             "fill": {
              "color": "#EBF0F8"
             },
             "line": {
              "color": "white"
             }
            },
            "header": {
             "fill": {
              "color": "#C8D4E3"
             },
             "line": {
              "color": "white"
             }
            },
            "type": "table"
           }
          ]
         },
         "layout": {
          "annotationdefaults": {
           "arrowcolor": "#2a3f5f",
           "arrowhead": 0,
           "arrowwidth": 1
          },
          "autotypenumbers": "strict",
          "coloraxis": {
           "colorbar": {
            "outlinewidth": 0,
            "ticks": ""
           }
          },
          "colorscale": {
           "diverging": [
            [
             0,
             "#8e0152"
            ],
            [
             0.1,
             "#c51b7d"
            ],
            [
             0.2,
             "#de77ae"
            ],
            [
             0.3,
             "#f1b6da"
            ],
            [
             0.4,
             "#fde0ef"
            ],
            [
             0.5,
             "#f7f7f7"
            ],
            [
             0.6,
             "#e6f5d0"
            ],
            [
             0.7,
             "#b8e186"
            ],
            [
             0.8,
             "#7fbc41"
            ],
            [
             0.9,
             "#4d9221"
            ],
            [
             1,
             "#276419"
            ]
           ],
           "sequential": [
            [
             0,
             "#0d0887"
            ],
            [
             0.1111111111111111,
             "#46039f"
            ],
            [
             0.2222222222222222,
             "#7201a8"
            ],
            [
             0.3333333333333333,
             "#9c179e"
            ],
            [
             0.4444444444444444,
             "#bd3786"
            ],
            [
             0.5555555555555556,
             "#d8576b"
            ],
            [
             0.6666666666666666,
             "#ed7953"
            ],
            [
             0.7777777777777778,
             "#fb9f3a"
            ],
            [
             0.8888888888888888,
             "#fdca26"
            ],
            [
             1,
             "#f0f921"
            ]
           ],
           "sequentialminus": [
            [
             0,
             "#0d0887"
            ],
            [
             0.1111111111111111,
             "#46039f"
            ],
            [
             0.2222222222222222,
             "#7201a8"
            ],
            [
             0.3333333333333333,
             "#9c179e"
            ],
            [
             0.4444444444444444,
             "#bd3786"
            ],
            [
             0.5555555555555556,
             "#d8576b"
            ],
            [
             0.6666666666666666,
             "#ed7953"
            ],
            [
             0.7777777777777778,
             "#fb9f3a"
            ],
            [
             0.8888888888888888,
             "#fdca26"
            ],
            [
             1,
             "#f0f921"
            ]
           ]
          },
          "colorway": [
           "#636efa",
           "#EF553B",
           "#00cc96",
           "#ab63fa",
           "#FFA15A",
           "#19d3f3",
           "#FF6692",
           "#B6E880",
           "#FF97FF",
           "#FECB52"
          ],
          "font": {
           "color": "#2a3f5f"
          },
          "geo": {
           "bgcolor": "white",
           "lakecolor": "white",
           "landcolor": "#E5ECF6",
           "showlakes": true,
           "showland": true,
           "subunitcolor": "white"
          },
          "hoverlabel": {
           "align": "left"
          },
          "hovermode": "closest",
          "mapbox": {
           "style": "light"
          },
          "paper_bgcolor": "white",
          "plot_bgcolor": "#E5ECF6",
          "polar": {
           "angularaxis": {
            "gridcolor": "white",
            "linecolor": "white",
            "ticks": ""
           },
           "bgcolor": "#E5ECF6",
           "radialaxis": {
            "gridcolor": "white",
            "linecolor": "white",
            "ticks": ""
           }
          },
          "scene": {
           "xaxis": {
            "backgroundcolor": "#E5ECF6",
            "gridcolor": "white",
            "gridwidth": 2,
            "linecolor": "white",
            "showbackground": true,
            "ticks": "",
            "zerolinecolor": "white"
           },
           "yaxis": {
            "backgroundcolor": "#E5ECF6",
            "gridcolor": "white",
            "gridwidth": 2,
            "linecolor": "white",
            "showbackground": true,
            "ticks": "",
            "zerolinecolor": "white"
           },
           "zaxis": {
            "backgroundcolor": "#E5ECF6",
            "gridcolor": "white",
            "gridwidth": 2,
            "linecolor": "white",
            "showbackground": true,
            "ticks": "",
            "zerolinecolor": "white"
           }
          },
          "shapedefaults": {
           "line": {
            "color": "#2a3f5f"
           }
          },
          "ternary": {
           "aaxis": {
            "gridcolor": "white",
            "linecolor": "white",
            "ticks": ""
           },
           "baxis": {
            "gridcolor": "white",
            "linecolor": "white",
            "ticks": ""
           },
           "bgcolor": "#E5ECF6",
           "caxis": {
            "gridcolor": "white",
            "linecolor": "white",
            "ticks": ""
           }
          },
          "title": {
           "x": 0.05
          },
          "xaxis": {
           "automargin": true,
           "gridcolor": "white",
           "linecolor": "white",
           "ticks": "",
           "title": {
            "standoff": 15
           },
           "zerolinecolor": "white",
           "zerolinewidth": 2
          },
          "yaxis": {
           "automargin": true,
           "gridcolor": "white",
           "linecolor": "white",
           "ticks": "",
           "title": {
            "standoff": 15
           },
           "zerolinecolor": "white",
           "zerolinewidth": 2
          }
         }
        },
        "title": {
         "text": "Countries median scores across all subjects from 2000 to 2018"
        },
        "xaxis": {
         "title": {
          "text": "Year"
         }
        },
        "yaxis": {
         "title": {
          "text": "Median Scores"
         }
        }
       }
      }
     },
     "metadata": {},
     "output_type": "display_data"
    }
   ],
   "source": [
    "med_reading_year = []\n",
    "med_math_year = []\n",
    "med_sci_year = []\n",
    "\n",
    "#year_go = sci_avg2.loc['Year'].unique().tolist()\n",
    "\n",
    "for i in range(7):\n",
    "    med_reading_year.append(readings_avg2.groupby('Year').median()['avg'][i])\n",
    "    med_math_year.append(math_avg2.groupby('Year').median()['avg'][i])\n",
    "    med_sci_year.append(sci_avg2.groupby('Year').median()['avg'][i])\n",
    "\n",
    "\n",
    "fig = go.Figure()\n",
    "fig.add_trace(go.Scatter(x=sci_avg2['Year'].unique().tolist(), y=med_reading_year,\n",
    "                mode='lines+markers',\n",
    "                name='Reading'))\n",
    "\n",
    "fig.add_trace(go.Scatter(x=sci_avg2['Year'].unique().tolist(), y=med_math_year,\n",
    "                mode='lines+markers',\n",
    "                name='Math'))\n",
    "\n",
    "fig.add_trace(go.Scatter(x=sci_avg2['Year'].unique().tolist(), y=med_sci_year,\n",
    "                mode='lines+markers',\n",
    "                name='Science'))\n",
    "\n",
    "fig.update_layout(title='Countries median scores across all subjects from 2000 to 2018',\n",
    "                   xaxis_title='Year',\n",
    "                   yaxis_title='Median Scores') \n",
    "\n",
    "fig.show()\n",
    "fig.write_html(\"all_country_med_trend.html\")"
   ]
  },
  {
   "cell_type": "code",
   "execution_count": 46,
   "metadata": {},
   "outputs": [
    {
     "data": {
      "text/html": [
       "<div>\n",
       "<style scoped>\n",
       "    .dataframe tbody tr th:only-of-type {\n",
       "        vertical-align: middle;\n",
       "    }\n",
       "\n",
       "    .dataframe tbody tr th {\n",
       "        vertical-align: top;\n",
       "    }\n",
       "\n",
       "    .dataframe thead th {\n",
       "        text-align: right;\n",
       "    }\n",
       "</style>\n",
       "<table border=\"1\" class=\"dataframe\">\n",
       "  <thead>\n",
       "    <tr style=\"text-align: right;\">\n",
       "      <th></th>\n",
       "      <th>Countries</th>\n",
       "      <th>2000</th>\n",
       "      <th>2003</th>\n",
       "      <th>2006</th>\n",
       "      <th>2009</th>\n",
       "      <th>2012</th>\n",
       "      <th>2015</th>\n",
       "      <th>2018</th>\n",
       "    </tr>\n",
       "  </thead>\n",
       "  <tbody>\n",
       "    <tr>\n",
       "      <th>0</th>\n",
       "      <td>Australia</td>\n",
       "      <td>528.278505</td>\n",
       "      <td>525.427007</td>\n",
       "      <td>512.893292</td>\n",
       "      <td>514.900655</td>\n",
       "      <td>511.803998</td>\n",
       "      <td>502.900560</td>\n",
       "      <td>502.631724</td>\n",
       "    </tr>\n",
       "    <tr>\n",
       "      <th>1</th>\n",
       "      <td>Austria</td>\n",
       "      <td>492.056007</td>\n",
       "      <td>490.693240</td>\n",
       "      <td>490.193977</td>\n",
       "      <td>470.283632</td>\n",
       "      <td>489.609335</td>\n",
       "      <td>484.865597</td>\n",
       "      <td>484.392568</td>\n",
       "    </tr>\n",
       "    <tr>\n",
       "      <th>2</th>\n",
       "      <td>Belgium</td>\n",
       "      <td>507.125890</td>\n",
       "      <td>506.987332</td>\n",
       "      <td>500.900595</td>\n",
       "      <td>505.945796</td>\n",
       "      <td>508.617877</td>\n",
       "      <td>498.524189</td>\n",
       "      <td>492.864439</td>\n",
       "    </tr>\n",
       "    <tr>\n",
       "      <th>3</th>\n",
       "      <td>Canada</td>\n",
       "      <td>534.312719</td>\n",
       "      <td>527.913612</td>\n",
       "      <td>527.011296</td>\n",
       "      <td>524.241833</td>\n",
       "      <td>523.124003</td>\n",
       "      <td>526.667805</td>\n",
       "      <td>520.085521</td>\n",
       "    </tr>\n",
       "    <tr>\n",
       "      <th>4</th>\n",
       "      <td>Chile</td>\n",
       "      <td>409.556782</td>\n",
       "      <td>NaN</td>\n",
       "      <td>442.091346</td>\n",
       "      <td>449.369607</td>\n",
       "      <td>441.398164</td>\n",
       "      <td>458.570876</td>\n",
       "      <td>452.272554</td>\n",
       "    </tr>\n",
       "    <tr>\n",
       "      <th>...</th>\n",
       "      <td>...</td>\n",
       "      <td>...</td>\n",
       "      <td>...</td>\n",
       "      <td>...</td>\n",
       "      <td>...</td>\n",
       "      <td>...</td>\n",
       "      <td>...</td>\n",
       "      <td>...</td>\n",
       "    </tr>\n",
       "    <tr>\n",
       "      <th>82</th>\n",
       "      <td>Tunisia</td>\n",
       "      <td>NaN</td>\n",
       "      <td>374.622404</td>\n",
       "      <td>380.336830</td>\n",
       "      <td>403.632656</td>\n",
       "      <td>404.078467</td>\n",
       "      <td>361.055509</td>\n",
       "      <td>NaN</td>\n",
       "    </tr>\n",
       "    <tr>\n",
       "      <th>83</th>\n",
       "      <td>Ukraine</td>\n",
       "      <td>NaN</td>\n",
       "      <td>NaN</td>\n",
       "      <td>NaN</td>\n",
       "      <td>NaN</td>\n",
       "      <td>NaN</td>\n",
       "      <td>NaN</td>\n",
       "      <td>465.950148</td>\n",
       "    </tr>\n",
       "    <tr>\n",
       "      <th>84</th>\n",
       "      <td>United Arab Emirates</td>\n",
       "      <td>NaN</td>\n",
       "      <td>NaN</td>\n",
       "      <td>NaN</td>\n",
       "      <td>NaN</td>\n",
       "      <td>441.703736</td>\n",
       "      <td>433.542290</td>\n",
       "      <td>431.781769</td>\n",
       "    </tr>\n",
       "    <tr>\n",
       "      <th>85</th>\n",
       "      <td>Uruguay</td>\n",
       "      <td>NaN</td>\n",
       "      <td>434.149758</td>\n",
       "      <td>412.516733</td>\n",
       "      <td>425.813359</td>\n",
       "      <td>411.348919</td>\n",
       "      <td>436.572131</td>\n",
       "      <td>427.117618</td>\n",
       "    </tr>\n",
       "    <tr>\n",
       "      <th>86</th>\n",
       "      <td>Viet Nam</td>\n",
       "      <td>NaN</td>\n",
       "      <td>NaN</td>\n",
       "      <td>NaN</td>\n",
       "      <td>NaN</td>\n",
       "      <td>508.218991</td>\n",
       "      <td>486.773764</td>\n",
       "      <td>NaN</td>\n",
       "    </tr>\n",
       "  </tbody>\n",
       "</table>\n",
       "<p>87 rows × 8 columns</p>\n",
       "</div>"
      ],
      "text/plain": [
       "               Countries        2000        2003        2006        2009  \\\n",
       "0              Australia  528.278505  525.427007  512.893292  514.900655   \n",
       "1                Austria  492.056007  490.693240  490.193977  470.283632   \n",
       "2                Belgium  507.125890  506.987332  500.900595  505.945796   \n",
       "3                 Canada  534.312719  527.913612  527.011296  524.241833   \n",
       "4                  Chile  409.556782         NaN  442.091346  449.369607   \n",
       "..                   ...         ...         ...         ...         ...   \n",
       "82               Tunisia         NaN  374.622404  380.336830  403.632656   \n",
       "83               Ukraine         NaN         NaN         NaN         NaN   \n",
       "84  United Arab Emirates         NaN         NaN         NaN         NaN   \n",
       "85               Uruguay         NaN  434.149758  412.516733  425.813359   \n",
       "86              Viet Nam         NaN         NaN         NaN         NaN   \n",
       "\n",
       "          2012        2015        2018  \n",
       "0   511.803998  502.900560  502.631724  \n",
       "1   489.609335  484.865597  484.392568  \n",
       "2   508.617877  498.524189  492.864439  \n",
       "3   523.124003  526.667805  520.085521  \n",
       "4   441.398164  458.570876  452.272554  \n",
       "..         ...         ...         ...  \n",
       "82  404.078467  361.055509         NaN  \n",
       "83         NaN         NaN  465.950148  \n",
       "84  441.703736  433.542290  431.781769  \n",
       "85  411.348919  436.572131  427.117618  \n",
       "86  508.218991  486.773764         NaN  \n",
       "\n",
       "[87 rows x 8 columns]"
      ]
     },
     "execution_count": 46,
     "metadata": {},
     "output_type": "execute_result"
    }
   ],
   "source": [
    "readings_avg"
   ]
  },
  {
   "cell_type": "code",
   "execution_count": 47,
   "metadata": {},
   "outputs": [
    {
     "data": {
      "text/html": [
       "<div>\n",
       "<style scoped>\n",
       "    .dataframe tbody tr th:only-of-type {\n",
       "        vertical-align: middle;\n",
       "    }\n",
       "\n",
       "    .dataframe tbody tr th {\n",
       "        vertical-align: top;\n",
       "    }\n",
       "\n",
       "    .dataframe thead th {\n",
       "        text-align: right;\n",
       "    }\n",
       "</style>\n",
       "<table border=\"1\" class=\"dataframe\">\n",
       "  <thead>\n",
       "    <tr style=\"text-align: right;\">\n",
       "      <th></th>\n",
       "      <th>2000</th>\n",
       "      <th>2003</th>\n",
       "      <th>2006</th>\n",
       "      <th>2009</th>\n",
       "      <th>2012</th>\n",
       "      <th>2015</th>\n",
       "      <th>2018</th>\n",
       "    </tr>\n",
       "  </thead>\n",
       "  <tbody>\n",
       "    <tr>\n",
       "      <th>0</th>\n",
       "      <td>528.278505</td>\n",
       "      <td>525.427007</td>\n",
       "      <td>512.893292</td>\n",
       "      <td>514.900655</td>\n",
       "      <td>511.803998</td>\n",
       "      <td>502.900560</td>\n",
       "      <td>502.631724</td>\n",
       "    </tr>\n",
       "    <tr>\n",
       "      <th>1</th>\n",
       "      <td>492.056007</td>\n",
       "      <td>490.693240</td>\n",
       "      <td>490.193977</td>\n",
       "      <td>470.283632</td>\n",
       "      <td>489.609335</td>\n",
       "      <td>484.865597</td>\n",
       "      <td>484.392568</td>\n",
       "    </tr>\n",
       "    <tr>\n",
       "      <th>2</th>\n",
       "      <td>507.125890</td>\n",
       "      <td>506.987332</td>\n",
       "      <td>500.900595</td>\n",
       "      <td>505.945796</td>\n",
       "      <td>508.617877</td>\n",
       "      <td>498.524189</td>\n",
       "      <td>492.864439</td>\n",
       "    </tr>\n",
       "    <tr>\n",
       "      <th>3</th>\n",
       "      <td>534.312719</td>\n",
       "      <td>527.913612</td>\n",
       "      <td>527.011296</td>\n",
       "      <td>524.241833</td>\n",
       "      <td>523.124003</td>\n",
       "      <td>526.667805</td>\n",
       "      <td>520.085521</td>\n",
       "    </tr>\n",
       "    <tr>\n",
       "      <th>4</th>\n",
       "      <td>409.556782</td>\n",
       "      <td>NaN</td>\n",
       "      <td>442.091346</td>\n",
       "      <td>449.369607</td>\n",
       "      <td>441.398164</td>\n",
       "      <td>458.570876</td>\n",
       "      <td>452.272554</td>\n",
       "    </tr>\n",
       "    <tr>\n",
       "      <th>...</th>\n",
       "      <td>...</td>\n",
       "      <td>...</td>\n",
       "      <td>...</td>\n",
       "      <td>...</td>\n",
       "      <td>...</td>\n",
       "      <td>...</td>\n",
       "      <td>...</td>\n",
       "    </tr>\n",
       "    <tr>\n",
       "      <th>82</th>\n",
       "      <td>NaN</td>\n",
       "      <td>374.622404</td>\n",
       "      <td>380.336830</td>\n",
       "      <td>403.632656</td>\n",
       "      <td>404.078467</td>\n",
       "      <td>361.055509</td>\n",
       "      <td>NaN</td>\n",
       "    </tr>\n",
       "    <tr>\n",
       "      <th>83</th>\n",
       "      <td>NaN</td>\n",
       "      <td>NaN</td>\n",
       "      <td>NaN</td>\n",
       "      <td>NaN</td>\n",
       "      <td>NaN</td>\n",
       "      <td>NaN</td>\n",
       "      <td>465.950148</td>\n",
       "    </tr>\n",
       "    <tr>\n",
       "      <th>84</th>\n",
       "      <td>NaN</td>\n",
       "      <td>NaN</td>\n",
       "      <td>NaN</td>\n",
       "      <td>NaN</td>\n",
       "      <td>441.703736</td>\n",
       "      <td>433.542290</td>\n",
       "      <td>431.781769</td>\n",
       "    </tr>\n",
       "    <tr>\n",
       "      <th>85</th>\n",
       "      <td>NaN</td>\n",
       "      <td>434.149758</td>\n",
       "      <td>412.516733</td>\n",
       "      <td>425.813359</td>\n",
       "      <td>411.348919</td>\n",
       "      <td>436.572131</td>\n",
       "      <td>427.117618</td>\n",
       "    </tr>\n",
       "    <tr>\n",
       "      <th>86</th>\n",
       "      <td>NaN</td>\n",
       "      <td>NaN</td>\n",
       "      <td>NaN</td>\n",
       "      <td>NaN</td>\n",
       "      <td>508.218991</td>\n",
       "      <td>486.773764</td>\n",
       "      <td>NaN</td>\n",
       "    </tr>\n",
       "  </tbody>\n",
       "</table>\n",
       "<p>87 rows × 7 columns</p>\n",
       "</div>"
      ],
      "text/plain": [
       "          2000        2003        2006        2009        2012        2015  \\\n",
       "0   528.278505  525.427007  512.893292  514.900655  511.803998  502.900560   \n",
       "1   492.056007  490.693240  490.193977  470.283632  489.609335  484.865597   \n",
       "2   507.125890  506.987332  500.900595  505.945796  508.617877  498.524189   \n",
       "3   534.312719  527.913612  527.011296  524.241833  523.124003  526.667805   \n",
       "4   409.556782         NaN  442.091346  449.369607  441.398164  458.570876   \n",
       "..         ...         ...         ...         ...         ...         ...   \n",
       "82         NaN  374.622404  380.336830  403.632656  404.078467  361.055509   \n",
       "83         NaN         NaN         NaN         NaN         NaN         NaN   \n",
       "84         NaN         NaN         NaN         NaN  441.703736  433.542290   \n",
       "85         NaN  434.149758  412.516733  425.813359  411.348919  436.572131   \n",
       "86         NaN         NaN         NaN         NaN  508.218991  486.773764   \n",
       "\n",
       "          2018  \n",
       "0   502.631724  \n",
       "1   484.392568  \n",
       "2   492.864439  \n",
       "3   520.085521  \n",
       "4   452.272554  \n",
       "..         ...  \n",
       "82         NaN  \n",
       "83  465.950148  \n",
       "84  431.781769  \n",
       "85  427.117618  \n",
       "86         NaN  \n",
       "\n",
       "[87 rows x 7 columns]"
      ]
     },
     "execution_count": 47,
     "metadata": {},
     "output_type": "execute_result"
    }
   ],
   "source": [
    "readings_avg_box = readings_avg.drop(['Countries'], axis=1)\n",
    "readings_avg_box"
   ]
  },
  {
   "cell_type": "code",
   "execution_count": 48,
   "metadata": {},
   "outputs": [],
   "source": [
    "math_avg_box = math_avg.drop(['Countries'], axis=1)\n",
    "sci_avg_box = sci_avg.drop(['Countries'], axis=1)"
   ]
  },
  {
   "cell_type": "code",
   "execution_count": 49,
   "metadata": {},
   "outputs": [],
   "source": [
    "import matplotlib.pyplot as plt\n",
    "import seaborn as sns"
   ]
  },
  {
   "cell_type": "code",
   "execution_count": 72,
   "metadata": {},
   "outputs": [
    {
     "data": {
      "image/png": "[encoded data removed]",
      "text/plain": [
       "<Figure size 1000x480 with 1 Axes>"
      ]
     },
     "metadata": {},
     "output_type": "display_data"
    }
   ],
   "source": [
    "readings_avg_box2 = readings_avg_box.melt()\n",
    "m = readings_avg_box2.groupby('variable')['value'].median()\n",
    "\n",
    "fig,ax=plt.subplots()\n",
    "sns.boxplot(data = readings_avg_box2, x = 'variable', y = 'value',ax=ax, color=\"#fde0dd\")\n",
    "ax.plot(m.values,'r-o',linewidth=4)\n",
    "\n",
    "ax.set(xlabel='Year',\n",
    "       ylabel='Average Scores')\n",
    "plt.gcf().set_size_inches(10, plt.gcf().get_size_inches()[1])\n",
    "plt.savefig('box_reading.png')\n",
    "plt.show()"
   ]
  },
  {
   "cell_type": "code",
   "execution_count": 73,
   "metadata": {},
   "outputs": [
    {
     "data": {
      "image/png": "[encoded data removed]",
      "text/plain": [
       "<Figure size 1000x480 with 1 Axes>"
      ]
     },
     "metadata": {},
     "output_type": "display_data"
    }
   ],
   "source": [
    "math_avg_box2 = math_avg_box.melt()\n",
    "mm = math_avg_box2.groupby('variable')['value'].median()\n",
    "\n",
    "fig,ax=plt.subplots()\n",
    "sns.boxplot(data = math_avg_box2, x = 'variable', y = 'value',ax=ax, color=\"#fde0dd\")\n",
    "ax.plot(mm.values,'r-o',linewidth=4)\n",
    "\n",
    "ax.set(xlabel='Year',\n",
    "       ylabel='Average Scores')\n",
    "plt.gcf().set_size_inches(10, plt.gcf().get_size_inches()[1])\n",
    "plt.savefig('box_math.png')\n",
    "plt.show()"
   ]
  },
  {
   "cell_type": "code",
   "execution_count": 52,
   "metadata": {},
   "outputs": [
    {
     "data": {
      "text/html": [
       "<div>\n",
       "<style scoped>\n",
       "    .dataframe tbody tr th:only-of-type {\n",
       "        vertical-align: middle;\n",
       "    }\n",
       "\n",
       "    .dataframe tbody tr th {\n",
       "        vertical-align: top;\n",
       "    }\n",
       "\n",
       "    .dataframe thead th {\n",
       "        text-align: right;\n",
       "    }\n",
       "</style>\n",
       "<table border=\"1\" class=\"dataframe\">\n",
       "  <thead>\n",
       "    <tr style=\"text-align: right;\">\n",
       "      <th></th>\n",
       "      <th>2000</th>\n",
       "      <th>2003</th>\n",
       "      <th>2006</th>\n",
       "      <th>2009</th>\n",
       "      <th>2012</th>\n",
       "      <th>2015</th>\n",
       "      <th>2018</th>\n",
       "    </tr>\n",
       "  </thead>\n",
       "  <tbody>\n",
       "    <tr>\n",
       "      <th>0</th>\n",
       "      <td>NaN</td>\n",
       "      <td>NaN</td>\n",
       "      <td>526.879589</td>\n",
       "      <td>527.270534</td>\n",
       "      <td>521.494747</td>\n",
       "      <td>509.993854</td>\n",
       "      <td>502.964563</td>\n",
       "    </tr>\n",
       "    <tr>\n",
       "      <th>1</th>\n",
       "      <td>NaN</td>\n",
       "      <td>NaN</td>\n",
       "      <td>510.837155</td>\n",
       "      <td>494.327673</td>\n",
       "      <td>505.781248</td>\n",
       "      <td>495.037486</td>\n",
       "      <td>489.780439</td>\n",
       "    </tr>\n",
       "    <tr>\n",
       "      <th>2</th>\n",
       "      <td>NaN</td>\n",
       "      <td>NaN</td>\n",
       "      <td>510.363484</td>\n",
       "      <td>506.575526</td>\n",
       "      <td>504.867654</td>\n",
       "      <td>501.999714</td>\n",
       "      <td>498.773127</td>\n",
       "    </tr>\n",
       "    <tr>\n",
       "      <th>3</th>\n",
       "      <td>NaN</td>\n",
       "      <td>NaN</td>\n",
       "      <td>534.469777</td>\n",
       "      <td>528.704953</td>\n",
       "      <td>525.441293</td>\n",
       "      <td>527.704684</td>\n",
       "      <td>517.997661</td>\n",
       "    </tr>\n",
       "    <tr>\n",
       "      <th>4</th>\n",
       "      <td>NaN</td>\n",
       "      <td>NaN</td>\n",
       "      <td>438.177445</td>\n",
       "      <td>447.467360</td>\n",
       "      <td>444.933921</td>\n",
       "      <td>446.956066</td>\n",
       "      <td>443.582563</td>\n",
       "    </tr>\n",
       "    <tr>\n",
       "      <th>...</th>\n",
       "      <td>...</td>\n",
       "      <td>...</td>\n",
       "      <td>...</td>\n",
       "      <td>...</td>\n",
       "      <td>...</td>\n",
       "      <td>...</td>\n",
       "      <td>...</td>\n",
       "    </tr>\n",
       "    <tr>\n",
       "      <th>82</th>\n",
       "      <td>NaN</td>\n",
       "      <td>NaN</td>\n",
       "      <td>385.506714</td>\n",
       "      <td>400.661484</td>\n",
       "      <td>398.046451</td>\n",
       "      <td>386.403367</td>\n",
       "      <td>NaN</td>\n",
       "    </tr>\n",
       "    <tr>\n",
       "      <th>83</th>\n",
       "      <td>NaN</td>\n",
       "      <td>NaN</td>\n",
       "      <td>NaN</td>\n",
       "      <td>NaN</td>\n",
       "      <td>NaN</td>\n",
       "      <td>NaN</td>\n",
       "      <td>468.987743</td>\n",
       "    </tr>\n",
       "    <tr>\n",
       "      <th>84</th>\n",
       "      <td>NaN</td>\n",
       "      <td>NaN</td>\n",
       "      <td>NaN</td>\n",
       "      <td>NaN</td>\n",
       "      <td>448.370297</td>\n",
       "      <td>436.731148</td>\n",
       "      <td>433.636803</td>\n",
       "    </tr>\n",
       "    <tr>\n",
       "      <th>85</th>\n",
       "      <td>NaN</td>\n",
       "      <td>NaN</td>\n",
       "      <td>428.133885</td>\n",
       "      <td>427.214250</td>\n",
       "      <td>415.842936</td>\n",
       "      <td>435.362956</td>\n",
       "      <td>425.812677</td>\n",
       "    </tr>\n",
       "    <tr>\n",
       "      <th>86</th>\n",
       "      <td>NaN</td>\n",
       "      <td>NaN</td>\n",
       "      <td>NaN</td>\n",
       "      <td>NaN</td>\n",
       "      <td>528.423262</td>\n",
       "      <td>524.644519</td>\n",
       "      <td>NaN</td>\n",
       "    </tr>\n",
       "  </tbody>\n",
       "</table>\n",
       "<p>87 rows × 7 columns</p>\n",
       "</div>"
      ],
      "text/plain": [
       "    2000  2003        2006        2009        2012        2015        2018\n",
       "0    NaN   NaN  526.879589  527.270534  521.494747  509.993854  502.964563\n",
       "1    NaN   NaN  510.837155  494.327673  505.781248  495.037486  489.780439\n",
       "2    NaN   NaN  510.363484  506.575526  504.867654  501.999714  498.773127\n",
       "3    NaN   NaN  534.469777  528.704953  525.441293  527.704684  517.997661\n",
       "4    NaN   NaN  438.177445  447.467360  444.933921  446.956066  443.582563\n",
       "..   ...   ...         ...         ...         ...         ...         ...\n",
       "82   NaN   NaN  385.506714  400.661484  398.046451  386.403367         NaN\n",
       "83   NaN   NaN         NaN         NaN         NaN         NaN  468.987743\n",
       "84   NaN   NaN         NaN         NaN  448.370297  436.731148  433.636803\n",
       "85   NaN   NaN  428.133885  427.214250  415.842936  435.362956  425.812677\n",
       "86   NaN   NaN         NaN         NaN  528.423262  524.644519         NaN\n",
       "\n",
       "[87 rows x 7 columns]"
      ]
     },
     "execution_count": 52,
     "metadata": {},
     "output_type": "execute_result"
    }
   ],
   "source": [
    "sci_avg_box"
   ]
  },
  {
   "cell_type": "code",
   "execution_count": 74,
   "metadata": {},
   "outputs": [
    {
     "data": {
      "image/png": "[encoded data removed]",
      "text/plain": [
       "<Figure size 1000x480 with 1 Axes>"
      ]
     },
     "metadata": {},
     "output_type": "display_data"
    }
   ],
   "source": [
    "sci_avg_box2 = sci_avg_box.melt()\n",
    "ms = sci_avg_box2.groupby('variable')['value'].median()\n",
    "\n",
    "fig,ax=plt.subplots()\n",
    "sns.boxplot(data = sci_avg_box2, x = 'variable', y = 'value',ax=ax, color=\"#fde0dd\")\n",
    "ax.plot(ms.values,'r-o',linewidth=4)\n",
    "\n",
    "ax.set(xlabel='Year',\n",
    "       ylabel='Average Scores')\n",
    "plt.gcf().set_size_inches(10, plt.gcf().get_size_inches()[1])\n",
    "plt.savefig('box_sci.png')\n",
    "plt.show()"
   ]
  },
  {
   "cell_type": "code",
   "execution_count": 55,
   "metadata": {},
   "outputs": [],
   "source": [
    "readings_avg_box3 = readings_avg_box2.copy()"
   ]
  },
  {
   "cell_type": "code",
   "execution_count": 56,
   "metadata": {},
   "outputs": [],
   "source": [
    "math_avg_box3 = math_avg_box2.copy()\n",
    "sci_avg_box3 = sci_avg_box2.copy()"
   ]
  },
  {
   "cell_type": "code",
   "execution_count": 57,
   "metadata": {},
   "outputs": [],
   "source": [
    "readings_avg_box3[\"subject\"] = \"Reading\"\n",
    "math_avg_box3[\"subject\"] = \"Math\"\n",
    "sci_avg_box3[\"subject\"] = \"Science\""
   ]
  },
  {
   "cell_type": "code",
   "execution_count": 58,
   "metadata": {},
   "outputs": [
    {
     "name": "stderr",
     "output_type": "stream",
     "text": [
      "/var/folders/hv/08dyyt957zq3n_n6kttfl_180000gn/T/ipykernel_28954/3927600818.py:1: FutureWarning:\n",
      "\n",
      "The frame.append method is deprecated and will be removed from pandas in a future version. Use pandas.concat instead.\n",
      "\n",
      "/var/folders/hv/08dyyt957zq3n_n6kttfl_180000gn/T/ipykernel_28954/3927600818.py:2: FutureWarning:\n",
      "\n",
      "The frame.append method is deprecated and will be removed from pandas in a future version. Use pandas.concat instead.\n",
      "\n"
     ]
    }
   ],
   "source": [
    "box_tot = readings_avg_box3.append(math_avg_box3, ignore_index=True)\n",
    "box_tot2 = box_tot.append(sci_avg_box3, ignore_index=True)"
   ]
  },
  {
   "cell_type": "code",
   "execution_count": 59,
   "metadata": {},
   "outputs": [
    {
     "data": {
      "text/html": [
       "<div>\n",
       "<style scoped>\n",
       "    .dataframe tbody tr th:only-of-type {\n",
       "        vertical-align: middle;\n",
       "    }\n",
       "\n",
       "    .dataframe tbody tr th {\n",
       "        vertical-align: top;\n",
       "    }\n",
       "\n",
       "    .dataframe thead th {\n",
       "        text-align: right;\n",
       "    }\n",
       "</style>\n",
       "<table border=\"1\" class=\"dataframe\">\n",
       "  <thead>\n",
       "    <tr style=\"text-align: right;\">\n",
       "      <th></th>\n",
       "      <th>variable</th>\n",
       "      <th>value</th>\n",
       "      <th>subject</th>\n",
       "    </tr>\n",
       "  </thead>\n",
       "  <tbody>\n",
       "    <tr>\n",
       "      <th>0</th>\n",
       "      <td>2000</td>\n",
       "      <td>528.278505</td>\n",
       "      <td>Reading</td>\n",
       "    </tr>\n",
       "    <tr>\n",
       "      <th>1</th>\n",
       "      <td>2000</td>\n",
       "      <td>492.056007</td>\n",
       "      <td>Reading</td>\n",
       "    </tr>\n",
       "    <tr>\n",
       "      <th>2</th>\n",
       "      <td>2000</td>\n",
       "      <td>507.125890</td>\n",
       "      <td>Reading</td>\n",
       "    </tr>\n",
       "    <tr>\n",
       "      <th>3</th>\n",
       "      <td>2000</td>\n",
       "      <td>534.312719</td>\n",
       "      <td>Reading</td>\n",
       "    </tr>\n",
       "    <tr>\n",
       "      <th>4</th>\n",
       "      <td>2000</td>\n",
       "      <td>409.556782</td>\n",
       "      <td>Reading</td>\n",
       "    </tr>\n",
       "    <tr>\n",
       "      <th>...</th>\n",
       "      <td>...</td>\n",
       "      <td>...</td>\n",
       "      <td>...</td>\n",
       "    </tr>\n",
       "    <tr>\n",
       "      <th>1822</th>\n",
       "      <td>2018</td>\n",
       "      <td>NaN</td>\n",
       "      <td>Science</td>\n",
       "    </tr>\n",
       "    <tr>\n",
       "      <th>1823</th>\n",
       "      <td>2018</td>\n",
       "      <td>468.987743</td>\n",
       "      <td>Science</td>\n",
       "    </tr>\n",
       "    <tr>\n",
       "      <th>1824</th>\n",
       "      <td>2018</td>\n",
       "      <td>433.636803</td>\n",
       "      <td>Science</td>\n",
       "    </tr>\n",
       "    <tr>\n",
       "      <th>1825</th>\n",
       "      <td>2018</td>\n",
       "      <td>425.812677</td>\n",
       "      <td>Science</td>\n",
       "    </tr>\n",
       "    <tr>\n",
       "      <th>1826</th>\n",
       "      <td>2018</td>\n",
       "      <td>NaN</td>\n",
       "      <td>Science</td>\n",
       "    </tr>\n",
       "  </tbody>\n",
       "</table>\n",
       "<p>1827 rows × 3 columns</p>\n",
       "</div>"
      ],
      "text/plain": [
       "     variable       value  subject\n",
       "0        2000  528.278505  Reading\n",
       "1        2000  492.056007  Reading\n",
       "2        2000  507.125890  Reading\n",
       "3        2000  534.312719  Reading\n",
       "4        2000  409.556782  Reading\n",
       "...       ...         ...      ...\n",
       "1822     2018         NaN  Science\n",
       "1823     2018  468.987743  Science\n",
       "1824     2018  433.636803  Science\n",
       "1825     2018  425.812677  Science\n",
       "1826     2018         NaN  Science\n",
       "\n",
       "[1827 rows x 3 columns]"
      ]
     },
     "execution_count": 59,
     "metadata": {},
     "output_type": "execute_result"
    }
   ],
   "source": [
    "box_tot2"
   ]
  },
  {
   "cell_type": "code",
   "execution_count": 65,
   "metadata": {},
   "outputs": [],
   "source": [
    "readings_avg_box4 = readings_avg_box.copy()\n",
    "math_avg_box4 = math_avg_box.copy()\n",
    "sci_avg_box4 = sci_avg_box.copy()"
   ]
  },
  {
   "cell_type": "code",
   "execution_count": 66,
   "metadata": {},
   "outputs": [],
   "source": [
    "readings_avg_box4[\"subject\"] = \"Reading\"\n",
    "math_avg_box4[\"subject\"] = \"Math\"\n",
    "sci_avg_box4[\"subject\"] = \"Science\""
   ]
  },
  {
   "cell_type": "code",
   "execution_count": 67,
   "metadata": {},
   "outputs": [
    {
     "name": "stderr",
     "output_type": "stream",
     "text": [
      "/var/folders/hv/08dyyt957zq3n_n6kttfl_180000gn/T/ipykernel_28954/844599333.py:1: FutureWarning:\n",
      "\n",
      "The frame.append method is deprecated and will be removed from pandas in a future version. Use pandas.concat instead.\n",
      "\n",
      "/var/folders/hv/08dyyt957zq3n_n6kttfl_180000gn/T/ipykernel_28954/844599333.py:2: FutureWarning:\n",
      "\n",
      "The frame.append method is deprecated and will be removed from pandas in a future version. Use pandas.concat instead.\n",
      "\n"
     ]
    }
   ],
   "source": [
    "box_unmelt = readings_avg_box4.append(math_avg_box4, ignore_index=True)\n",
    "box_unmelt2 = box_unmelt.append(sci_avg_box4, ignore_index=True)"
   ]
  },
  {
   "cell_type": "code",
   "execution_count": 68,
   "metadata": {},
   "outputs": [
    {
     "data": {
      "text/html": [
       "<div>\n",
       "<style scoped>\n",
       "    .dataframe tbody tr th:only-of-type {\n",
       "        vertical-align: middle;\n",
       "    }\n",
       "\n",
       "    .dataframe tbody tr th {\n",
       "        vertical-align: top;\n",
       "    }\n",
       "\n",
       "    .dataframe thead th {\n",
       "        text-align: right;\n",
       "    }\n",
       "</style>\n",
       "<table border=\"1\" class=\"dataframe\">\n",
       "  <thead>\n",
       "    <tr style=\"text-align: right;\">\n",
       "      <th></th>\n",
       "      <th>subject</th>\n",
       "      <th>variable</th>\n",
       "      <th>value</th>\n",
       "    </tr>\n",
       "  </thead>\n",
       "  <tbody>\n",
       "    <tr>\n",
       "      <th>0</th>\n",
       "      <td>Math</td>\n",
       "      <td>2000</td>\n",
       "      <td>NaN</td>\n",
       "    </tr>\n",
       "    <tr>\n",
       "      <th>1</th>\n",
       "      <td>Reading</td>\n",
       "      <td>2000</td>\n",
       "      <td>487.469645</td>\n",
       "    </tr>\n",
       "    <tr>\n",
       "      <th>2</th>\n",
       "      <td>Science</td>\n",
       "      <td>2000</td>\n",
       "      <td>NaN</td>\n",
       "    </tr>\n",
       "    <tr>\n",
       "      <th>3</th>\n",
       "      <td>Math</td>\n",
       "      <td>2003</td>\n",
       "      <td>502.837320</td>\n",
       "    </tr>\n",
       "    <tr>\n",
       "      <th>4</th>\n",
       "      <td>Reading</td>\n",
       "      <td>2003</td>\n",
       "      <td>491.746960</td>\n",
       "    </tr>\n",
       "    <tr>\n",
       "      <th>5</th>\n",
       "      <td>Science</td>\n",
       "      <td>2003</td>\n",
       "      <td>NaN</td>\n",
       "    </tr>\n",
       "    <tr>\n",
       "      <th>6</th>\n",
       "      <td>Math</td>\n",
       "      <td>2006</td>\n",
       "      <td>490.001840</td>\n",
       "    </tr>\n",
       "    <tr>\n",
       "      <th>7</th>\n",
       "      <td>Reading</td>\n",
       "      <td>2006</td>\n",
       "      <td>480.933176</td>\n",
       "    </tr>\n",
       "    <tr>\n",
       "      <th>8</th>\n",
       "      <td>Science</td>\n",
       "      <td>2006</td>\n",
       "      <td>489.543778</td>\n",
       "    </tr>\n",
       "    <tr>\n",
       "      <th>9</th>\n",
       "      <td>Math</td>\n",
       "      <td>2009</td>\n",
       "      <td>487.266448</td>\n",
       "    </tr>\n",
       "    <tr>\n",
       "      <th>10</th>\n",
       "      <td>Reading</td>\n",
       "      <td>2009</td>\n",
       "      <td>482.929142</td>\n",
       "    </tr>\n",
       "    <tr>\n",
       "      <th>11</th>\n",
       "      <td>Science</td>\n",
       "      <td>2009</td>\n",
       "      <td>493.414446</td>\n",
       "    </tr>\n",
       "    <tr>\n",
       "      <th>12</th>\n",
       "      <td>Math</td>\n",
       "      <td>2012</td>\n",
       "      <td>483.244357</td>\n",
       "    </tr>\n",
       "    <tr>\n",
       "      <th>13</th>\n",
       "      <td>Reading</td>\n",
       "      <td>2012</td>\n",
       "      <td>486.780450</td>\n",
       "    </tr>\n",
       "    <tr>\n",
       "      <th>14</th>\n",
       "      <td>Science</td>\n",
       "      <td>2012</td>\n",
       "      <td>492.449033</td>\n",
       "    </tr>\n",
       "    <tr>\n",
       "      <th>15</th>\n",
       "      <td>Math</td>\n",
       "      <td>2015</td>\n",
       "      <td>477.607131</td>\n",
       "    </tr>\n",
       "    <tr>\n",
       "      <th>16</th>\n",
       "      <td>Reading</td>\n",
       "      <td>2015</td>\n",
       "      <td>480.199870</td>\n",
       "    </tr>\n",
       "    <tr>\n",
       "      <th>17</th>\n",
       "      <td>Science</td>\n",
       "      <td>2015</td>\n",
       "      <td>475.400062</td>\n",
       "    </tr>\n",
       "    <tr>\n",
       "      <th>18</th>\n",
       "      <td>Math</td>\n",
       "      <td>2018</td>\n",
       "      <td>467.964344</td>\n",
       "    </tr>\n",
       "    <tr>\n",
       "      <th>19</th>\n",
       "      <td>Reading</td>\n",
       "      <td>2018</td>\n",
       "      <td>465.950148</td>\n",
       "    </tr>\n",
       "    <tr>\n",
       "      <th>20</th>\n",
       "      <td>Science</td>\n",
       "      <td>2018</td>\n",
       "      <td>468.155673</td>\n",
       "    </tr>\n",
       "  </tbody>\n",
       "</table>\n",
       "</div>"
      ],
      "text/plain": [
       "    subject variable       value\n",
       "0      Math     2000         NaN\n",
       "1   Reading     2000  487.469645\n",
       "2   Science     2000         NaN\n",
       "3      Math     2003  502.837320\n",
       "4   Reading     2003  491.746960\n",
       "5   Science     2003         NaN\n",
       "6      Math     2006  490.001840\n",
       "7   Reading     2006  480.933176\n",
       "8   Science     2006  489.543778\n",
       "9      Math     2009  487.266448\n",
       "10  Reading     2009  482.929142\n",
       "11  Science     2009  493.414446\n",
       "12     Math     2012  483.244357\n",
       "13  Reading     2012  486.780450\n",
       "14  Science     2012  492.449033\n",
       "15     Math     2015  477.607131\n",
       "16  Reading     2015  480.199870\n",
       "17  Science     2015  475.400062\n",
       "18     Math     2018  467.964344\n",
       "19  Reading     2018  465.950148\n",
       "20  Science     2018  468.155673"
      ]
     },
     "execution_count": 68,
     "metadata": {},
     "output_type": "execute_result"
    }
   ],
   "source": [
    "box_med = box_unmelt2.groupby('subject', as_index=False).median().melt(id_vars='subject')\n",
    "box_med"
   ]
  },
  {
   "cell_type": "code",
   "execution_count": 69,
   "metadata": {},
   "outputs": [
    {
     "data": {
      "image/png": "[encoded data removed]",
      "text/plain": [
       "<Figure size 1000x480 with 1 Axes>"
      ]
     },
     "metadata": {},
     "output_type": "display_data"
    }
   ],
   "source": [
    "\n",
    "ax = sns.boxplot(\n",
    "    data=box_tot2,\n",
    "    x='variable', y='value', hue='subject'\n",
    ")\n",
    "\n",
    "#sns.pointplot(data=reading_box2, x='Year', y='avg', hue='gender', ci=None,\n",
    "              #dodge=.8 - .8 / 3, scale=0.7, color='red')\n",
    "\n",
    "sns.lineplot(data=box_med, x='variable', y='value', hue='subject', marker='o', ax=ax, linewidth=2.5,legend=False)\n",
    "plt.gcf().set_size_inches(10, plt.gcf().get_size_inches()[1])\n",
    "#plt.title(\"Female and male trend on reading\")\n",
    "plt.ylabel(\"Average Score\")\n",
    "plt.legend(loc='lower left')\n",
    "#plt.savefig('box_gender_reading.png')\n",
    "plt.show()"
   ]
  },
  {
   "cell_type": "code",
   "execution_count": null,
   "metadata": {},
   "outputs": [
    {
     "data": {
      "text/html": [
       "<div>\n",
       "<style scoped>\n",
       "    .dataframe tbody tr th:only-of-type {\n",
       "        vertical-align: middle;\n",
       "    }\n",
       "\n",
       "    .dataframe tbody tr th {\n",
       "        vertical-align: top;\n",
       "    }\n",
       "\n",
       "    .dataframe thead th {\n",
       "        text-align: right;\n",
       "    }\n",
       "</style>\n",
       "<table border=\"1\" class=\"dataframe\">\n",
       "  <thead>\n",
       "    <tr style=\"text-align: right;\">\n",
       "      <th></th>\n",
       "      <th>Countries</th>\n",
       "      <th>2000</th>\n",
       "      <th>se_2000</th>\n",
       "    </tr>\n",
       "  </thead>\n",
       "  <tbody>\n",
       "    <tr>\n",
       "      <th>0</th>\n",
       "      <td>Australia</td>\n",
       "      <td>-0.019186</td>\n",
       "      <td>0.027297</td>\n",
       "    </tr>\n",
       "    <tr>\n",
       "      <th>1</th>\n",
       "      <td>Austria</td>\n",
       "      <td>-0.285752</td>\n",
       "      <td>0.017113</td>\n",
       "    </tr>\n",
       "    <tr>\n",
       "      <th>2</th>\n",
       "      <td>Belgium</td>\n",
       "      <td>-0.208324</td>\n",
       "      <td>0.018945</td>\n",
       "    </tr>\n",
       "    <tr>\n",
       "      <th>3</th>\n",
       "      <td>Canada</td>\n",
       "      <td>0.182046</td>\n",
       "      <td>0.012478</td>\n",
       "    </tr>\n",
       "    <tr>\n",
       "      <th>4</th>\n",
       "      <td>Chile</td>\n",
       "      <td>-1.135024</td>\n",
       "      <td>0.035342</td>\n",
       "    </tr>\n",
       "    <tr>\n",
       "      <th>...</th>\n",
       "      <td>...</td>\n",
       "      <td>...</td>\n",
       "      <td>...</td>\n",
       "    </tr>\n",
       "    <tr>\n",
       "      <th>82</th>\n",
       "      <td>Tunisia</td>\n",
       "      <td>—</td>\n",
       "      <td>†</td>\n",
       "    </tr>\n",
       "    <tr>\n",
       "      <th>83</th>\n",
       "      <td>Ukraine</td>\n",
       "      <td>—</td>\n",
       "      <td>†</td>\n",
       "    </tr>\n",
       "    <tr>\n",
       "      <th>84</th>\n",
       "      <td>United Arab Emirates</td>\n",
       "      <td>—</td>\n",
       "      <td>†</td>\n",
       "    </tr>\n",
       "    <tr>\n",
       "      <th>85</th>\n",
       "      <td>Uruguay</td>\n",
       "      <td>—</td>\n",
       "      <td>†</td>\n",
       "    </tr>\n",
       "    <tr>\n",
       "      <th>86</th>\n",
       "      <td>Viet Nam</td>\n",
       "      <td>—</td>\n",
       "      <td>†</td>\n",
       "    </tr>\n",
       "  </tbody>\n",
       "</table>\n",
       "<p>87 rows × 3 columns</p>\n",
       "</div>"
      ],
      "text/plain": [
       "               Countries      2000   se_2000\n",
       "0              Australia -0.019186  0.027297\n",
       "1                Austria -0.285752  0.017113\n",
       "2                Belgium -0.208324  0.018945\n",
       "3                 Canada  0.182046  0.012478\n",
       "4                  Chile -1.135024  0.035342\n",
       "..                   ...       ...       ...\n",
       "82               Tunisia         —         †\n",
       "83               Ukraine         —         †\n",
       "84  United Arab Emirates         —         †\n",
       "85               Uruguay         —         †\n",
       "86              Viet Nam         —         †\n",
       "\n",
       "[87 rows x 3 columns]"
      ]
     },
     "execution_count": 153,
     "metadata": {},
     "output_type": "execute_result"
    }
   ],
   "source": [
    "ses2000 = pd.read_excel(\"../data_all/ses/ses2000.xls\",sheet_name='Report 1- Table',skiprows=[1,2,3,4,5,6,7,8,9,10,11,100,101,102,103,104])\n",
    "ses2000.drop(['Unnamed: 0', 'Unnamed: 1'], axis=1, inplace=True)\n",
    "ses2000.rename({'Unnamed: 2': 'Countries', 'Unnamed: 3': '2000', 'Unnamed: 4': 'se_2000'}, axis=1, inplace=True)\n",
    "ses2000 = ses2000.drop(index=[87])\n",
    "ses2000"
   ]
  },
  {
   "cell_type": "code",
   "execution_count": null,
   "metadata": {},
   "outputs": [
    {
     "data": {
      "text/html": [
       "<div>\n",
       "<style scoped>\n",
       "    .dataframe tbody tr th:only-of-type {\n",
       "        vertical-align: middle;\n",
       "    }\n",
       "\n",
       "    .dataframe tbody tr th {\n",
       "        vertical-align: top;\n",
       "    }\n",
       "\n",
       "    .dataframe thead th {\n",
       "        text-align: right;\n",
       "    }\n",
       "</style>\n",
       "<table border=\"1\" class=\"dataframe\">\n",
       "  <thead>\n",
       "    <tr style=\"text-align: right;\">\n",
       "      <th></th>\n",
       "      <th>Countries</th>\n",
       "      <th>2003</th>\n",
       "      <th>se_2003</th>\n",
       "    </tr>\n",
       "  </thead>\n",
       "  <tbody>\n",
       "    <tr>\n",
       "      <th>0</th>\n",
       "      <td>Australia</td>\n",
       "      <td>0.042307</td>\n",
       "      <td>0.018883</td>\n",
       "    </tr>\n",
       "    <tr>\n",
       "      <th>1</th>\n",
       "      <td>Austria</td>\n",
       "      <td>-0.259947</td>\n",
       "      <td>0.026197</td>\n",
       "    </tr>\n",
       "    <tr>\n",
       "      <th>2</th>\n",
       "      <td>Belgium</td>\n",
       "      <td>-0.026686</td>\n",
       "      <td>0.024314</td>\n",
       "    </tr>\n",
       "    <tr>\n",
       "      <th>3</th>\n",
       "      <td>Canada</td>\n",
       "      <td>0.214641</td>\n",
       "      <td>0.017242</td>\n",
       "    </tr>\n",
       "    <tr>\n",
       "      <th>4</th>\n",
       "      <td>Chile</td>\n",
       "      <td>—</td>\n",
       "      <td>†</td>\n",
       "    </tr>\n",
       "    <tr>\n",
       "      <th>...</th>\n",
       "      <td>...</td>\n",
       "      <td>...</td>\n",
       "      <td>...</td>\n",
       "    </tr>\n",
       "    <tr>\n",
       "      <th>82</th>\n",
       "      <td>Tunisia</td>\n",
       "      <td>-1.690703</td>\n",
       "      <td>0.041596</td>\n",
       "    </tr>\n",
       "    <tr>\n",
       "      <th>83</th>\n",
       "      <td>Ukraine</td>\n",
       "      <td>—</td>\n",
       "      <td>†</td>\n",
       "    </tr>\n",
       "    <tr>\n",
       "      <th>84</th>\n",
       "      <td>United Arab Emirates</td>\n",
       "      <td>—</td>\n",
       "      <td>†</td>\n",
       "    </tr>\n",
       "    <tr>\n",
       "      <th>85</th>\n",
       "      <td>Uruguay</td>\n",
       "      <td>-0.761629</td>\n",
       "      <td>0.035478</td>\n",
       "    </tr>\n",
       "    <tr>\n",
       "      <th>86</th>\n",
       "      <td>Viet Nam</td>\n",
       "      <td>—</td>\n",
       "      <td>†</td>\n",
       "    </tr>\n",
       "  </tbody>\n",
       "</table>\n",
       "<p>87 rows × 3 columns</p>\n",
       "</div>"
      ],
      "text/plain": [
       "               Countries      2003   se_2003\n",
       "0              Australia  0.042307  0.018883\n",
       "1                Austria -0.259947  0.026197\n",
       "2                Belgium -0.026686  0.024314\n",
       "3                 Canada  0.214641  0.017242\n",
       "4                  Chile         —         †\n",
       "..                   ...       ...       ...\n",
       "82               Tunisia -1.690703  0.041596\n",
       "83               Ukraine         —         †\n",
       "84  United Arab Emirates         —         †\n",
       "85               Uruguay -0.761629  0.035478\n",
       "86              Viet Nam         —         †\n",
       "\n",
       "[87 rows x 3 columns]"
      ]
     },
     "execution_count": 154,
     "metadata": {},
     "output_type": "execute_result"
    }
   ],
   "source": [
    "ses2003 = pd.read_excel(\"../data_all/ses/ses2003.xls\",sheet_name='Report 1- Table',skiprows=[1,2,3,4,5,6,7,8,9,10,11,100,101,102,103,104])\n",
    "ses2003.drop(['Unnamed: 0', 'Unnamed: 1'], axis=1, inplace=True)\n",
    "ses2003.rename({'Unnamed: 2': 'Countries', 'Unnamed: 3': '2003', 'Unnamed: 4': 'se_2003'}, axis=1, inplace=True)\n",
    "ses2003 = ses2003.drop(index=[87])\n",
    "ses2003"
   ]
  },
  {
   "cell_type": "code",
   "execution_count": null,
   "metadata": {},
   "outputs": [
    {
     "data": {
      "text/html": [
       "<div>\n",
       "<style scoped>\n",
       "    .dataframe tbody tr th:only-of-type {\n",
       "        vertical-align: middle;\n",
       "    }\n",
       "\n",
       "    .dataframe tbody tr th {\n",
       "        vertical-align: top;\n",
       "    }\n",
       "\n",
       "    .dataframe thead th {\n",
       "        text-align: right;\n",
       "    }\n",
       "</style>\n",
       "<table border=\"1\" class=\"dataframe\">\n",
       "  <thead>\n",
       "    <tr style=\"text-align: right;\">\n",
       "      <th></th>\n",
       "      <th>Countries</th>\n",
       "      <th>2006</th>\n",
       "      <th>se_2006</th>\n",
       "    </tr>\n",
       "  </thead>\n",
       "  <tbody>\n",
       "    <tr>\n",
       "      <th>0</th>\n",
       "      <td>Australia</td>\n",
       "      <td>0.224844</td>\n",
       "      <td>0.013483</td>\n",
       "    </tr>\n",
       "    <tr>\n",
       "      <th>1</th>\n",
       "      <td>Austria</td>\n",
       "      <td>0.030975</td>\n",
       "      <td>0.021639</td>\n",
       "    </tr>\n",
       "    <tr>\n",
       "      <th>2</th>\n",
       "      <td>Belgium</td>\n",
       "      <td>0.065842</td>\n",
       "      <td>0.018476</td>\n",
       "    </tr>\n",
       "    <tr>\n",
       "      <th>3</th>\n",
       "      <td>Canada</td>\n",
       "      <td>0.30095</td>\n",
       "      <td>0.01613</td>\n",
       "    </tr>\n",
       "    <tr>\n",
       "      <th>4</th>\n",
       "      <td>Chile</td>\n",
       "      <td>-0.982702</td>\n",
       "      <td>0.058652</td>\n",
       "    </tr>\n",
       "    <tr>\n",
       "      <th>...</th>\n",
       "      <td>...</td>\n",
       "      <td>...</td>\n",
       "      <td>...</td>\n",
       "    </tr>\n",
       "    <tr>\n",
       "      <th>82</th>\n",
       "      <td>Tunisia</td>\n",
       "      <td>-1.304757</td>\n",
       "      <td>0.06418</td>\n",
       "    </tr>\n",
       "    <tr>\n",
       "      <th>83</th>\n",
       "      <td>Ukraine</td>\n",
       "      <td>—</td>\n",
       "      <td>†</td>\n",
       "    </tr>\n",
       "    <tr>\n",
       "      <th>84</th>\n",
       "      <td>United Arab Emirates</td>\n",
       "      <td>—</td>\n",
       "      <td>†</td>\n",
       "    </tr>\n",
       "    <tr>\n",
       "      <th>85</th>\n",
       "      <td>Uruguay</td>\n",
       "      <td>-0.790256</td>\n",
       "      <td>0.029126</td>\n",
       "    </tr>\n",
       "    <tr>\n",
       "      <th>86</th>\n",
       "      <td>Viet Nam</td>\n",
       "      <td>—</td>\n",
       "      <td>†</td>\n",
       "    </tr>\n",
       "  </tbody>\n",
       "</table>\n",
       "<p>87 rows × 3 columns</p>\n",
       "</div>"
      ],
      "text/plain": [
       "               Countries      2006   se_2006\n",
       "0              Australia  0.224844  0.013483\n",
       "1                Austria  0.030975  0.021639\n",
       "2                Belgium  0.065842  0.018476\n",
       "3                 Canada   0.30095   0.01613\n",
       "4                  Chile -0.982702  0.058652\n",
       "..                   ...       ...       ...\n",
       "82               Tunisia -1.304757   0.06418\n",
       "83               Ukraine         —         †\n",
       "84  United Arab Emirates         —         †\n",
       "85               Uruguay -0.790256  0.029126\n",
       "86              Viet Nam         —         †\n",
       "\n",
       "[87 rows x 3 columns]"
      ]
     },
     "execution_count": 155,
     "metadata": {},
     "output_type": "execute_result"
    }
   ],
   "source": [
    "ses2006 = pd.read_excel(\"../data_all/ses/ses2006.xls\",sheet_name='Report 1- Table',skiprows=[1,2,3,4,5,6,7,8,9,10,11,100,101,102,103,104])\n",
    "ses2006.drop(['Unnamed: 0', 'Unnamed: 1'], axis=1, inplace=True)\n",
    "ses2006.rename({'Unnamed: 2': 'Countries', 'Unnamed: 3': '2006', 'Unnamed: 4': 'se_2006'}, axis=1, inplace=True)\n",
    "ses2006 = ses2006.drop(index=[87])\n",
    "ses2006"
   ]
  },
  {
   "cell_type": "code",
   "execution_count": null,
   "metadata": {},
   "outputs": [
    {
     "data": {
      "text/html": [
       "<div>\n",
       "<style scoped>\n",
       "    .dataframe tbody tr th:only-of-type {\n",
       "        vertical-align: middle;\n",
       "    }\n",
       "\n",
       "    .dataframe tbody tr th {\n",
       "        vertical-align: top;\n",
       "    }\n",
       "\n",
       "    .dataframe thead th {\n",
       "        text-align: right;\n",
       "    }\n",
       "</style>\n",
       "<table border=\"1\" class=\"dataframe\">\n",
       "  <thead>\n",
       "    <tr style=\"text-align: right;\">\n",
       "      <th></th>\n",
       "      <th>Countries</th>\n",
       "      <th>2009</th>\n",
       "      <th>se_2009</th>\n",
       "    </tr>\n",
       "  </thead>\n",
       "  <tbody>\n",
       "    <tr>\n",
       "      <th>0</th>\n",
       "      <td>Australia</td>\n",
       "      <td>0.264432</td>\n",
       "      <td>0.011769</td>\n",
       "    </tr>\n",
       "    <tr>\n",
       "      <th>1</th>\n",
       "      <td>Austria</td>\n",
       "      <td>0.066481</td>\n",
       "      <td>0.015615</td>\n",
       "    </tr>\n",
       "    <tr>\n",
       "      <th>2</th>\n",
       "      <td>Belgium</td>\n",
       "      <td>0.161999</td>\n",
       "      <td>0.015874</td>\n",
       "    </tr>\n",
       "    <tr>\n",
       "      <th>3</th>\n",
       "      <td>Canada</td>\n",
       "      <td>0.435099</td>\n",
       "      <td>0.014838</td>\n",
       "    </tr>\n",
       "    <tr>\n",
       "      <th>4</th>\n",
       "      <td>Chile</td>\n",
       "      <td>-0.561192</td>\n",
       "      <td>0.030494</td>\n",
       "    </tr>\n",
       "    <tr>\n",
       "      <th>...</th>\n",
       "      <td>...</td>\n",
       "      <td>...</td>\n",
       "      <td>...</td>\n",
       "    </tr>\n",
       "    <tr>\n",
       "      <th>82</th>\n",
       "      <td>Tunisia</td>\n",
       "      <td>-1.420088</td>\n",
       "      <td>0.046523</td>\n",
       "    </tr>\n",
       "    <tr>\n",
       "      <th>83</th>\n",
       "      <td>Ukraine</td>\n",
       "      <td>—</td>\n",
       "      <td>†</td>\n",
       "    </tr>\n",
       "    <tr>\n",
       "      <th>84</th>\n",
       "      <td>United Arab Emirates</td>\n",
       "      <td>—</td>\n",
       "      <td>†</td>\n",
       "    </tr>\n",
       "    <tr>\n",
       "      <th>85</th>\n",
       "      <td>Uruguay</td>\n",
       "      <td>-0.877753</td>\n",
       "      <td>0.02406</td>\n",
       "    </tr>\n",
       "    <tr>\n",
       "      <th>86</th>\n",
       "      <td>Viet Nam</td>\n",
       "      <td>—</td>\n",
       "      <td>†</td>\n",
       "    </tr>\n",
       "  </tbody>\n",
       "</table>\n",
       "<p>87 rows × 3 columns</p>\n",
       "</div>"
      ],
      "text/plain": [
       "               Countries      2009   se_2009\n",
       "0              Australia  0.264432  0.011769\n",
       "1                Austria  0.066481  0.015615\n",
       "2                Belgium  0.161999  0.015874\n",
       "3                 Canada  0.435099  0.014838\n",
       "4                  Chile -0.561192  0.030494\n",
       "..                   ...       ...       ...\n",
       "82               Tunisia -1.420088  0.046523\n",
       "83               Ukraine         —         †\n",
       "84  United Arab Emirates         —         †\n",
       "85               Uruguay -0.877753   0.02406\n",
       "86              Viet Nam         —         †\n",
       "\n",
       "[87 rows x 3 columns]"
      ]
     },
     "execution_count": 156,
     "metadata": {},
     "output_type": "execute_result"
    }
   ],
   "source": [
    "ses2009 = pd.read_excel(\"../data_all/ses/ses2009.xls\",sheet_name='Report 1- Table',skiprows=[1,2,3,4,5,6,7,8,9,10,11,100,101,102,103,104])\n",
    "ses2009.drop(['Unnamed: 0', 'Unnamed: 1'], axis=1, inplace=True)\n",
    "ses2009.rename({'Unnamed: 2': 'Countries', 'Unnamed: 3': '2009', 'Unnamed: 4': 'se_2009'}, axis=1, inplace=True)\n",
    "ses2009 = ses2009.drop(index=[87])\n",
    "ses2009"
   ]
  },
  {
   "cell_type": "code",
   "execution_count": null,
   "metadata": {},
   "outputs": [
    {
     "data": {
      "text/html": [
       "<div>\n",
       "<style scoped>\n",
       "    .dataframe tbody tr th:only-of-type {\n",
       "        vertical-align: middle;\n",
       "    }\n",
       "\n",
       "    .dataframe tbody tr th {\n",
       "        vertical-align: top;\n",
       "    }\n",
       "\n",
       "    .dataframe thead th {\n",
       "        text-align: right;\n",
       "    }\n",
       "</style>\n",
       "<table border=\"1\" class=\"dataframe\">\n",
       "  <thead>\n",
       "    <tr style=\"text-align: right;\">\n",
       "      <th></th>\n",
       "      <th>Countries</th>\n",
       "      <th>2012</th>\n",
       "      <th>se_2012</th>\n",
       "    </tr>\n",
       "  </thead>\n",
       "  <tbody>\n",
       "    <tr>\n",
       "      <th>0</th>\n",
       "      <td>Australia</td>\n",
       "      <td>0.248422</td>\n",
       "      <td>0.011062</td>\n",
       "    </tr>\n",
       "    <tr>\n",
       "      <th>1</th>\n",
       "      <td>Austria</td>\n",
       "      <td>0.075396</td>\n",
       "      <td>0.023832</td>\n",
       "    </tr>\n",
       "    <tr>\n",
       "      <th>2</th>\n",
       "      <td>Belgium</td>\n",
       "      <td>0.145204</td>\n",
       "      <td>0.019854</td>\n",
       "    </tr>\n",
       "    <tr>\n",
       "      <th>3</th>\n",
       "      <td>Canada</td>\n",
       "      <td>0.412792</td>\n",
       "      <td>0.016385</td>\n",
       "    </tr>\n",
       "    <tr>\n",
       "      <th>4</th>\n",
       "      <td>Chile</td>\n",
       "      <td>-0.578971</td>\n",
       "      <td>0.036053</td>\n",
       "    </tr>\n",
       "    <tr>\n",
       "      <th>...</th>\n",
       "      <td>...</td>\n",
       "      <td>...</td>\n",
       "      <td>...</td>\n",
       "    </tr>\n",
       "    <tr>\n",
       "      <th>82</th>\n",
       "      <td>Tunisia</td>\n",
       "      <td>-1.192115</td>\n",
       "      <td>0.049019</td>\n",
       "    </tr>\n",
       "    <tr>\n",
       "      <th>83</th>\n",
       "      <td>Ukraine</td>\n",
       "      <td>—</td>\n",
       "      <td>†</td>\n",
       "    </tr>\n",
       "    <tr>\n",
       "      <th>84</th>\n",
       "      <td>United Arab Emirates</td>\n",
       "      <td>0.324637</td>\n",
       "      <td>0.015365</td>\n",
       "    </tr>\n",
       "    <tr>\n",
       "      <th>85</th>\n",
       "      <td>Uruguay</td>\n",
       "      <td>-0.883754</td>\n",
       "      <td>0.030304</td>\n",
       "    </tr>\n",
       "    <tr>\n",
       "      <th>86</th>\n",
       "      <td>Viet Nam</td>\n",
       "      <td>-1.809753</td>\n",
       "      <td>0.046358</td>\n",
       "    </tr>\n",
       "  </tbody>\n",
       "</table>\n",
       "<p>87 rows × 3 columns</p>\n",
       "</div>"
      ],
      "text/plain": [
       "               Countries      2012   se_2012\n",
       "0              Australia  0.248422  0.011062\n",
       "1                Austria  0.075396  0.023832\n",
       "2                Belgium  0.145204  0.019854\n",
       "3                 Canada  0.412792  0.016385\n",
       "4                  Chile -0.578971  0.036053\n",
       "..                   ...       ...       ...\n",
       "82               Tunisia -1.192115  0.049019\n",
       "83               Ukraine         —         †\n",
       "84  United Arab Emirates  0.324637  0.015365\n",
       "85               Uruguay -0.883754  0.030304\n",
       "86              Viet Nam -1.809753  0.046358\n",
       "\n",
       "[87 rows x 3 columns]"
      ]
     },
     "execution_count": 157,
     "metadata": {},
     "output_type": "execute_result"
    }
   ],
   "source": [
    "ses2012 = pd.read_excel(\"../data_all/ses/ses2012.xls\",sheet_name='Report 1- Table',skiprows=[1,2,3,4,5,6,7,8,9,10,11,100,101,102,103,104])\n",
    "ses2012.drop(['Unnamed: 0', 'Unnamed: 1'], axis=1, inplace=True)\n",
    "ses2012.rename({'Unnamed: 2': 'Countries', 'Unnamed: 3': '2012', 'Unnamed: 4': 'se_2012'}, axis=1, inplace=True)\n",
    "ses2012 = ses2012.drop(index=[87])\n",
    "ses2012"
   ]
  },
  {
   "cell_type": "code",
   "execution_count": null,
   "metadata": {},
   "outputs": [
    {
     "data": {
      "text/html": [
       "<div>\n",
       "<style scoped>\n",
       "    .dataframe tbody tr th:only-of-type {\n",
       "        vertical-align: middle;\n",
       "    }\n",
       "\n",
       "    .dataframe tbody tr th {\n",
       "        vertical-align: top;\n",
       "    }\n",
       "\n",
       "    .dataframe thead th {\n",
       "        text-align: right;\n",
       "    }\n",
       "</style>\n",
       "<table border=\"1\" class=\"dataframe\">\n",
       "  <thead>\n",
       "    <tr style=\"text-align: right;\">\n",
       "      <th></th>\n",
       "      <th>Countries</th>\n",
       "      <th>2015</th>\n",
       "      <th>se_2015</th>\n",
       "    </tr>\n",
       "  </thead>\n",
       "  <tbody>\n",
       "    <tr>\n",
       "      <th>0</th>\n",
       "      <td>Australia</td>\n",
       "      <td>0.26949</td>\n",
       "      <td>0.011543</td>\n",
       "    </tr>\n",
       "    <tr>\n",
       "      <th>1</th>\n",
       "      <td>Austria</td>\n",
       "      <td>0.092285</td>\n",
       "      <td>0.020588</td>\n",
       "    </tr>\n",
       "    <tr>\n",
       "      <th>2</th>\n",
       "      <td>Belgium</td>\n",
       "      <td>0.164893</td>\n",
       "      <td>0.021168</td>\n",
       "    </tr>\n",
       "    <tr>\n",
       "      <th>3</th>\n",
       "      <td>Canada</td>\n",
       "      <td>0.531706</td>\n",
       "      <td>0.018442</td>\n",
       "    </tr>\n",
       "    <tr>\n",
       "      <th>4</th>\n",
       "      <td>Chile</td>\n",
       "      <td>-0.485767</td>\n",
       "      <td>0.028229</td>\n",
       "    </tr>\n",
       "    <tr>\n",
       "      <th>...</th>\n",
       "      <td>...</td>\n",
       "      <td>...</td>\n",
       "      <td>...</td>\n",
       "    </tr>\n",
       "    <tr>\n",
       "      <th>82</th>\n",
       "      <td>Tunisia</td>\n",
       "      <td>-0.834086</td>\n",
       "      <td>0.030487</td>\n",
       "    </tr>\n",
       "    <tr>\n",
       "      <th>83</th>\n",
       "      <td>Ukraine</td>\n",
       "      <td>—</td>\n",
       "      <td>†</td>\n",
       "    </tr>\n",
       "    <tr>\n",
       "      <th>84</th>\n",
       "      <td>United Arab Emirates</td>\n",
       "      <td>0.499548</td>\n",
       "      <td>0.01285</td>\n",
       "    </tr>\n",
       "    <tr>\n",
       "      <th>85</th>\n",
       "      <td>Uruguay</td>\n",
       "      <td>-0.777777</td>\n",
       "      <td>0.023767</td>\n",
       "    </tr>\n",
       "    <tr>\n",
       "      <th>86</th>\n",
       "      <td>Viet Nam</td>\n",
       "      <td>-1.867367</td>\n",
       "      <td>0.045009</td>\n",
       "    </tr>\n",
       "  </tbody>\n",
       "</table>\n",
       "<p>87 rows × 3 columns</p>\n",
       "</div>"
      ],
      "text/plain": [
       "               Countries      2015   se_2015\n",
       "0              Australia   0.26949  0.011543\n",
       "1                Austria  0.092285  0.020588\n",
       "2                Belgium  0.164893  0.021168\n",
       "3                 Canada  0.531706  0.018442\n",
       "4                  Chile -0.485767  0.028229\n",
       "..                   ...       ...       ...\n",
       "82               Tunisia -0.834086  0.030487\n",
       "83               Ukraine         —         †\n",
       "84  United Arab Emirates  0.499548   0.01285\n",
       "85               Uruguay -0.777777  0.023767\n",
       "86              Viet Nam -1.867367  0.045009\n",
       "\n",
       "[87 rows x 3 columns]"
      ]
     },
     "execution_count": 158,
     "metadata": {},
     "output_type": "execute_result"
    }
   ],
   "source": [
    "ses2015 = pd.read_excel(\"../data_all/ses/ses2015.xls\",sheet_name='Report 1- Table',skiprows=[1,2,3,4,5,6,7,8,9,10,11,100,101,102,103,104])\n",
    "ses2015.drop(['Unnamed: 0', 'Unnamed: 1'], axis=1, inplace=True)\n",
    "ses2015.rename({'Unnamed: 2': 'Countries', 'Unnamed: 3': '2015', 'Unnamed: 4': 'se_2015'}, axis=1, inplace=True)\n",
    "ses2015 = ses2015.drop(index=[87])\n",
    "ses2015"
   ]
  },
  {
   "cell_type": "code",
   "execution_count": null,
   "metadata": {},
   "outputs": [
    {
     "data": {
      "text/html": [
       "<div>\n",
       "<style scoped>\n",
       "    .dataframe tbody tr th:only-of-type {\n",
       "        vertical-align: middle;\n",
       "    }\n",
       "\n",
       "    .dataframe tbody tr th {\n",
       "        vertical-align: top;\n",
       "    }\n",
       "\n",
       "    .dataframe thead th {\n",
       "        text-align: right;\n",
       "    }\n",
       "</style>\n",
       "<table border=\"1\" class=\"dataframe\">\n",
       "  <thead>\n",
       "    <tr style=\"text-align: right;\">\n",
       "      <th></th>\n",
       "      <th>Countries</th>\n",
       "      <th>2018</th>\n",
       "      <th>se_2018</th>\n",
       "    </tr>\n",
       "  </thead>\n",
       "  <tbody>\n",
       "    <tr>\n",
       "      <th>0</th>\n",
       "      <td>Australia</td>\n",
       "      <td>0.315118</td>\n",
       "      <td>0.014153</td>\n",
       "    </tr>\n",
       "    <tr>\n",
       "      <th>1</th>\n",
       "      <td>Austria</td>\n",
       "      <td>0.014224</td>\n",
       "      <td>0.019015</td>\n",
       "    </tr>\n",
       "    <tr>\n",
       "      <th>2</th>\n",
       "      <td>Belgium</td>\n",
       "      <td>0.071229</td>\n",
       "      <td>0.017163</td>\n",
       "    </tr>\n",
       "    <tr>\n",
       "      <th>3</th>\n",
       "      <td>Canada</td>\n",
       "      <td>0.417759</td>\n",
       "      <td>0.014629</td>\n",
       "    </tr>\n",
       "    <tr>\n",
       "      <th>4</th>\n",
       "      <td>Chile</td>\n",
       "      <td>-0.58217</td>\n",
       "      <td>0.027369</td>\n",
       "    </tr>\n",
       "    <tr>\n",
       "      <th>...</th>\n",
       "      <td>...</td>\n",
       "      <td>...</td>\n",
       "      <td>...</td>\n",
       "    </tr>\n",
       "    <tr>\n",
       "      <th>82</th>\n",
       "      <td>Tunisia</td>\n",
       "      <td>—</td>\n",
       "      <td>†</td>\n",
       "    </tr>\n",
       "    <tr>\n",
       "      <th>83</th>\n",
       "      <td>Ukraine</td>\n",
       "      <td>-0.20417</td>\n",
       "      <td>0.024814</td>\n",
       "    </tr>\n",
       "    <tr>\n",
       "      <th>84</th>\n",
       "      <td>United Arab Emirates</td>\n",
       "      <td>0.276821</td>\n",
       "      <td>0.016461</td>\n",
       "    </tr>\n",
       "    <tr>\n",
       "      <th>85</th>\n",
       "      <td>Uruguay</td>\n",
       "      <td>-0.991896</td>\n",
       "      <td>0.038545</td>\n",
       "    </tr>\n",
       "    <tr>\n",
       "      <th>86</th>\n",
       "      <td>Viet Nam</td>\n",
       "      <td>-1.621611</td>\n",
       "      <td>0.05185</td>\n",
       "    </tr>\n",
       "  </tbody>\n",
       "</table>\n",
       "<p>87 rows × 3 columns</p>\n",
       "</div>"
      ],
      "text/plain": [
       "               Countries      2018   se_2018\n",
       "0              Australia  0.315118  0.014153\n",
       "1                Austria  0.014224  0.019015\n",
       "2                Belgium  0.071229  0.017163\n",
       "3                 Canada  0.417759  0.014629\n",
       "4                  Chile  -0.58217  0.027369\n",
       "..                   ...       ...       ...\n",
       "82               Tunisia         —         †\n",
       "83               Ukraine  -0.20417  0.024814\n",
       "84  United Arab Emirates  0.276821  0.016461\n",
       "85               Uruguay -0.991896  0.038545\n",
       "86              Viet Nam -1.621611   0.05185\n",
       "\n",
       "[87 rows x 3 columns]"
      ]
     },
     "execution_count": 159,
     "metadata": {},
     "output_type": "execute_result"
    }
   ],
   "source": [
    "ses2018 = pd.read_excel(\"../data_all/ses/ses2018.xls\",sheet_name='Report 1- Table',skiprows=[1,2,3,4,5,6,7,8,9,10,11,100,101,102,103,104])\n",
    "ses2018.drop(['Unnamed: 0', 'Unnamed: 1'], axis=1, inplace=True)\n",
    "ses2018.rename({'Unnamed: 2': 'Countries', 'Unnamed: 3': '2018', 'Unnamed: 4': 'se_2018'}, axis=1, inplace=True)\n",
    "ses2018 = ses2018.drop(index=[87])\n",
    "ses2018"
   ]
  },
  {
   "cell_type": "code",
   "execution_count": null,
   "metadata": {},
   "outputs": [
    {
     "data": {
      "text/html": [
       "<div>\n",
       "<style scoped>\n",
       "    .dataframe tbody tr th:only-of-type {\n",
       "        vertical-align: middle;\n",
       "    }\n",
       "\n",
       "    .dataframe tbody tr th {\n",
       "        vertical-align: top;\n",
       "    }\n",
       "\n",
       "    .dataframe thead th {\n",
       "        text-align: right;\n",
       "    }\n",
       "</style>\n",
       "<table border=\"1\" class=\"dataframe\">\n",
       "  <thead>\n",
       "    <tr style=\"text-align: right;\">\n",
       "      <th></th>\n",
       "      <th>Countries</th>\n",
       "      <th>2000</th>\n",
       "      <th>se_2000</th>\n",
       "      <th>2003</th>\n",
       "      <th>se_2003</th>\n",
       "      <th>2006</th>\n",
       "      <th>se_2006</th>\n",
       "      <th>2009</th>\n",
       "      <th>se_2009</th>\n",
       "      <th>2012</th>\n",
       "      <th>se_2012</th>\n",
       "      <th>2015</th>\n",
       "      <th>se_2015</th>\n",
       "      <th>2018</th>\n",
       "      <th>se_2018</th>\n",
       "    </tr>\n",
       "  </thead>\n",
       "  <tbody>\n",
       "    <tr>\n",
       "      <th>0</th>\n",
       "      <td>Australia</td>\n",
       "      <td>-0.019186</td>\n",
       "      <td>0.027297</td>\n",
       "      <td>0.042307</td>\n",
       "      <td>0.018883</td>\n",
       "      <td>0.224844</td>\n",
       "      <td>0.013483</td>\n",
       "      <td>0.264432</td>\n",
       "      <td>0.011769</td>\n",
       "      <td>0.248422</td>\n",
       "      <td>0.011062</td>\n",
       "      <td>0.26949</td>\n",
       "      <td>0.011543</td>\n",
       "      <td>0.315118</td>\n",
       "      <td>0.014153</td>\n",
       "    </tr>\n",
       "    <tr>\n",
       "      <th>1</th>\n",
       "      <td>Austria</td>\n",
       "      <td>-0.285752</td>\n",
       "      <td>0.017113</td>\n",
       "      <td>-0.259947</td>\n",
       "      <td>0.026197</td>\n",
       "      <td>0.030975</td>\n",
       "      <td>0.021639</td>\n",
       "      <td>0.066481</td>\n",
       "      <td>0.015615</td>\n",
       "      <td>0.075396</td>\n",
       "      <td>0.023832</td>\n",
       "      <td>0.092285</td>\n",
       "      <td>0.020588</td>\n",
       "      <td>0.014224</td>\n",
       "      <td>0.019015</td>\n",
       "    </tr>\n",
       "    <tr>\n",
       "      <th>2</th>\n",
       "      <td>Belgium</td>\n",
       "      <td>-0.208324</td>\n",
       "      <td>0.018945</td>\n",
       "      <td>-0.026686</td>\n",
       "      <td>0.024314</td>\n",
       "      <td>0.065842</td>\n",
       "      <td>0.018476</td>\n",
       "      <td>0.161999</td>\n",
       "      <td>0.015874</td>\n",
       "      <td>0.145204</td>\n",
       "      <td>0.019854</td>\n",
       "      <td>0.164893</td>\n",
       "      <td>0.021168</td>\n",
       "      <td>0.071229</td>\n",
       "      <td>0.017163</td>\n",
       "    </tr>\n",
       "    <tr>\n",
       "      <th>3</th>\n",
       "      <td>Canada</td>\n",
       "      <td>0.182046</td>\n",
       "      <td>0.012478</td>\n",
       "      <td>0.214641</td>\n",
       "      <td>0.017242</td>\n",
       "      <td>0.30095</td>\n",
       "      <td>0.01613</td>\n",
       "      <td>0.435099</td>\n",
       "      <td>0.014838</td>\n",
       "      <td>0.412792</td>\n",
       "      <td>0.016385</td>\n",
       "      <td>0.531706</td>\n",
       "      <td>0.018442</td>\n",
       "      <td>0.417759</td>\n",
       "      <td>0.014629</td>\n",
       "    </tr>\n",
       "    <tr>\n",
       "      <th>4</th>\n",
       "      <td>Chile</td>\n",
       "      <td>-1.135024</td>\n",
       "      <td>0.035342</td>\n",
       "      <td>—</td>\n",
       "      <td>†</td>\n",
       "      <td>-0.982702</td>\n",
       "      <td>0.058652</td>\n",
       "      <td>-0.561192</td>\n",
       "      <td>0.030494</td>\n",
       "      <td>-0.578971</td>\n",
       "      <td>0.036053</td>\n",
       "      <td>-0.485767</td>\n",
       "      <td>0.028229</td>\n",
       "      <td>-0.58217</td>\n",
       "      <td>0.027369</td>\n",
       "    </tr>\n",
       "    <tr>\n",
       "      <th>...</th>\n",
       "      <td>...</td>\n",
       "      <td>...</td>\n",
       "      <td>...</td>\n",
       "      <td>...</td>\n",
       "      <td>...</td>\n",
       "      <td>...</td>\n",
       "      <td>...</td>\n",
       "      <td>...</td>\n",
       "      <td>...</td>\n",
       "      <td>...</td>\n",
       "      <td>...</td>\n",
       "      <td>...</td>\n",
       "      <td>...</td>\n",
       "      <td>...</td>\n",
       "      <td>...</td>\n",
       "    </tr>\n",
       "    <tr>\n",
       "      <th>82</th>\n",
       "      <td>Tunisia</td>\n",
       "      <td>—</td>\n",
       "      <td>†</td>\n",
       "      <td>-1.690703</td>\n",
       "      <td>0.041596</td>\n",
       "      <td>-1.304757</td>\n",
       "      <td>0.06418</td>\n",
       "      <td>-1.420088</td>\n",
       "      <td>0.046523</td>\n",
       "      <td>-1.192115</td>\n",
       "      <td>0.049019</td>\n",
       "      <td>-0.834086</td>\n",
       "      <td>0.030487</td>\n",
       "      <td>—</td>\n",
       "      <td>†</td>\n",
       "    </tr>\n",
       "    <tr>\n",
       "      <th>83</th>\n",
       "      <td>Ukraine</td>\n",
       "      <td>—</td>\n",
       "      <td>†</td>\n",
       "      <td>—</td>\n",
       "      <td>†</td>\n",
       "      <td>—</td>\n",
       "      <td>†</td>\n",
       "      <td>—</td>\n",
       "      <td>†</td>\n",
       "      <td>—</td>\n",
       "      <td>†</td>\n",
       "      <td>—</td>\n",
       "      <td>†</td>\n",
       "      <td>-0.20417</td>\n",
       "      <td>0.024814</td>\n",
       "    </tr>\n",
       "    <tr>\n",
       "      <th>84</th>\n",
       "      <td>United Arab Emirates</td>\n",
       "      <td>—</td>\n",
       "      <td>†</td>\n",
       "      <td>—</td>\n",
       "      <td>†</td>\n",
       "      <td>—</td>\n",
       "      <td>†</td>\n",
       "      <td>—</td>\n",
       "      <td>†</td>\n",
       "      <td>0.324637</td>\n",
       "      <td>0.015365</td>\n",
       "      <td>0.499548</td>\n",
       "      <td>0.01285</td>\n",
       "      <td>0.276821</td>\n",
       "      <td>0.016461</td>\n",
       "    </tr>\n",
       "    <tr>\n",
       "      <th>85</th>\n",
       "      <td>Uruguay</td>\n",
       "      <td>—</td>\n",
       "      <td>†</td>\n",
       "      <td>-0.761629</td>\n",
       "      <td>0.035478</td>\n",
       "      <td>-0.790256</td>\n",
       "      <td>0.029126</td>\n",
       "      <td>-0.877753</td>\n",
       "      <td>0.02406</td>\n",
       "      <td>-0.883754</td>\n",
       "      <td>0.030304</td>\n",
       "      <td>-0.777777</td>\n",
       "      <td>0.023767</td>\n",
       "      <td>-0.991896</td>\n",
       "      <td>0.038545</td>\n",
       "    </tr>\n",
       "    <tr>\n",
       "      <th>86</th>\n",
       "      <td>Viet Nam</td>\n",
       "      <td>—</td>\n",
       "      <td>†</td>\n",
       "      <td>—</td>\n",
       "      <td>†</td>\n",
       "      <td>—</td>\n",
       "      <td>†</td>\n",
       "      <td>—</td>\n",
       "      <td>†</td>\n",
       "      <td>-1.809753</td>\n",
       "      <td>0.046358</td>\n",
       "      <td>-1.867367</td>\n",
       "      <td>0.045009</td>\n",
       "      <td>-1.621611</td>\n",
       "      <td>0.05185</td>\n",
       "    </tr>\n",
       "  </tbody>\n",
       "</table>\n",
       "<p>87 rows × 15 columns</p>\n",
       "</div>"
      ],
      "text/plain": [
       "               Countries      2000   se_2000      2003   se_2003      2006  \\\n",
       "0              Australia -0.019186  0.027297  0.042307  0.018883  0.224844   \n",
       "1                Austria -0.285752  0.017113 -0.259947  0.026197  0.030975   \n",
       "2                Belgium -0.208324  0.018945 -0.026686  0.024314  0.065842   \n",
       "3                 Canada  0.182046  0.012478  0.214641  0.017242   0.30095   \n",
       "4                  Chile -1.135024  0.035342         —         † -0.982702   \n",
       "..                   ...       ...       ...       ...       ...       ...   \n",
       "82               Tunisia         —         † -1.690703  0.041596 -1.304757   \n",
       "83               Ukraine         —         †         —         †         —   \n",
       "84  United Arab Emirates         —         †         —         †         —   \n",
       "85               Uruguay         —         † -0.761629  0.035478 -0.790256   \n",
       "86              Viet Nam         —         †         —         †         —   \n",
       "\n",
       "     se_2006      2009   se_2009      2012   se_2012      2015   se_2015  \\\n",
       "0   0.013483  0.264432  0.011769  0.248422  0.011062   0.26949  0.011543   \n",
       "1   0.021639  0.066481  0.015615  0.075396  0.023832  0.092285  0.020588   \n",
       "2   0.018476  0.161999  0.015874  0.145204  0.019854  0.164893  0.021168   \n",
       "3    0.01613  0.435099  0.014838  0.412792  0.016385  0.531706  0.018442   \n",
       "4   0.058652 -0.561192  0.030494 -0.578971  0.036053 -0.485767  0.028229   \n",
       "..       ...       ...       ...       ...       ...       ...       ...   \n",
       "82   0.06418 -1.420088  0.046523 -1.192115  0.049019 -0.834086  0.030487   \n",
       "83         †         —         †         —         †         —         †   \n",
       "84         †         —         †  0.324637  0.015365  0.499548   0.01285   \n",
       "85  0.029126 -0.877753   0.02406 -0.883754  0.030304 -0.777777  0.023767   \n",
       "86         †         —         † -1.809753  0.046358 -1.867367  0.045009   \n",
       "\n",
       "        2018   se_2018  \n",
       "0   0.315118  0.014153  \n",
       "1   0.014224  0.019015  \n",
       "2   0.071229  0.017163  \n",
       "3   0.417759  0.014629  \n",
       "4   -0.58217  0.027369  \n",
       "..       ...       ...  \n",
       "82         —         †  \n",
       "83  -0.20417  0.024814  \n",
       "84  0.276821  0.016461  \n",
       "85 -0.991896  0.038545  \n",
       "86 -1.621611   0.05185  \n",
       "\n",
       "[87 rows x 15 columns]"
      ]
     },
     "execution_count": 160,
     "metadata": {},
     "output_type": "execute_result"
    }
   ],
   "source": [
    "ses = pd.merge(pd.merge(pd.merge(pd.merge(pd.merge(pd.merge(ses2000,ses2003,on='Countries'), ses2006, on='Countries'), ses2009, on='Countries'), ses2012, on='Countries'),ses2015, on='Countries'), ses2018, on='Countries')\n",
    "ses"
   ]
  },
  {
   "cell_type": "code",
   "execution_count": null,
   "metadata": {},
   "outputs": [
    {
     "data": {
      "text/html": [
       "<div>\n",
       "<style scoped>\n",
       "    .dataframe tbody tr th:only-of-type {\n",
       "        vertical-align: middle;\n",
       "    }\n",
       "\n",
       "    .dataframe tbody tr th {\n",
       "        vertical-align: top;\n",
       "    }\n",
       "\n",
       "    .dataframe thead th {\n",
       "        text-align: right;\n",
       "    }\n",
       "</style>\n",
       "<table border=\"1\" class=\"dataframe\">\n",
       "  <thead>\n",
       "    <tr style=\"text-align: right;\">\n",
       "      <th></th>\n",
       "      <th>Countries</th>\n",
       "      <th>2000</th>\n",
       "      <th>se_2000</th>\n",
       "      <th>2003</th>\n",
       "      <th>se_2003</th>\n",
       "      <th>2006</th>\n",
       "      <th>se_2006</th>\n",
       "      <th>2009</th>\n",
       "      <th>se_2009</th>\n",
       "      <th>2012</th>\n",
       "      <th>se_2012</th>\n",
       "      <th>2015</th>\n",
       "      <th>se_2015</th>\n",
       "      <th>2018</th>\n",
       "      <th>se_2018</th>\n",
       "    </tr>\n",
       "  </thead>\n",
       "  <tbody>\n",
       "    <tr>\n",
       "      <th>0</th>\n",
       "      <td>Australia</td>\n",
       "      <td>-0.019186</td>\n",
       "      <td>0.027297</td>\n",
       "      <td>0.042307</td>\n",
       "      <td>0.018883</td>\n",
       "      <td>0.224844</td>\n",
       "      <td>0.013483</td>\n",
       "      <td>0.264432</td>\n",
       "      <td>0.011769</td>\n",
       "      <td>0.248422</td>\n",
       "      <td>0.011062</td>\n",
       "      <td>0.269490</td>\n",
       "      <td>0.011543</td>\n",
       "      <td>0.315118</td>\n",
       "      <td>0.014153</td>\n",
       "    </tr>\n",
       "    <tr>\n",
       "      <th>1</th>\n",
       "      <td>Austria</td>\n",
       "      <td>-0.285752</td>\n",
       "      <td>0.017113</td>\n",
       "      <td>-0.259947</td>\n",
       "      <td>0.026197</td>\n",
       "      <td>0.030975</td>\n",
       "      <td>0.021639</td>\n",
       "      <td>0.066481</td>\n",
       "      <td>0.015615</td>\n",
       "      <td>0.075396</td>\n",
       "      <td>0.023832</td>\n",
       "      <td>0.092285</td>\n",
       "      <td>0.020588</td>\n",
       "      <td>0.014224</td>\n",
       "      <td>0.019015</td>\n",
       "    </tr>\n",
       "    <tr>\n",
       "      <th>2</th>\n",
       "      <td>Belgium</td>\n",
       "      <td>-0.208324</td>\n",
       "      <td>0.018945</td>\n",
       "      <td>-0.026686</td>\n",
       "      <td>0.024314</td>\n",
       "      <td>0.065842</td>\n",
       "      <td>0.018476</td>\n",
       "      <td>0.161999</td>\n",
       "      <td>0.015874</td>\n",
       "      <td>0.145204</td>\n",
       "      <td>0.019854</td>\n",
       "      <td>0.164893</td>\n",
       "      <td>0.021168</td>\n",
       "      <td>0.071229</td>\n",
       "      <td>0.017163</td>\n",
       "    </tr>\n",
       "    <tr>\n",
       "      <th>3</th>\n",
       "      <td>Canada</td>\n",
       "      <td>0.182046</td>\n",
       "      <td>0.012478</td>\n",
       "      <td>0.214641</td>\n",
       "      <td>0.017242</td>\n",
       "      <td>0.300950</td>\n",
       "      <td>0.016130</td>\n",
       "      <td>0.435099</td>\n",
       "      <td>0.014838</td>\n",
       "      <td>0.412792</td>\n",
       "      <td>0.016385</td>\n",
       "      <td>0.531706</td>\n",
       "      <td>0.018442</td>\n",
       "      <td>0.417759</td>\n",
       "      <td>0.014629</td>\n",
       "    </tr>\n",
       "    <tr>\n",
       "      <th>4</th>\n",
       "      <td>Chile</td>\n",
       "      <td>-1.135024</td>\n",
       "      <td>0.035342</td>\n",
       "      <td>NaN</td>\n",
       "      <td>NaN</td>\n",
       "      <td>-0.982702</td>\n",
       "      <td>0.058652</td>\n",
       "      <td>-0.561192</td>\n",
       "      <td>0.030494</td>\n",
       "      <td>-0.578971</td>\n",
       "      <td>0.036053</td>\n",
       "      <td>-0.485767</td>\n",
       "      <td>0.028229</td>\n",
       "      <td>-0.582170</td>\n",
       "      <td>0.027369</td>\n",
       "    </tr>\n",
       "    <tr>\n",
       "      <th>...</th>\n",
       "      <td>...</td>\n",
       "      <td>...</td>\n",
       "      <td>...</td>\n",
       "      <td>...</td>\n",
       "      <td>...</td>\n",
       "      <td>...</td>\n",
       "      <td>...</td>\n",
       "      <td>...</td>\n",
       "      <td>...</td>\n",
       "      <td>...</td>\n",
       "      <td>...</td>\n",
       "      <td>...</td>\n",
       "      <td>...</td>\n",
       "      <td>...</td>\n",
       "      <td>...</td>\n",
       "    </tr>\n",
       "    <tr>\n",
       "      <th>82</th>\n",
       "      <td>Tunisia</td>\n",
       "      <td>NaN</td>\n",
       "      <td>NaN</td>\n",
       "      <td>-1.690703</td>\n",
       "      <td>0.041596</td>\n",
       "      <td>-1.304757</td>\n",
       "      <td>0.064180</td>\n",
       "      <td>-1.420088</td>\n",
       "      <td>0.046523</td>\n",
       "      <td>-1.192115</td>\n",
       "      <td>0.049019</td>\n",
       "      <td>-0.834086</td>\n",
       "      <td>0.030487</td>\n",
       "      <td>NaN</td>\n",
       "      <td>NaN</td>\n",
       "    </tr>\n",
       "    <tr>\n",
       "      <th>83</th>\n",
       "      <td>Ukraine</td>\n",
       "      <td>NaN</td>\n",
       "      <td>NaN</td>\n",
       "      <td>NaN</td>\n",
       "      <td>NaN</td>\n",
       "      <td>NaN</td>\n",
       "      <td>NaN</td>\n",
       "      <td>NaN</td>\n",
       "      <td>NaN</td>\n",
       "      <td>NaN</td>\n",
       "      <td>NaN</td>\n",
       "      <td>NaN</td>\n",
       "      <td>NaN</td>\n",
       "      <td>-0.204170</td>\n",
       "      <td>0.024814</td>\n",
       "    </tr>\n",
       "    <tr>\n",
       "      <th>84</th>\n",
       "      <td>United Arab Emirates</td>\n",
       "      <td>NaN</td>\n",
       "      <td>NaN</td>\n",
       "      <td>NaN</td>\n",
       "      <td>NaN</td>\n",
       "      <td>NaN</td>\n",
       "      <td>NaN</td>\n",
       "      <td>NaN</td>\n",
       "      <td>NaN</td>\n",
       "      <td>0.324637</td>\n",
       "      <td>0.015365</td>\n",
       "      <td>0.499548</td>\n",
       "      <td>0.012850</td>\n",
       "      <td>0.276821</td>\n",
       "      <td>0.016461</td>\n",
       "    </tr>\n",
       "    <tr>\n",
       "      <th>85</th>\n",
       "      <td>Uruguay</td>\n",
       "      <td>NaN</td>\n",
       "      <td>NaN</td>\n",
       "      <td>-0.761629</td>\n",
       "      <td>0.035478</td>\n",
       "      <td>-0.790256</td>\n",
       "      <td>0.029126</td>\n",
       "      <td>-0.877753</td>\n",
       "      <td>0.024060</td>\n",
       "      <td>-0.883754</td>\n",
       "      <td>0.030304</td>\n",
       "      <td>-0.777777</td>\n",
       "      <td>0.023767</td>\n",
       "      <td>-0.991896</td>\n",
       "      <td>0.038545</td>\n",
       "    </tr>\n",
       "    <tr>\n",
       "      <th>86</th>\n",
       "      <td>Viet Nam</td>\n",
       "      <td>NaN</td>\n",
       "      <td>NaN</td>\n",
       "      <td>NaN</td>\n",
       "      <td>NaN</td>\n",
       "      <td>NaN</td>\n",
       "      <td>NaN</td>\n",
       "      <td>NaN</td>\n",
       "      <td>NaN</td>\n",
       "      <td>-1.809753</td>\n",
       "      <td>0.046358</td>\n",
       "      <td>-1.867367</td>\n",
       "      <td>0.045009</td>\n",
       "      <td>-1.621611</td>\n",
       "      <td>0.051850</td>\n",
       "    </tr>\n",
       "  </tbody>\n",
       "</table>\n",
       "<p>87 rows × 15 columns</p>\n",
       "</div>"
      ],
      "text/plain": [
       "               Countries      2000   se_2000      2003   se_2003      2006  \\\n",
       "0              Australia -0.019186  0.027297  0.042307  0.018883  0.224844   \n",
       "1                Austria -0.285752  0.017113 -0.259947  0.026197  0.030975   \n",
       "2                Belgium -0.208324  0.018945 -0.026686  0.024314  0.065842   \n",
       "3                 Canada  0.182046  0.012478  0.214641  0.017242  0.300950   \n",
       "4                  Chile -1.135024  0.035342       NaN       NaN -0.982702   \n",
       "..                   ...       ...       ...       ...       ...       ...   \n",
       "82               Tunisia       NaN       NaN -1.690703  0.041596 -1.304757   \n",
       "83               Ukraine       NaN       NaN       NaN       NaN       NaN   \n",
       "84  United Arab Emirates       NaN       NaN       NaN       NaN       NaN   \n",
       "85               Uruguay       NaN       NaN -0.761629  0.035478 -0.790256   \n",
       "86              Viet Nam       NaN       NaN       NaN       NaN       NaN   \n",
       "\n",
       "     se_2006      2009   se_2009      2012   se_2012      2015   se_2015  \\\n",
       "0   0.013483  0.264432  0.011769  0.248422  0.011062  0.269490  0.011543   \n",
       "1   0.021639  0.066481  0.015615  0.075396  0.023832  0.092285  0.020588   \n",
       "2   0.018476  0.161999  0.015874  0.145204  0.019854  0.164893  0.021168   \n",
       "3   0.016130  0.435099  0.014838  0.412792  0.016385  0.531706  0.018442   \n",
       "4   0.058652 -0.561192  0.030494 -0.578971  0.036053 -0.485767  0.028229   \n",
       "..       ...       ...       ...       ...       ...       ...       ...   \n",
       "82  0.064180 -1.420088  0.046523 -1.192115  0.049019 -0.834086  0.030487   \n",
       "83       NaN       NaN       NaN       NaN       NaN       NaN       NaN   \n",
       "84       NaN       NaN       NaN  0.324637  0.015365  0.499548  0.012850   \n",
       "85  0.029126 -0.877753  0.024060 -0.883754  0.030304 -0.777777  0.023767   \n",
       "86       NaN       NaN       NaN -1.809753  0.046358 -1.867367  0.045009   \n",
       "\n",
       "        2018   se_2018  \n",
       "0   0.315118  0.014153  \n",
       "1   0.014224  0.019015  \n",
       "2   0.071229  0.017163  \n",
       "3   0.417759  0.014629  \n",
       "4  -0.582170  0.027369  \n",
       "..       ...       ...  \n",
       "82       NaN       NaN  \n",
       "83 -0.204170  0.024814  \n",
       "84  0.276821  0.016461  \n",
       "85 -0.991896  0.038545  \n",
       "86 -1.621611  0.051850  \n",
       "\n",
       "[87 rows x 15 columns]"
      ]
     },
     "execution_count": 161,
     "metadata": {},
     "output_type": "execute_result"
    }
   ],
   "source": [
    "ses = ses.replace('—',np.nan,regex = True)\n",
    "ses = ses.replace('†',np.nan,regex = True)\n",
    "ses = ses.replace('‡',np.nan,regex = True)\n",
    "ses"
   ]
  },
  {
   "cell_type": "code",
   "execution_count": null,
   "metadata": {},
   "outputs": [],
   "source": [
    "ses_avg = ses.drop(['Countries','se_2000', 'se_2003','se_2006','se_2009','se_2012','se_2015','se_2018'], axis=1)"
   ]
  },
  {
   "cell_type": "code",
   "execution_count": null,
   "metadata": {},
   "outputs": [
    {
     "data": {
      "text/html": [
       "<div>\n",
       "<style scoped>\n",
       "    .dataframe tbody tr th:only-of-type {\n",
       "        vertical-align: middle;\n",
       "    }\n",
       "\n",
       "    .dataframe tbody tr th {\n",
       "        vertical-align: top;\n",
       "    }\n",
       "\n",
       "    .dataframe thead th {\n",
       "        text-align: right;\n",
       "    }\n",
       "</style>\n",
       "<table border=\"1\" class=\"dataframe\">\n",
       "  <thead>\n",
       "    <tr style=\"text-align: right;\">\n",
       "      <th></th>\n",
       "      <th>2000</th>\n",
       "      <th>2003</th>\n",
       "      <th>2006</th>\n",
       "      <th>2009</th>\n",
       "      <th>2012</th>\n",
       "      <th>2015</th>\n",
       "      <th>2018</th>\n",
       "    </tr>\n",
       "  </thead>\n",
       "  <tbody>\n",
       "    <tr>\n",
       "      <th>0</th>\n",
       "      <td>-0.019186</td>\n",
       "      <td>0.042307</td>\n",
       "      <td>0.224844</td>\n",
       "      <td>0.264432</td>\n",
       "      <td>0.248422</td>\n",
       "      <td>0.269490</td>\n",
       "      <td>0.315118</td>\n",
       "    </tr>\n",
       "    <tr>\n",
       "      <th>1</th>\n",
       "      <td>-0.285752</td>\n",
       "      <td>-0.259947</td>\n",
       "      <td>0.030975</td>\n",
       "      <td>0.066481</td>\n",
       "      <td>0.075396</td>\n",
       "      <td>0.092285</td>\n",
       "      <td>0.014224</td>\n",
       "    </tr>\n",
       "    <tr>\n",
       "      <th>2</th>\n",
       "      <td>-0.208324</td>\n",
       "      <td>-0.026686</td>\n",
       "      <td>0.065842</td>\n",
       "      <td>0.161999</td>\n",
       "      <td>0.145204</td>\n",
       "      <td>0.164893</td>\n",
       "      <td>0.071229</td>\n",
       "    </tr>\n",
       "    <tr>\n",
       "      <th>3</th>\n",
       "      <td>0.182046</td>\n",
       "      <td>0.214641</td>\n",
       "      <td>0.300950</td>\n",
       "      <td>0.435099</td>\n",
       "      <td>0.412792</td>\n",
       "      <td>0.531706</td>\n",
       "      <td>0.417759</td>\n",
       "    </tr>\n",
       "    <tr>\n",
       "      <th>4</th>\n",
       "      <td>-1.135024</td>\n",
       "      <td>NaN</td>\n",
       "      <td>-0.982702</td>\n",
       "      <td>-0.561192</td>\n",
       "      <td>-0.578971</td>\n",
       "      <td>-0.485767</td>\n",
       "      <td>-0.582170</td>\n",
       "    </tr>\n",
       "    <tr>\n",
       "      <th>...</th>\n",
       "      <td>...</td>\n",
       "      <td>...</td>\n",
       "      <td>...</td>\n",
       "      <td>...</td>\n",
       "      <td>...</td>\n",
       "      <td>...</td>\n",
       "      <td>...</td>\n",
       "    </tr>\n",
       "    <tr>\n",
       "      <th>82</th>\n",
       "      <td>NaN</td>\n",
       "      <td>-1.690703</td>\n",
       "      <td>-1.304757</td>\n",
       "      <td>-1.420088</td>\n",
       "      <td>-1.192115</td>\n",
       "      <td>-0.834086</td>\n",
       "      <td>NaN</td>\n",
       "    </tr>\n",
       "    <tr>\n",
       "      <th>83</th>\n",
       "      <td>NaN</td>\n",
       "      <td>NaN</td>\n",
       "      <td>NaN</td>\n",
       "      <td>NaN</td>\n",
       "      <td>NaN</td>\n",
       "      <td>NaN</td>\n",
       "      <td>-0.204170</td>\n",
       "    </tr>\n",
       "    <tr>\n",
       "      <th>84</th>\n",
       "      <td>NaN</td>\n",
       "      <td>NaN</td>\n",
       "      <td>NaN</td>\n",
       "      <td>NaN</td>\n",
       "      <td>0.324637</td>\n",
       "      <td>0.499548</td>\n",
       "      <td>0.276821</td>\n",
       "    </tr>\n",
       "    <tr>\n",
       "      <th>85</th>\n",
       "      <td>NaN</td>\n",
       "      <td>-0.761629</td>\n",
       "      <td>-0.790256</td>\n",
       "      <td>-0.877753</td>\n",
       "      <td>-0.883754</td>\n",
       "      <td>-0.777777</td>\n",
       "      <td>-0.991896</td>\n",
       "    </tr>\n",
       "    <tr>\n",
       "      <th>86</th>\n",
       "      <td>NaN</td>\n",
       "      <td>NaN</td>\n",
       "      <td>NaN</td>\n",
       "      <td>NaN</td>\n",
       "      <td>-1.809753</td>\n",
       "      <td>-1.867367</td>\n",
       "      <td>-1.621611</td>\n",
       "    </tr>\n",
       "  </tbody>\n",
       "</table>\n",
       "<p>87 rows × 7 columns</p>\n",
       "</div>"
      ],
      "text/plain": [
       "        2000      2003      2006      2009      2012      2015      2018\n",
       "0  -0.019186  0.042307  0.224844  0.264432  0.248422  0.269490  0.315118\n",
       "1  -0.285752 -0.259947  0.030975  0.066481  0.075396  0.092285  0.014224\n",
       "2  -0.208324 -0.026686  0.065842  0.161999  0.145204  0.164893  0.071229\n",
       "3   0.182046  0.214641  0.300950  0.435099  0.412792  0.531706  0.417759\n",
       "4  -1.135024       NaN -0.982702 -0.561192 -0.578971 -0.485767 -0.582170\n",
       "..       ...       ...       ...       ...       ...       ...       ...\n",
       "82       NaN -1.690703 -1.304757 -1.420088 -1.192115 -0.834086       NaN\n",
       "83       NaN       NaN       NaN       NaN       NaN       NaN -0.204170\n",
       "84       NaN       NaN       NaN       NaN  0.324637  0.499548  0.276821\n",
       "85       NaN -0.761629 -0.790256 -0.877753 -0.883754 -0.777777 -0.991896\n",
       "86       NaN       NaN       NaN       NaN -1.809753 -1.867367 -1.621611\n",
       "\n",
       "[87 rows x 7 columns]"
      ]
     },
     "execution_count": 163,
     "metadata": {},
     "output_type": "execute_result"
    }
   ],
   "source": [
    "ses_avg"
   ]
  },
  {
   "cell_type": "code",
   "execution_count": null,
   "metadata": {},
   "outputs": [
    {
     "data": {
      "image/png": "[encoded data removed]",
      "text/plain": [
       "<Figure size 640x480 with 1 Axes>"
      ]
     },
     "metadata": {},
     "output_type": "display_data"
    }
   ],
   "source": [
    "ses_avg_box2 = ses_avg.melt()\n",
    "mses = ses_avg_box2.groupby('variable')['value'].median()\n",
    "\n",
    "fig,ax=plt.subplots()\n",
    "sns.boxplot(data = ses_avg_box2, x = 'variable', y = 'value',ax=ax)\n",
    "ax.plot(mses.values,'r-o',linewidth=4)\n",
    "\n",
    "ax.set(xlabel='Year',\n",
    "       ylabel='Average Scores',\n",
    "       title='Social economics culture status')\n",
    "\n",
    "plt.savefig('box_ses.png')\n",
    "plt.show()"
   ]
  },
  {
   "cell_type": "code",
   "execution_count": null,
   "metadata": {},
   "outputs": [
    {
     "data": {
      "text/html": [
       "<div>\n",
       "<style scoped>\n",
       "    .dataframe tbody tr th:only-of-type {\n",
       "        vertical-align: middle;\n",
       "    }\n",
       "\n",
       "    .dataframe tbody tr th {\n",
       "        vertical-align: top;\n",
       "    }\n",
       "\n",
       "    .dataframe thead th {\n",
       "        text-align: right;\n",
       "    }\n",
       "</style>\n",
       "<table border=\"1\" class=\"dataframe\">\n",
       "  <thead>\n",
       "    <tr style=\"text-align: right;\">\n",
       "      <th></th>\n",
       "      <th>Countries</th>\n",
       "      <th>2000</th>\n",
       "      <th>se_2000</th>\n",
       "      <th>2003</th>\n",
       "      <th>se_2003</th>\n",
       "      <th>2006</th>\n",
       "      <th>se_2006</th>\n",
       "      <th>2009</th>\n",
       "      <th>se_2009</th>\n",
       "      <th>2012</th>\n",
       "      <th>se_2012</th>\n",
       "      <th>2015</th>\n",
       "      <th>se_2015</th>\n",
       "      <th>2018</th>\n",
       "      <th>se_2018</th>\n",
       "    </tr>\n",
       "  </thead>\n",
       "  <tbody>\n",
       "    <tr>\n",
       "      <th>0</th>\n",
       "      <td>Australia</td>\n",
       "      <td>-0.019186</td>\n",
       "      <td>0.027297</td>\n",
       "      <td>0.042307</td>\n",
       "      <td>0.018883</td>\n",
       "      <td>0.224844</td>\n",
       "      <td>0.013483</td>\n",
       "      <td>0.264432</td>\n",
       "      <td>0.011769</td>\n",
       "      <td>0.248422</td>\n",
       "      <td>0.011062</td>\n",
       "      <td>0.269490</td>\n",
       "      <td>0.011543</td>\n",
       "      <td>0.315118</td>\n",
       "      <td>0.014153</td>\n",
       "    </tr>\n",
       "    <tr>\n",
       "      <th>1</th>\n",
       "      <td>Austria</td>\n",
       "      <td>-0.285752</td>\n",
       "      <td>0.017113</td>\n",
       "      <td>-0.259947</td>\n",
       "      <td>0.026197</td>\n",
       "      <td>0.030975</td>\n",
       "      <td>0.021639</td>\n",
       "      <td>0.066481</td>\n",
       "      <td>0.015615</td>\n",
       "      <td>0.075396</td>\n",
       "      <td>0.023832</td>\n",
       "      <td>0.092285</td>\n",
       "      <td>0.020588</td>\n",
       "      <td>0.014224</td>\n",
       "      <td>0.019015</td>\n",
       "    </tr>\n",
       "    <tr>\n",
       "      <th>2</th>\n",
       "      <td>Belgium</td>\n",
       "      <td>-0.208324</td>\n",
       "      <td>0.018945</td>\n",
       "      <td>-0.026686</td>\n",
       "      <td>0.024314</td>\n",
       "      <td>0.065842</td>\n",
       "      <td>0.018476</td>\n",
       "      <td>0.161999</td>\n",
       "      <td>0.015874</td>\n",
       "      <td>0.145204</td>\n",
       "      <td>0.019854</td>\n",
       "      <td>0.164893</td>\n",
       "      <td>0.021168</td>\n",
       "      <td>0.071229</td>\n",
       "      <td>0.017163</td>\n",
       "    </tr>\n",
       "    <tr>\n",
       "      <th>3</th>\n",
       "      <td>Canada</td>\n",
       "      <td>0.182046</td>\n",
       "      <td>0.012478</td>\n",
       "      <td>0.214641</td>\n",
       "      <td>0.017242</td>\n",
       "      <td>0.300950</td>\n",
       "      <td>0.016130</td>\n",
       "      <td>0.435099</td>\n",
       "      <td>0.014838</td>\n",
       "      <td>0.412792</td>\n",
       "      <td>0.016385</td>\n",
       "      <td>0.531706</td>\n",
       "      <td>0.018442</td>\n",
       "      <td>0.417759</td>\n",
       "      <td>0.014629</td>\n",
       "    </tr>\n",
       "    <tr>\n",
       "      <th>4</th>\n",
       "      <td>Chile</td>\n",
       "      <td>-1.135024</td>\n",
       "      <td>0.035342</td>\n",
       "      <td>NaN</td>\n",
       "      <td>NaN</td>\n",
       "      <td>-0.982702</td>\n",
       "      <td>0.058652</td>\n",
       "      <td>-0.561192</td>\n",
       "      <td>0.030494</td>\n",
       "      <td>-0.578971</td>\n",
       "      <td>0.036053</td>\n",
       "      <td>-0.485767</td>\n",
       "      <td>0.028229</td>\n",
       "      <td>-0.582170</td>\n",
       "      <td>0.027369</td>\n",
       "    </tr>\n",
       "    <tr>\n",
       "      <th>...</th>\n",
       "      <td>...</td>\n",
       "      <td>...</td>\n",
       "      <td>...</td>\n",
       "      <td>...</td>\n",
       "      <td>...</td>\n",
       "      <td>...</td>\n",
       "      <td>...</td>\n",
       "      <td>...</td>\n",
       "      <td>...</td>\n",
       "      <td>...</td>\n",
       "      <td>...</td>\n",
       "      <td>...</td>\n",
       "      <td>...</td>\n",
       "      <td>...</td>\n",
       "      <td>...</td>\n",
       "    </tr>\n",
       "    <tr>\n",
       "      <th>82</th>\n",
       "      <td>Tunisia</td>\n",
       "      <td>NaN</td>\n",
       "      <td>NaN</td>\n",
       "      <td>-1.690703</td>\n",
       "      <td>0.041596</td>\n",
       "      <td>-1.304757</td>\n",
       "      <td>0.064180</td>\n",
       "      <td>-1.420088</td>\n",
       "      <td>0.046523</td>\n",
       "      <td>-1.192115</td>\n",
       "      <td>0.049019</td>\n",
       "      <td>-0.834086</td>\n",
       "      <td>0.030487</td>\n",
       "      <td>NaN</td>\n",
       "      <td>NaN</td>\n",
       "    </tr>\n",
       "    <tr>\n",
       "      <th>83</th>\n",
       "      <td>Ukraine</td>\n",
       "      <td>NaN</td>\n",
       "      <td>NaN</td>\n",
       "      <td>NaN</td>\n",
       "      <td>NaN</td>\n",
       "      <td>NaN</td>\n",
       "      <td>NaN</td>\n",
       "      <td>NaN</td>\n",
       "      <td>NaN</td>\n",
       "      <td>NaN</td>\n",
       "      <td>NaN</td>\n",
       "      <td>NaN</td>\n",
       "      <td>NaN</td>\n",
       "      <td>-0.204170</td>\n",
       "      <td>0.024814</td>\n",
       "    </tr>\n",
       "    <tr>\n",
       "      <th>84</th>\n",
       "      <td>United Arab Emirates</td>\n",
       "      <td>NaN</td>\n",
       "      <td>NaN</td>\n",
       "      <td>NaN</td>\n",
       "      <td>NaN</td>\n",
       "      <td>NaN</td>\n",
       "      <td>NaN</td>\n",
       "      <td>NaN</td>\n",
       "      <td>NaN</td>\n",
       "      <td>0.324637</td>\n",
       "      <td>0.015365</td>\n",
       "      <td>0.499548</td>\n",
       "      <td>0.012850</td>\n",
       "      <td>0.276821</td>\n",
       "      <td>0.016461</td>\n",
       "    </tr>\n",
       "    <tr>\n",
       "      <th>85</th>\n",
       "      <td>Uruguay</td>\n",
       "      <td>NaN</td>\n",
       "      <td>NaN</td>\n",
       "      <td>-0.761629</td>\n",
       "      <td>0.035478</td>\n",
       "      <td>-0.790256</td>\n",
       "      <td>0.029126</td>\n",
       "      <td>-0.877753</td>\n",
       "      <td>0.024060</td>\n",
       "      <td>-0.883754</td>\n",
       "      <td>0.030304</td>\n",
       "      <td>-0.777777</td>\n",
       "      <td>0.023767</td>\n",
       "      <td>-0.991896</td>\n",
       "      <td>0.038545</td>\n",
       "    </tr>\n",
       "    <tr>\n",
       "      <th>86</th>\n",
       "      <td>Viet Nam</td>\n",
       "      <td>NaN</td>\n",
       "      <td>NaN</td>\n",
       "      <td>NaN</td>\n",
       "      <td>NaN</td>\n",
       "      <td>NaN</td>\n",
       "      <td>NaN</td>\n",
       "      <td>NaN</td>\n",
       "      <td>NaN</td>\n",
       "      <td>-1.809753</td>\n",
       "      <td>0.046358</td>\n",
       "      <td>-1.867367</td>\n",
       "      <td>0.045009</td>\n",
       "      <td>-1.621611</td>\n",
       "      <td>0.051850</td>\n",
       "    </tr>\n",
       "  </tbody>\n",
       "</table>\n",
       "<p>87 rows × 15 columns</p>\n",
       "</div>"
      ],
      "text/plain": [
       "               Countries      2000   se_2000      2003   se_2003      2006  \\\n",
       "0              Australia -0.019186  0.027297  0.042307  0.018883  0.224844   \n",
       "1                Austria -0.285752  0.017113 -0.259947  0.026197  0.030975   \n",
       "2                Belgium -0.208324  0.018945 -0.026686  0.024314  0.065842   \n",
       "3                 Canada  0.182046  0.012478  0.214641  0.017242  0.300950   \n",
       "4                  Chile -1.135024  0.035342       NaN       NaN -0.982702   \n",
       "..                   ...       ...       ...       ...       ...       ...   \n",
       "82               Tunisia       NaN       NaN -1.690703  0.041596 -1.304757   \n",
       "83               Ukraine       NaN       NaN       NaN       NaN       NaN   \n",
       "84  United Arab Emirates       NaN       NaN       NaN       NaN       NaN   \n",
       "85               Uruguay       NaN       NaN -0.761629  0.035478 -0.790256   \n",
       "86              Viet Nam       NaN       NaN       NaN       NaN       NaN   \n",
       "\n",
       "     se_2006      2009   se_2009      2012   se_2012      2015   se_2015  \\\n",
       "0   0.013483  0.264432  0.011769  0.248422  0.011062  0.269490  0.011543   \n",
       "1   0.021639  0.066481  0.015615  0.075396  0.023832  0.092285  0.020588   \n",
       "2   0.018476  0.161999  0.015874  0.145204  0.019854  0.164893  0.021168   \n",
       "3   0.016130  0.435099  0.014838  0.412792  0.016385  0.531706  0.018442   \n",
       "4   0.058652 -0.561192  0.030494 -0.578971  0.036053 -0.485767  0.028229   \n",
       "..       ...       ...       ...       ...       ...       ...       ...   \n",
       "82  0.064180 -1.420088  0.046523 -1.192115  0.049019 -0.834086  0.030487   \n",
       "83       NaN       NaN       NaN       NaN       NaN       NaN       NaN   \n",
       "84       NaN       NaN       NaN  0.324637  0.015365  0.499548  0.012850   \n",
       "85  0.029126 -0.877753  0.024060 -0.883754  0.030304 -0.777777  0.023767   \n",
       "86       NaN       NaN       NaN -1.809753  0.046358 -1.867367  0.045009   \n",
       "\n",
       "        2018   se_2018  \n",
       "0   0.315118  0.014153  \n",
       "1   0.014224  0.019015  \n",
       "2   0.071229  0.017163  \n",
       "3   0.417759  0.014629  \n",
       "4  -0.582170  0.027369  \n",
       "..       ...       ...  \n",
       "82       NaN       NaN  \n",
       "83 -0.204170  0.024814  \n",
       "84  0.276821  0.016461  \n",
       "85 -0.991896  0.038545  \n",
       "86 -1.621611  0.051850  \n",
       "\n",
       "[87 rows x 15 columns]"
      ]
     },
     "execution_count": 165,
     "metadata": {},
     "output_type": "execute_result"
    }
   ],
   "source": [
    "ses"
   ]
  },
  {
   "cell_type": "code",
   "execution_count": null,
   "metadata": {},
   "outputs": [],
   "source": [
    "ses_avg2 = ses.drop(['se_2000', 'se_2003','se_2006','se_2009','se_2012','se_2015','se_2018'], axis=1)"
   ]
  },
  {
   "cell_type": "code",
   "execution_count": null,
   "metadata": {},
   "outputs": [
    {
     "data": {
      "text/html": [
       "<div>\n",
       "<style scoped>\n",
       "    .dataframe tbody tr th:only-of-type {\n",
       "        vertical-align: middle;\n",
       "    }\n",
       "\n",
       "    .dataframe tbody tr th {\n",
       "        vertical-align: top;\n",
       "    }\n",
       "\n",
       "    .dataframe thead th {\n",
       "        text-align: right;\n",
       "    }\n",
       "</style>\n",
       "<table border=\"1\" class=\"dataframe\">\n",
       "  <thead>\n",
       "    <tr style=\"text-align: right;\">\n",
       "      <th></th>\n",
       "      <th>Countries</th>\n",
       "      <th>2000</th>\n",
       "      <th>2003</th>\n",
       "      <th>2006</th>\n",
       "      <th>2009</th>\n",
       "      <th>2012</th>\n",
       "      <th>2015</th>\n",
       "      <th>2018</th>\n",
       "    </tr>\n",
       "  </thead>\n",
       "  <tbody>\n",
       "    <tr>\n",
       "      <th>0</th>\n",
       "      <td>Australia</td>\n",
       "      <td>-0.019186</td>\n",
       "      <td>0.042307</td>\n",
       "      <td>0.224844</td>\n",
       "      <td>0.264432</td>\n",
       "      <td>0.248422</td>\n",
       "      <td>0.269490</td>\n",
       "      <td>0.315118</td>\n",
       "    </tr>\n",
       "    <tr>\n",
       "      <th>1</th>\n",
       "      <td>Austria</td>\n",
       "      <td>-0.285752</td>\n",
       "      <td>-0.259947</td>\n",
       "      <td>0.030975</td>\n",
       "      <td>0.066481</td>\n",
       "      <td>0.075396</td>\n",
       "      <td>0.092285</td>\n",
       "      <td>0.014224</td>\n",
       "    </tr>\n",
       "    <tr>\n",
       "      <th>2</th>\n",
       "      <td>Belgium</td>\n",
       "      <td>-0.208324</td>\n",
       "      <td>-0.026686</td>\n",
       "      <td>0.065842</td>\n",
       "      <td>0.161999</td>\n",
       "      <td>0.145204</td>\n",
       "      <td>0.164893</td>\n",
       "      <td>0.071229</td>\n",
       "    </tr>\n",
       "    <tr>\n",
       "      <th>3</th>\n",
       "      <td>Canada</td>\n",
       "      <td>0.182046</td>\n",
       "      <td>0.214641</td>\n",
       "      <td>0.300950</td>\n",
       "      <td>0.435099</td>\n",
       "      <td>0.412792</td>\n",
       "      <td>0.531706</td>\n",
       "      <td>0.417759</td>\n",
       "    </tr>\n",
       "    <tr>\n",
       "      <th>4</th>\n",
       "      <td>Chile</td>\n",
       "      <td>-1.135024</td>\n",
       "      <td>NaN</td>\n",
       "      <td>-0.982702</td>\n",
       "      <td>-0.561192</td>\n",
       "      <td>-0.578971</td>\n",
       "      <td>-0.485767</td>\n",
       "      <td>-0.582170</td>\n",
       "    </tr>\n",
       "    <tr>\n",
       "      <th>...</th>\n",
       "      <td>...</td>\n",
       "      <td>...</td>\n",
       "      <td>...</td>\n",
       "      <td>...</td>\n",
       "      <td>...</td>\n",
       "      <td>...</td>\n",
       "      <td>...</td>\n",
       "      <td>...</td>\n",
       "    </tr>\n",
       "    <tr>\n",
       "      <th>82</th>\n",
       "      <td>Tunisia</td>\n",
       "      <td>NaN</td>\n",
       "      <td>-1.690703</td>\n",
       "      <td>-1.304757</td>\n",
       "      <td>-1.420088</td>\n",
       "      <td>-1.192115</td>\n",
       "      <td>-0.834086</td>\n",
       "      <td>NaN</td>\n",
       "    </tr>\n",
       "    <tr>\n",
       "      <th>83</th>\n",
       "      <td>Ukraine</td>\n",
       "      <td>NaN</td>\n",
       "      <td>NaN</td>\n",
       "      <td>NaN</td>\n",
       "      <td>NaN</td>\n",
       "      <td>NaN</td>\n",
       "      <td>NaN</td>\n",
       "      <td>-0.204170</td>\n",
       "    </tr>\n",
       "    <tr>\n",
       "      <th>84</th>\n",
       "      <td>United Arab Emirates</td>\n",
       "      <td>NaN</td>\n",
       "      <td>NaN</td>\n",
       "      <td>NaN</td>\n",
       "      <td>NaN</td>\n",
       "      <td>0.324637</td>\n",
       "      <td>0.499548</td>\n",
       "      <td>0.276821</td>\n",
       "    </tr>\n",
       "    <tr>\n",
       "      <th>85</th>\n",
       "      <td>Uruguay</td>\n",
       "      <td>NaN</td>\n",
       "      <td>-0.761629</td>\n",
       "      <td>-0.790256</td>\n",
       "      <td>-0.877753</td>\n",
       "      <td>-0.883754</td>\n",
       "      <td>-0.777777</td>\n",
       "      <td>-0.991896</td>\n",
       "    </tr>\n",
       "    <tr>\n",
       "      <th>86</th>\n",
       "      <td>Viet Nam</td>\n",
       "      <td>NaN</td>\n",
       "      <td>NaN</td>\n",
       "      <td>NaN</td>\n",
       "      <td>NaN</td>\n",
       "      <td>-1.809753</td>\n",
       "      <td>-1.867367</td>\n",
       "      <td>-1.621611</td>\n",
       "    </tr>\n",
       "  </tbody>\n",
       "</table>\n",
       "<p>87 rows × 8 columns</p>\n",
       "</div>"
      ],
      "text/plain": [
       "               Countries      2000      2003      2006      2009      2012  \\\n",
       "0              Australia -0.019186  0.042307  0.224844  0.264432  0.248422   \n",
       "1                Austria -0.285752 -0.259947  0.030975  0.066481  0.075396   \n",
       "2                Belgium -0.208324 -0.026686  0.065842  0.161999  0.145204   \n",
       "3                 Canada  0.182046  0.214641  0.300950  0.435099  0.412792   \n",
       "4                  Chile -1.135024       NaN -0.982702 -0.561192 -0.578971   \n",
       "..                   ...       ...       ...       ...       ...       ...   \n",
       "82               Tunisia       NaN -1.690703 -1.304757 -1.420088 -1.192115   \n",
       "83               Ukraine       NaN       NaN       NaN       NaN       NaN   \n",
       "84  United Arab Emirates       NaN       NaN       NaN       NaN  0.324637   \n",
       "85               Uruguay       NaN -0.761629 -0.790256 -0.877753 -0.883754   \n",
       "86              Viet Nam       NaN       NaN       NaN       NaN -1.809753   \n",
       "\n",
       "        2015      2018  \n",
       "0   0.269490  0.315118  \n",
       "1   0.092285  0.014224  \n",
       "2   0.164893  0.071229  \n",
       "3   0.531706  0.417759  \n",
       "4  -0.485767 -0.582170  \n",
       "..       ...       ...  \n",
       "82 -0.834086       NaN  \n",
       "83       NaN -0.204170  \n",
       "84  0.499548  0.276821  \n",
       "85 -0.777777 -0.991896  \n",
       "86 -1.867367 -1.621611  \n",
       "\n",
       "[87 rows x 8 columns]"
      ]
     },
     "execution_count": 167,
     "metadata": {},
     "output_type": "execute_result"
    }
   ],
   "source": [
    "ses_avg2"
   ]
  },
  {
   "cell_type": "code",
   "execution_count": null,
   "metadata": {},
   "outputs": [
    {
     "data": {
      "text/html": [
       "<div>\n",
       "<style scoped>\n",
       "    .dataframe tbody tr th:only-of-type {\n",
       "        vertical-align: middle;\n",
       "    }\n",
       "\n",
       "    .dataframe tbody tr th {\n",
       "        vertical-align: top;\n",
       "    }\n",
       "\n",
       "    .dataframe thead th {\n",
       "        text-align: right;\n",
       "    }\n",
       "</style>\n",
       "<table border=\"1\" class=\"dataframe\">\n",
       "  <thead>\n",
       "    <tr style=\"text-align: right;\">\n",
       "      <th></th>\n",
       "      <th>Countries</th>\n",
       "      <th>Year</th>\n",
       "      <th>avg</th>\n",
       "    </tr>\n",
       "  </thead>\n",
       "  <tbody>\n",
       "    <tr>\n",
       "      <th>0</th>\n",
       "      <td>Australia</td>\n",
       "      <td>2000</td>\n",
       "      <td>-0.019186</td>\n",
       "    </tr>\n",
       "    <tr>\n",
       "      <th>1</th>\n",
       "      <td>Austria</td>\n",
       "      <td>2000</td>\n",
       "      <td>-0.285752</td>\n",
       "    </tr>\n",
       "    <tr>\n",
       "      <th>2</th>\n",
       "      <td>Belgium</td>\n",
       "      <td>2000</td>\n",
       "      <td>-0.208324</td>\n",
       "    </tr>\n",
       "    <tr>\n",
       "      <th>3</th>\n",
       "      <td>Canada</td>\n",
       "      <td>2000</td>\n",
       "      <td>0.182046</td>\n",
       "    </tr>\n",
       "    <tr>\n",
       "      <th>4</th>\n",
       "      <td>Chile</td>\n",
       "      <td>2000</td>\n",
       "      <td>-1.135024</td>\n",
       "    </tr>\n",
       "    <tr>\n",
       "      <th>...</th>\n",
       "      <td>...</td>\n",
       "      <td>...</td>\n",
       "      <td>...</td>\n",
       "    </tr>\n",
       "    <tr>\n",
       "      <th>82</th>\n",
       "      <td>Tunisia</td>\n",
       "      <td>2018</td>\n",
       "      <td>NaN</td>\n",
       "    </tr>\n",
       "    <tr>\n",
       "      <th>83</th>\n",
       "      <td>Ukraine</td>\n",
       "      <td>2018</td>\n",
       "      <td>-0.204170</td>\n",
       "    </tr>\n",
       "    <tr>\n",
       "      <th>84</th>\n",
       "      <td>United Arab Emirates</td>\n",
       "      <td>2018</td>\n",
       "      <td>0.276821</td>\n",
       "    </tr>\n",
       "    <tr>\n",
       "      <th>85</th>\n",
       "      <td>Uruguay</td>\n",
       "      <td>2018</td>\n",
       "      <td>-0.991896</td>\n",
       "    </tr>\n",
       "    <tr>\n",
       "      <th>86</th>\n",
       "      <td>Viet Nam</td>\n",
       "      <td>2018</td>\n",
       "      <td>-1.621611</td>\n",
       "    </tr>\n",
       "  </tbody>\n",
       "</table>\n",
       "<p>609 rows × 3 columns</p>\n",
       "</div>"
      ],
      "text/plain": [
       "               Countries  Year       avg\n",
       "0              Australia  2000 -0.019186\n",
       "1                Austria  2000 -0.285752\n",
       "2                Belgium  2000 -0.208324\n",
       "3                 Canada  2000  0.182046\n",
       "4                  Chile  2000 -1.135024\n",
       "..                   ...   ...       ...\n",
       "82               Tunisia  2018       NaN\n",
       "83               Ukraine  2018 -0.204170\n",
       "84  United Arab Emirates  2018  0.276821\n",
       "85               Uruguay  2018 -0.991896\n",
       "86              Viet Nam  2018 -1.621611\n",
       "\n",
       "[609 rows x 3 columns]"
      ]
     },
     "execution_count": 168,
     "metadata": {},
     "output_type": "execute_result"
    }
   ],
   "source": [
    "ses_avg_mm = pd.melt(ses_avg2, id_vars=['Countries'], value_vars=['2000','2003','2006', '2009','2012','2015','2018'],   var_name='Year', value_name='avg', ignore_index=False)\n",
    "ses_avg_mm"
   ]
  },
  {
   "cell_type": "code",
   "execution_count": null,
   "metadata": {},
   "outputs": [],
   "source": [
    "def f(row):\n",
    "    if row['avg'] < -2.0:\n",
    "        val = \"Low\"\n",
    "    elif row['avg'] > -2.0 and row['avg'] < -1.0:\n",
    "        val = \"Low\"\n",
    "    elif row['avg'] > -1.0 and row['avg'] < 0:\n",
    "        val = \"Medium\"\n",
    "    else:\n",
    "        val = \"High\"\n",
    "    return val"
   ]
  },
  {
   "cell_type": "code",
   "execution_count": null,
   "metadata": {},
   "outputs": [
    {
     "data": {
      "text/html": [
       "<div>\n",
       "<style scoped>\n",
       "    .dataframe tbody tr th:only-of-type {\n",
       "        vertical-align: middle;\n",
       "    }\n",
       "\n",
       "    .dataframe tbody tr th {\n",
       "        vertical-align: top;\n",
       "    }\n",
       "\n",
       "    .dataframe thead th {\n",
       "        text-align: right;\n",
       "    }\n",
       "</style>\n",
       "<table border=\"1\" class=\"dataframe\">\n",
       "  <thead>\n",
       "    <tr style=\"text-align: right;\">\n",
       "      <th></th>\n",
       "      <th>Countries</th>\n",
       "      <th>Year</th>\n",
       "      <th>avg</th>\n",
       "      <th>Category</th>\n",
       "    </tr>\n",
       "  </thead>\n",
       "  <tbody>\n",
       "    <tr>\n",
       "      <th>0</th>\n",
       "      <td>Australia</td>\n",
       "      <td>2000</td>\n",
       "      <td>-0.019186</td>\n",
       "      <td>Medium</td>\n",
       "    </tr>\n",
       "    <tr>\n",
       "      <th>1</th>\n",
       "      <td>Austria</td>\n",
       "      <td>2000</td>\n",
       "      <td>-0.285752</td>\n",
       "      <td>Medium</td>\n",
       "    </tr>\n",
       "    <tr>\n",
       "      <th>2</th>\n",
       "      <td>Belgium</td>\n",
       "      <td>2000</td>\n",
       "      <td>-0.208324</td>\n",
       "      <td>Medium</td>\n",
       "    </tr>\n",
       "    <tr>\n",
       "      <th>3</th>\n",
       "      <td>Canada</td>\n",
       "      <td>2000</td>\n",
       "      <td>0.182046</td>\n",
       "      <td>High</td>\n",
       "    </tr>\n",
       "    <tr>\n",
       "      <th>4</th>\n",
       "      <td>Chile</td>\n",
       "      <td>2000</td>\n",
       "      <td>-1.135024</td>\n",
       "      <td>Low</td>\n",
       "    </tr>\n",
       "    <tr>\n",
       "      <th>...</th>\n",
       "      <td>...</td>\n",
       "      <td>...</td>\n",
       "      <td>...</td>\n",
       "      <td>...</td>\n",
       "    </tr>\n",
       "    <tr>\n",
       "      <th>82</th>\n",
       "      <td>Tunisia</td>\n",
       "      <td>2018</td>\n",
       "      <td>NaN</td>\n",
       "      <td>High</td>\n",
       "    </tr>\n",
       "    <tr>\n",
       "      <th>83</th>\n",
       "      <td>Ukraine</td>\n",
       "      <td>2018</td>\n",
       "      <td>-0.204170</td>\n",
       "      <td>Medium</td>\n",
       "    </tr>\n",
       "    <tr>\n",
       "      <th>84</th>\n",
       "      <td>United Arab Emirates</td>\n",
       "      <td>2018</td>\n",
       "      <td>0.276821</td>\n",
       "      <td>High</td>\n",
       "    </tr>\n",
       "    <tr>\n",
       "      <th>85</th>\n",
       "      <td>Uruguay</td>\n",
       "      <td>2018</td>\n",
       "      <td>-0.991896</td>\n",
       "      <td>Medium</td>\n",
       "    </tr>\n",
       "    <tr>\n",
       "      <th>86</th>\n",
       "      <td>Viet Nam</td>\n",
       "      <td>2018</td>\n",
       "      <td>-1.621611</td>\n",
       "      <td>Low</td>\n",
       "    </tr>\n",
       "  </tbody>\n",
       "</table>\n",
       "<p>609 rows × 4 columns</p>\n",
       "</div>"
      ],
      "text/plain": [
       "               Countries  Year       avg Category\n",
       "0              Australia  2000 -0.019186   Medium\n",
       "1                Austria  2000 -0.285752   Medium\n",
       "2                Belgium  2000 -0.208324   Medium\n",
       "3                 Canada  2000  0.182046     High\n",
       "4                  Chile  2000 -1.135024      Low\n",
       "..                   ...   ...       ...      ...\n",
       "82               Tunisia  2018       NaN     High\n",
       "83               Ukraine  2018 -0.204170   Medium\n",
       "84  United Arab Emirates  2018  0.276821     High\n",
       "85               Uruguay  2018 -0.991896   Medium\n",
       "86              Viet Nam  2018 -1.621611      Low\n",
       "\n",
       "[609 rows x 4 columns]"
      ]
     },
     "execution_count": 170,
     "metadata": {},
     "output_type": "execute_result"
    }
   ],
   "source": [
    "ses_avg_mm['Category'] = ses_avg_mm.apply(f, axis=1)\n",
    "ses_avg_mm"
   ]
  },
  {
   "cell_type": "code",
   "execution_count": null,
   "metadata": {},
   "outputs": [],
   "source": [
    "ses_avg_mm_ls = ses_avg_mm['Category'].tolist()\n",
    "readings_avg2['Category'] = ses_avg_mm_ls \n",
    "math_avg2['Category'] = ses_avg_mm_ls \n",
    "sci_avg2['Category'] = ses_avg_mm_ls "
   ]
  },
  {
   "cell_type": "code",
   "execution_count": null,
   "metadata": {},
   "outputs": [],
   "source": [
    "low = []\n",
    "medium = []\n",
    "high = []\n",
    "year_cat = readings_avg2['Year'].unique().tolist()\n",
    "\n",
    "for i in year_cat:\n",
    "    low_sc = readings_avg2[(readings_avg2['Year'] == i) & (readings_avg2['Category'] == \"Low\")][\"avg\"].mean()\n",
    "    med_sc = readings_avg2[(readings_avg2['Year'] == i) & (readings_avg2['Category'] == \"Medium\")][\"avg\"].mean()\n",
    "    h_sc = readings_avg2[(readings_avg2['Year'] == i) & (readings_avg2['Category'] == \"High\")][\"avg\"].mean()\n",
    "    low.append(low_sc)\n",
    "    medium.append(med_sc)\n",
    "    high.append(h_sc)"
   ]
  },
  {
   "cell_type": "code",
   "execution_count": null,
   "metadata": {},
   "outputs": [
    {
     "data": {
      "application/vnd.plotly.v1+json": {
       "config": {
        "plotlyServerURL": "https://plot.ly"
       },
       "data": [
        {
         "name": "Low",
         "type": "bar",
         "x": [
          "2000",
          "2003",
          "2006",
          "2009",
          "2012",
          "2015",
          "2018"
         ],
         "y": [
          414.1742206873,
          428.3490028020515,
          428.2450604417706,
          421.5217721762099,
          426.9744033596073,
          423.26460617864774,
          390.30119092415976
         ]
        },
        {
         "name": "Medium",
         "type": "bar",
         "x": [
          "2000",
          "2003",
          "2006",
          "2009",
          "2012",
          "2015",
          "2018"
         ],
         "y": [
          478.20466950908684,
          489.58607331423786,
          463.54610142611176,
          463.53635345939193,
          470.2915549752041,
          446.48883378932453,
          447.2286365229485
         ]
        },
        {
         "name": "High",
         "type": "bar",
         "x": [
          "2000",
          "2003",
          "2006",
          "2009",
          "2012",
          "2015",
          "2018"
         ],
         "y": [
          513.7280306532682,
          509.04722357533257,
          488.5232621712131,
          493.60900204511114,
          490.49799146853076,
          490.82038772086736,
          488.70715213079677
         ]
        }
       ],
       "layout": {
        "barmode": "group",
        "template": {
         "data": {
          "bar": [
           {
            "error_x": {
             "color": "#2a3f5f"
            },
            "error_y": {
             "color": "#2a3f5f"
            },
            "marker": {
             "line": {
              "color": "#E5ECF6",
              "width": 0.5
             },
             "pattern": {
              "fillmode": "overlay",
              "size": 10,
              "solidity": 0.2
             }
            },
            "type": "bar"
           }
          ],
          "barpolar": [
           {
            "marker": {
             "line": {
              "color": "#E5ECF6",
              "width": 0.5
             },
             "pattern": {
              "fillmode": "overlay",
              "size": 10,
              "solidity": 0.2
             }
            },
            "type": "barpolar"
           }
          ],
          "carpet": [
           {
            "aaxis": {
             "endlinecolor": "#2a3f5f",
             "gridcolor": "white",
             "linecolor": "white",
             "minorgridcolor": "white",
             "startlinecolor": "#2a3f5f"
            },
            "baxis": {
             "endlinecolor": "#2a3f5f",
             "gridcolor": "white",
             "linecolor": "white",
             "minorgridcolor": "white",
             "startlinecolor": "#2a3f5f"
            },
            "type": "carpet"
           }
          ],
          "choropleth": [
           {
            "colorbar": {
             "outlinewidth": 0,
             "ticks": ""
            },
            "type": "choropleth"
           }
          ],
          "contour": [
           {
            "colorbar": {
             "outlinewidth": 0,
             "ticks": ""
            },
            "colorscale": [
             [
              0,
              "#0d0887"
             ],
             [
              0.1111111111111111,
              "#46039f"
             ],
             [
              0.2222222222222222,
              "#7201a8"
             ],
             [
              0.3333333333333333,
              "#9c179e"
             ],
             [
              0.4444444444444444,
              "#bd3786"
             ],
             [
              0.5555555555555556,
              "#d8576b"
             ],
             [
              0.6666666666666666,
              "#ed7953"
             ],
             [
              0.7777777777777778,
              "#fb9f3a"
             ],
             [
              0.8888888888888888,
              "#fdca26"
             ],
             [
              1,
              "#f0f921"
             ]
            ],
            "type": "contour"
           }
          ],
          "contourcarpet": [
           {
            "colorbar": {
             "outlinewidth": 0,
             "ticks": ""
            },
            "type": "contourcarpet"
           }
          ],
          "heatmap": [
           {
            "colorbar": {
             "outlinewidth": 0,
             "ticks": ""
            },
            "colorscale": [
             [
              0,
              "#0d0887"
             ],
             [
              0.1111111111111111,
              "#46039f"
             ],
             [
              0.2222222222222222,
              "#7201a8"
             ],
             [
              0.3333333333333333,
              "#9c179e"
             ],
             [
              0.4444444444444444,
              "#bd3786"
             ],
             [
              0.5555555555555556,
              "#d8576b"
             ],
             [
              0.6666666666666666,
              "#ed7953"
             ],
             [
              0.7777777777777778,
              "#fb9f3a"
             ],
             [
              0.8888888888888888,
              "#fdca26"
             ],
             [
              1,
              "#f0f921"
             ]
            ],
            "type": "heatmap"
           }
          ],
          "heatmapgl": [
           {
            "colorbar": {
             "outlinewidth": 0,
             "ticks": ""
            },
            "colorscale": [
             [
              0,
              "#0d0887"
             ],
             [
              0.1111111111111111,
              "#46039f"
             ],
             [
              0.2222222222222222,
              "#7201a8"
             ],
             [
              0.3333333333333333,
              "#9c179e"
             ],
             [
              0.4444444444444444,
              "#bd3786"
             ],
             [
              0.5555555555555556,
              "#d8576b"
             ],
             [
              0.6666666666666666,
              "#ed7953"
             ],
             [
              0.7777777777777778,
              "#fb9f3a"
             ],
             [
              0.8888888888888888,
              "#fdca26"
             ],
             [
              1,
              "#f0f921"
             ]
            ],
            "type": "heatmapgl"
           }
          ],
          "histogram": [
           {
            "marker": {
             "pattern": {
              "fillmode": "overlay",
              "size": 10,
              "solidity": 0.2
             }
            },
            "type": "histogram"
           }
          ],
          "histogram2d": [
           {
            "colorbar": {
             "outlinewidth": 0,
             "ticks": ""
            },
            "colorscale": [
             [
              0,
              "#0d0887"
             ],
             [
              0.1111111111111111,
              "#46039f"
             ],
             [
              0.2222222222222222,
              "#7201a8"
             ],
             [
              0.3333333333333333,
              "#9c179e"
             ],
             [
              0.4444444444444444,
              "#bd3786"
             ],
             [
              0.5555555555555556,
              "#d8576b"
             ],
             [
              0.6666666666666666,
              "#ed7953"
             ],
             [
              0.7777777777777778,
              "#fb9f3a"
             ],
             [
              0.8888888888888888,
              "#fdca26"
             ],
             [
              1,
              "#f0f921"
             ]
            ],
            "type": "histogram2d"
           }
          ],
          "histogram2dcontour": [
           {
            "colorbar": {
             "outlinewidth": 0,
             "ticks": ""
            },
            "colorscale": [
             [
              0,
              "#0d0887"
             ],
             [
              0.1111111111111111,
              "#46039f"
             ],
             [
              0.2222222222222222,
              "#7201a8"
             ],
             [
              0.3333333333333333,
              "#9c179e"
             ],
             [
              0.4444444444444444,
              "#bd3786"
             ],
             [
              0.5555555555555556,
              "#d8576b"
             ],
             [
              0.6666666666666666,
              "#ed7953"
             ],
             [
              0.7777777777777778,
              "#fb9f3a"
             ],
             [
              0.8888888888888888,
              "#fdca26"
             ],
             [
              1,
              "#f0f921"
             ]
            ],
            "type": "histogram2dcontour"
           }
          ],
          "mesh3d": [
           {
            "colorbar": {
             "outlinewidth": 0,
             "ticks": ""
            },
            "type": "mesh3d"
           }
          ],
          "parcoords": [
           {
            "line": {
             "colorbar": {
              "outlinewidth": 0,
              "ticks": ""
             }
            },
            "type": "parcoords"
           }
          ],
          "pie": [
           {
            "automargin": true,
            "type": "pie"
           }
          ],
          "scatter": [
           {
            "fillpattern": {
             "fillmode": "overlay",
             "size": 10,
             "solidity": 0.2
            },
            "type": "scatter"
           }
          ],
          "scatter3d": [
           {
            "line": {
             "colorbar": {
              "outlinewidth": 0,
              "ticks": ""
             }
            },
            "marker": {
             "colorbar": {
              "outlinewidth": 0,
              "ticks": ""
             }
            },
            "type": "scatter3d"
           }
          ],
          "scattercarpet": [
           {
            "marker": {
             "colorbar": {
              "outlinewidth": 0,
              "ticks": ""
             }
            },
            "type": "scattercarpet"
           }
          ],
          "scattergeo": [
           {
            "marker": {
             "colorbar": {
              "outlinewidth": 0,
              "ticks": ""
             }
            },
            "type": "scattergeo"
           }
          ],
          "scattergl": [
           {
            "marker": {
             "colorbar": {
              "outlinewidth": 0,
              "ticks": ""
             }
            },
            "type": "scattergl"
           }
          ],
          "scattermapbox": [
           {
            "marker": {
             "colorbar": {
              "outlinewidth": 0,
              "ticks": ""
             }
            },
            "type": "scattermapbox"
           }
          ],
          "scatterpolar": [
           {
            "marker": {
             "colorbar": {
              "outlinewidth": 0,
              "ticks": ""
             }
            },
            "type": "scatterpolar"
           }
          ],
          "scatterpolargl": [
           {
            "marker": {
             "colorbar": {
              "outlinewidth": 0,
              "ticks": ""
             }
            },
            "type": "scatterpolargl"
           }
          ],
          "scatterternary": [
           {
            "marker": {
             "colorbar": {
              "outlinewidth": 0,
              "ticks": ""
             }
            },
            "type": "scatterternary"
           }
          ],
          "surface": [
           {
            "colorbar": {
             "outlinewidth": 0,
             "ticks": ""
            },
            "colorscale": [
             [
              0,
              "#0d0887"
             ],
             [
              0.1111111111111111,
              "#46039f"
             ],
             [
              0.2222222222222222,
              "#7201a8"
             ],
             [
              0.3333333333333333,
              "#9c179e"
             ],
             [
              0.4444444444444444,
              "#bd3786"
             ],
             [
              0.5555555555555556,
              "#d8576b"
             ],
             [
              0.6666666666666666,
              "#ed7953"
             ],
             [
              0.7777777777777778,
              "#fb9f3a"
             ],
             [
              0.8888888888888888,
              "#fdca26"
             ],
             [
              1,
              "#f0f921"
             ]
            ],
            "type": "surface"
           }
          ],
          "table": [
           {
            "cells": {
             "fill": {
              "color": "#EBF0F8"
             },
             "line": {
              "color": "white"
             }
            },
            "header": {
             "fill": {
              "color": "#C8D4E3"
             },
             "line": {
              "color": "white"
             }
            },
            "type": "table"
           }
          ]
         },
         "layout": {
          "annotationdefaults": {
           "arrowcolor": "#2a3f5f",
           "arrowhead": 0,
           "arrowwidth": 1
          },
          "autotypenumbers": "strict",
          "coloraxis": {
           "colorbar": {
            "outlinewidth": 0,
            "ticks": ""
           }
          },
          "colorscale": {
           "diverging": [
            [
             0,
             "#8e0152"
            ],
            [
             0.1,
             "#c51b7d"
            ],
            [
             0.2,
             "#de77ae"
            ],
            [
             0.3,
             "#f1b6da"
            ],
            [
             0.4,
             "#fde0ef"
            ],
            [
             0.5,
             "#f7f7f7"
            ],
            [
             0.6,
             "#e6f5d0"
            ],
            [
             0.7,
             "#b8e186"
            ],
            [
             0.8,
             "#7fbc41"
            ],
            [
             0.9,
             "#4d9221"
            ],
            [
             1,
             "#276419"
            ]
           ],
           "sequential": [
            [
             0,
             "#0d0887"
            ],
            [
             0.1111111111111111,
             "#46039f"
            ],
            [
             0.2222222222222222,
             "#7201a8"
            ],
            [
             0.3333333333333333,
             "#9c179e"
            ],
            [
             0.4444444444444444,
             "#bd3786"
            ],
            [
             0.5555555555555556,
             "#d8576b"
            ],
            [
             0.6666666666666666,
             "#ed7953"
            ],
            [
             0.7777777777777778,
             "#fb9f3a"
            ],
            [
             0.8888888888888888,
             "#fdca26"
            ],
            [
             1,
             "#f0f921"
            ]
           ],
           "sequentialminus": [
            [
             0,
             "#0d0887"
            ],
            [
             0.1111111111111111,
             "#46039f"
            ],
            [
             0.2222222222222222,
             "#7201a8"
            ],
            [
             0.3333333333333333,
             "#9c179e"
            ],
            [
             0.4444444444444444,
             "#bd3786"
            ],
            [
             0.5555555555555556,
             "#d8576b"
            ],
            [
             0.6666666666666666,
             "#ed7953"
            ],
            [
             0.7777777777777778,
             "#fb9f3a"
            ],
            [
             0.8888888888888888,
             "#fdca26"
            ],
            [
             1,
             "#f0f921"
            ]
           ]
          },
          "colorway": [
           "#636efa",
           "#EF553B",
           "#00cc96",
           "#ab63fa",
           "#FFA15A",
           "#19d3f3",
           "#FF6692",
           "#B6E880",
           "#FF97FF",
           "#FECB52"
          ],
          "font": {
           "color": "#2a3f5f"
          },
          "geo": {
           "bgcolor": "white",
           "lakecolor": "white",
           "landcolor": "#E5ECF6",
           "showlakes": true,
           "showland": true,
           "subunitcolor": "white"
          },
          "hoverlabel": {
           "align": "left"
          },
          "hovermode": "closest",
          "mapbox": {
           "style": "light"
          },
          "paper_bgcolor": "white",
          "plot_bgcolor": "#E5ECF6",
          "polar": {
           "angularaxis": {
            "gridcolor": "white",
            "linecolor": "white",
            "ticks": ""
           },
           "bgcolor": "#E5ECF6",
           "radialaxis": {
            "gridcolor": "white",
            "linecolor": "white",
            "ticks": ""
           }
          },
          "scene": {
           "xaxis": {
            "backgroundcolor": "#E5ECF6",
            "gridcolor": "white",
            "gridwidth": 2,
            "linecolor": "white",
            "showbackground": true,
            "ticks": "",
            "zerolinecolor": "white"
           },
           "yaxis": {
            "backgroundcolor": "#E5ECF6",
            "gridcolor": "white",
            "gridwidth": 2,
            "linecolor": "white",
            "showbackground": true,
            "ticks": "",
            "zerolinecolor": "white"
           },
           "zaxis": {
            "backgroundcolor": "#E5ECF6",
            "gridcolor": "white",
            "gridwidth": 2,
            "linecolor": "white",
            "showbackground": true,
            "ticks": "",
            "zerolinecolor": "white"
           }
          },
          "shapedefaults": {
           "line": {
            "color": "#2a3f5f"
           }
          },
          "ternary": {
           "aaxis": {
            "gridcolor": "white",
            "linecolor": "white",
            "ticks": ""
           },
           "baxis": {
            "gridcolor": "white",
            "linecolor": "white",
            "ticks": ""
           },
           "bgcolor": "#E5ECF6",
           "caxis": {
            "gridcolor": "white",
            "linecolor": "white",
            "ticks": ""
           }
          },
          "title": {
           "x": 0.05
          },
          "xaxis": {
           "automargin": true,
           "gridcolor": "white",
           "linecolor": "white",
           "ticks": "",
           "title": {
            "standoff": 15
           },
           "zerolinecolor": "white",
           "zerolinewidth": 2
          },
          "yaxis": {
           "automargin": true,
           "gridcolor": "white",
           "linecolor": "white",
           "ticks": "",
           "title": {
            "standoff": 15
           },
           "zerolinecolor": "white",
           "zerolinewidth": 2
          }
         }
        },
        "title": {
         "text": "AVG reading score for different socio-economics status"
        }
       }
      }
     },
     "metadata": {},
     "output_type": "display_data"
    }
   ],
   "source": [
    "\n",
    "\n",
    "# Create traces for each set of values\n",
    "trace1 = go.Bar(x=year_cat, y=low, name='Low')\n",
    "trace2 = go.Bar(x=year_cat, y=medium, name='Medium')\n",
    "trace3 = go.Bar(x=year_cat, y=high, name='High')\n",
    "\n",
    "# Layout settings\n",
    "layout = go.Layout(\n",
    "    title='AVG reading score for different socio-economics status',\n",
    "    barmode='group'  # Set barmode to 'stack' for stacking bars\n",
    ")\n",
    "\n",
    "# Create the figure with the traces and layout\n",
    "fig = go.Figure(data=[trace1, trace2,trace3], layout=layout)\n",
    "\n",
    "# Show the plot\n",
    "fig.show()\n",
    "\n",
    "fig.write_html(\"reading_ses.html\")\n"
   ]
  },
  {
   "cell_type": "code",
   "execution_count": null,
   "metadata": {},
   "outputs": [],
   "source": [
    "low2 = []\n",
    "medium2 = []\n",
    "high2 = []\n",
    "#year_cat = readings_avg2['Year'].unique().tolist()\n",
    "\n",
    "for i in year_cat:\n",
    "    low_sc = math_avg2[(math_avg2['Year'] == i) & (math_avg2['Category'] == \"Low\")][\"avg\"].mean()\n",
    "    med_sc = math_avg2[(math_avg2['Year'] == i) & (math_avg2['Category'] == \"Medium\")][\"avg\"].mean()\n",
    "    h_sc = math_avg2[(readings_avg2['Year'] == i) & (math_avg2['Category'] == \"High\")][\"avg\"].mean()\n",
    "    low2.append(low_sc)\n",
    "    medium2.append(med_sc)\n",
    "    high2.append(h_sc)"
   ]
  },
  {
   "cell_type": "code",
   "execution_count": null,
   "metadata": {},
   "outputs": [
    {
     "data": {
      "application/vnd.plotly.v1+json": {
       "config": {
        "plotlyServerURL": "https://plot.ly"
       },
       "data": [
        {
         "name": "Low",
         "type": "bar",
         "x": [
          "2000",
          "2003",
          "2006",
          "2009",
          "2012",
          "2015",
          "2018"
         ],
         "y": [
          null,
          422.27213467711925,
          423.9012639848197,
          407.98404135853104,
          410.597863608673,
          425.25401225676546,
          384.7375616302066
         ]
        },
        {
         "name": "Medium",
         "type": "bar",
         "x": [
          "2000",
          "2003",
          "2006",
          "2009",
          "2012",
          "2015",
          "2018"
         ],
         "y": [
          null,
          497.49089279965534,
          471.4002839490651,
          465.7576999554961,
          472.4915101339614,
          448.0754269576544,
          456.3661227938467
         ]
        },
        {
         "name": "High",
         "type": "bar",
         "x": [
          "2000",
          "2003",
          "2006",
          "2009",
          "2012",
          "2015",
          "2018"
         ],
         "y": [
          null,
          513.3931571601292,
          496.9164717881106,
          498.63876182700585,
          489.668850273284,
          490.1134730515974,
          493.5871694955279
         ]
        }
       ],
       "layout": {
        "barmode": "group",
        "template": {
         "data": {
          "bar": [
           {
            "error_x": {
             "color": "#2a3f5f"
            },
            "error_y": {
             "color": "#2a3f5f"
            },
            "marker": {
             "line": {
              "color": "#E5ECF6",
              "width": 0.5
             },
             "pattern": {
              "fillmode": "overlay",
              "size": 10,
              "solidity": 0.2
             }
            },
            "type": "bar"
           }
          ],
          "barpolar": [
           {
            "marker": {
             "line": {
              "color": "#E5ECF6",
              "width": 0.5
             },
             "pattern": {
              "fillmode": "overlay",
              "size": 10,
              "solidity": 0.2
             }
            },
            "type": "barpolar"
           }
          ],
          "carpet": [
           {
            "aaxis": {
             "endlinecolor": "#2a3f5f",
             "gridcolor": "white",
             "linecolor": "white",
             "minorgridcolor": "white",
             "startlinecolor": "#2a3f5f"
            },
            "baxis": {
             "endlinecolor": "#2a3f5f",
             "gridcolor": "white",
             "linecolor": "white",
             "minorgridcolor": "white",
             "startlinecolor": "#2a3f5f"
            },
            "type": "carpet"
           }
          ],
          "choropleth": [
           {
            "colorbar": {
             "outlinewidth": 0,
             "ticks": ""
            },
            "type": "choropleth"
           }
          ],
          "contour": [
           {
            "colorbar": {
             "outlinewidth": 0,
             "ticks": ""
            },
            "colorscale": [
             [
              0,
              "#0d0887"
             ],
             [
              0.1111111111111111,
              "#46039f"
             ],
             [
              0.2222222222222222,
              "#7201a8"
             ],
             [
              0.3333333333333333,
              "#9c179e"
             ],
             [
              0.4444444444444444,
              "#bd3786"
             ],
             [
              0.5555555555555556,
              "#d8576b"
             ],
             [
              0.6666666666666666,
              "#ed7953"
             ],
             [
              0.7777777777777778,
              "#fb9f3a"
             ],
             [
              0.8888888888888888,
              "#fdca26"
             ],
             [
              1,
              "#f0f921"
             ]
            ],
            "type": "contour"
           }
          ],
          "contourcarpet": [
           {
            "colorbar": {
             "outlinewidth": 0,
             "ticks": ""
            },
            "type": "contourcarpet"
           }
          ],
          "heatmap": [
           {
            "colorbar": {
             "outlinewidth": 0,
             "ticks": ""
            },
            "colorscale": [
             [
              0,
              "#0d0887"
             ],
             [
              0.1111111111111111,
              "#46039f"
             ],
             [
              0.2222222222222222,
              "#7201a8"
             ],
             [
              0.3333333333333333,
              "#9c179e"
             ],
             [
              0.4444444444444444,
              "#bd3786"
             ],
             [
              0.5555555555555556,
              "#d8576b"
             ],
             [
              0.6666666666666666,
              "#ed7953"
             ],
             [
              0.7777777777777778,
              "#fb9f3a"
             ],
             [
              0.8888888888888888,
              "#fdca26"
             ],
             [
              1,
              "#f0f921"
             ]
            ],
            "type": "heatmap"
           }
          ],
          "heatmapgl": [
           {
            "colorbar": {
             "outlinewidth": 0,
             "ticks": ""
            },
            "colorscale": [
             [
              0,
              "#0d0887"
             ],
             [
              0.1111111111111111,
              "#46039f"
             ],
             [
              0.2222222222222222,
              "#7201a8"
             ],
             [
              0.3333333333333333,
              "#9c179e"
             ],
             [
              0.4444444444444444,
              "#bd3786"
             ],
             [
              0.5555555555555556,
              "#d8576b"
             ],
             [
              0.6666666666666666,
              "#ed7953"
             ],
             [
              0.7777777777777778,
              "#fb9f3a"
             ],
             [
              0.8888888888888888,
              "#fdca26"
             ],
             [
              1,
              "#f0f921"
             ]
            ],
            "type": "heatmapgl"
           }
          ],
          "histogram": [
           {
            "marker": {
             "pattern": {
              "fillmode": "overlay",
              "size": 10,
              "solidity": 0.2
             }
            },
            "type": "histogram"
           }
          ],
          "histogram2d": [
           {
            "colorbar": {
             "outlinewidth": 0,
             "ticks": ""
            },
            "colorscale": [
             [
              0,
              "#0d0887"
             ],
             [
              0.1111111111111111,
              "#46039f"
             ],
             [
              0.2222222222222222,
              "#7201a8"
             ],
             [
              0.3333333333333333,
              "#9c179e"
             ],
             [
              0.4444444444444444,
              "#bd3786"
             ],
             [
              0.5555555555555556,
              "#d8576b"
             ],
             [
              0.6666666666666666,
              "#ed7953"
             ],
             [
              0.7777777777777778,
              "#fb9f3a"
             ],
             [
              0.8888888888888888,
              "#fdca26"
             ],
             [
              1,
              "#f0f921"
             ]
            ],
            "type": "histogram2d"
           }
          ],
          "histogram2dcontour": [
           {
            "colorbar": {
             "outlinewidth": 0,
             "ticks": ""
            },
            "colorscale": [
             [
              0,
              "#0d0887"
             ],
             [
              0.1111111111111111,
              "#46039f"
             ],
             [
              0.2222222222222222,
              "#7201a8"
             ],
             [
              0.3333333333333333,
              "#9c179e"
             ],
             [
              0.4444444444444444,
              "#bd3786"
             ],
             [
              0.5555555555555556,
              "#d8576b"
             ],
             [
              0.6666666666666666,
              "#ed7953"
             ],
             [
              0.7777777777777778,
              "#fb9f3a"
             ],
             [
              0.8888888888888888,
              "#fdca26"
             ],
             [
              1,
              "#f0f921"
             ]
            ],
            "type": "histogram2dcontour"
           }
          ],
          "mesh3d": [
           {
            "colorbar": {
             "outlinewidth": 0,
             "ticks": ""
            },
            "type": "mesh3d"
           }
          ],
          "parcoords": [
           {
            "line": {
             "colorbar": {
              "outlinewidth": 0,
              "ticks": ""
             }
            },
            "type": "parcoords"
           }
          ],
          "pie": [
           {
            "automargin": true,
            "type": "pie"
           }
          ],
          "scatter": [
           {
            "fillpattern": {
             "fillmode": "overlay",
             "size": 10,
             "solidity": 0.2
            },
            "type": "scatter"
           }
          ],
          "scatter3d": [
           {
            "line": {
             "colorbar": {
              "outlinewidth": 0,
              "ticks": ""
             }
            },
            "marker": {
             "colorbar": {
              "outlinewidth": 0,
              "ticks": ""
             }
            },
            "type": "scatter3d"
           }
          ],
          "scattercarpet": [
           {
            "marker": {
             "colorbar": {
              "outlinewidth": 0,
              "ticks": ""
             }
            },
            "type": "scattercarpet"
           }
          ],
          "scattergeo": [
           {
            "marker": {
             "colorbar": {
              "outlinewidth": 0,
              "ticks": ""
             }
            },
            "type": "scattergeo"
           }
          ],
          "scattergl": [
           {
            "marker": {
             "colorbar": {
              "outlinewidth": 0,
              "ticks": ""
             }
            },
            "type": "scattergl"
           }
          ],
          "scattermapbox": [
           {
            "marker": {
             "colorbar": {
              "outlinewidth": 0,
              "ticks": ""
             }
            },
            "type": "scattermapbox"
           }
          ],
          "scatterpolar": [
           {
            "marker": {
             "colorbar": {
              "outlinewidth": 0,
              "ticks": ""
             }
            },
            "type": "scatterpolar"
           }
          ],
          "scatterpolargl": [
           {
            "marker": {
             "colorbar": {
              "outlinewidth": 0,
              "ticks": ""
             }
            },
            "type": "scatterpolargl"
           }
          ],
          "scatterternary": [
           {
            "marker": {
             "colorbar": {
              "outlinewidth": 0,
              "ticks": ""
             }
            },
            "type": "scatterternary"
           }
          ],
          "surface": [
           {
            "colorbar": {
             "outlinewidth": 0,
             "ticks": ""
            },
            "colorscale": [
             [
              0,
              "#0d0887"
             ],
             [
              0.1111111111111111,
              "#46039f"
             ],
             [
              0.2222222222222222,
              "#7201a8"
             ],
             [
              0.3333333333333333,
              "#9c179e"
             ],
             [
              0.4444444444444444,
              "#bd3786"
             ],
             [
              0.5555555555555556,
              "#d8576b"
             ],
             [
              0.6666666666666666,
              "#ed7953"
             ],
             [
              0.7777777777777778,
              "#fb9f3a"
             ],
             [
              0.8888888888888888,
              "#fdca26"
             ],
             [
              1,
              "#f0f921"
             ]
            ],
            "type": "surface"
           }
          ],
          "table": [
           {
            "cells": {
             "fill": {
              "color": "#EBF0F8"
             },
             "line": {
              "color": "white"
             }
            },
            "header": {
             "fill": {
              "color": "#C8D4E3"
             },
             "line": {
              "color": "white"
             }
            },
            "type": "table"
           }
          ]
         },
         "layout": {
          "annotationdefaults": {
           "arrowcolor": "#2a3f5f",
           "arrowhead": 0,
           "arrowwidth": 1
          },
          "autotypenumbers": "strict",
          "coloraxis": {
           "colorbar": {
            "outlinewidth": 0,
            "ticks": ""
           }
          },
          "colorscale": {
           "diverging": [
            [
             0,
             "#8e0152"
            ],
            [
             0.1,
             "#c51b7d"
            ],
            [
             0.2,
             "#de77ae"
            ],
            [
             0.3,
             "#f1b6da"
            ],
            [
             0.4,
             "#fde0ef"
            ],
            [
             0.5,
             "#f7f7f7"
            ],
            [
             0.6,
             "#e6f5d0"
            ],
            [
             0.7,
             "#b8e186"
            ],
            [
             0.8,
             "#7fbc41"
            ],
            [
             0.9,
             "#4d9221"
            ],
            [
             1,
             "#276419"
            ]
           ],
           "sequential": [
            [
             0,
             "#0d0887"
            ],
            [
             0.1111111111111111,
             "#46039f"
            ],
            [
             0.2222222222222222,
             "#7201a8"
            ],
            [
             0.3333333333333333,
             "#9c179e"
            ],
            [
             0.4444444444444444,
             "#bd3786"
            ],
            [
             0.5555555555555556,
             "#d8576b"
            ],
            [
             0.6666666666666666,
             "#ed7953"
            ],
            [
             0.7777777777777778,
             "#fb9f3a"
            ],
            [
             0.8888888888888888,
             "#fdca26"
            ],
            [
             1,
             "#f0f921"
            ]
           ],
           "sequentialminus": [
            [
             0,
             "#0d0887"
            ],
            [
             0.1111111111111111,
             "#46039f"
            ],
            [
             0.2222222222222222,
             "#7201a8"
            ],
            [
             0.3333333333333333,
             "#9c179e"
            ],
            [
             0.4444444444444444,
             "#bd3786"
            ],
            [
             0.5555555555555556,
             "#d8576b"
            ],
            [
             0.6666666666666666,
             "#ed7953"
            ],
            [
             0.7777777777777778,
             "#fb9f3a"
            ],
            [
             0.8888888888888888,
             "#fdca26"
            ],
            [
             1,
             "#f0f921"
            ]
           ]
          },
          "colorway": [
           "#636efa",
           "#EF553B",
           "#00cc96",
           "#ab63fa",
           "#FFA15A",
           "#19d3f3",
           "#FF6692",
           "#B6E880",
           "#FF97FF",
           "#FECB52"
          ],
          "font": {
           "color": "#2a3f5f"
          },
          "geo": {
           "bgcolor": "white",
           "lakecolor": "white",
           "landcolor": "#E5ECF6",
           "showlakes": true,
           "showland": true,
           "subunitcolor": "white"
          },
          "hoverlabel": {
           "align": "left"
          },
          "hovermode": "closest",
          "mapbox": {
           "style": "light"
          },
          "paper_bgcolor": "white",
          "plot_bgcolor": "#E5ECF6",
          "polar": {
           "angularaxis": {
            "gridcolor": "white",
            "linecolor": "white",
            "ticks": ""
           },
           "bgcolor": "#E5ECF6",
           "radialaxis": {
            "gridcolor": "white",
            "linecolor": "white",
            "ticks": ""
           }
          },
          "scene": {
           "xaxis": {
            "backgroundcolor": "#E5ECF6",
            "gridcolor": "white",
            "gridwidth": 2,
            "linecolor": "white",
            "showbackground": true,
            "ticks": "",
            "zerolinecolor": "white"
           },
           "yaxis": {
            "backgroundcolor": "#E5ECF6",
            "gridcolor": "white",
            "gridwidth": 2,
            "linecolor": "white",
            "showbackground": true,
            "ticks": "",
            "zerolinecolor": "white"
           },
           "zaxis": {
            "backgroundcolor": "#E5ECF6",
            "gridcolor": "white",
            "gridwidth": 2,
            "linecolor": "white",
            "showbackground": true,
            "ticks": "",
            "zerolinecolor": "white"
           }
          },
          "shapedefaults": {
           "line": {
            "color": "#2a3f5f"
           }
          },
          "ternary": {
           "aaxis": {
            "gridcolor": "white",
            "linecolor": "white",
            "ticks": ""
           },
           "baxis": {
            "gridcolor": "white",
            "linecolor": "white",
            "ticks": ""
           },
           "bgcolor": "#E5ECF6",
           "caxis": {
            "gridcolor": "white",
            "linecolor": "white",
            "ticks": ""
           }
          },
          "title": {
           "x": 0.05
          },
          "xaxis": {
           "automargin": true,
           "gridcolor": "white",
           "linecolor": "white",
           "ticks": "",
           "title": {
            "standoff": 15
           },
           "zerolinecolor": "white",
           "zerolinewidth": 2
          },
          "yaxis": {
           "automargin": true,
           "gridcolor": "white",
           "linecolor": "white",
           "ticks": "",
           "title": {
            "standoff": 15
           },
           "zerolinecolor": "white",
           "zerolinewidth": 2
          }
         }
        },
        "title": {
         "text": "AVG math score for different socio-economics status"
        }
       }
      }
     },
     "metadata": {},
     "output_type": "display_data"
    }
   ],
   "source": [
    "# Create traces for each set of values\n",
    "trace12 = go.Bar(x=year_cat, y=low2, name='Low')\n",
    "trace22 = go.Bar(x=year_cat, y=medium2, name='Medium')\n",
    "trace32 = go.Bar(x=year_cat, y=high2, name='High')\n",
    "\n",
    "# Layout settings\n",
    "layout = go.Layout(\n",
    "    title='AVG math score for different socio-economics status',\n",
    "    barmode='group'  # Set barmode to 'stack' for stacking bars\n",
    ")\n",
    "\n",
    "# Create the figure with the traces and layout\n",
    "fig = go.Figure(data=[trace12, trace22,trace32], layout=layout)\n",
    "\n",
    "# Show the plot\n",
    "fig.show()\n",
    "\n",
    "fig.write_html(\"math_ses.html\")"
   ]
  },
  {
   "cell_type": "code",
   "execution_count": null,
   "metadata": {},
   "outputs": [],
   "source": [
    "low3 = []\n",
    "medium3 = []\n",
    "high3 = []\n",
    "#year_cat = readings_avg2['Year'].unique().tolist()\n",
    "\n",
    "for i in year_cat:\n",
    "    low_sc = sci_avg2[(sci_avg2['Year'] == i) & (sci_avg2['Category'] == \"Low\")][\"avg\"].mean()\n",
    "    med_sc = sci_avg2[(sci_avg2['Year'] == i) & (sci_avg2['Category'] == \"Medium\")][\"avg\"].mean()\n",
    "    h_sc = sci_avg2[(sci_avg2['Year'] == i) & (sci_avg2['Category'] == \"High\")][\"avg\"].mean()\n",
    "    low3.append(low_sc)\n",
    "    medium3.append(med_sc)\n",
    "    high3.append(h_sc)"
   ]
  },
  {
   "cell_type": "code",
   "execution_count": null,
   "metadata": {},
   "outputs": [
    {
     "data": {
      "application/vnd.plotly.v1+json": {
       "config": {
        "plotlyServerURL": "https://plot.ly"
       },
       "data": [
        {
         "name": "Low",
         "type": "bar",
         "x": [
          "2000",
          "2003",
          "2006",
          "2009",
          "2012",
          "2015",
          "2018"
         ],
         "y": [
          null,
          null,
          429.43387236842705,
          418.7515514604399,
          422.6806616500306,
          435.06112678438797,
          396.7573916718464
         ]
        },
        {
         "name": "Medium",
         "type": "bar",
         "x": [
          "2000",
          "2003",
          "2006",
          "2009",
          "2012",
          "2015",
          "2018"
         ],
         "y": [
          null,
          null,
          479.0587270297958,
          470.8689026360191,
          477.2081407687501,
          452.1373727785554,
          453.53455798996333
         ]
        },
        {
         "name": "High",
         "type": "bar",
         "x": [
          "2000",
          "2003",
          "2006",
          "2009",
          "2012",
          "2015",
          "2018"
         ],
         "y": [
          null,
          null,
          500.6905313279516,
          503.50416078296087,
          495.6526978289611,
          493.45374741026103,
          490.6971887425347
         ]
        }
       ],
       "layout": {
        "barmode": "group",
        "template": {
         "data": {
          "bar": [
           {
            "error_x": {
             "color": "#2a3f5f"
            },
            "error_y": {
             "color": "#2a3f5f"
            },
            "marker": {
             "line": {
              "color": "#E5ECF6",
              "width": 0.5
             },
             "pattern": {
              "fillmode": "overlay",
              "size": 10,
              "solidity": 0.2
             }
            },
            "type": "bar"
           }
          ],
          "barpolar": [
           {
            "marker": {
             "line": {
              "color": "#E5ECF6",
              "width": 0.5
             },
             "pattern": {
              "fillmode": "overlay",
              "size": 10,
              "solidity": 0.2
             }
            },
            "type": "barpolar"
           }
          ],
          "carpet": [
           {
            "aaxis": {
             "endlinecolor": "#2a3f5f",
             "gridcolor": "white",
             "linecolor": "white",
             "minorgridcolor": "white",
             "startlinecolor": "#2a3f5f"
            },
            "baxis": {
             "endlinecolor": "#2a3f5f",
             "gridcolor": "white",
             "linecolor": "white",
             "minorgridcolor": "white",
             "startlinecolor": "#2a3f5f"
            },
            "type": "carpet"
           }
          ],
          "choropleth": [
           {
            "colorbar": {
             "outlinewidth": 0,
             "ticks": ""
            },
            "type": "choropleth"
           }
          ],
          "contour": [
           {
            "colorbar": {
             "outlinewidth": 0,
             "ticks": ""
            },
            "colorscale": [
             [
              0,
              "#0d0887"
             ],
             [
              0.1111111111111111,
              "#46039f"
             ],
             [
              0.2222222222222222,
              "#7201a8"
             ],
             [
              0.3333333333333333,
              "#9c179e"
             ],
             [
              0.4444444444444444,
              "#bd3786"
             ],
             [
              0.5555555555555556,
              "#d8576b"
             ],
             [
              0.6666666666666666,
              "#ed7953"
             ],
             [
              0.7777777777777778,
              "#fb9f3a"
             ],
             [
              0.8888888888888888,
              "#fdca26"
             ],
             [
              1,
              "#f0f921"
             ]
            ],
            "type": "contour"
           }
          ],
          "contourcarpet": [
           {
            "colorbar": {
             "outlinewidth": 0,
             "ticks": ""
            },
            "type": "contourcarpet"
           }
          ],
          "heatmap": [
           {
            "colorbar": {
             "outlinewidth": 0,
             "ticks": ""
            },
            "colorscale": [
             [
              0,
              "#0d0887"
             ],
             [
              0.1111111111111111,
              "#46039f"
             ],
             [
              0.2222222222222222,
              "#7201a8"
             ],
             [
              0.3333333333333333,
              "#9c179e"
             ],
             [
              0.4444444444444444,
              "#bd3786"
             ],
             [
              0.5555555555555556,
              "#d8576b"
             ],
             [
              0.6666666666666666,
              "#ed7953"
             ],
             [
              0.7777777777777778,
              "#fb9f3a"
             ],
             [
              0.8888888888888888,
              "#fdca26"
             ],
             [
              1,
              "#f0f921"
             ]
            ],
            "type": "heatmap"
           }
          ],
          "heatmapgl": [
           {
            "colorbar": {
             "outlinewidth": 0,
             "ticks": ""
            },
            "colorscale": [
             [
              0,
              "#0d0887"
             ],
             [
              0.1111111111111111,
              "#46039f"
             ],
             [
              0.2222222222222222,
              "#7201a8"
             ],
             [
              0.3333333333333333,
              "#9c179e"
             ],
             [
              0.4444444444444444,
              "#bd3786"
             ],
             [
              0.5555555555555556,
              "#d8576b"
             ],
             [
              0.6666666666666666,
              "#ed7953"
             ],
             [
              0.7777777777777778,
              "#fb9f3a"
             ],
             [
              0.8888888888888888,
              "#fdca26"
             ],
             [
              1,
              "#f0f921"
             ]
            ],
            "type": "heatmapgl"
           }
          ],
          "histogram": [
           {
            "marker": {
             "pattern": {
              "fillmode": "overlay",
              "size": 10,
              "solidity": 0.2
             }
            },
            "type": "histogram"
           }
          ],
          "histogram2d": [
           {
            "colorbar": {
             "outlinewidth": 0,
             "ticks": ""
            },
            "colorscale": [
             [
              0,
              "#0d0887"
             ],
             [
              0.1111111111111111,
              "#46039f"
             ],
             [
              0.2222222222222222,
              "#7201a8"
             ],
             [
              0.3333333333333333,
              "#9c179e"
             ],
             [
              0.4444444444444444,
              "#bd3786"
             ],
             [
              0.5555555555555556,
              "#d8576b"
             ],
             [
              0.6666666666666666,
              "#ed7953"
             ],
             [
              0.7777777777777778,
              "#fb9f3a"
             ],
             [
              0.8888888888888888,
              "#fdca26"
             ],
             [
              1,
              "#f0f921"
             ]
            ],
            "type": "histogram2d"
           }
          ],
          "histogram2dcontour": [
           {
            "colorbar": {
             "outlinewidth": 0,
             "ticks": ""
            },
            "colorscale": [
             [
              0,
              "#0d0887"
             ],
             [
              0.1111111111111111,
              "#46039f"
             ],
             [
              0.2222222222222222,
              "#7201a8"
             ],
             [
              0.3333333333333333,
              "#9c179e"
             ],
             [
              0.4444444444444444,
              "#bd3786"
             ],
             [
              0.5555555555555556,
              "#d8576b"
             ],
             [
              0.6666666666666666,
              "#ed7953"
             ],
             [
              0.7777777777777778,
              "#fb9f3a"
             ],
             [
              0.8888888888888888,
              "#fdca26"
             ],
             [
              1,
              "#f0f921"
             ]
            ],
            "type": "histogram2dcontour"
           }
          ],
          "mesh3d": [
           {
            "colorbar": {
             "outlinewidth": 0,
             "ticks": ""
            },
            "type": "mesh3d"
           }
          ],
          "parcoords": [
           {
            "line": {
             "colorbar": {
              "outlinewidth": 0,
              "ticks": ""
             }
            },
            "type": "parcoords"
           }
          ],
          "pie": [
           {
            "automargin": true,
            "type": "pie"
           }
          ],
          "scatter": [
           {
            "fillpattern": {
             "fillmode": "overlay",
             "size": 10,
             "solidity": 0.2
            },
            "type": "scatter"
           }
          ],
          "scatter3d": [
           {
            "line": {
             "colorbar": {
              "outlinewidth": 0,
              "ticks": ""
             }
            },
            "marker": {
             "colorbar": {
              "outlinewidth": 0,
              "ticks": ""
             }
            },
            "type": "scatter3d"
           }
          ],
          "scattercarpet": [
           {
            "marker": {
             "colorbar": {
              "outlinewidth": 0,
              "ticks": ""
             }
            },
            "type": "scattercarpet"
           }
          ],
          "scattergeo": [
           {
            "marker": {
             "colorbar": {
              "outlinewidth": 0,
              "ticks": ""
             }
            },
            "type": "scattergeo"
           }
          ],
          "scattergl": [
           {
            "marker": {
             "colorbar": {
              "outlinewidth": 0,
              "ticks": ""
             }
            },
            "type": "scattergl"
           }
          ],
          "scattermapbox": [
           {
            "marker": {
             "colorbar": {
              "outlinewidth": 0,
              "ticks": ""
             }
            },
            "type": "scattermapbox"
           }
          ],
          "scatterpolar": [
           {
            "marker": {
             "colorbar": {
              "outlinewidth": 0,
              "ticks": ""
             }
            },
            "type": "scatterpolar"
           }
          ],
          "scatterpolargl": [
           {
            "marker": {
             "colorbar": {
              "outlinewidth": 0,
              "ticks": ""
             }
            },
            "type": "scatterpolargl"
           }
          ],
          "scatterternary": [
           {
            "marker": {
             "colorbar": {
              "outlinewidth": 0,
              "ticks": ""
             }
            },
            "type": "scatterternary"
           }
          ],
          "surface": [
           {
            "colorbar": {
             "outlinewidth": 0,
             "ticks": ""
            },
            "colorscale": [
             [
              0,
              "#0d0887"
             ],
             [
              0.1111111111111111,
              "#46039f"
             ],
             [
              0.2222222222222222,
              "#7201a8"
             ],
             [
              0.3333333333333333,
              "#9c179e"
             ],
             [
              0.4444444444444444,
              "#bd3786"
             ],
             [
              0.5555555555555556,
              "#d8576b"
             ],
             [
              0.6666666666666666,
              "#ed7953"
             ],
             [
              0.7777777777777778,
              "#fb9f3a"
             ],
             [
              0.8888888888888888,
              "#fdca26"
             ],
             [
              1,
              "#f0f921"
             ]
            ],
            "type": "surface"
           }
          ],
          "table": [
           {
            "cells": {
             "fill": {
              "color": "#EBF0F8"
             },
             "line": {
              "color": "white"
             }
            },
            "header": {
             "fill": {
              "color": "#C8D4E3"
             },
             "line": {
              "color": "white"
             }
            },
            "type": "table"
           }
          ]
         },
         "layout": {
          "annotationdefaults": {
           "arrowcolor": "#2a3f5f",
           "arrowhead": 0,
           "arrowwidth": 1
          },
          "autotypenumbers": "strict",
          "coloraxis": {
           "colorbar": {
            "outlinewidth": 0,
            "ticks": ""
           }
          },
          "colorscale": {
           "diverging": [
            [
             0,
             "#8e0152"
            ],
            [
             0.1,
             "#c51b7d"
            ],
            [
             0.2,
             "#de77ae"
            ],
            [
             0.3,
             "#f1b6da"
            ],
            [
             0.4,
             "#fde0ef"
            ],
            [
             0.5,
             "#f7f7f7"
            ],
            [
             0.6,
             "#e6f5d0"
            ],
            [
             0.7,
             "#b8e186"
            ],
            [
             0.8,
             "#7fbc41"
            ],
            [
             0.9,
             "#4d9221"
            ],
            [
             1,
             "#276419"
            ]
           ],
           "sequential": [
            [
             0,
             "#0d0887"
            ],
            [
             0.1111111111111111,
             "#46039f"
            ],
            [
             0.2222222222222222,
             "#7201a8"
            ],
            [
             0.3333333333333333,
             "#9c179e"
            ],
            [
             0.4444444444444444,
             "#bd3786"
            ],
            [
             0.5555555555555556,
             "#d8576b"
            ],
            [
             0.6666666666666666,
             "#ed7953"
            ],
            [
             0.7777777777777778,
             "#fb9f3a"
            ],
            [
             0.8888888888888888,
             "#fdca26"
            ],
            [
             1,
             "#f0f921"
            ]
           ],
           "sequentialminus": [
            [
             0,
             "#0d0887"
            ],
            [
             0.1111111111111111,
             "#46039f"
            ],
            [
             0.2222222222222222,
             "#7201a8"
            ],
            [
             0.3333333333333333,
             "#9c179e"
            ],
            [
             0.4444444444444444,
             "#bd3786"
            ],
            [
             0.5555555555555556,
             "#d8576b"
            ],
            [
             0.6666666666666666,
             "#ed7953"
            ],
            [
             0.7777777777777778,
             "#fb9f3a"
            ],
            [
             0.8888888888888888,
             "#fdca26"
            ],
            [
             1,
             "#f0f921"
            ]
           ]
          },
          "colorway": [
           "#636efa",
           "#EF553B",
           "#00cc96",
           "#ab63fa",
           "#FFA15A",
           "#19d3f3",
           "#FF6692",
           "#B6E880",
           "#FF97FF",
           "#FECB52"
          ],
          "font": {
           "color": "#2a3f5f"
          },
          "geo": {
           "bgcolor": "white",
           "lakecolor": "white",
           "landcolor": "#E5ECF6",
           "showlakes": true,
           "showland": true,
           "subunitcolor": "white"
          },
          "hoverlabel": {
           "align": "left"
          },
          "hovermode": "closest",
          "mapbox": {
           "style": "light"
          },
          "paper_bgcolor": "white",
          "plot_bgcolor": "#E5ECF6",
          "polar": {
           "angularaxis": {
            "gridcolor": "white",
            "linecolor": "white",
            "ticks": ""
           },
           "bgcolor": "#E5ECF6",
           "radialaxis": {
            "gridcolor": "white",
            "linecolor": "white",
            "ticks": ""
           }
          },
          "scene": {
           "xaxis": {
            "backgroundcolor": "#E5ECF6",
            "gridcolor": "white",
            "gridwidth": 2,
            "linecolor": "white",
            "showbackground": true,
            "ticks": "",
            "zerolinecolor": "white"
           },
           "yaxis": {
            "backgroundcolor": "#E5ECF6",
            "gridcolor": "white",
            "gridwidth": 2,
            "linecolor": "white",
            "showbackground": true,
            "ticks": "",
            "zerolinecolor": "white"
           },
           "zaxis": {
            "backgroundcolor": "#E5ECF6",
            "gridcolor": "white",
            "gridwidth": 2,
            "linecolor": "white",
            "showbackground": true,
            "ticks": "",
            "zerolinecolor": "white"
           }
          },
          "shapedefaults": {
           "line": {
            "color": "#2a3f5f"
           }
          },
          "ternary": {
           "aaxis": {
            "gridcolor": "white",
            "linecolor": "white",
            "ticks": ""
           },
           "baxis": {
            "gridcolor": "white",
            "linecolor": "white",
            "ticks": ""
           },
           "bgcolor": "#E5ECF6",
           "caxis": {
            "gridcolor": "white",
            "linecolor": "white",
            "ticks": ""
           }
          },
          "title": {
           "x": 0.05
          },
          "xaxis": {
           "automargin": true,
           "gridcolor": "white",
           "linecolor": "white",
           "ticks": "",
           "title": {
            "standoff": 15
           },
           "zerolinecolor": "white",
           "zerolinewidth": 2
          },
          "yaxis": {
           "automargin": true,
           "gridcolor": "white",
           "linecolor": "white",
           "ticks": "",
           "title": {
            "standoff": 15
           },
           "zerolinecolor": "white",
           "zerolinewidth": 2
          }
         }
        },
        "title": {
         "text": "AVG science score for different socio-economics status"
        }
       }
      }
     },
     "metadata": {},
     "output_type": "display_data"
    }
   ],
   "source": [
    "trace13 = go.Bar(x=year_cat, y=low3, name='Low')\n",
    "trace23 = go.Bar(x=year_cat, y=medium3, name='Medium')\n",
    "trace33 = go.Bar(x=year_cat, y=high3, name='High')\n",
    "\n",
    "# Layout settings\n",
    "layout = go.Layout(\n",
    "    title='AVG science score for different socio-economics status',\n",
    "    barmode='group'  # Set barmode to 'stack' for stacking bars\n",
    ")\n",
    "\n",
    "# Create the figure with the traces and layout\n",
    "fig = go.Figure(data=[trace13, trace23,trace33], layout=layout)\n",
    "\n",
    "# Show the plot\n",
    "fig.show()\n",
    "\n",
    "fig.write_html(\"sci_ses.html\")"
   ]
  },
  {
   "cell_type": "code",
   "execution_count": 180,
   "metadata": {},
   "outputs": [],
   "source": [
    "ses_avg.to_excel('ses_trend.xlsx')"
   ]
  },
  {
   "cell_type": "code",
   "execution_count": 53,
   "metadata": {},
   "outputs": [],
   "source": [
    "readings_avg.to_csv('../data_all/dtw_reading.csv')"
   ]
  },
  {
   "cell_type": "code",
   "execution_count": 55,
   "metadata": {},
   "outputs": [],
   "source": [
    "math_avg.to_csv('../data_all/dtw_math.csv')"
   ]
  },
  {
   "cell_type": "code",
   "execution_count": 57,
   "metadata": {},
   "outputs": [],
   "source": [
    "sci_avg.to_csv('../data_all/dtw_sci.csv')"
   ]
  }
 ],
 "metadata": {
  "kernelspec": {
   "display_name": "Python 3",
   "language": "python",
   "name": "python3"
  },
  "language_info": {
   "codemirror_mode": {
    "name": "ipython",
    "version": 3
   },
   "file_extension": ".py",
   "mimetype": "text/x-python",
   "name": "python",
   "nbconvert_exporter": "python",
   "pygments_lexer": "ipython3",
   "version": "3.10.8"
  },
  "orig_nbformat": 4
 },
 "nbformat": 4,
 "nbformat_minor": 2
}
