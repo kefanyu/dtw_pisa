{
 "cells": [
  {
   "cell_type": "code",
   "execution_count": 1,
   "metadata": {},
   "outputs": [],
   "source": [
    "import pandas as pd\n",
    "import numpy as np\n",
    "import xlrd"
   ]
  },
  {
   "cell_type": "code",
   "execution_count": 2,
   "metadata": {},
   "outputs": [
    {
     "data": {
      "text/html": [
       "<div>\n",
       "<style scoped>\n",
       "    .dataframe tbody tr th:only-of-type {\n",
       "        vertical-align: middle;\n",
       "    }\n",
       "\n",
       "    .dataframe tbody tr th {\n",
       "        vertical-align: top;\n",
       "    }\n",
       "\n",
       "    .dataframe thead th {\n",
       "        text-align: right;\n",
       "    }\n",
       "</style>\n",
       "<table border=\"1\" class=\"dataframe\">\n",
       "  <thead>\n",
       "    <tr style=\"text-align: right;\">\n",
       "      <th></th>\n",
       "      <th>Countries</th>\n",
       "      <th>F2000</th>\n",
       "      <th>F_se_2000</th>\n",
       "      <th>M2000</th>\n",
       "      <th>M_se_2000</th>\n",
       "    </tr>\n",
       "  </thead>\n",
       "  <tbody>\n",
       "    <tr>\n",
       "      <th>0</th>\n",
       "      <td>Australia</td>\n",
       "      <td>546.251223</td>\n",
       "      <td>4.73506</td>\n",
       "      <td>512.645471</td>\n",
       "      <td>4.041582</td>\n",
       "    </tr>\n",
       "    <tr>\n",
       "      <th>1</th>\n",
       "      <td>Austria</td>\n",
       "      <td>509.168003</td>\n",
       "      <td>3.951059</td>\n",
       "      <td>475.77071</td>\n",
       "      <td>3.623126</td>\n",
       "    </tr>\n",
       "    <tr>\n",
       "      <th>2</th>\n",
       "      <td>Belgium</td>\n",
       "      <td>525.208512</td>\n",
       "      <td>4.922344</td>\n",
       "      <td>492.394742</td>\n",
       "      <td>4.240977</td>\n",
       "    </tr>\n",
       "    <tr>\n",
       "      <th>3</th>\n",
       "      <td>Canada</td>\n",
       "      <td>551.133144</td>\n",
       "      <td>1.703818</td>\n",
       "      <td>518.922764</td>\n",
       "      <td>1.763527</td>\n",
       "    </tr>\n",
       "    <tr>\n",
       "      <th>4</th>\n",
       "      <td>Chile</td>\n",
       "      <td>421.101175</td>\n",
       "      <td>4.619114</td>\n",
       "      <td>396.493977</td>\n",
       "      <td>4.288241</td>\n",
       "    </tr>\n",
       "    <tr>\n",
       "      <th>...</th>\n",
       "      <td>...</td>\n",
       "      <td>...</td>\n",
       "      <td>...</td>\n",
       "      <td>...</td>\n",
       "      <td>...</td>\n",
       "    </tr>\n",
       "    <tr>\n",
       "      <th>82</th>\n",
       "      <td>Tunisia</td>\n",
       "      <td>—</td>\n",
       "      <td>†</td>\n",
       "      <td>—</td>\n",
       "      <td>†</td>\n",
       "    </tr>\n",
       "    <tr>\n",
       "      <th>83</th>\n",
       "      <td>Ukraine</td>\n",
       "      <td>—</td>\n",
       "      <td>†</td>\n",
       "      <td>—</td>\n",
       "      <td>†</td>\n",
       "    </tr>\n",
       "    <tr>\n",
       "      <th>84</th>\n",
       "      <td>United Arab Emirates</td>\n",
       "      <td>—</td>\n",
       "      <td>†</td>\n",
       "      <td>—</td>\n",
       "      <td>†</td>\n",
       "    </tr>\n",
       "    <tr>\n",
       "      <th>85</th>\n",
       "      <td>Uruguay</td>\n",
       "      <td>—</td>\n",
       "      <td>†</td>\n",
       "      <td>—</td>\n",
       "      <td>†</td>\n",
       "    </tr>\n",
       "    <tr>\n",
       "      <th>86</th>\n",
       "      <td>Viet Nam</td>\n",
       "      <td>—</td>\n",
       "      <td>†</td>\n",
       "      <td>—</td>\n",
       "      <td>†</td>\n",
       "    </tr>\n",
       "  </tbody>\n",
       "</table>\n",
       "<p>87 rows × 5 columns</p>\n",
       "</div>"
      ],
      "text/plain": [
       "               Countries       F2000 F_se_2000       M2000 M_se_2000\n",
       "0              Australia  546.251223   4.73506  512.645471  4.041582\n",
       "1                Austria  509.168003  3.951059   475.77071  3.623126\n",
       "2                Belgium  525.208512  4.922344  492.394742  4.240977\n",
       "3                 Canada  551.133144  1.703818  518.922764  1.763527\n",
       "4                  Chile  421.101175  4.619114  396.493977  4.288241\n",
       "..                   ...         ...       ...         ...       ...\n",
       "82               Tunisia           —         †           —         †\n",
       "83               Ukraine           —         †           —         †\n",
       "84  United Arab Emirates           —         †           —         †\n",
       "85               Uruguay           —         †           —         †\n",
       "86              Viet Nam           —         †           —         †\n",
       "\n",
       "[87 rows x 5 columns]"
      ]
     },
     "execution_count": 2,
     "metadata": {},
     "output_type": "execute_result"
    }
   ],
   "source": [
    "readingg2000 = pd.read_excel(\"../data_all/gender/gender2000.xls\",sheet_name='Report 1- Table',skiprows=[1,2,3,4,5,6,7,8,9,10,11,100,101,102,103,104])\n",
    "readingg2000.drop(['Unnamed: 0', 'Unnamed: 1'], axis=1, inplace=True)\n",
    "readingg2000.rename({'Unnamed: 2': 'Countries', 'Unnamed: 3': 'F2000', 'Unnamed: 4': 'F_se_2000', 'Unnamed: 5': 'M2000', 'Unnamed: 6': 'M_se_2000'}, axis=1, inplace=True)\n",
    "readingg2000 = readingg2000.drop(index=[87])\n",
    "readingg2000"
   ]
  },
  {
   "cell_type": "code",
   "execution_count": 3,
   "metadata": {},
   "outputs": [
    {
     "data": {
      "text/html": [
       "<div>\n",
       "<style scoped>\n",
       "    .dataframe tbody tr th:only-of-type {\n",
       "        vertical-align: middle;\n",
       "    }\n",
       "\n",
       "    .dataframe tbody tr th {\n",
       "        vertical-align: top;\n",
       "    }\n",
       "\n",
       "    .dataframe thead th {\n",
       "        text-align: right;\n",
       "    }\n",
       "</style>\n",
       "<table border=\"1\" class=\"dataframe\">\n",
       "  <thead>\n",
       "    <tr style=\"text-align: right;\">\n",
       "      <th></th>\n",
       "      <th>Countries</th>\n",
       "      <th>F2003</th>\n",
       "      <th>F_se_2003</th>\n",
       "      <th>M2003</th>\n",
       "      <th>M_se_2003</th>\n",
       "    </tr>\n",
       "  </thead>\n",
       "  <tbody>\n",
       "    <tr>\n",
       "      <th>0</th>\n",
       "      <td>Australia</td>\n",
       "      <td>545.425124</td>\n",
       "      <td>2.553496</td>\n",
       "      <td>506.085696</td>\n",
       "      <td>2.835287</td>\n",
       "    </tr>\n",
       "    <tr>\n",
       "      <th>1</th>\n",
       "      <td>Austria</td>\n",
       "      <td>514.35335</td>\n",
       "      <td>4.213715</td>\n",
       "      <td>467.131762</td>\n",
       "      <td>4.54068</td>\n",
       "    </tr>\n",
       "    <tr>\n",
       "      <th>2</th>\n",
       "      <td>Belgium</td>\n",
       "      <td>526.225709</td>\n",
       "      <td>3.302789</td>\n",
       "      <td>489.326567</td>\n",
       "      <td>3.760765</td>\n",
       "    </tr>\n",
       "    <tr>\n",
       "      <th>3</th>\n",
       "      <td>Canada</td>\n",
       "      <td>545.525389</td>\n",
       "      <td>1.816646</td>\n",
       "      <td>513.997502</td>\n",
       "      <td>2.046961</td>\n",
       "    </tr>\n",
       "    <tr>\n",
       "      <th>4</th>\n",
       "      <td>Chile</td>\n",
       "      <td>—</td>\n",
       "      <td>†</td>\n",
       "      <td>—</td>\n",
       "      <td>†</td>\n",
       "    </tr>\n",
       "    <tr>\n",
       "      <th>...</th>\n",
       "      <td>...</td>\n",
       "      <td>...</td>\n",
       "      <td>...</td>\n",
       "      <td>...</td>\n",
       "      <td>...</td>\n",
       "    </tr>\n",
       "    <tr>\n",
       "      <th>82</th>\n",
       "      <td>Tunisia</td>\n",
       "      <td>387.103211</td>\n",
       "      <td>3.27431</td>\n",
       "      <td>361.770269</td>\n",
       "      <td>3.314829</td>\n",
       "    </tr>\n",
       "    <tr>\n",
       "      <th>83</th>\n",
       "      <td>Ukraine</td>\n",
       "      <td>—</td>\n",
       "      <td>†</td>\n",
       "      <td>—</td>\n",
       "      <td>†</td>\n",
       "    </tr>\n",
       "    <tr>\n",
       "      <th>84</th>\n",
       "      <td>United Arab Emirates</td>\n",
       "      <td>—</td>\n",
       "      <td>†</td>\n",
       "      <td>—</td>\n",
       "      <td>†</td>\n",
       "    </tr>\n",
       "    <tr>\n",
       "      <th>85</th>\n",
       "      <td>Uruguay</td>\n",
       "      <td>453.318315</td>\n",
       "      <td>3.724549</td>\n",
       "      <td>414.024588</td>\n",
       "      <td>4.498276</td>\n",
       "    </tr>\n",
       "    <tr>\n",
       "      <th>86</th>\n",
       "      <td>Viet Nam</td>\n",
       "      <td>—</td>\n",
       "      <td>†</td>\n",
       "      <td>—</td>\n",
       "      <td>†</td>\n",
       "    </tr>\n",
       "  </tbody>\n",
       "</table>\n",
       "<p>87 rows × 5 columns</p>\n",
       "</div>"
      ],
      "text/plain": [
       "               Countries       F2003 F_se_2003       M2003 M_se_2003\n",
       "0              Australia  545.425124  2.553496  506.085696  2.835287\n",
       "1                Austria   514.35335  4.213715  467.131762   4.54068\n",
       "2                Belgium  526.225709  3.302789  489.326567  3.760765\n",
       "3                 Canada  545.525389  1.816646  513.997502  2.046961\n",
       "4                  Chile           —         †           —         †\n",
       "..                   ...         ...       ...         ...       ...\n",
       "82               Tunisia  387.103211   3.27431  361.770269  3.314829\n",
       "83               Ukraine           —         †           —         †\n",
       "84  United Arab Emirates           —         †           —         †\n",
       "85               Uruguay  453.318315  3.724549  414.024588  4.498276\n",
       "86              Viet Nam           —         †           —         †\n",
       "\n",
       "[87 rows x 5 columns]"
      ]
     },
     "execution_count": 3,
     "metadata": {},
     "output_type": "execute_result"
    }
   ],
   "source": [
    "readingg2003 = pd.read_excel(\"../data_all/gender/gender2003.xls\",sheet_name='Report 1- Table',skiprows=[1,2,3,4,5,6,7,8,9,10,11,100,101,102,103,104])\n",
    "readingg2003.drop(['Unnamed: 0', 'Unnamed: 1'], axis=1, inplace=True)\n",
    "readingg2003.rename({'Unnamed: 2': 'Countries', 'Unnamed: 3': 'F2003', 'Unnamed: 4': 'F_se_2003', 'Unnamed: 5': 'M2003', 'Unnamed: 6': 'M_se_2003'}, axis=1, inplace=True)\n",
    "readingg2003 = readingg2003.drop(index=[87])\n",
    "readingg2003"
   ]
  },
  {
   "cell_type": "code",
   "execution_count": 4,
   "metadata": {},
   "outputs": [
    {
     "data": {
      "text/html": [
       "<div>\n",
       "<style scoped>\n",
       "    .dataframe tbody tr th:only-of-type {\n",
       "        vertical-align: middle;\n",
       "    }\n",
       "\n",
       "    .dataframe tbody tr th {\n",
       "        vertical-align: top;\n",
       "    }\n",
       "\n",
       "    .dataframe thead th {\n",
       "        text-align: right;\n",
       "    }\n",
       "</style>\n",
       "<table border=\"1\" class=\"dataframe\">\n",
       "  <thead>\n",
       "    <tr style=\"text-align: right;\">\n",
       "      <th></th>\n",
       "      <th>Countries</th>\n",
       "      <th>F2006</th>\n",
       "      <th>F_se_2006</th>\n",
       "      <th>M2006</th>\n",
       "      <th>M_se_2006</th>\n",
       "    </tr>\n",
       "  </thead>\n",
       "  <tbody>\n",
       "    <tr>\n",
       "      <th>0</th>\n",
       "      <td>Australia</td>\n",
       "      <td>531.754388</td>\n",
       "      <td>2.182185</td>\n",
       "      <td>494.872864</td>\n",
       "      <td>3.047414</td>\n",
       "    </tr>\n",
       "    <tr>\n",
       "      <th>1</th>\n",
       "      <td>Austria</td>\n",
       "      <td>512.912207</td>\n",
       "      <td>5.515972</td>\n",
       "      <td>468.311688</td>\n",
       "      <td>4.874765</td>\n",
       "    </tr>\n",
       "    <tr>\n",
       "      <th>2</th>\n",
       "      <td>Belgium</td>\n",
       "      <td>521.728314</td>\n",
       "      <td>3.461428</td>\n",
       "      <td>481.997196</td>\n",
       "      <td>4.08202</td>\n",
       "    </tr>\n",
       "    <tr>\n",
       "      <th>3</th>\n",
       "      <td>Canada</td>\n",
       "      <td>543.043598</td>\n",
       "      <td>2.466378</td>\n",
       "      <td>511.142449</td>\n",
       "      <td>2.838748</td>\n",
       "    </tr>\n",
       "    <tr>\n",
       "      <th>4</th>\n",
       "      <td>Chile</td>\n",
       "      <td>451.251972</td>\n",
       "      <td>5.376662</td>\n",
       "      <td>434.290608</td>\n",
       "      <td>5.970027</td>\n",
       "    </tr>\n",
       "    <tr>\n",
       "      <th>...</th>\n",
       "      <td>...</td>\n",
       "      <td>...</td>\n",
       "      <td>...</td>\n",
       "      <td>...</td>\n",
       "      <td>...</td>\n",
       "    </tr>\n",
       "    <tr>\n",
       "      <th>82</th>\n",
       "      <td>Tunisia</td>\n",
       "      <td>398.347592</td>\n",
       "      <td>3.948033</td>\n",
       "      <td>360.653715</td>\n",
       "      <td>4.640166</td>\n",
       "    </tr>\n",
       "    <tr>\n",
       "      <th>83</th>\n",
       "      <td>Ukraine</td>\n",
       "      <td>—</td>\n",
       "      <td>†</td>\n",
       "      <td>—</td>\n",
       "      <td>†</td>\n",
       "    </tr>\n",
       "    <tr>\n",
       "      <th>84</th>\n",
       "      <td>United Arab Emirates</td>\n",
       "      <td>—</td>\n",
       "      <td>†</td>\n",
       "      <td>—</td>\n",
       "      <td>†</td>\n",
       "    </tr>\n",
       "    <tr>\n",
       "      <th>85</th>\n",
       "      <td>Uruguay</td>\n",
       "      <td>434.578215</td>\n",
       "      <td>3.768399</td>\n",
       "      <td>389.398925</td>\n",
       "      <td>4.422459</td>\n",
       "    </tr>\n",
       "    <tr>\n",
       "      <th>86</th>\n",
       "      <td>Viet Nam</td>\n",
       "      <td>—</td>\n",
       "      <td>†</td>\n",
       "      <td>—</td>\n",
       "      <td>†</td>\n",
       "    </tr>\n",
       "  </tbody>\n",
       "</table>\n",
       "<p>87 rows × 5 columns</p>\n",
       "</div>"
      ],
      "text/plain": [
       "               Countries       F2006 F_se_2006       M2006 M_se_2006\n",
       "0              Australia  531.754388  2.182185  494.872864  3.047414\n",
       "1                Austria  512.912207  5.515972  468.311688  4.874765\n",
       "2                Belgium  521.728314  3.461428  481.997196   4.08202\n",
       "3                 Canada  543.043598  2.466378  511.142449  2.838748\n",
       "4                  Chile  451.251972  5.376662  434.290608  5.970027\n",
       "..                   ...         ...       ...         ...       ...\n",
       "82               Tunisia  398.347592  3.948033  360.653715  4.640166\n",
       "83               Ukraine           —         †           —         †\n",
       "84  United Arab Emirates           —         †           —         †\n",
       "85               Uruguay  434.578215  3.768399  389.398925  4.422459\n",
       "86              Viet Nam           —         †           —         †\n",
       "\n",
       "[87 rows x 5 columns]"
      ]
     },
     "execution_count": 4,
     "metadata": {},
     "output_type": "execute_result"
    }
   ],
   "source": [
    "readingg2006 = pd.read_excel(\"../data_all/gender/gender2006.xls\",sheet_name='Report 1- Table',skiprows=[1,2,3,4,5,6,7,8,9,10,11,100,101,102,103,104])\n",
    "readingg2006.drop(['Unnamed: 0', 'Unnamed: 1'], axis=1, inplace=True)\n",
    "readingg2006.rename({'Unnamed: 2': 'Countries', 'Unnamed: 3': 'F2006', 'Unnamed: 4': 'F_se_2006', 'Unnamed: 5': 'M2006', 'Unnamed: 6': 'M_se_2006'}, axis=1, inplace=True)\n",
    "readingg2006 = readingg2006.drop(index=[87])\n",
    "readingg2006"
   ]
  },
  {
   "cell_type": "code",
   "execution_count": 5,
   "metadata": {},
   "outputs": [
    {
     "data": {
      "text/html": [
       "<div>\n",
       "<style scoped>\n",
       "    .dataframe tbody tr th:only-of-type {\n",
       "        vertical-align: middle;\n",
       "    }\n",
       "\n",
       "    .dataframe tbody tr th {\n",
       "        vertical-align: top;\n",
       "    }\n",
       "\n",
       "    .dataframe thead th {\n",
       "        text-align: right;\n",
       "    }\n",
       "</style>\n",
       "<table border=\"1\" class=\"dataframe\">\n",
       "  <thead>\n",
       "    <tr style=\"text-align: right;\">\n",
       "      <th></th>\n",
       "      <th>Countries</th>\n",
       "      <th>F2009</th>\n",
       "      <th>F_se_2009</th>\n",
       "      <th>M2009</th>\n",
       "      <th>M_se_2009</th>\n",
       "    </tr>\n",
       "  </thead>\n",
       "  <tbody>\n",
       "    <tr>\n",
       "      <th>0</th>\n",
       "      <td>Australia</td>\n",
       "      <td>532.853721</td>\n",
       "      <td>2.642218</td>\n",
       "      <td>496.143991</td>\n",
       "      <td>2.878807</td>\n",
       "    </tr>\n",
       "    <tr>\n",
       "      <th>1</th>\n",
       "      <td>Austria</td>\n",
       "      <td>490.487348</td>\n",
       "      <td>3.951434</td>\n",
       "      <td>449.29583</td>\n",
       "      <td>3.76123</td>\n",
       "    </tr>\n",
       "    <tr>\n",
       "      <th>2</th>\n",
       "      <td>Belgium</td>\n",
       "      <td>519.806073</td>\n",
       "      <td>2.935431</td>\n",
       "      <td>492.673632</td>\n",
       "      <td>3.381577</td>\n",
       "    </tr>\n",
       "    <tr>\n",
       "      <th>3</th>\n",
       "      <td>Canada</td>\n",
       "      <td>541.527233</td>\n",
       "      <td>1.726383</td>\n",
       "      <td>507.1822</td>\n",
       "      <td>1.760291</td>\n",
       "    </tr>\n",
       "    <tr>\n",
       "      <th>4</th>\n",
       "      <td>Chile</td>\n",
       "      <td>460.62097</td>\n",
       "      <td>3.574908</td>\n",
       "      <td>438.552453</td>\n",
       "      <td>3.862802</td>\n",
       "    </tr>\n",
       "    <tr>\n",
       "      <th>...</th>\n",
       "      <td>...</td>\n",
       "      <td>...</td>\n",
       "      <td>...</td>\n",
       "      <td>...</td>\n",
       "      <td>...</td>\n",
       "    </tr>\n",
       "    <tr>\n",
       "      <th>82</th>\n",
       "      <td>Tunisia</td>\n",
       "      <td>418.469564</td>\n",
       "      <td>2.960686</td>\n",
       "      <td>387.279323</td>\n",
       "      <td>3.171306</td>\n",
       "    </tr>\n",
       "    <tr>\n",
       "      <th>83</th>\n",
       "      <td>Ukraine</td>\n",
       "      <td>—</td>\n",
       "      <td>†</td>\n",
       "      <td>—</td>\n",
       "      <td>†</td>\n",
       "    </tr>\n",
       "    <tr>\n",
       "      <th>84</th>\n",
       "      <td>United Arab Emirates</td>\n",
       "      <td>—</td>\n",
       "      <td>†</td>\n",
       "      <td>—</td>\n",
       "      <td>†</td>\n",
       "    </tr>\n",
       "    <tr>\n",
       "      <th>85</th>\n",
       "      <td>Uruguay</td>\n",
       "      <td>445.424599</td>\n",
       "      <td>2.752662</td>\n",
       "      <td>403.720364</td>\n",
       "      <td>3.174753</td>\n",
       "    </tr>\n",
       "    <tr>\n",
       "      <th>86</th>\n",
       "      <td>Viet Nam</td>\n",
       "      <td>—</td>\n",
       "      <td>†</td>\n",
       "      <td>—</td>\n",
       "      <td>†</td>\n",
       "    </tr>\n",
       "  </tbody>\n",
       "</table>\n",
       "<p>87 rows × 5 columns</p>\n",
       "</div>"
      ],
      "text/plain": [
       "               Countries       F2009 F_se_2009       M2009 M_se_2009\n",
       "0              Australia  532.853721  2.642218  496.143991  2.878807\n",
       "1                Austria  490.487348  3.951434   449.29583   3.76123\n",
       "2                Belgium  519.806073  2.935431  492.673632  3.381577\n",
       "3                 Canada  541.527233  1.726383    507.1822  1.760291\n",
       "4                  Chile   460.62097  3.574908  438.552453  3.862802\n",
       "..                   ...         ...       ...         ...       ...\n",
       "82               Tunisia  418.469564  2.960686  387.279323  3.171306\n",
       "83               Ukraine           —         †           —         †\n",
       "84  United Arab Emirates           —         †           —         †\n",
       "85               Uruguay  445.424599  2.752662  403.720364  3.174753\n",
       "86              Viet Nam           —         †           —         †\n",
       "\n",
       "[87 rows x 5 columns]"
      ]
     },
     "execution_count": 5,
     "metadata": {},
     "output_type": "execute_result"
    }
   ],
   "source": [
    "readingg2009 = pd.read_excel(\"../data_all/gender/gender2009.xls\",sheet_name='Report 1- Table',skiprows=[1,2,3,4,5,6,7,8,9,10,11,100,101,102,103,104])\n",
    "readingg2009.drop(['Unnamed: 0', 'Unnamed: 1'], axis=1, inplace=True)\n",
    "readingg2009.rename({'Unnamed: 2': 'Countries', 'Unnamed: 3': 'F2009', 'Unnamed: 4': 'F_se_2009', 'Unnamed: 5': 'M2009', 'Unnamed: 6': 'M_se_2009'}, axis=1, inplace=True)\n",
    "readingg2009 = readingg2009.drop(index=[87])\n",
    "readingg2009"
   ]
  },
  {
   "cell_type": "code",
   "execution_count": 6,
   "metadata": {},
   "outputs": [
    {
     "data": {
      "text/html": [
       "<div>\n",
       "<style scoped>\n",
       "    .dataframe tbody tr th:only-of-type {\n",
       "        vertical-align: middle;\n",
       "    }\n",
       "\n",
       "    .dataframe tbody tr th {\n",
       "        vertical-align: top;\n",
       "    }\n",
       "\n",
       "    .dataframe thead th {\n",
       "        text-align: right;\n",
       "    }\n",
       "</style>\n",
       "<table border=\"1\" class=\"dataframe\">\n",
       "  <thead>\n",
       "    <tr style=\"text-align: right;\">\n",
       "      <th></th>\n",
       "      <th>Countries</th>\n",
       "      <th>F2012</th>\n",
       "      <th>F_se_2012</th>\n",
       "      <th>M2012</th>\n",
       "      <th>M_se_2012</th>\n",
       "    </tr>\n",
       "  </thead>\n",
       "  <tbody>\n",
       "    <tr>\n",
       "      <th>0</th>\n",
       "      <td>Australia</td>\n",
       "      <td>529.54228</td>\n",
       "      <td>1.967404</td>\n",
       "      <td>495.08956</td>\n",
       "      <td>2.293139</td>\n",
       "    </tr>\n",
       "    <tr>\n",
       "      <th>1</th>\n",
       "      <td>Austria</td>\n",
       "      <td>508.021472</td>\n",
       "      <td>3.361247</td>\n",
       "      <td>471.093138</td>\n",
       "      <td>4.001055</td>\n",
       "    </tr>\n",
       "    <tr>\n",
       "      <th>2</th>\n",
       "      <td>Belgium</td>\n",
       "      <td>524.602442</td>\n",
       "      <td>2.708325</td>\n",
       "      <td>492.755224</td>\n",
       "      <td>3.038303</td>\n",
       "    </tr>\n",
       "    <tr>\n",
       "      <th>3</th>\n",
       "      <td>Canada</td>\n",
       "      <td>540.653353</td>\n",
       "      <td>2.106181</td>\n",
       "      <td>505.53021</td>\n",
       "      <td>2.288049</td>\n",
       "    </tr>\n",
       "    <tr>\n",
       "      <th>4</th>\n",
       "      <td>Chile</td>\n",
       "      <td>452.371146</td>\n",
       "      <td>2.915014</td>\n",
       "      <td>429.696173</td>\n",
       "      <td>3.831169</td>\n",
       "    </tr>\n",
       "    <tr>\n",
       "      <th>...</th>\n",
       "      <td>...</td>\n",
       "      <td>...</td>\n",
       "      <td>...</td>\n",
       "      <td>...</td>\n",
       "      <td>...</td>\n",
       "    </tr>\n",
       "    <tr>\n",
       "      <th>82</th>\n",
       "      <td>Tunisia</td>\n",
       "      <td>418.32436</td>\n",
       "      <td>4.40618</td>\n",
       "      <td>387.773045</td>\n",
       "      <td>5.000278</td>\n",
       "    </tr>\n",
       "    <tr>\n",
       "      <th>83</th>\n",
       "      <td>Ukraine</td>\n",
       "      <td>—</td>\n",
       "      <td>†</td>\n",
       "      <td>—</td>\n",
       "      <td>†</td>\n",
       "    </tr>\n",
       "    <tr>\n",
       "      <th>84</th>\n",
       "      <td>United Arab Emirates</td>\n",
       "      <td>468.785253</td>\n",
       "      <td>3.210993</td>\n",
       "      <td>413.456297</td>\n",
       "      <td>3.874962</td>\n",
       "    </tr>\n",
       "    <tr>\n",
       "      <th>85</th>\n",
       "      <td>Uruguay</td>\n",
       "      <td>427.980513</td>\n",
       "      <td>3.216002</td>\n",
       "      <td>392.490664</td>\n",
       "      <td>3.87492</td>\n",
       "    </tr>\n",
       "    <tr>\n",
       "      <th>86</th>\n",
       "      <td>Viet Nam</td>\n",
       "      <td>522.529892</td>\n",
       "      <td>3.950409</td>\n",
       "      <td>491.726521</td>\n",
       "      <td>4.979587</td>\n",
       "    </tr>\n",
       "  </tbody>\n",
       "</table>\n",
       "<p>87 rows × 5 columns</p>\n",
       "</div>"
      ],
      "text/plain": [
       "               Countries       F2012 F_se_2012       M2012 M_se_2012\n",
       "0              Australia   529.54228  1.967404   495.08956  2.293139\n",
       "1                Austria  508.021472  3.361247  471.093138  4.001055\n",
       "2                Belgium  524.602442  2.708325  492.755224  3.038303\n",
       "3                 Canada  540.653353  2.106181   505.53021  2.288049\n",
       "4                  Chile  452.371146  2.915014  429.696173  3.831169\n",
       "..                   ...         ...       ...         ...       ...\n",
       "82               Tunisia   418.32436   4.40618  387.773045  5.000278\n",
       "83               Ukraine           —         †           —         †\n",
       "84  United Arab Emirates  468.785253  3.210993  413.456297  3.874962\n",
       "85               Uruguay  427.980513  3.216002  392.490664   3.87492\n",
       "86              Viet Nam  522.529892  3.950409  491.726521  4.979587\n",
       "\n",
       "[87 rows x 5 columns]"
      ]
     },
     "execution_count": 6,
     "metadata": {},
     "output_type": "execute_result"
    }
   ],
   "source": [
    "readingg2012 = pd.read_excel(\"../data_all/gender/gender2012.xls\",sheet_name='Report 1- Table',skiprows=[1,2,3,4,5,6,7,8,9,10,11,100,101,102,103,104])\n",
    "readingg2012.drop(['Unnamed: 0', 'Unnamed: 1'], axis=1, inplace=True)\n",
    "readingg2012.rename({'Unnamed: 2': 'Countries', 'Unnamed: 3': 'F2012', 'Unnamed: 4': 'F_se_2012', 'Unnamed: 5': 'M2012', 'Unnamed: 6': 'M_se_2012'}, axis=1, inplace=True)\n",
    "readingg2012 = readingg2012.drop(index=[87])\n",
    "readingg2012"
   ]
  },
  {
   "cell_type": "code",
   "execution_count": 7,
   "metadata": {},
   "outputs": [
    {
     "data": {
      "text/html": [
       "<div>\n",
       "<style scoped>\n",
       "    .dataframe tbody tr th:only-of-type {\n",
       "        vertical-align: middle;\n",
       "    }\n",
       "\n",
       "    .dataframe tbody tr th {\n",
       "        vertical-align: top;\n",
       "    }\n",
       "\n",
       "    .dataframe thead th {\n",
       "        text-align: right;\n",
       "    }\n",
       "</style>\n",
       "<table border=\"1\" class=\"dataframe\">\n",
       "  <thead>\n",
       "    <tr style=\"text-align: right;\">\n",
       "      <th></th>\n",
       "      <th>Countries</th>\n",
       "      <th>F2015</th>\n",
       "      <th>F_se_2015</th>\n",
       "      <th>M2015</th>\n",
       "      <th>M_se_2015</th>\n",
       "    </tr>\n",
       "  </thead>\n",
       "  <tbody>\n",
       "    <tr>\n",
       "      <th>0</th>\n",
       "      <td>Australia</td>\n",
       "      <td>518.865799</td>\n",
       "      <td>2.311112</td>\n",
       "      <td>487.185526</td>\n",
       "      <td>2.275913</td>\n",
       "    </tr>\n",
       "    <tr>\n",
       "      <th>1</th>\n",
       "      <td>Austria</td>\n",
       "      <td>495.07519</td>\n",
       "      <td>3.655755</td>\n",
       "      <td>474.846033</td>\n",
       "      <td>4.286806</td>\n",
       "    </tr>\n",
       "    <tr>\n",
       "      <th>2</th>\n",
       "      <td>Belgium</td>\n",
       "      <td>506.638599</td>\n",
       "      <td>2.896861</td>\n",
       "      <td>490.664155</td>\n",
       "      <td>3.148375</td>\n",
       "    </tr>\n",
       "    <tr>\n",
       "      <th>3</th>\n",
       "      <td>Canada</td>\n",
       "      <td>539.762386</td>\n",
       "      <td>2.493043</td>\n",
       "      <td>513.535458</td>\n",
       "      <td>2.550603</td>\n",
       "    </tr>\n",
       "    <tr>\n",
       "      <th>4</th>\n",
       "      <td>Chile</td>\n",
       "      <td>464.561642</td>\n",
       "      <td>2.91006</td>\n",
       "      <td>452.642242</td>\n",
       "      <td>3.362026</td>\n",
       "    </tr>\n",
       "    <tr>\n",
       "      <th>...</th>\n",
       "      <td>...</td>\n",
       "      <td>...</td>\n",
       "      <td>...</td>\n",
       "      <td>...</td>\n",
       "      <td>...</td>\n",
       "    </tr>\n",
       "    <tr>\n",
       "      <th>82</th>\n",
       "      <td>Tunisia</td>\n",
       "      <td>372.672553</td>\n",
       "      <td>2.981925</td>\n",
       "      <td>347.60383</td>\n",
       "      <td>3.927626</td>\n",
       "    </tr>\n",
       "    <tr>\n",
       "      <th>83</th>\n",
       "      <td>Ukraine</td>\n",
       "      <td>—</td>\n",
       "      <td>†</td>\n",
       "      <td>—</td>\n",
       "      <td>†</td>\n",
       "    </tr>\n",
       "    <tr>\n",
       "      <th>84</th>\n",
       "      <td>United Arab Emirates</td>\n",
       "      <td>458.28703</td>\n",
       "      <td>3.31332</td>\n",
       "      <td>408.105328</td>\n",
       "      <td>3.897629</td>\n",
       "    </tr>\n",
       "    <tr>\n",
       "      <th>85</th>\n",
       "      <td>Uruguay</td>\n",
       "      <td>447.719606</td>\n",
       "      <td>2.666824</td>\n",
       "      <td>424.29689</td>\n",
       "      <td>3.381162</td>\n",
       "    </tr>\n",
       "    <tr>\n",
       "      <th>86</th>\n",
       "      <td>Viet Nam</td>\n",
       "      <td>499.038589</td>\n",
       "      <td>3.769746</td>\n",
       "      <td>473.919129</td>\n",
       "      <td>3.982901</td>\n",
       "    </tr>\n",
       "  </tbody>\n",
       "</table>\n",
       "<p>87 rows × 5 columns</p>\n",
       "</div>"
      ],
      "text/plain": [
       "               Countries       F2015 F_se_2015       M2015 M_se_2015\n",
       "0              Australia  518.865799  2.311112  487.185526  2.275913\n",
       "1                Austria   495.07519  3.655755  474.846033  4.286806\n",
       "2                Belgium  506.638599  2.896861  490.664155  3.148375\n",
       "3                 Canada  539.762386  2.493043  513.535458  2.550603\n",
       "4                  Chile  464.561642   2.91006  452.642242  3.362026\n",
       "..                   ...         ...       ...         ...       ...\n",
       "82               Tunisia  372.672553  2.981925   347.60383  3.927626\n",
       "83               Ukraine           —         †           —         †\n",
       "84  United Arab Emirates   458.28703   3.31332  408.105328  3.897629\n",
       "85               Uruguay  447.719606  2.666824   424.29689  3.381162\n",
       "86              Viet Nam  499.038589  3.769746  473.919129  3.982901\n",
       "\n",
       "[87 rows x 5 columns]"
      ]
     },
     "execution_count": 7,
     "metadata": {},
     "output_type": "execute_result"
    }
   ],
   "source": [
    "readingg2015 = pd.read_excel(\"../data_all/gender/gender2015.xls\",sheet_name='Report 1- Table',skiprows=[1,2,3,4,5,6,7,8,9,10,11,100,101,102,103,104])\n",
    "readingg2015.drop(['Unnamed: 0', 'Unnamed: 1'], axis=1, inplace=True)\n",
    "readingg2015.rename({'Unnamed: 2': 'Countries', 'Unnamed: 3': 'F2015', 'Unnamed: 4': 'F_se_2015', 'Unnamed: 5': 'M2015', 'Unnamed: 6': 'M_se_2015'}, axis=1, inplace=True)\n",
    "readingg2015 = readingg2015.drop(index=[87])\n",
    "readingg2015"
   ]
  },
  {
   "cell_type": "code",
   "execution_count": 8,
   "metadata": {},
   "outputs": [
    {
     "data": {
      "text/html": [
       "<div>\n",
       "<style scoped>\n",
       "    .dataframe tbody tr th:only-of-type {\n",
       "        vertical-align: middle;\n",
       "    }\n",
       "\n",
       "    .dataframe tbody tr th {\n",
       "        vertical-align: top;\n",
       "    }\n",
       "\n",
       "    .dataframe thead th {\n",
       "        text-align: right;\n",
       "    }\n",
       "</style>\n",
       "<table border=\"1\" class=\"dataframe\">\n",
       "  <thead>\n",
       "    <tr style=\"text-align: right;\">\n",
       "      <th></th>\n",
       "      <th>Countries</th>\n",
       "      <th>F2018</th>\n",
       "      <th>F_se_2018</th>\n",
       "      <th>M2018</th>\n",
       "      <th>M_se_2018</th>\n",
       "    </tr>\n",
       "  </thead>\n",
       "  <tbody>\n",
       "    <tr>\n",
       "      <th>0</th>\n",
       "      <td>Australia</td>\n",
       "      <td>518.572084</td>\n",
       "      <td>1.96358</td>\n",
       "      <td>487.209666</td>\n",
       "      <td>2.196336</td>\n",
       "    </tr>\n",
       "    <tr>\n",
       "      <th>1</th>\n",
       "      <td>Austria</td>\n",
       "      <td>498.652688</td>\n",
       "      <td>3.721015</td>\n",
       "      <td>470.555838</td>\n",
       "      <td>3.673197</td>\n",
       "    </tr>\n",
       "    <tr>\n",
       "      <th>2</th>\n",
       "      <td>Belgium</td>\n",
       "      <td>503.687235</td>\n",
       "      <td>2.782623</td>\n",
       "      <td>481.973695</td>\n",
       "      <td>2.851972</td>\n",
       "    </tr>\n",
       "    <tr>\n",
       "      <th>3</th>\n",
       "      <td>Canada</td>\n",
       "      <td>534.669187</td>\n",
       "      <td>2.008396</td>\n",
       "      <td>505.726865</td>\n",
       "      <td>2.105096</td>\n",
       "    </tr>\n",
       "    <tr>\n",
       "      <th>4</th>\n",
       "      <td>Chile</td>\n",
       "      <td>462.30244</td>\n",
       "      <td>2.905994</td>\n",
       "      <td>442.493596</td>\n",
       "      <td>3.426557</td>\n",
       "    </tr>\n",
       "    <tr>\n",
       "      <th>...</th>\n",
       "      <td>...</td>\n",
       "      <td>...</td>\n",
       "      <td>...</td>\n",
       "      <td>...</td>\n",
       "      <td>...</td>\n",
       "    </tr>\n",
       "    <tr>\n",
       "      <th>82</th>\n",
       "      <td>Tunisia</td>\n",
       "      <td>—</td>\n",
       "      <td>†</td>\n",
       "      <td>—</td>\n",
       "      <td>†</td>\n",
       "    </tr>\n",
       "    <tr>\n",
       "      <th>83</th>\n",
       "      <td>Ukraine</td>\n",
       "      <td>483.558512</td>\n",
       "      <td>3.627728</td>\n",
       "      <td>450.098856</td>\n",
       "      <td>4.21264</td>\n",
       "    </tr>\n",
       "    <tr>\n",
       "      <th>84</th>\n",
       "      <td>United Arab Emirates</td>\n",
       "      <td>459.767282</td>\n",
       "      <td>2.83215</td>\n",
       "      <td>403.023098</td>\n",
       "      <td>2.375085</td>\n",
       "    </tr>\n",
       "    <tr>\n",
       "      <th>85</th>\n",
       "      <td>Uruguay</td>\n",
       "      <td>438.125089</td>\n",
       "      <td>3.044442</td>\n",
       "      <td>415.126906</td>\n",
       "      <td>3.301131</td>\n",
       "    </tr>\n",
       "    <tr>\n",
       "      <th>86</th>\n",
       "      <td>Viet Nam</td>\n",
       "      <td>—</td>\n",
       "      <td>†</td>\n",
       "      <td>—</td>\n",
       "      <td>†</td>\n",
       "    </tr>\n",
       "  </tbody>\n",
       "</table>\n",
       "<p>87 rows × 5 columns</p>\n",
       "</div>"
      ],
      "text/plain": [
       "               Countries       F2018 F_se_2018       M2018 M_se_2018\n",
       "0              Australia  518.572084   1.96358  487.209666  2.196336\n",
       "1                Austria  498.652688  3.721015  470.555838  3.673197\n",
       "2                Belgium  503.687235  2.782623  481.973695  2.851972\n",
       "3                 Canada  534.669187  2.008396  505.726865  2.105096\n",
       "4                  Chile   462.30244  2.905994  442.493596  3.426557\n",
       "..                   ...         ...       ...         ...       ...\n",
       "82               Tunisia           —         †           —         †\n",
       "83               Ukraine  483.558512  3.627728  450.098856   4.21264\n",
       "84  United Arab Emirates  459.767282   2.83215  403.023098  2.375085\n",
       "85               Uruguay  438.125089  3.044442  415.126906  3.301131\n",
       "86              Viet Nam           —         †           —         †\n",
       "\n",
       "[87 rows x 5 columns]"
      ]
     },
     "execution_count": 8,
     "metadata": {},
     "output_type": "execute_result"
    }
   ],
   "source": [
    "readingg2018 = pd.read_excel(\"../data_all/gender/gender2018.xls\",sheet_name='Report 1- Table',skiprows=[1,2,3,4,5,6,7,8,9,10,11,100,101,102,103,104])\n",
    "readingg2018.drop(['Unnamed: 0', 'Unnamed: 1'], axis=1, inplace=True)\n",
    "readingg2018.rename({'Unnamed: 2': 'Countries', 'Unnamed: 3': 'F2018', 'Unnamed: 4': 'F_se_2018', 'Unnamed: 5': 'M2018', 'Unnamed: 6': 'M_se_2018'}, axis=1, inplace=True)\n",
    "readingg2018 = readingg2018.drop(index=[87])\n",
    "readingg2018"
   ]
  },
  {
   "cell_type": "code",
   "execution_count": 9,
   "metadata": {},
   "outputs": [
    {
     "data": {
      "text/html": [
       "<div>\n",
       "<style scoped>\n",
       "    .dataframe tbody tr th:only-of-type {\n",
       "        vertical-align: middle;\n",
       "    }\n",
       "\n",
       "    .dataframe tbody tr th {\n",
       "        vertical-align: top;\n",
       "    }\n",
       "\n",
       "    .dataframe thead th {\n",
       "        text-align: right;\n",
       "    }\n",
       "</style>\n",
       "<table border=\"1\" class=\"dataframe\">\n",
       "  <thead>\n",
       "    <tr style=\"text-align: right;\">\n",
       "      <th></th>\n",
       "      <th>Countries</th>\n",
       "      <th>F2000</th>\n",
       "      <th>F_se_2000</th>\n",
       "      <th>M2000</th>\n",
       "      <th>M_se_2000</th>\n",
       "      <th>F2003</th>\n",
       "      <th>F_se_2003</th>\n",
       "      <th>M2003</th>\n",
       "      <th>M_se_2003</th>\n",
       "      <th>F2006</th>\n",
       "      <th>...</th>\n",
       "      <th>M2012</th>\n",
       "      <th>M_se_2012</th>\n",
       "      <th>F2015</th>\n",
       "      <th>F_se_2015</th>\n",
       "      <th>M2015</th>\n",
       "      <th>M_se_2015</th>\n",
       "      <th>F2018</th>\n",
       "      <th>F_se_2018</th>\n",
       "      <th>M2018</th>\n",
       "      <th>M_se_2018</th>\n",
       "    </tr>\n",
       "  </thead>\n",
       "  <tbody>\n",
       "    <tr>\n",
       "      <th>0</th>\n",
       "      <td>Australia</td>\n",
       "      <td>546.251223</td>\n",
       "      <td>4.73506</td>\n",
       "      <td>512.645471</td>\n",
       "      <td>4.041582</td>\n",
       "      <td>545.425124</td>\n",
       "      <td>2.553496</td>\n",
       "      <td>506.085696</td>\n",
       "      <td>2.835287</td>\n",
       "      <td>531.754388</td>\n",
       "      <td>...</td>\n",
       "      <td>495.08956</td>\n",
       "      <td>2.293139</td>\n",
       "      <td>518.865799</td>\n",
       "      <td>2.311112</td>\n",
       "      <td>487.185526</td>\n",
       "      <td>2.275913</td>\n",
       "      <td>518.572084</td>\n",
       "      <td>1.96358</td>\n",
       "      <td>487.209666</td>\n",
       "      <td>2.196336</td>\n",
       "    </tr>\n",
       "    <tr>\n",
       "      <th>1</th>\n",
       "      <td>Austria</td>\n",
       "      <td>509.168003</td>\n",
       "      <td>3.951059</td>\n",
       "      <td>475.77071</td>\n",
       "      <td>3.623126</td>\n",
       "      <td>514.35335</td>\n",
       "      <td>4.213715</td>\n",
       "      <td>467.131762</td>\n",
       "      <td>4.54068</td>\n",
       "      <td>512.912207</td>\n",
       "      <td>...</td>\n",
       "      <td>471.093138</td>\n",
       "      <td>4.001055</td>\n",
       "      <td>495.07519</td>\n",
       "      <td>3.655755</td>\n",
       "      <td>474.846033</td>\n",
       "      <td>4.286806</td>\n",
       "      <td>498.652688</td>\n",
       "      <td>3.721015</td>\n",
       "      <td>470.555838</td>\n",
       "      <td>3.673197</td>\n",
       "    </tr>\n",
       "    <tr>\n",
       "      <th>2</th>\n",
       "      <td>Belgium</td>\n",
       "      <td>525.208512</td>\n",
       "      <td>4.922344</td>\n",
       "      <td>492.394742</td>\n",
       "      <td>4.240977</td>\n",
       "      <td>526.225709</td>\n",
       "      <td>3.302789</td>\n",
       "      <td>489.326567</td>\n",
       "      <td>3.760765</td>\n",
       "      <td>521.728314</td>\n",
       "      <td>...</td>\n",
       "      <td>492.755224</td>\n",
       "      <td>3.038303</td>\n",
       "      <td>506.638599</td>\n",
       "      <td>2.896861</td>\n",
       "      <td>490.664155</td>\n",
       "      <td>3.148375</td>\n",
       "      <td>503.687235</td>\n",
       "      <td>2.782623</td>\n",
       "      <td>481.973695</td>\n",
       "      <td>2.851972</td>\n",
       "    </tr>\n",
       "    <tr>\n",
       "      <th>3</th>\n",
       "      <td>Canada</td>\n",
       "      <td>551.133144</td>\n",
       "      <td>1.703818</td>\n",
       "      <td>518.922764</td>\n",
       "      <td>1.763527</td>\n",
       "      <td>545.525389</td>\n",
       "      <td>1.816646</td>\n",
       "      <td>513.997502</td>\n",
       "      <td>2.046961</td>\n",
       "      <td>543.043598</td>\n",
       "      <td>...</td>\n",
       "      <td>505.53021</td>\n",
       "      <td>2.288049</td>\n",
       "      <td>539.762386</td>\n",
       "      <td>2.493043</td>\n",
       "      <td>513.535458</td>\n",
       "      <td>2.550603</td>\n",
       "      <td>534.669187</td>\n",
       "      <td>2.008396</td>\n",
       "      <td>505.726865</td>\n",
       "      <td>2.105096</td>\n",
       "    </tr>\n",
       "    <tr>\n",
       "      <th>4</th>\n",
       "      <td>Chile</td>\n",
       "      <td>421.101175</td>\n",
       "      <td>4.619114</td>\n",
       "      <td>396.493977</td>\n",
       "      <td>4.288241</td>\n",
       "      <td>—</td>\n",
       "      <td>†</td>\n",
       "      <td>—</td>\n",
       "      <td>†</td>\n",
       "      <td>451.251972</td>\n",
       "      <td>...</td>\n",
       "      <td>429.696173</td>\n",
       "      <td>3.831169</td>\n",
       "      <td>464.561642</td>\n",
       "      <td>2.91006</td>\n",
       "      <td>452.642242</td>\n",
       "      <td>3.362026</td>\n",
       "      <td>462.30244</td>\n",
       "      <td>2.905994</td>\n",
       "      <td>442.493596</td>\n",
       "      <td>3.426557</td>\n",
       "    </tr>\n",
       "    <tr>\n",
       "      <th>...</th>\n",
       "      <td>...</td>\n",
       "      <td>...</td>\n",
       "      <td>...</td>\n",
       "      <td>...</td>\n",
       "      <td>...</td>\n",
       "      <td>...</td>\n",
       "      <td>...</td>\n",
       "      <td>...</td>\n",
       "      <td>...</td>\n",
       "      <td>...</td>\n",
       "      <td>...</td>\n",
       "      <td>...</td>\n",
       "      <td>...</td>\n",
       "      <td>...</td>\n",
       "      <td>...</td>\n",
       "      <td>...</td>\n",
       "      <td>...</td>\n",
       "      <td>...</td>\n",
       "      <td>...</td>\n",
       "      <td>...</td>\n",
       "      <td>...</td>\n",
       "    </tr>\n",
       "    <tr>\n",
       "      <th>82</th>\n",
       "      <td>Tunisia</td>\n",
       "      <td>—</td>\n",
       "      <td>†</td>\n",
       "      <td>—</td>\n",
       "      <td>†</td>\n",
       "      <td>387.103211</td>\n",
       "      <td>3.27431</td>\n",
       "      <td>361.770269</td>\n",
       "      <td>3.314829</td>\n",
       "      <td>398.347592</td>\n",
       "      <td>...</td>\n",
       "      <td>387.773045</td>\n",
       "      <td>5.000278</td>\n",
       "      <td>372.672553</td>\n",
       "      <td>2.981925</td>\n",
       "      <td>347.60383</td>\n",
       "      <td>3.927626</td>\n",
       "      <td>—</td>\n",
       "      <td>†</td>\n",
       "      <td>—</td>\n",
       "      <td>†</td>\n",
       "    </tr>\n",
       "    <tr>\n",
       "      <th>83</th>\n",
       "      <td>Ukraine</td>\n",
       "      <td>—</td>\n",
       "      <td>†</td>\n",
       "      <td>—</td>\n",
       "      <td>†</td>\n",
       "      <td>—</td>\n",
       "      <td>†</td>\n",
       "      <td>—</td>\n",
       "      <td>†</td>\n",
       "      <td>—</td>\n",
       "      <td>...</td>\n",
       "      <td>—</td>\n",
       "      <td>†</td>\n",
       "      <td>—</td>\n",
       "      <td>†</td>\n",
       "      <td>—</td>\n",
       "      <td>†</td>\n",
       "      <td>483.558512</td>\n",
       "      <td>3.627728</td>\n",
       "      <td>450.098856</td>\n",
       "      <td>4.21264</td>\n",
       "    </tr>\n",
       "    <tr>\n",
       "      <th>84</th>\n",
       "      <td>United Arab Emirates</td>\n",
       "      <td>—</td>\n",
       "      <td>†</td>\n",
       "      <td>—</td>\n",
       "      <td>†</td>\n",
       "      <td>—</td>\n",
       "      <td>†</td>\n",
       "      <td>—</td>\n",
       "      <td>†</td>\n",
       "      <td>—</td>\n",
       "      <td>...</td>\n",
       "      <td>413.456297</td>\n",
       "      <td>3.874962</td>\n",
       "      <td>458.28703</td>\n",
       "      <td>3.31332</td>\n",
       "      <td>408.105328</td>\n",
       "      <td>3.897629</td>\n",
       "      <td>459.767282</td>\n",
       "      <td>2.83215</td>\n",
       "      <td>403.023098</td>\n",
       "      <td>2.375085</td>\n",
       "    </tr>\n",
       "    <tr>\n",
       "      <th>85</th>\n",
       "      <td>Uruguay</td>\n",
       "      <td>—</td>\n",
       "      <td>†</td>\n",
       "      <td>—</td>\n",
       "      <td>†</td>\n",
       "      <td>453.318315</td>\n",
       "      <td>3.724549</td>\n",
       "      <td>414.024588</td>\n",
       "      <td>4.498276</td>\n",
       "      <td>434.578215</td>\n",
       "      <td>...</td>\n",
       "      <td>392.490664</td>\n",
       "      <td>3.87492</td>\n",
       "      <td>447.719606</td>\n",
       "      <td>2.666824</td>\n",
       "      <td>424.29689</td>\n",
       "      <td>3.381162</td>\n",
       "      <td>438.125089</td>\n",
       "      <td>3.044442</td>\n",
       "      <td>415.126906</td>\n",
       "      <td>3.301131</td>\n",
       "    </tr>\n",
       "    <tr>\n",
       "      <th>86</th>\n",
       "      <td>Viet Nam</td>\n",
       "      <td>—</td>\n",
       "      <td>†</td>\n",
       "      <td>—</td>\n",
       "      <td>†</td>\n",
       "      <td>—</td>\n",
       "      <td>†</td>\n",
       "      <td>—</td>\n",
       "      <td>†</td>\n",
       "      <td>—</td>\n",
       "      <td>...</td>\n",
       "      <td>491.726521</td>\n",
       "      <td>4.979587</td>\n",
       "      <td>499.038589</td>\n",
       "      <td>3.769746</td>\n",
       "      <td>473.919129</td>\n",
       "      <td>3.982901</td>\n",
       "      <td>—</td>\n",
       "      <td>†</td>\n",
       "      <td>—</td>\n",
       "      <td>†</td>\n",
       "    </tr>\n",
       "  </tbody>\n",
       "</table>\n",
       "<p>87 rows × 29 columns</p>\n",
       "</div>"
      ],
      "text/plain": [
       "               Countries       F2000 F_se_2000       M2000 M_se_2000  \\\n",
       "0              Australia  546.251223   4.73506  512.645471  4.041582   \n",
       "1                Austria  509.168003  3.951059   475.77071  3.623126   \n",
       "2                Belgium  525.208512  4.922344  492.394742  4.240977   \n",
       "3                 Canada  551.133144  1.703818  518.922764  1.763527   \n",
       "4                  Chile  421.101175  4.619114  396.493977  4.288241   \n",
       "..                   ...         ...       ...         ...       ...   \n",
       "82               Tunisia           —         †           —         †   \n",
       "83               Ukraine           —         †           —         †   \n",
       "84  United Arab Emirates           —         †           —         †   \n",
       "85               Uruguay           —         †           —         †   \n",
       "86              Viet Nam           —         †           —         †   \n",
       "\n",
       "         F2003 F_se_2003       M2003 M_se_2003       F2006  ...       M2012  \\\n",
       "0   545.425124  2.553496  506.085696  2.835287  531.754388  ...   495.08956   \n",
       "1    514.35335  4.213715  467.131762   4.54068  512.912207  ...  471.093138   \n",
       "2   526.225709  3.302789  489.326567  3.760765  521.728314  ...  492.755224   \n",
       "3   545.525389  1.816646  513.997502  2.046961  543.043598  ...   505.53021   \n",
       "4            —         †           —         †  451.251972  ...  429.696173   \n",
       "..         ...       ...         ...       ...         ...  ...         ...   \n",
       "82  387.103211   3.27431  361.770269  3.314829  398.347592  ...  387.773045   \n",
       "83           —         †           —         †           —  ...           —   \n",
       "84           —         †           —         †           —  ...  413.456297   \n",
       "85  453.318315  3.724549  414.024588  4.498276  434.578215  ...  392.490664   \n",
       "86           —         †           —         †           —  ...  491.726521   \n",
       "\n",
       "   M_se_2012       F2015 F_se_2015       M2015 M_se_2015       F2018  \\\n",
       "0   2.293139  518.865799  2.311112  487.185526  2.275913  518.572084   \n",
       "1   4.001055   495.07519  3.655755  474.846033  4.286806  498.652688   \n",
       "2   3.038303  506.638599  2.896861  490.664155  3.148375  503.687235   \n",
       "3   2.288049  539.762386  2.493043  513.535458  2.550603  534.669187   \n",
       "4   3.831169  464.561642   2.91006  452.642242  3.362026   462.30244   \n",
       "..       ...         ...       ...         ...       ...         ...   \n",
       "82  5.000278  372.672553  2.981925   347.60383  3.927626           —   \n",
       "83         †           —         †           —         †  483.558512   \n",
       "84  3.874962   458.28703   3.31332  408.105328  3.897629  459.767282   \n",
       "85   3.87492  447.719606  2.666824   424.29689  3.381162  438.125089   \n",
       "86  4.979587  499.038589  3.769746  473.919129  3.982901           —   \n",
       "\n",
       "   F_se_2018       M2018 M_se_2018  \n",
       "0    1.96358  487.209666  2.196336  \n",
       "1   3.721015  470.555838  3.673197  \n",
       "2   2.782623  481.973695  2.851972  \n",
       "3   2.008396  505.726865  2.105096  \n",
       "4   2.905994  442.493596  3.426557  \n",
       "..       ...         ...       ...  \n",
       "82         †           —         †  \n",
       "83  3.627728  450.098856   4.21264  \n",
       "84   2.83215  403.023098  2.375085  \n",
       "85  3.044442  415.126906  3.301131  \n",
       "86         †           —         †  \n",
       "\n",
       "[87 rows x 29 columns]"
      ]
     },
     "execution_count": 9,
     "metadata": {},
     "output_type": "execute_result"
    }
   ],
   "source": [
    "readingg = pd.merge(pd.merge(pd.merge(pd.merge(pd.merge(pd.merge(readingg2000,readingg2003,on='Countries'), readingg2006, on='Countries'), readingg2009, on='Countries'), readingg2012, on='Countries'), readingg2015, on='Countries'), readingg2018, on='Countries')\n",
    "readingg"
   ]
  },
  {
   "cell_type": "code",
   "execution_count": 10,
   "metadata": {},
   "outputs": [
    {
     "data": {
      "text/html": [
       "<div>\n",
       "<style scoped>\n",
       "    .dataframe tbody tr th:only-of-type {\n",
       "        vertical-align: middle;\n",
       "    }\n",
       "\n",
       "    .dataframe tbody tr th {\n",
       "        vertical-align: top;\n",
       "    }\n",
       "\n",
       "    .dataframe thead th {\n",
       "        text-align: right;\n",
       "    }\n",
       "</style>\n",
       "<table border=\"1\" class=\"dataframe\">\n",
       "  <thead>\n",
       "    <tr style=\"text-align: right;\">\n",
       "      <th></th>\n",
       "      <th>Countries</th>\n",
       "      <th>F2000</th>\n",
       "      <th>F_se_2000</th>\n",
       "      <th>M2000</th>\n",
       "      <th>M_se_2000</th>\n",
       "      <th>F2003</th>\n",
       "      <th>F_se_2003</th>\n",
       "      <th>M2003</th>\n",
       "      <th>M_se_2003</th>\n",
       "      <th>F2006</th>\n",
       "      <th>...</th>\n",
       "      <th>M2012</th>\n",
       "      <th>M_se_2012</th>\n",
       "      <th>F2015</th>\n",
       "      <th>F_se_2015</th>\n",
       "      <th>M2015</th>\n",
       "      <th>M_se_2015</th>\n",
       "      <th>F2018</th>\n",
       "      <th>F_se_2018</th>\n",
       "      <th>M2018</th>\n",
       "      <th>M_se_2018</th>\n",
       "    </tr>\n",
       "  </thead>\n",
       "  <tbody>\n",
       "    <tr>\n",
       "      <th>0</th>\n",
       "      <td>Australia</td>\n",
       "      <td>546.251223</td>\n",
       "      <td>4.735060</td>\n",
       "      <td>512.645471</td>\n",
       "      <td>4.041582</td>\n",
       "      <td>545.425124</td>\n",
       "      <td>2.553496</td>\n",
       "      <td>506.085696</td>\n",
       "      <td>2.835287</td>\n",
       "      <td>531.754388</td>\n",
       "      <td>...</td>\n",
       "      <td>495.089560</td>\n",
       "      <td>2.293139</td>\n",
       "      <td>518.865799</td>\n",
       "      <td>2.311112</td>\n",
       "      <td>487.185526</td>\n",
       "      <td>2.275913</td>\n",
       "      <td>518.572084</td>\n",
       "      <td>1.963580</td>\n",
       "      <td>487.209666</td>\n",
       "      <td>2.196336</td>\n",
       "    </tr>\n",
       "    <tr>\n",
       "      <th>1</th>\n",
       "      <td>Austria</td>\n",
       "      <td>509.168003</td>\n",
       "      <td>3.951059</td>\n",
       "      <td>475.770710</td>\n",
       "      <td>3.623126</td>\n",
       "      <td>514.353350</td>\n",
       "      <td>4.213715</td>\n",
       "      <td>467.131762</td>\n",
       "      <td>4.540680</td>\n",
       "      <td>512.912207</td>\n",
       "      <td>...</td>\n",
       "      <td>471.093138</td>\n",
       "      <td>4.001055</td>\n",
       "      <td>495.075190</td>\n",
       "      <td>3.655755</td>\n",
       "      <td>474.846033</td>\n",
       "      <td>4.286806</td>\n",
       "      <td>498.652688</td>\n",
       "      <td>3.721015</td>\n",
       "      <td>470.555838</td>\n",
       "      <td>3.673197</td>\n",
       "    </tr>\n",
       "    <tr>\n",
       "      <th>2</th>\n",
       "      <td>Belgium</td>\n",
       "      <td>525.208512</td>\n",
       "      <td>4.922344</td>\n",
       "      <td>492.394742</td>\n",
       "      <td>4.240977</td>\n",
       "      <td>526.225709</td>\n",
       "      <td>3.302789</td>\n",
       "      <td>489.326567</td>\n",
       "      <td>3.760765</td>\n",
       "      <td>521.728314</td>\n",
       "      <td>...</td>\n",
       "      <td>492.755224</td>\n",
       "      <td>3.038303</td>\n",
       "      <td>506.638599</td>\n",
       "      <td>2.896861</td>\n",
       "      <td>490.664155</td>\n",
       "      <td>3.148375</td>\n",
       "      <td>503.687235</td>\n",
       "      <td>2.782623</td>\n",
       "      <td>481.973695</td>\n",
       "      <td>2.851972</td>\n",
       "    </tr>\n",
       "    <tr>\n",
       "      <th>3</th>\n",
       "      <td>Canada</td>\n",
       "      <td>551.133144</td>\n",
       "      <td>1.703818</td>\n",
       "      <td>518.922764</td>\n",
       "      <td>1.763527</td>\n",
       "      <td>545.525389</td>\n",
       "      <td>1.816646</td>\n",
       "      <td>513.997502</td>\n",
       "      <td>2.046961</td>\n",
       "      <td>543.043598</td>\n",
       "      <td>...</td>\n",
       "      <td>505.530210</td>\n",
       "      <td>2.288049</td>\n",
       "      <td>539.762386</td>\n",
       "      <td>2.493043</td>\n",
       "      <td>513.535458</td>\n",
       "      <td>2.550603</td>\n",
       "      <td>534.669187</td>\n",
       "      <td>2.008396</td>\n",
       "      <td>505.726865</td>\n",
       "      <td>2.105096</td>\n",
       "    </tr>\n",
       "    <tr>\n",
       "      <th>4</th>\n",
       "      <td>Chile</td>\n",
       "      <td>421.101175</td>\n",
       "      <td>4.619114</td>\n",
       "      <td>396.493977</td>\n",
       "      <td>4.288241</td>\n",
       "      <td>NaN</td>\n",
       "      <td>NaN</td>\n",
       "      <td>NaN</td>\n",
       "      <td>NaN</td>\n",
       "      <td>451.251972</td>\n",
       "      <td>...</td>\n",
       "      <td>429.696173</td>\n",
       "      <td>3.831169</td>\n",
       "      <td>464.561642</td>\n",
       "      <td>2.910060</td>\n",
       "      <td>452.642242</td>\n",
       "      <td>3.362026</td>\n",
       "      <td>462.302440</td>\n",
       "      <td>2.905994</td>\n",
       "      <td>442.493596</td>\n",
       "      <td>3.426557</td>\n",
       "    </tr>\n",
       "    <tr>\n",
       "      <th>...</th>\n",
       "      <td>...</td>\n",
       "      <td>...</td>\n",
       "      <td>...</td>\n",
       "      <td>...</td>\n",
       "      <td>...</td>\n",
       "      <td>...</td>\n",
       "      <td>...</td>\n",
       "      <td>...</td>\n",
       "      <td>...</td>\n",
       "      <td>...</td>\n",
       "      <td>...</td>\n",
       "      <td>...</td>\n",
       "      <td>...</td>\n",
       "      <td>...</td>\n",
       "      <td>...</td>\n",
       "      <td>...</td>\n",
       "      <td>...</td>\n",
       "      <td>...</td>\n",
       "      <td>...</td>\n",
       "      <td>...</td>\n",
       "      <td>...</td>\n",
       "    </tr>\n",
       "    <tr>\n",
       "      <th>82</th>\n",
       "      <td>Tunisia</td>\n",
       "      <td>NaN</td>\n",
       "      <td>NaN</td>\n",
       "      <td>NaN</td>\n",
       "      <td>NaN</td>\n",
       "      <td>387.103211</td>\n",
       "      <td>3.274310</td>\n",
       "      <td>361.770269</td>\n",
       "      <td>3.314829</td>\n",
       "      <td>398.347592</td>\n",
       "      <td>...</td>\n",
       "      <td>387.773045</td>\n",
       "      <td>5.000278</td>\n",
       "      <td>372.672553</td>\n",
       "      <td>2.981925</td>\n",
       "      <td>347.603830</td>\n",
       "      <td>3.927626</td>\n",
       "      <td>NaN</td>\n",
       "      <td>NaN</td>\n",
       "      <td>NaN</td>\n",
       "      <td>NaN</td>\n",
       "    </tr>\n",
       "    <tr>\n",
       "      <th>83</th>\n",
       "      <td>Ukraine</td>\n",
       "      <td>NaN</td>\n",
       "      <td>NaN</td>\n",
       "      <td>NaN</td>\n",
       "      <td>NaN</td>\n",
       "      <td>NaN</td>\n",
       "      <td>NaN</td>\n",
       "      <td>NaN</td>\n",
       "      <td>NaN</td>\n",
       "      <td>NaN</td>\n",
       "      <td>...</td>\n",
       "      <td>NaN</td>\n",
       "      <td>NaN</td>\n",
       "      <td>NaN</td>\n",
       "      <td>NaN</td>\n",
       "      <td>NaN</td>\n",
       "      <td>NaN</td>\n",
       "      <td>483.558512</td>\n",
       "      <td>3.627728</td>\n",
       "      <td>450.098856</td>\n",
       "      <td>4.212640</td>\n",
       "    </tr>\n",
       "    <tr>\n",
       "      <th>84</th>\n",
       "      <td>United Arab Emirates</td>\n",
       "      <td>NaN</td>\n",
       "      <td>NaN</td>\n",
       "      <td>NaN</td>\n",
       "      <td>NaN</td>\n",
       "      <td>NaN</td>\n",
       "      <td>NaN</td>\n",
       "      <td>NaN</td>\n",
       "      <td>NaN</td>\n",
       "      <td>NaN</td>\n",
       "      <td>...</td>\n",
       "      <td>413.456297</td>\n",
       "      <td>3.874962</td>\n",
       "      <td>458.287030</td>\n",
       "      <td>3.313320</td>\n",
       "      <td>408.105328</td>\n",
       "      <td>3.897629</td>\n",
       "      <td>459.767282</td>\n",
       "      <td>2.832150</td>\n",
       "      <td>403.023098</td>\n",
       "      <td>2.375085</td>\n",
       "    </tr>\n",
       "    <tr>\n",
       "      <th>85</th>\n",
       "      <td>Uruguay</td>\n",
       "      <td>NaN</td>\n",
       "      <td>NaN</td>\n",
       "      <td>NaN</td>\n",
       "      <td>NaN</td>\n",
       "      <td>453.318315</td>\n",
       "      <td>3.724549</td>\n",
       "      <td>414.024588</td>\n",
       "      <td>4.498276</td>\n",
       "      <td>434.578215</td>\n",
       "      <td>...</td>\n",
       "      <td>392.490664</td>\n",
       "      <td>3.874920</td>\n",
       "      <td>447.719606</td>\n",
       "      <td>2.666824</td>\n",
       "      <td>424.296890</td>\n",
       "      <td>3.381162</td>\n",
       "      <td>438.125089</td>\n",
       "      <td>3.044442</td>\n",
       "      <td>415.126906</td>\n",
       "      <td>3.301131</td>\n",
       "    </tr>\n",
       "    <tr>\n",
       "      <th>86</th>\n",
       "      <td>Viet Nam</td>\n",
       "      <td>NaN</td>\n",
       "      <td>NaN</td>\n",
       "      <td>NaN</td>\n",
       "      <td>NaN</td>\n",
       "      <td>NaN</td>\n",
       "      <td>NaN</td>\n",
       "      <td>NaN</td>\n",
       "      <td>NaN</td>\n",
       "      <td>NaN</td>\n",
       "      <td>...</td>\n",
       "      <td>491.726521</td>\n",
       "      <td>4.979587</td>\n",
       "      <td>499.038589</td>\n",
       "      <td>3.769746</td>\n",
       "      <td>473.919129</td>\n",
       "      <td>3.982901</td>\n",
       "      <td>NaN</td>\n",
       "      <td>NaN</td>\n",
       "      <td>NaN</td>\n",
       "      <td>NaN</td>\n",
       "    </tr>\n",
       "  </tbody>\n",
       "</table>\n",
       "<p>87 rows × 29 columns</p>\n",
       "</div>"
      ],
      "text/plain": [
       "               Countries       F2000  F_se_2000       M2000  M_se_2000  \\\n",
       "0              Australia  546.251223   4.735060  512.645471   4.041582   \n",
       "1                Austria  509.168003   3.951059  475.770710   3.623126   \n",
       "2                Belgium  525.208512   4.922344  492.394742   4.240977   \n",
       "3                 Canada  551.133144   1.703818  518.922764   1.763527   \n",
       "4                  Chile  421.101175   4.619114  396.493977   4.288241   \n",
       "..                   ...         ...        ...         ...        ...   \n",
       "82               Tunisia         NaN        NaN         NaN        NaN   \n",
       "83               Ukraine         NaN        NaN         NaN        NaN   \n",
       "84  United Arab Emirates         NaN        NaN         NaN        NaN   \n",
       "85               Uruguay         NaN        NaN         NaN        NaN   \n",
       "86              Viet Nam         NaN        NaN         NaN        NaN   \n",
       "\n",
       "         F2003  F_se_2003       M2003  M_se_2003       F2006  ...       M2012  \\\n",
       "0   545.425124   2.553496  506.085696   2.835287  531.754388  ...  495.089560   \n",
       "1   514.353350   4.213715  467.131762   4.540680  512.912207  ...  471.093138   \n",
       "2   526.225709   3.302789  489.326567   3.760765  521.728314  ...  492.755224   \n",
       "3   545.525389   1.816646  513.997502   2.046961  543.043598  ...  505.530210   \n",
       "4          NaN        NaN         NaN        NaN  451.251972  ...  429.696173   \n",
       "..         ...        ...         ...        ...         ...  ...         ...   \n",
       "82  387.103211   3.274310  361.770269   3.314829  398.347592  ...  387.773045   \n",
       "83         NaN        NaN         NaN        NaN         NaN  ...         NaN   \n",
       "84         NaN        NaN         NaN        NaN         NaN  ...  413.456297   \n",
       "85  453.318315   3.724549  414.024588   4.498276  434.578215  ...  392.490664   \n",
       "86         NaN        NaN         NaN        NaN         NaN  ...  491.726521   \n",
       "\n",
       "    M_se_2012       F2015  F_se_2015       M2015  M_se_2015       F2018  \\\n",
       "0    2.293139  518.865799   2.311112  487.185526   2.275913  518.572084   \n",
       "1    4.001055  495.075190   3.655755  474.846033   4.286806  498.652688   \n",
       "2    3.038303  506.638599   2.896861  490.664155   3.148375  503.687235   \n",
       "3    2.288049  539.762386   2.493043  513.535458   2.550603  534.669187   \n",
       "4    3.831169  464.561642   2.910060  452.642242   3.362026  462.302440   \n",
       "..        ...         ...        ...         ...        ...         ...   \n",
       "82   5.000278  372.672553   2.981925  347.603830   3.927626         NaN   \n",
       "83        NaN         NaN        NaN         NaN        NaN  483.558512   \n",
       "84   3.874962  458.287030   3.313320  408.105328   3.897629  459.767282   \n",
       "85   3.874920  447.719606   2.666824  424.296890   3.381162  438.125089   \n",
       "86   4.979587  499.038589   3.769746  473.919129   3.982901         NaN   \n",
       "\n",
       "    F_se_2018       M2018  M_se_2018  \n",
       "0    1.963580  487.209666   2.196336  \n",
       "1    3.721015  470.555838   3.673197  \n",
       "2    2.782623  481.973695   2.851972  \n",
       "3    2.008396  505.726865   2.105096  \n",
       "4    2.905994  442.493596   3.426557  \n",
       "..        ...         ...        ...  \n",
       "82        NaN         NaN        NaN  \n",
       "83   3.627728  450.098856   4.212640  \n",
       "84   2.832150  403.023098   2.375085  \n",
       "85   3.044442  415.126906   3.301131  \n",
       "86        NaN         NaN        NaN  \n",
       "\n",
       "[87 rows x 29 columns]"
      ]
     },
     "execution_count": 10,
     "metadata": {},
     "output_type": "execute_result"
    }
   ],
   "source": [
    "readingg = readingg.replace('—',np.nan,regex = True)\n",
    "readingg = readingg.replace('†',np.nan,regex = True)\n",
    "readingg = readingg.replace('‡',np.nan,regex = True)\n",
    "readingg"
   ]
  },
  {
   "cell_type": "code",
   "execution_count": 11,
   "metadata": {},
   "outputs": [],
   "source": [
    "import openpyxl"
   ]
  },
  {
   "cell_type": "code",
   "execution_count": 12,
   "metadata": {},
   "outputs": [],
   "source": [
    "readingg.to_excel('trend_gender.xlsx', sheet_name='Reading')"
   ]
  },
  {
   "cell_type": "code",
   "execution_count": 13,
   "metadata": {},
   "outputs": [],
   "source": [
    "reading_F = readingg[[\"Countries\",\"F2000\", \"F2003\",\"F2006\",\"F2009\",\"F2012\",\"F2015\",\"F2018\"]]\n",
    "reading_M = readingg[[\"Countries\",\"M2000\", \"M2003\",\"M2006\",\"M2009\",\"M2012\",\"M2015\",\"M2018\"]]"
   ]
  },
  {
   "cell_type": "code",
   "execution_count": 14,
   "metadata": {},
   "outputs": [
    {
     "name": "stderr",
     "output_type": "stream",
     "text": [
      "/var/folders/hv/08dyyt957zq3n_n6kttfl_180000gn/T/ipykernel_28310/2026353274.py:1: SettingWithCopyWarning: \n",
      "A value is trying to be set on a copy of a slice from a DataFrame\n",
      "\n",
      "See the caveats in the documentation: https://pandas.pydata.org/pandas-docs/stable/user_guide/indexing.html#returning-a-view-versus-a-copy\n",
      "  reading_F.rename({'F2000': '2000', 'F2003': '2003', 'F2006': '2006', 'F2009': '2009', 'F2012': '2012','F2015': '2015','F2018': '2018'}, axis=1, inplace=True)\n",
      "/var/folders/hv/08dyyt957zq3n_n6kttfl_180000gn/T/ipykernel_28310/2026353274.py:2: SettingWithCopyWarning: \n",
      "A value is trying to be set on a copy of a slice from a DataFrame\n",
      "\n",
      "See the caveats in the documentation: https://pandas.pydata.org/pandas-docs/stable/user_guide/indexing.html#returning-a-view-versus-a-copy\n",
      "  reading_M.rename({'M2000': '2000', 'M2003': '2003', 'M2006': '2006', 'M2009': '2009', 'M2012': '2012','M2015': '2015','M2018': '2018'}, axis=1, inplace=True)\n"
     ]
    }
   ],
   "source": [
    "reading_F.rename({'F2000': '2000', 'F2003': '2003', 'F2006': '2006', 'F2009': '2009', 'F2012': '2012','F2015': '2015','F2018': '2018'}, axis=1, inplace=True)\n",
    "reading_M.rename({'M2000': '2000', 'M2003': '2003', 'M2006': '2006', 'M2009': '2009', 'M2012': '2012','M2015': '2015','M2018': '2018'}, axis=1, inplace=True)"
   ]
  },
  {
   "cell_type": "code",
   "execution_count": 15,
   "metadata": {},
   "outputs": [
    {
     "data": {
      "text/html": [
       "<div>\n",
       "<style scoped>\n",
       "    .dataframe tbody tr th:only-of-type {\n",
       "        vertical-align: middle;\n",
       "    }\n",
       "\n",
       "    .dataframe tbody tr th {\n",
       "        vertical-align: top;\n",
       "    }\n",
       "\n",
       "    .dataframe thead th {\n",
       "        text-align: right;\n",
       "    }\n",
       "</style>\n",
       "<table border=\"1\" class=\"dataframe\">\n",
       "  <thead>\n",
       "    <tr style=\"text-align: right;\">\n",
       "      <th></th>\n",
       "      <th>Countries</th>\n",
       "      <th>F2000</th>\n",
       "      <th>F_se_2000</th>\n",
       "      <th>M2000</th>\n",
       "      <th>M_se_2000</th>\n",
       "    </tr>\n",
       "  </thead>\n",
       "  <tbody>\n",
       "    <tr>\n",
       "      <th>0</th>\n",
       "      <td>Australia</td>\n",
       "      <td>—</td>\n",
       "      <td>†</td>\n",
       "      <td>—</td>\n",
       "      <td>†</td>\n",
       "    </tr>\n",
       "    <tr>\n",
       "      <th>1</th>\n",
       "      <td>Austria</td>\n",
       "      <td>—</td>\n",
       "      <td>†</td>\n",
       "      <td>—</td>\n",
       "      <td>†</td>\n",
       "    </tr>\n",
       "    <tr>\n",
       "      <th>2</th>\n",
       "      <td>Belgium</td>\n",
       "      <td>—</td>\n",
       "      <td>†</td>\n",
       "      <td>—</td>\n",
       "      <td>†</td>\n",
       "    </tr>\n",
       "    <tr>\n",
       "      <th>3</th>\n",
       "      <td>Canada</td>\n",
       "      <td>—</td>\n",
       "      <td>†</td>\n",
       "      <td>—</td>\n",
       "      <td>†</td>\n",
       "    </tr>\n",
       "    <tr>\n",
       "      <th>4</th>\n",
       "      <td>Chile</td>\n",
       "      <td>—</td>\n",
       "      <td>†</td>\n",
       "      <td>—</td>\n",
       "      <td>†</td>\n",
       "    </tr>\n",
       "    <tr>\n",
       "      <th>...</th>\n",
       "      <td>...</td>\n",
       "      <td>...</td>\n",
       "      <td>...</td>\n",
       "      <td>...</td>\n",
       "      <td>...</td>\n",
       "    </tr>\n",
       "    <tr>\n",
       "      <th>82</th>\n",
       "      <td>Tunisia</td>\n",
       "      <td>—</td>\n",
       "      <td>†</td>\n",
       "      <td>—</td>\n",
       "      <td>†</td>\n",
       "    </tr>\n",
       "    <tr>\n",
       "      <th>83</th>\n",
       "      <td>Ukraine</td>\n",
       "      <td>—</td>\n",
       "      <td>†</td>\n",
       "      <td>—</td>\n",
       "      <td>†</td>\n",
       "    </tr>\n",
       "    <tr>\n",
       "      <th>84</th>\n",
       "      <td>United Arab Emirates</td>\n",
       "      <td>—</td>\n",
       "      <td>†</td>\n",
       "      <td>—</td>\n",
       "      <td>†</td>\n",
       "    </tr>\n",
       "    <tr>\n",
       "      <th>85</th>\n",
       "      <td>Uruguay</td>\n",
       "      <td>—</td>\n",
       "      <td>†</td>\n",
       "      <td>—</td>\n",
       "      <td>†</td>\n",
       "    </tr>\n",
       "    <tr>\n",
       "      <th>86</th>\n",
       "      <td>Viet Nam</td>\n",
       "      <td>—</td>\n",
       "      <td>†</td>\n",
       "      <td>—</td>\n",
       "      <td>†</td>\n",
       "    </tr>\n",
       "  </tbody>\n",
       "</table>\n",
       "<p>87 rows × 5 columns</p>\n",
       "</div>"
      ],
      "text/plain": [
       "               Countries F2000 F_se_2000 M2000 M_se_2000\n",
       "0              Australia     —         †     —         †\n",
       "1                Austria     —         †     —         †\n",
       "2                Belgium     —         †     —         †\n",
       "3                 Canada     —         †     —         †\n",
       "4                  Chile     —         †     —         †\n",
       "..                   ...   ...       ...   ...       ...\n",
       "82               Tunisia     —         †     —         †\n",
       "83               Ukraine     —         †     —         †\n",
       "84  United Arab Emirates     —         †     —         †\n",
       "85               Uruguay     —         †     —         †\n",
       "86              Viet Nam     —         †     —         †\n",
       "\n",
       "[87 rows x 5 columns]"
      ]
     },
     "execution_count": 15,
     "metadata": {},
     "output_type": "execute_result"
    }
   ],
   "source": [
    "mathg2000 = pd.read_excel(\"../data_all/gender/gender2000.xls\",sheet_name='Report 2- Table',skiprows=[1,2,3,4,5,6,7,8,9,10,11,100,101,102,103,104])\n",
    "mathg2000.drop(['Unnamed: 0', 'Unnamed: 1'], axis=1, inplace=True)\n",
    "mathg2000.rename({'Unnamed: 2': 'Countries', 'Unnamed: 3': 'F2000', 'Unnamed: 4': 'F_se_2000', 'Unnamed: 5': 'M2000', 'Unnamed: 6': 'M_se_2000'}, axis=1, inplace=True)\n",
    "mathg2000 = mathg2000.drop(index=[87])\n",
    "mathg2000"
   ]
  },
  {
   "cell_type": "code",
   "execution_count": 16,
   "metadata": {},
   "outputs": [
    {
     "data": {
      "text/html": [
       "<div>\n",
       "<style scoped>\n",
       "    .dataframe tbody tr th:only-of-type {\n",
       "        vertical-align: middle;\n",
       "    }\n",
       "\n",
       "    .dataframe tbody tr th {\n",
       "        vertical-align: top;\n",
       "    }\n",
       "\n",
       "    .dataframe thead th {\n",
       "        text-align: right;\n",
       "    }\n",
       "</style>\n",
       "<table border=\"1\" class=\"dataframe\">\n",
       "  <thead>\n",
       "    <tr style=\"text-align: right;\">\n",
       "      <th></th>\n",
       "      <th>Countries</th>\n",
       "      <th>F2003</th>\n",
       "      <th>F_se_2003</th>\n",
       "      <th>M2003</th>\n",
       "      <th>M_se_2003</th>\n",
       "    </tr>\n",
       "  </thead>\n",
       "  <tbody>\n",
       "    <tr>\n",
       "      <th>0</th>\n",
       "      <td>Australia</td>\n",
       "      <td>521.550185</td>\n",
       "      <td>2.692823</td>\n",
       "      <td>526.892627</td>\n",
       "      <td>3.005998</td>\n",
       "    </tr>\n",
       "    <tr>\n",
       "      <th>1</th>\n",
       "      <td>Austria</td>\n",
       "      <td>501.816064</td>\n",
       "      <td>3.960884</td>\n",
       "      <td>509.390083</td>\n",
       "      <td>3.950726</td>\n",
       "    </tr>\n",
       "    <tr>\n",
       "      <th>2</th>\n",
       "      <td>Belgium</td>\n",
       "      <td>525.370177</td>\n",
       "      <td>3.234103</td>\n",
       "      <td>532.881507</td>\n",
       "      <td>3.395852</td>\n",
       "    </tr>\n",
       "    <tr>\n",
       "      <th>3</th>\n",
       "      <td>Canada</td>\n",
       "      <td>529.602413</td>\n",
       "      <td>1.876195</td>\n",
       "      <td>540.774234</td>\n",
       "      <td>2.053585</td>\n",
       "    </tr>\n",
       "    <tr>\n",
       "      <th>4</th>\n",
       "      <td>Chile</td>\n",
       "      <td>—</td>\n",
       "      <td>†</td>\n",
       "      <td>—</td>\n",
       "      <td>†</td>\n",
       "    </tr>\n",
       "    <tr>\n",
       "      <th>...</th>\n",
       "      <td>...</td>\n",
       "      <td>...</td>\n",
       "      <td>...</td>\n",
       "      <td>...</td>\n",
       "      <td>...</td>\n",
       "    </tr>\n",
       "    <tr>\n",
       "      <th>82</th>\n",
       "      <td>Tunisia</td>\n",
       "      <td>352.738625</td>\n",
       "      <td>2.93302</td>\n",
       "      <td>364.906171</td>\n",
       "      <td>2.738625</td>\n",
       "    </tr>\n",
       "    <tr>\n",
       "      <th>83</th>\n",
       "      <td>Ukraine</td>\n",
       "      <td>—</td>\n",
       "      <td>†</td>\n",
       "      <td>—</td>\n",
       "      <td>†</td>\n",
       "    </tr>\n",
       "    <tr>\n",
       "      <th>84</th>\n",
       "      <td>United Arab Emirates</td>\n",
       "      <td>—</td>\n",
       "      <td>†</td>\n",
       "      <td>—</td>\n",
       "      <td>†</td>\n",
       "    </tr>\n",
       "    <tr>\n",
       "      <th>85</th>\n",
       "      <td>Uruguay</td>\n",
       "      <td>416.302519</td>\n",
       "      <td>3.839767</td>\n",
       "      <td>428.39155</td>\n",
       "      <td>3.951547</td>\n",
       "    </tr>\n",
       "    <tr>\n",
       "      <th>86</th>\n",
       "      <td>Viet Nam</td>\n",
       "      <td>—</td>\n",
       "      <td>†</td>\n",
       "      <td>—</td>\n",
       "      <td>†</td>\n",
       "    </tr>\n",
       "  </tbody>\n",
       "</table>\n",
       "<p>87 rows × 5 columns</p>\n",
       "</div>"
      ],
      "text/plain": [
       "               Countries       F2003 F_se_2003       M2003 M_se_2003\n",
       "0              Australia  521.550185  2.692823  526.892627  3.005998\n",
       "1                Austria  501.816064  3.960884  509.390083  3.950726\n",
       "2                Belgium  525.370177  3.234103  532.881507  3.395852\n",
       "3                 Canada  529.602413  1.876195  540.774234  2.053585\n",
       "4                  Chile           —         †           —         †\n",
       "..                   ...         ...       ...         ...       ...\n",
       "82               Tunisia  352.738625   2.93302  364.906171  2.738625\n",
       "83               Ukraine           —         †           —         †\n",
       "84  United Arab Emirates           —         †           —         †\n",
       "85               Uruguay  416.302519  3.839767   428.39155  3.951547\n",
       "86              Viet Nam           —         †           —         †\n",
       "\n",
       "[87 rows x 5 columns]"
      ]
     },
     "execution_count": 16,
     "metadata": {},
     "output_type": "execute_result"
    }
   ],
   "source": [
    "mathg2003 = pd.read_excel(\"../data_all/gender/gender2003.xls\",sheet_name='Report 2- Table',skiprows=[1,2,3,4,5,6,7,8,9,10,11,100,101,102,103,104])\n",
    "mathg2003.drop(['Unnamed: 0', 'Unnamed: 1'], axis=1, inplace=True)\n",
    "mathg2003.rename({'Unnamed: 2': 'Countries', 'Unnamed: 3': 'F2003', 'Unnamed: 4': 'F_se_2003', 'Unnamed: 5': 'M2003', 'Unnamed: 6': 'M_se_2003'}, axis=1, inplace=True)\n",
    "mathg2003 = mathg2003.drop(index=[87])\n",
    "mathg2003"
   ]
  },
  {
   "cell_type": "code",
   "execution_count": 17,
   "metadata": {},
   "outputs": [
    {
     "data": {
      "text/html": [
       "<div>\n",
       "<style scoped>\n",
       "    .dataframe tbody tr th:only-of-type {\n",
       "        vertical-align: middle;\n",
       "    }\n",
       "\n",
       "    .dataframe tbody tr th {\n",
       "        vertical-align: top;\n",
       "    }\n",
       "\n",
       "    .dataframe thead th {\n",
       "        text-align: right;\n",
       "    }\n",
       "</style>\n",
       "<table border=\"1\" class=\"dataframe\">\n",
       "  <thead>\n",
       "    <tr style=\"text-align: right;\">\n",
       "      <th></th>\n",
       "      <th>Countries</th>\n",
       "      <th>F2006</th>\n",
       "      <th>F_se_2006</th>\n",
       "      <th>M2006</th>\n",
       "      <th>M_se_2006</th>\n",
       "    </tr>\n",
       "  </thead>\n",
       "  <tbody>\n",
       "    <tr>\n",
       "      <th>0</th>\n",
       "      <td>Australia</td>\n",
       "      <td>512.532446</td>\n",
       "      <td>2.414272</td>\n",
       "      <td>526.954322</td>\n",
       "      <td>3.176693</td>\n",
       "    </tr>\n",
       "    <tr>\n",
       "      <th>1</th>\n",
       "      <td>Austria</td>\n",
       "      <td>493.962184</td>\n",
       "      <td>4.146897</td>\n",
       "      <td>516.581071</td>\n",
       "      <td>4.422147</td>\n",
       "    </tr>\n",
       "    <tr>\n",
       "      <th>2</th>\n",
       "      <td>Belgium</td>\n",
       "      <td>516.705868</td>\n",
       "      <td>3.448619</td>\n",
       "      <td>523.655483</td>\n",
       "      <td>4.11744</td>\n",
       "    </tr>\n",
       "    <tr>\n",
       "      <th>3</th>\n",
       "      <td>Canada</td>\n",
       "      <td>519.862643</td>\n",
       "      <td>2.00038</td>\n",
       "      <td>534.078873</td>\n",
       "      <td>2.391152</td>\n",
       "    </tr>\n",
       "    <tr>\n",
       "      <th>4</th>\n",
       "      <td>Chile</td>\n",
       "      <td>396.284317</td>\n",
       "      <td>4.708827</td>\n",
       "      <td>424.17982</td>\n",
       "      <td>5.512725</td>\n",
       "    </tr>\n",
       "    <tr>\n",
       "      <th>...</th>\n",
       "      <td>...</td>\n",
       "      <td>...</td>\n",
       "      <td>...</td>\n",
       "      <td>...</td>\n",
       "      <td>...</td>\n",
       "    </tr>\n",
       "    <tr>\n",
       "      <th>82</th>\n",
       "      <td>Tunisia</td>\n",
       "      <td>358.164081</td>\n",
       "      <td>4.415324</td>\n",
       "      <td>373.473916</td>\n",
       "      <td>4.350335</td>\n",
       "    </tr>\n",
       "    <tr>\n",
       "      <th>83</th>\n",
       "      <td>Ukraine</td>\n",
       "      <td>—</td>\n",
       "      <td>†</td>\n",
       "      <td>—</td>\n",
       "      <td>†</td>\n",
       "    </tr>\n",
       "    <tr>\n",
       "      <th>84</th>\n",
       "      <td>United Arab Emirates</td>\n",
       "      <td>—</td>\n",
       "      <td>†</td>\n",
       "      <td>—</td>\n",
       "      <td>†</td>\n",
       "    </tr>\n",
       "    <tr>\n",
       "      <th>85</th>\n",
       "      <td>Uruguay</td>\n",
       "      <td>420.486505</td>\n",
       "      <td>3.086664</td>\n",
       "      <td>433.413827</td>\n",
       "      <td>3.636722</td>\n",
       "    </tr>\n",
       "    <tr>\n",
       "      <th>86</th>\n",
       "      <td>Viet Nam</td>\n",
       "      <td>—</td>\n",
       "      <td>†</td>\n",
       "      <td>—</td>\n",
       "      <td>†</td>\n",
       "    </tr>\n",
       "  </tbody>\n",
       "</table>\n",
       "<p>87 rows × 5 columns</p>\n",
       "</div>"
      ],
      "text/plain": [
       "               Countries       F2006 F_se_2006       M2006 M_se_2006\n",
       "0              Australia  512.532446  2.414272  526.954322  3.176693\n",
       "1                Austria  493.962184  4.146897  516.581071  4.422147\n",
       "2                Belgium  516.705868  3.448619  523.655483   4.11744\n",
       "3                 Canada  519.862643   2.00038  534.078873  2.391152\n",
       "4                  Chile  396.284317  4.708827   424.17982  5.512725\n",
       "..                   ...         ...       ...         ...       ...\n",
       "82               Tunisia  358.164081  4.415324  373.473916  4.350335\n",
       "83               Ukraine           —         †           —         †\n",
       "84  United Arab Emirates           —         †           —         †\n",
       "85               Uruguay  420.486505  3.086664  433.413827  3.636722\n",
       "86              Viet Nam           —         †           —         †\n",
       "\n",
       "[87 rows x 5 columns]"
      ]
     },
     "execution_count": 17,
     "metadata": {},
     "output_type": "execute_result"
    }
   ],
   "source": [
    "mathg2006 = pd.read_excel(\"../data_all/gender/gender2006.xls\",sheet_name='Report 2- Table',skiprows=[1,2,3,4,5,6,7,8,9,10,11,100,101,102,103,104])\n",
    "mathg2006.drop(['Unnamed: 0', 'Unnamed: 1'], axis=1, inplace=True)\n",
    "mathg2006.rename({'Unnamed: 2': 'Countries', 'Unnamed: 3': 'F2006', 'Unnamed: 4': 'F_se_2006', 'Unnamed: 5': 'M2006', 'Unnamed: 6': 'M_se_2006'}, axis=1, inplace=True)\n",
    "mathg2006 = mathg2006.drop(index=[87])\n",
    "mathg2006"
   ]
  },
  {
   "cell_type": "code",
   "execution_count": 18,
   "metadata": {},
   "outputs": [
    {
     "data": {
      "text/html": [
       "<div>\n",
       "<style scoped>\n",
       "    .dataframe tbody tr th:only-of-type {\n",
       "        vertical-align: middle;\n",
       "    }\n",
       "\n",
       "    .dataframe tbody tr th {\n",
       "        vertical-align: top;\n",
       "    }\n",
       "\n",
       "    .dataframe thead th {\n",
       "        text-align: right;\n",
       "    }\n",
       "</style>\n",
       "<table border=\"1\" class=\"dataframe\">\n",
       "  <thead>\n",
       "    <tr style=\"text-align: right;\">\n",
       "      <th></th>\n",
       "      <th>Countries</th>\n",
       "      <th>F2009</th>\n",
       "      <th>F_se_2009</th>\n",
       "      <th>M2009</th>\n",
       "      <th>M_se_2009</th>\n",
       "    </tr>\n",
       "  </thead>\n",
       "  <tbody>\n",
       "    <tr>\n",
       "      <th>0</th>\n",
       "      <td>Australia</td>\n",
       "      <td>509.480661</td>\n",
       "      <td>2.831462</td>\n",
       "      <td>519.417794</td>\n",
       "      <td>2.998711</td>\n",
       "    </tr>\n",
       "    <tr>\n",
       "      <th>1</th>\n",
       "      <td>Austria</td>\n",
       "      <td>486.499395</td>\n",
       "      <td>4.0227</td>\n",
       "      <td>505.683079</td>\n",
       "      <td>3.355349</td>\n",
       "    </tr>\n",
       "    <tr>\n",
       "      <th>2</th>\n",
       "      <td>Belgium</td>\n",
       "      <td>504.156918</td>\n",
       "      <td>2.95856</td>\n",
       "      <td>525.915994</td>\n",
       "      <td>3.296186</td>\n",
       "    </tr>\n",
       "    <tr>\n",
       "      <th>3</th>\n",
       "      <td>Canada</td>\n",
       "      <td>520.832036</td>\n",
       "      <td>1.69952</td>\n",
       "      <td>532.700254</td>\n",
       "      <td>1.994735</td>\n",
       "    </tr>\n",
       "    <tr>\n",
       "      <th>4</th>\n",
       "      <td>Chile</td>\n",
       "      <td>410.375906</td>\n",
       "      <td>3.626432</td>\n",
       "      <td>431.332705</td>\n",
       "      <td>3.690353</td>\n",
       "    </tr>\n",
       "    <tr>\n",
       "      <th>...</th>\n",
       "      <td>...</td>\n",
       "      <td>...</td>\n",
       "      <td>...</td>\n",
       "      <td>...</td>\n",
       "      <td>...</td>\n",
       "    </tr>\n",
       "    <tr>\n",
       "      <th>82</th>\n",
       "      <td>Tunisia</td>\n",
       "      <td>365.681253</td>\n",
       "      <td>3.163214</td>\n",
       "      <td>377.878779</td>\n",
       "      <td>3.272935</td>\n",
       "    </tr>\n",
       "    <tr>\n",
       "      <th>83</th>\n",
       "      <td>Ukraine</td>\n",
       "      <td>—</td>\n",
       "      <td>†</td>\n",
       "      <td>—</td>\n",
       "      <td>†</td>\n",
       "    </tr>\n",
       "    <tr>\n",
       "      <th>84</th>\n",
       "      <td>United Arab Emirates</td>\n",
       "      <td>—</td>\n",
       "      <td>†</td>\n",
       "      <td>—</td>\n",
       "      <td>†</td>\n",
       "    </tr>\n",
       "    <tr>\n",
       "      <th>85</th>\n",
       "      <td>Uruguay</td>\n",
       "      <td>420.940135</td>\n",
       "      <td>2.922192</td>\n",
       "      <td>433.239316</td>\n",
       "      <td>2.953434</td>\n",
       "    </tr>\n",
       "    <tr>\n",
       "      <th>86</th>\n",
       "      <td>Viet Nam</td>\n",
       "      <td>—</td>\n",
       "      <td>†</td>\n",
       "      <td>—</td>\n",
       "      <td>†</td>\n",
       "    </tr>\n",
       "  </tbody>\n",
       "</table>\n",
       "<p>87 rows × 5 columns</p>\n",
       "</div>"
      ],
      "text/plain": [
       "               Countries       F2009 F_se_2009       M2009 M_se_2009\n",
       "0              Australia  509.480661  2.831462  519.417794  2.998711\n",
       "1                Austria  486.499395    4.0227  505.683079  3.355349\n",
       "2                Belgium  504.156918   2.95856  525.915994  3.296186\n",
       "3                 Canada  520.832036   1.69952  532.700254  1.994735\n",
       "4                  Chile  410.375906  3.626432  431.332705  3.690353\n",
       "..                   ...         ...       ...         ...       ...\n",
       "82               Tunisia  365.681253  3.163214  377.878779  3.272935\n",
       "83               Ukraine           —         †           —         †\n",
       "84  United Arab Emirates           —         †           —         †\n",
       "85               Uruguay  420.940135  2.922192  433.239316  2.953434\n",
       "86              Viet Nam           —         †           —         †\n",
       "\n",
       "[87 rows x 5 columns]"
      ]
     },
     "execution_count": 18,
     "metadata": {},
     "output_type": "execute_result"
    }
   ],
   "source": [
    "mathg2009 = pd.read_excel(\"../data_all/gender/gender2009.xls\",sheet_name='Report 2- Table',skiprows=[1,2,3,4,5,6,7,8,9,10,11,100,101,102,103,104])\n",
    "mathg2009.drop(['Unnamed: 0', 'Unnamed: 1'], axis=1, inplace=True)\n",
    "mathg2009.rename({'Unnamed: 2': 'Countries', 'Unnamed: 3': 'F2009', 'Unnamed: 4': 'F_se_2009', 'Unnamed: 5': 'M2009', 'Unnamed: 6': 'M_se_2009'}, axis=1, inplace=True)\n",
    "mathg2009 = mathg2009.drop(index=[87])\n",
    "mathg2009"
   ]
  },
  {
   "cell_type": "code",
   "execution_count": 19,
   "metadata": {},
   "outputs": [
    {
     "data": {
      "text/html": [
       "<div>\n",
       "<style scoped>\n",
       "    .dataframe tbody tr th:only-of-type {\n",
       "        vertical-align: middle;\n",
       "    }\n",
       "\n",
       "    .dataframe tbody tr th {\n",
       "        vertical-align: top;\n",
       "    }\n",
       "\n",
       "    .dataframe thead th {\n",
       "        text-align: right;\n",
       "    }\n",
       "</style>\n",
       "<table border=\"1\" class=\"dataframe\">\n",
       "  <thead>\n",
       "    <tr style=\"text-align: right;\">\n",
       "      <th></th>\n",
       "      <th>Countries</th>\n",
       "      <th>F2012</th>\n",
       "      <th>F_se_2012</th>\n",
       "      <th>M2012</th>\n",
       "      <th>M_se_2012</th>\n",
       "    </tr>\n",
       "  </thead>\n",
       "  <tbody>\n",
       "    <tr>\n",
       "      <th>0</th>\n",
       "      <td>Australia</td>\n",
       "      <td>497.82135</td>\n",
       "      <td>2.040775</td>\n",
       "      <td>510.114851</td>\n",
       "      <td>2.40536</td>\n",
       "    </tr>\n",
       "    <tr>\n",
       "      <th>1</th>\n",
       "      <td>Austria</td>\n",
       "      <td>494.462264</td>\n",
       "      <td>3.258486</td>\n",
       "      <td>516.681834</td>\n",
       "      <td>3.860736</td>\n",
       "    </tr>\n",
       "    <tr>\n",
       "      <th>2</th>\n",
       "      <td>Belgium</td>\n",
       "      <td>508.934612</td>\n",
       "      <td>2.561951</td>\n",
       "      <td>520.081208</td>\n",
       "      <td>2.888659</td>\n",
       "    </tr>\n",
       "    <tr>\n",
       "      <th>3</th>\n",
       "      <td>Canada</td>\n",
       "      <td>513.019099</td>\n",
       "      <td>2.051552</td>\n",
       "      <td>523.14027</td>\n",
       "      <td>2.142494</td>\n",
       "    </tr>\n",
       "    <tr>\n",
       "      <th>4</th>\n",
       "      <td>Chile</td>\n",
       "      <td>410.543252</td>\n",
       "      <td>3.074999</td>\n",
       "      <td>435.524618</td>\n",
       "      <td>3.821439</td>\n",
       "    </tr>\n",
       "    <tr>\n",
       "      <th>...</th>\n",
       "      <td>...</td>\n",
       "      <td>...</td>\n",
       "      <td>...</td>\n",
       "      <td>...</td>\n",
       "      <td>...</td>\n",
       "    </tr>\n",
       "    <tr>\n",
       "      <th>82</th>\n",
       "      <td>Tunisia</td>\n",
       "      <td>380.728225</td>\n",
       "      <td>4.036563</td>\n",
       "      <td>395.946963</td>\n",
       "      <td>4.318517</td>\n",
       "    </tr>\n",
       "    <tr>\n",
       "      <th>83</th>\n",
       "      <td>Ukraine</td>\n",
       "      <td>—</td>\n",
       "      <td>†</td>\n",
       "      <td>—</td>\n",
       "      <td>†</td>\n",
       "    </tr>\n",
       "    <tr>\n",
       "      <th>84</th>\n",
       "      <td>United Arab Emirates</td>\n",
       "      <td>436.398466</td>\n",
       "      <td>3.021786</td>\n",
       "      <td>431.512913</td>\n",
       "      <td>3.778884</td>\n",
       "    </tr>\n",
       "    <tr>\n",
       "      <th>85</th>\n",
       "      <td>Uruguay</td>\n",
       "      <td>403.945624</td>\n",
       "      <td>2.867167</td>\n",
       "      <td>415.353234</td>\n",
       "      <td>3.494126</td>\n",
       "    </tr>\n",
       "    <tr>\n",
       "      <th>86</th>\n",
       "      <td>Viet Nam</td>\n",
       "      <td>506.738589</td>\n",
       "      <td>4.653463</td>\n",
       "      <td>516.638996</td>\n",
       "      <td>5.569245</td>\n",
       "    </tr>\n",
       "  </tbody>\n",
       "</table>\n",
       "<p>87 rows × 5 columns</p>\n",
       "</div>"
      ],
      "text/plain": [
       "               Countries       F2012 F_se_2012       M2012 M_se_2012\n",
       "0              Australia   497.82135  2.040775  510.114851   2.40536\n",
       "1                Austria  494.462264  3.258486  516.681834  3.860736\n",
       "2                Belgium  508.934612  2.561951  520.081208  2.888659\n",
       "3                 Canada  513.019099  2.051552   523.14027  2.142494\n",
       "4                  Chile  410.543252  3.074999  435.524618  3.821439\n",
       "..                   ...         ...       ...         ...       ...\n",
       "82               Tunisia  380.728225  4.036563  395.946963  4.318517\n",
       "83               Ukraine           —         †           —         †\n",
       "84  United Arab Emirates  436.398466  3.021786  431.512913  3.778884\n",
       "85               Uruguay  403.945624  2.867167  415.353234  3.494126\n",
       "86              Viet Nam  506.738589  4.653463  516.638996  5.569245\n",
       "\n",
       "[87 rows x 5 columns]"
      ]
     },
     "execution_count": 19,
     "metadata": {},
     "output_type": "execute_result"
    }
   ],
   "source": [
    "mathg2012 = pd.read_excel(\"../data_all/gender/gender2012.xls\",sheet_name='Report 2- Table',skiprows=[1,2,3,4,5,6,7,8,9,10,11,100,101,102,103,104])\n",
    "mathg2012.drop(['Unnamed: 0', 'Unnamed: 1'], axis=1, inplace=True)\n",
    "mathg2012.rename({'Unnamed: 2': 'Countries', 'Unnamed: 3': 'F2012', 'Unnamed: 4': 'F_se_2012', 'Unnamed: 5': 'M2012', 'Unnamed: 6': 'M_se_2012'}, axis=1, inplace=True)\n",
    "mathg2012 = mathg2012.drop(index=[87])\n",
    "mathg2012"
   ]
  },
  {
   "cell_type": "code",
   "execution_count": 20,
   "metadata": {},
   "outputs": [
    {
     "data": {
      "text/html": [
       "<div>\n",
       "<style scoped>\n",
       "    .dataframe tbody tr th:only-of-type {\n",
       "        vertical-align: middle;\n",
       "    }\n",
       "\n",
       "    .dataframe tbody tr th {\n",
       "        vertical-align: top;\n",
       "    }\n",
       "\n",
       "    .dataframe thead th {\n",
       "        text-align: right;\n",
       "    }\n",
       "</style>\n",
       "<table border=\"1\" class=\"dataframe\">\n",
       "  <thead>\n",
       "    <tr style=\"text-align: right;\">\n",
       "      <th></th>\n",
       "      <th>Countries</th>\n",
       "      <th>F2015</th>\n",
       "      <th>F_se_2015</th>\n",
       "      <th>M2015</th>\n",
       "      <th>M_se_2015</th>\n",
       "    </tr>\n",
       "  </thead>\n",
       "  <tbody>\n",
       "    <tr>\n",
       "      <th>0</th>\n",
       "      <td>Australia</td>\n",
       "      <td>490.985501</td>\n",
       "      <td>2.482435</td>\n",
       "      <td>496.761345</td>\n",
       "      <td>2.147523</td>\n",
       "    </tr>\n",
       "    <tr>\n",
       "      <th>1</th>\n",
       "      <td>Austria</td>\n",
       "      <td>483.133026</td>\n",
       "      <td>3.58192</td>\n",
       "      <td>510.098216</td>\n",
       "      <td>3.810942</td>\n",
       "    </tr>\n",
       "    <tr>\n",
       "      <th>2</th>\n",
       "      <td>Belgium</td>\n",
       "      <td>499.739022</td>\n",
       "      <td>2.760838</td>\n",
       "      <td>514.002571</td>\n",
       "      <td>3.058726</td>\n",
       "    </tr>\n",
       "    <tr>\n",
       "      <th>3</th>\n",
       "      <td>Canada</td>\n",
       "      <td>511.141726</td>\n",
       "      <td>2.567898</td>\n",
       "      <td>520.166125</td>\n",
       "      <td>2.851925</td>\n",
       "    </tr>\n",
       "    <tr>\n",
       "      <th>4</th>\n",
       "      <td>Chile</td>\n",
       "      <td>413.448981</td>\n",
       "      <td>3.048182</td>\n",
       "      <td>431.798087</td>\n",
       "      <td>3.118422</td>\n",
       "    </tr>\n",
       "    <tr>\n",
       "      <th>...</th>\n",
       "      <td>...</td>\n",
       "      <td>...</td>\n",
       "      <td>...</td>\n",
       "      <td>...</td>\n",
       "      <td>...</td>\n",
       "    </tr>\n",
       "    <tr>\n",
       "      <th>82</th>\n",
       "      <td>Tunisia</td>\n",
       "      <td>363.999629</td>\n",
       "      <td>3.233798</td>\n",
       "      <td>370.081434</td>\n",
       "      <td>3.425183</td>\n",
       "    </tr>\n",
       "    <tr>\n",
       "      <th>83</th>\n",
       "      <td>Ukraine</td>\n",
       "      <td>—</td>\n",
       "      <td>†</td>\n",
       "      <td>—</td>\n",
       "      <td>†</td>\n",
       "    </tr>\n",
       "    <tr>\n",
       "      <th>84</th>\n",
       "      <td>United Arab Emirates</td>\n",
       "      <td>430.702034</td>\n",
       "      <td>2.897496</td>\n",
       "      <td>424.173386</td>\n",
       "      <td>3.864973</td>\n",
       "    </tr>\n",
       "    <tr>\n",
       "      <th>85</th>\n",
       "      <td>Uruguay</td>\n",
       "      <td>411.50236</td>\n",
       "      <td>2.453651</td>\n",
       "      <td>425.137938</td>\n",
       "      <td>3.59334</td>\n",
       "    </tr>\n",
       "    <tr>\n",
       "      <th>86</th>\n",
       "      <td>Viet Nam</td>\n",
       "      <td>496.005946</td>\n",
       "      <td>4.842565</td>\n",
       "      <td>492.959137</td>\n",
       "      <td>4.663917</td>\n",
       "    </tr>\n",
       "  </tbody>\n",
       "</table>\n",
       "<p>87 rows × 5 columns</p>\n",
       "</div>"
      ],
      "text/plain": [
       "               Countries       F2015 F_se_2015       M2015 M_se_2015\n",
       "0              Australia  490.985501  2.482435  496.761345  2.147523\n",
       "1                Austria  483.133026   3.58192  510.098216  3.810942\n",
       "2                Belgium  499.739022  2.760838  514.002571  3.058726\n",
       "3                 Canada  511.141726  2.567898  520.166125  2.851925\n",
       "4                  Chile  413.448981  3.048182  431.798087  3.118422\n",
       "..                   ...         ...       ...         ...       ...\n",
       "82               Tunisia  363.999629  3.233798  370.081434  3.425183\n",
       "83               Ukraine           —         †           —         †\n",
       "84  United Arab Emirates  430.702034  2.897496  424.173386  3.864973\n",
       "85               Uruguay   411.50236  2.453651  425.137938   3.59334\n",
       "86              Viet Nam  496.005946  4.842565  492.959137  4.663917\n",
       "\n",
       "[87 rows x 5 columns]"
      ]
     },
     "execution_count": 20,
     "metadata": {},
     "output_type": "execute_result"
    }
   ],
   "source": [
    "mathg2015 = pd.read_excel(\"../data_all/gender/gender2015.xls\",sheet_name='Report 2- Table',skiprows=[1,2,3,4,5,6,7,8,9,10,11,100,101,102,103,104])\n",
    "mathg2015.drop(['Unnamed: 0', 'Unnamed: 1'], axis=1, inplace=True)\n",
    "mathg2015.rename({'Unnamed: 2': 'Countries', 'Unnamed: 3': 'F2015', 'Unnamed: 4': 'F_se_2015', 'Unnamed: 5': 'M2015', 'Unnamed: 6': 'M_se_2015'}, axis=1, inplace=True)\n",
    "mathg2015 = mathg2015.drop(index=[87])\n",
    "mathg2015"
   ]
  },
  {
   "cell_type": "code",
   "execution_count": 21,
   "metadata": {},
   "outputs": [
    {
     "data": {
      "text/html": [
       "<div>\n",
       "<style scoped>\n",
       "    .dataframe tbody tr th:only-of-type {\n",
       "        vertical-align: middle;\n",
       "    }\n",
       "\n",
       "    .dataframe tbody tr th {\n",
       "        vertical-align: top;\n",
       "    }\n",
       "\n",
       "    .dataframe thead th {\n",
       "        text-align: right;\n",
       "    }\n",
       "</style>\n",
       "<table border=\"1\" class=\"dataframe\">\n",
       "  <thead>\n",
       "    <tr style=\"text-align: right;\">\n",
       "      <th></th>\n",
       "      <th>Countries</th>\n",
       "      <th>F2018</th>\n",
       "      <th>F_se_2018</th>\n",
       "      <th>M2018</th>\n",
       "      <th>M_se_2018</th>\n",
       "    </tr>\n",
       "  </thead>\n",
       "  <tbody>\n",
       "    <tr>\n",
       "      <th>0</th>\n",
       "      <td>Australia</td>\n",
       "      <td>488.296647</td>\n",
       "      <td>2.462195</td>\n",
       "      <td>494.323798</td>\n",
       "      <td>2.414598</td>\n",
       "    </tr>\n",
       "    <tr>\n",
       "      <th>1</th>\n",
       "      <td>Austria</td>\n",
       "      <td>492.200906</td>\n",
       "      <td>3.84489</td>\n",
       "      <td>505.483566</td>\n",
       "      <td>3.919636</td>\n",
       "    </tr>\n",
       "    <tr>\n",
       "      <th>2</th>\n",
       "      <td>Belgium</td>\n",
       "      <td>502.04683</td>\n",
       "      <td>2.690216</td>\n",
       "      <td>514.131599</td>\n",
       "      <td>2.89944</td>\n",
       "    </tr>\n",
       "    <tr>\n",
       "      <th>3</th>\n",
       "      <td>Canada</td>\n",
       "      <td>509.546253</td>\n",
       "      <td>2.707154</td>\n",
       "      <td>514.451017</td>\n",
       "      <td>2.5266</td>\n",
       "    </tr>\n",
       "    <tr>\n",
       "      <th>4</th>\n",
       "      <td>Chile</td>\n",
       "      <td>413.626758</td>\n",
       "      <td>2.726706</td>\n",
       "      <td>421.091792</td>\n",
       "      <td>3.301876</td>\n",
       "    </tr>\n",
       "    <tr>\n",
       "      <th>...</th>\n",
       "      <td>...</td>\n",
       "      <td>...</td>\n",
       "      <td>...</td>\n",
       "      <td>...</td>\n",
       "      <td>...</td>\n",
       "    </tr>\n",
       "    <tr>\n",
       "      <th>82</th>\n",
       "      <td>Tunisia</td>\n",
       "      <td>—</td>\n",
       "      <td>†</td>\n",
       "      <td>—</td>\n",
       "      <td>†</td>\n",
       "    </tr>\n",
       "    <tr>\n",
       "      <th>83</th>\n",
       "      <td>Ukraine</td>\n",
       "      <td>449.435902</td>\n",
       "      <td>3.930776</td>\n",
       "      <td>456.431723</td>\n",
       "      <td>4.271667</td>\n",
       "    </tr>\n",
       "    <tr>\n",
       "      <th>84</th>\n",
       "      <td>United Arab Emirates</td>\n",
       "      <td>439.32027</td>\n",
       "      <td>2.779247</td>\n",
       "      <td>430.45342</td>\n",
       "      <td>2.395745</td>\n",
       "    </tr>\n",
       "    <tr>\n",
       "      <th>85</th>\n",
       "      <td>Uruguay</td>\n",
       "      <td>413.673417</td>\n",
       "      <td>2.957767</td>\n",
       "      <td>422.006063</td>\n",
       "      <td>3.277221</td>\n",
       "    </tr>\n",
       "    <tr>\n",
       "      <th>86</th>\n",
       "      <td>Viet Nam</td>\n",
       "      <td>—</td>\n",
       "      <td>†</td>\n",
       "      <td>—</td>\n",
       "      <td>†</td>\n",
       "    </tr>\n",
       "  </tbody>\n",
       "</table>\n",
       "<p>87 rows × 5 columns</p>\n",
       "</div>"
      ],
      "text/plain": [
       "               Countries       F2018 F_se_2018       M2018 M_se_2018\n",
       "0              Australia  488.296647  2.462195  494.323798  2.414598\n",
       "1                Austria  492.200906   3.84489  505.483566  3.919636\n",
       "2                Belgium   502.04683  2.690216  514.131599   2.89944\n",
       "3                 Canada  509.546253  2.707154  514.451017    2.5266\n",
       "4                  Chile  413.626758  2.726706  421.091792  3.301876\n",
       "..                   ...         ...       ...         ...       ...\n",
       "82               Tunisia           —         †           —         †\n",
       "83               Ukraine  449.435902  3.930776  456.431723  4.271667\n",
       "84  United Arab Emirates   439.32027  2.779247   430.45342  2.395745\n",
       "85               Uruguay  413.673417  2.957767  422.006063  3.277221\n",
       "86              Viet Nam           —         †           —         †\n",
       "\n",
       "[87 rows x 5 columns]"
      ]
     },
     "execution_count": 21,
     "metadata": {},
     "output_type": "execute_result"
    }
   ],
   "source": [
    "mathg2018 = pd.read_excel(\"../data_all/gender/gender2018.xls\",sheet_name='Report 2- Table',skiprows=[1,2,3,4,5,6,7,8,9,10,11,100,101,102,103,104])\n",
    "mathg2018.drop(['Unnamed: 0', 'Unnamed: 1'], axis=1, inplace=True)\n",
    "mathg2018.rename({'Unnamed: 2': 'Countries', 'Unnamed: 3': 'F2018', 'Unnamed: 4': 'F_se_2018', 'Unnamed: 5': 'M2018', 'Unnamed: 6': 'M_se_2018'}, axis=1, inplace=True)\n",
    "mathg2018 = mathg2018.drop(index=[87])\n",
    "mathg2018"
   ]
  },
  {
   "cell_type": "code",
   "execution_count": 22,
   "metadata": {},
   "outputs": [
    {
     "data": {
      "text/html": [
       "<div>\n",
       "<style scoped>\n",
       "    .dataframe tbody tr th:only-of-type {\n",
       "        vertical-align: middle;\n",
       "    }\n",
       "\n",
       "    .dataframe tbody tr th {\n",
       "        vertical-align: top;\n",
       "    }\n",
       "\n",
       "    .dataframe thead th {\n",
       "        text-align: right;\n",
       "    }\n",
       "</style>\n",
       "<table border=\"1\" class=\"dataframe\">\n",
       "  <thead>\n",
       "    <tr style=\"text-align: right;\">\n",
       "      <th></th>\n",
       "      <th>Countries</th>\n",
       "      <th>F2000</th>\n",
       "      <th>F_se_2000</th>\n",
       "      <th>M2000</th>\n",
       "      <th>M_se_2000</th>\n",
       "      <th>F2003</th>\n",
       "      <th>F_se_2003</th>\n",
       "      <th>M2003</th>\n",
       "      <th>M_se_2003</th>\n",
       "      <th>F2006</th>\n",
       "      <th>...</th>\n",
       "      <th>M2012</th>\n",
       "      <th>M_se_2012</th>\n",
       "      <th>F2015</th>\n",
       "      <th>F_se_2015</th>\n",
       "      <th>M2015</th>\n",
       "      <th>M_se_2015</th>\n",
       "      <th>F2018</th>\n",
       "      <th>F_se_2018</th>\n",
       "      <th>M2018</th>\n",
       "      <th>M_se_2018</th>\n",
       "    </tr>\n",
       "  </thead>\n",
       "  <tbody>\n",
       "    <tr>\n",
       "      <th>0</th>\n",
       "      <td>Australia</td>\n",
       "      <td>—</td>\n",
       "      <td>†</td>\n",
       "      <td>—</td>\n",
       "      <td>†</td>\n",
       "      <td>521.550185</td>\n",
       "      <td>2.692823</td>\n",
       "      <td>526.892627</td>\n",
       "      <td>3.005998</td>\n",
       "      <td>512.532446</td>\n",
       "      <td>...</td>\n",
       "      <td>510.114851</td>\n",
       "      <td>2.40536</td>\n",
       "      <td>490.985501</td>\n",
       "      <td>2.482435</td>\n",
       "      <td>496.761345</td>\n",
       "      <td>2.147523</td>\n",
       "      <td>488.296647</td>\n",
       "      <td>2.462195</td>\n",
       "      <td>494.323798</td>\n",
       "      <td>2.414598</td>\n",
       "    </tr>\n",
       "    <tr>\n",
       "      <th>1</th>\n",
       "      <td>Austria</td>\n",
       "      <td>—</td>\n",
       "      <td>†</td>\n",
       "      <td>—</td>\n",
       "      <td>†</td>\n",
       "      <td>501.816064</td>\n",
       "      <td>3.960884</td>\n",
       "      <td>509.390083</td>\n",
       "      <td>3.950726</td>\n",
       "      <td>493.962184</td>\n",
       "      <td>...</td>\n",
       "      <td>516.681834</td>\n",
       "      <td>3.860736</td>\n",
       "      <td>483.133026</td>\n",
       "      <td>3.58192</td>\n",
       "      <td>510.098216</td>\n",
       "      <td>3.810942</td>\n",
       "      <td>492.200906</td>\n",
       "      <td>3.84489</td>\n",
       "      <td>505.483566</td>\n",
       "      <td>3.919636</td>\n",
       "    </tr>\n",
       "    <tr>\n",
       "      <th>2</th>\n",
       "      <td>Belgium</td>\n",
       "      <td>—</td>\n",
       "      <td>†</td>\n",
       "      <td>—</td>\n",
       "      <td>†</td>\n",
       "      <td>525.370177</td>\n",
       "      <td>3.234103</td>\n",
       "      <td>532.881507</td>\n",
       "      <td>3.395852</td>\n",
       "      <td>516.705868</td>\n",
       "      <td>...</td>\n",
       "      <td>520.081208</td>\n",
       "      <td>2.888659</td>\n",
       "      <td>499.739022</td>\n",
       "      <td>2.760838</td>\n",
       "      <td>514.002571</td>\n",
       "      <td>3.058726</td>\n",
       "      <td>502.04683</td>\n",
       "      <td>2.690216</td>\n",
       "      <td>514.131599</td>\n",
       "      <td>2.89944</td>\n",
       "    </tr>\n",
       "    <tr>\n",
       "      <th>3</th>\n",
       "      <td>Canada</td>\n",
       "      <td>—</td>\n",
       "      <td>†</td>\n",
       "      <td>—</td>\n",
       "      <td>†</td>\n",
       "      <td>529.602413</td>\n",
       "      <td>1.876195</td>\n",
       "      <td>540.774234</td>\n",
       "      <td>2.053585</td>\n",
       "      <td>519.862643</td>\n",
       "      <td>...</td>\n",
       "      <td>523.14027</td>\n",
       "      <td>2.142494</td>\n",
       "      <td>511.141726</td>\n",
       "      <td>2.567898</td>\n",
       "      <td>520.166125</td>\n",
       "      <td>2.851925</td>\n",
       "      <td>509.546253</td>\n",
       "      <td>2.707154</td>\n",
       "      <td>514.451017</td>\n",
       "      <td>2.5266</td>\n",
       "    </tr>\n",
       "    <tr>\n",
       "      <th>4</th>\n",
       "      <td>Chile</td>\n",
       "      <td>—</td>\n",
       "      <td>†</td>\n",
       "      <td>—</td>\n",
       "      <td>†</td>\n",
       "      <td>—</td>\n",
       "      <td>†</td>\n",
       "      <td>—</td>\n",
       "      <td>†</td>\n",
       "      <td>396.284317</td>\n",
       "      <td>...</td>\n",
       "      <td>435.524618</td>\n",
       "      <td>3.821439</td>\n",
       "      <td>413.448981</td>\n",
       "      <td>3.048182</td>\n",
       "      <td>431.798087</td>\n",
       "      <td>3.118422</td>\n",
       "      <td>413.626758</td>\n",
       "      <td>2.726706</td>\n",
       "      <td>421.091792</td>\n",
       "      <td>3.301876</td>\n",
       "    </tr>\n",
       "    <tr>\n",
       "      <th>...</th>\n",
       "      <td>...</td>\n",
       "      <td>...</td>\n",
       "      <td>...</td>\n",
       "      <td>...</td>\n",
       "      <td>...</td>\n",
       "      <td>...</td>\n",
       "      <td>...</td>\n",
       "      <td>...</td>\n",
       "      <td>...</td>\n",
       "      <td>...</td>\n",
       "      <td>...</td>\n",
       "      <td>...</td>\n",
       "      <td>...</td>\n",
       "      <td>...</td>\n",
       "      <td>...</td>\n",
       "      <td>...</td>\n",
       "      <td>...</td>\n",
       "      <td>...</td>\n",
       "      <td>...</td>\n",
       "      <td>...</td>\n",
       "      <td>...</td>\n",
       "    </tr>\n",
       "    <tr>\n",
       "      <th>82</th>\n",
       "      <td>Tunisia</td>\n",
       "      <td>—</td>\n",
       "      <td>†</td>\n",
       "      <td>—</td>\n",
       "      <td>†</td>\n",
       "      <td>352.738625</td>\n",
       "      <td>2.93302</td>\n",
       "      <td>364.906171</td>\n",
       "      <td>2.738625</td>\n",
       "      <td>358.164081</td>\n",
       "      <td>...</td>\n",
       "      <td>395.946963</td>\n",
       "      <td>4.318517</td>\n",
       "      <td>363.999629</td>\n",
       "      <td>3.233798</td>\n",
       "      <td>370.081434</td>\n",
       "      <td>3.425183</td>\n",
       "      <td>—</td>\n",
       "      <td>†</td>\n",
       "      <td>—</td>\n",
       "      <td>†</td>\n",
       "    </tr>\n",
       "    <tr>\n",
       "      <th>83</th>\n",
       "      <td>Ukraine</td>\n",
       "      <td>—</td>\n",
       "      <td>†</td>\n",
       "      <td>—</td>\n",
       "      <td>†</td>\n",
       "      <td>—</td>\n",
       "      <td>†</td>\n",
       "      <td>—</td>\n",
       "      <td>†</td>\n",
       "      <td>—</td>\n",
       "      <td>...</td>\n",
       "      <td>—</td>\n",
       "      <td>†</td>\n",
       "      <td>—</td>\n",
       "      <td>†</td>\n",
       "      <td>—</td>\n",
       "      <td>†</td>\n",
       "      <td>449.435902</td>\n",
       "      <td>3.930776</td>\n",
       "      <td>456.431723</td>\n",
       "      <td>4.271667</td>\n",
       "    </tr>\n",
       "    <tr>\n",
       "      <th>84</th>\n",
       "      <td>United Arab Emirates</td>\n",
       "      <td>—</td>\n",
       "      <td>†</td>\n",
       "      <td>—</td>\n",
       "      <td>†</td>\n",
       "      <td>—</td>\n",
       "      <td>†</td>\n",
       "      <td>—</td>\n",
       "      <td>†</td>\n",
       "      <td>—</td>\n",
       "      <td>...</td>\n",
       "      <td>431.512913</td>\n",
       "      <td>3.778884</td>\n",
       "      <td>430.702034</td>\n",
       "      <td>2.897496</td>\n",
       "      <td>424.173386</td>\n",
       "      <td>3.864973</td>\n",
       "      <td>439.32027</td>\n",
       "      <td>2.779247</td>\n",
       "      <td>430.45342</td>\n",
       "      <td>2.395745</td>\n",
       "    </tr>\n",
       "    <tr>\n",
       "      <th>85</th>\n",
       "      <td>Uruguay</td>\n",
       "      <td>—</td>\n",
       "      <td>†</td>\n",
       "      <td>—</td>\n",
       "      <td>†</td>\n",
       "      <td>416.302519</td>\n",
       "      <td>3.839767</td>\n",
       "      <td>428.39155</td>\n",
       "      <td>3.951547</td>\n",
       "      <td>420.486505</td>\n",
       "      <td>...</td>\n",
       "      <td>415.353234</td>\n",
       "      <td>3.494126</td>\n",
       "      <td>411.50236</td>\n",
       "      <td>2.453651</td>\n",
       "      <td>425.137938</td>\n",
       "      <td>3.59334</td>\n",
       "      <td>413.673417</td>\n",
       "      <td>2.957767</td>\n",
       "      <td>422.006063</td>\n",
       "      <td>3.277221</td>\n",
       "    </tr>\n",
       "    <tr>\n",
       "      <th>86</th>\n",
       "      <td>Viet Nam</td>\n",
       "      <td>—</td>\n",
       "      <td>†</td>\n",
       "      <td>—</td>\n",
       "      <td>†</td>\n",
       "      <td>—</td>\n",
       "      <td>†</td>\n",
       "      <td>—</td>\n",
       "      <td>†</td>\n",
       "      <td>—</td>\n",
       "      <td>...</td>\n",
       "      <td>516.638996</td>\n",
       "      <td>5.569245</td>\n",
       "      <td>496.005946</td>\n",
       "      <td>4.842565</td>\n",
       "      <td>492.959137</td>\n",
       "      <td>4.663917</td>\n",
       "      <td>—</td>\n",
       "      <td>†</td>\n",
       "      <td>—</td>\n",
       "      <td>†</td>\n",
       "    </tr>\n",
       "  </tbody>\n",
       "</table>\n",
       "<p>87 rows × 29 columns</p>\n",
       "</div>"
      ],
      "text/plain": [
       "               Countries F2000 F_se_2000 M2000 M_se_2000       F2003  \\\n",
       "0              Australia     —         †     —         †  521.550185   \n",
       "1                Austria     —         †     —         †  501.816064   \n",
       "2                Belgium     —         †     —         †  525.370177   \n",
       "3                 Canada     —         †     —         †  529.602413   \n",
       "4                  Chile     —         †     —         †           —   \n",
       "..                   ...   ...       ...   ...       ...         ...   \n",
       "82               Tunisia     —         †     —         †  352.738625   \n",
       "83               Ukraine     —         †     —         †           —   \n",
       "84  United Arab Emirates     —         †     —         †           —   \n",
       "85               Uruguay     —         †     —         †  416.302519   \n",
       "86              Viet Nam     —         †     —         †           —   \n",
       "\n",
       "   F_se_2003       M2003 M_se_2003       F2006  ...       M2012 M_se_2012  \\\n",
       "0   2.692823  526.892627  3.005998  512.532446  ...  510.114851   2.40536   \n",
       "1   3.960884  509.390083  3.950726  493.962184  ...  516.681834  3.860736   \n",
       "2   3.234103  532.881507  3.395852  516.705868  ...  520.081208  2.888659   \n",
       "3   1.876195  540.774234  2.053585  519.862643  ...   523.14027  2.142494   \n",
       "4          †           —         †  396.284317  ...  435.524618  3.821439   \n",
       "..       ...         ...       ...         ...  ...         ...       ...   \n",
       "82   2.93302  364.906171  2.738625  358.164081  ...  395.946963  4.318517   \n",
       "83         †           —         †           —  ...           —         †   \n",
       "84         †           —         †           —  ...  431.512913  3.778884   \n",
       "85  3.839767   428.39155  3.951547  420.486505  ...  415.353234  3.494126   \n",
       "86         †           —         †           —  ...  516.638996  5.569245   \n",
       "\n",
       "         F2015 F_se_2015       M2015 M_se_2015       F2018 F_se_2018  \\\n",
       "0   490.985501  2.482435  496.761345  2.147523  488.296647  2.462195   \n",
       "1   483.133026   3.58192  510.098216  3.810942  492.200906   3.84489   \n",
       "2   499.739022  2.760838  514.002571  3.058726   502.04683  2.690216   \n",
       "3   511.141726  2.567898  520.166125  2.851925  509.546253  2.707154   \n",
       "4   413.448981  3.048182  431.798087  3.118422  413.626758  2.726706   \n",
       "..         ...       ...         ...       ...         ...       ...   \n",
       "82  363.999629  3.233798  370.081434  3.425183           —         †   \n",
       "83           —         †           —         †  449.435902  3.930776   \n",
       "84  430.702034  2.897496  424.173386  3.864973   439.32027  2.779247   \n",
       "85   411.50236  2.453651  425.137938   3.59334  413.673417  2.957767   \n",
       "86  496.005946  4.842565  492.959137  4.663917           —         †   \n",
       "\n",
       "         M2018 M_se_2018  \n",
       "0   494.323798  2.414598  \n",
       "1   505.483566  3.919636  \n",
       "2   514.131599   2.89944  \n",
       "3   514.451017    2.5266  \n",
       "4   421.091792  3.301876  \n",
       "..         ...       ...  \n",
       "82           —         †  \n",
       "83  456.431723  4.271667  \n",
       "84   430.45342  2.395745  \n",
       "85  422.006063  3.277221  \n",
       "86           —         †  \n",
       "\n",
       "[87 rows x 29 columns]"
      ]
     },
     "execution_count": 22,
     "metadata": {},
     "output_type": "execute_result"
    }
   ],
   "source": [
    "mathg = pd.merge(pd.merge(pd.merge(pd.merge(pd.merge(pd.merge(mathg2000,mathg2003,on='Countries'), mathg2006, on='Countries'), mathg2009, on='Countries'), mathg2012, on='Countries'), mathg2015, on='Countries'), mathg2018, on='Countries')\n",
    "mathg"
   ]
  },
  {
   "cell_type": "code",
   "execution_count": 23,
   "metadata": {},
   "outputs": [
    {
     "data": {
      "text/html": [
       "<div>\n",
       "<style scoped>\n",
       "    .dataframe tbody tr th:only-of-type {\n",
       "        vertical-align: middle;\n",
       "    }\n",
       "\n",
       "    .dataframe tbody tr th {\n",
       "        vertical-align: top;\n",
       "    }\n",
       "\n",
       "    .dataframe thead th {\n",
       "        text-align: right;\n",
       "    }\n",
       "</style>\n",
       "<table border=\"1\" class=\"dataframe\">\n",
       "  <thead>\n",
       "    <tr style=\"text-align: right;\">\n",
       "      <th></th>\n",
       "      <th>Countries</th>\n",
       "      <th>F2000</th>\n",
       "      <th>F_se_2000</th>\n",
       "      <th>M2000</th>\n",
       "      <th>M_se_2000</th>\n",
       "      <th>F2003</th>\n",
       "      <th>F_se_2003</th>\n",
       "      <th>M2003</th>\n",
       "      <th>M_se_2003</th>\n",
       "      <th>F2006</th>\n",
       "      <th>...</th>\n",
       "      <th>M2012</th>\n",
       "      <th>M_se_2012</th>\n",
       "      <th>F2015</th>\n",
       "      <th>F_se_2015</th>\n",
       "      <th>M2015</th>\n",
       "      <th>M_se_2015</th>\n",
       "      <th>F2018</th>\n",
       "      <th>F_se_2018</th>\n",
       "      <th>M2018</th>\n",
       "      <th>M_se_2018</th>\n",
       "    </tr>\n",
       "  </thead>\n",
       "  <tbody>\n",
       "    <tr>\n",
       "      <th>0</th>\n",
       "      <td>Australia</td>\n",
       "      <td>NaN</td>\n",
       "      <td>NaN</td>\n",
       "      <td>NaN</td>\n",
       "      <td>NaN</td>\n",
       "      <td>521.550185</td>\n",
       "      <td>2.692823</td>\n",
       "      <td>526.892627</td>\n",
       "      <td>3.005998</td>\n",
       "      <td>512.532446</td>\n",
       "      <td>...</td>\n",
       "      <td>510.114851</td>\n",
       "      <td>2.405360</td>\n",
       "      <td>490.985501</td>\n",
       "      <td>2.482435</td>\n",
       "      <td>496.761345</td>\n",
       "      <td>2.147523</td>\n",
       "      <td>488.296647</td>\n",
       "      <td>2.462195</td>\n",
       "      <td>494.323798</td>\n",
       "      <td>2.414598</td>\n",
       "    </tr>\n",
       "    <tr>\n",
       "      <th>1</th>\n",
       "      <td>Austria</td>\n",
       "      <td>NaN</td>\n",
       "      <td>NaN</td>\n",
       "      <td>NaN</td>\n",
       "      <td>NaN</td>\n",
       "      <td>501.816064</td>\n",
       "      <td>3.960884</td>\n",
       "      <td>509.390083</td>\n",
       "      <td>3.950726</td>\n",
       "      <td>493.962184</td>\n",
       "      <td>...</td>\n",
       "      <td>516.681834</td>\n",
       "      <td>3.860736</td>\n",
       "      <td>483.133026</td>\n",
       "      <td>3.581920</td>\n",
       "      <td>510.098216</td>\n",
       "      <td>3.810942</td>\n",
       "      <td>492.200906</td>\n",
       "      <td>3.844890</td>\n",
       "      <td>505.483566</td>\n",
       "      <td>3.919636</td>\n",
       "    </tr>\n",
       "    <tr>\n",
       "      <th>2</th>\n",
       "      <td>Belgium</td>\n",
       "      <td>NaN</td>\n",
       "      <td>NaN</td>\n",
       "      <td>NaN</td>\n",
       "      <td>NaN</td>\n",
       "      <td>525.370177</td>\n",
       "      <td>3.234103</td>\n",
       "      <td>532.881507</td>\n",
       "      <td>3.395852</td>\n",
       "      <td>516.705868</td>\n",
       "      <td>...</td>\n",
       "      <td>520.081208</td>\n",
       "      <td>2.888659</td>\n",
       "      <td>499.739022</td>\n",
       "      <td>2.760838</td>\n",
       "      <td>514.002571</td>\n",
       "      <td>3.058726</td>\n",
       "      <td>502.046830</td>\n",
       "      <td>2.690216</td>\n",
       "      <td>514.131599</td>\n",
       "      <td>2.899440</td>\n",
       "    </tr>\n",
       "    <tr>\n",
       "      <th>3</th>\n",
       "      <td>Canada</td>\n",
       "      <td>NaN</td>\n",
       "      <td>NaN</td>\n",
       "      <td>NaN</td>\n",
       "      <td>NaN</td>\n",
       "      <td>529.602413</td>\n",
       "      <td>1.876195</td>\n",
       "      <td>540.774234</td>\n",
       "      <td>2.053585</td>\n",
       "      <td>519.862643</td>\n",
       "      <td>...</td>\n",
       "      <td>523.140270</td>\n",
       "      <td>2.142494</td>\n",
       "      <td>511.141726</td>\n",
       "      <td>2.567898</td>\n",
       "      <td>520.166125</td>\n",
       "      <td>2.851925</td>\n",
       "      <td>509.546253</td>\n",
       "      <td>2.707154</td>\n",
       "      <td>514.451017</td>\n",
       "      <td>2.526600</td>\n",
       "    </tr>\n",
       "    <tr>\n",
       "      <th>4</th>\n",
       "      <td>Chile</td>\n",
       "      <td>NaN</td>\n",
       "      <td>NaN</td>\n",
       "      <td>NaN</td>\n",
       "      <td>NaN</td>\n",
       "      <td>NaN</td>\n",
       "      <td>NaN</td>\n",
       "      <td>NaN</td>\n",
       "      <td>NaN</td>\n",
       "      <td>396.284317</td>\n",
       "      <td>...</td>\n",
       "      <td>435.524618</td>\n",
       "      <td>3.821439</td>\n",
       "      <td>413.448981</td>\n",
       "      <td>3.048182</td>\n",
       "      <td>431.798087</td>\n",
       "      <td>3.118422</td>\n",
       "      <td>413.626758</td>\n",
       "      <td>2.726706</td>\n",
       "      <td>421.091792</td>\n",
       "      <td>3.301876</td>\n",
       "    </tr>\n",
       "    <tr>\n",
       "      <th>...</th>\n",
       "      <td>...</td>\n",
       "      <td>...</td>\n",
       "      <td>...</td>\n",
       "      <td>...</td>\n",
       "      <td>...</td>\n",
       "      <td>...</td>\n",
       "      <td>...</td>\n",
       "      <td>...</td>\n",
       "      <td>...</td>\n",
       "      <td>...</td>\n",
       "      <td>...</td>\n",
       "      <td>...</td>\n",
       "      <td>...</td>\n",
       "      <td>...</td>\n",
       "      <td>...</td>\n",
       "      <td>...</td>\n",
       "      <td>...</td>\n",
       "      <td>...</td>\n",
       "      <td>...</td>\n",
       "      <td>...</td>\n",
       "      <td>...</td>\n",
       "    </tr>\n",
       "    <tr>\n",
       "      <th>82</th>\n",
       "      <td>Tunisia</td>\n",
       "      <td>NaN</td>\n",
       "      <td>NaN</td>\n",
       "      <td>NaN</td>\n",
       "      <td>NaN</td>\n",
       "      <td>352.738625</td>\n",
       "      <td>2.933020</td>\n",
       "      <td>364.906171</td>\n",
       "      <td>2.738625</td>\n",
       "      <td>358.164081</td>\n",
       "      <td>...</td>\n",
       "      <td>395.946963</td>\n",
       "      <td>4.318517</td>\n",
       "      <td>363.999629</td>\n",
       "      <td>3.233798</td>\n",
       "      <td>370.081434</td>\n",
       "      <td>3.425183</td>\n",
       "      <td>NaN</td>\n",
       "      <td>NaN</td>\n",
       "      <td>NaN</td>\n",
       "      <td>NaN</td>\n",
       "    </tr>\n",
       "    <tr>\n",
       "      <th>83</th>\n",
       "      <td>Ukraine</td>\n",
       "      <td>NaN</td>\n",
       "      <td>NaN</td>\n",
       "      <td>NaN</td>\n",
       "      <td>NaN</td>\n",
       "      <td>NaN</td>\n",
       "      <td>NaN</td>\n",
       "      <td>NaN</td>\n",
       "      <td>NaN</td>\n",
       "      <td>NaN</td>\n",
       "      <td>...</td>\n",
       "      <td>NaN</td>\n",
       "      <td>NaN</td>\n",
       "      <td>NaN</td>\n",
       "      <td>NaN</td>\n",
       "      <td>NaN</td>\n",
       "      <td>NaN</td>\n",
       "      <td>449.435902</td>\n",
       "      <td>3.930776</td>\n",
       "      <td>456.431723</td>\n",
       "      <td>4.271667</td>\n",
       "    </tr>\n",
       "    <tr>\n",
       "      <th>84</th>\n",
       "      <td>United Arab Emirates</td>\n",
       "      <td>NaN</td>\n",
       "      <td>NaN</td>\n",
       "      <td>NaN</td>\n",
       "      <td>NaN</td>\n",
       "      <td>NaN</td>\n",
       "      <td>NaN</td>\n",
       "      <td>NaN</td>\n",
       "      <td>NaN</td>\n",
       "      <td>NaN</td>\n",
       "      <td>...</td>\n",
       "      <td>431.512913</td>\n",
       "      <td>3.778884</td>\n",
       "      <td>430.702034</td>\n",
       "      <td>2.897496</td>\n",
       "      <td>424.173386</td>\n",
       "      <td>3.864973</td>\n",
       "      <td>439.320270</td>\n",
       "      <td>2.779247</td>\n",
       "      <td>430.453420</td>\n",
       "      <td>2.395745</td>\n",
       "    </tr>\n",
       "    <tr>\n",
       "      <th>85</th>\n",
       "      <td>Uruguay</td>\n",
       "      <td>NaN</td>\n",
       "      <td>NaN</td>\n",
       "      <td>NaN</td>\n",
       "      <td>NaN</td>\n",
       "      <td>416.302519</td>\n",
       "      <td>3.839767</td>\n",
       "      <td>428.391550</td>\n",
       "      <td>3.951547</td>\n",
       "      <td>420.486505</td>\n",
       "      <td>...</td>\n",
       "      <td>415.353234</td>\n",
       "      <td>3.494126</td>\n",
       "      <td>411.502360</td>\n",
       "      <td>2.453651</td>\n",
       "      <td>425.137938</td>\n",
       "      <td>3.593340</td>\n",
       "      <td>413.673417</td>\n",
       "      <td>2.957767</td>\n",
       "      <td>422.006063</td>\n",
       "      <td>3.277221</td>\n",
       "    </tr>\n",
       "    <tr>\n",
       "      <th>86</th>\n",
       "      <td>Viet Nam</td>\n",
       "      <td>NaN</td>\n",
       "      <td>NaN</td>\n",
       "      <td>NaN</td>\n",
       "      <td>NaN</td>\n",
       "      <td>NaN</td>\n",
       "      <td>NaN</td>\n",
       "      <td>NaN</td>\n",
       "      <td>NaN</td>\n",
       "      <td>NaN</td>\n",
       "      <td>...</td>\n",
       "      <td>516.638996</td>\n",
       "      <td>5.569245</td>\n",
       "      <td>496.005946</td>\n",
       "      <td>4.842565</td>\n",
       "      <td>492.959137</td>\n",
       "      <td>4.663917</td>\n",
       "      <td>NaN</td>\n",
       "      <td>NaN</td>\n",
       "      <td>NaN</td>\n",
       "      <td>NaN</td>\n",
       "    </tr>\n",
       "  </tbody>\n",
       "</table>\n",
       "<p>87 rows × 29 columns</p>\n",
       "</div>"
      ],
      "text/plain": [
       "               Countries  F2000  F_se_2000  M2000  M_se_2000       F2003  \\\n",
       "0              Australia    NaN        NaN    NaN        NaN  521.550185   \n",
       "1                Austria    NaN        NaN    NaN        NaN  501.816064   \n",
       "2                Belgium    NaN        NaN    NaN        NaN  525.370177   \n",
       "3                 Canada    NaN        NaN    NaN        NaN  529.602413   \n",
       "4                  Chile    NaN        NaN    NaN        NaN         NaN   \n",
       "..                   ...    ...        ...    ...        ...         ...   \n",
       "82               Tunisia    NaN        NaN    NaN        NaN  352.738625   \n",
       "83               Ukraine    NaN        NaN    NaN        NaN         NaN   \n",
       "84  United Arab Emirates    NaN        NaN    NaN        NaN         NaN   \n",
       "85               Uruguay    NaN        NaN    NaN        NaN  416.302519   \n",
       "86              Viet Nam    NaN        NaN    NaN        NaN         NaN   \n",
       "\n",
       "    F_se_2003       M2003  M_se_2003       F2006  ...       M2012  M_se_2012  \\\n",
       "0    2.692823  526.892627   3.005998  512.532446  ...  510.114851   2.405360   \n",
       "1    3.960884  509.390083   3.950726  493.962184  ...  516.681834   3.860736   \n",
       "2    3.234103  532.881507   3.395852  516.705868  ...  520.081208   2.888659   \n",
       "3    1.876195  540.774234   2.053585  519.862643  ...  523.140270   2.142494   \n",
       "4         NaN         NaN        NaN  396.284317  ...  435.524618   3.821439   \n",
       "..        ...         ...        ...         ...  ...         ...        ...   \n",
       "82   2.933020  364.906171   2.738625  358.164081  ...  395.946963   4.318517   \n",
       "83        NaN         NaN        NaN         NaN  ...         NaN        NaN   \n",
       "84        NaN         NaN        NaN         NaN  ...  431.512913   3.778884   \n",
       "85   3.839767  428.391550   3.951547  420.486505  ...  415.353234   3.494126   \n",
       "86        NaN         NaN        NaN         NaN  ...  516.638996   5.569245   \n",
       "\n",
       "         F2015  F_se_2015       M2015  M_se_2015       F2018  F_se_2018  \\\n",
       "0   490.985501   2.482435  496.761345   2.147523  488.296647   2.462195   \n",
       "1   483.133026   3.581920  510.098216   3.810942  492.200906   3.844890   \n",
       "2   499.739022   2.760838  514.002571   3.058726  502.046830   2.690216   \n",
       "3   511.141726   2.567898  520.166125   2.851925  509.546253   2.707154   \n",
       "4   413.448981   3.048182  431.798087   3.118422  413.626758   2.726706   \n",
       "..         ...        ...         ...        ...         ...        ...   \n",
       "82  363.999629   3.233798  370.081434   3.425183         NaN        NaN   \n",
       "83         NaN        NaN         NaN        NaN  449.435902   3.930776   \n",
       "84  430.702034   2.897496  424.173386   3.864973  439.320270   2.779247   \n",
       "85  411.502360   2.453651  425.137938   3.593340  413.673417   2.957767   \n",
       "86  496.005946   4.842565  492.959137   4.663917         NaN        NaN   \n",
       "\n",
       "         M2018  M_se_2018  \n",
       "0   494.323798   2.414598  \n",
       "1   505.483566   3.919636  \n",
       "2   514.131599   2.899440  \n",
       "3   514.451017   2.526600  \n",
       "4   421.091792   3.301876  \n",
       "..         ...        ...  \n",
       "82         NaN        NaN  \n",
       "83  456.431723   4.271667  \n",
       "84  430.453420   2.395745  \n",
       "85  422.006063   3.277221  \n",
       "86         NaN        NaN  \n",
       "\n",
       "[87 rows x 29 columns]"
      ]
     },
     "execution_count": 23,
     "metadata": {},
     "output_type": "execute_result"
    }
   ],
   "source": [
    "mathg = mathg.replace('—',np.nan,regex = True)\n",
    "mathg = mathg.replace('†',np.nan,regex = True)\n",
    "mathg = mathg.replace('‡',np.nan,regex = True)\n",
    "mathg"
   ]
  },
  {
   "cell_type": "code",
   "execution_count": 24,
   "metadata": {},
   "outputs": [],
   "source": [
    "math_F = mathg[[\"Countries\",\"F2000\", \"F2003\",\"F2006\",\"F2009\",\"F2012\",\"F2015\",\"F2018\"]]\n",
    "math_M = mathg[[\"Countries\",\"M2000\", \"M2003\",\"M2006\",\"M2009\",\"M2012\",\"M2015\",\"M2018\"]]"
   ]
  },
  {
   "cell_type": "code",
   "execution_count": 25,
   "metadata": {},
   "outputs": [
    {
     "name": "stderr",
     "output_type": "stream",
     "text": [
      "/var/folders/hv/08dyyt957zq3n_n6kttfl_180000gn/T/ipykernel_28310/2089878172.py:1: SettingWithCopyWarning: \n",
      "A value is trying to be set on a copy of a slice from a DataFrame\n",
      "\n",
      "See the caveats in the documentation: https://pandas.pydata.org/pandas-docs/stable/user_guide/indexing.html#returning-a-view-versus-a-copy\n",
      "  math_F.rename({'F2000': '2000', 'F2003': '2003', 'F2006': '2006', 'F2009': '2009', 'F2012': '2012','F2015': '2015','F2018': '2018'}, axis=1, inplace=True)\n",
      "/var/folders/hv/08dyyt957zq3n_n6kttfl_180000gn/T/ipykernel_28310/2089878172.py:2: SettingWithCopyWarning: \n",
      "A value is trying to be set on a copy of a slice from a DataFrame\n",
      "\n",
      "See the caveats in the documentation: https://pandas.pydata.org/pandas-docs/stable/user_guide/indexing.html#returning-a-view-versus-a-copy\n",
      "  math_M.rename({'M2000': '2000', 'M2003': '2003', 'M2006': '2006', 'M2009': '2009', 'M2012': '2012','M2015': '2015','M2018': '2018'}, axis=1, inplace=True)\n"
     ]
    }
   ],
   "source": [
    "math_F.rename({'F2000': '2000', 'F2003': '2003', 'F2006': '2006', 'F2009': '2009', 'F2012': '2012','F2015': '2015','F2018': '2018'}, axis=1, inplace=True)\n",
    "math_M.rename({'M2000': '2000', 'M2003': '2003', 'M2006': '2006', 'M2009': '2009', 'M2012': '2012','M2015': '2015','M2018': '2018'}, axis=1, inplace=True)"
   ]
  },
  {
   "cell_type": "code",
   "execution_count": 26,
   "metadata": {},
   "outputs": [
    {
     "data": {
      "text/html": [
       "<div>\n",
       "<style scoped>\n",
       "    .dataframe tbody tr th:only-of-type {\n",
       "        vertical-align: middle;\n",
       "    }\n",
       "\n",
       "    .dataframe tbody tr th {\n",
       "        vertical-align: top;\n",
       "    }\n",
       "\n",
       "    .dataframe thead th {\n",
       "        text-align: right;\n",
       "    }\n",
       "</style>\n",
       "<table border=\"1\" class=\"dataframe\">\n",
       "  <thead>\n",
       "    <tr style=\"text-align: right;\">\n",
       "      <th></th>\n",
       "      <th>Countries</th>\n",
       "      <th>F2000</th>\n",
       "      <th>F_se_2000</th>\n",
       "      <th>M2000</th>\n",
       "      <th>M_se_2000</th>\n",
       "    </tr>\n",
       "  </thead>\n",
       "  <tbody>\n",
       "    <tr>\n",
       "      <th>0</th>\n",
       "      <td>Australia</td>\n",
       "      <td>—</td>\n",
       "      <td>†</td>\n",
       "      <td>—</td>\n",
       "      <td>†</td>\n",
       "    </tr>\n",
       "    <tr>\n",
       "      <th>1</th>\n",
       "      <td>Austria</td>\n",
       "      <td>—</td>\n",
       "      <td>†</td>\n",
       "      <td>—</td>\n",
       "      <td>†</td>\n",
       "    </tr>\n",
       "    <tr>\n",
       "      <th>2</th>\n",
       "      <td>Belgium</td>\n",
       "      <td>—</td>\n",
       "      <td>†</td>\n",
       "      <td>—</td>\n",
       "      <td>†</td>\n",
       "    </tr>\n",
       "    <tr>\n",
       "      <th>3</th>\n",
       "      <td>Canada</td>\n",
       "      <td>—</td>\n",
       "      <td>†</td>\n",
       "      <td>—</td>\n",
       "      <td>†</td>\n",
       "    </tr>\n",
       "    <tr>\n",
       "      <th>4</th>\n",
       "      <td>Chile</td>\n",
       "      <td>—</td>\n",
       "      <td>†</td>\n",
       "      <td>—</td>\n",
       "      <td>†</td>\n",
       "    </tr>\n",
       "    <tr>\n",
       "      <th>...</th>\n",
       "      <td>...</td>\n",
       "      <td>...</td>\n",
       "      <td>...</td>\n",
       "      <td>...</td>\n",
       "      <td>...</td>\n",
       "    </tr>\n",
       "    <tr>\n",
       "      <th>82</th>\n",
       "      <td>Tunisia</td>\n",
       "      <td>—</td>\n",
       "      <td>†</td>\n",
       "      <td>—</td>\n",
       "      <td>†</td>\n",
       "    </tr>\n",
       "    <tr>\n",
       "      <th>83</th>\n",
       "      <td>Ukraine</td>\n",
       "      <td>—</td>\n",
       "      <td>†</td>\n",
       "      <td>—</td>\n",
       "      <td>†</td>\n",
       "    </tr>\n",
       "    <tr>\n",
       "      <th>84</th>\n",
       "      <td>United Arab Emirates</td>\n",
       "      <td>—</td>\n",
       "      <td>†</td>\n",
       "      <td>—</td>\n",
       "      <td>†</td>\n",
       "    </tr>\n",
       "    <tr>\n",
       "      <th>85</th>\n",
       "      <td>Uruguay</td>\n",
       "      <td>—</td>\n",
       "      <td>†</td>\n",
       "      <td>—</td>\n",
       "      <td>†</td>\n",
       "    </tr>\n",
       "    <tr>\n",
       "      <th>86</th>\n",
       "      <td>Viet Nam</td>\n",
       "      <td>—</td>\n",
       "      <td>†</td>\n",
       "      <td>—</td>\n",
       "      <td>†</td>\n",
       "    </tr>\n",
       "  </tbody>\n",
       "</table>\n",
       "<p>87 rows × 5 columns</p>\n",
       "</div>"
      ],
      "text/plain": [
       "               Countries F2000 F_se_2000 M2000 M_se_2000\n",
       "0              Australia     —         †     —         †\n",
       "1                Austria     —         †     —         †\n",
       "2                Belgium     —         †     —         †\n",
       "3                 Canada     —         †     —         †\n",
       "4                  Chile     —         †     —         †\n",
       "..                   ...   ...       ...   ...       ...\n",
       "82               Tunisia     —         †     —         †\n",
       "83               Ukraine     —         †     —         †\n",
       "84  United Arab Emirates     —         †     —         †\n",
       "85               Uruguay     —         †     —         †\n",
       "86              Viet Nam     —         †     —         †\n",
       "\n",
       "[87 rows x 5 columns]"
      ]
     },
     "execution_count": 26,
     "metadata": {},
     "output_type": "execute_result"
    }
   ],
   "source": [
    "scig2000 = pd.read_excel(\"../data_all/gender/gender2000.xls\",sheet_name='Report 3- Table',skiprows=[1,2,3,4,5,6,7,8,9,10,11,100,101,102,103,104])\n",
    "scig2000.drop(['Unnamed: 0', 'Unnamed: 1'], axis=1, inplace=True)\n",
    "scig2000.rename({'Unnamed: 2': 'Countries', 'Unnamed: 3': 'F2000', 'Unnamed: 4': 'F_se_2000', 'Unnamed: 5': 'M2000', 'Unnamed: 6': 'M_se_2000'}, axis=1, inplace=True)\n",
    "scig2000 = scig2000.drop(index=[87])\n",
    "scig2000"
   ]
  },
  {
   "cell_type": "code",
   "execution_count": 27,
   "metadata": {},
   "outputs": [
    {
     "data": {
      "text/html": [
       "<div>\n",
       "<style scoped>\n",
       "    .dataframe tbody tr th:only-of-type {\n",
       "        vertical-align: middle;\n",
       "    }\n",
       "\n",
       "    .dataframe tbody tr th {\n",
       "        vertical-align: top;\n",
       "    }\n",
       "\n",
       "    .dataframe thead th {\n",
       "        text-align: right;\n",
       "    }\n",
       "</style>\n",
       "<table border=\"1\" class=\"dataframe\">\n",
       "  <thead>\n",
       "    <tr style=\"text-align: right;\">\n",
       "      <th></th>\n",
       "      <th>Countries</th>\n",
       "      <th>F2003</th>\n",
       "      <th>F_se_2003</th>\n",
       "      <th>M2003</th>\n",
       "      <th>M_se_2003</th>\n",
       "    </tr>\n",
       "  </thead>\n",
       "  <tbody>\n",
       "    <tr>\n",
       "      <th>0</th>\n",
       "      <td>Australia</td>\n",
       "      <td>—</td>\n",
       "      <td>†</td>\n",
       "      <td>—</td>\n",
       "      <td>†</td>\n",
       "    </tr>\n",
       "    <tr>\n",
       "      <th>1</th>\n",
       "      <td>Austria</td>\n",
       "      <td>—</td>\n",
       "      <td>†</td>\n",
       "      <td>—</td>\n",
       "      <td>†</td>\n",
       "    </tr>\n",
       "    <tr>\n",
       "      <th>2</th>\n",
       "      <td>Belgium</td>\n",
       "      <td>—</td>\n",
       "      <td>†</td>\n",
       "      <td>—</td>\n",
       "      <td>†</td>\n",
       "    </tr>\n",
       "    <tr>\n",
       "      <th>3</th>\n",
       "      <td>Canada</td>\n",
       "      <td>—</td>\n",
       "      <td>†</td>\n",
       "      <td>—</td>\n",
       "      <td>†</td>\n",
       "    </tr>\n",
       "    <tr>\n",
       "      <th>4</th>\n",
       "      <td>Chile</td>\n",
       "      <td>—</td>\n",
       "      <td>†</td>\n",
       "      <td>—</td>\n",
       "      <td>†</td>\n",
       "    </tr>\n",
       "    <tr>\n",
       "      <th>...</th>\n",
       "      <td>...</td>\n",
       "      <td>...</td>\n",
       "      <td>...</td>\n",
       "      <td>...</td>\n",
       "      <td>...</td>\n",
       "    </tr>\n",
       "    <tr>\n",
       "      <th>82</th>\n",
       "      <td>Tunisia</td>\n",
       "      <td>—</td>\n",
       "      <td>†</td>\n",
       "      <td>—</td>\n",
       "      <td>†</td>\n",
       "    </tr>\n",
       "    <tr>\n",
       "      <th>83</th>\n",
       "      <td>Ukraine</td>\n",
       "      <td>—</td>\n",
       "      <td>†</td>\n",
       "      <td>—</td>\n",
       "      <td>†</td>\n",
       "    </tr>\n",
       "    <tr>\n",
       "      <th>84</th>\n",
       "      <td>United Arab Emirates</td>\n",
       "      <td>—</td>\n",
       "      <td>†</td>\n",
       "      <td>—</td>\n",
       "      <td>†</td>\n",
       "    </tr>\n",
       "    <tr>\n",
       "      <th>85</th>\n",
       "      <td>Uruguay</td>\n",
       "      <td>—</td>\n",
       "      <td>†</td>\n",
       "      <td>—</td>\n",
       "      <td>†</td>\n",
       "    </tr>\n",
       "    <tr>\n",
       "      <th>86</th>\n",
       "      <td>Viet Nam</td>\n",
       "      <td>—</td>\n",
       "      <td>†</td>\n",
       "      <td>—</td>\n",
       "      <td>†</td>\n",
       "    </tr>\n",
       "  </tbody>\n",
       "</table>\n",
       "<p>87 rows × 5 columns</p>\n",
       "</div>"
      ],
      "text/plain": [
       "               Countries F2003 F_se_2003 M2003 M_se_2003\n",
       "0              Australia     —         †     —         †\n",
       "1                Austria     —         †     —         †\n",
       "2                Belgium     —         †     —         †\n",
       "3                 Canada     —         †     —         †\n",
       "4                  Chile     —         †     —         †\n",
       "..                   ...   ...       ...   ...       ...\n",
       "82               Tunisia     —         †     —         †\n",
       "83               Ukraine     —         †     —         †\n",
       "84  United Arab Emirates     —         †     —         †\n",
       "85               Uruguay     —         †     —         †\n",
       "86              Viet Nam     —         †     —         †\n",
       "\n",
       "[87 rows x 5 columns]"
      ]
     },
     "execution_count": 27,
     "metadata": {},
     "output_type": "execute_result"
    }
   ],
   "source": [
    "scig2003 = pd.read_excel(\"../data_all/gender/gender2003.xls\",sheet_name='Report 3- Table',skiprows=[1,2,3,4,5,6,7,8,9,10,11,100,101,102,103,104])\n",
    "scig2003.drop(['Unnamed: 0', 'Unnamed: 1'], axis=1, inplace=True)\n",
    "scig2003.rename({'Unnamed: 2': 'Countries', 'Unnamed: 3': 'F2003', 'Unnamed: 4': 'F_se_2003', 'Unnamed: 5': 'M2003', 'Unnamed: 6': 'M_se_2003'}, axis=1, inplace=True)\n",
    "scig2003 = scig2003.drop(index=[87])\n",
    "scig2003"
   ]
  },
  {
   "cell_type": "code",
   "execution_count": 28,
   "metadata": {},
   "outputs": [
    {
     "data": {
      "text/html": [
       "<div>\n",
       "<style scoped>\n",
       "    .dataframe tbody tr th:only-of-type {\n",
       "        vertical-align: middle;\n",
       "    }\n",
       "\n",
       "    .dataframe tbody tr th {\n",
       "        vertical-align: top;\n",
       "    }\n",
       "\n",
       "    .dataframe thead th {\n",
       "        text-align: right;\n",
       "    }\n",
       "</style>\n",
       "<table border=\"1\" class=\"dataframe\">\n",
       "  <thead>\n",
       "    <tr style=\"text-align: right;\">\n",
       "      <th></th>\n",
       "      <th>Countries</th>\n",
       "      <th>F2006</th>\n",
       "      <th>F_se_2006</th>\n",
       "      <th>M2006</th>\n",
       "      <th>M_se_2006</th>\n",
       "    </tr>\n",
       "  </thead>\n",
       "  <tbody>\n",
       "    <tr>\n",
       "      <th>0</th>\n",
       "      <td>Australia</td>\n",
       "      <td>526.855075</td>\n",
       "      <td>2.652703</td>\n",
       "      <td>526.903011</td>\n",
       "      <td>3.191763</td>\n",
       "    </tr>\n",
       "    <tr>\n",
       "      <th>1</th>\n",
       "      <td>Austria</td>\n",
       "      <td>507.001603</td>\n",
       "      <td>4.947137</td>\n",
       "      <td>514.531573</td>\n",
       "      <td>4.234091</td>\n",
       "    </tr>\n",
       "    <tr>\n",
       "      <th>2</th>\n",
       "      <td>Belgium</td>\n",
       "      <td>509.97104</td>\n",
       "      <td>3.162233</td>\n",
       "      <td>510.719669</td>\n",
       "      <td>3.291896</td>\n",
       "    </tr>\n",
       "    <tr>\n",
       "      <th>3</th>\n",
       "      <td>Canada</td>\n",
       "      <td>532.422819</td>\n",
       "      <td>2.118843</td>\n",
       "      <td>536.495866</td>\n",
       "      <td>2.489941</td>\n",
       "    </tr>\n",
       "    <tr>\n",
       "      <th>4</th>\n",
       "      <td>Chile</td>\n",
       "      <td>426.488374</td>\n",
       "      <td>4.422395</td>\n",
       "      <td>448.131282</td>\n",
       "      <td>5.36665</td>\n",
       "    </tr>\n",
       "    <tr>\n",
       "      <th>...</th>\n",
       "      <td>...</td>\n",
       "      <td>...</td>\n",
       "      <td>...</td>\n",
       "      <td>...</td>\n",
       "      <td>...</td>\n",
       "    </tr>\n",
       "    <tr>\n",
       "      <th>82</th>\n",
       "      <td>Tunisia</td>\n",
       "      <td>387.807363</td>\n",
       "      <td>3.522775</td>\n",
       "      <td>382.992442</td>\n",
       "      <td>3.241938</td>\n",
       "    </tr>\n",
       "    <tr>\n",
       "      <th>83</th>\n",
       "      <td>Ukraine</td>\n",
       "      <td>—</td>\n",
       "      <td>†</td>\n",
       "      <td>—</td>\n",
       "      <td>†</td>\n",
       "    </tr>\n",
       "    <tr>\n",
       "      <th>84</th>\n",
       "      <td>United Arab Emirates</td>\n",
       "      <td>—</td>\n",
       "      <td>†</td>\n",
       "      <td>—</td>\n",
       "      <td>†</td>\n",
       "    </tr>\n",
       "    <tr>\n",
       "      <th>85</th>\n",
       "      <td>Uruguay</td>\n",
       "      <td>429.601704</td>\n",
       "      <td>2.703137</td>\n",
       "      <td>426.595786</td>\n",
       "      <td>3.965521</td>\n",
       "    </tr>\n",
       "    <tr>\n",
       "      <th>86</th>\n",
       "      <td>Viet Nam</td>\n",
       "      <td>—</td>\n",
       "      <td>†</td>\n",
       "      <td>—</td>\n",
       "      <td>†</td>\n",
       "    </tr>\n",
       "  </tbody>\n",
       "</table>\n",
       "<p>87 rows × 5 columns</p>\n",
       "</div>"
      ],
      "text/plain": [
       "               Countries       F2006 F_se_2006       M2006 M_se_2006\n",
       "0              Australia  526.855075  2.652703  526.903011  3.191763\n",
       "1                Austria  507.001603  4.947137  514.531573  4.234091\n",
       "2                Belgium   509.97104  3.162233  510.719669  3.291896\n",
       "3                 Canada  532.422819  2.118843  536.495866  2.489941\n",
       "4                  Chile  426.488374  4.422395  448.131282   5.36665\n",
       "..                   ...         ...       ...         ...       ...\n",
       "82               Tunisia  387.807363  3.522775  382.992442  3.241938\n",
       "83               Ukraine           —         †           —         †\n",
       "84  United Arab Emirates           —         †           —         †\n",
       "85               Uruguay  429.601704  2.703137  426.595786  3.965521\n",
       "86              Viet Nam           —         †           —         †\n",
       "\n",
       "[87 rows x 5 columns]"
      ]
     },
     "execution_count": 28,
     "metadata": {},
     "output_type": "execute_result"
    }
   ],
   "source": [
    "scig2006 = pd.read_excel(\"../data_all/gender/gender2006.xls\",sheet_name='Report 3- Table',skiprows=[1,2,3,4,5,6,7,8,9,10,11,100,101,102,103,104])\n",
    "scig2006.drop(['Unnamed: 0', 'Unnamed: 1'], axis=1, inplace=True)\n",
    "scig2006.rename({'Unnamed: 2': 'Countries', 'Unnamed: 3': 'F2006', 'Unnamed: 4': 'F_se_2006', 'Unnamed: 5': 'M2006', 'Unnamed: 6': 'M_se_2006'}, axis=1, inplace=True)\n",
    "scig2006 = scig2006.drop(index=[87])\n",
    "scig2006"
   ]
  },
  {
   "cell_type": "code",
   "execution_count": 29,
   "metadata": {},
   "outputs": [
    {
     "data": {
      "text/html": [
       "<div>\n",
       "<style scoped>\n",
       "    .dataframe tbody tr th:only-of-type {\n",
       "        vertical-align: middle;\n",
       "    }\n",
       "\n",
       "    .dataframe tbody tr th {\n",
       "        vertical-align: top;\n",
       "    }\n",
       "\n",
       "    .dataframe thead th {\n",
       "        text-align: right;\n",
       "    }\n",
       "</style>\n",
       "<table border=\"1\" class=\"dataframe\">\n",
       "  <thead>\n",
       "    <tr style=\"text-align: right;\">\n",
       "      <th></th>\n",
       "      <th>Countries</th>\n",
       "      <th>F2009</th>\n",
       "      <th>F_se_2009</th>\n",
       "      <th>M2009</th>\n",
       "      <th>M_se_2009</th>\n",
       "    </tr>\n",
       "  </thead>\n",
       "  <tbody>\n",
       "    <tr>\n",
       "      <th>0</th>\n",
       "      <td>Australia</td>\n",
       "      <td>527.721888</td>\n",
       "      <td>2.843281</td>\n",
       "      <td>526.798976</td>\n",
       "      <td>3.132617</td>\n",
       "    </tr>\n",
       "    <tr>\n",
       "      <th>1</th>\n",
       "      <td>Austria</td>\n",
       "      <td>490.465346</td>\n",
       "      <td>4.434539</td>\n",
       "      <td>498.339893</td>\n",
       "      <td>4.168197</td>\n",
       "    </tr>\n",
       "    <tr>\n",
       "      <th>2</th>\n",
       "      <td>Belgium</td>\n",
       "      <td>503.285095</td>\n",
       "      <td>3.172676</td>\n",
       "      <td>509.726339</td>\n",
       "      <td>3.600942</td>\n",
       "    </tr>\n",
       "    <tr>\n",
       "      <th>3</th>\n",
       "      <td>Canada</td>\n",
       "      <td>526.367624</td>\n",
       "      <td>1.885576</td>\n",
       "      <td>531.011754</td>\n",
       "      <td>1.873511</td>\n",
       "    </tr>\n",
       "    <tr>\n",
       "      <th>4</th>\n",
       "      <td>Chile</td>\n",
       "      <td>442.879332</td>\n",
       "      <td>3.462696</td>\n",
       "      <td>451.878329</td>\n",
       "      <td>3.499126</td>\n",
       "    </tr>\n",
       "    <tr>\n",
       "      <th>...</th>\n",
       "      <td>...</td>\n",
       "      <td>...</td>\n",
       "      <td>...</td>\n",
       "      <td>...</td>\n",
       "      <td>...</td>\n",
       "    </tr>\n",
       "    <tr>\n",
       "      <th>82</th>\n",
       "      <td>Tunisia</td>\n",
       "      <td>400.42129</td>\n",
       "      <td>2.839883</td>\n",
       "      <td>400.926228</td>\n",
       "      <td>2.91287</td>\n",
       "    </tr>\n",
       "    <tr>\n",
       "      <th>83</th>\n",
       "      <td>Ukraine</td>\n",
       "      <td>—</td>\n",
       "      <td>†</td>\n",
       "      <td>—</td>\n",
       "      <td>†</td>\n",
       "    </tr>\n",
       "    <tr>\n",
       "      <th>84</th>\n",
       "      <td>United Arab Emirates</td>\n",
       "      <td>—</td>\n",
       "      <td>†</td>\n",
       "      <td>—</td>\n",
       "      <td>†</td>\n",
       "    </tr>\n",
       "    <tr>\n",
       "      <th>85</th>\n",
       "      <td>Uruguay</td>\n",
       "      <td>427.753078</td>\n",
       "      <td>2.649278</td>\n",
       "      <td>426.607234</td>\n",
       "      <td>3.208628</td>\n",
       "    </tr>\n",
       "    <tr>\n",
       "      <th>86</th>\n",
       "      <td>Viet Nam</td>\n",
       "      <td>—</td>\n",
       "      <td>†</td>\n",
       "      <td>—</td>\n",
       "      <td>†</td>\n",
       "    </tr>\n",
       "  </tbody>\n",
       "</table>\n",
       "<p>87 rows × 5 columns</p>\n",
       "</div>"
      ],
      "text/plain": [
       "               Countries       F2009 F_se_2009       M2009 M_se_2009\n",
       "0              Australia  527.721888  2.843281  526.798976  3.132617\n",
       "1                Austria  490.465346  4.434539  498.339893  4.168197\n",
       "2                Belgium  503.285095  3.172676  509.726339  3.600942\n",
       "3                 Canada  526.367624  1.885576  531.011754  1.873511\n",
       "4                  Chile  442.879332  3.462696  451.878329  3.499126\n",
       "..                   ...         ...       ...         ...       ...\n",
       "82               Tunisia   400.42129  2.839883  400.926228   2.91287\n",
       "83               Ukraine           —         †           —         †\n",
       "84  United Arab Emirates           —         †           —         †\n",
       "85               Uruguay  427.753078  2.649278  426.607234  3.208628\n",
       "86              Viet Nam           —         †           —         †\n",
       "\n",
       "[87 rows x 5 columns]"
      ]
     },
     "execution_count": 29,
     "metadata": {},
     "output_type": "execute_result"
    }
   ],
   "source": [
    "scig2009 = pd.read_excel(\"../data_all/gender/gender2009.xls\",sheet_name='Report 3- Table',skiprows=[1,2,3,4,5,6,7,8,9,10,11,100,101,102,103,104])\n",
    "scig2009.drop(['Unnamed: 0', 'Unnamed: 1'], axis=1, inplace=True)\n",
    "scig2009.rename({'Unnamed: 2': 'Countries', 'Unnamed: 3': 'F2009', 'Unnamed: 4': 'F_se_2009', 'Unnamed: 5': 'M2009', 'Unnamed: 6': 'M_se_2009'}, axis=1, inplace=True)\n",
    "scig2009 = scig2009.drop(index=[87])\n",
    "scig2009"
   ]
  },
  {
   "cell_type": "code",
   "execution_count": 30,
   "metadata": {},
   "outputs": [
    {
     "data": {
      "text/html": [
       "<div>\n",
       "<style scoped>\n",
       "    .dataframe tbody tr th:only-of-type {\n",
       "        vertical-align: middle;\n",
       "    }\n",
       "\n",
       "    .dataframe tbody tr th {\n",
       "        vertical-align: top;\n",
       "    }\n",
       "\n",
       "    .dataframe thead th {\n",
       "        text-align: right;\n",
       "    }\n",
       "</style>\n",
       "<table border=\"1\" class=\"dataframe\">\n",
       "  <thead>\n",
       "    <tr style=\"text-align: right;\">\n",
       "      <th></th>\n",
       "      <th>Countries</th>\n",
       "      <th>F2012</th>\n",
       "      <th>F_se_2012</th>\n",
       "      <th>M2012</th>\n",
       "      <th>M_se_2012</th>\n",
       "    </tr>\n",
       "  </thead>\n",
       "  <tbody>\n",
       "    <tr>\n",
       "      <th>0</th>\n",
       "      <td>Australia</td>\n",
       "      <td>519.124475</td>\n",
       "      <td>2.097372</td>\n",
       "      <td>523.728209</td>\n",
       "      <td>2.508216</td>\n",
       "    </tr>\n",
       "    <tr>\n",
       "      <th>1</th>\n",
       "      <td>Austria</td>\n",
       "      <td>501.478519</td>\n",
       "      <td>3.430807</td>\n",
       "      <td>510.108294</td>\n",
       "      <td>3.934708</td>\n",
       "    </tr>\n",
       "    <tr>\n",
       "      <th>2</th>\n",
       "      <td>Belgium</td>\n",
       "      <td>502.899901</td>\n",
       "      <td>2.635283</td>\n",
       "      <td>506.820399</td>\n",
       "      <td>3.018334</td>\n",
       "    </tr>\n",
       "    <tr>\n",
       "      <th>3</th>\n",
       "      <td>Canada</td>\n",
       "      <td>524.03697</td>\n",
       "      <td>1.968948</td>\n",
       "      <td>526.850779</td>\n",
       "      <td>2.40729</td>\n",
       "    </tr>\n",
       "    <tr>\n",
       "      <th>4</th>\n",
       "      <td>Chile</td>\n",
       "      <td>441.645267</td>\n",
       "      <td>2.894258</td>\n",
       "      <td>448.441062</td>\n",
       "      <td>3.659581</td>\n",
       "    </tr>\n",
       "    <tr>\n",
       "      <th>...</th>\n",
       "      <td>...</td>\n",
       "      <td>...</td>\n",
       "      <td>...</td>\n",
       "      <td>...</td>\n",
       "      <td>...</td>\n",
       "    </tr>\n",
       "    <tr>\n",
       "      <th>82</th>\n",
       "      <td>Tunisia</td>\n",
       "      <td>397.575005</td>\n",
       "      <td>3.605673</td>\n",
       "      <td>398.586054</td>\n",
       "      <td>3.906495</td>\n",
       "    </tr>\n",
       "    <tr>\n",
       "      <th>83</th>\n",
       "      <td>Ukraine</td>\n",
       "      <td>—</td>\n",
       "      <td>†</td>\n",
       "      <td>—</td>\n",
       "      <td>†</td>\n",
       "    </tr>\n",
       "    <tr>\n",
       "      <th>84</th>\n",
       "      <td>United Arab Emirates</td>\n",
       "      <td>462.020871</td>\n",
       "      <td>3.700068</td>\n",
       "      <td>434.132034</td>\n",
       "      <td>4.055562</td>\n",
       "    </tr>\n",
       "    <tr>\n",
       "      <th>85</th>\n",
       "      <td>Uruguay</td>\n",
       "      <td>416.347371</td>\n",
       "      <td>3.05429</td>\n",
       "      <td>415.270966</td>\n",
       "      <td>3.43768</td>\n",
       "    </tr>\n",
       "    <tr>\n",
       "      <th>86</th>\n",
       "      <td>Viet Nam</td>\n",
       "      <td>527.943226</td>\n",
       "      <td>4.057514</td>\n",
       "      <td>528.976475</td>\n",
       "      <td>5.031562</td>\n",
       "    </tr>\n",
       "  </tbody>\n",
       "</table>\n",
       "<p>87 rows × 5 columns</p>\n",
       "</div>"
      ],
      "text/plain": [
       "               Countries       F2012 F_se_2012       M2012 M_se_2012\n",
       "0              Australia  519.124475  2.097372  523.728209  2.508216\n",
       "1                Austria  501.478519  3.430807  510.108294  3.934708\n",
       "2                Belgium  502.899901  2.635283  506.820399  3.018334\n",
       "3                 Canada   524.03697  1.968948  526.850779   2.40729\n",
       "4                  Chile  441.645267  2.894258  448.441062  3.659581\n",
       "..                   ...         ...       ...         ...       ...\n",
       "82               Tunisia  397.575005  3.605673  398.586054  3.906495\n",
       "83               Ukraine           —         †           —         †\n",
       "84  United Arab Emirates  462.020871  3.700068  434.132034  4.055562\n",
       "85               Uruguay  416.347371   3.05429  415.270966   3.43768\n",
       "86              Viet Nam  527.943226  4.057514  528.976475  5.031562\n",
       "\n",
       "[87 rows x 5 columns]"
      ]
     },
     "execution_count": 30,
     "metadata": {},
     "output_type": "execute_result"
    }
   ],
   "source": [
    "scig2012 = pd.read_excel(\"../data_all/gender/gender2012.xls\",sheet_name='Report 3- Table',skiprows=[1,2,3,4,5,6,7,8,9,10,11,100,101,102,103,104])\n",
    "scig2012.drop(['Unnamed: 0', 'Unnamed: 1'], axis=1, inplace=True)\n",
    "scig2012.rename({'Unnamed: 2': 'Countries', 'Unnamed: 3': 'F2012', 'Unnamed: 4': 'F_se_2012', 'Unnamed: 5': 'M2012', 'Unnamed: 6': 'M_se_2012'}, axis=1, inplace=True)\n",
    "scig2012 = scig2012.drop(index=[87])\n",
    "scig2012"
   ]
  },
  {
   "cell_type": "code",
   "execution_count": 31,
   "metadata": {},
   "outputs": [
    {
     "data": {
      "text/html": [
       "<div>\n",
       "<style scoped>\n",
       "    .dataframe tbody tr th:only-of-type {\n",
       "        vertical-align: middle;\n",
       "    }\n",
       "\n",
       "    .dataframe tbody tr th {\n",
       "        vertical-align: top;\n",
       "    }\n",
       "\n",
       "    .dataframe thead th {\n",
       "        text-align: right;\n",
       "    }\n",
       "</style>\n",
       "<table border=\"1\" class=\"dataframe\">\n",
       "  <thead>\n",
       "    <tr style=\"text-align: right;\">\n",
       "      <th></th>\n",
       "      <th>Countries</th>\n",
       "      <th>F2015</th>\n",
       "      <th>F_se_2015</th>\n",
       "      <th>M2015</th>\n",
       "      <th>M_se_2015</th>\n",
       "    </tr>\n",
       "  </thead>\n",
       "  <tbody>\n",
       "    <tr>\n",
       "      <th>0</th>\n",
       "      <td>Australia</td>\n",
       "      <td>508.921647</td>\n",
       "      <td>1.715724</td>\n",
       "      <td>511.049258</td>\n",
       "      <td>2.118247</td>\n",
       "    </tr>\n",
       "    <tr>\n",
       "      <th>1</th>\n",
       "      <td>Austria</td>\n",
       "      <td>485.526754</td>\n",
       "      <td>3.148127</td>\n",
       "      <td>504.371198</td>\n",
       "      <td>3.56945</td>\n",
       "    </tr>\n",
       "    <tr>\n",
       "      <th>2</th>\n",
       "      <td>Belgium</td>\n",
       "      <td>496.031867</td>\n",
       "      <td>2.730095</td>\n",
       "      <td>507.780477</td>\n",
       "      <td>3.068145</td>\n",
       "    </tr>\n",
       "    <tr>\n",
       "      <th>3</th>\n",
       "      <td>Canada</td>\n",
       "      <td>527.156185</td>\n",
       "      <td>2.252454</td>\n",
       "      <td>528.254766</td>\n",
       "      <td>2.523945</td>\n",
       "    </tr>\n",
       "    <tr>\n",
       "      <th>4</th>\n",
       "      <td>Chile</td>\n",
       "      <td>439.617404</td>\n",
       "      <td>2.673285</td>\n",
       "      <td>454.218618</td>\n",
       "      <td>3.098245</td>\n",
       "    </tr>\n",
       "    <tr>\n",
       "      <th>...</th>\n",
       "      <td>...</td>\n",
       "      <td>...</td>\n",
       "      <td>...</td>\n",
       "      <td>...</td>\n",
       "      <td>...</td>\n",
       "    </tr>\n",
       "    <tr>\n",
       "      <th>82</th>\n",
       "      <td>Tunisia</td>\n",
       "      <td>384.615158</td>\n",
       "      <td>2.213308</td>\n",
       "      <td>388.47398</td>\n",
       "      <td>2.370611</td>\n",
       "    </tr>\n",
       "    <tr>\n",
       "      <th>83</th>\n",
       "      <td>Ukraine</td>\n",
       "      <td>—</td>\n",
       "      <td>†</td>\n",
       "      <td>—</td>\n",
       "      <td>†</td>\n",
       "    </tr>\n",
       "    <tr>\n",
       "      <th>84</th>\n",
       "      <td>United Arab Emirates</td>\n",
       "      <td>449.338559</td>\n",
       "      <td>3.019174</td>\n",
       "      <td>423.771051</td>\n",
       "      <td>3.403389</td>\n",
       "    </tr>\n",
       "    <tr>\n",
       "      <th>85</th>\n",
       "      <td>Uruguay</td>\n",
       "      <td>431.307664</td>\n",
       "      <td>2.168727</td>\n",
       "      <td>439.828514</td>\n",
       "      <td>3.105382</td>\n",
       "    </tr>\n",
       "    <tr>\n",
       "      <th>86</th>\n",
       "      <td>Viet Nam</td>\n",
       "      <td>525.913919</td>\n",
       "      <td>4.248302</td>\n",
       "      <td>523.314075</td>\n",
       "      <td>4.041114</td>\n",
       "    </tr>\n",
       "  </tbody>\n",
       "</table>\n",
       "<p>87 rows × 5 columns</p>\n",
       "</div>"
      ],
      "text/plain": [
       "               Countries       F2015 F_se_2015       M2015 M_se_2015\n",
       "0              Australia  508.921647  1.715724  511.049258  2.118247\n",
       "1                Austria  485.526754  3.148127  504.371198   3.56945\n",
       "2                Belgium  496.031867  2.730095  507.780477  3.068145\n",
       "3                 Canada  527.156185  2.252454  528.254766  2.523945\n",
       "4                  Chile  439.617404  2.673285  454.218618  3.098245\n",
       "..                   ...         ...       ...         ...       ...\n",
       "82               Tunisia  384.615158  2.213308   388.47398  2.370611\n",
       "83               Ukraine           —         †           —         †\n",
       "84  United Arab Emirates  449.338559  3.019174  423.771051  3.403389\n",
       "85               Uruguay  431.307664  2.168727  439.828514  3.105382\n",
       "86              Viet Nam  525.913919  4.248302  523.314075  4.041114\n",
       "\n",
       "[87 rows x 5 columns]"
      ]
     },
     "execution_count": 31,
     "metadata": {},
     "output_type": "execute_result"
    }
   ],
   "source": [
    "scig2015 = pd.read_excel(\"../data_all/gender/gender2015.xls\",sheet_name='Report 3- Table',skiprows=[1,2,3,4,5,6,7,8,9,10,11,100,101,102,103,104])\n",
    "scig2015.drop(['Unnamed: 0', 'Unnamed: 1'], axis=1, inplace=True)\n",
    "scig2015.rename({'Unnamed: 2': 'Countries', 'Unnamed: 3': 'F2015', 'Unnamed: 4': 'F_se_2015', 'Unnamed: 5': 'M2015', 'Unnamed: 6': 'M_se_2015'}, axis=1, inplace=True)\n",
    "scig2015 = scig2015.drop(index=[87])\n",
    "scig2015"
   ]
  },
  {
   "cell_type": "code",
   "execution_count": 32,
   "metadata": {},
   "outputs": [
    {
     "data": {
      "text/html": [
       "<div>\n",
       "<style scoped>\n",
       "    .dataframe tbody tr th:only-of-type {\n",
       "        vertical-align: middle;\n",
       "    }\n",
       "\n",
       "    .dataframe tbody tr th {\n",
       "        vertical-align: top;\n",
       "    }\n",
       "\n",
       "    .dataframe thead th {\n",
       "        text-align: right;\n",
       "    }\n",
       "</style>\n",
       "<table border=\"1\" class=\"dataframe\">\n",
       "  <thead>\n",
       "    <tr style=\"text-align: right;\">\n",
       "      <th></th>\n",
       "      <th>Countries</th>\n",
       "      <th>F2018</th>\n",
       "      <th>F_se_2018</th>\n",
       "      <th>M2018</th>\n",
       "      <th>M_se_2018</th>\n",
       "    </tr>\n",
       "  </thead>\n",
       "  <tbody>\n",
       "    <tr>\n",
       "      <th>0</th>\n",
       "      <td>Australia</td>\n",
       "      <td>502.16847</td>\n",
       "      <td>2.012291</td>\n",
       "      <td>503.734771</td>\n",
       "      <td>2.378592</td>\n",
       "    </tr>\n",
       "    <tr>\n",
       "      <th>1</th>\n",
       "      <td>Austria</td>\n",
       "      <td>488.628863</td>\n",
       "      <td>3.604731</td>\n",
       "      <td>490.897825</td>\n",
       "      <td>3.839951</td>\n",
       "    </tr>\n",
       "    <tr>\n",
       "      <th>2</th>\n",
       "      <td>Belgium</td>\n",
       "      <td>496.370479</td>\n",
       "      <td>2.721623</td>\n",
       "      <td>501.19086</td>\n",
       "      <td>2.612456</td>\n",
       "    </tr>\n",
       "    <tr>\n",
       "      <th>3</th>\n",
       "      <td>Canada</td>\n",
       "      <td>519.559362</td>\n",
       "      <td>2.472418</td>\n",
       "      <td>516.460473</td>\n",
       "      <td>2.693775</td>\n",
       "    </tr>\n",
       "    <tr>\n",
       "      <th>4</th>\n",
       "      <td>Chile</td>\n",
       "      <td>441.811226</td>\n",
       "      <td>2.635959</td>\n",
       "      <td>445.309586</td>\n",
       "      <td>3.163026</td>\n",
       "    </tr>\n",
       "    <tr>\n",
       "      <th>...</th>\n",
       "      <td>...</td>\n",
       "      <td>...</td>\n",
       "      <td>...</td>\n",
       "      <td>...</td>\n",
       "      <td>...</td>\n",
       "    </tr>\n",
       "    <tr>\n",
       "      <th>82</th>\n",
       "      <td>Tunisia</td>\n",
       "      <td>—</td>\n",
       "      <td>†</td>\n",
       "      <td>—</td>\n",
       "      <td>†</td>\n",
       "    </tr>\n",
       "    <tr>\n",
       "      <th>83</th>\n",
       "      <td>Ukraine</td>\n",
       "      <td>468.071808</td>\n",
       "      <td>3.631536</td>\n",
       "      <td>469.81228</td>\n",
       "      <td>3.922305</td>\n",
       "    </tr>\n",
       "    <tr>\n",
       "      <th>84</th>\n",
       "      <td>United Arab Emirates</td>\n",
       "      <td>446.521267</td>\n",
       "      <td>2.761204</td>\n",
       "      <td>420.396378</td>\n",
       "      <td>2.148765</td>\n",
       "    </tr>\n",
       "    <tr>\n",
       "      <th>85</th>\n",
       "      <td>Uruguay</td>\n",
       "      <td>424.210612</td>\n",
       "      <td>2.719357</td>\n",
       "      <td>427.557845</td>\n",
       "      <td>3.154676</td>\n",
       "    </tr>\n",
       "    <tr>\n",
       "      <th>86</th>\n",
       "      <td>Viet Nam</td>\n",
       "      <td>—</td>\n",
       "      <td>†</td>\n",
       "      <td>—</td>\n",
       "      <td>†</td>\n",
       "    </tr>\n",
       "  </tbody>\n",
       "</table>\n",
       "<p>87 rows × 5 columns</p>\n",
       "</div>"
      ],
      "text/plain": [
       "               Countries       F2018 F_se_2018       M2018 M_se_2018\n",
       "0              Australia   502.16847  2.012291  503.734771  2.378592\n",
       "1                Austria  488.628863  3.604731  490.897825  3.839951\n",
       "2                Belgium  496.370479  2.721623   501.19086  2.612456\n",
       "3                 Canada  519.559362  2.472418  516.460473  2.693775\n",
       "4                  Chile  441.811226  2.635959  445.309586  3.163026\n",
       "..                   ...         ...       ...         ...       ...\n",
       "82               Tunisia           —         †           —         †\n",
       "83               Ukraine  468.071808  3.631536   469.81228  3.922305\n",
       "84  United Arab Emirates  446.521267  2.761204  420.396378  2.148765\n",
       "85               Uruguay  424.210612  2.719357  427.557845  3.154676\n",
       "86              Viet Nam           —         †           —         †\n",
       "\n",
       "[87 rows x 5 columns]"
      ]
     },
     "execution_count": 32,
     "metadata": {},
     "output_type": "execute_result"
    }
   ],
   "source": [
    "scig2018 = pd.read_excel(\"../data_all/gender/gender2018.xls\",sheet_name='Report 3- Table',skiprows=[1,2,3,4,5,6,7,8,9,10,11,100,101,102,103,104])\n",
    "scig2018.drop(['Unnamed: 0', 'Unnamed: 1'], axis=1, inplace=True)\n",
    "scig2018.rename({'Unnamed: 2': 'Countries', 'Unnamed: 3': 'F2018', 'Unnamed: 4': 'F_se_2018', 'Unnamed: 5': 'M2018', 'Unnamed: 6': 'M_se_2018'}, axis=1, inplace=True)\n",
    "scig2018 = scig2018.drop(index=[87])\n",
    "scig2018"
   ]
  },
  {
   "cell_type": "code",
   "execution_count": 33,
   "metadata": {},
   "outputs": [
    {
     "data": {
      "text/html": [
       "<div>\n",
       "<style scoped>\n",
       "    .dataframe tbody tr th:only-of-type {\n",
       "        vertical-align: middle;\n",
       "    }\n",
       "\n",
       "    .dataframe tbody tr th {\n",
       "        vertical-align: top;\n",
       "    }\n",
       "\n",
       "    .dataframe thead th {\n",
       "        text-align: right;\n",
       "    }\n",
       "</style>\n",
       "<table border=\"1\" class=\"dataframe\">\n",
       "  <thead>\n",
       "    <tr style=\"text-align: right;\">\n",
       "      <th></th>\n",
       "      <th>Countries</th>\n",
       "      <th>F2000</th>\n",
       "      <th>F_se_2000</th>\n",
       "      <th>M2000</th>\n",
       "      <th>M_se_2000</th>\n",
       "      <th>F2003</th>\n",
       "      <th>F_se_2003</th>\n",
       "      <th>M2003</th>\n",
       "      <th>M_se_2003</th>\n",
       "      <th>F2006</th>\n",
       "      <th>...</th>\n",
       "      <th>M2012</th>\n",
       "      <th>M_se_2012</th>\n",
       "      <th>F2015</th>\n",
       "      <th>F_se_2015</th>\n",
       "      <th>M2015</th>\n",
       "      <th>M_se_2015</th>\n",
       "      <th>F2018</th>\n",
       "      <th>F_se_2018</th>\n",
       "      <th>M2018</th>\n",
       "      <th>M_se_2018</th>\n",
       "    </tr>\n",
       "  </thead>\n",
       "  <tbody>\n",
       "    <tr>\n",
       "      <th>0</th>\n",
       "      <td>Australia</td>\n",
       "      <td>—</td>\n",
       "      <td>†</td>\n",
       "      <td>—</td>\n",
       "      <td>†</td>\n",
       "      <td>—</td>\n",
       "      <td>†</td>\n",
       "      <td>—</td>\n",
       "      <td>†</td>\n",
       "      <td>526.855075</td>\n",
       "      <td>...</td>\n",
       "      <td>523.728209</td>\n",
       "      <td>2.508216</td>\n",
       "      <td>508.921647</td>\n",
       "      <td>1.715724</td>\n",
       "      <td>511.049258</td>\n",
       "      <td>2.118247</td>\n",
       "      <td>502.16847</td>\n",
       "      <td>2.012291</td>\n",
       "      <td>503.734771</td>\n",
       "      <td>2.378592</td>\n",
       "    </tr>\n",
       "    <tr>\n",
       "      <th>1</th>\n",
       "      <td>Austria</td>\n",
       "      <td>—</td>\n",
       "      <td>†</td>\n",
       "      <td>—</td>\n",
       "      <td>†</td>\n",
       "      <td>—</td>\n",
       "      <td>†</td>\n",
       "      <td>—</td>\n",
       "      <td>†</td>\n",
       "      <td>507.001603</td>\n",
       "      <td>...</td>\n",
       "      <td>510.108294</td>\n",
       "      <td>3.934708</td>\n",
       "      <td>485.526754</td>\n",
       "      <td>3.148127</td>\n",
       "      <td>504.371198</td>\n",
       "      <td>3.56945</td>\n",
       "      <td>488.628863</td>\n",
       "      <td>3.604731</td>\n",
       "      <td>490.897825</td>\n",
       "      <td>3.839951</td>\n",
       "    </tr>\n",
       "    <tr>\n",
       "      <th>2</th>\n",
       "      <td>Belgium</td>\n",
       "      <td>—</td>\n",
       "      <td>†</td>\n",
       "      <td>—</td>\n",
       "      <td>†</td>\n",
       "      <td>—</td>\n",
       "      <td>†</td>\n",
       "      <td>—</td>\n",
       "      <td>†</td>\n",
       "      <td>509.97104</td>\n",
       "      <td>...</td>\n",
       "      <td>506.820399</td>\n",
       "      <td>3.018334</td>\n",
       "      <td>496.031867</td>\n",
       "      <td>2.730095</td>\n",
       "      <td>507.780477</td>\n",
       "      <td>3.068145</td>\n",
       "      <td>496.370479</td>\n",
       "      <td>2.721623</td>\n",
       "      <td>501.19086</td>\n",
       "      <td>2.612456</td>\n",
       "    </tr>\n",
       "    <tr>\n",
       "      <th>3</th>\n",
       "      <td>Canada</td>\n",
       "      <td>—</td>\n",
       "      <td>†</td>\n",
       "      <td>—</td>\n",
       "      <td>†</td>\n",
       "      <td>—</td>\n",
       "      <td>†</td>\n",
       "      <td>—</td>\n",
       "      <td>†</td>\n",
       "      <td>532.422819</td>\n",
       "      <td>...</td>\n",
       "      <td>526.850779</td>\n",
       "      <td>2.40729</td>\n",
       "      <td>527.156185</td>\n",
       "      <td>2.252454</td>\n",
       "      <td>528.254766</td>\n",
       "      <td>2.523945</td>\n",
       "      <td>519.559362</td>\n",
       "      <td>2.472418</td>\n",
       "      <td>516.460473</td>\n",
       "      <td>2.693775</td>\n",
       "    </tr>\n",
       "    <tr>\n",
       "      <th>4</th>\n",
       "      <td>Chile</td>\n",
       "      <td>—</td>\n",
       "      <td>†</td>\n",
       "      <td>—</td>\n",
       "      <td>†</td>\n",
       "      <td>—</td>\n",
       "      <td>†</td>\n",
       "      <td>—</td>\n",
       "      <td>†</td>\n",
       "      <td>426.488374</td>\n",
       "      <td>...</td>\n",
       "      <td>448.441062</td>\n",
       "      <td>3.659581</td>\n",
       "      <td>439.617404</td>\n",
       "      <td>2.673285</td>\n",
       "      <td>454.218618</td>\n",
       "      <td>3.098245</td>\n",
       "      <td>441.811226</td>\n",
       "      <td>2.635959</td>\n",
       "      <td>445.309586</td>\n",
       "      <td>3.163026</td>\n",
       "    </tr>\n",
       "    <tr>\n",
       "      <th>...</th>\n",
       "      <td>...</td>\n",
       "      <td>...</td>\n",
       "      <td>...</td>\n",
       "      <td>...</td>\n",
       "      <td>...</td>\n",
       "      <td>...</td>\n",
       "      <td>...</td>\n",
       "      <td>...</td>\n",
       "      <td>...</td>\n",
       "      <td>...</td>\n",
       "      <td>...</td>\n",
       "      <td>...</td>\n",
       "      <td>...</td>\n",
       "      <td>...</td>\n",
       "      <td>...</td>\n",
       "      <td>...</td>\n",
       "      <td>...</td>\n",
       "      <td>...</td>\n",
       "      <td>...</td>\n",
       "      <td>...</td>\n",
       "      <td>...</td>\n",
       "    </tr>\n",
       "    <tr>\n",
       "      <th>82</th>\n",
       "      <td>Tunisia</td>\n",
       "      <td>—</td>\n",
       "      <td>†</td>\n",
       "      <td>—</td>\n",
       "      <td>†</td>\n",
       "      <td>—</td>\n",
       "      <td>†</td>\n",
       "      <td>—</td>\n",
       "      <td>†</td>\n",
       "      <td>387.807363</td>\n",
       "      <td>...</td>\n",
       "      <td>398.586054</td>\n",
       "      <td>3.906495</td>\n",
       "      <td>384.615158</td>\n",
       "      <td>2.213308</td>\n",
       "      <td>388.47398</td>\n",
       "      <td>2.370611</td>\n",
       "      <td>—</td>\n",
       "      <td>†</td>\n",
       "      <td>—</td>\n",
       "      <td>†</td>\n",
       "    </tr>\n",
       "    <tr>\n",
       "      <th>83</th>\n",
       "      <td>Ukraine</td>\n",
       "      <td>—</td>\n",
       "      <td>†</td>\n",
       "      <td>—</td>\n",
       "      <td>†</td>\n",
       "      <td>—</td>\n",
       "      <td>†</td>\n",
       "      <td>—</td>\n",
       "      <td>†</td>\n",
       "      <td>—</td>\n",
       "      <td>...</td>\n",
       "      <td>—</td>\n",
       "      <td>†</td>\n",
       "      <td>—</td>\n",
       "      <td>†</td>\n",
       "      <td>—</td>\n",
       "      <td>†</td>\n",
       "      <td>468.071808</td>\n",
       "      <td>3.631536</td>\n",
       "      <td>469.81228</td>\n",
       "      <td>3.922305</td>\n",
       "    </tr>\n",
       "    <tr>\n",
       "      <th>84</th>\n",
       "      <td>United Arab Emirates</td>\n",
       "      <td>—</td>\n",
       "      <td>†</td>\n",
       "      <td>—</td>\n",
       "      <td>†</td>\n",
       "      <td>—</td>\n",
       "      <td>†</td>\n",
       "      <td>—</td>\n",
       "      <td>†</td>\n",
       "      <td>—</td>\n",
       "      <td>...</td>\n",
       "      <td>434.132034</td>\n",
       "      <td>4.055562</td>\n",
       "      <td>449.338559</td>\n",
       "      <td>3.019174</td>\n",
       "      <td>423.771051</td>\n",
       "      <td>3.403389</td>\n",
       "      <td>446.521267</td>\n",
       "      <td>2.761204</td>\n",
       "      <td>420.396378</td>\n",
       "      <td>2.148765</td>\n",
       "    </tr>\n",
       "    <tr>\n",
       "      <th>85</th>\n",
       "      <td>Uruguay</td>\n",
       "      <td>—</td>\n",
       "      <td>†</td>\n",
       "      <td>—</td>\n",
       "      <td>†</td>\n",
       "      <td>—</td>\n",
       "      <td>†</td>\n",
       "      <td>—</td>\n",
       "      <td>†</td>\n",
       "      <td>429.601704</td>\n",
       "      <td>...</td>\n",
       "      <td>415.270966</td>\n",
       "      <td>3.43768</td>\n",
       "      <td>431.307664</td>\n",
       "      <td>2.168727</td>\n",
       "      <td>439.828514</td>\n",
       "      <td>3.105382</td>\n",
       "      <td>424.210612</td>\n",
       "      <td>2.719357</td>\n",
       "      <td>427.557845</td>\n",
       "      <td>3.154676</td>\n",
       "    </tr>\n",
       "    <tr>\n",
       "      <th>86</th>\n",
       "      <td>Viet Nam</td>\n",
       "      <td>—</td>\n",
       "      <td>†</td>\n",
       "      <td>—</td>\n",
       "      <td>†</td>\n",
       "      <td>—</td>\n",
       "      <td>†</td>\n",
       "      <td>—</td>\n",
       "      <td>†</td>\n",
       "      <td>—</td>\n",
       "      <td>...</td>\n",
       "      <td>528.976475</td>\n",
       "      <td>5.031562</td>\n",
       "      <td>525.913919</td>\n",
       "      <td>4.248302</td>\n",
       "      <td>523.314075</td>\n",
       "      <td>4.041114</td>\n",
       "      <td>—</td>\n",
       "      <td>†</td>\n",
       "      <td>—</td>\n",
       "      <td>†</td>\n",
       "    </tr>\n",
       "  </tbody>\n",
       "</table>\n",
       "<p>87 rows × 29 columns</p>\n",
       "</div>"
      ],
      "text/plain": [
       "               Countries F2000 F_se_2000 M2000 M_se_2000 F2003 F_se_2003  \\\n",
       "0              Australia     —         †     —         †     —         †   \n",
       "1                Austria     —         †     —         †     —         †   \n",
       "2                Belgium     —         †     —         †     —         †   \n",
       "3                 Canada     —         †     —         †     —         †   \n",
       "4                  Chile     —         †     —         †     —         †   \n",
       "..                   ...   ...       ...   ...       ...   ...       ...   \n",
       "82               Tunisia     —         †     —         †     —         †   \n",
       "83               Ukraine     —         †     —         †     —         †   \n",
       "84  United Arab Emirates     —         †     —         †     —         †   \n",
       "85               Uruguay     —         †     —         †     —         †   \n",
       "86              Viet Nam     —         †     —         †     —         †   \n",
       "\n",
       "   M2003 M_se_2003       F2006  ...       M2012 M_se_2012       F2015  \\\n",
       "0      —         †  526.855075  ...  523.728209  2.508216  508.921647   \n",
       "1      —         †  507.001603  ...  510.108294  3.934708  485.526754   \n",
       "2      —         †   509.97104  ...  506.820399  3.018334  496.031867   \n",
       "3      —         †  532.422819  ...  526.850779   2.40729  527.156185   \n",
       "4      —         †  426.488374  ...  448.441062  3.659581  439.617404   \n",
       "..   ...       ...         ...  ...         ...       ...         ...   \n",
       "82     —         †  387.807363  ...  398.586054  3.906495  384.615158   \n",
       "83     —         †           —  ...           —         †           —   \n",
       "84     —         †           —  ...  434.132034  4.055562  449.338559   \n",
       "85     —         †  429.601704  ...  415.270966   3.43768  431.307664   \n",
       "86     —         †           —  ...  528.976475  5.031562  525.913919   \n",
       "\n",
       "   F_se_2015       M2015 M_se_2015       F2018 F_se_2018       M2018 M_se_2018  \n",
       "0   1.715724  511.049258  2.118247   502.16847  2.012291  503.734771  2.378592  \n",
       "1   3.148127  504.371198   3.56945  488.628863  3.604731  490.897825  3.839951  \n",
       "2   2.730095  507.780477  3.068145  496.370479  2.721623   501.19086  2.612456  \n",
       "3   2.252454  528.254766  2.523945  519.559362  2.472418  516.460473  2.693775  \n",
       "4   2.673285  454.218618  3.098245  441.811226  2.635959  445.309586  3.163026  \n",
       "..       ...         ...       ...         ...       ...         ...       ...  \n",
       "82  2.213308   388.47398  2.370611           —         †           —         †  \n",
       "83         †           —         †  468.071808  3.631536   469.81228  3.922305  \n",
       "84  3.019174  423.771051  3.403389  446.521267  2.761204  420.396378  2.148765  \n",
       "85  2.168727  439.828514  3.105382  424.210612  2.719357  427.557845  3.154676  \n",
       "86  4.248302  523.314075  4.041114           —         †           —         †  \n",
       "\n",
       "[87 rows x 29 columns]"
      ]
     },
     "execution_count": 33,
     "metadata": {},
     "output_type": "execute_result"
    }
   ],
   "source": [
    "scig = pd.merge(pd.merge(pd.merge(pd.merge(pd.merge(pd.merge(scig2000,scig2003,on='Countries'), scig2006, on='Countries'), scig2009, on='Countries'), scig2012, on='Countries'), scig2015, on='Countries'), scig2018, on='Countries')\n",
    "scig"
   ]
  },
  {
   "cell_type": "code",
   "execution_count": 34,
   "metadata": {},
   "outputs": [
    {
     "data": {
      "text/html": [
       "<div>\n",
       "<style scoped>\n",
       "    .dataframe tbody tr th:only-of-type {\n",
       "        vertical-align: middle;\n",
       "    }\n",
       "\n",
       "    .dataframe tbody tr th {\n",
       "        vertical-align: top;\n",
       "    }\n",
       "\n",
       "    .dataframe thead th {\n",
       "        text-align: right;\n",
       "    }\n",
       "</style>\n",
       "<table border=\"1\" class=\"dataframe\">\n",
       "  <thead>\n",
       "    <tr style=\"text-align: right;\">\n",
       "      <th></th>\n",
       "      <th>Countries</th>\n",
       "      <th>F2000</th>\n",
       "      <th>F_se_2000</th>\n",
       "      <th>M2000</th>\n",
       "      <th>M_se_2000</th>\n",
       "      <th>F2003</th>\n",
       "      <th>F_se_2003</th>\n",
       "      <th>M2003</th>\n",
       "      <th>M_se_2003</th>\n",
       "      <th>F2006</th>\n",
       "      <th>...</th>\n",
       "      <th>M2012</th>\n",
       "      <th>M_se_2012</th>\n",
       "      <th>F2015</th>\n",
       "      <th>F_se_2015</th>\n",
       "      <th>M2015</th>\n",
       "      <th>M_se_2015</th>\n",
       "      <th>F2018</th>\n",
       "      <th>F_se_2018</th>\n",
       "      <th>M2018</th>\n",
       "      <th>M_se_2018</th>\n",
       "    </tr>\n",
       "  </thead>\n",
       "  <tbody>\n",
       "    <tr>\n",
       "      <th>0</th>\n",
       "      <td>Australia</td>\n",
       "      <td>NaN</td>\n",
       "      <td>NaN</td>\n",
       "      <td>NaN</td>\n",
       "      <td>NaN</td>\n",
       "      <td>NaN</td>\n",
       "      <td>NaN</td>\n",
       "      <td>NaN</td>\n",
       "      <td>NaN</td>\n",
       "      <td>526.855075</td>\n",
       "      <td>...</td>\n",
       "      <td>523.728209</td>\n",
       "      <td>2.508216</td>\n",
       "      <td>508.921647</td>\n",
       "      <td>1.715724</td>\n",
       "      <td>511.049258</td>\n",
       "      <td>2.118247</td>\n",
       "      <td>502.168470</td>\n",
       "      <td>2.012291</td>\n",
       "      <td>503.734771</td>\n",
       "      <td>2.378592</td>\n",
       "    </tr>\n",
       "    <tr>\n",
       "      <th>1</th>\n",
       "      <td>Austria</td>\n",
       "      <td>NaN</td>\n",
       "      <td>NaN</td>\n",
       "      <td>NaN</td>\n",
       "      <td>NaN</td>\n",
       "      <td>NaN</td>\n",
       "      <td>NaN</td>\n",
       "      <td>NaN</td>\n",
       "      <td>NaN</td>\n",
       "      <td>507.001603</td>\n",
       "      <td>...</td>\n",
       "      <td>510.108294</td>\n",
       "      <td>3.934708</td>\n",
       "      <td>485.526754</td>\n",
       "      <td>3.148127</td>\n",
       "      <td>504.371198</td>\n",
       "      <td>3.569450</td>\n",
       "      <td>488.628863</td>\n",
       "      <td>3.604731</td>\n",
       "      <td>490.897825</td>\n",
       "      <td>3.839951</td>\n",
       "    </tr>\n",
       "    <tr>\n",
       "      <th>2</th>\n",
       "      <td>Belgium</td>\n",
       "      <td>NaN</td>\n",
       "      <td>NaN</td>\n",
       "      <td>NaN</td>\n",
       "      <td>NaN</td>\n",
       "      <td>NaN</td>\n",
       "      <td>NaN</td>\n",
       "      <td>NaN</td>\n",
       "      <td>NaN</td>\n",
       "      <td>509.971040</td>\n",
       "      <td>...</td>\n",
       "      <td>506.820399</td>\n",
       "      <td>3.018334</td>\n",
       "      <td>496.031867</td>\n",
       "      <td>2.730095</td>\n",
       "      <td>507.780477</td>\n",
       "      <td>3.068145</td>\n",
       "      <td>496.370479</td>\n",
       "      <td>2.721623</td>\n",
       "      <td>501.190860</td>\n",
       "      <td>2.612456</td>\n",
       "    </tr>\n",
       "    <tr>\n",
       "      <th>3</th>\n",
       "      <td>Canada</td>\n",
       "      <td>NaN</td>\n",
       "      <td>NaN</td>\n",
       "      <td>NaN</td>\n",
       "      <td>NaN</td>\n",
       "      <td>NaN</td>\n",
       "      <td>NaN</td>\n",
       "      <td>NaN</td>\n",
       "      <td>NaN</td>\n",
       "      <td>532.422819</td>\n",
       "      <td>...</td>\n",
       "      <td>526.850779</td>\n",
       "      <td>2.407290</td>\n",
       "      <td>527.156185</td>\n",
       "      <td>2.252454</td>\n",
       "      <td>528.254766</td>\n",
       "      <td>2.523945</td>\n",
       "      <td>519.559362</td>\n",
       "      <td>2.472418</td>\n",
       "      <td>516.460473</td>\n",
       "      <td>2.693775</td>\n",
       "    </tr>\n",
       "    <tr>\n",
       "      <th>4</th>\n",
       "      <td>Chile</td>\n",
       "      <td>NaN</td>\n",
       "      <td>NaN</td>\n",
       "      <td>NaN</td>\n",
       "      <td>NaN</td>\n",
       "      <td>NaN</td>\n",
       "      <td>NaN</td>\n",
       "      <td>NaN</td>\n",
       "      <td>NaN</td>\n",
       "      <td>426.488374</td>\n",
       "      <td>...</td>\n",
       "      <td>448.441062</td>\n",
       "      <td>3.659581</td>\n",
       "      <td>439.617404</td>\n",
       "      <td>2.673285</td>\n",
       "      <td>454.218618</td>\n",
       "      <td>3.098245</td>\n",
       "      <td>441.811226</td>\n",
       "      <td>2.635959</td>\n",
       "      <td>445.309586</td>\n",
       "      <td>3.163026</td>\n",
       "    </tr>\n",
       "    <tr>\n",
       "      <th>...</th>\n",
       "      <td>...</td>\n",
       "      <td>...</td>\n",
       "      <td>...</td>\n",
       "      <td>...</td>\n",
       "      <td>...</td>\n",
       "      <td>...</td>\n",
       "      <td>...</td>\n",
       "      <td>...</td>\n",
       "      <td>...</td>\n",
       "      <td>...</td>\n",
       "      <td>...</td>\n",
       "      <td>...</td>\n",
       "      <td>...</td>\n",
       "      <td>...</td>\n",
       "      <td>...</td>\n",
       "      <td>...</td>\n",
       "      <td>...</td>\n",
       "      <td>...</td>\n",
       "      <td>...</td>\n",
       "      <td>...</td>\n",
       "      <td>...</td>\n",
       "    </tr>\n",
       "    <tr>\n",
       "      <th>82</th>\n",
       "      <td>Tunisia</td>\n",
       "      <td>NaN</td>\n",
       "      <td>NaN</td>\n",
       "      <td>NaN</td>\n",
       "      <td>NaN</td>\n",
       "      <td>NaN</td>\n",
       "      <td>NaN</td>\n",
       "      <td>NaN</td>\n",
       "      <td>NaN</td>\n",
       "      <td>387.807363</td>\n",
       "      <td>...</td>\n",
       "      <td>398.586054</td>\n",
       "      <td>3.906495</td>\n",
       "      <td>384.615158</td>\n",
       "      <td>2.213308</td>\n",
       "      <td>388.473980</td>\n",
       "      <td>2.370611</td>\n",
       "      <td>NaN</td>\n",
       "      <td>NaN</td>\n",
       "      <td>NaN</td>\n",
       "      <td>NaN</td>\n",
       "    </tr>\n",
       "    <tr>\n",
       "      <th>83</th>\n",
       "      <td>Ukraine</td>\n",
       "      <td>NaN</td>\n",
       "      <td>NaN</td>\n",
       "      <td>NaN</td>\n",
       "      <td>NaN</td>\n",
       "      <td>NaN</td>\n",
       "      <td>NaN</td>\n",
       "      <td>NaN</td>\n",
       "      <td>NaN</td>\n",
       "      <td>NaN</td>\n",
       "      <td>...</td>\n",
       "      <td>NaN</td>\n",
       "      <td>NaN</td>\n",
       "      <td>NaN</td>\n",
       "      <td>NaN</td>\n",
       "      <td>NaN</td>\n",
       "      <td>NaN</td>\n",
       "      <td>468.071808</td>\n",
       "      <td>3.631536</td>\n",
       "      <td>469.812280</td>\n",
       "      <td>3.922305</td>\n",
       "    </tr>\n",
       "    <tr>\n",
       "      <th>84</th>\n",
       "      <td>United Arab Emirates</td>\n",
       "      <td>NaN</td>\n",
       "      <td>NaN</td>\n",
       "      <td>NaN</td>\n",
       "      <td>NaN</td>\n",
       "      <td>NaN</td>\n",
       "      <td>NaN</td>\n",
       "      <td>NaN</td>\n",
       "      <td>NaN</td>\n",
       "      <td>NaN</td>\n",
       "      <td>...</td>\n",
       "      <td>434.132034</td>\n",
       "      <td>4.055562</td>\n",
       "      <td>449.338559</td>\n",
       "      <td>3.019174</td>\n",
       "      <td>423.771051</td>\n",
       "      <td>3.403389</td>\n",
       "      <td>446.521267</td>\n",
       "      <td>2.761204</td>\n",
       "      <td>420.396378</td>\n",
       "      <td>2.148765</td>\n",
       "    </tr>\n",
       "    <tr>\n",
       "      <th>85</th>\n",
       "      <td>Uruguay</td>\n",
       "      <td>NaN</td>\n",
       "      <td>NaN</td>\n",
       "      <td>NaN</td>\n",
       "      <td>NaN</td>\n",
       "      <td>NaN</td>\n",
       "      <td>NaN</td>\n",
       "      <td>NaN</td>\n",
       "      <td>NaN</td>\n",
       "      <td>429.601704</td>\n",
       "      <td>...</td>\n",
       "      <td>415.270966</td>\n",
       "      <td>3.437680</td>\n",
       "      <td>431.307664</td>\n",
       "      <td>2.168727</td>\n",
       "      <td>439.828514</td>\n",
       "      <td>3.105382</td>\n",
       "      <td>424.210612</td>\n",
       "      <td>2.719357</td>\n",
       "      <td>427.557845</td>\n",
       "      <td>3.154676</td>\n",
       "    </tr>\n",
       "    <tr>\n",
       "      <th>86</th>\n",
       "      <td>Viet Nam</td>\n",
       "      <td>NaN</td>\n",
       "      <td>NaN</td>\n",
       "      <td>NaN</td>\n",
       "      <td>NaN</td>\n",
       "      <td>NaN</td>\n",
       "      <td>NaN</td>\n",
       "      <td>NaN</td>\n",
       "      <td>NaN</td>\n",
       "      <td>NaN</td>\n",
       "      <td>...</td>\n",
       "      <td>528.976475</td>\n",
       "      <td>5.031562</td>\n",
       "      <td>525.913919</td>\n",
       "      <td>4.248302</td>\n",
       "      <td>523.314075</td>\n",
       "      <td>4.041114</td>\n",
       "      <td>NaN</td>\n",
       "      <td>NaN</td>\n",
       "      <td>NaN</td>\n",
       "      <td>NaN</td>\n",
       "    </tr>\n",
       "  </tbody>\n",
       "</table>\n",
       "<p>87 rows × 29 columns</p>\n",
       "</div>"
      ],
      "text/plain": [
       "               Countries  F2000  F_se_2000  M2000  M_se_2000  F2003  \\\n",
       "0              Australia    NaN        NaN    NaN        NaN    NaN   \n",
       "1                Austria    NaN        NaN    NaN        NaN    NaN   \n",
       "2                Belgium    NaN        NaN    NaN        NaN    NaN   \n",
       "3                 Canada    NaN        NaN    NaN        NaN    NaN   \n",
       "4                  Chile    NaN        NaN    NaN        NaN    NaN   \n",
       "..                   ...    ...        ...    ...        ...    ...   \n",
       "82               Tunisia    NaN        NaN    NaN        NaN    NaN   \n",
       "83               Ukraine    NaN        NaN    NaN        NaN    NaN   \n",
       "84  United Arab Emirates    NaN        NaN    NaN        NaN    NaN   \n",
       "85               Uruguay    NaN        NaN    NaN        NaN    NaN   \n",
       "86              Viet Nam    NaN        NaN    NaN        NaN    NaN   \n",
       "\n",
       "    F_se_2003  M2003  M_se_2003       F2006  ...       M2012  M_se_2012  \\\n",
       "0         NaN    NaN        NaN  526.855075  ...  523.728209   2.508216   \n",
       "1         NaN    NaN        NaN  507.001603  ...  510.108294   3.934708   \n",
       "2         NaN    NaN        NaN  509.971040  ...  506.820399   3.018334   \n",
       "3         NaN    NaN        NaN  532.422819  ...  526.850779   2.407290   \n",
       "4         NaN    NaN        NaN  426.488374  ...  448.441062   3.659581   \n",
       "..        ...    ...        ...         ...  ...         ...        ...   \n",
       "82        NaN    NaN        NaN  387.807363  ...  398.586054   3.906495   \n",
       "83        NaN    NaN        NaN         NaN  ...         NaN        NaN   \n",
       "84        NaN    NaN        NaN         NaN  ...  434.132034   4.055562   \n",
       "85        NaN    NaN        NaN  429.601704  ...  415.270966   3.437680   \n",
       "86        NaN    NaN        NaN         NaN  ...  528.976475   5.031562   \n",
       "\n",
       "         F2015  F_se_2015       M2015  M_se_2015       F2018  F_se_2018  \\\n",
       "0   508.921647   1.715724  511.049258   2.118247  502.168470   2.012291   \n",
       "1   485.526754   3.148127  504.371198   3.569450  488.628863   3.604731   \n",
       "2   496.031867   2.730095  507.780477   3.068145  496.370479   2.721623   \n",
       "3   527.156185   2.252454  528.254766   2.523945  519.559362   2.472418   \n",
       "4   439.617404   2.673285  454.218618   3.098245  441.811226   2.635959   \n",
       "..         ...        ...         ...        ...         ...        ...   \n",
       "82  384.615158   2.213308  388.473980   2.370611         NaN        NaN   \n",
       "83         NaN        NaN         NaN        NaN  468.071808   3.631536   \n",
       "84  449.338559   3.019174  423.771051   3.403389  446.521267   2.761204   \n",
       "85  431.307664   2.168727  439.828514   3.105382  424.210612   2.719357   \n",
       "86  525.913919   4.248302  523.314075   4.041114         NaN        NaN   \n",
       "\n",
       "         M2018  M_se_2018  \n",
       "0   503.734771   2.378592  \n",
       "1   490.897825   3.839951  \n",
       "2   501.190860   2.612456  \n",
       "3   516.460473   2.693775  \n",
       "4   445.309586   3.163026  \n",
       "..         ...        ...  \n",
       "82         NaN        NaN  \n",
       "83  469.812280   3.922305  \n",
       "84  420.396378   2.148765  \n",
       "85  427.557845   3.154676  \n",
       "86         NaN        NaN  \n",
       "\n",
       "[87 rows x 29 columns]"
      ]
     },
     "execution_count": 34,
     "metadata": {},
     "output_type": "execute_result"
    }
   ],
   "source": [
    "scig = scig.replace('—',np.nan,regex = True)\n",
    "scig = scig.replace('†',np.nan,regex = True)\n",
    "scig = scig.replace('‡',np.nan,regex = True)\n",
    "scig\n"
   ]
  },
  {
   "cell_type": "code",
   "execution_count": 35,
   "metadata": {},
   "outputs": [],
   "source": [
    "sci_F = scig[[\"Countries\",\"F2000\", \"F2003\",\"F2006\",\"F2009\",\"F2012\",\"F2015\",\"F2018\"]]\n",
    "sci_M = scig[[\"Countries\",\"M2000\", \"M2003\",\"M2006\",\"M2009\",\"M2012\",\"M2015\",\"M2018\"]]"
   ]
  },
  {
   "cell_type": "code",
   "execution_count": 36,
   "metadata": {},
   "outputs": [
    {
     "name": "stderr",
     "output_type": "stream",
     "text": [
      "/var/folders/hv/08dyyt957zq3n_n6kttfl_180000gn/T/ipykernel_28310/2745044403.py:1: SettingWithCopyWarning: \n",
      "A value is trying to be set on a copy of a slice from a DataFrame\n",
      "\n",
      "See the caveats in the documentation: https://pandas.pydata.org/pandas-docs/stable/user_guide/indexing.html#returning-a-view-versus-a-copy\n",
      "  sci_F.rename({'F2000': '2000', 'F2003': '2003', 'F2006': '2006', 'F2009': '2009', 'F2012': '2012','F2015': '2015','F2018': '2018'}, axis=1, inplace=True)\n",
      "/var/folders/hv/08dyyt957zq3n_n6kttfl_180000gn/T/ipykernel_28310/2745044403.py:2: SettingWithCopyWarning: \n",
      "A value is trying to be set on a copy of a slice from a DataFrame\n",
      "\n",
      "See the caveats in the documentation: https://pandas.pydata.org/pandas-docs/stable/user_guide/indexing.html#returning-a-view-versus-a-copy\n",
      "  sci_M.rename({'M2000': '2000', 'M2003': '2003', 'M2006': '2006', 'M2009': '2009', 'M2012': '2012','M2015': '2015','M2018': '2018'}, axis=1, inplace=True)\n"
     ]
    }
   ],
   "source": [
    "sci_F.rename({'F2000': '2000', 'F2003': '2003', 'F2006': '2006', 'F2009': '2009', 'F2012': '2012','F2015': '2015','F2018': '2018'}, axis=1, inplace=True)\n",
    "sci_M.rename({'M2000': '2000', 'M2003': '2003', 'M2006': '2006', 'M2009': '2009', 'M2012': '2012','M2015': '2015','M2018': '2018'}, axis=1, inplace=True)"
   ]
  },
  {
   "cell_type": "code",
   "execution_count": 37,
   "metadata": {},
   "outputs": [
    {
     "name": "stderr",
     "output_type": "stream",
     "text": [
      "/var/folders/hv/08dyyt957zq3n_n6kttfl_180000gn/T/ipykernel_28310/1434269734.py:7: FutureWarning: Setting the `book` attribute is not part of the public API, usage can give unexpected or corrupted results and will be removed in a future version\n",
      "  writer.book = ExcelWorkbook\n",
      "/var/folders/hv/08dyyt957zq3n_n6kttfl_180000gn/T/ipykernel_28310/1434269734.py:11: FutureWarning: save is not part of the public API, usage can give unexpected results and will be removed in a future version\n",
      "  writer.save()\n"
     ]
    }
   ],
   "source": [
    "from openpyxl import load_workbook\n",
    "\n",
    "ExcelWorkbook = load_workbook('../data_all/trend_gender.xlsx')\n",
    "\n",
    "writer = pd.ExcelWriter('../data_all/trend_gender.xlsx', engine = 'openpyxl')\n",
    "\n",
    "writer.book = ExcelWorkbook\n",
    "\n",
    "mathg.to_excel(writer, sheet_name = 'Math')\n",
    "scig.to_excel(writer, sheet_name = 'Science')\n",
    "writer.save()\n",
    "writer.close()"
   ]
  },
  {
   "cell_type": "code",
   "execution_count": 38,
   "metadata": {},
   "outputs": [],
   "source": [
    "import plotly.graph_objects as go"
   ]
  },
  {
   "cell_type": "code",
   "execution_count": 39,
   "metadata": {},
   "outputs": [],
   "source": [
    "reading_F2 = pd.melt(reading_F, id_vars=['Countries'], value_vars=['2000','2003','2006', '2009','2012','2015','2018'],   var_name='Year', value_name='avg', ignore_index=False)\n",
    "reading_M2 = pd.melt(reading_M, id_vars=['Countries'], value_vars=['2000','2003','2006', '2009','2012','2015','2018'],   var_name='Year', value_name='avg', ignore_index=False)\n",
    "math_F2 = pd.melt(math_F, id_vars=['Countries'], value_vars=['2000','2003','2006', '2009','2012','2015','2018'],   var_name='Year', value_name='avg', ignore_index=False)\n",
    "math_M2 = pd.melt(math_M, id_vars=['Countries'], value_vars=['2000','2003','2006', '2009','2012','2015','2018'],   var_name='Year', value_name='avg', ignore_index=False)\n",
    "sci_F2 = pd.melt(sci_F, id_vars=['Countries'], value_vars=['2000','2003','2006', '2009','2012','2015','2018'],   var_name='Year', value_name='avg', ignore_index=False)\n",
    "sci_M2 = pd.melt(sci_M, id_vars=['Countries'], value_vars=['2000','2003','2006', '2009','2012','2015','2018'],   var_name='Year', value_name='avg', ignore_index=False)"
   ]
  },
  {
   "cell_type": "code",
   "execution_count": 40,
   "metadata": {},
   "outputs": [
    {
     "name": "stderr",
     "output_type": "stream",
     "text": [
      "/var/folders/hv/08dyyt957zq3n_n6kttfl_180000gn/T/ipykernel_28310/1144298510.py:7: FutureWarning: The default value of numeric_only in DataFrameGroupBy.mean is deprecated. In a future version, numeric_only will default to False. Either specify numeric_only or select only columns which should be valid for the function.\n",
      "  reading_F_year.append(reading_F2.groupby('Year').mean()['avg'][i])\n",
      "/var/folders/hv/08dyyt957zq3n_n6kttfl_180000gn/T/ipykernel_28310/1144298510.py:8: FutureWarning: The default value of numeric_only in DataFrameGroupBy.mean is deprecated. In a future version, numeric_only will default to False. Either specify numeric_only or select only columns which should be valid for the function.\n",
      "  reading_M_year.append(reading_M2.groupby('Year').mean()['avg'][i])\n",
      "/var/folders/hv/08dyyt957zq3n_n6kttfl_180000gn/T/ipykernel_28310/1144298510.py:7: FutureWarning: The default value of numeric_only in DataFrameGroupBy.mean is deprecated. In a future version, numeric_only will default to False. Either specify numeric_only or select only columns which should be valid for the function.\n",
      "  reading_F_year.append(reading_F2.groupby('Year').mean()['avg'][i])\n",
      "/var/folders/hv/08dyyt957zq3n_n6kttfl_180000gn/T/ipykernel_28310/1144298510.py:8: FutureWarning: The default value of numeric_only in DataFrameGroupBy.mean is deprecated. In a future version, numeric_only will default to False. Either specify numeric_only or select only columns which should be valid for the function.\n",
      "  reading_M_year.append(reading_M2.groupby('Year').mean()['avg'][i])\n",
      "/var/folders/hv/08dyyt957zq3n_n6kttfl_180000gn/T/ipykernel_28310/1144298510.py:7: FutureWarning: The default value of numeric_only in DataFrameGroupBy.mean is deprecated. In a future version, numeric_only will default to False. Either specify numeric_only or select only columns which should be valid for the function.\n",
      "  reading_F_year.append(reading_F2.groupby('Year').mean()['avg'][i])\n",
      "/var/folders/hv/08dyyt957zq3n_n6kttfl_180000gn/T/ipykernel_28310/1144298510.py:8: FutureWarning: The default value of numeric_only in DataFrameGroupBy.mean is deprecated. In a future version, numeric_only will default to False. Either specify numeric_only or select only columns which should be valid for the function.\n",
      "  reading_M_year.append(reading_M2.groupby('Year').mean()['avg'][i])\n",
      "/var/folders/hv/08dyyt957zq3n_n6kttfl_180000gn/T/ipykernel_28310/1144298510.py:7: FutureWarning: The default value of numeric_only in DataFrameGroupBy.mean is deprecated. In a future version, numeric_only will default to False. Either specify numeric_only or select only columns which should be valid for the function.\n",
      "  reading_F_year.append(reading_F2.groupby('Year').mean()['avg'][i])\n",
      "/var/folders/hv/08dyyt957zq3n_n6kttfl_180000gn/T/ipykernel_28310/1144298510.py:8: FutureWarning: The default value of numeric_only in DataFrameGroupBy.mean is deprecated. In a future version, numeric_only will default to False. Either specify numeric_only or select only columns which should be valid for the function.\n",
      "  reading_M_year.append(reading_M2.groupby('Year').mean()['avg'][i])\n",
      "/var/folders/hv/08dyyt957zq3n_n6kttfl_180000gn/T/ipykernel_28310/1144298510.py:7: FutureWarning: The default value of numeric_only in DataFrameGroupBy.mean is deprecated. In a future version, numeric_only will default to False. Either specify numeric_only or select only columns which should be valid for the function.\n",
      "  reading_F_year.append(reading_F2.groupby('Year').mean()['avg'][i])\n",
      "/var/folders/hv/08dyyt957zq3n_n6kttfl_180000gn/T/ipykernel_28310/1144298510.py:8: FutureWarning: The default value of numeric_only in DataFrameGroupBy.mean is deprecated. In a future version, numeric_only will default to False. Either specify numeric_only or select only columns which should be valid for the function.\n",
      "  reading_M_year.append(reading_M2.groupby('Year').mean()['avg'][i])\n",
      "/var/folders/hv/08dyyt957zq3n_n6kttfl_180000gn/T/ipykernel_28310/1144298510.py:7: FutureWarning: The default value of numeric_only in DataFrameGroupBy.mean is deprecated. In a future version, numeric_only will default to False. Either specify numeric_only or select only columns which should be valid for the function.\n",
      "  reading_F_year.append(reading_F2.groupby('Year').mean()['avg'][i])\n",
      "/var/folders/hv/08dyyt957zq3n_n6kttfl_180000gn/T/ipykernel_28310/1144298510.py:8: FutureWarning: The default value of numeric_only in DataFrameGroupBy.mean is deprecated. In a future version, numeric_only will default to False. Either specify numeric_only or select only columns which should be valid for the function.\n",
      "  reading_M_year.append(reading_M2.groupby('Year').mean()['avg'][i])\n",
      "/var/folders/hv/08dyyt957zq3n_n6kttfl_180000gn/T/ipykernel_28310/1144298510.py:7: FutureWarning: The default value of numeric_only in DataFrameGroupBy.mean is deprecated. In a future version, numeric_only will default to False. Either specify numeric_only or select only columns which should be valid for the function.\n",
      "  reading_F_year.append(reading_F2.groupby('Year').mean()['avg'][i])\n",
      "/var/folders/hv/08dyyt957zq3n_n6kttfl_180000gn/T/ipykernel_28310/1144298510.py:8: FutureWarning: The default value of numeric_only in DataFrameGroupBy.mean is deprecated. In a future version, numeric_only will default to False. Either specify numeric_only or select only columns which should be valid for the function.\n",
      "  reading_M_year.append(reading_M2.groupby('Year').mean()['avg'][i])\n"
     ]
    },
    {
     "data": {
      "application/vnd.plotly.v1+json": {
       "config": {
        "plotlyServerURL": "https://plot.ly"
       },
       "data": [
        {
         "mode": "lines+markers",
         "name": "Female",
         "type": "scatter",
         "x": [
          "2000",
          "2003",
          "2006",
          "2009",
          "2012",
          "2015",
          "2018"
         ],
         "y": [
          487.3391566930296,
          498.41389394271926,
          484.9998074218975,
          488.86214787091325,
          491.86790767264733,
          474.9396210346838,
          468.6584180917502
         ]
        },
        {
         "mode": "lines+markers",
         "name": "Male",
         "type": "scatter",
         "x": [
          "2000",
          "2003",
          "2006",
          "2009",
          "2012",
          "2015",
          "2018"
         ],
         "y": [
          455.25349809408397,
          464.61167947501326,
          445.3386045179131,
          448.5776895936627,
          452.44891319262024,
          445.0530406612176,
          437.8537040862251
         ]
        }
       ],
       "layout": {
        "template": {
         "data": {
          "bar": [
           {
            "error_x": {
             "color": "#2a3f5f"
            },
            "error_y": {
             "color": "#2a3f5f"
            },
            "marker": {
             "line": {
              "color": "#E5ECF6",
              "width": 0.5
             },
             "pattern": {
              "fillmode": "overlay",
              "size": 10,
              "solidity": 0.2
             }
            },
            "type": "bar"
           }
          ],
          "barpolar": [
           {
            "marker": {
             "line": {
              "color": "#E5ECF6",
              "width": 0.5
             },
             "pattern": {
              "fillmode": "overlay",
              "size": 10,
              "solidity": 0.2
             }
            },
            "type": "barpolar"
           }
          ],
          "carpet": [
           {
            "aaxis": {
             "endlinecolor": "#2a3f5f",
             "gridcolor": "white",
             "linecolor": "white",
             "minorgridcolor": "white",
             "startlinecolor": "#2a3f5f"
            },
            "baxis": {
             "endlinecolor": "#2a3f5f",
             "gridcolor": "white",
             "linecolor": "white",
             "minorgridcolor": "white",
             "startlinecolor": "#2a3f5f"
            },
            "type": "carpet"
           }
          ],
          "choropleth": [
           {
            "colorbar": {
             "outlinewidth": 0,
             "ticks": ""
            },
            "type": "choropleth"
           }
          ],
          "contour": [
           {
            "colorbar": {
             "outlinewidth": 0,
             "ticks": ""
            },
            "colorscale": [
             [
              0,
              "#0d0887"
             ],
             [
              0.1111111111111111,
              "#46039f"
             ],
             [
              0.2222222222222222,
              "#7201a8"
             ],
             [
              0.3333333333333333,
              "#9c179e"
             ],
             [
              0.4444444444444444,
              "#bd3786"
             ],
             [
              0.5555555555555556,
              "#d8576b"
             ],
             [
              0.6666666666666666,
              "#ed7953"
             ],
             [
              0.7777777777777778,
              "#fb9f3a"
             ],
             [
              0.8888888888888888,
              "#fdca26"
             ],
             [
              1,
              "#f0f921"
             ]
            ],
            "type": "contour"
           }
          ],
          "contourcarpet": [
           {
            "colorbar": {
             "outlinewidth": 0,
             "ticks": ""
            },
            "type": "contourcarpet"
           }
          ],
          "heatmap": [
           {
            "colorbar": {
             "outlinewidth": 0,
             "ticks": ""
            },
            "colorscale": [
             [
              0,
              "#0d0887"
             ],
             [
              0.1111111111111111,
              "#46039f"
             ],
             [
              0.2222222222222222,
              "#7201a8"
             ],
             [
              0.3333333333333333,
              "#9c179e"
             ],
             [
              0.4444444444444444,
              "#bd3786"
             ],
             [
              0.5555555555555556,
              "#d8576b"
             ],
             [
              0.6666666666666666,
              "#ed7953"
             ],
             [
              0.7777777777777778,
              "#fb9f3a"
             ],
             [
              0.8888888888888888,
              "#fdca26"
             ],
             [
              1,
              "#f0f921"
             ]
            ],
            "type": "heatmap"
           }
          ],
          "heatmapgl": [
           {
            "colorbar": {
             "outlinewidth": 0,
             "ticks": ""
            },
            "colorscale": [
             [
              0,
              "#0d0887"
             ],
             [
              0.1111111111111111,
              "#46039f"
             ],
             [
              0.2222222222222222,
              "#7201a8"
             ],
             [
              0.3333333333333333,
              "#9c179e"
             ],
             [
              0.4444444444444444,
              "#bd3786"
             ],
             [
              0.5555555555555556,
              "#d8576b"
             ],
             [
              0.6666666666666666,
              "#ed7953"
             ],
             [
              0.7777777777777778,
              "#fb9f3a"
             ],
             [
              0.8888888888888888,
              "#fdca26"
             ],
             [
              1,
              "#f0f921"
             ]
            ],
            "type": "heatmapgl"
           }
          ],
          "histogram": [
           {
            "marker": {
             "pattern": {
              "fillmode": "overlay",
              "size": 10,
              "solidity": 0.2
             }
            },
            "type": "histogram"
           }
          ],
          "histogram2d": [
           {
            "colorbar": {
             "outlinewidth": 0,
             "ticks": ""
            },
            "colorscale": [
             [
              0,
              "#0d0887"
             ],
             [
              0.1111111111111111,
              "#46039f"
             ],
             [
              0.2222222222222222,
              "#7201a8"
             ],
             [
              0.3333333333333333,
              "#9c179e"
             ],
             [
              0.4444444444444444,
              "#bd3786"
             ],
             [
              0.5555555555555556,
              "#d8576b"
             ],
             [
              0.6666666666666666,
              "#ed7953"
             ],
             [
              0.7777777777777778,
              "#fb9f3a"
             ],
             [
              0.8888888888888888,
              "#fdca26"
             ],
             [
              1,
              "#f0f921"
             ]
            ],
            "type": "histogram2d"
           }
          ],
          "histogram2dcontour": [
           {
            "colorbar": {
             "outlinewidth": 0,
             "ticks": ""
            },
            "colorscale": [
             [
              0,
              "#0d0887"
             ],
             [
              0.1111111111111111,
              "#46039f"
             ],
             [
              0.2222222222222222,
              "#7201a8"
             ],
             [
              0.3333333333333333,
              "#9c179e"
             ],
             [
              0.4444444444444444,
              "#bd3786"
             ],
             [
              0.5555555555555556,
              "#d8576b"
             ],
             [
              0.6666666666666666,
              "#ed7953"
             ],
             [
              0.7777777777777778,
              "#fb9f3a"
             ],
             [
              0.8888888888888888,
              "#fdca26"
             ],
             [
              1,
              "#f0f921"
             ]
            ],
            "type": "histogram2dcontour"
           }
          ],
          "mesh3d": [
           {
            "colorbar": {
             "outlinewidth": 0,
             "ticks": ""
            },
            "type": "mesh3d"
           }
          ],
          "parcoords": [
           {
            "line": {
             "colorbar": {
              "outlinewidth": 0,
              "ticks": ""
             }
            },
            "type": "parcoords"
           }
          ],
          "pie": [
           {
            "automargin": true,
            "type": "pie"
           }
          ],
          "scatter": [
           {
            "fillpattern": {
             "fillmode": "overlay",
             "size": 10,
             "solidity": 0.2
            },
            "type": "scatter"
           }
          ],
          "scatter3d": [
           {
            "line": {
             "colorbar": {
              "outlinewidth": 0,
              "ticks": ""
             }
            },
            "marker": {
             "colorbar": {
              "outlinewidth": 0,
              "ticks": ""
             }
            },
            "type": "scatter3d"
           }
          ],
          "scattercarpet": [
           {
            "marker": {
             "colorbar": {
              "outlinewidth": 0,
              "ticks": ""
             }
            },
            "type": "scattercarpet"
           }
          ],
          "scattergeo": [
           {
            "marker": {
             "colorbar": {
              "outlinewidth": 0,
              "ticks": ""
             }
            },
            "type": "scattergeo"
           }
          ],
          "scattergl": [
           {
            "marker": {
             "colorbar": {
              "outlinewidth": 0,
              "ticks": ""
             }
            },
            "type": "scattergl"
           }
          ],
          "scattermapbox": [
           {
            "marker": {
             "colorbar": {
              "outlinewidth": 0,
              "ticks": ""
             }
            },
            "type": "scattermapbox"
           }
          ],
          "scatterpolar": [
           {
            "marker": {
             "colorbar": {
              "outlinewidth": 0,
              "ticks": ""
             }
            },
            "type": "scatterpolar"
           }
          ],
          "scatterpolargl": [
           {
            "marker": {
             "colorbar": {
              "outlinewidth": 0,
              "ticks": ""
             }
            },
            "type": "scatterpolargl"
           }
          ],
          "scatterternary": [
           {
            "marker": {
             "colorbar": {
              "outlinewidth": 0,
              "ticks": ""
             }
            },
            "type": "scatterternary"
           }
          ],
          "surface": [
           {
            "colorbar": {
             "outlinewidth": 0,
             "ticks": ""
            },
            "colorscale": [
             [
              0,
              "#0d0887"
             ],
             [
              0.1111111111111111,
              "#46039f"
             ],
             [
              0.2222222222222222,
              "#7201a8"
             ],
             [
              0.3333333333333333,
              "#9c179e"
             ],
             [
              0.4444444444444444,
              "#bd3786"
             ],
             [
              0.5555555555555556,
              "#d8576b"
             ],
             [
              0.6666666666666666,
              "#ed7953"
             ],
             [
              0.7777777777777778,
              "#fb9f3a"
             ],
             [
              0.8888888888888888,
              "#fdca26"
             ],
             [
              1,
              "#f0f921"
             ]
            ],
            "type": "surface"
           }
          ],
          "table": [
           {
            "cells": {
             "fill": {
              "color": "#EBF0F8"
             },
             "line": {
              "color": "white"
             }
            },
            "header": {
             "fill": {
              "color": "#C8D4E3"
             },
             "line": {
              "color": "white"
             }
            },
            "type": "table"
           }
          ]
         },
         "layout": {
          "annotationdefaults": {
           "arrowcolor": "#2a3f5f",
           "arrowhead": 0,
           "arrowwidth": 1
          },
          "autotypenumbers": "strict",
          "coloraxis": {
           "colorbar": {
            "outlinewidth": 0,
            "ticks": ""
           }
          },
          "colorscale": {
           "diverging": [
            [
             0,
             "#8e0152"
            ],
            [
             0.1,
             "#c51b7d"
            ],
            [
             0.2,
             "#de77ae"
            ],
            [
             0.3,
             "#f1b6da"
            ],
            [
             0.4,
             "#fde0ef"
            ],
            [
             0.5,
             "#f7f7f7"
            ],
            [
             0.6,
             "#e6f5d0"
            ],
            [
             0.7,
             "#b8e186"
            ],
            [
             0.8,
             "#7fbc41"
            ],
            [
             0.9,
             "#4d9221"
            ],
            [
             1,
             "#276419"
            ]
           ],
           "sequential": [
            [
             0,
             "#0d0887"
            ],
            [
             0.1111111111111111,
             "#46039f"
            ],
            [
             0.2222222222222222,
             "#7201a8"
            ],
            [
             0.3333333333333333,
             "#9c179e"
            ],
            [
             0.4444444444444444,
             "#bd3786"
            ],
            [
             0.5555555555555556,
             "#d8576b"
            ],
            [
             0.6666666666666666,
             "#ed7953"
            ],
            [
             0.7777777777777778,
             "#fb9f3a"
            ],
            [
             0.8888888888888888,
             "#fdca26"
            ],
            [
             1,
             "#f0f921"
            ]
           ],
           "sequentialminus": [
            [
             0,
             "#0d0887"
            ],
            [
             0.1111111111111111,
             "#46039f"
            ],
            [
             0.2222222222222222,
             "#7201a8"
            ],
            [
             0.3333333333333333,
             "#9c179e"
            ],
            [
             0.4444444444444444,
             "#bd3786"
            ],
            [
             0.5555555555555556,
             "#d8576b"
            ],
            [
             0.6666666666666666,
             "#ed7953"
            ],
            [
             0.7777777777777778,
             "#fb9f3a"
            ],
            [
             0.8888888888888888,
             "#fdca26"
            ],
            [
             1,
             "#f0f921"
            ]
           ]
          },
          "colorway": [
           "#636efa",
           "#EF553B",
           "#00cc96",
           "#ab63fa",
           "#FFA15A",
           "#19d3f3",
           "#FF6692",
           "#B6E880",
           "#FF97FF",
           "#FECB52"
          ],
          "font": {
           "color": "#2a3f5f"
          },
          "geo": {
           "bgcolor": "white",
           "lakecolor": "white",
           "landcolor": "#E5ECF6",
           "showlakes": true,
           "showland": true,
           "subunitcolor": "white"
          },
          "hoverlabel": {
           "align": "left"
          },
          "hovermode": "closest",
          "mapbox": {
           "style": "light"
          },
          "paper_bgcolor": "white",
          "plot_bgcolor": "#E5ECF6",
          "polar": {
           "angularaxis": {
            "gridcolor": "white",
            "linecolor": "white",
            "ticks": ""
           },
           "bgcolor": "#E5ECF6",
           "radialaxis": {
            "gridcolor": "white",
            "linecolor": "white",
            "ticks": ""
           }
          },
          "scene": {
           "xaxis": {
            "backgroundcolor": "#E5ECF6",
            "gridcolor": "white",
            "gridwidth": 2,
            "linecolor": "white",
            "showbackground": true,
            "ticks": "",
            "zerolinecolor": "white"
           },
           "yaxis": {
            "backgroundcolor": "#E5ECF6",
            "gridcolor": "white",
            "gridwidth": 2,
            "linecolor": "white",
            "showbackground": true,
            "ticks": "",
            "zerolinecolor": "white"
           },
           "zaxis": {
            "backgroundcolor": "#E5ECF6",
            "gridcolor": "white",
            "gridwidth": 2,
            "linecolor": "white",
            "showbackground": true,
            "ticks": "",
            "zerolinecolor": "white"
           }
          },
          "shapedefaults": {
           "line": {
            "color": "#2a3f5f"
           }
          },
          "ternary": {
           "aaxis": {
            "gridcolor": "white",
            "linecolor": "white",
            "ticks": ""
           },
           "baxis": {
            "gridcolor": "white",
            "linecolor": "white",
            "ticks": ""
           },
           "bgcolor": "#E5ECF6",
           "caxis": {
            "gridcolor": "white",
            "linecolor": "white",
            "ticks": ""
           }
          },
          "title": {
           "x": 0.05
          },
          "xaxis": {
           "automargin": true,
           "gridcolor": "white",
           "linecolor": "white",
           "ticks": "",
           "title": {
            "standoff": 15
           },
           "zerolinecolor": "white",
           "zerolinewidth": 2
          },
          "yaxis": {
           "automargin": true,
           "gridcolor": "white",
           "linecolor": "white",
           "ticks": "",
           "title": {
            "standoff": 15
           },
           "zerolinecolor": "white",
           "zerolinewidth": 2
          }
         }
        },
        "title": {
         "text": "The reading average difference among male and female"
        },
        "xaxis": {
         "title": {
          "text": "Year"
         }
        },
        "yaxis": {
         "title": {
          "text": "Average Scores"
         }
        }
       }
      }
     },
     "metadata": {},
     "output_type": "display_data"
    }
   ],
   "source": [
    "reading_F_year = []\n",
    "reading_M_year = []\n",
    "\n",
    "#year_go = sci_avg2.loc['Year'].unique().tolist()\n",
    "\n",
    "for i in range(7):\n",
    "    reading_F_year.append(reading_F2.groupby('Year').mean()['avg'][i])\n",
    "    reading_M_year.append(reading_M2.groupby('Year').mean()['avg'][i])\n",
    "\n",
    "\n",
    "fig = go.Figure()\n",
    "fig.add_trace(go.Scatter(x=reading_F2['Year'].unique().tolist(), y=reading_F_year,\n",
    "                mode='lines+markers',\n",
    "                name='Female'))\n",
    "\n",
    "fig.add_trace(go.Scatter(x=reading_F2['Year'].unique().tolist(), y=reading_M_year,\n",
    "                mode='lines+markers',\n",
    "                name='Male'))\n",
    "\n",
    "fig.update_layout(title='The reading average difference among male and female',\n",
    "                   xaxis_title='Year',\n",
    "                   yaxis_title='Average Scores')\n",
    "\n",
    "fig.show()\n",
    "\n",
    "fig.write_html(\"gender_reading.html\")"
   ]
  },
  {
   "cell_type": "code",
   "execution_count": 41,
   "metadata": {},
   "outputs": [
    {
     "name": "stderr",
     "output_type": "stream",
     "text": [
      "/var/folders/hv/08dyyt957zq3n_n6kttfl_180000gn/T/ipykernel_28310/4255540569.py:7: FutureWarning:\n",
      "\n",
      "The default value of numeric_only in DataFrameGroupBy.mean is deprecated. In a future version, numeric_only will default to False. Either specify numeric_only or select only columns which should be valid for the function.\n",
      "\n",
      "/var/folders/hv/08dyyt957zq3n_n6kttfl_180000gn/T/ipykernel_28310/4255540569.py:8: FutureWarning:\n",
      "\n",
      "The default value of numeric_only in DataFrameGroupBy.mean is deprecated. In a future version, numeric_only will default to False. Either specify numeric_only or select only columns which should be valid for the function.\n",
      "\n",
      "/var/folders/hv/08dyyt957zq3n_n6kttfl_180000gn/T/ipykernel_28310/4255540569.py:7: FutureWarning:\n",
      "\n",
      "The default value of numeric_only in DataFrameGroupBy.mean is deprecated. In a future version, numeric_only will default to False. Either specify numeric_only or select only columns which should be valid for the function.\n",
      "\n",
      "/var/folders/hv/08dyyt957zq3n_n6kttfl_180000gn/T/ipykernel_28310/4255540569.py:8: FutureWarning:\n",
      "\n",
      "The default value of numeric_only in DataFrameGroupBy.mean is deprecated. In a future version, numeric_only will default to False. Either specify numeric_only or select only columns which should be valid for the function.\n",
      "\n",
      "/var/folders/hv/08dyyt957zq3n_n6kttfl_180000gn/T/ipykernel_28310/4255540569.py:7: FutureWarning:\n",
      "\n",
      "The default value of numeric_only in DataFrameGroupBy.mean is deprecated. In a future version, numeric_only will default to False. Either specify numeric_only or select only columns which should be valid for the function.\n",
      "\n",
      "/var/folders/hv/08dyyt957zq3n_n6kttfl_180000gn/T/ipykernel_28310/4255540569.py:8: FutureWarning:\n",
      "\n",
      "The default value of numeric_only in DataFrameGroupBy.mean is deprecated. In a future version, numeric_only will default to False. Either specify numeric_only or select only columns which should be valid for the function.\n",
      "\n",
      "/var/folders/hv/08dyyt957zq3n_n6kttfl_180000gn/T/ipykernel_28310/4255540569.py:7: FutureWarning:\n",
      "\n",
      "The default value of numeric_only in DataFrameGroupBy.mean is deprecated. In a future version, numeric_only will default to False. Either specify numeric_only or select only columns which should be valid for the function.\n",
      "\n",
      "/var/folders/hv/08dyyt957zq3n_n6kttfl_180000gn/T/ipykernel_28310/4255540569.py:8: FutureWarning:\n",
      "\n",
      "The default value of numeric_only in DataFrameGroupBy.mean is deprecated. In a future version, numeric_only will default to False. Either specify numeric_only or select only columns which should be valid for the function.\n",
      "\n",
      "/var/folders/hv/08dyyt957zq3n_n6kttfl_180000gn/T/ipykernel_28310/4255540569.py:7: FutureWarning:\n",
      "\n",
      "The default value of numeric_only in DataFrameGroupBy.mean is deprecated. In a future version, numeric_only will default to False. Either specify numeric_only or select only columns which should be valid for the function.\n",
      "\n",
      "/var/folders/hv/08dyyt957zq3n_n6kttfl_180000gn/T/ipykernel_28310/4255540569.py:8: FutureWarning:\n",
      "\n",
      "The default value of numeric_only in DataFrameGroupBy.mean is deprecated. In a future version, numeric_only will default to False. Either specify numeric_only or select only columns which should be valid for the function.\n",
      "\n",
      "/var/folders/hv/08dyyt957zq3n_n6kttfl_180000gn/T/ipykernel_28310/4255540569.py:7: FutureWarning:\n",
      "\n",
      "The default value of numeric_only in DataFrameGroupBy.mean is deprecated. In a future version, numeric_only will default to False. Either specify numeric_only or select only columns which should be valid for the function.\n",
      "\n",
      "/var/folders/hv/08dyyt957zq3n_n6kttfl_180000gn/T/ipykernel_28310/4255540569.py:8: FutureWarning:\n",
      "\n",
      "The default value of numeric_only in DataFrameGroupBy.mean is deprecated. In a future version, numeric_only will default to False. Either specify numeric_only or select only columns which should be valid for the function.\n",
      "\n",
      "/var/folders/hv/08dyyt957zq3n_n6kttfl_180000gn/T/ipykernel_28310/4255540569.py:7: FutureWarning:\n",
      "\n",
      "The default value of numeric_only in DataFrameGroupBy.mean is deprecated. In a future version, numeric_only will default to False. Either specify numeric_only or select only columns which should be valid for the function.\n",
      "\n",
      "/var/folders/hv/08dyyt957zq3n_n6kttfl_180000gn/T/ipykernel_28310/4255540569.py:8: FutureWarning:\n",
      "\n",
      "The default value of numeric_only in DataFrameGroupBy.mean is deprecated. In a future version, numeric_only will default to False. Either specify numeric_only or select only columns which should be valid for the function.\n",
      "\n"
     ]
    },
    {
     "data": {
      "application/vnd.plotly.v1+json": {
       "config": {
        "plotlyServerURL": "https://plot.ly"
       },
       "data": [
        {
         "mode": "lines+markers",
         "name": "Female",
         "type": "scatter",
         "x": [
          "2000",
          "2003",
          "2006",
          "2009",
          "2012",
          "2015",
          "2018"
         ],
         "y": [
          null,
          480.753600444075,
          466.457045403151,
          465.18132892700174,
          466.6096981609147,
          458.62727905272993,
          457.40417005641706
         ]
        },
        {
         "mode": "lines+markers",
         "name": "Male",
         "type": "scatter",
         "x": [
          "2000",
          "2003",
          "2006",
          "2009",
          "2012",
          "2015",
          "2018"
         ],
         "y": [
          null,
          490.82599314016363,
          476.52304069870894,
          474.22270102845357,
          474.2637338240017,
          462.8542733223782,
          459.90166844580733
         ]
        }
       ],
       "layout": {
        "template": {
         "data": {
          "bar": [
           {
            "error_x": {
             "color": "#2a3f5f"
            },
            "error_y": {
             "color": "#2a3f5f"
            },
            "marker": {
             "line": {
              "color": "#E5ECF6",
              "width": 0.5
             },
             "pattern": {
              "fillmode": "overlay",
              "size": 10,
              "solidity": 0.2
             }
            },
            "type": "bar"
           }
          ],
          "barpolar": [
           {
            "marker": {
             "line": {
              "color": "#E5ECF6",
              "width": 0.5
             },
             "pattern": {
              "fillmode": "overlay",
              "size": 10,
              "solidity": 0.2
             }
            },
            "type": "barpolar"
           }
          ],
          "carpet": [
           {
            "aaxis": {
             "endlinecolor": "#2a3f5f",
             "gridcolor": "white",
             "linecolor": "white",
             "minorgridcolor": "white",
             "startlinecolor": "#2a3f5f"
            },
            "baxis": {
             "endlinecolor": "#2a3f5f",
             "gridcolor": "white",
             "linecolor": "white",
             "minorgridcolor": "white",
             "startlinecolor": "#2a3f5f"
            },
            "type": "carpet"
           }
          ],
          "choropleth": [
           {
            "colorbar": {
             "outlinewidth": 0,
             "ticks": ""
            },
            "type": "choropleth"
           }
          ],
          "contour": [
           {
            "colorbar": {
             "outlinewidth": 0,
             "ticks": ""
            },
            "colorscale": [
             [
              0,
              "#0d0887"
             ],
             [
              0.1111111111111111,
              "#46039f"
             ],
             [
              0.2222222222222222,
              "#7201a8"
             ],
             [
              0.3333333333333333,
              "#9c179e"
             ],
             [
              0.4444444444444444,
              "#bd3786"
             ],
             [
              0.5555555555555556,
              "#d8576b"
             ],
             [
              0.6666666666666666,
              "#ed7953"
             ],
             [
              0.7777777777777778,
              "#fb9f3a"
             ],
             [
              0.8888888888888888,
              "#fdca26"
             ],
             [
              1,
              "#f0f921"
             ]
            ],
            "type": "contour"
           }
          ],
          "contourcarpet": [
           {
            "colorbar": {
             "outlinewidth": 0,
             "ticks": ""
            },
            "type": "contourcarpet"
           }
          ],
          "heatmap": [
           {
            "colorbar": {
             "outlinewidth": 0,
             "ticks": ""
            },
            "colorscale": [
             [
              0,
              "#0d0887"
             ],
             [
              0.1111111111111111,
              "#46039f"
             ],
             [
              0.2222222222222222,
              "#7201a8"
             ],
             [
              0.3333333333333333,
              "#9c179e"
             ],
             [
              0.4444444444444444,
              "#bd3786"
             ],
             [
              0.5555555555555556,
              "#d8576b"
             ],
             [
              0.6666666666666666,
              "#ed7953"
             ],
             [
              0.7777777777777778,
              "#fb9f3a"
             ],
             [
              0.8888888888888888,
              "#fdca26"
             ],
             [
              1,
              "#f0f921"
             ]
            ],
            "type": "heatmap"
           }
          ],
          "heatmapgl": [
           {
            "colorbar": {
             "outlinewidth": 0,
             "ticks": ""
            },
            "colorscale": [
             [
              0,
              "#0d0887"
             ],
             [
              0.1111111111111111,
              "#46039f"
             ],
             [
              0.2222222222222222,
              "#7201a8"
             ],
             [
              0.3333333333333333,
              "#9c179e"
             ],
             [
              0.4444444444444444,
              "#bd3786"
             ],
             [
              0.5555555555555556,
              "#d8576b"
             ],
             [
              0.6666666666666666,
              "#ed7953"
             ],
             [
              0.7777777777777778,
              "#fb9f3a"
             ],
             [
              0.8888888888888888,
              "#fdca26"
             ],
             [
              1,
              "#f0f921"
             ]
            ],
            "type": "heatmapgl"
           }
          ],
          "histogram": [
           {
            "marker": {
             "pattern": {
              "fillmode": "overlay",
              "size": 10,
              "solidity": 0.2
             }
            },
            "type": "histogram"
           }
          ],
          "histogram2d": [
           {
            "colorbar": {
             "outlinewidth": 0,
             "ticks": ""
            },
            "colorscale": [
             [
              0,
              "#0d0887"
             ],
             [
              0.1111111111111111,
              "#46039f"
             ],
             [
              0.2222222222222222,
              "#7201a8"
             ],
             [
              0.3333333333333333,
              "#9c179e"
             ],
             [
              0.4444444444444444,
              "#bd3786"
             ],
             [
              0.5555555555555556,
              "#d8576b"
             ],
             [
              0.6666666666666666,
              "#ed7953"
             ],
             [
              0.7777777777777778,
              "#fb9f3a"
             ],
             [
              0.8888888888888888,
              "#fdca26"
             ],
             [
              1,
              "#f0f921"
             ]
            ],
            "type": "histogram2d"
           }
          ],
          "histogram2dcontour": [
           {
            "colorbar": {
             "outlinewidth": 0,
             "ticks": ""
            },
            "colorscale": [
             [
              0,
              "#0d0887"
             ],
             [
              0.1111111111111111,
              "#46039f"
             ],
             [
              0.2222222222222222,
              "#7201a8"
             ],
             [
              0.3333333333333333,
              "#9c179e"
             ],
             [
              0.4444444444444444,
              "#bd3786"
             ],
             [
              0.5555555555555556,
              "#d8576b"
             ],
             [
              0.6666666666666666,
              "#ed7953"
             ],
             [
              0.7777777777777778,
              "#fb9f3a"
             ],
             [
              0.8888888888888888,
              "#fdca26"
             ],
             [
              1,
              "#f0f921"
             ]
            ],
            "type": "histogram2dcontour"
           }
          ],
          "mesh3d": [
           {
            "colorbar": {
             "outlinewidth": 0,
             "ticks": ""
            },
            "type": "mesh3d"
           }
          ],
          "parcoords": [
           {
            "line": {
             "colorbar": {
              "outlinewidth": 0,
              "ticks": ""
             }
            },
            "type": "parcoords"
           }
          ],
          "pie": [
           {
            "automargin": true,
            "type": "pie"
           }
          ],
          "scatter": [
           {
            "fillpattern": {
             "fillmode": "overlay",
             "size": 10,
             "solidity": 0.2
            },
            "type": "scatter"
           }
          ],
          "scatter3d": [
           {
            "line": {
             "colorbar": {
              "outlinewidth": 0,
              "ticks": ""
             }
            },
            "marker": {
             "colorbar": {
              "outlinewidth": 0,
              "ticks": ""
             }
            },
            "type": "scatter3d"
           }
          ],
          "scattercarpet": [
           {
            "marker": {
             "colorbar": {
              "outlinewidth": 0,
              "ticks": ""
             }
            },
            "type": "scattercarpet"
           }
          ],
          "scattergeo": [
           {
            "marker": {
             "colorbar": {
              "outlinewidth": 0,
              "ticks": ""
             }
            },
            "type": "scattergeo"
           }
          ],
          "scattergl": [
           {
            "marker": {
             "colorbar": {
              "outlinewidth": 0,
              "ticks": ""
             }
            },
            "type": "scattergl"
           }
          ],
          "scattermapbox": [
           {
            "marker": {
             "colorbar": {
              "outlinewidth": 0,
              "ticks": ""
             }
            },
            "type": "scattermapbox"
           }
          ],
          "scatterpolar": [
           {
            "marker": {
             "colorbar": {
              "outlinewidth": 0,
              "ticks": ""
             }
            },
            "type": "scatterpolar"
           }
          ],
          "scatterpolargl": [
           {
            "marker": {
             "colorbar": {
              "outlinewidth": 0,
              "ticks": ""
             }
            },
            "type": "scatterpolargl"
           }
          ],
          "scatterternary": [
           {
            "marker": {
             "colorbar": {
              "outlinewidth": 0,
              "ticks": ""
             }
            },
            "type": "scatterternary"
           }
          ],
          "surface": [
           {
            "colorbar": {
             "outlinewidth": 0,
             "ticks": ""
            },
            "colorscale": [
             [
              0,
              "#0d0887"
             ],
             [
              0.1111111111111111,
              "#46039f"
             ],
             [
              0.2222222222222222,
              "#7201a8"
             ],
             [
              0.3333333333333333,
              "#9c179e"
             ],
             [
              0.4444444444444444,
              "#bd3786"
             ],
             [
              0.5555555555555556,
              "#d8576b"
             ],
             [
              0.6666666666666666,
              "#ed7953"
             ],
             [
              0.7777777777777778,
              "#fb9f3a"
             ],
             [
              0.8888888888888888,
              "#fdca26"
             ],
             [
              1,
              "#f0f921"
             ]
            ],
            "type": "surface"
           }
          ],
          "table": [
           {
            "cells": {
             "fill": {
              "color": "#EBF0F8"
             },
             "line": {
              "color": "white"
             }
            },
            "header": {
             "fill": {
              "color": "#C8D4E3"
             },
             "line": {
              "color": "white"
             }
            },
            "type": "table"
           }
          ]
         },
         "layout": {
          "annotationdefaults": {
           "arrowcolor": "#2a3f5f",
           "arrowhead": 0,
           "arrowwidth": 1
          },
          "autotypenumbers": "strict",
          "coloraxis": {
           "colorbar": {
            "outlinewidth": 0,
            "ticks": ""
           }
          },
          "colorscale": {
           "diverging": [
            [
             0,
             "#8e0152"
            ],
            [
             0.1,
             "#c51b7d"
            ],
            [
             0.2,
             "#de77ae"
            ],
            [
             0.3,
             "#f1b6da"
            ],
            [
             0.4,
             "#fde0ef"
            ],
            [
             0.5,
             "#f7f7f7"
            ],
            [
             0.6,
             "#e6f5d0"
            ],
            [
             0.7,
             "#b8e186"
            ],
            [
             0.8,
             "#7fbc41"
            ],
            [
             0.9,
             "#4d9221"
            ],
            [
             1,
             "#276419"
            ]
           ],
           "sequential": [
            [
             0,
             "#0d0887"
            ],
            [
             0.1111111111111111,
             "#46039f"
            ],
            [
             0.2222222222222222,
             "#7201a8"
            ],
            [
             0.3333333333333333,
             "#9c179e"
            ],
            [
             0.4444444444444444,
             "#bd3786"
            ],
            [
             0.5555555555555556,
             "#d8576b"
            ],
            [
             0.6666666666666666,
             "#ed7953"
            ],
            [
             0.7777777777777778,
             "#fb9f3a"
            ],
            [
             0.8888888888888888,
             "#fdca26"
            ],
            [
             1,
             "#f0f921"
            ]
           ],
           "sequentialminus": [
            [
             0,
             "#0d0887"
            ],
            [
             0.1111111111111111,
             "#46039f"
            ],
            [
             0.2222222222222222,
             "#7201a8"
            ],
            [
             0.3333333333333333,
             "#9c179e"
            ],
            [
             0.4444444444444444,
             "#bd3786"
            ],
            [
             0.5555555555555556,
             "#d8576b"
            ],
            [
             0.6666666666666666,
             "#ed7953"
            ],
            [
             0.7777777777777778,
             "#fb9f3a"
            ],
            [
             0.8888888888888888,
             "#fdca26"
            ],
            [
             1,
             "#f0f921"
            ]
           ]
          },
          "colorway": [
           "#636efa",
           "#EF553B",
           "#00cc96",
           "#ab63fa",
           "#FFA15A",
           "#19d3f3",
           "#FF6692",
           "#B6E880",
           "#FF97FF",
           "#FECB52"
          ],
          "font": {
           "color": "#2a3f5f"
          },
          "geo": {
           "bgcolor": "white",
           "lakecolor": "white",
           "landcolor": "#E5ECF6",
           "showlakes": true,
           "showland": true,
           "subunitcolor": "white"
          },
          "hoverlabel": {
           "align": "left"
          },
          "hovermode": "closest",
          "mapbox": {
           "style": "light"
          },
          "paper_bgcolor": "white",
          "plot_bgcolor": "#E5ECF6",
          "polar": {
           "angularaxis": {
            "gridcolor": "white",
            "linecolor": "white",
            "ticks": ""
           },
           "bgcolor": "#E5ECF6",
           "radialaxis": {
            "gridcolor": "white",
            "linecolor": "white",
            "ticks": ""
           }
          },
          "scene": {
           "xaxis": {
            "backgroundcolor": "#E5ECF6",
            "gridcolor": "white",
            "gridwidth": 2,
            "linecolor": "white",
            "showbackground": true,
            "ticks": "",
            "zerolinecolor": "white"
           },
           "yaxis": {
            "backgroundcolor": "#E5ECF6",
            "gridcolor": "white",
            "gridwidth": 2,
            "linecolor": "white",
            "showbackground": true,
            "ticks": "",
            "zerolinecolor": "white"
           },
           "zaxis": {
            "backgroundcolor": "#E5ECF6",
            "gridcolor": "white",
            "gridwidth": 2,
            "linecolor": "white",
            "showbackground": true,
            "ticks": "",
            "zerolinecolor": "white"
           }
          },
          "shapedefaults": {
           "line": {
            "color": "#2a3f5f"
           }
          },
          "ternary": {
           "aaxis": {
            "gridcolor": "white",
            "linecolor": "white",
            "ticks": ""
           },
           "baxis": {
            "gridcolor": "white",
            "linecolor": "white",
            "ticks": ""
           },
           "bgcolor": "#E5ECF6",
           "caxis": {
            "gridcolor": "white",
            "linecolor": "white",
            "ticks": ""
           }
          },
          "title": {
           "x": 0.05
          },
          "xaxis": {
           "automargin": true,
           "gridcolor": "white",
           "linecolor": "white",
           "ticks": "",
           "title": {
            "standoff": 15
           },
           "zerolinecolor": "white",
           "zerolinewidth": 2
          },
          "yaxis": {
           "automargin": true,
           "gridcolor": "white",
           "linecolor": "white",
           "ticks": "",
           "title": {
            "standoff": 15
           },
           "zerolinecolor": "white",
           "zerolinewidth": 2
          }
         }
        },
        "title": {
         "text": "The math average difference among male and female"
        },
        "xaxis": {
         "title": {
          "text": "Year"
         }
        },
        "yaxis": {
         "title": {
          "text": "Average Scores"
         }
        }
       }
      }
     },
     "metadata": {},
     "output_type": "display_data"
    }
   ],
   "source": [
    "math_F_year = []\n",
    "math_M_year = []\n",
    "\n",
    "#year_go = sci_avg2.loc['Year'].unique().tolist()\n",
    "\n",
    "for i in range(7):\n",
    "    math_F_year.append(math_F2.groupby('Year').mean()['avg'][i])\n",
    "    math_M_year.append(math_M2.groupby('Year').mean()['avg'][i])\n",
    "\n",
    "\n",
    "fig = go.Figure()\n",
    "fig.add_trace(go.Scatter(x=math_F2['Year'].unique().tolist(), y=math_F_year,\n",
    "                mode='lines+markers',\n",
    "                name='Female'))\n",
    "\n",
    "fig.add_trace(go.Scatter(x=math_F2['Year'].unique().tolist(), y=math_M_year,\n",
    "                mode='lines+markers',\n",
    "                name='Male'))\n",
    "\n",
    "fig.update_layout(title='The math average difference among male and female',\n",
    "                   xaxis_title='Year',\n",
    "                   yaxis_title='Average Scores')   \n",
    "\n",
    "fig.show()\n",
    "\n",
    "fig.write_html(\"gender_math.html\")"
   ]
  },
  {
   "cell_type": "code",
   "execution_count": 42,
   "metadata": {},
   "outputs": [
    {
     "name": "stderr",
     "output_type": "stream",
     "text": [
      "/var/folders/hv/08dyyt957zq3n_n6kttfl_180000gn/T/ipykernel_28310/3328617593.py:7: FutureWarning:\n",
      "\n",
      "The default value of numeric_only in DataFrameGroupBy.mean is deprecated. In a future version, numeric_only will default to False. Either specify numeric_only or select only columns which should be valid for the function.\n",
      "\n",
      "/var/folders/hv/08dyyt957zq3n_n6kttfl_180000gn/T/ipykernel_28310/3328617593.py:8: FutureWarning:\n",
      "\n",
      "The default value of numeric_only in DataFrameGroupBy.mean is deprecated. In a future version, numeric_only will default to False. Either specify numeric_only or select only columns which should be valid for the function.\n",
      "\n",
      "/var/folders/hv/08dyyt957zq3n_n6kttfl_180000gn/T/ipykernel_28310/3328617593.py:7: FutureWarning:\n",
      "\n",
      "The default value of numeric_only in DataFrameGroupBy.mean is deprecated. In a future version, numeric_only will default to False. Either specify numeric_only or select only columns which should be valid for the function.\n",
      "\n",
      "/var/folders/hv/08dyyt957zq3n_n6kttfl_180000gn/T/ipykernel_28310/3328617593.py:8: FutureWarning:\n",
      "\n",
      "The default value of numeric_only in DataFrameGroupBy.mean is deprecated. In a future version, numeric_only will default to False. Either specify numeric_only or select only columns which should be valid for the function.\n",
      "\n",
      "/var/folders/hv/08dyyt957zq3n_n6kttfl_180000gn/T/ipykernel_28310/3328617593.py:7: FutureWarning:\n",
      "\n",
      "The default value of numeric_only in DataFrameGroupBy.mean is deprecated. In a future version, numeric_only will default to False. Either specify numeric_only or select only columns which should be valid for the function.\n",
      "\n",
      "/var/folders/hv/08dyyt957zq3n_n6kttfl_180000gn/T/ipykernel_28310/3328617593.py:8: FutureWarning:\n",
      "\n",
      "The default value of numeric_only in DataFrameGroupBy.mean is deprecated. In a future version, numeric_only will default to False. Either specify numeric_only or select only columns which should be valid for the function.\n",
      "\n",
      "/var/folders/hv/08dyyt957zq3n_n6kttfl_180000gn/T/ipykernel_28310/3328617593.py:7: FutureWarning:\n",
      "\n",
      "The default value of numeric_only in DataFrameGroupBy.mean is deprecated. In a future version, numeric_only will default to False. Either specify numeric_only or select only columns which should be valid for the function.\n",
      "\n",
      "/var/folders/hv/08dyyt957zq3n_n6kttfl_180000gn/T/ipykernel_28310/3328617593.py:8: FutureWarning:\n",
      "\n",
      "The default value of numeric_only in DataFrameGroupBy.mean is deprecated. In a future version, numeric_only will default to False. Either specify numeric_only or select only columns which should be valid for the function.\n",
      "\n",
      "/var/folders/hv/08dyyt957zq3n_n6kttfl_180000gn/T/ipykernel_28310/3328617593.py:7: FutureWarning:\n",
      "\n",
      "The default value of numeric_only in DataFrameGroupBy.mean is deprecated. In a future version, numeric_only will default to False. Either specify numeric_only or select only columns which should be valid for the function.\n",
      "\n",
      "/var/folders/hv/08dyyt957zq3n_n6kttfl_180000gn/T/ipykernel_28310/3328617593.py:8: FutureWarning:\n",
      "\n",
      "The default value of numeric_only in DataFrameGroupBy.mean is deprecated. In a future version, numeric_only will default to False. Either specify numeric_only or select only columns which should be valid for the function.\n",
      "\n",
      "/var/folders/hv/08dyyt957zq3n_n6kttfl_180000gn/T/ipykernel_28310/3328617593.py:7: FutureWarning:\n",
      "\n",
      "The default value of numeric_only in DataFrameGroupBy.mean is deprecated. In a future version, numeric_only will default to False. Either specify numeric_only or select only columns which should be valid for the function.\n",
      "\n",
      "/var/folders/hv/08dyyt957zq3n_n6kttfl_180000gn/T/ipykernel_28310/3328617593.py:8: FutureWarning:\n",
      "\n",
      "The default value of numeric_only in DataFrameGroupBy.mean is deprecated. In a future version, numeric_only will default to False. Either specify numeric_only or select only columns which should be valid for the function.\n",
      "\n",
      "/var/folders/hv/08dyyt957zq3n_n6kttfl_180000gn/T/ipykernel_28310/3328617593.py:7: FutureWarning:\n",
      "\n",
      "The default value of numeric_only in DataFrameGroupBy.mean is deprecated. In a future version, numeric_only will default to False. Either specify numeric_only or select only columns which should be valid for the function.\n",
      "\n",
      "/var/folders/hv/08dyyt957zq3n_n6kttfl_180000gn/T/ipykernel_28310/3328617593.py:8: FutureWarning:\n",
      "\n",
      "The default value of numeric_only in DataFrameGroupBy.mean is deprecated. In a future version, numeric_only will default to False. Either specify numeric_only or select only columns which should be valid for the function.\n",
      "\n"
     ]
    },
    {
     "data": {
      "application/vnd.plotly.v1+json": {
       "config": {
        "plotlyServerURL": "https://plot.ly"
       },
       "data": [
        {
         "mode": "lines+markers",
         "name": "Female",
         "type": "scatter",
         "x": [
          "2000",
          "2003",
          "2006",
          "2009",
          "2012",
          "2015",
          "2018"
         ],
         "y": [
          null,
          null,
          477.6179208347256,
          477.20388809237744,
          478.03715927875794,
          465.6393156749494,
          460.38165183358444
         ]
        },
        {
         "mode": "lines+markers",
         "name": "Male",
         "type": "scatter",
         "x": [
          "2000",
          "2003",
          "2006",
          "2009",
          "2012",
          "2015",
          "2018"
         ],
         "y": [
          null,
          null,
          477.4574260954408,
          473.83359518996997,
          475.41717657931736,
          464.73506130700815,
          455.501982449064
         ]
        }
       ],
       "layout": {
        "template": {
         "data": {
          "bar": [
           {
            "error_x": {
             "color": "#2a3f5f"
            },
            "error_y": {
             "color": "#2a3f5f"
            },
            "marker": {
             "line": {
              "color": "#E5ECF6",
              "width": 0.5
             },
             "pattern": {
              "fillmode": "overlay",
              "size": 10,
              "solidity": 0.2
             }
            },
            "type": "bar"
           }
          ],
          "barpolar": [
           {
            "marker": {
             "line": {
              "color": "#E5ECF6",
              "width": 0.5
             },
             "pattern": {
              "fillmode": "overlay",
              "size": 10,
              "solidity": 0.2
             }
            },
            "type": "barpolar"
           }
          ],
          "carpet": [
           {
            "aaxis": {
             "endlinecolor": "#2a3f5f",
             "gridcolor": "white",
             "linecolor": "white",
             "minorgridcolor": "white",
             "startlinecolor": "#2a3f5f"
            },
            "baxis": {
             "endlinecolor": "#2a3f5f",
             "gridcolor": "white",
             "linecolor": "white",
             "minorgridcolor": "white",
             "startlinecolor": "#2a3f5f"
            },
            "type": "carpet"
           }
          ],
          "choropleth": [
           {
            "colorbar": {
             "outlinewidth": 0,
             "ticks": ""
            },
            "type": "choropleth"
           }
          ],
          "contour": [
           {
            "colorbar": {
             "outlinewidth": 0,
             "ticks": ""
            },
            "colorscale": [
             [
              0,
              "#0d0887"
             ],
             [
              0.1111111111111111,
              "#46039f"
             ],
             [
              0.2222222222222222,
              "#7201a8"
             ],
             [
              0.3333333333333333,
              "#9c179e"
             ],
             [
              0.4444444444444444,
              "#bd3786"
             ],
             [
              0.5555555555555556,
              "#d8576b"
             ],
             [
              0.6666666666666666,
              "#ed7953"
             ],
             [
              0.7777777777777778,
              "#fb9f3a"
             ],
             [
              0.8888888888888888,
              "#fdca26"
             ],
             [
              1,
              "#f0f921"
             ]
            ],
            "type": "contour"
           }
          ],
          "contourcarpet": [
           {
            "colorbar": {
             "outlinewidth": 0,
             "ticks": ""
            },
            "type": "contourcarpet"
           }
          ],
          "heatmap": [
           {
            "colorbar": {
             "outlinewidth": 0,
             "ticks": ""
            },
            "colorscale": [
             [
              0,
              "#0d0887"
             ],
             [
              0.1111111111111111,
              "#46039f"
             ],
             [
              0.2222222222222222,
              "#7201a8"
             ],
             [
              0.3333333333333333,
              "#9c179e"
             ],
             [
              0.4444444444444444,
              "#bd3786"
             ],
             [
              0.5555555555555556,
              "#d8576b"
             ],
             [
              0.6666666666666666,
              "#ed7953"
             ],
             [
              0.7777777777777778,
              "#fb9f3a"
             ],
             [
              0.8888888888888888,
              "#fdca26"
             ],
             [
              1,
              "#f0f921"
             ]
            ],
            "type": "heatmap"
           }
          ],
          "heatmapgl": [
           {
            "colorbar": {
             "outlinewidth": 0,
             "ticks": ""
            },
            "colorscale": [
             [
              0,
              "#0d0887"
             ],
             [
              0.1111111111111111,
              "#46039f"
             ],
             [
              0.2222222222222222,
              "#7201a8"
             ],
             [
              0.3333333333333333,
              "#9c179e"
             ],
             [
              0.4444444444444444,
              "#bd3786"
             ],
             [
              0.5555555555555556,
              "#d8576b"
             ],
             [
              0.6666666666666666,
              "#ed7953"
             ],
             [
              0.7777777777777778,
              "#fb9f3a"
             ],
             [
              0.8888888888888888,
              "#fdca26"
             ],
             [
              1,
              "#f0f921"
             ]
            ],
            "type": "heatmapgl"
           }
          ],
          "histogram": [
           {
            "marker": {
             "pattern": {
              "fillmode": "overlay",
              "size": 10,
              "solidity": 0.2
             }
            },
            "type": "histogram"
           }
          ],
          "histogram2d": [
           {
            "colorbar": {
             "outlinewidth": 0,
             "ticks": ""
            },
            "colorscale": [
             [
              0,
              "#0d0887"
             ],
             [
              0.1111111111111111,
              "#46039f"
             ],
             [
              0.2222222222222222,
              "#7201a8"
             ],
             [
              0.3333333333333333,
              "#9c179e"
             ],
             [
              0.4444444444444444,
              "#bd3786"
             ],
             [
              0.5555555555555556,
              "#d8576b"
             ],
             [
              0.6666666666666666,
              "#ed7953"
             ],
             [
              0.7777777777777778,
              "#fb9f3a"
             ],
             [
              0.8888888888888888,
              "#fdca26"
             ],
             [
              1,
              "#f0f921"
             ]
            ],
            "type": "histogram2d"
           }
          ],
          "histogram2dcontour": [
           {
            "colorbar": {
             "outlinewidth": 0,
             "ticks": ""
            },
            "colorscale": [
             [
              0,
              "#0d0887"
             ],
             [
              0.1111111111111111,
              "#46039f"
             ],
             [
              0.2222222222222222,
              "#7201a8"
             ],
             [
              0.3333333333333333,
              "#9c179e"
             ],
             [
              0.4444444444444444,
              "#bd3786"
             ],
             [
              0.5555555555555556,
              "#d8576b"
             ],
             [
              0.6666666666666666,
              "#ed7953"
             ],
             [
              0.7777777777777778,
              "#fb9f3a"
             ],
             [
              0.8888888888888888,
              "#fdca26"
             ],
             [
              1,
              "#f0f921"
             ]
            ],
            "type": "histogram2dcontour"
           }
          ],
          "mesh3d": [
           {
            "colorbar": {
             "outlinewidth": 0,
             "ticks": ""
            },
            "type": "mesh3d"
           }
          ],
          "parcoords": [
           {
            "line": {
             "colorbar": {
              "outlinewidth": 0,
              "ticks": ""
             }
            },
            "type": "parcoords"
           }
          ],
          "pie": [
           {
            "automargin": true,
            "type": "pie"
           }
          ],
          "scatter": [
           {
            "fillpattern": {
             "fillmode": "overlay",
             "size": 10,
             "solidity": 0.2
            },
            "type": "scatter"
           }
          ],
          "scatter3d": [
           {
            "line": {
             "colorbar": {
              "outlinewidth": 0,
              "ticks": ""
             }
            },
            "marker": {
             "colorbar": {
              "outlinewidth": 0,
              "ticks": ""
             }
            },
            "type": "scatter3d"
           }
          ],
          "scattercarpet": [
           {
            "marker": {
             "colorbar": {
              "outlinewidth": 0,
              "ticks": ""
             }
            },
            "type": "scattercarpet"
           }
          ],
          "scattergeo": [
           {
            "marker": {
             "colorbar": {
              "outlinewidth": 0,
              "ticks": ""
             }
            },
            "type": "scattergeo"
           }
          ],
          "scattergl": [
           {
            "marker": {
             "colorbar": {
              "outlinewidth": 0,
              "ticks": ""
             }
            },
            "type": "scattergl"
           }
          ],
          "scattermapbox": [
           {
            "marker": {
             "colorbar": {
              "outlinewidth": 0,
              "ticks": ""
             }
            },
            "type": "scattermapbox"
           }
          ],
          "scatterpolar": [
           {
            "marker": {
             "colorbar": {
              "outlinewidth": 0,
              "ticks": ""
             }
            },
            "type": "scatterpolar"
           }
          ],
          "scatterpolargl": [
           {
            "marker": {
             "colorbar": {
              "outlinewidth": 0,
              "ticks": ""
             }
            },
            "type": "scatterpolargl"
           }
          ],
          "scatterternary": [
           {
            "marker": {
             "colorbar": {
              "outlinewidth": 0,
              "ticks": ""
             }
            },
            "type": "scatterternary"
           }
          ],
          "surface": [
           {
            "colorbar": {
             "outlinewidth": 0,
             "ticks": ""
            },
            "colorscale": [
             [
              0,
              "#0d0887"
             ],
             [
              0.1111111111111111,
              "#46039f"
             ],
             [
              0.2222222222222222,
              "#7201a8"
             ],
             [
              0.3333333333333333,
              "#9c179e"
             ],
             [
              0.4444444444444444,
              "#bd3786"
             ],
             [
              0.5555555555555556,
              "#d8576b"
             ],
             [
              0.6666666666666666,
              "#ed7953"
             ],
             [
              0.7777777777777778,
              "#fb9f3a"
             ],
             [
              0.8888888888888888,
              "#fdca26"
             ],
             [
              1,
              "#f0f921"
             ]
            ],
            "type": "surface"
           }
          ],
          "table": [
           {
            "cells": {
             "fill": {
              "color": "#EBF0F8"
             },
             "line": {
              "color": "white"
             }
            },
            "header": {
             "fill": {
              "color": "#C8D4E3"
             },
             "line": {
              "color": "white"
             }
            },
            "type": "table"
           }
          ]
         },
         "layout": {
          "annotationdefaults": {
           "arrowcolor": "#2a3f5f",
           "arrowhead": 0,
           "arrowwidth": 1
          },
          "autotypenumbers": "strict",
          "coloraxis": {
           "colorbar": {
            "outlinewidth": 0,
            "ticks": ""
           }
          },
          "colorscale": {
           "diverging": [
            [
             0,
             "#8e0152"
            ],
            [
             0.1,
             "#c51b7d"
            ],
            [
             0.2,
             "#de77ae"
            ],
            [
             0.3,
             "#f1b6da"
            ],
            [
             0.4,
             "#fde0ef"
            ],
            [
             0.5,
             "#f7f7f7"
            ],
            [
             0.6,
             "#e6f5d0"
            ],
            [
             0.7,
             "#b8e186"
            ],
            [
             0.8,
             "#7fbc41"
            ],
            [
             0.9,
             "#4d9221"
            ],
            [
             1,
             "#276419"
            ]
           ],
           "sequential": [
            [
             0,
             "#0d0887"
            ],
            [
             0.1111111111111111,
             "#46039f"
            ],
            [
             0.2222222222222222,
             "#7201a8"
            ],
            [
             0.3333333333333333,
             "#9c179e"
            ],
            [
             0.4444444444444444,
             "#bd3786"
            ],
            [
             0.5555555555555556,
             "#d8576b"
            ],
            [
             0.6666666666666666,
             "#ed7953"
            ],
            [
             0.7777777777777778,
             "#fb9f3a"
            ],
            [
             0.8888888888888888,
             "#fdca26"
            ],
            [
             1,
             "#f0f921"
            ]
           ],
           "sequentialminus": [
            [
             0,
             "#0d0887"
            ],
            [
             0.1111111111111111,
             "#46039f"
            ],
            [
             0.2222222222222222,
             "#7201a8"
            ],
            [
             0.3333333333333333,
             "#9c179e"
            ],
            [
             0.4444444444444444,
             "#bd3786"
            ],
            [
             0.5555555555555556,
             "#d8576b"
            ],
            [
             0.6666666666666666,
             "#ed7953"
            ],
            [
             0.7777777777777778,
             "#fb9f3a"
            ],
            [
             0.8888888888888888,
             "#fdca26"
            ],
            [
             1,
             "#f0f921"
            ]
           ]
          },
          "colorway": [
           "#636efa",
           "#EF553B",
           "#00cc96",
           "#ab63fa",
           "#FFA15A",
           "#19d3f3",
           "#FF6692",
           "#B6E880",
           "#FF97FF",
           "#FECB52"
          ],
          "font": {
           "color": "#2a3f5f"
          },
          "geo": {
           "bgcolor": "white",
           "lakecolor": "white",
           "landcolor": "#E5ECF6",
           "showlakes": true,
           "showland": true,
           "subunitcolor": "white"
          },
          "hoverlabel": {
           "align": "left"
          },
          "hovermode": "closest",
          "mapbox": {
           "style": "light"
          },
          "paper_bgcolor": "white",
          "plot_bgcolor": "#E5ECF6",
          "polar": {
           "angularaxis": {
            "gridcolor": "white",
            "linecolor": "white",
            "ticks": ""
           },
           "bgcolor": "#E5ECF6",
           "radialaxis": {
            "gridcolor": "white",
            "linecolor": "white",
            "ticks": ""
           }
          },
          "scene": {
           "xaxis": {
            "backgroundcolor": "#E5ECF6",
            "gridcolor": "white",
            "gridwidth": 2,
            "linecolor": "white",
            "showbackground": true,
            "ticks": "",
            "zerolinecolor": "white"
           },
           "yaxis": {
            "backgroundcolor": "#E5ECF6",
            "gridcolor": "white",
            "gridwidth": 2,
            "linecolor": "white",
            "showbackground": true,
            "ticks": "",
            "zerolinecolor": "white"
           },
           "zaxis": {
            "backgroundcolor": "#E5ECF6",
            "gridcolor": "white",
            "gridwidth": 2,
            "linecolor": "white",
            "showbackground": true,
            "ticks": "",
            "zerolinecolor": "white"
           }
          },
          "shapedefaults": {
           "line": {
            "color": "#2a3f5f"
           }
          },
          "ternary": {
           "aaxis": {
            "gridcolor": "white",
            "linecolor": "white",
            "ticks": ""
           },
           "baxis": {
            "gridcolor": "white",
            "linecolor": "white",
            "ticks": ""
           },
           "bgcolor": "#E5ECF6",
           "caxis": {
            "gridcolor": "white",
            "linecolor": "white",
            "ticks": ""
           }
          },
          "title": {
           "x": 0.05
          },
          "xaxis": {
           "automargin": true,
           "gridcolor": "white",
           "linecolor": "white",
           "ticks": "",
           "title": {
            "standoff": 15
           },
           "zerolinecolor": "white",
           "zerolinewidth": 2
          },
          "yaxis": {
           "automargin": true,
           "gridcolor": "white",
           "linecolor": "white",
           "ticks": "",
           "title": {
            "standoff": 15
           },
           "zerolinecolor": "white",
           "zerolinewidth": 2
          }
         }
        },
        "title": {
         "text": "The science average difference among male and female"
        },
        "xaxis": {
         "title": {
          "text": "Year"
         }
        },
        "yaxis": {
         "title": {
          "text": "Average Scores"
         }
        }
       }
      }
     },
     "metadata": {},
     "output_type": "display_data"
    }
   ],
   "source": [
    "sci_F_year = []\n",
    "sci_M_year = []\n",
    "\n",
    "#year_go = sci_avg2.loc['Year'].unique().tolist()\n",
    "\n",
    "for i in range(7):\n",
    "    sci_F_year.append(sci_F2.groupby('Year').mean()['avg'][i])\n",
    "    sci_M_year.append(sci_M2.groupby('Year').mean()['avg'][i])\n",
    "\n",
    "\n",
    "fig = go.Figure()\n",
    "fig.add_trace(go.Scatter(x=sci_F2['Year'].unique().tolist(), y=sci_F_year,\n",
    "                mode='lines+markers',\n",
    "                name='Female'))\n",
    "\n",
    "fig.add_trace(go.Scatter(x=sci_F2['Year'].unique().tolist(), y=sci_M_year,\n",
    "                mode='lines+markers',\n",
    "                name='Male'))\n",
    "\n",
    "fig.update_layout(title='The science average difference among male and female',\n",
    "                   xaxis_title='Year',\n",
    "                   yaxis_title='Average Scores')   \n",
    "\n",
    "fig.show()\n",
    "\n",
    "fig.write_html(\"gender_scig.html\")"
   ]
  },
  {
   "cell_type": "code",
   "execution_count": 43,
   "metadata": {},
   "outputs": [
    {
     "name": "stderr",
     "output_type": "stream",
     "text": [
      "/var/folders/hv/08dyyt957zq3n_n6kttfl_180000gn/T/ipykernel_28310/405346861.py:1: SettingWithCopyWarning:\n",
      "\n",
      "\n",
      "A value is trying to be set on a copy of a slice from a DataFrame.\n",
      "Try using .loc[row_indexer,col_indexer] = value instead\n",
      "\n",
      "See the caveats in the documentation: https://pandas.pydata.org/pandas-docs/stable/user_guide/indexing.html#returning-a-view-versus-a-copy\n",
      "\n",
      "/var/folders/hv/08dyyt957zq3n_n6kttfl_180000gn/T/ipykernel_28310/405346861.py:2: SettingWithCopyWarning:\n",
      "\n",
      "\n",
      "A value is trying to be set on a copy of a slice from a DataFrame.\n",
      "Try using .loc[row_indexer,col_indexer] = value instead\n",
      "\n",
      "See the caveats in the documentation: https://pandas.pydata.org/pandas-docs/stable/user_guide/indexing.html#returning-a-view-versus-a-copy\n",
      "\n"
     ]
    }
   ],
   "source": [
    "reading_F['gender']='Female'\n",
    "reading_M['gender']='Male'"
   ]
  },
  {
   "cell_type": "code",
   "execution_count": 44,
   "metadata": {},
   "outputs": [
    {
     "name": "stderr",
     "output_type": "stream",
     "text": [
      "/var/folders/hv/08dyyt957zq3n_n6kttfl_180000gn/T/ipykernel_28310/557605981.py:1: SettingWithCopyWarning:\n",
      "\n",
      "\n",
      "A value is trying to be set on a copy of a slice from a DataFrame.\n",
      "Try using .loc[row_indexer,col_indexer] = value instead\n",
      "\n",
      "See the caveats in the documentation: https://pandas.pydata.org/pandas-docs/stable/user_guide/indexing.html#returning-a-view-versus-a-copy\n",
      "\n",
      "/var/folders/hv/08dyyt957zq3n_n6kttfl_180000gn/T/ipykernel_28310/557605981.py:2: SettingWithCopyWarning:\n",
      "\n",
      "\n",
      "A value is trying to be set on a copy of a slice from a DataFrame.\n",
      "Try using .loc[row_indexer,col_indexer] = value instead\n",
      "\n",
      "See the caveats in the documentation: https://pandas.pydata.org/pandas-docs/stable/user_guide/indexing.html#returning-a-view-versus-a-copy\n",
      "\n"
     ]
    }
   ],
   "source": [
    "math_F['gender']='Female'\n",
    "math_M['gender']='Male'"
   ]
  },
  {
   "cell_type": "code",
   "execution_count": 45,
   "metadata": {},
   "outputs": [
    {
     "name": "stderr",
     "output_type": "stream",
     "text": [
      "/var/folders/hv/08dyyt957zq3n_n6kttfl_180000gn/T/ipykernel_28310/673069973.py:1: SettingWithCopyWarning:\n",
      "\n",
      "\n",
      "A value is trying to be set on a copy of a slice from a DataFrame.\n",
      "Try using .loc[row_indexer,col_indexer] = value instead\n",
      "\n",
      "See the caveats in the documentation: https://pandas.pydata.org/pandas-docs/stable/user_guide/indexing.html#returning-a-view-versus-a-copy\n",
      "\n",
      "/var/folders/hv/08dyyt957zq3n_n6kttfl_180000gn/T/ipykernel_28310/673069973.py:2: SettingWithCopyWarning:\n",
      "\n",
      "\n",
      "A value is trying to be set on a copy of a slice from a DataFrame.\n",
      "Try using .loc[row_indexer,col_indexer] = value instead\n",
      "\n",
      "See the caveats in the documentation: https://pandas.pydata.org/pandas-docs/stable/user_guide/indexing.html#returning-a-view-versus-a-copy\n",
      "\n"
     ]
    }
   ],
   "source": [
    "sci_F['gender']='Female'\n",
    "sci_M['gender']='Male'"
   ]
  },
  {
   "cell_type": "code",
   "execution_count": 46,
   "metadata": {},
   "outputs": [
    {
     "name": "stderr",
     "output_type": "stream",
     "text": [
      "/var/folders/hv/08dyyt957zq3n_n6kttfl_180000gn/T/ipykernel_28310/347033666.py:1: FutureWarning:\n",
      "\n",
      "The frame.append method is deprecated and will be removed from pandas in a future version. Use pandas.concat instead.\n",
      "\n"
     ]
    },
    {
     "data": {
      "text/html": [
       "<div>\n",
       "<style scoped>\n",
       "    .dataframe tbody tr th:only-of-type {\n",
       "        vertical-align: middle;\n",
       "    }\n",
       "\n",
       "    .dataframe tbody tr th {\n",
       "        vertical-align: top;\n",
       "    }\n",
       "\n",
       "    .dataframe thead th {\n",
       "        text-align: right;\n",
       "    }\n",
       "</style>\n",
       "<table border=\"1\" class=\"dataframe\">\n",
       "  <thead>\n",
       "    <tr style=\"text-align: right;\">\n",
       "      <th></th>\n",
       "      <th>Countries</th>\n",
       "      <th>2000</th>\n",
       "      <th>2003</th>\n",
       "      <th>2006</th>\n",
       "      <th>2009</th>\n",
       "      <th>2012</th>\n",
       "      <th>2015</th>\n",
       "      <th>2018</th>\n",
       "      <th>gender</th>\n",
       "    </tr>\n",
       "  </thead>\n",
       "  <tbody>\n",
       "    <tr>\n",
       "      <th>0</th>\n",
       "      <td>Australia</td>\n",
       "      <td>546.251223</td>\n",
       "      <td>545.425124</td>\n",
       "      <td>531.754388</td>\n",
       "      <td>532.853721</td>\n",
       "      <td>529.542280</td>\n",
       "      <td>518.865799</td>\n",
       "      <td>518.572084</td>\n",
       "      <td>Female</td>\n",
       "    </tr>\n",
       "    <tr>\n",
       "      <th>1</th>\n",
       "      <td>Austria</td>\n",
       "      <td>509.168003</td>\n",
       "      <td>514.353350</td>\n",
       "      <td>512.912207</td>\n",
       "      <td>490.487348</td>\n",
       "      <td>508.021472</td>\n",
       "      <td>495.075190</td>\n",
       "      <td>498.652688</td>\n",
       "      <td>Female</td>\n",
       "    </tr>\n",
       "    <tr>\n",
       "      <th>2</th>\n",
       "      <td>Belgium</td>\n",
       "      <td>525.208512</td>\n",
       "      <td>526.225709</td>\n",
       "      <td>521.728314</td>\n",
       "      <td>519.806073</td>\n",
       "      <td>524.602442</td>\n",
       "      <td>506.638599</td>\n",
       "      <td>503.687235</td>\n",
       "      <td>Female</td>\n",
       "    </tr>\n",
       "    <tr>\n",
       "      <th>3</th>\n",
       "      <td>Canada</td>\n",
       "      <td>551.133144</td>\n",
       "      <td>545.525389</td>\n",
       "      <td>543.043598</td>\n",
       "      <td>541.527233</td>\n",
       "      <td>540.653353</td>\n",
       "      <td>539.762386</td>\n",
       "      <td>534.669187</td>\n",
       "      <td>Female</td>\n",
       "    </tr>\n",
       "    <tr>\n",
       "      <th>4</th>\n",
       "      <td>Chile</td>\n",
       "      <td>421.101175</td>\n",
       "      <td>NaN</td>\n",
       "      <td>451.251972</td>\n",
       "      <td>460.620970</td>\n",
       "      <td>452.371146</td>\n",
       "      <td>464.561642</td>\n",
       "      <td>462.302440</td>\n",
       "      <td>Female</td>\n",
       "    </tr>\n",
       "    <tr>\n",
       "      <th>...</th>\n",
       "      <td>...</td>\n",
       "      <td>...</td>\n",
       "      <td>...</td>\n",
       "      <td>...</td>\n",
       "      <td>...</td>\n",
       "      <td>...</td>\n",
       "      <td>...</td>\n",
       "      <td>...</td>\n",
       "      <td>...</td>\n",
       "    </tr>\n",
       "    <tr>\n",
       "      <th>169</th>\n",
       "      <td>Tunisia</td>\n",
       "      <td>NaN</td>\n",
       "      <td>361.770269</td>\n",
       "      <td>360.653715</td>\n",
       "      <td>387.279323</td>\n",
       "      <td>387.773045</td>\n",
       "      <td>347.603830</td>\n",
       "      <td>NaN</td>\n",
       "      <td>Male</td>\n",
       "    </tr>\n",
       "    <tr>\n",
       "      <th>170</th>\n",
       "      <td>Ukraine</td>\n",
       "      <td>NaN</td>\n",
       "      <td>NaN</td>\n",
       "      <td>NaN</td>\n",
       "      <td>NaN</td>\n",
       "      <td>NaN</td>\n",
       "      <td>NaN</td>\n",
       "      <td>450.098856</td>\n",
       "      <td>Male</td>\n",
       "    </tr>\n",
       "    <tr>\n",
       "      <th>171</th>\n",
       "      <td>United Arab Emirates</td>\n",
       "      <td>NaN</td>\n",
       "      <td>NaN</td>\n",
       "      <td>NaN</td>\n",
       "      <td>NaN</td>\n",
       "      <td>413.456297</td>\n",
       "      <td>408.105328</td>\n",
       "      <td>403.023098</td>\n",
       "      <td>Male</td>\n",
       "    </tr>\n",
       "    <tr>\n",
       "      <th>172</th>\n",
       "      <td>Uruguay</td>\n",
       "      <td>NaN</td>\n",
       "      <td>414.024588</td>\n",
       "      <td>389.398925</td>\n",
       "      <td>403.720364</td>\n",
       "      <td>392.490664</td>\n",
       "      <td>424.296890</td>\n",
       "      <td>415.126906</td>\n",
       "      <td>Male</td>\n",
       "    </tr>\n",
       "    <tr>\n",
       "      <th>173</th>\n",
       "      <td>Viet Nam</td>\n",
       "      <td>NaN</td>\n",
       "      <td>NaN</td>\n",
       "      <td>NaN</td>\n",
       "      <td>NaN</td>\n",
       "      <td>491.726521</td>\n",
       "      <td>473.919129</td>\n",
       "      <td>NaN</td>\n",
       "      <td>Male</td>\n",
       "    </tr>\n",
       "  </tbody>\n",
       "</table>\n",
       "<p>174 rows × 9 columns</p>\n",
       "</div>"
      ],
      "text/plain": [
       "                Countries        2000        2003        2006        2009  \\\n",
       "0               Australia  546.251223  545.425124  531.754388  532.853721   \n",
       "1                 Austria  509.168003  514.353350  512.912207  490.487348   \n",
       "2                 Belgium  525.208512  526.225709  521.728314  519.806073   \n",
       "3                  Canada  551.133144  545.525389  543.043598  541.527233   \n",
       "4                   Chile  421.101175         NaN  451.251972  460.620970   \n",
       "..                    ...         ...         ...         ...         ...   \n",
       "169               Tunisia         NaN  361.770269  360.653715  387.279323   \n",
       "170               Ukraine         NaN         NaN         NaN         NaN   \n",
       "171  United Arab Emirates         NaN         NaN         NaN         NaN   \n",
       "172               Uruguay         NaN  414.024588  389.398925  403.720364   \n",
       "173              Viet Nam         NaN         NaN         NaN         NaN   \n",
       "\n",
       "           2012        2015        2018  gender  \n",
       "0    529.542280  518.865799  518.572084  Female  \n",
       "1    508.021472  495.075190  498.652688  Female  \n",
       "2    524.602442  506.638599  503.687235  Female  \n",
       "3    540.653353  539.762386  534.669187  Female  \n",
       "4    452.371146  464.561642  462.302440  Female  \n",
       "..          ...         ...         ...     ...  \n",
       "169  387.773045  347.603830         NaN    Male  \n",
       "170         NaN         NaN  450.098856    Male  \n",
       "171  413.456297  408.105328  403.023098    Male  \n",
       "172  392.490664  424.296890  415.126906    Male  \n",
       "173  491.726521  473.919129         NaN    Male  \n",
       "\n",
       "[174 rows x 9 columns]"
      ]
     },
     "execution_count": 46,
     "metadata": {},
     "output_type": "execute_result"
    }
   ],
   "source": [
    "reading_box = reading_F.append(reading_M, ignore_index=True)\n",
    "reading_box "
   ]
  },
  {
   "cell_type": "code",
   "execution_count": 47,
   "metadata": {},
   "outputs": [
    {
     "name": "stderr",
     "output_type": "stream",
     "text": [
      "/var/folders/hv/08dyyt957zq3n_n6kttfl_180000gn/T/ipykernel_28310/1226967919.py:1: FutureWarning:\n",
      "\n",
      "The frame.append method is deprecated and will be removed from pandas in a future version. Use pandas.concat instead.\n",
      "\n"
     ]
    },
    {
     "data": {
      "text/html": [
       "<div>\n",
       "<style scoped>\n",
       "    .dataframe tbody tr th:only-of-type {\n",
       "        vertical-align: middle;\n",
       "    }\n",
       "\n",
       "    .dataframe tbody tr th {\n",
       "        vertical-align: top;\n",
       "    }\n",
       "\n",
       "    .dataframe thead th {\n",
       "        text-align: right;\n",
       "    }\n",
       "</style>\n",
       "<table border=\"1\" class=\"dataframe\">\n",
       "  <thead>\n",
       "    <tr style=\"text-align: right;\">\n",
       "      <th></th>\n",
       "      <th>Countries</th>\n",
       "      <th>2000</th>\n",
       "      <th>2003</th>\n",
       "      <th>2006</th>\n",
       "      <th>2009</th>\n",
       "      <th>2012</th>\n",
       "      <th>2015</th>\n",
       "      <th>2018</th>\n",
       "      <th>gender</th>\n",
       "    </tr>\n",
       "  </thead>\n",
       "  <tbody>\n",
       "    <tr>\n",
       "      <th>0</th>\n",
       "      <td>Australia</td>\n",
       "      <td>NaN</td>\n",
       "      <td>521.550185</td>\n",
       "      <td>512.532446</td>\n",
       "      <td>509.480661</td>\n",
       "      <td>497.821350</td>\n",
       "      <td>490.985501</td>\n",
       "      <td>488.296647</td>\n",
       "      <td>Female</td>\n",
       "    </tr>\n",
       "    <tr>\n",
       "      <th>1</th>\n",
       "      <td>Austria</td>\n",
       "      <td>NaN</td>\n",
       "      <td>501.816064</td>\n",
       "      <td>493.962184</td>\n",
       "      <td>486.499395</td>\n",
       "      <td>494.462264</td>\n",
       "      <td>483.133026</td>\n",
       "      <td>492.200906</td>\n",
       "      <td>Female</td>\n",
       "    </tr>\n",
       "    <tr>\n",
       "      <th>2</th>\n",
       "      <td>Belgium</td>\n",
       "      <td>NaN</td>\n",
       "      <td>525.370177</td>\n",
       "      <td>516.705868</td>\n",
       "      <td>504.156918</td>\n",
       "      <td>508.934612</td>\n",
       "      <td>499.739022</td>\n",
       "      <td>502.046830</td>\n",
       "      <td>Female</td>\n",
       "    </tr>\n",
       "    <tr>\n",
       "      <th>3</th>\n",
       "      <td>Canada</td>\n",
       "      <td>NaN</td>\n",
       "      <td>529.602413</td>\n",
       "      <td>519.862643</td>\n",
       "      <td>520.832036</td>\n",
       "      <td>513.019099</td>\n",
       "      <td>511.141726</td>\n",
       "      <td>509.546253</td>\n",
       "      <td>Female</td>\n",
       "    </tr>\n",
       "    <tr>\n",
       "      <th>4</th>\n",
       "      <td>Chile</td>\n",
       "      <td>NaN</td>\n",
       "      <td>NaN</td>\n",
       "      <td>396.284317</td>\n",
       "      <td>410.375906</td>\n",
       "      <td>410.543252</td>\n",
       "      <td>413.448981</td>\n",
       "      <td>413.626758</td>\n",
       "      <td>Female</td>\n",
       "    </tr>\n",
       "    <tr>\n",
       "      <th>...</th>\n",
       "      <td>...</td>\n",
       "      <td>...</td>\n",
       "      <td>...</td>\n",
       "      <td>...</td>\n",
       "      <td>...</td>\n",
       "      <td>...</td>\n",
       "      <td>...</td>\n",
       "      <td>...</td>\n",
       "      <td>...</td>\n",
       "    </tr>\n",
       "    <tr>\n",
       "      <th>169</th>\n",
       "      <td>Tunisia</td>\n",
       "      <td>NaN</td>\n",
       "      <td>364.906171</td>\n",
       "      <td>373.473916</td>\n",
       "      <td>377.878779</td>\n",
       "      <td>395.946963</td>\n",
       "      <td>370.081434</td>\n",
       "      <td>NaN</td>\n",
       "      <td>Male</td>\n",
       "    </tr>\n",
       "    <tr>\n",
       "      <th>170</th>\n",
       "      <td>Ukraine</td>\n",
       "      <td>NaN</td>\n",
       "      <td>NaN</td>\n",
       "      <td>NaN</td>\n",
       "      <td>NaN</td>\n",
       "      <td>NaN</td>\n",
       "      <td>NaN</td>\n",
       "      <td>456.431723</td>\n",
       "      <td>Male</td>\n",
       "    </tr>\n",
       "    <tr>\n",
       "      <th>171</th>\n",
       "      <td>United Arab Emirates</td>\n",
       "      <td>NaN</td>\n",
       "      <td>NaN</td>\n",
       "      <td>NaN</td>\n",
       "      <td>NaN</td>\n",
       "      <td>431.512913</td>\n",
       "      <td>424.173386</td>\n",
       "      <td>430.453420</td>\n",
       "      <td>Male</td>\n",
       "    </tr>\n",
       "    <tr>\n",
       "      <th>172</th>\n",
       "      <td>Uruguay</td>\n",
       "      <td>NaN</td>\n",
       "      <td>428.391550</td>\n",
       "      <td>433.413827</td>\n",
       "      <td>433.239316</td>\n",
       "      <td>415.353234</td>\n",
       "      <td>425.137938</td>\n",
       "      <td>422.006063</td>\n",
       "      <td>Male</td>\n",
       "    </tr>\n",
       "    <tr>\n",
       "      <th>173</th>\n",
       "      <td>Viet Nam</td>\n",
       "      <td>NaN</td>\n",
       "      <td>NaN</td>\n",
       "      <td>NaN</td>\n",
       "      <td>NaN</td>\n",
       "      <td>516.638996</td>\n",
       "      <td>492.959137</td>\n",
       "      <td>NaN</td>\n",
       "      <td>Male</td>\n",
       "    </tr>\n",
       "  </tbody>\n",
       "</table>\n",
       "<p>174 rows × 9 columns</p>\n",
       "</div>"
      ],
      "text/plain": [
       "                Countries  2000        2003        2006        2009  \\\n",
       "0               Australia   NaN  521.550185  512.532446  509.480661   \n",
       "1                 Austria   NaN  501.816064  493.962184  486.499395   \n",
       "2                 Belgium   NaN  525.370177  516.705868  504.156918   \n",
       "3                  Canada   NaN  529.602413  519.862643  520.832036   \n",
       "4                   Chile   NaN         NaN  396.284317  410.375906   \n",
       "..                    ...   ...         ...         ...         ...   \n",
       "169               Tunisia   NaN  364.906171  373.473916  377.878779   \n",
       "170               Ukraine   NaN         NaN         NaN         NaN   \n",
       "171  United Arab Emirates   NaN         NaN         NaN         NaN   \n",
       "172               Uruguay   NaN  428.391550  433.413827  433.239316   \n",
       "173              Viet Nam   NaN         NaN         NaN         NaN   \n",
       "\n",
       "           2012        2015        2018  gender  \n",
       "0    497.821350  490.985501  488.296647  Female  \n",
       "1    494.462264  483.133026  492.200906  Female  \n",
       "2    508.934612  499.739022  502.046830  Female  \n",
       "3    513.019099  511.141726  509.546253  Female  \n",
       "4    410.543252  413.448981  413.626758  Female  \n",
       "..          ...         ...         ...     ...  \n",
       "169  395.946963  370.081434         NaN    Male  \n",
       "170         NaN         NaN  456.431723    Male  \n",
       "171  431.512913  424.173386  430.453420    Male  \n",
       "172  415.353234  425.137938  422.006063    Male  \n",
       "173  516.638996  492.959137         NaN    Male  \n",
       "\n",
       "[174 rows x 9 columns]"
      ]
     },
     "execution_count": 47,
     "metadata": {},
     "output_type": "execute_result"
    }
   ],
   "source": [
    "math_box = math_F.append(math_M, ignore_index=True)\n",
    "math_box "
   ]
  },
  {
   "cell_type": "code",
   "execution_count": 48,
   "metadata": {},
   "outputs": [
    {
     "name": "stderr",
     "output_type": "stream",
     "text": [
      "/var/folders/hv/08dyyt957zq3n_n6kttfl_180000gn/T/ipykernel_28310/993853883.py:1: FutureWarning:\n",
      "\n",
      "The frame.append method is deprecated and will be removed from pandas in a future version. Use pandas.concat instead.\n",
      "\n"
     ]
    },
    {
     "data": {
      "text/html": [
       "<div>\n",
       "<style scoped>\n",
       "    .dataframe tbody tr th:only-of-type {\n",
       "        vertical-align: middle;\n",
       "    }\n",
       "\n",
       "    .dataframe tbody tr th {\n",
       "        vertical-align: top;\n",
       "    }\n",
       "\n",
       "    .dataframe thead th {\n",
       "        text-align: right;\n",
       "    }\n",
       "</style>\n",
       "<table border=\"1\" class=\"dataframe\">\n",
       "  <thead>\n",
       "    <tr style=\"text-align: right;\">\n",
       "      <th></th>\n",
       "      <th>Countries</th>\n",
       "      <th>2000</th>\n",
       "      <th>2003</th>\n",
       "      <th>2006</th>\n",
       "      <th>2009</th>\n",
       "      <th>2012</th>\n",
       "      <th>2015</th>\n",
       "      <th>2018</th>\n",
       "      <th>gender</th>\n",
       "    </tr>\n",
       "  </thead>\n",
       "  <tbody>\n",
       "    <tr>\n",
       "      <th>0</th>\n",
       "      <td>Australia</td>\n",
       "      <td>NaN</td>\n",
       "      <td>NaN</td>\n",
       "      <td>526.855075</td>\n",
       "      <td>527.721888</td>\n",
       "      <td>519.124475</td>\n",
       "      <td>508.921647</td>\n",
       "      <td>502.168470</td>\n",
       "      <td>Female</td>\n",
       "    </tr>\n",
       "    <tr>\n",
       "      <th>1</th>\n",
       "      <td>Austria</td>\n",
       "      <td>NaN</td>\n",
       "      <td>NaN</td>\n",
       "      <td>507.001603</td>\n",
       "      <td>490.465346</td>\n",
       "      <td>501.478519</td>\n",
       "      <td>485.526754</td>\n",
       "      <td>488.628863</td>\n",
       "      <td>Female</td>\n",
       "    </tr>\n",
       "    <tr>\n",
       "      <th>2</th>\n",
       "      <td>Belgium</td>\n",
       "      <td>NaN</td>\n",
       "      <td>NaN</td>\n",
       "      <td>509.971040</td>\n",
       "      <td>503.285095</td>\n",
       "      <td>502.899901</td>\n",
       "      <td>496.031867</td>\n",
       "      <td>496.370479</td>\n",
       "      <td>Female</td>\n",
       "    </tr>\n",
       "    <tr>\n",
       "      <th>3</th>\n",
       "      <td>Canada</td>\n",
       "      <td>NaN</td>\n",
       "      <td>NaN</td>\n",
       "      <td>532.422819</td>\n",
       "      <td>526.367624</td>\n",
       "      <td>524.036970</td>\n",
       "      <td>527.156185</td>\n",
       "      <td>519.559362</td>\n",
       "      <td>Female</td>\n",
       "    </tr>\n",
       "    <tr>\n",
       "      <th>4</th>\n",
       "      <td>Chile</td>\n",
       "      <td>NaN</td>\n",
       "      <td>NaN</td>\n",
       "      <td>426.488374</td>\n",
       "      <td>442.879332</td>\n",
       "      <td>441.645267</td>\n",
       "      <td>439.617404</td>\n",
       "      <td>441.811226</td>\n",
       "      <td>Female</td>\n",
       "    </tr>\n",
       "    <tr>\n",
       "      <th>...</th>\n",
       "      <td>...</td>\n",
       "      <td>...</td>\n",
       "      <td>...</td>\n",
       "      <td>...</td>\n",
       "      <td>...</td>\n",
       "      <td>...</td>\n",
       "      <td>...</td>\n",
       "      <td>...</td>\n",
       "      <td>...</td>\n",
       "    </tr>\n",
       "    <tr>\n",
       "      <th>169</th>\n",
       "      <td>Tunisia</td>\n",
       "      <td>NaN</td>\n",
       "      <td>NaN</td>\n",
       "      <td>382.992442</td>\n",
       "      <td>400.926228</td>\n",
       "      <td>398.586054</td>\n",
       "      <td>388.473980</td>\n",
       "      <td>NaN</td>\n",
       "      <td>Male</td>\n",
       "    </tr>\n",
       "    <tr>\n",
       "      <th>170</th>\n",
       "      <td>Ukraine</td>\n",
       "      <td>NaN</td>\n",
       "      <td>NaN</td>\n",
       "      <td>NaN</td>\n",
       "      <td>NaN</td>\n",
       "      <td>NaN</td>\n",
       "      <td>NaN</td>\n",
       "      <td>469.812280</td>\n",
       "      <td>Male</td>\n",
       "    </tr>\n",
       "    <tr>\n",
       "      <th>171</th>\n",
       "      <td>United Arab Emirates</td>\n",
       "      <td>NaN</td>\n",
       "      <td>NaN</td>\n",
       "      <td>NaN</td>\n",
       "      <td>NaN</td>\n",
       "      <td>434.132034</td>\n",
       "      <td>423.771051</td>\n",
       "      <td>420.396378</td>\n",
       "      <td>Male</td>\n",
       "    </tr>\n",
       "    <tr>\n",
       "      <th>172</th>\n",
       "      <td>Uruguay</td>\n",
       "      <td>NaN</td>\n",
       "      <td>NaN</td>\n",
       "      <td>426.595786</td>\n",
       "      <td>426.607234</td>\n",
       "      <td>415.270966</td>\n",
       "      <td>439.828514</td>\n",
       "      <td>427.557845</td>\n",
       "      <td>Male</td>\n",
       "    </tr>\n",
       "    <tr>\n",
       "      <th>173</th>\n",
       "      <td>Viet Nam</td>\n",
       "      <td>NaN</td>\n",
       "      <td>NaN</td>\n",
       "      <td>NaN</td>\n",
       "      <td>NaN</td>\n",
       "      <td>528.976475</td>\n",
       "      <td>523.314075</td>\n",
       "      <td>NaN</td>\n",
       "      <td>Male</td>\n",
       "    </tr>\n",
       "  </tbody>\n",
       "</table>\n",
       "<p>174 rows × 9 columns</p>\n",
       "</div>"
      ],
      "text/plain": [
       "                Countries  2000  2003        2006        2009        2012  \\\n",
       "0               Australia   NaN   NaN  526.855075  527.721888  519.124475   \n",
       "1                 Austria   NaN   NaN  507.001603  490.465346  501.478519   \n",
       "2                 Belgium   NaN   NaN  509.971040  503.285095  502.899901   \n",
       "3                  Canada   NaN   NaN  532.422819  526.367624  524.036970   \n",
       "4                   Chile   NaN   NaN  426.488374  442.879332  441.645267   \n",
       "..                    ...   ...   ...         ...         ...         ...   \n",
       "169               Tunisia   NaN   NaN  382.992442  400.926228  398.586054   \n",
       "170               Ukraine   NaN   NaN         NaN         NaN         NaN   \n",
       "171  United Arab Emirates   NaN   NaN         NaN         NaN  434.132034   \n",
       "172               Uruguay   NaN   NaN  426.595786  426.607234  415.270966   \n",
       "173              Viet Nam   NaN   NaN         NaN         NaN  528.976475   \n",
       "\n",
       "           2015        2018  gender  \n",
       "0    508.921647  502.168470  Female  \n",
       "1    485.526754  488.628863  Female  \n",
       "2    496.031867  496.370479  Female  \n",
       "3    527.156185  519.559362  Female  \n",
       "4    439.617404  441.811226  Female  \n",
       "..          ...         ...     ...  \n",
       "169  388.473980         NaN    Male  \n",
       "170         NaN  469.812280    Male  \n",
       "171  423.771051  420.396378    Male  \n",
       "172  439.828514  427.557845    Male  \n",
       "173  523.314075         NaN    Male  \n",
       "\n",
       "[174 rows x 9 columns]"
      ]
     },
     "execution_count": 48,
     "metadata": {},
     "output_type": "execute_result"
    }
   ],
   "source": [
    "sci_box = sci_F.append(sci_M, ignore_index=True)\n",
    "sci_box "
   ]
  },
  {
   "cell_type": "code",
   "execution_count": 49,
   "metadata": {},
   "outputs": [
    {
     "data": {
      "text/html": [
       "<div>\n",
       "<style scoped>\n",
       "    .dataframe tbody tr th:only-of-type {\n",
       "        vertical-align: middle;\n",
       "    }\n",
       "\n",
       "    .dataframe tbody tr th {\n",
       "        vertical-align: top;\n",
       "    }\n",
       "\n",
       "    .dataframe thead th {\n",
       "        text-align: right;\n",
       "    }\n",
       "</style>\n",
       "<table border=\"1\" class=\"dataframe\">\n",
       "  <thead>\n",
       "    <tr style=\"text-align: right;\">\n",
       "      <th></th>\n",
       "      <th>2000</th>\n",
       "      <th>2003</th>\n",
       "      <th>2006</th>\n",
       "      <th>2009</th>\n",
       "      <th>2012</th>\n",
       "      <th>2015</th>\n",
       "      <th>2018</th>\n",
       "      <th>gender</th>\n",
       "    </tr>\n",
       "  </thead>\n",
       "  <tbody>\n",
       "    <tr>\n",
       "      <th>0</th>\n",
       "      <td>546.251223</td>\n",
       "      <td>545.425124</td>\n",
       "      <td>531.754388</td>\n",
       "      <td>532.853721</td>\n",
       "      <td>529.542280</td>\n",
       "      <td>518.865799</td>\n",
       "      <td>518.572084</td>\n",
       "      <td>Female</td>\n",
       "    </tr>\n",
       "    <tr>\n",
       "      <th>1</th>\n",
       "      <td>509.168003</td>\n",
       "      <td>514.353350</td>\n",
       "      <td>512.912207</td>\n",
       "      <td>490.487348</td>\n",
       "      <td>508.021472</td>\n",
       "      <td>495.075190</td>\n",
       "      <td>498.652688</td>\n",
       "      <td>Female</td>\n",
       "    </tr>\n",
       "    <tr>\n",
       "      <th>2</th>\n",
       "      <td>525.208512</td>\n",
       "      <td>526.225709</td>\n",
       "      <td>521.728314</td>\n",
       "      <td>519.806073</td>\n",
       "      <td>524.602442</td>\n",
       "      <td>506.638599</td>\n",
       "      <td>503.687235</td>\n",
       "      <td>Female</td>\n",
       "    </tr>\n",
       "    <tr>\n",
       "      <th>3</th>\n",
       "      <td>551.133144</td>\n",
       "      <td>545.525389</td>\n",
       "      <td>543.043598</td>\n",
       "      <td>541.527233</td>\n",
       "      <td>540.653353</td>\n",
       "      <td>539.762386</td>\n",
       "      <td>534.669187</td>\n",
       "      <td>Female</td>\n",
       "    </tr>\n",
       "    <tr>\n",
       "      <th>4</th>\n",
       "      <td>421.101175</td>\n",
       "      <td>NaN</td>\n",
       "      <td>451.251972</td>\n",
       "      <td>460.620970</td>\n",
       "      <td>452.371146</td>\n",
       "      <td>464.561642</td>\n",
       "      <td>462.302440</td>\n",
       "      <td>Female</td>\n",
       "    </tr>\n",
       "    <tr>\n",
       "      <th>...</th>\n",
       "      <td>...</td>\n",
       "      <td>...</td>\n",
       "      <td>...</td>\n",
       "      <td>...</td>\n",
       "      <td>...</td>\n",
       "      <td>...</td>\n",
       "      <td>...</td>\n",
       "      <td>...</td>\n",
       "    </tr>\n",
       "    <tr>\n",
       "      <th>169</th>\n",
       "      <td>NaN</td>\n",
       "      <td>361.770269</td>\n",
       "      <td>360.653715</td>\n",
       "      <td>387.279323</td>\n",
       "      <td>387.773045</td>\n",
       "      <td>347.603830</td>\n",
       "      <td>NaN</td>\n",
       "      <td>Male</td>\n",
       "    </tr>\n",
       "    <tr>\n",
       "      <th>170</th>\n",
       "      <td>NaN</td>\n",
       "      <td>NaN</td>\n",
       "      <td>NaN</td>\n",
       "      <td>NaN</td>\n",
       "      <td>NaN</td>\n",
       "      <td>NaN</td>\n",
       "      <td>450.098856</td>\n",
       "      <td>Male</td>\n",
       "    </tr>\n",
       "    <tr>\n",
       "      <th>171</th>\n",
       "      <td>NaN</td>\n",
       "      <td>NaN</td>\n",
       "      <td>NaN</td>\n",
       "      <td>NaN</td>\n",
       "      <td>413.456297</td>\n",
       "      <td>408.105328</td>\n",
       "      <td>403.023098</td>\n",
       "      <td>Male</td>\n",
       "    </tr>\n",
       "    <tr>\n",
       "      <th>172</th>\n",
       "      <td>NaN</td>\n",
       "      <td>414.024588</td>\n",
       "      <td>389.398925</td>\n",
       "      <td>403.720364</td>\n",
       "      <td>392.490664</td>\n",
       "      <td>424.296890</td>\n",
       "      <td>415.126906</td>\n",
       "      <td>Male</td>\n",
       "    </tr>\n",
       "    <tr>\n",
       "      <th>173</th>\n",
       "      <td>NaN</td>\n",
       "      <td>NaN</td>\n",
       "      <td>NaN</td>\n",
       "      <td>NaN</td>\n",
       "      <td>491.726521</td>\n",
       "      <td>473.919129</td>\n",
       "      <td>NaN</td>\n",
       "      <td>Male</td>\n",
       "    </tr>\n",
       "  </tbody>\n",
       "</table>\n",
       "<p>174 rows × 8 columns</p>\n",
       "</div>"
      ],
      "text/plain": [
       "           2000        2003        2006        2009        2012        2015  \\\n",
       "0    546.251223  545.425124  531.754388  532.853721  529.542280  518.865799   \n",
       "1    509.168003  514.353350  512.912207  490.487348  508.021472  495.075190   \n",
       "2    525.208512  526.225709  521.728314  519.806073  524.602442  506.638599   \n",
       "3    551.133144  545.525389  543.043598  541.527233  540.653353  539.762386   \n",
       "4    421.101175         NaN  451.251972  460.620970  452.371146  464.561642   \n",
       "..          ...         ...         ...         ...         ...         ...   \n",
       "169         NaN  361.770269  360.653715  387.279323  387.773045  347.603830   \n",
       "170         NaN         NaN         NaN         NaN         NaN         NaN   \n",
       "171         NaN         NaN         NaN         NaN  413.456297  408.105328   \n",
       "172         NaN  414.024588  389.398925  403.720364  392.490664  424.296890   \n",
       "173         NaN         NaN         NaN         NaN  491.726521  473.919129   \n",
       "\n",
       "           2018  gender  \n",
       "0    518.572084  Female  \n",
       "1    498.652688  Female  \n",
       "2    503.687235  Female  \n",
       "3    534.669187  Female  \n",
       "4    462.302440  Female  \n",
       "..          ...     ...  \n",
       "169         NaN    Male  \n",
       "170  450.098856    Male  \n",
       "171  403.023098    Male  \n",
       "172  415.126906    Male  \n",
       "173         NaN    Male  \n",
       "\n",
       "[174 rows x 8 columns]"
      ]
     },
     "execution_count": 49,
     "metadata": {},
     "output_type": "execute_result"
    }
   ],
   "source": [
    "reading_box .drop('Countries', axis=1, inplace=True)\n",
    "reading_box"
   ]
  },
  {
   "cell_type": "code",
   "execution_count": 50,
   "metadata": {},
   "outputs": [],
   "source": [
    "math_box .drop('Countries', axis=1, inplace=True)\n",
    "sci_box .drop('Countries', axis=1, inplace=True)"
   ]
  },
  {
   "cell_type": "code",
   "execution_count": 51,
   "metadata": {},
   "outputs": [
    {
     "data": {
      "text/html": [
       "<div>\n",
       "<style scoped>\n",
       "    .dataframe tbody tr th:only-of-type {\n",
       "        vertical-align: middle;\n",
       "    }\n",
       "\n",
       "    .dataframe tbody tr th {\n",
       "        vertical-align: top;\n",
       "    }\n",
       "\n",
       "    .dataframe thead th {\n",
       "        text-align: right;\n",
       "    }\n",
       "</style>\n",
       "<table border=\"1\" class=\"dataframe\">\n",
       "  <thead>\n",
       "    <tr style=\"text-align: right;\">\n",
       "      <th></th>\n",
       "      <th>gender</th>\n",
       "      <th>Year</th>\n",
       "      <th>avg</th>\n",
       "    </tr>\n",
       "  </thead>\n",
       "  <tbody>\n",
       "    <tr>\n",
       "      <th>0</th>\n",
       "      <td>Female</td>\n",
       "      <td>2000</td>\n",
       "      <td>546.251223</td>\n",
       "    </tr>\n",
       "    <tr>\n",
       "      <th>1</th>\n",
       "      <td>Female</td>\n",
       "      <td>2000</td>\n",
       "      <td>509.168003</td>\n",
       "    </tr>\n",
       "    <tr>\n",
       "      <th>2</th>\n",
       "      <td>Female</td>\n",
       "      <td>2000</td>\n",
       "      <td>525.208512</td>\n",
       "    </tr>\n",
       "    <tr>\n",
       "      <th>3</th>\n",
       "      <td>Female</td>\n",
       "      <td>2000</td>\n",
       "      <td>551.133144</td>\n",
       "    </tr>\n",
       "    <tr>\n",
       "      <th>4</th>\n",
       "      <td>Female</td>\n",
       "      <td>2000</td>\n",
       "      <td>421.101175</td>\n",
       "    </tr>\n",
       "    <tr>\n",
       "      <th>...</th>\n",
       "      <td>...</td>\n",
       "      <td>...</td>\n",
       "      <td>...</td>\n",
       "    </tr>\n",
       "    <tr>\n",
       "      <th>1213</th>\n",
       "      <td>Male</td>\n",
       "      <td>2018</td>\n",
       "      <td>NaN</td>\n",
       "    </tr>\n",
       "    <tr>\n",
       "      <th>1214</th>\n",
       "      <td>Male</td>\n",
       "      <td>2018</td>\n",
       "      <td>450.098856</td>\n",
       "    </tr>\n",
       "    <tr>\n",
       "      <th>1215</th>\n",
       "      <td>Male</td>\n",
       "      <td>2018</td>\n",
       "      <td>403.023098</td>\n",
       "    </tr>\n",
       "    <tr>\n",
       "      <th>1216</th>\n",
       "      <td>Male</td>\n",
       "      <td>2018</td>\n",
       "      <td>415.126906</td>\n",
       "    </tr>\n",
       "    <tr>\n",
       "      <th>1217</th>\n",
       "      <td>Male</td>\n",
       "      <td>2018</td>\n",
       "      <td>NaN</td>\n",
       "    </tr>\n",
       "  </tbody>\n",
       "</table>\n",
       "<p>1218 rows × 3 columns</p>\n",
       "</div>"
      ],
      "text/plain": [
       "      gender  Year         avg\n",
       "0     Female  2000  546.251223\n",
       "1     Female  2000  509.168003\n",
       "2     Female  2000  525.208512\n",
       "3     Female  2000  551.133144\n",
       "4     Female  2000  421.101175\n",
       "...      ...   ...         ...\n",
       "1213    Male  2018         NaN\n",
       "1214    Male  2018  450.098856\n",
       "1215    Male  2018  403.023098\n",
       "1216    Male  2018  415.126906\n",
       "1217    Male  2018         NaN\n",
       "\n",
       "[1218 rows x 3 columns]"
      ]
     },
     "execution_count": 51,
     "metadata": {},
     "output_type": "execute_result"
    }
   ],
   "source": [
    "reading_box2 = reading_box.melt(id_vars=['gender'], value_vars=['2000', '2003','2006','2009','2012','2015','2018'],\n",
    "                 var_name='Year', value_name='avg')\n",
    "reading_box2"
   ]
  },
  {
   "cell_type": "code",
   "execution_count": 52,
   "metadata": {},
   "outputs": [],
   "source": [
    "math_box2 = math_box.melt(id_vars=['gender'], value_vars=['2000', '2003','2006','2009','2012','2015','2018'],\n",
    "                 var_name='Year', value_name='avg')\n",
    "sci_box2 = sci_box.melt(id_vars=['gender'], value_vars=['2000', '2003','2006','2009','2012','2015','2018'],\n",
    "                 var_name='Year', value_name='avg')"
   ]
  },
  {
   "cell_type": "code",
   "execution_count": 78,
   "metadata": {},
   "outputs": [
    {
     "data": {
      "text/html": [
       "<div>\n",
       "<style scoped>\n",
       "    .dataframe tbody tr th:only-of-type {\n",
       "        vertical-align: middle;\n",
       "    }\n",
       "\n",
       "    .dataframe tbody tr th {\n",
       "        vertical-align: top;\n",
       "    }\n",
       "\n",
       "    .dataframe thead th {\n",
       "        text-align: right;\n",
       "    }\n",
       "</style>\n",
       "<table border=\"1\" class=\"dataframe\">\n",
       "  <thead>\n",
       "    <tr style=\"text-align: right;\">\n",
       "      <th></th>\n",
       "      <th>2000</th>\n",
       "      <th>2003</th>\n",
       "      <th>2006</th>\n",
       "      <th>2009</th>\n",
       "      <th>2012</th>\n",
       "      <th>2015</th>\n",
       "      <th>2018</th>\n",
       "      <th>gender</th>\n",
       "    </tr>\n",
       "  </thead>\n",
       "  <tbody>\n",
       "    <tr>\n",
       "      <th>0</th>\n",
       "      <td>546.251223</td>\n",
       "      <td>545.425124</td>\n",
       "      <td>531.754388</td>\n",
       "      <td>532.853721</td>\n",
       "      <td>529.542280</td>\n",
       "      <td>518.865799</td>\n",
       "      <td>518.572084</td>\n",
       "      <td>Female</td>\n",
       "    </tr>\n",
       "    <tr>\n",
       "      <th>1</th>\n",
       "      <td>509.168003</td>\n",
       "      <td>514.353350</td>\n",
       "      <td>512.912207</td>\n",
       "      <td>490.487348</td>\n",
       "      <td>508.021472</td>\n",
       "      <td>495.075190</td>\n",
       "      <td>498.652688</td>\n",
       "      <td>Female</td>\n",
       "    </tr>\n",
       "    <tr>\n",
       "      <th>2</th>\n",
       "      <td>525.208512</td>\n",
       "      <td>526.225709</td>\n",
       "      <td>521.728314</td>\n",
       "      <td>519.806073</td>\n",
       "      <td>524.602442</td>\n",
       "      <td>506.638599</td>\n",
       "      <td>503.687235</td>\n",
       "      <td>Female</td>\n",
       "    </tr>\n",
       "    <tr>\n",
       "      <th>3</th>\n",
       "      <td>551.133144</td>\n",
       "      <td>545.525389</td>\n",
       "      <td>543.043598</td>\n",
       "      <td>541.527233</td>\n",
       "      <td>540.653353</td>\n",
       "      <td>539.762386</td>\n",
       "      <td>534.669187</td>\n",
       "      <td>Female</td>\n",
       "    </tr>\n",
       "    <tr>\n",
       "      <th>4</th>\n",
       "      <td>421.101175</td>\n",
       "      <td>NaN</td>\n",
       "      <td>451.251972</td>\n",
       "      <td>460.620970</td>\n",
       "      <td>452.371146</td>\n",
       "      <td>464.561642</td>\n",
       "      <td>462.302440</td>\n",
       "      <td>Female</td>\n",
       "    </tr>\n",
       "    <tr>\n",
       "      <th>...</th>\n",
       "      <td>...</td>\n",
       "      <td>...</td>\n",
       "      <td>...</td>\n",
       "      <td>...</td>\n",
       "      <td>...</td>\n",
       "      <td>...</td>\n",
       "      <td>...</td>\n",
       "      <td>...</td>\n",
       "    </tr>\n",
       "    <tr>\n",
       "      <th>169</th>\n",
       "      <td>NaN</td>\n",
       "      <td>361.770269</td>\n",
       "      <td>360.653715</td>\n",
       "      <td>387.279323</td>\n",
       "      <td>387.773045</td>\n",
       "      <td>347.603830</td>\n",
       "      <td>NaN</td>\n",
       "      <td>Male</td>\n",
       "    </tr>\n",
       "    <tr>\n",
       "      <th>170</th>\n",
       "      <td>NaN</td>\n",
       "      <td>NaN</td>\n",
       "      <td>NaN</td>\n",
       "      <td>NaN</td>\n",
       "      <td>NaN</td>\n",
       "      <td>NaN</td>\n",
       "      <td>450.098856</td>\n",
       "      <td>Male</td>\n",
       "    </tr>\n",
       "    <tr>\n",
       "      <th>171</th>\n",
       "      <td>NaN</td>\n",
       "      <td>NaN</td>\n",
       "      <td>NaN</td>\n",
       "      <td>NaN</td>\n",
       "      <td>413.456297</td>\n",
       "      <td>408.105328</td>\n",
       "      <td>403.023098</td>\n",
       "      <td>Male</td>\n",
       "    </tr>\n",
       "    <tr>\n",
       "      <th>172</th>\n",
       "      <td>NaN</td>\n",
       "      <td>414.024588</td>\n",
       "      <td>389.398925</td>\n",
       "      <td>403.720364</td>\n",
       "      <td>392.490664</td>\n",
       "      <td>424.296890</td>\n",
       "      <td>415.126906</td>\n",
       "      <td>Male</td>\n",
       "    </tr>\n",
       "    <tr>\n",
       "      <th>173</th>\n",
       "      <td>NaN</td>\n",
       "      <td>NaN</td>\n",
       "      <td>NaN</td>\n",
       "      <td>NaN</td>\n",
       "      <td>491.726521</td>\n",
       "      <td>473.919129</td>\n",
       "      <td>NaN</td>\n",
       "      <td>Male</td>\n",
       "    </tr>\n",
       "  </tbody>\n",
       "</table>\n",
       "<p>174 rows × 8 columns</p>\n",
       "</div>"
      ],
      "text/plain": [
       "           2000        2003        2006        2009        2012        2015  \\\n",
       "0    546.251223  545.425124  531.754388  532.853721  529.542280  518.865799   \n",
       "1    509.168003  514.353350  512.912207  490.487348  508.021472  495.075190   \n",
       "2    525.208512  526.225709  521.728314  519.806073  524.602442  506.638599   \n",
       "3    551.133144  545.525389  543.043598  541.527233  540.653353  539.762386   \n",
       "4    421.101175         NaN  451.251972  460.620970  452.371146  464.561642   \n",
       "..          ...         ...         ...         ...         ...         ...   \n",
       "169         NaN  361.770269  360.653715  387.279323  387.773045  347.603830   \n",
       "170         NaN         NaN         NaN         NaN         NaN         NaN   \n",
       "171         NaN         NaN         NaN         NaN  413.456297  408.105328   \n",
       "172         NaN  414.024588  389.398925  403.720364  392.490664  424.296890   \n",
       "173         NaN         NaN         NaN         NaN  491.726521  473.919129   \n",
       "\n",
       "           2018  gender  \n",
       "0    518.572084  Female  \n",
       "1    498.652688  Female  \n",
       "2    503.687235  Female  \n",
       "3    534.669187  Female  \n",
       "4    462.302440  Female  \n",
       "..          ...     ...  \n",
       "169         NaN    Male  \n",
       "170  450.098856    Male  \n",
       "171  403.023098    Male  \n",
       "172  415.126906    Male  \n",
       "173         NaN    Male  \n",
       "\n",
       "[174 rows x 8 columns]"
      ]
     },
     "execution_count": 78,
     "metadata": {},
     "output_type": "execute_result"
    }
   ],
   "source": [
    "reading_box"
   ]
  },
  {
   "cell_type": "code",
   "execution_count": 53,
   "metadata": {},
   "outputs": [
    {
     "data": {
      "text/html": [
       "<div>\n",
       "<style scoped>\n",
       "    .dataframe tbody tr th:only-of-type {\n",
       "        vertical-align: middle;\n",
       "    }\n",
       "\n",
       "    .dataframe tbody tr th {\n",
       "        vertical-align: top;\n",
       "    }\n",
       "\n",
       "    .dataframe thead th {\n",
       "        text-align: right;\n",
       "    }\n",
       "</style>\n",
       "<table border=\"1\" class=\"dataframe\">\n",
       "  <thead>\n",
       "    <tr style=\"text-align: right;\">\n",
       "      <th></th>\n",
       "      <th>gender</th>\n",
       "      <th>variable</th>\n",
       "      <th>value</th>\n",
       "    </tr>\n",
       "  </thead>\n",
       "  <tbody>\n",
       "    <tr>\n",
       "      <th>0</th>\n",
       "      <td>Female</td>\n",
       "      <td>2000</td>\n",
       "      <td>505.351462</td>\n",
       "    </tr>\n",
       "    <tr>\n",
       "      <th>1</th>\n",
       "      <td>Male</td>\n",
       "      <td>2000</td>\n",
       "      <td>469.204101</td>\n",
       "    </tr>\n",
       "    <tr>\n",
       "      <th>2</th>\n",
       "      <td>Female</td>\n",
       "      <td>2003</td>\n",
       "      <td>509.142767</td>\n",
       "    </tr>\n",
       "    <tr>\n",
       "      <th>3</th>\n",
       "      <td>Male</td>\n",
       "      <td>2003</td>\n",
       "      <td>473.103858</td>\n",
       "    </tr>\n",
       "    <tr>\n",
       "      <th>4</th>\n",
       "      <td>Female</td>\n",
       "      <td>2006</td>\n",
       "      <td>503.390584</td>\n",
       "    </tr>\n",
       "    <tr>\n",
       "      <th>5</th>\n",
       "      <td>Male</td>\n",
       "      <td>2006</td>\n",
       "      <td>461.253924</td>\n",
       "    </tr>\n",
       "    <tr>\n",
       "      <th>6</th>\n",
       "      <td>Female</td>\n",
       "      <td>2009</td>\n",
       "      <td>504.952310</td>\n",
       "    </tr>\n",
       "    <tr>\n",
       "      <th>7</th>\n",
       "      <td>Male</td>\n",
       "      <td>2009</td>\n",
       "      <td>459.369184</td>\n",
       "    </tr>\n",
       "    <tr>\n",
       "      <th>8</th>\n",
       "      <td>Female</td>\n",
       "      <td>2012</td>\n",
       "      <td>507.791786</td>\n",
       "    </tr>\n",
       "    <tr>\n",
       "      <th>9</th>\n",
       "      <td>Male</td>\n",
       "      <td>2012</td>\n",
       "      <td>462.517090</td>\n",
       "    </tr>\n",
       "    <tr>\n",
       "      <th>10</th>\n",
       "      <td>Female</td>\n",
       "      <td>2015</td>\n",
       "      <td>492.138570</td>\n",
       "    </tr>\n",
       "    <tr>\n",
       "      <th>11</th>\n",
       "      <td>Male</td>\n",
       "      <td>2015</td>\n",
       "      <td>463.429404</td>\n",
       "    </tr>\n",
       "    <tr>\n",
       "      <th>12</th>\n",
       "      <td>Female</td>\n",
       "      <td>2018</td>\n",
       "      <td>483.558512</td>\n",
       "    </tr>\n",
       "    <tr>\n",
       "      <th>13</th>\n",
       "      <td>Male</td>\n",
       "      <td>2018</td>\n",
       "      <td>450.098856</td>\n",
       "    </tr>\n",
       "  </tbody>\n",
       "</table>\n",
       "</div>"
      ],
      "text/plain": [
       "    gender variable       value\n",
       "0   Female     2000  505.351462\n",
       "1     Male     2000  469.204101\n",
       "2   Female     2003  509.142767\n",
       "3     Male     2003  473.103858\n",
       "4   Female     2006  503.390584\n",
       "5     Male     2006  461.253924\n",
       "6   Female     2009  504.952310\n",
       "7     Male     2009  459.369184\n",
       "8   Female     2012  507.791786\n",
       "9     Male     2012  462.517090\n",
       "10  Female     2015  492.138570\n",
       "11    Male     2015  463.429404\n",
       "12  Female     2018  483.558512\n",
       "13    Male     2018  450.098856"
      ]
     },
     "execution_count": 53,
     "metadata": {},
     "output_type": "execute_result"
    }
   ],
   "source": [
    "reading_box2_median = reading_box.groupby('gender', as_index=False).median().melt(id_vars='gender')\n",
    "reading_box2_median"
   ]
  },
  {
   "cell_type": "code",
   "execution_count": 54,
   "metadata": {},
   "outputs": [],
   "source": [
    "math_box2_median = math_box.groupby('gender', as_index=False).median().melt(id_vars='gender')\n",
    "sci_box2_median = sci_box.groupby('gender', as_index=False).median().melt(id_vars='gender')"
   ]
  },
  {
   "cell_type": "code",
   "execution_count": 74,
   "metadata": {},
   "outputs": [
    {
     "data": {
      "image/png": "[encoded data removed]",
      "text/plain": [
       "<Figure size 1000x480 with 1 Axes>"
      ]
     },
     "metadata": {},
     "output_type": "display_data"
    }
   ],
   "source": [
    "import seaborn as sns\n",
    "import matplotlib.pyplot as plt\n",
    "\n",
    "ax = sns.boxplot(\n",
    "    data=reading_box2,\n",
    "    x='Year', y='avg', hue='gender',palette={\"Female\": \"#fff7bc\", \"Male\": \"#deebf7\"}\n",
    ")\n",
    "\n",
    "#sns.pointplot(data=reading_box2, x='Year', y='avg', hue='gender', ci=None,\n",
    "              #dodge=.8 - .8 / 3, scale=0.7, color='red')\n",
    "\n",
    "sns.lineplot(data=reading_box2_median, x='variable', y='value', hue='gender', marker='o', ax=ax, linewidth=2.5,legend=False,palette={\"Female\": \"orange\", \"Male\": \"blue\"})\n",
    "plt.gcf().set_size_inches(10, plt.gcf().get_size_inches()[1])\n",
    "#plt.title(\"Female and male trend on reading\")\n",
    "plt.ylabel(\"Average Score\")\n",
    "plt.legend(loc='lower left')\n",
    "plt.savefig('box_gender_reading.png')\n",
    "plt.show()"
   ]
  },
  {
   "cell_type": "code",
   "execution_count": 75,
   "metadata": {},
   "outputs": [
    {
     "data": {
      "image/png": "[encoded data removed]",
      "text/plain": [
       "<Figure size 1000x480 with 1 Axes>"
      ]
     },
     "metadata": {},
     "output_type": "display_data"
    }
   ],
   "source": [
    "ax = sns.boxplot(\n",
    "    data=math_box2,\n",
    "    x='Year', y='avg', hue='gender',palette={\"Female\": \"#fff7bc\", \"Male\": \"#deebf7\"}\n",
    ")\n",
    "\n",
    "#sns.pointplot(data=reading_box2, x='Year', y='avg', hue='gender', ci=None,\n",
    "              #dodge=.8 - .8 / 3, scale=0.7, color='red')\n",
    "\n",
    "sns.lineplot(data=math_box2_median, x='variable', y='value', hue='gender', marker='o', linewidth=2.5,ax=ax, legend=False,palette={\"Female\": \"orange\", \"Male\": \"blue\"})\n",
    "#plt.title(\"Female and male trend on math\")\n",
    "plt.gcf().set_size_inches(10, plt.gcf().get_size_inches()[1])\n",
    "plt.ylabel(\"Average Score\")\n",
    "plt.legend(loc='lower left')\n",
    "plt.savefig('box_gender_math.png')\n",
    "plt.show()"
   ]
  },
  {
   "cell_type": "code",
   "execution_count": 76,
   "metadata": {},
   "outputs": [
    {
     "data": {
      "image/png": "[encoded data removed]",
      "text/plain": [
       "<Figure size 1000x480 with 1 Axes>"
      ]
     },
     "metadata": {},
     "output_type": "display_data"
    }
   ],
   "source": [
    "ax = sns.boxplot(\n",
    "    data=sci_box2,\n",
    "    x='Year', y='avg', hue='gender',palette={\"Female\": \"#fff7bc\", \"Male\": \"#deebf7\"}\n",
    ")\n",
    "\n",
    "#sns.pointplot(data=reading_box2, x='Year', y='avg', hue='gender', ci=None,\n",
    "              #dodge=.8 - .8 / 3, scale=0.7, color='red')\n",
    "\n",
    "sns.lineplot(data=sci_box2_median, x='variable', y='value', hue='gender',  linewidth=2.5,marker='o', ax=ax, legend=False,palette={\"Female\": \"orange\", \"Male\": \"blue\"})\n",
    "#plt.title(\"Female and male trend on science\")\n",
    "plt.gcf().set_size_inches(10, plt.gcf().get_size_inches()[1])\n",
    "plt.ylabel(\"Average Score\")\n",
    "plt.legend(loc='lower left')\n",
    "plt.savefig('box_gender_sci.png')\n",
    "plt.show()"
   ]
  },
  {
   "cell_type": "code",
   "execution_count": 148,
   "metadata": {},
   "outputs": [],
   "source": [
    "readingg[\"2000gap\"] = readingg[\"F2000\"] - readingg[\"M2000\"]\n",
    "readingg[\"2003gap\"] = readingg[\"F2003\"] - readingg[\"M2003\"]\n",
    "readingg[\"2006gap\"] = readingg[\"F2006\"] - readingg[\"M2006\"]\n",
    "readingg[\"2009gap\"] = readingg[\"F2009\"] - readingg[\"M2009\"]\n",
    "readingg[\"2012gap\"] = readingg[\"F2012\"] - readingg[\"M2012\"]\n",
    "readingg[\"2015gap\"] = readingg[\"F2015\"] - readingg[\"M2015\"]\n",
    "readingg[\"2018gap\"] = readingg[\"F2018\"] - readingg[\"M2018\"]"
   ]
  },
  {
   "cell_type": "code",
   "execution_count": 155,
   "metadata": {},
   "outputs": [
    {
     "name": "stderr",
     "output_type": "stream",
     "text": [
      "/var/folders/hv/08dyyt957zq3n_n6kttfl_180000gn/T/ipykernel_79520/2022133819.py:2: SettingWithCopyWarning:\n",
      "\n",
      "\n",
      "A value is trying to be set on a copy of a slice from a DataFrame\n",
      "\n",
      "See the caveats in the documentation: https://pandas.pydata.org/pandas-docs/stable/user_guide/indexing.html#returning-a-view-versus-a-copy\n",
      "\n"
     ]
    }
   ],
   "source": [
    "reading_gap = readingg[[\"Countries\",\"2000gap\", \"2003gap\",\"2006gap\",\"2009gap\",\"2012gap\",\"2015gap\",\"2018gap\"]]\n",
    "reading_gap.rename({\"2000gap\":\"2000\",\"2003gap\": \"2003\", \"2006gap\": \"2006\", \"2009gap\": \"2009\",\"2012gap\": \"2012\",\"2015gap\": \"2015\",\"2018gap\": \"2018\"}, axis=1, inplace=True)"
   ]
  },
  {
   "cell_type": "code",
   "execution_count": 156,
   "metadata": {},
   "outputs": [
    {
     "data": {
      "text/html": [
       "<div>\n",
       "<style scoped>\n",
       "    .dataframe tbody tr th:only-of-type {\n",
       "        vertical-align: middle;\n",
       "    }\n",
       "\n",
       "    .dataframe tbody tr th {\n",
       "        vertical-align: top;\n",
       "    }\n",
       "\n",
       "    .dataframe thead th {\n",
       "        text-align: right;\n",
       "    }\n",
       "</style>\n",
       "<table border=\"1\" class=\"dataframe\">\n",
       "  <thead>\n",
       "    <tr style=\"text-align: right;\">\n",
       "      <th></th>\n",
       "      <th>Countries</th>\n",
       "      <th>2000</th>\n",
       "      <th>2003</th>\n",
       "      <th>2006</th>\n",
       "      <th>2009</th>\n",
       "      <th>2012</th>\n",
       "      <th>2015</th>\n",
       "      <th>2018</th>\n",
       "    </tr>\n",
       "  </thead>\n",
       "  <tbody>\n",
       "    <tr>\n",
       "      <th>0</th>\n",
       "      <td>Australia</td>\n",
       "      <td>33.605752</td>\n",
       "      <td>39.339428</td>\n",
       "      <td>36.881524</td>\n",
       "      <td>36.709731</td>\n",
       "      <td>34.452721</td>\n",
       "      <td>31.680273</td>\n",
       "      <td>31.362418</td>\n",
       "    </tr>\n",
       "    <tr>\n",
       "      <th>1</th>\n",
       "      <td>Austria</td>\n",
       "      <td>33.397293</td>\n",
       "      <td>47.221588</td>\n",
       "      <td>44.600519</td>\n",
       "      <td>41.191518</td>\n",
       "      <td>36.928334</td>\n",
       "      <td>20.229158</td>\n",
       "      <td>28.096851</td>\n",
       "    </tr>\n",
       "    <tr>\n",
       "      <th>2</th>\n",
       "      <td>Belgium</td>\n",
       "      <td>32.813770</td>\n",
       "      <td>36.899142</td>\n",
       "      <td>39.731118</td>\n",
       "      <td>27.132441</td>\n",
       "      <td>31.847218</td>\n",
       "      <td>15.974444</td>\n",
       "      <td>21.713540</td>\n",
       "    </tr>\n",
       "    <tr>\n",
       "      <th>3</th>\n",
       "      <td>Canada</td>\n",
       "      <td>32.210380</td>\n",
       "      <td>31.527886</td>\n",
       "      <td>31.901149</td>\n",
       "      <td>34.345033</td>\n",
       "      <td>35.123143</td>\n",
       "      <td>26.226927</td>\n",
       "      <td>28.942322</td>\n",
       "    </tr>\n",
       "    <tr>\n",
       "      <th>4</th>\n",
       "      <td>Chile</td>\n",
       "      <td>24.607198</td>\n",
       "      <td>NaN</td>\n",
       "      <td>16.961364</td>\n",
       "      <td>22.068517</td>\n",
       "      <td>22.674973</td>\n",
       "      <td>11.919400</td>\n",
       "      <td>19.808843</td>\n",
       "    </tr>\n",
       "    <tr>\n",
       "      <th>...</th>\n",
       "      <td>...</td>\n",
       "      <td>...</td>\n",
       "      <td>...</td>\n",
       "      <td>...</td>\n",
       "      <td>...</td>\n",
       "      <td>...</td>\n",
       "      <td>...</td>\n",
       "      <td>...</td>\n",
       "    </tr>\n",
       "    <tr>\n",
       "      <th>82</th>\n",
       "      <td>Tunisia</td>\n",
       "      <td>NaN</td>\n",
       "      <td>25.332942</td>\n",
       "      <td>37.693877</td>\n",
       "      <td>31.190241</td>\n",
       "      <td>30.551315</td>\n",
       "      <td>25.068722</td>\n",
       "      <td>NaN</td>\n",
       "    </tr>\n",
       "    <tr>\n",
       "      <th>83</th>\n",
       "      <td>Ukraine</td>\n",
       "      <td>NaN</td>\n",
       "      <td>NaN</td>\n",
       "      <td>NaN</td>\n",
       "      <td>NaN</td>\n",
       "      <td>NaN</td>\n",
       "      <td>NaN</td>\n",
       "      <td>33.459656</td>\n",
       "    </tr>\n",
       "    <tr>\n",
       "      <th>84</th>\n",
       "      <td>United Arab Emirates</td>\n",
       "      <td>NaN</td>\n",
       "      <td>NaN</td>\n",
       "      <td>NaN</td>\n",
       "      <td>NaN</td>\n",
       "      <td>55.328956</td>\n",
       "      <td>50.181702</td>\n",
       "      <td>56.744184</td>\n",
       "    </tr>\n",
       "    <tr>\n",
       "      <th>85</th>\n",
       "      <td>Uruguay</td>\n",
       "      <td>NaN</td>\n",
       "      <td>39.293727</td>\n",
       "      <td>45.179290</td>\n",
       "      <td>41.704235</td>\n",
       "      <td>35.489849</td>\n",
       "      <td>23.422716</td>\n",
       "      <td>22.998183</td>\n",
       "    </tr>\n",
       "    <tr>\n",
       "      <th>86</th>\n",
       "      <td>Viet Nam</td>\n",
       "      <td>NaN</td>\n",
       "      <td>NaN</td>\n",
       "      <td>NaN</td>\n",
       "      <td>NaN</td>\n",
       "      <td>30.803370</td>\n",
       "      <td>25.119459</td>\n",
       "      <td>NaN</td>\n",
       "    </tr>\n",
       "  </tbody>\n",
       "</table>\n",
       "<p>87 rows × 8 columns</p>\n",
       "</div>"
      ],
      "text/plain": [
       "               Countries       2000       2003       2006       2009  \\\n",
       "0              Australia  33.605752  39.339428  36.881524  36.709731   \n",
       "1                Austria  33.397293  47.221588  44.600519  41.191518   \n",
       "2                Belgium  32.813770  36.899142  39.731118  27.132441   \n",
       "3                 Canada  32.210380  31.527886  31.901149  34.345033   \n",
       "4                  Chile  24.607198        NaN  16.961364  22.068517   \n",
       "..                   ...        ...        ...        ...        ...   \n",
       "82               Tunisia        NaN  25.332942  37.693877  31.190241   \n",
       "83               Ukraine        NaN        NaN        NaN        NaN   \n",
       "84  United Arab Emirates        NaN        NaN        NaN        NaN   \n",
       "85               Uruguay        NaN  39.293727  45.179290  41.704235   \n",
       "86              Viet Nam        NaN        NaN        NaN        NaN   \n",
       "\n",
       "         2012       2015       2018  \n",
       "0   34.452721  31.680273  31.362418  \n",
       "1   36.928334  20.229158  28.096851  \n",
       "2   31.847218  15.974444  21.713540  \n",
       "3   35.123143  26.226927  28.942322  \n",
       "4   22.674973  11.919400  19.808843  \n",
       "..        ...        ...        ...  \n",
       "82  30.551315  25.068722        NaN  \n",
       "83        NaN        NaN  33.459656  \n",
       "84  55.328956  50.181702  56.744184  \n",
       "85  35.489849  23.422716  22.998183  \n",
       "86  30.803370  25.119459        NaN  \n",
       "\n",
       "[87 rows x 8 columns]"
      ]
     },
     "execution_count": 156,
     "metadata": {},
     "output_type": "execute_result"
    }
   ],
   "source": [
    "reading_gap"
   ]
  },
  {
   "cell_type": "code",
   "execution_count": 157,
   "metadata": {},
   "outputs": [],
   "source": [
    "import openpyxl"
   ]
  },
  {
   "cell_type": "code",
   "execution_count": 158,
   "metadata": {},
   "outputs": [],
   "source": [
    "reading_gap.to_excel('../data/gender_gap.xlsx', sheet_name='Reading')"
   ]
  },
  {
   "cell_type": "code",
   "execution_count": 159,
   "metadata": {},
   "outputs": [
    {
     "name": "stderr",
     "output_type": "stream",
     "text": [
      "/var/folders/hv/08dyyt957zq3n_n6kttfl_180000gn/T/ipykernel_79520/238182093.py:10: SettingWithCopyWarning:\n",
      "\n",
      "\n",
      "A value is trying to be set on a copy of a slice from a DataFrame\n",
      "\n",
      "See the caveats in the documentation: https://pandas.pydata.org/pandas-docs/stable/user_guide/indexing.html#returning-a-view-versus-a-copy\n",
      "\n"
     ]
    },
    {
     "data": {
      "text/html": [
       "<div>\n",
       "<style scoped>\n",
       "    .dataframe tbody tr th:only-of-type {\n",
       "        vertical-align: middle;\n",
       "    }\n",
       "\n",
       "    .dataframe tbody tr th {\n",
       "        vertical-align: top;\n",
       "    }\n",
       "\n",
       "    .dataframe thead th {\n",
       "        text-align: right;\n",
       "    }\n",
       "</style>\n",
       "<table border=\"1\" class=\"dataframe\">\n",
       "  <thead>\n",
       "    <tr style=\"text-align: right;\">\n",
       "      <th></th>\n",
       "      <th>Countries</th>\n",
       "      <th>2000</th>\n",
       "      <th>2003</th>\n",
       "      <th>2006</th>\n",
       "      <th>2009</th>\n",
       "      <th>2012</th>\n",
       "      <th>2015</th>\n",
       "      <th>2018</th>\n",
       "    </tr>\n",
       "  </thead>\n",
       "  <tbody>\n",
       "    <tr>\n",
       "      <th>0</th>\n",
       "      <td>Australia</td>\n",
       "      <td>NaN</td>\n",
       "      <td>-5.342441</td>\n",
       "      <td>-14.421875</td>\n",
       "      <td>-9.937134</td>\n",
       "      <td>-12.293501</td>\n",
       "      <td>-5.775845</td>\n",
       "      <td>-6.027150</td>\n",
       "    </tr>\n",
       "    <tr>\n",
       "      <th>1</th>\n",
       "      <td>Austria</td>\n",
       "      <td>NaN</td>\n",
       "      <td>-7.574019</td>\n",
       "      <td>-22.618887</td>\n",
       "      <td>-19.183684</td>\n",
       "      <td>-22.219569</td>\n",
       "      <td>-26.965191</td>\n",
       "      <td>-13.282660</td>\n",
       "    </tr>\n",
       "    <tr>\n",
       "      <th>2</th>\n",
       "      <td>Belgium</td>\n",
       "      <td>NaN</td>\n",
       "      <td>-7.511330</td>\n",
       "      <td>-6.949615</td>\n",
       "      <td>-21.759077</td>\n",
       "      <td>-11.146596</td>\n",
       "      <td>-14.263549</td>\n",
       "      <td>-12.084770</td>\n",
       "    </tr>\n",
       "    <tr>\n",
       "      <th>3</th>\n",
       "      <td>Canada</td>\n",
       "      <td>NaN</td>\n",
       "      <td>-11.171821</td>\n",
       "      <td>-14.216231</td>\n",
       "      <td>-11.868219</td>\n",
       "      <td>-10.121171</td>\n",
       "      <td>-9.024400</td>\n",
       "      <td>-4.904765</td>\n",
       "    </tr>\n",
       "    <tr>\n",
       "      <th>4</th>\n",
       "      <td>Chile</td>\n",
       "      <td>NaN</td>\n",
       "      <td>NaN</td>\n",
       "      <td>-27.895502</td>\n",
       "      <td>-20.956800</td>\n",
       "      <td>-24.981366</td>\n",
       "      <td>-18.349106</td>\n",
       "      <td>-7.465034</td>\n",
       "    </tr>\n",
       "    <tr>\n",
       "      <th>...</th>\n",
       "      <td>...</td>\n",
       "      <td>...</td>\n",
       "      <td>...</td>\n",
       "      <td>...</td>\n",
       "      <td>...</td>\n",
       "      <td>...</td>\n",
       "      <td>...</td>\n",
       "      <td>...</td>\n",
       "    </tr>\n",
       "    <tr>\n",
       "      <th>82</th>\n",
       "      <td>Tunisia</td>\n",
       "      <td>NaN</td>\n",
       "      <td>-12.167545</td>\n",
       "      <td>-15.309835</td>\n",
       "      <td>-12.197526</td>\n",
       "      <td>-15.218738</td>\n",
       "      <td>-6.081806</td>\n",
       "      <td>NaN</td>\n",
       "    </tr>\n",
       "    <tr>\n",
       "      <th>83</th>\n",
       "      <td>Ukraine</td>\n",
       "      <td>NaN</td>\n",
       "      <td>NaN</td>\n",
       "      <td>NaN</td>\n",
       "      <td>NaN</td>\n",
       "      <td>NaN</td>\n",
       "      <td>NaN</td>\n",
       "      <td>-6.995822</td>\n",
       "    </tr>\n",
       "    <tr>\n",
       "      <th>84</th>\n",
       "      <td>United Arab Emirates</td>\n",
       "      <td>NaN</td>\n",
       "      <td>NaN</td>\n",
       "      <td>NaN</td>\n",
       "      <td>NaN</td>\n",
       "      <td>4.885553</td>\n",
       "      <td>6.528648</td>\n",
       "      <td>8.866849</td>\n",
       "    </tr>\n",
       "    <tr>\n",
       "      <th>85</th>\n",
       "      <td>Uruguay</td>\n",
       "      <td>NaN</td>\n",
       "      <td>-12.089031</td>\n",
       "      <td>-12.927321</td>\n",
       "      <td>-12.299182</td>\n",
       "      <td>-11.407610</td>\n",
       "      <td>-13.635579</td>\n",
       "      <td>-8.332645</td>\n",
       "    </tr>\n",
       "    <tr>\n",
       "      <th>86</th>\n",
       "      <td>Viet Nam</td>\n",
       "      <td>NaN</td>\n",
       "      <td>NaN</td>\n",
       "      <td>NaN</td>\n",
       "      <td>NaN</td>\n",
       "      <td>-9.900407</td>\n",
       "      <td>3.046809</td>\n",
       "      <td>NaN</td>\n",
       "    </tr>\n",
       "  </tbody>\n",
       "</table>\n",
       "<p>87 rows × 8 columns</p>\n",
       "</div>"
      ],
      "text/plain": [
       "               Countries  2000       2003       2006       2009       2012  \\\n",
       "0              Australia   NaN  -5.342441 -14.421875  -9.937134 -12.293501   \n",
       "1                Austria   NaN  -7.574019 -22.618887 -19.183684 -22.219569   \n",
       "2                Belgium   NaN  -7.511330  -6.949615 -21.759077 -11.146596   \n",
       "3                 Canada   NaN -11.171821 -14.216231 -11.868219 -10.121171   \n",
       "4                  Chile   NaN        NaN -27.895502 -20.956800 -24.981366   \n",
       "..                   ...   ...        ...        ...        ...        ...   \n",
       "82               Tunisia   NaN -12.167545 -15.309835 -12.197526 -15.218738   \n",
       "83               Ukraine   NaN        NaN        NaN        NaN        NaN   \n",
       "84  United Arab Emirates   NaN        NaN        NaN        NaN   4.885553   \n",
       "85               Uruguay   NaN -12.089031 -12.927321 -12.299182 -11.407610   \n",
       "86              Viet Nam   NaN        NaN        NaN        NaN  -9.900407   \n",
       "\n",
       "         2015       2018  \n",
       "0   -5.775845  -6.027150  \n",
       "1  -26.965191 -13.282660  \n",
       "2  -14.263549 -12.084770  \n",
       "3   -9.024400  -4.904765  \n",
       "4  -18.349106  -7.465034  \n",
       "..        ...        ...  \n",
       "82  -6.081806        NaN  \n",
       "83        NaN  -6.995822  \n",
       "84   6.528648   8.866849  \n",
       "85 -13.635579  -8.332645  \n",
       "86   3.046809        NaN  \n",
       "\n",
       "[87 rows x 8 columns]"
      ]
     },
     "execution_count": 159,
     "metadata": {},
     "output_type": "execute_result"
    }
   ],
   "source": [
    "mathg[\"2000gap\"] = mathg[\"F2000\"] - mathg[\"M2000\"]\n",
    "mathg[\"2003gap\"] = mathg[\"F2003\"] - mathg[\"M2003\"]\n",
    "mathg[\"2006gap\"] = mathg[\"F2006\"] - mathg[\"M2006\"]\n",
    "mathg[\"2009gap\"] = mathg[\"F2009\"] - mathg[\"M2009\"]\n",
    "mathg[\"2012gap\"] = mathg[\"F2012\"] - mathg[\"M2012\"]\n",
    "mathg[\"2015gap\"] = mathg[\"F2015\"] - mathg[\"M2015\"]\n",
    "mathg[\"2018gap\"] = mathg[\"F2018\"] - mathg[\"M2018\"]\n",
    "\n",
    "math_gap = mathg[[\"Countries\",\"2000gap\", \"2003gap\",\"2006gap\",\"2009gap\",\"2012gap\",\"2015gap\",\"2018gap\"]]\n",
    "math_gap.rename({\"2000gap\":\"2000\",\"2003gap\": \"2003\", \"2006gap\": \"2006\", \"2009gap\": \"2009\",\"2012gap\": \"2012\",\"2015gap\": \"2015\",\"2018gap\": \"2018\"}, axis=1, inplace=True)\n",
    "\n",
    "math_gap"
   ]
  },
  {
   "cell_type": "code",
   "execution_count": 160,
   "metadata": {},
   "outputs": [
    {
     "name": "stderr",
     "output_type": "stream",
     "text": [
      "/var/folders/hv/08dyyt957zq3n_n6kttfl_180000gn/T/ipykernel_79520/2779712442.py:10: SettingWithCopyWarning:\n",
      "\n",
      "\n",
      "A value is trying to be set on a copy of a slice from a DataFrame\n",
      "\n",
      "See the caveats in the documentation: https://pandas.pydata.org/pandas-docs/stable/user_guide/indexing.html#returning-a-view-versus-a-copy\n",
      "\n"
     ]
    },
    {
     "data": {
      "text/html": [
       "<div>\n",
       "<style scoped>\n",
       "    .dataframe tbody tr th:only-of-type {\n",
       "        vertical-align: middle;\n",
       "    }\n",
       "\n",
       "    .dataframe tbody tr th {\n",
       "        vertical-align: top;\n",
       "    }\n",
       "\n",
       "    .dataframe thead th {\n",
       "        text-align: right;\n",
       "    }\n",
       "</style>\n",
       "<table border=\"1\" class=\"dataframe\">\n",
       "  <thead>\n",
       "    <tr style=\"text-align: right;\">\n",
       "      <th></th>\n",
       "      <th>Countries</th>\n",
       "      <th>2000</th>\n",
       "      <th>2003</th>\n",
       "      <th>2006</th>\n",
       "      <th>2009</th>\n",
       "      <th>2012</th>\n",
       "      <th>2015</th>\n",
       "      <th>2018</th>\n",
       "    </tr>\n",
       "  </thead>\n",
       "  <tbody>\n",
       "    <tr>\n",
       "      <th>0</th>\n",
       "      <td>Australia</td>\n",
       "      <td>NaN</td>\n",
       "      <td>NaN</td>\n",
       "      <td>-0.047936</td>\n",
       "      <td>0.922912</td>\n",
       "      <td>-4.603734</td>\n",
       "      <td>-2.127611</td>\n",
       "      <td>-1.566300</td>\n",
       "    </tr>\n",
       "    <tr>\n",
       "      <th>1</th>\n",
       "      <td>Austria</td>\n",
       "      <td>NaN</td>\n",
       "      <td>NaN</td>\n",
       "      <td>-7.529971</td>\n",
       "      <td>-7.874548</td>\n",
       "      <td>-8.629776</td>\n",
       "      <td>-18.844444</td>\n",
       "      <td>-2.268962</td>\n",
       "    </tr>\n",
       "    <tr>\n",
       "      <th>2</th>\n",
       "      <td>Belgium</td>\n",
       "      <td>NaN</td>\n",
       "      <td>NaN</td>\n",
       "      <td>-0.748629</td>\n",
       "      <td>-6.441243</td>\n",
       "      <td>-3.920498</td>\n",
       "      <td>-11.748609</td>\n",
       "      <td>-4.820381</td>\n",
       "    </tr>\n",
       "    <tr>\n",
       "      <th>3</th>\n",
       "      <td>Canada</td>\n",
       "      <td>NaN</td>\n",
       "      <td>NaN</td>\n",
       "      <td>-4.073047</td>\n",
       "      <td>-4.644130</td>\n",
       "      <td>-2.813810</td>\n",
       "      <td>-1.098581</td>\n",
       "      <td>3.098890</td>\n",
       "    </tr>\n",
       "    <tr>\n",
       "      <th>4</th>\n",
       "      <td>Chile</td>\n",
       "      <td>NaN</td>\n",
       "      <td>NaN</td>\n",
       "      <td>-21.642909</td>\n",
       "      <td>-8.998997</td>\n",
       "      <td>-6.795795</td>\n",
       "      <td>-14.601214</td>\n",
       "      <td>-3.498360</td>\n",
       "    </tr>\n",
       "    <tr>\n",
       "      <th>...</th>\n",
       "      <td>...</td>\n",
       "      <td>...</td>\n",
       "      <td>...</td>\n",
       "      <td>...</td>\n",
       "      <td>...</td>\n",
       "      <td>...</td>\n",
       "      <td>...</td>\n",
       "      <td>...</td>\n",
       "    </tr>\n",
       "    <tr>\n",
       "      <th>82</th>\n",
       "      <td>Tunisia</td>\n",
       "      <td>NaN</td>\n",
       "      <td>NaN</td>\n",
       "      <td>4.814921</td>\n",
       "      <td>-0.504938</td>\n",
       "      <td>-1.011049</td>\n",
       "      <td>-3.858822</td>\n",
       "      <td>NaN</td>\n",
       "    </tr>\n",
       "    <tr>\n",
       "      <th>83</th>\n",
       "      <td>Ukraine</td>\n",
       "      <td>NaN</td>\n",
       "      <td>NaN</td>\n",
       "      <td>NaN</td>\n",
       "      <td>NaN</td>\n",
       "      <td>NaN</td>\n",
       "      <td>NaN</td>\n",
       "      <td>-1.740472</td>\n",
       "    </tr>\n",
       "    <tr>\n",
       "      <th>84</th>\n",
       "      <td>United Arab Emirates</td>\n",
       "      <td>NaN</td>\n",
       "      <td>NaN</td>\n",
       "      <td>NaN</td>\n",
       "      <td>NaN</td>\n",
       "      <td>27.888838</td>\n",
       "      <td>25.567508</td>\n",
       "      <td>26.124890</td>\n",
       "    </tr>\n",
       "    <tr>\n",
       "      <th>85</th>\n",
       "      <td>Uruguay</td>\n",
       "      <td>NaN</td>\n",
       "      <td>NaN</td>\n",
       "      <td>3.005918</td>\n",
       "      <td>1.145844</td>\n",
       "      <td>1.076405</td>\n",
       "      <td>-8.520849</td>\n",
       "      <td>-3.347233</td>\n",
       "    </tr>\n",
       "    <tr>\n",
       "      <th>86</th>\n",
       "      <td>Viet Nam</td>\n",
       "      <td>NaN</td>\n",
       "      <td>NaN</td>\n",
       "      <td>NaN</td>\n",
       "      <td>NaN</td>\n",
       "      <td>-1.033249</td>\n",
       "      <td>2.599844</td>\n",
       "      <td>NaN</td>\n",
       "    </tr>\n",
       "  </tbody>\n",
       "</table>\n",
       "<p>87 rows × 8 columns</p>\n",
       "</div>"
      ],
      "text/plain": [
       "               Countries  2000  2003       2006      2009       2012  \\\n",
       "0              Australia   NaN   NaN  -0.047936  0.922912  -4.603734   \n",
       "1                Austria   NaN   NaN  -7.529971 -7.874548  -8.629776   \n",
       "2                Belgium   NaN   NaN  -0.748629 -6.441243  -3.920498   \n",
       "3                 Canada   NaN   NaN  -4.073047 -4.644130  -2.813810   \n",
       "4                  Chile   NaN   NaN -21.642909 -8.998997  -6.795795   \n",
       "..                   ...   ...   ...        ...       ...        ...   \n",
       "82               Tunisia   NaN   NaN   4.814921 -0.504938  -1.011049   \n",
       "83               Ukraine   NaN   NaN        NaN       NaN        NaN   \n",
       "84  United Arab Emirates   NaN   NaN        NaN       NaN  27.888838   \n",
       "85               Uruguay   NaN   NaN   3.005918  1.145844   1.076405   \n",
       "86              Viet Nam   NaN   NaN        NaN       NaN  -1.033249   \n",
       "\n",
       "         2015       2018  \n",
       "0   -2.127611  -1.566300  \n",
       "1  -18.844444  -2.268962  \n",
       "2  -11.748609  -4.820381  \n",
       "3   -1.098581   3.098890  \n",
       "4  -14.601214  -3.498360  \n",
       "..        ...        ...  \n",
       "82  -3.858822        NaN  \n",
       "83        NaN  -1.740472  \n",
       "84  25.567508  26.124890  \n",
       "85  -8.520849  -3.347233  \n",
       "86   2.599844        NaN  \n",
       "\n",
       "[87 rows x 8 columns]"
      ]
     },
     "execution_count": 160,
     "metadata": {},
     "output_type": "execute_result"
    }
   ],
   "source": [
    "scig[\"2000gap\"] = scig[\"F2000\"] - scig[\"M2000\"]\n",
    "scig[\"2003gap\"] = scig[\"F2003\"] - scig[\"M2003\"]\n",
    "scig[\"2006gap\"] = scig[\"F2006\"] - scig[\"M2006\"]\n",
    "scig[\"2009gap\"] = scig[\"F2009\"] - scig[\"M2009\"]\n",
    "scig[\"2012gap\"] = scig[\"F2012\"] - scig[\"M2012\"]\n",
    "scig[\"2015gap\"] = scig[\"F2015\"] - scig[\"M2015\"]\n",
    "scig[\"2018gap\"] = scig[\"F2018\"] - scig[\"M2018\"]\n",
    "\n",
    "sci_gap = scig[[\"Countries\",\"2000gap\", \"2003gap\",\"2006gap\",\"2009gap\",\"2012gap\",\"2015gap\",\"2018gap\"]]\n",
    "sci_gap.rename({\"2000gap\":\"2000\",\"2003gap\": \"2003\", \"2006gap\": \"2006\", \"2009gap\": \"2009\",\"2012gap\": \"2012\",\"2015gap\": \"2015\",\"2018gap\": \"2018\"}, axis=1, inplace=True)\n",
    "\n",
    "sci_gap"
   ]
  },
  {
   "cell_type": "code",
   "execution_count": 161,
   "metadata": {},
   "outputs": [
    {
     "name": "stderr",
     "output_type": "stream",
     "text": [
      "/var/folders/hv/08dyyt957zq3n_n6kttfl_180000gn/T/ipykernel_79520/1927272842.py:7: FutureWarning:\n",
      "\n",
      "Setting the `book` attribute is not part of the public API, usage can give unexpected or corrupted results and will be removed in a future version\n",
      "\n",
      "/var/folders/hv/08dyyt957zq3n_n6kttfl_180000gn/T/ipykernel_79520/1927272842.py:11: FutureWarning:\n",
      "\n",
      "save is not part of the public API, usage can give unexpected results and will be removed in a future version\n",
      "\n"
     ]
    }
   ],
   "source": [
    "from openpyxl import load_workbook\n",
    "\n",
    "ExcelWorkbook = load_workbook('../data/gender_gap.xlsx')\n",
    "\n",
    "writer = pd.ExcelWriter('../data/gender_gap.xlsx', engine = 'openpyxl')\n",
    "\n",
    "writer.book = ExcelWorkbook\n",
    "\n",
    "math_gap.to_excel(writer, sheet_name = 'Math')\n",
    "sci_gap.to_excel(writer, sheet_name = 'Science')\n",
    "writer.save()\n",
    "writer.close()"
   ]
  }
 ],
 "metadata": {
  "kernelspec": {
   "display_name": "Python 3",
   "language": "python",
   "name": "python3"
  },
  "language_info": {
   "codemirror_mode": {
    "name": "ipython",
    "version": 3
   },
   "file_extension": ".py",
   "mimetype": "text/x-python",
   "name": "python",
   "nbconvert_exporter": "python",
   "pygments_lexer": "ipython3",
   "version": "3.10.8"
  },
  "orig_nbformat": 4
 },
 "nbformat": 4,
 "nbformat_minor": 2
}
